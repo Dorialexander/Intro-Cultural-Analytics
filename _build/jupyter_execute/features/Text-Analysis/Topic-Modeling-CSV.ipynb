{
 "cells": [
  {
   "cell_type": "markdown",
   "metadata": {},
   "source": [
    "# Topic Modeling — CSV Files"
   ]
  },
  {
   "cell_type": "markdown",
   "metadata": {},
   "source": [
    "In these lessons, we're learning about a text analysis method called *topic modeling*. This method will help us identify the main topics or discourses within a collection of texts a single text that has been separated into smaller text chunks."
   ]
  },
  {
   "cell_type": "markdown",
   "metadata": {},
   "source": [
    "---"
   ]
  },
  {
   "cell_type": "markdown",
   "metadata": {},
   "source": [
    "## Dataset"
   ]
  },
  {
   "cell_type": "markdown",
   "metadata": {},
   "source": [
    "### Am I the Asshole?"
   ]
  },
  {
   "cell_type": "markdown",
   "metadata": {},
   "source": [
    "```{epigraph}\n",
    "AITA for lying about my biggest fear on a quiz show and subsequently winning a car and making other contestants lose?\n",
    "\n",
    "-- Reddit user iwonacar, [r/AmItheAsshole](https://www.reddit.com/r/AmItheAsshole/comments/dmfsum/aita_for_lying_about_my_biggest_fear_on_a_quiz/)\n",
    "```"
   ]
  },
  {
   "cell_type": "markdown",
   "metadata": {},
   "source": [
    "In this particular lesson, we're going to use [Little MALLET Wrapper](https://github.com/maria-antoniak/little-mallet-wrapper), a Python wrapper for [MALLET](http://mallet.cs.umass.edu/topics.php), to topic model a CSV file with 2,932 Reddit posts from the subreddit [r/AmITheAsshole](https://www.reddit.com/r/AmItheAsshole/) that have at least an upvote score of 2,000. This is an online forum where people share their personal conflicts and ask the community to judge who's the a**hole in the story. This data was collected with PSAW, a wrapper for the Pushshift API."
   ]
  },
  {
   "cell_type": "markdown",
   "metadata": {},
   "source": [
    "___"
   ]
  },
  {
   "cell_type": "markdown",
   "metadata": {},
   "source": [
    "```{attention}\n",
    "If you're working in this Jupyter notebook on your own computer, you'll need to have both the Java Development Kit and MALLET pre-installed. For set up instructions, please see [the previous lesson](http://melaniewalsh.github.io/Intro-Cultural-Analytics/Text-Analysis/Topic-Modeling-Set-Up.html).\n",
    "\n",
    "*If you're working in this Jupyter notebook in the cloud via Binder, then the Java Development Kit and Mallet will already be installed. You're good to go!\n",
    "```"
   ]
  },
  {
   "cell_type": "markdown",
   "metadata": {},
   "source": [
    "## Set MALLET Path"
   ]
  },
  {
   "cell_type": "markdown",
   "metadata": {},
   "source": [
    "Since Little MALLET Wrapper is a Python package built around MALLET, we first need to tell it where the bigger, Java-based MALLET lives.\n",
    "\n",
    "We're going to make a variable called `path_to_mallet` and assign it the file path of our MALLET program. We need to point it, specifically, to the \"mallet\" file inside the \"bin\" folder inside the \"mallet-2.0.8\" folder. "
   ]
  },
  {
   "cell_type": "code",
   "execution_count": 1,
   "metadata": {},
   "outputs": [],
   "source": [
    "path_to_mallet = 'mallet-2.0.8/bin/mallet'"
   ]
  },
  {
   "cell_type": "markdown",
   "metadata": {},
   "source": [
    "If MALLET is located in another directory, then set your `path_to_mallet` to that file path."
   ]
  },
  {
   "cell_type": "markdown",
   "metadata": {},
   "source": [
    "## Install Packages"
   ]
  },
  {
   "cell_type": "code",
   "execution_count": 2,
   "metadata": {},
   "outputs": [],
   "source": [
    "#!pip install little_mallet_wrapper\n",
    "#!pip install seaborn"
   ]
  },
  {
   "cell_type": "markdown",
   "metadata": {},
   "source": [
    "## Import Packages"
   ]
  },
  {
   "cell_type": "markdown",
   "metadata": {},
   "source": [
    "Now let's `import` the `little_mallet_wrapper` and the data viz library `seaborn`."
   ]
  },
  {
   "cell_type": "code",
   "execution_count": 59,
   "metadata": {},
   "outputs": [],
   "source": [
    "import little_mallet_wrapper\n",
    "import seaborn\n",
    "import glob\n",
    "from pathlib import Path\n",
    "import pandas as pd\n",
    "import random\n",
    "pd.options.display.max_colwidth = 100"
   ]
  },
  {
   "cell_type": "markdown",
   "metadata": {},
   "source": [
    "We're also going to import [`glob`](https://docs.python.org/3/library/glob.html) and [`pathlib`](https://docs.python.org/3/library/pathlib.html#basic-use) for working with files and the file system."
   ]
  },
  {
   "cell_type": "markdown",
   "metadata": {},
   "source": [
    "## Get Training Data From CSV File"
   ]
  },
  {
   "cell_type": "markdown",
   "metadata": {},
   "source": [
    "Before we topic model the Reddit posts, we need to process the posts and prepare them for analysis. The steps below demonstrate how to process texts if they come from a CSV file.\n",
    "\n",
    "```{note}\n",
    "We're calling these text files our *training data*, because we're *training* our topic model with these texts. The topic model will be learning and extracting topics based on these texts.\n",
    "```"
   ]
  },
  {
   "cell_type": "code",
   "execution_count": 60,
   "metadata": {},
   "outputs": [],
   "source": [
    "reddit_df = pd.read_csv(\"../data/top-reddit-aita-posts.csv\")"
   ]
  },
  {
   "cell_type": "code",
   "execution_count": 61,
   "metadata": {},
   "outputs": [
    {
     "data": {
      "text/html": [
       "<div>\n",
       "<style scoped>\n",
       "    .dataframe tbody tr th:only-of-type {\n",
       "        vertical-align: middle;\n",
       "    }\n",
       "\n",
       "    .dataframe tbody tr th {\n",
       "        vertical-align: top;\n",
       "    }\n",
       "\n",
       "    .dataframe thead th {\n",
       "        text-align: right;\n",
       "    }\n",
       "</style>\n",
       "<table border=\"1\" class=\"dataframe\">\n",
       "  <thead>\n",
       "    <tr style=\"text-align: right;\">\n",
       "      <th></th>\n",
       "      <th>author</th>\n",
       "      <th>full_date</th>\n",
       "      <th>date</th>\n",
       "      <th>title</th>\n",
       "      <th>selftext</th>\n",
       "      <th>url</th>\n",
       "      <th>subreddit</th>\n",
       "      <th>upvote_score</th>\n",
       "      <th>num_comments</th>\n",
       "      <th>num_crossposts</th>\n",
       "    </tr>\n",
       "  </thead>\n",
       "  <tbody>\n",
       "    <tr>\n",
       "      <th>0</th>\n",
       "      <td>Additional-Pizza-805</td>\n",
       "      <td>2020-07-24 19:13:49+00:00</td>\n",
       "      <td>2020-07-24</td>\n",
       "      <td>AITA for kicking my cousin off of my sister’s wedding Zoom call?</td>\n",
       "      <td>My [27M] older sister [30F] and her fiancé [31M] were planning for over a year for their wedding...</td>\n",
       "      <td>https://www.reddit.com/r/AmItheAsshole/comments/hx80wd/aita_for_kicking_my_cousin_off_of_my_sist...</td>\n",
       "      <td>AmItheAsshole</td>\n",
       "      <td>11159</td>\n",
       "      <td>2209</td>\n",
       "      <td>4</td>\n",
       "    </tr>\n",
       "    <tr>\n",
       "      <th>1</th>\n",
       "      <td>decadel8ter</td>\n",
       "      <td>2020-07-24 14:37:13+00:00</td>\n",
       "      <td>2020-07-24</td>\n",
       "      <td>AITA for resenting my family for something that happened over a decade ago?</td>\n",
       "      <td>when i was 15 i was in a car accident. i was riding my bike on new bike lanes that my city had i...</td>\n",
       "      <td>https://www.reddit.com/r/AmItheAsshole/comments/hx2vvl/aita_for_resenting_my_family_for_somethin...</td>\n",
       "      <td>AmItheAsshole</td>\n",
       "      <td>2541</td>\n",
       "      <td>1143</td>\n",
       "      <td>0</td>\n",
       "    </tr>\n",
       "    <tr>\n",
       "      <th>2</th>\n",
       "      <td>Snoo_66130</td>\n",
       "      <td>2020-07-24 12:35:35+00:00</td>\n",
       "      <td>2020-07-24</td>\n",
       "      <td>AITA for telling my step dad to stop trying to be my dad?</td>\n",
       "      <td>I'm   35, and my mom who is 52 is dating a man who is is 27. This is fucking   weird as hell and...</td>\n",
       "      <td>https://www.reddit.com/r/AmItheAsshole/comments/hx0zk7/aita_for_telling_my_step_dad_to_stop_tryi...</td>\n",
       "      <td>AmItheAsshole</td>\n",
       "      <td>2809</td>\n",
       "      <td>1253</td>\n",
       "      <td>1</td>\n",
       "    </tr>\n",
       "    <tr>\n",
       "      <th>3</th>\n",
       "      <td>ohnoihaveabluechair</td>\n",
       "      <td>2020-07-24 10:56:56+00:00</td>\n",
       "      <td>2020-07-24</td>\n",
       "      <td>AITA for confronting my SIL for wearing clothes that belonged to me?</td>\n",
       "      <td>Some info: A few years ago, my family didn’t have a lot of spare money to buy a lot of things (l...</td>\n",
       "      <td>https://www.reddit.com/r/AmItheAsshole/comments/hwzpbu/aita_for_confronting_my_sil_for_wearing_c...</td>\n",
       "      <td>AmItheAsshole</td>\n",
       "      <td>7581</td>\n",
       "      <td>1550</td>\n",
       "      <td>1</td>\n",
       "    </tr>\n",
       "    <tr>\n",
       "      <th>4</th>\n",
       "      <td>FormalLettuce3</td>\n",
       "      <td>2020-07-24 10:52:08+00:00</td>\n",
       "      <td>2020-07-24</td>\n",
       "      <td>AITA for saying we'd only help with my ex's kid's party if we could tell people we're engaged?</td>\n",
       "      <td>This guy, \"Jack\", and I were together for about a year, and within a couple weeks of ending it I...</td>\n",
       "      <td>https://www.reddit.com/r/AmItheAsshole/comments/hwzncq/aita_for_saying_wed_only_help_with_my_exs...</td>\n",
       "      <td>AmItheAsshole</td>\n",
       "      <td>2915</td>\n",
       "      <td>1214</td>\n",
       "      <td>0</td>\n",
       "    </tr>\n",
       "  </tbody>\n",
       "</table>\n",
       "</div>"
      ],
      "text/plain": [
       "                 author                  full_date        date  \\\n",
       "0  Additional-Pizza-805  2020-07-24 19:13:49+00:00  2020-07-24   \n",
       "1           decadel8ter  2020-07-24 14:37:13+00:00  2020-07-24   \n",
       "2            Snoo_66130  2020-07-24 12:35:35+00:00  2020-07-24   \n",
       "3   ohnoihaveabluechair  2020-07-24 10:56:56+00:00  2020-07-24   \n",
       "4        FormalLettuce3  2020-07-24 10:52:08+00:00  2020-07-24   \n",
       "\n",
       "                                                                                            title  \\\n",
       "0                                AITA for kicking my cousin off of my sister’s wedding Zoom call?   \n",
       "1                     AITA for resenting my family for something that happened over a decade ago?   \n",
       "2                                       AITA for telling my step dad to stop trying to be my dad?   \n",
       "3                            AITA for confronting my SIL for wearing clothes that belonged to me?   \n",
       "4  AITA for saying we'd only help with my ex's kid's party if we could tell people we're engaged?   \n",
       "\n",
       "                                                                                              selftext  \\\n",
       "0  My [27M] older sister [30F] and her fiancé [31M] were planning for over a year for their wedding...   \n",
       "1  when i was 15 i was in a car accident. i was riding my bike on new bike lanes that my city had i...   \n",
       "2  I'm   35, and my mom who is 52 is dating a man who is is 27. This is fucking   weird as hell and...   \n",
       "3  Some info: A few years ago, my family didn’t have a lot of spare money to buy a lot of things (l...   \n",
       "4  This guy, \"Jack\", and I were together for about a year, and within a couple weeks of ending it I...   \n",
       "\n",
       "                                                                                                   url  \\\n",
       "0  https://www.reddit.com/r/AmItheAsshole/comments/hx80wd/aita_for_kicking_my_cousin_off_of_my_sist...   \n",
       "1  https://www.reddit.com/r/AmItheAsshole/comments/hx2vvl/aita_for_resenting_my_family_for_somethin...   \n",
       "2  https://www.reddit.com/r/AmItheAsshole/comments/hx0zk7/aita_for_telling_my_step_dad_to_stop_tryi...   \n",
       "3  https://www.reddit.com/r/AmItheAsshole/comments/hwzpbu/aita_for_confronting_my_sil_for_wearing_c...   \n",
       "4  https://www.reddit.com/r/AmItheAsshole/comments/hwzncq/aita_for_saying_wed_only_help_with_my_exs...   \n",
       "\n",
       "       subreddit  upvote_score  num_comments  num_crossposts  \n",
       "0  AmItheAsshole         11159          2209               4  \n",
       "1  AmItheAsshole          2541          1143               0  \n",
       "2  AmItheAsshole          2809          1253               1  \n",
       "3  AmItheAsshole          7581          1550               1  \n",
       "4  AmItheAsshole          2915          1214               0  "
      ]
     },
     "execution_count": 61,
     "metadata": {},
     "output_type": "execute_result"
    }
   ],
   "source": [
    "reddit_df.head()"
   ]
  },
  {
   "cell_type": "code",
   "execution_count": 14,
   "metadata": {},
   "outputs": [],
   "source": [
    "reddit_df['selftext'] = reddit_df['selftext'].astype(str)"
   ]
  },
  {
   "cell_type": "markdown",
   "metadata": {},
   "source": [
    "### Process Reddit Posts"
   ]
  },
  {
   "cell_type": "markdown",
   "metadata": {},
   "source": [
    "`little_mallet_wrapper.process_string(text, numbers='remove')`"
   ]
  },
  {
   "cell_type": "markdown",
   "metadata": {},
   "source": [
    "Next we're going to process our texts with the function `little_mallet_wrapper.process_string()`. This function will take every individual post, transform all the text to lowercase as well as remove stopwords, punctuation, and numbers, and then add the processed text to our master list `training_data`."
   ]
  },
  {
   "cell_type": "code",
   "execution_count": 15,
   "metadata": {},
   "outputs": [],
   "source": [
    "training_data = [little_mallet_wrapper.process_string(text, numbers='remove') for text in reddit_df['selftext']]"
   ]
  },
  {
   "cell_type": "code",
   "execution_count": 16,
   "metadata": {},
   "outputs": [],
   "source": [
    "original_texts = [text for text in reddit_df['selftext']]"
   ]
  },
  {
   "cell_type": "markdown",
   "metadata": {},
   "source": [
    "### Process Reddit Post Titles"
   ]
  },
  {
   "cell_type": "markdown",
   "metadata": {},
   "source": [
    "We're also going to extract the file name for each Reddit post."
   ]
  },
  {
   "cell_type": "code",
   "execution_count": 17,
   "metadata": {},
   "outputs": [],
   "source": [
    "reddit_titles = [title for title in reddit_df['title']]"
   ]
  },
  {
   "cell_type": "markdown",
   "metadata": {},
   "source": [
    "### Get Dataset Statistics"
   ]
  },
  {
   "cell_type": "markdown",
   "metadata": {},
   "source": [
    "We can get training data summary statisitcs by using the funciton `little_mallet_wrapper.print_dataset_stats()`."
   ]
  },
  {
   "cell_type": "code",
   "execution_count": 18,
   "metadata": {},
   "outputs": [
    {
     "name": "stdout",
     "output_type": "stream",
     "text": [
      "Number of Documents: 2932\n",
      "Mean Number of Words: 147.5\n",
      "Vocabulary Size: 18729\n"
     ]
    }
   ],
   "source": [
    "little_mallet_wrapper.print_dataset_stats(training_data)"
   ]
  },
  {
   "cell_type": "markdown",
   "metadata": {},
   "source": [
    "## Training the Topic Model"
   ]
  },
  {
   "cell_type": "markdown",
   "metadata": {},
   "source": [
    "`little_mallet_wrapper.train_topic_model(path_to_mallet,\n",
    "                      path_to_formatted_training_data,\n",
    "                      path_to_model,\n",
    "                      path_to_topic_keys,\n",
    "                      path_to_topic_distributions,\n",
    "                      num_topics)`"
   ]
  },
  {
   "cell_type": "markdown",
   "metadata": {},
   "source": [
    "We're going to train our topic model with the `little_mallet_wrapper.train_topic_model()` function. As you can see above, however, this function requires 6 different arguments and file paths to run properly:\n",
    "\n",
    "- `path_to_mallet`\n",
    "- `path_to_formatted_training_data`\n",
    "- `path_to_model`\n",
    "- `path_to_topic_keys`\n",
    "- `path_to_topic_distributions`\n",
    "- `num_topics`\n",
    "\n",
    "So we have to set a few things up first."
   ]
  },
  {
   "cell_type": "markdown",
   "metadata": {},
   "source": [
    "## Set Number of Topics"
   ]
  },
  {
   "cell_type": "markdown",
   "metadata": {},
   "source": [
    "We need to make a variable `num_topics` and assign it the number of topics we want returned."
   ]
  },
  {
   "cell_type": "code",
   "execution_count": 19,
   "metadata": {},
   "outputs": [],
   "source": [
    "num_topics = 15"
   ]
  },
  {
   "cell_type": "markdown",
   "metadata": {},
   "source": [
    "## Set Training Data"
   ]
  },
  {
   "cell_type": "markdown",
   "metadata": {},
   "source": [
    "We already made a variable called `training_data`, which includes all of our processed Reddit post texts, so we can just set it equal to itself."
   ]
  },
  {
   "cell_type": "code",
   "execution_count": 20,
   "metadata": {},
   "outputs": [],
   "source": [
    "training_data = training_data"
   ]
  },
  {
   "cell_type": "markdown",
   "metadata": {},
   "source": [
    "## Set Other MALLET File Paths"
   ]
  },
  {
   "cell_type": "markdown",
   "metadata": {},
   "source": [
    "Then we're going to set a file path where we want all our MALLET topic modeling data to be dumped. I'm going to output everything onto my Desktop inside a folder called \"topic-model-output\" and a subfolder specific to the Reddit posts called \"Reddit.\"\n",
    "\n",
    "All the other necessary variables below `output_directory_path` will be automatically created inside this directory."
   ]
  },
  {
   "cell_type": "code",
   "execution_count": 21,
   "metadata": {},
   "outputs": [],
   "source": [
    "#Change to your desired output directory\n",
    "output_directory_path = 'topic-model-output/reddit'\n",
    "\n",
    "#No need to change anything below here\n",
    "Path(f\"{output_directory_path}\").mkdir(parents=True, exist_ok=True)\n",
    "\n",
    "path_to_training_data           = f\"{output_directory_path}/training.txt\"\n",
    "path_to_formatted_training_data = f\"{output_directory_path}/mallet.training\"\n",
    "path_to_model                   = f\"{output_directory_path}/mallet.model.{str(num_topics)}\"\n",
    "path_to_topic_keys              = f\"{output_directory_path}/mallet.topic_keys.{str(num_topics)}\"\n",
    "path_to_topic_distributions     = f\"{output_directory_path}/mallet.topic_distributions.{str(num_topics)}\""
   ]
  },
  {
   "cell_type": "markdown",
   "metadata": {},
   "source": [
    "## Import Data"
   ]
  },
  {
   "cell_type": "markdown",
   "metadata": {},
   "source": [
    "We're going to import the data with `little_mallet_wrapper.import_data()`."
   ]
  },
  {
   "cell_type": "code",
   "execution_count": 22,
   "metadata": {},
   "outputs": [
    {
     "name": "stdout",
     "output_type": "stream",
     "text": [
      "Importing data...\n",
      "Complete\n"
     ]
    }
   ],
   "source": [
    "little_mallet_wrapper.import_data(path_to_mallet,\n",
    "                path_to_training_data,\n",
    "                path_to_formatted_training_data,\n",
    "                training_data)"
   ]
  },
  {
   "cell_type": "markdown",
   "metadata": {},
   "source": [
    "## Train Topic Model"
   ]
  },
  {
   "cell_type": "markdown",
   "metadata": {},
   "source": [
    "Then we're going to train our topic model with `little_mallet_wrapper.train_topic_model()`. The topic model should take about 1-1.5 minutes to train and complete. "
   ]
  },
  {
   "cell_type": "code",
   "execution_count": 23,
   "metadata": {
    "scrolled": true,
    "tags": [
     "output_scroll"
    ]
   },
   "outputs": [
    {
     "name": "stdout",
     "output_type": "stream",
     "text": [
      "Training topic model...\n",
      "====================================\n",
      "\n",
      "Mallet LDA: 15 topics, 4 topic bits, 1111 topic mask\n",
      "Data loaded.\n",
      "max tokens: 584\n",
      "total tokens: 432446\n",
      "<10> LL/token: -9.33869\n",
      "<20> LL/token: -9.01088\n",
      "<30> LL/token: -8.86574\n",
      "<40> LL/token: -8.78635\n",
      "\n",
      "0\t0.33333\tdaughter wife would time year years much never get made told feel even also school always things life got new \n",
      "1\t0.33333\tsaid told didn friend friends like got know went really thought back made asked guy girlfriend later tell feel called \n",
      "2\t0.33333\tfood eat like said dinner make eating asked restaurant table one really made vegan lunch didn order got weight told \n",
      "3\t0.33333\tdog like baby told get got around would want take even could feel months ring love getting pain come thought \n",
      "4\t0.33333\thusband would also want wear account one two pictures ago time aita post situation first full make good removed almost \n",
      "5\t0.33333\tpeople one said like work told girl even girls everyone lot office would started asked gay person thing know talk \n",
      "6\t0.33333\twedding family party friends would day one said birthday everyone wanted didn really friend get hair like going dress think \n",
      "7\t0.33333\tlike time doesn really want get boyfriend every one think new work feel together something little never girlfriend apartment times \n",
      "8\t0.33333\tmoney pay work job would school get car could college since paying working said paid one going told two rent \n",
      "9\t0.33333\tkids son wife family mom husband child mother brother father dad told want parents baby year would pregnant years old \n",
      "10\t0.33333\tsaid day get help time really well stuff need think like school class kids take issue teacher back lot getting \n",
      "11\t0.33333\tback says get around next one front kid asshole say minutes woman seat right little away friend girlfriend leave way \n",
      "12\t0.33333\tsaid like know really say people talking tell look didn something could sil asshole tried asked give actually want got \n",
      "13\t0.33333\tsister parents name years dad told never family really said mom like since last always life even first got think \n",
      "14\t0.33333\troom house home get told back went phone car door got didn night time said sleep work left come see \n",
      "\n",
      "<50> LL/token: -8.73505\n",
      "<60> LL/token: -8.70176\n",
      "<70> LL/token: -8.67423\n",
      "<80> LL/token: -8.65561\n",
      "<90> LL/token: -8.6386\n",
      "\n",
      "0\t0.33333\twife daughter time years year would even much things made life always school home old never since know feel together \n",
      "1\t0.33333\tsaid told friend didn friends like got asked really boyfriend went thought know girlfriend going never later wasn guy tell \n",
      "2\t0.33333\tfood eat said like dinner make eating one restaurant made got asked order weight vegan told table really cook drink \n",
      "3\t0.33333\tdog told get baby would take could getting want ring pain got really even cat care says months feel dogs \n",
      "4\t0.33333\talso time first one would two account want see post husband long things pictures situation make asshole since weeks use \n",
      "5\t0.33333\tpeople one work said everyone would girls told office girl group like call lot women wrong gay started person uncomfortable \n",
      "6\t0.33333\twedding family party would one friends birthday day like want wanted hair didn everyone got dress married said gift getting \n",
      "7\t0.33333\tlike time get doesn want really think something every make even feel people thing day girlfriend work little times makes \n",
      "8\t0.33333\tmoney pay job would work college school get car got paying paid working told back since give rent month week \n",
      "9\t0.33333\tkids son husband child mother wife told baby father want family children year pregnant would old mom kid years wants \n",
      "10\t0.33333\tsaid get like day help school take really even stuff asked also class need anything time think buy aita lot \n",
      "11\t0.33333\tback get one says around would woman guy away next seat say asshole still front way people girl pretty sit \n",
      "12\t0.33333\tsaid like know really didn asked say tried give something people bit happened talking knew good sil way look see \n",
      "13\t0.33333\tsister dad parents mom brother family name years told got never always much life last since time really older first \n",
      "14\t0.33333\troom house home get told back car didn phone door said got work sleep left come went night around time \n",
      "\n",
      "<100> LL/token: -8.62362\n",
      "<110> LL/token: -8.61094\n",
      "<120> LL/token: -8.59614\n",
      "<130> LL/token: -8.59095\n",
      "<140> LL/token: -8.58467\n",
      "\n",
      "0\t0.33333\twife daughter years time would year life never made know always even school one relationship things much asshole together feel \n",
      "1\t0.33333\ttold said didn friend friends asked like really got boyfriend thought know went girlfriend never later guy wasn going started \n",
      "2\t0.33333\tfood eat said dinner make eating like weight restaurant vegan didn asked order told cook drink made meat meal cooking \n",
      "3\t0.33333\tdog take told would even could getting pain know like ring get got much cat things one dogs says weeks \n",
      "4\t0.33333\talso time post since would two long first things asshole facebook one account pictures see part social removed reddit situation \n",
      "5\t0.33333\tpeople one work said girls everyone group girl office call women called think would told guys thing woman manager person \n",
      "6\t0.33333\twedding party family would one friends birthday said day wanted like hair want didn dress cousin everyone wear married get \n",
      "7\t0.33333\tlike really doesn time get feel want think make every even something work girlfriend together thing way little also day \n",
      "8\t0.33333\tmoney pay would job college work get school told paying paid new year got could car house working give month \n",
      "9\t0.33333\tkids son husband child baby told would mother want children old pregnant year kid family mom father wife wants daughter \n",
      "10\t0.33333\tsaid get school told one back class even time something day think stuff take really didn lot kids anything things \n",
      "11\t0.33333\tback get one around would people right says way minutes guy next away tell could seat asshole say like woman \n",
      "12\t0.33333\tsaid like really know say asked good even people ask something got tried talking see look kind need sil want \n",
      "13\t0.33333\tsister parents mom dad brother family name told years got mother never last always since much ago didn father life \n",
      "14\t0.33333\troom house home back get told car door got said night phone come work didn leave sleep went going time \n",
      "\n",
      "<150> LL/token: -8.58023\n",
      "<160> LL/token: -8.57478\n",
      "<170> LL/token: -8.56583\n",
      "<180> LL/token: -8.55951\n",
      "<190> LL/token: -8.55472\n",
      "\n",
      "0\t0.33333\twife daughter years would time life never know year always going made much things relationship together wanted last want since \n",
      "1\t0.33333\ttold said didn friend friends asked like got went really boyfriend thought know girlfriend going wasn started guy feel get \n",
      "2\t0.33333\tfood eat dinner eating said like make weight restaurant vegan order asked made one drink cook meat meal told something \n",
      "3\t0.33333\tdog take told could even would pain ring getting get cat think put dogs got much know love doctor care \n",
      "4\t0.33333\tpost also would two time account one ago phone facebook long since reddit first see pictures social want asking removed \n",
      "5\t0.33333\tpeople one work girls everyone would said group office call girl think made first name called etc guys person white \n",
      "6\t0.33333\twedding party would family one birthday day want hair dress friends wear wanted didn married said think everyone got gift \n",
      "7\t0.33333\tlike time get doesn really want feel make think even lot every something way work makes aita together times pretty \n",
      "8\t0.33333\tmoney pay job would work get got college since paying car could told paid much new working year month give \n",
      "9\t0.33333\tkids husband son baby child told old want children year pregnant would daughter mother kid said didn mom two family \n",
      "10\t0.33333\tschool said back get told class like didn something know even day really getting took one teacher bought high clothes \n",
      "11\t0.33333\tback get away around one minutes guy right would front says next seat could woman way asshole people sit someone \n",
      "12\t0.33333\tsaid like know really asked say even see something people didn kind talking joke says good got nice look thing \n",
      "13\t0.33333\tsister mom parents dad family brother told name mother years father never always since even ago didn last like called \n",
      "14\t0.33333\troom house home get back told door night got said leave car one phone come sleep work went going time \n",
      "\n",
      "<200> LL/token: -8.54747\n",
      "<210> LL/token: -8.54318\n",
      "<220> LL/token: -8.54268\n",
      "<230> LL/token: -8.53876\n",
      "<240> LL/token: -8.54032\n",
      "\n",
      "0\t0.33333\twife daughter years time would life never know relationship always since things year married still much want one got family \n",
      "1\t0.33333\ttold said didn friend friends asked like boyfriend got went really know thought wasn girlfriend guy think started night going \n",
      "2\t0.33333\tfood eat dinner said eating make like restaurant vegan order cook asked weight drink meat meal told one table cooking \n",
      "3\t0.33333\tdog take even told would get could pain ring cat got dogs know getting hospital doctor much love home back \n",
      "4\t0.33333\tpost also since two one would phone account sent decided facebook use first without found long pictures social want time \n",
      "5\t0.33333\tpeople one work said everyone name would group girls call office girl told made women first etc manager called think \n",
      "6\t0.33333\twedding party family would birthday want one day said hair get friends dress going wanted everyone wear like gift didn \n",
      "7\t0.33333\tlike really doesn want time feel get make also think something lot work even every stuff isn together way day \n",
      "8\t0.33333\tmoney pay job work would could house get month college got paying paid help much time give car new told \n",
      "9\t0.33333\tkids son husband baby child daughter old told children pregnant would want mother kid year two didn said father going \n",
      "10\t0.33333\tschool get said year class even didn like told day well time asked need one back stuff high done something \n",
      "11\t0.33333\tback get car one around minutes away would way could says tell seat guy next front woman leave say got \n",
      "12\t0.33333\tlike said really know asked kind people got see say even look something shit actually talking thought good well nice \n",
      "13\t0.33333\tsister mom parents dad family brother told mother years name father got never like since didn called last tell ago \n",
      "14\t0.33333\thouse room home get back told door work time night said sleep around went phone one come since bed didn \n",
      "\n",
      "<250> LL/token: -8.536\n",
      "<260> LL/token: -8.53781\n",
      "<270> LL/token: -8.52938\n",
      "<280> LL/token: -8.5267\n",
      "<290> LL/token: -8.52579\n",
      "\n",
      "0\t0.33333\twife years time daughter life would never know want since family married relationship even love ago way still one away \n",
      "1\t0.33333\ttold said didn friend like friends got asked really went boyfriend know thought girlfriend going wasn started guy back night \n",
      "2\t0.33333\tfood eat dinner eating make like said asked order restaurant vegan table told cook drink meat meal weight made asshole \n",
      "3\t0.33333\tdog take could would even pain get told care cat getting hospital dogs know doctor put feel love said got \n",
      "4\t0.33333\tpost phone would also since two sent first one without facebook social account ago decided see days pictures message number \n",
      "5\t0.33333\tpeople one work girls would group said everyone office call name lot told asked first called girl women woman made \n",
      "6\t0.33333\twedding party would family one want birthday said hair day friends get dress wear everyone wanted didn got gift think \n",
      "7\t0.33333\tlike doesn time want really feel get think always even something since things lot work make every way makes also \n",
      "8\t0.33333\tmoney pay job would work get much new paying college help car got give paid working could week buy house \n",
      "9\t0.33333\tkids son husband baby child daughter old told children kid year mother pregnant would said two want mom wife didn \n",
      "10\t0.33333\tschool said get day year told class one didn even back think high teacher last also well time like next \n",
      "11\t0.33333\tget back one car minutes around away next front seat could went way woman tell right sit says guy would \n",
      "12\t0.33333\tsaid like know people really say got saying first see shit good kind face actually something says asked bit looks \n",
      "13\t0.33333\tsister mom parents dad family brother told mother name years father really didn got last always since never tell aunt \n",
      "14\t0.33333\troom house home get back told door said leave night one sleep come around work went day bed time didn \n",
      "\n",
      "<300> LL/token: -8.51901\n",
      "<310> LL/token: -8.51764\n",
      "<320> LL/token: -8.51492\n",
      "<330> LL/token: -8.51116\n",
      "<340> LL/token: -8.51064\n",
      "\n",
      "0\t0.33333\twife years time would life never want know together one family married going relationship love since even ago much last \n",
      "1\t0.33333\ttold said didn like friend got asked friends really went boyfriend know girlfriend thought going wasn wanted started could guy \n",
      "2\t0.33333\tfood eat said dinner eating make told asked restaurant one vegan like cook order weight meat meal drink made lunch \n",
      "3\t0.33333\tdog take get got told could pain would even cat like know dogs care doctor hospital put health much medical \n",
      "4\t0.33333\tphone post also one would two first reddit sent facebook people account pictures social found person things picture asking never \n",
      "5\t0.33333\tpeople one work girls said name office group made women first would call everyone called think woman girl lot coworkers \n",
      "6\t0.33333\twedding party family would one said friends day want hair birthday dress wear also gift everyone didn wanted like get \n",
      "7\t0.33333\tlike really doesn time get feel want think even always make work something lot things way also know makes try \n",
      "8\t0.33333\tmoney pay job would work new get got since paying paid help much could week time give college buy well \n",
      "9\t0.33333\tkids son husband daughter baby child old told year kid children pregnant said wife mother two would want mom think \n",
      "10\t0.33333\tschool said get year class didn told one day high would well time asked could teacher last getting like college \n",
      "11\t0.33333\tback get car one around minutes next front seat says way went woman point tell guy would leave aita away \n",
      "12\t0.33333\tlike said say people really know something see shit look fucking asked kind even face got looks joke says good \n",
      "13\t0.33333\tsister mom parents dad family brother told mother years father name got didn since always called tell never ago aunt \n",
      "14\t0.33333\thouse room home get back door work said told sleep night leave time morning around see didn come bed live \n",
      "\n",
      "<350> LL/token: -8.50665\n",
      "<360> LL/token: -8.50427\n",
      "<370> LL/token: -8.50103\n",
      "<380> LL/token: -8.49836\n",
      "<390> LL/token: -8.50164\n",
      "\n",
      "0\t0.33333\twife years would time life never know relationship family ago want married still together since last love back much see \n",
      "1\t0.33333\tsaid told didn really friend friends got asked like boyfriend went thought know girlfriend going wasn night wanted guy talk \n",
      "2\t0.33333\tfood eat dinner eating make said like told restaurant vegan one weight home drink cook table made lunch meat meal \n",
      "3\t0.33333\tdog take get got told pain could would even care cat dogs hospital getting know doctor health also feel one \n",
      "4\t0.33333\tpost also phone sent see one want didn would reddit even call account facebook first social two pictures time decided \n",
      "5\t0.33333\tname one people work girls office first group would call asked women called woman boss white everyone started told girl \n",
      "6\t0.33333\twedding party would want one birthday family said hair day dress didn like wear friends think wanted gift get got \n",
      "7\t0.33333\tlike time doesn really get feel want things make even always something think also lot work know way makes every \n",
      "8\t0.33333\tmoney pay job would work got help new much paid paying since years working could time buy going get house \n",
      "9\t0.33333\tkids daughter son husband baby child old wife told want year pregnant children kid mother said would two think mom \n",
      "10\t0.33333\tschool said get year class high one didn day told going college would give getting teacher know back even asked \n",
      "11\t0.33333\tback get car one minutes around next would woman could guy tell seat went people way says front sit leave \n",
      "12\t0.33333\tlike said say know people really look see says asked shit kind bit first much looks little fucking joke face \n",
      "13\t0.33333\tsister mom parents family dad brother told mother years father got always didn never since went came aunt mum saying \n",
      "14\t0.33333\troom house home get back door told sleep come work night day said time leave bed live around morning one \n",
      "\n",
      "<400> LL/token: -8.49973\n",
      "<410> LL/token: -8.49396\n",
      "<420> LL/token: -8.49457\n",
      "<430> LL/token: -8.49304\n",
      "<440> LL/token: -8.49174\n",
      "\n",
      "0\t0.33333\twife years would life time family want know never even one married relationship love together ago last always going much \n",
      "1\t0.33333\ttold said didn friend asked friends got really boyfriend like went know thought started going girlfriend wasn wanted saying guy \n",
      "2\t0.33333\tfood eat eating dinner make said vegan restaurant cook one drink asked weight made order like meat meal told cooking \n",
      "3\t0.33333\tdog get could take told would pain getting cat got hospital dogs care doctor health like removed feel even medical \n",
      "4\t0.33333\tphone post one also even first without facebook sent would account pictures decided reddit never social found asshole didn see \n",
      "5\t0.33333\tname work one people said office told girls called first group call job would company boss last everyone problem women \n",
      "6\t0.33333\twedding party would said family one birthday want hair day like friends dress get wear got think wanted gift married \n",
      "7\t0.33333\tlike time really doesn get feel want always think something make even things know lot way also every work makes \n",
      "8\t0.33333\tmoney pay would job work time paid paying got get house take new buy since could much going month week \n",
      "9\t0.33333\tkids daughter son husband baby child old wife children kid pregnant told year said would want mother think father mom \n",
      "10\t0.33333\tschool said year get high class told didn one back well day college time asked daughter would going could teacher \n",
      "11\t0.33333\tback get car one minutes around way away seat guy leave says front point woman next tell could would left \n",
      "12\t0.33333\tlike said say know people really see look something shit first looks fucking talking good bit pretty face made kind \n",
      "13\t0.33333\tsister mom parents dad family brother told mother years father got since didn came also left went aunt mum year \n",
      "14\t0.33333\troom house home get told back door said night day sleep time work bed come one live leave didn around \n",
      "\n",
      "<450> LL/token: -8.4891\n",
      "<460> LL/token: -8.49051\n",
      "<470> LL/token: -8.48636\n",
      "<480> LL/token: -8.48905\n",
      "<490> LL/token: -8.48735\n",
      "\n",
      "0\t0.33333\twife years would life time want never family relationship married know ago love still one much since even together asshole \n",
      "1\t0.33333\ttold said didn friends got friend really asked like went boyfriend know started thought going girlfriend girl wasn guy since \n",
      "2\t0.33333\tfood eat dinner eating make said like restaurant one vegan drink told made cook weight asked meat meal cooking order \n",
      "3\t0.33333\tdog take told get pain got would could even cat care hospital dogs health doctor getting put removed aita know \n",
      "4\t0.33333\tphone post even also call first one would didn facebook sent account see decided people social pictures found ago message \n",
      "5\t0.33333\tname work people one office would said told problem job first everyone call boss called girls women company asked coworkers \n",
      "6\t0.33333\twedding party would one family want day birthday hair dress said wanted wear didn like think gift husband friend asked \n",
      "7\t0.33333\tlike time doesn really feel get even always think want something way things one make lot know work isn also \n",
      "8\t0.33333\tmoney pay job work would get time make paying since much house paid new take buy month car trip well \n",
      "9\t0.33333\tkids daughter son husband baby child wife old kid year pregnant children said told want mother would also father two \n",
      "10\t0.33333\tschool said get told high year class got one day college could asked didn time teacher give going back university \n",
      "11\t0.33333\tback get car one minutes around next way seat tell guy says right leave front point woman asshole still would \n",
      "12\t0.33333\tlike said say people really know something first see look asked shit fucking actually think saying thought got even joke \n",
      "13\t0.33333\tsister mom parents family dad brother told mother father years didn got house cousin left called since made always aunt \n",
      "14\t0.33333\troom house home get door back work day night told sleep said come bed leave live could didn one morning \n",
      "\n",
      "<500> LL/token: -8.48769\n",
      "<510> LL/token: -8.48892\n",
      "<520> LL/token: -8.48754\n",
      "<530> LL/token: -8.48873\n",
      "<540> LL/token: -8.48765\n",
      "\n",
      "0\t0.33333\twife years would life never want time relationship family married know one things last asshole ago ever together love going \n",
      "1\t0.33333\ttold said didn friend really friends asked got like went boyfriend know girlfriend thought girl wasn wanted night going started \n",
      "2\t0.33333\tfood eat eating dinner one said make asked restaurant vegan made weight cook like drink meat meal told lunch table \n",
      "3\t0.33333\tdog take told get would could pain got aita care cat health dogs even hospital know doctor getting one back \n",
      "4\t0.33333\tphone post call one would sent even didn facebook social first reddit everyone found people good pictures account also put \n",
      "5\t0.33333\tname work one people office first said job women company boss told problem girls asked called call coworkers would woman \n",
      "6\t0.33333\twedding party one would birthday want day like family hair said friends dress wear asked think wanted married gift husband \n",
      "7\t0.33333\tlike time really doesn feel get want even think always make something know things also work lot way much times \n",
      "8\t0.33333\tmoney pay job would work time paid paying buy new could bought got since take much help get trip month \n",
      "9\t0.33333\tkids daughter son husband baby child wife told old kid pregnant children want year would said mother get father think \n",
      "10\t0.33333\tschool said year get high told one class would didn day give college teacher asked got last going even took \n",
      "11\t0.33333\tback car get around one minutes tell next away seat guy could asshole way would front going kid leave aita \n",
      "12\t0.33333\tsaid like say people really look shit know think fucking something face thing got pretty first see made looks saying \n",
      "13\t0.33333\tsister mom family parents dad brother told mother years didn got father always saying also left came aunt ago cousin \n",
      "14\t0.33333\troom house home back said get door told sleep work one come leave day night bed morning live bathroom didn \n",
      "\n",
      "<550> LL/token: -8.48812\n",
      "<560> LL/token: -8.48614\n",
      "<570> LL/token: -8.49001\n",
      "<580> LL/token: -8.48637\n",
      "<590> LL/token: -8.48594\n",
      "\n",
      "0\t0.33333\twife years would life never family want know ago time relationship love much married going last together always things still \n",
      "1\t0.33333\ttold said didn friend friends asked really got went like boyfriend know girlfriend thought wasn wanted started night guy get \n",
      "2\t0.33333\tfood eat dinner eating make said restaurant vegan table one cook weight meat drink meal told order lunch cooking didn \n",
      "3\t0.33333\tdog told take get could pain getting cat back hospital would one dogs got aita health care doctor even let \n",
      "4\t0.33333\tphone post would one since call didn also sent facebook even pictures first account know person social people situation asshole \n",
      "5\t0.33333\tname work people one office told said company first called boss girls would job call coworkers made group women problem \n",
      "6\t0.33333\twedding party would said day family birthday want one hair dress get wear got gift husband like friends going married \n",
      "7\t0.33333\tlike time really get feel want doesn make even always things think something way know lot work much also every \n",
      "8\t0.33333\tmoney pay would job work get since time buy paying paid could month help got take much new week year \n",
      "9\t0.33333\tkids daughter son husband baby child wife old told year children pregnant kid mother want said would think father mom \n",
      "10\t0.33333\tschool said get year high one class college told day would give got asked know teacher think also daughter back \n",
      "11\t0.33333\tback get car one minutes around would could leave asshole seat away tell guy front going next way says point \n",
      "12\t0.33333\tlike said say people really even know look everyone something first fucking saying asked think pretty shit face looked bit \n",
      "13\t0.33333\tsister mom parents family dad brother told mother father didn years got also since even left called aunt saying cousin \n",
      "14\t0.33333\troom house home door work sleep night get said back bed told day leave live bathroom come time one stuff \n",
      "\n",
      "<600> LL/token: -8.48772\n",
      "<610> LL/token: -8.48621\n",
      "<620> LL/token: -8.48751\n",
      "<630> LL/token: -8.48301\n",
      "<640> LL/token: -8.48187\n",
      "\n",
      "0\t0.33333\twife years would life want time never relationship together family love married like ago since things much last know one \n",
      "1\t0.33333\ttold said didn friend friends asked got really boyfriend went know like wasn thought girlfriend started girl wanted night guy \n",
      "2\t0.33333\tfood eat dinner eating make restaurant like vegan asked said cook order weight meat meal drink one table made cooking \n",
      "3\t0.33333\tdog take told could get know would pain even cat hospital health got dogs doctor back also getting said body \n",
      "4\t0.33333\tphone post even since also one sent facebook people call ago pictures account social know see first message use new \n",
      "5\t0.33333\tname work one people office said first told called company job would boss everyone women coworkers aita white manager recently \n",
      "6\t0.33333\twedding party would want birthday one hair family said day dress wear gift didn friends getting think fianc get got \n",
      "7\t0.33333\tlike time really get doesn feel want make even always something think work lot way day things every know isn \n",
      "8\t0.33333\tmoney pay job get would work paid since paying buy got much take college bought house give could going year \n",
      "9\t0.33333\tkids daughter son husband baby child wife told old children pregnant kid year said mother would want two think father \n",
      "10\t0.33333\tschool high year would told get class said think college one time asked teacher didn give day last well got \n",
      "11\t0.33333\tback get car one minutes around away front seat could next guy leave went going asshole way woman happened tell \n",
      "12\t0.33333\tlike said say people got something look really know fucking pretty first shit making asked thought think even face saying \n",
      "13\t0.33333\tsister mom family parents dad brother told mother father didn years got left saying really always went came called even \n",
      "14\t0.33333\troom house home door get sleep night day bed back come live work bathroom use leave place morning living hours \n",
      "\n",
      "<650> LL/token: -8.48179\n",
      "<660> LL/token: -8.48585\n",
      "<670> LL/token: -8.48253\n",
      "<680> LL/token: -8.48068\n",
      "<690> LL/token: -8.48287\n",
      "\n",
      "0\t0.33333\tyears wife would life time never want know relationship family ago love months much last married one things together like \n",
      "1\t0.33333\ttold said didn friend friends asked got really went boyfriend like thought girlfriend know going night wasn guy girl feel \n",
      "2\t0.33333\tfood eat said eating dinner make restaurant vegan one made like weight drink cook asked told order table meat meal \n",
      "3\t0.33333\tdog told take get would could got pain hospital cat care dogs doctor health even aita back getting also removed \n",
      "4\t0.33333\tphone post even one sent know facebook see also call reddit people first account number message pictures picture well since \n",
      "5\t0.33333\tname work people one would office first called said company job boss say told asked speak aita coworkers call everyone \n",
      "6\t0.33333\twedding party would one want birthday said hair day dress wear family got friends gift get wanted think asked fianc \n",
      "7\t0.33333\tlike time really get doesn want even feel always think make something things day work way also know since every \n",
      "8\t0.33333\tmoney pay job would work get got house paying since paid buy asked car time well help take much really \n",
      "9\t0.33333\tkids daughter son husband baby child wife old told year pregnant children mother kid would said want think get two \n",
      "10\t0.33333\tschool get said year one high class would last college told didn think time daughter teacher also back could give \n",
      "11\t0.33333\tback get car one minutes leave around going next away way seat front didn tell says could went sit guy \n",
      "12\t0.33333\tlike said people really know say think shit something everyone pretty fucking look asked first little bit face fuck joke \n",
      "13\t0.33333\tsister mom parents family dad brother told mother didn got years father house saying left still came called aunt close \n",
      "14\t0.33333\troom house home back door sleep work bed get told night live one use living could bathroom come two day \n",
      "\n",
      "<700> LL/token: -8.48165\n",
      "<710> LL/token: -8.48154\n",
      "<720> LL/token: -8.47912\n",
      "<730> LL/token: -8.48112\n",
      "<740> LL/token: -8.47938\n",
      "\n",
      "0\t0.33333\tyears wife would life never time want relationship love ago family last know married together one much still wanted things \n",
      "1\t0.33333\ttold said didn friends friend asked got like really went boyfriend girlfriend going know thought wasn started night girl feel \n",
      "2\t0.33333\tfood eat eating make dinner said restaurant vegan weight asked made one cook drink order table meat meal like told \n",
      "3\t0.33333\tdog take told got could get pain would getting hospital back cat care dogs health doctor well removed know let \n",
      "4\t0.33333\tphone post even sent know would also facebook see call reddit pictures people found social first number everyone decided message \n",
      "5\t0.33333\tname work one people office first company said job called would boss new everyone say coworkers asked manager recently asshole \n",
      "6\t0.33333\twedding party would birthday one hair want said dress wear day got gift like family friends getting asked fianc also \n",
      "7\t0.33333\tlike time really doesn want feel get even think always make know things also way something work lot every since \n",
      "8\t0.33333\tmoney pay job would get work since time could paying buy bought home paid help trip much take month got \n",
      "9\t0.33333\tkids daughter son husband baby child wife old told kid pregnant children year want mother said would think two father \n",
      "10\t0.33333\tschool get year high told said would class college one well know teacher give daughter didn got day university last \n",
      "11\t0.33333\tback get car one minutes around next leave guy seat could didn tell woman went front got way away kid \n",
      "12\t0.33333\tlike said really people say something shit everyone first know look fucking think pretty face thing bit actually joke little \n",
      "13\t0.33333\tsister mom family parents dad brother told mother didn years father got house since came left away aunt always even \n",
      "14\t0.33333\troom house home get sleep work door night bed live back day bathroom would hours leave around morning come apartment \n",
      "\n",
      "<750> LL/token: -8.47498\n",
      "<760> LL/token: -8.47688\n",
      "<770> LL/token: -8.476\n",
      "<780> LL/token: -8.47575\n",
      "<790> LL/token: -8.47748\n",
      "\n",
      "0\t0.33333\twife years would life never want time know relationship married family love together ago much always things one last see \n",
      "1\t0.33333\ttold said didn friends friend asked really got like going went boyfriend know thought girlfriend wasn wanted girl started night \n",
      "2\t0.33333\tfood eat eating dinner make one restaurant told vegan said cook made weight meat order meal something asked drink lunch \n",
      "3\t0.33333\tdog told take could get got pain aita hospital care even dogs cat getting one health doctor back think would \n",
      "4\t0.33333\tphone post even sent first well facebook call know also pictures people would account number didn reddit things message decided \n",
      "5\t0.33333\tname work one people office said called company job told first boss say asked call everyone women new coworkers white \n",
      "6\t0.33333\twedding party said would one birthday hair dress family think day wear want like friends got didn gift get getting \n",
      "7\t0.33333\tlike time really want doesn get feel make always think even things work way know day every anything something lot \n",
      "8\t0.33333\tmoney pay would job work get could paying time paid new buy much take home month give since years wanted \n",
      "9\t0.33333\tkids son daughter husband baby wife child old year pregnant said kid children told would mother think want father two \n",
      "10\t0.33333\tschool said year get high class would one told college daughter didn teacher got getting also last next know students \n",
      "11\t0.33333\tback get car one minutes around leave next way seat would guy says could tell asshole happened away got sit \n",
      "12\t0.33333\tlike said say really people know something everyone even fucking pretty shit much went thing look first lot bit fuck \n",
      "13\t0.33333\tsister mom parents family dad brother told mother got years didn father house since still also left came aunt always \n",
      "14\t0.33333\troom house home sleep get door said night bed leave bathroom told back would apartment one live living stuff work \n",
      "\n",
      "<800> LL/token: -8.47634\n",
      "<810> LL/token: -8.47911\n",
      "<820> LL/token: -8.47484\n",
      "<830> LL/token: -8.47881\n",
      "<840> LL/token: -8.48082\n",
      "\n",
      "0\t0.33333\tyears wife would life never want know ago relationship time family married love last together made going asshole like since \n",
      "1\t0.33333\ttold said didn friends friend asked really got like boyfriend went girlfriend know thought wasn going wanted night think feel \n",
      "2\t0.33333\tfood eat dinner eating said make asked restaurant vegan weight told table cook made one like meat order meal drink \n",
      "3\t0.33333\tdog told take get could pain would hospital got cat even getting dogs also doctor bad care let aita one \n",
      "4\t0.33333\tphone one post even know sent would also people facebook everyone reddit pictures social asking message account number well found \n",
      "5\t0.33333\tname work people one office would company first said say saying boss call called manager white coworkers job think team \n",
      "6\t0.33333\twedding party would birthday want one hair day dress said like wear didn gift family got get wanted friends going \n",
      "7\t0.33333\tlike time really want doesn get even feel always think know make things way lot every day much something work \n",
      "8\t0.33333\tmoney pay would job got work get much buy house since paid paying new help take time said could bought \n",
      "9\t0.33333\tkids daughter son husband baby wife child told old year kid pregnant children mother would said want father get two \n",
      "10\t0.33333\tschool year said would high get class college told one day also last teacher well give made time getting going \n",
      "11\t0.33333\tback get car one around minutes leave tell didn asshole could guy time next seat see away front going says \n",
      "12\t0.33333\tlike said people say really shit fucking something look first actually everyone know went good face even pretty little woman \n",
      "13\t0.33333\tsister mom family parents dad brother told mother didn got years father always came left saying cousin aunt since called \n",
      "14\t0.33333\troom house home sleep back work door night get bed bathroom live leave place day apartment morning use come said \n",
      "\n",
      "<850> LL/token: -8.4772\n",
      "<860> LL/token: -8.48196\n",
      "<870> LL/token: -8.48195\n",
      "<880> LL/token: -8.47856\n",
      "<890> LL/token: -8.47811\n",
      "\n",
      "0\t0.33333\tyears wife would life never know time relationship ago want love married much together family things since last months going \n",
      "1\t0.33333\ttold said didn friends friend asked really got boyfriend like went girlfriend wasn thought know going wanted get girl started \n",
      "2\t0.33333\tfood eat said dinner eating make one restaurant vegan order cook didn table asked weight meal meat drink like home \n",
      "3\t0.33333\tdog told get take could pain one got hospital cat care would even dogs doctor back removed also aita friend \n",
      "4\t0.33333\tphone even post sent people facebook ago call also would aita reddit first didn pictures days know account message used \n",
      "5\t0.33333\tname work one people office said job company first aita boss call would came everyone white asked speak coworkers problem \n",
      "6\t0.33333\twedding party would want get one day hair birthday family said dress wear asked friends think got people gift fianc \n",
      "7\t0.33333\tlike time really want doesn feel get always think know even things make work something way lot much also every \n",
      "8\t0.33333\tmoney pay would job work get house paid paying buy new could since time got take bought wanted month car \n",
      "9\t0.33333\tkids daughter son husband wife baby child old told pregnant year children kid want mother said would think mom father \n",
      "10\t0.33333\tschool year get high would class told college said got one teacher time also give daughter aita well day game \n",
      "11\t0.33333\tback car get one minutes could around would didn next leave seat says away went see guy front way two \n",
      "12\t0.33333\tlike said really people say know everyone something first shit fucking look bit got thing pretty even face looked little \n",
      "13\t0.33333\tsister mom family parents dad brother told mother didn father got years since left went came also saying old aunt \n",
      "14\t0.33333\troom house home get back sleep door night work live leave bed morning bathroom apartment use day told place living \n",
      "\n",
      "<900> LL/token: -8.47366\n",
      "<910> LL/token: -8.47405\n",
      "<920> LL/token: -8.47826\n",
      "<930> LL/token: -8.47813\n",
      "<940> LL/token: -8.47929\n",
      "\n",
      "0\t0.33333\twife years would life never know family ago married relationship want time love much last since one months together asshole \n",
      "1\t0.33333\ttold said didn asked friends friend really got like boyfriend went girlfriend going know thought wanted wasn get girl guy \n",
      "2\t0.33333\tfood eat eating dinner one said make like restaurant vegan cook order table drink meal meat made weight asked lunch \n",
      "3\t0.33333\tdog take get told pain even got getting could back hospital cat would think care dogs know bad doctor health \n",
      "4\t0.33333\tphone post sent even call also facebook people pictures number decided found know would social message used gave account see \n",
      "5\t0.33333\tname work one people said office asked aita company job boss coworkers first everyone say would manager however white team \n",
      "6\t0.33333\twedding party would one birthday hair said want dress day wear family get didn friends getting could fianc gift husband \n",
      "7\t0.33333\tlike time really want feel get doesn even make think something things way always work day know every never lot \n",
      "8\t0.33333\tmoney pay would job work paid time could since paying get buy got home month years house well car give \n",
      "9\t0.33333\tkids daughter son husband baby child wife old told children year pregnant kid mother want said would think two mom \n",
      "10\t0.33333\tschool year get high class told one would college said daughter also got teacher well last getting day could give \n",
      "11\t0.33333\tback get car one minutes leave would around next away didn seat tell guy could got front wasn says happened \n",
      "12\t0.33333\tlike said really everyone say know people look even shit something first got little fucking face looks pretty thing think \n",
      "13\t0.33333\tsister mom parents family dad brother told mother got didn father years came house also left back still never year \n",
      "14\t0.33333\troom house home work sleep door night get live back bed told around bathroom would morning apartment stuff place leave \n",
      "\n",
      "<950> LL/token: -8.47643\n",
      "<960> LL/token: -8.47216\n",
      "<970> LL/token: -8.47786\n",
      "<980> LL/token: -8.47874\n",
      "<990> LL/token: -8.47731\n",
      "\n",
      "0\t0.33333\tyears wife would life never relationship ago married time want family know last love things together much even going like \n",
      "1\t0.33333\ttold said didn friend really friends asked got know boyfriend like went girlfriend wasn going started wanted thought get girl \n",
      "2\t0.33333\tfood eat make dinner eating restaurant vegan order drink cook one meat meal weight asked table friends would lunch made \n",
      "3\t0.33333\tdog take told get could would care pain cat one got hospital dogs health doctor removed even getting know friend \n",
      "4\t0.33333\tpost phone even people sent found know facebook call would friends pictures also aita account one reddit thought message number \n",
      "5\t0.33333\tname work one people office said company would boss job everyone called white coworkers aita told first coworker english manager \n",
      "6\t0.33333\twedding party would one birthday hair like want dress said day friends wear family think asked everyone get gift also \n",
      "7\t0.33333\tlike time really get doesn even feel want think way always something things know make day lot also work every \n",
      "8\t0.33333\tmoney pay job would work paid get since buy got paying new time told take wanted help car house could \n",
      "9\t0.33333\tkids son daughter husband baby wife child old told want year kid pregnant children mother would said think father two \n",
      "10\t0.33333\tschool would high year get class college daughter one give got said think know teacher told university student going getting \n",
      "11\t0.33333\tback get car one minutes around next could didn went leave seat away tell guy would asshole point sit phone \n",
      "12\t0.33333\tlike said people got really look say asked shit pretty thing first fucking everyone face looks made lot know think \n",
      "13\t0.33333\tsister mom family parents dad brother told mother didn got father years came one since left call still old said \n",
      "14\t0.33333\thouse room home get sleep back time door work night bed live one leave stuff bathroom use morning place around \n",
      "\n",
      "<1000> LL/token: -8.47657\n",
      "\n",
      "Total time: 45 seconds\n",
      "\n",
      "====================================\n",
      "Complete\n"
     ]
    }
   ],
   "source": [
    "little_mallet_wrapper.train_topic_model(path_to_mallet,\n",
    "                      path_to_formatted_training_data,\n",
    "                      path_to_model,\n",
    "                      path_to_topic_keys,\n",
    "                      path_to_topic_distributions,\n",
    "                      num_topics)"
   ]
  },
  {
   "cell_type": "markdown",
   "metadata": {},
   "source": [
    "## Display Topics and Top Words"
   ]
  },
  {
   "cell_type": "markdown",
   "metadata": {},
   "source": [
    "To examine the 15 topics that the topic model extracted from the Reddit posts, run the cell below. This code uses the `little_mallet_wrapper.load_topic_keys()` function to read and process the MALLET topic model output from your computer, specifically the file \"mallet.topic_keys.15\"."
   ]
  },
  {
   "cell_type": "code",
   "execution_count": 27,
   "metadata": {},
   "outputs": [
    {
     "name": "stdout",
     "output_type": "stream",
     "text": [
      "✨Topic 0✨\n",
      "\n",
      "['years', 'wife', 'would', 'life', 'never', 'relationship', 'time', 'want', 'family', 'married', 'ago', 'last', 'know', 'love', 'like', 'together', 'two', 'things', 'even', 'much']\n",
      "\n",
      "✨Topic 1✨\n",
      "\n",
      "['told', 'said', 'didn', 'really', 'friend', 'friends', 'asked', 'got', 'know', 'like', 'went', 'boyfriend', 'wasn', 'girlfriend', 'get', 'night', 'wanted', 'going', 'started', 'thought']\n",
      "\n",
      "✨Topic 2✨\n",
      "\n",
      "['food', 'eat', 'eating', 'dinner', 'make', 'restaurant', 'vegan', 'order', 'cook', 'one', 'drink', 'meat', 'meal', 'weight', 'said', 'would', 'made', 'lunch', 'table', 'put']\n",
      "\n",
      "✨Topic 3✨\n",
      "\n",
      "['dog', 'take', 'get', 'told', 'care', 'pain', 'could', 'would', 'cat', 'even', 'hospital', 'got', 'dogs', 'health', 'doctor', 'one', 'removed', 'getting', 'know', 'aita']\n",
      "\n",
      "✨Topic 4✨\n",
      "\n",
      "['post', 'phone', 'people', 'even', 'sent', 'know', 'found', 'call', 'facebook', 'friends', 'also', 'account', 'see', 'aita', 'number', 'pictures', 'would', 'everyone', 'message', 'used']\n",
      "\n",
      "✨Topic 5✨\n",
      "\n",
      "['name', 'work', 'one', 'people', 'said', 'office', 'company', 'first', 'job', 'boss', 'everyone', 'would', 'called', 'call', 'told', 'coworkers', 'white', 'manager', 'new', 'aita']\n",
      "\n",
      "✨Topic 6✨\n",
      "\n",
      "['wedding', 'party', 'would', 'one', 'birthday', 'day', 'hair', 'want', 'dress', 'wear', 'family', 'like', 'said', 'friends', 'think', 'could', 'get', 'got', 'asked', 'gift']\n",
      "\n",
      "✨Topic 7✨\n",
      "\n",
      "['like', 'time', 'really', 'get', 'doesn', 'feel', 'want', 'even', 'think', 'always', 'way', 'something', 'things', 'know', 'make', 'lot', 'also', 'work', 'says', 'day']\n",
      "\n",
      "✨Topic 8✨\n",
      "\n",
      "['money', 'pay', 'job', 'work', 'would', 'paid', 'get', 'got', 'told', 'paying', 'since', 'buy', 'new', 'time', 'house', 'could', 'year', 'car', 'bought', 'said']\n",
      "\n",
      "✨Topic 9✨\n",
      "\n",
      "['kids', 'son', 'daughter', 'husband', 'baby', 'wife', 'child', 'old', 'told', 'pregnant', 'year', 'children', 'kid', 'want', 'mother', 'would', 'said', 'think', 'father', 'asked']\n",
      "\n",
      "✨Topic 10✨\n",
      "\n",
      "['school', 'would', 'high', 'year', 'get', 'college', 'class', 'daughter', 'give', 'know', 'one', 'think', 'teacher', 'got', 'told', 'said', 'university', 'student', 'students', 'playing']\n",
      "\n",
      "✨Topic 11✨\n",
      "\n",
      "['back', 'get', 'car', 'one', 'minutes', 'next', 'leave', 'could', 'didn', 'went', 'around', 'tell', 'seat', 'away', 'says', 'way', 'guy', 'going', 'would', 'front']\n",
      "\n",
      "✨Topic 12✨\n",
      "\n",
      "['like', 'said', 'people', 'got', 'thing', 'asked', 'say', 'look', 'pretty', 'shit', 'fucking', 'really', 'first', 'know', 'everyone', 'looks', 'face', 'little', 'something', 'fuck']\n",
      "\n",
      "✨Topic 13✨\n",
      "\n",
      "['sister', 'mom', 'family', 'parents', 'dad', 'brother', 'told', 'mother', 'didn', 'got', 'father', 'left', 'years', 'came', 'said', 'went', 'since', 'one', 'old', 'mum']\n",
      "\n",
      "✨Topic 14✨\n",
      "\n",
      "['room', 'house', 'home', 'back', 'time', 'get', 'sleep', 'door', 'work', 'bed', 'night', 'live', 'one', 'use', 'bathroom', 'morning', 'leave', 'stuff', 'apartment', 'told']\n",
      "\n"
     ]
    }
   ],
   "source": [
    "topics = little_mallet_wrapper.load_topic_keys(path_to_topic_keys)\n",
    "\n",
    "for topic_number, topic in enumerate(topics):\n",
    "    print(f\"✨Topic {topic_number}✨\\n\\n{topic}\\n\")"
   ]
  },
  {
   "cell_type": "markdown",
   "metadata": {},
   "source": [
    "## Load Topic Distributions"
   ]
  },
  {
   "cell_type": "markdown",
   "metadata": {},
   "source": [
    "MALLET also calculates the likely mixture of these topics for every single Reddit post in the corpus. This mixture is really a probability distribution, that is, the probability that each topic exists in the document. We can use these probability distributions to examine which of the above topics are strongly associated with which specific posts.\n",
    "\n",
    "To get the topic distributions, we're going to use the `little_mallet_wrapper.load_topic_distributions()` function, which will read and process the MALLET topic model output, specifically the file \"mallet.topic_distributions.15\". "
   ]
  },
  {
   "cell_type": "code",
   "execution_count": 28,
   "metadata": {},
   "outputs": [],
   "source": [
    "topic_distributions = little_mallet_wrapper.load_topic_distributions(path_to_topic_distributions)"
   ]
  },
  {
   "cell_type": "code",
   "execution_count": 29,
   "metadata": {
    "scrolled": true,
    "tags": [
     "output_scroll"
    ]
   },
   "outputs": [
    {
     "data": {
      "text/plain": [
       "[0.001736111111111111,\n",
       " 0.11631944444444443,\n",
       " 0.001736111111111111,\n",
       " 0.001736111111111111,\n",
       " 0.10069444444444443,\n",
       " 0.012152777777777778,\n",
       " 0.3663194444444444,\n",
       " 0.06944444444444445,\n",
       " 0.022569444444444444,\n",
       " 0.04340277777777778,\n",
       " 0.001736111111111111,\n",
       " 0.06944444444444445,\n",
       " 0.001736111111111111,\n",
       " 0.16319444444444445,\n",
       " 0.027777777777777776]"
      ]
     },
     "execution_count": 29,
     "metadata": {},
     "output_type": "execute_result"
    }
   ],
   "source": [
    "topic_distributions[0]"
   ]
  },
  {
   "cell_type": "markdown",
   "metadata": {},
   "source": [
    "It's a bit easier to understand if we pair these probabilities with the topics themselves. As you can see below, Topic 6 \"family wedding party want birthday would\" has a relatively high probability of existing in the Reddit post \"AITA for not attending holiday gatherings?\" `.124` while Topic 14 \"dog cats dog house would take\" has a relatively low probability `.006`."
   ]
  },
  {
   "cell_type": "code",
   "execution_count": 62,
   "metadata": {
    "scrolled": true,
    "tags": [
     "output_scroll"
    ]
   },
   "outputs": [
    {
     "name": "stdout",
     "output_type": "stream",
     "text": [
      "Topic Distributions for AITA for lying about my biggest fear on a quiz show and subsequently winning a car and making other contestants lose?\n",
      "\n",
      "✨Topic 0 ['years', 'wife', 'would', 'life', 'never', 'relationship'] ✨\n",
      "Probability: 0.211\n",
      "\n",
      "✨Topic 1 ['told', 'said', 'didn', 'really', 'friend', 'friends'] ✨\n",
      "Probability: 0.033\n",
      "\n",
      "✨Topic 2 ['food', 'eat', 'eating', 'dinner', 'make', 'restaurant'] ✨\n",
      "Probability: 0.002\n",
      "\n",
      "✨Topic 3 ['dog', 'take', 'get', 'told', 'care', 'pain'] ✨\n",
      "Probability: 0.148\n",
      "\n",
      "✨Topic 4 ['post', 'phone', 'people', 'even', 'sent', 'know'] ✨\n",
      "Probability: 0.148\n",
      "\n",
      "✨Topic 5 ['name', 'work', 'one', 'people', 'said', 'office'] ✨\n",
      "Probability: 0.002\n",
      "\n",
      "✨Topic 6 ['wedding', 'party', 'would', 'one', 'birthday', 'day'] ✨\n",
      "Probability: 0.038\n",
      "\n",
      "✨Topic 7 ['like', 'time', 'really', 'get', 'doesn', 'feel'] ✨\n",
      "Probability: 0.023\n",
      "\n",
      "✨Topic 8 ['money', 'pay', 'job', 'work', 'would', 'paid'] ✨\n",
      "Probability: 0.044\n",
      "\n",
      "✨Topic 9 ['kids', 'son', 'daughter', 'husband', 'baby', 'wife'] ✨\n",
      "Probability: 0.002\n",
      "\n",
      "✨Topic 10 ['school', 'would', 'high', 'year', 'get', 'college'] ✨\n",
      "Probability: 0.122\n",
      "\n",
      "✨Topic 11 ['back', 'get', 'car', 'one', 'minutes', 'next'] ✨\n",
      "Probability: 0.002\n",
      "\n",
      "✨Topic 12 ['like', 'said', 'people', 'got', 'thing', 'asked'] ✨\n",
      "Probability: 0.117\n",
      "\n",
      "✨Topic 13 ['sister', 'mom', 'family', 'parents', 'dad', 'brother'] ✨\n",
      "Probability: 0.002\n",
      "\n",
      "✨Topic 14 ['room', 'house', 'home', 'back', 'time', 'get'] ✨\n",
      "Probability: 0.106\n",
      "\n"
     ]
    }
   ],
   "source": [
    "reddit_post_to_check = \"AITA for lying about my biggest fear on a quiz show and subsequently winning a car and making other contestants lose?\"\n",
    "\n",
    "reddit_post_number = reddit_titles.index(reddit_post_to_check)\n",
    "\n",
    "print(f\"Topic Distributions for {reddit_titles[reddit_post_number]}\\n\")\n",
    "for topic_number, (topic, topic_distribution) in enumerate(zip(topics, topic_distributions[reddit_post_number])):\n",
    "    print(f\"✨Topic {topic_number} {topic[:6]} ✨\\nProbability: {round(topic_distribution, 3)}\\n\")"
   ]
  },
  {
   "cell_type": "markdown",
   "metadata": {},
   "source": [
    "## Explore Heatmap of Topics and Texts"
   ]
  },
  {
   "cell_type": "markdown",
   "metadata": {},
   "source": [
    "We can visualize and compare these topic probability distributions with a heatmap by using the `little_mallet_wrapper.plot_categories_by_topics_heatmap()` function.\n",
    "\n",
    "We have everything we need for the heatmap except for our list of `target_labels`, the sample of texts that we'd like to visualize and compare with the heatmap. Below we make our list of desired target labels."
   ]
  },
  {
   "cell_type": "code",
   "execution_count": 33,
   "metadata": {},
   "outputs": [],
   "source": [
    "target_labels = random.sample(reddit_titles, 7)"
   ]
  },
  {
   "cell_type": "code",
   "execution_count": 64,
   "metadata": {},
   "outputs": [
    {
     "data": {
      "image/png": "[encoded data removed]",
      "text/plain": [
       "<Figure size 1080x576 with 2 Axes>"
      ]
     },
     "metadata": {
      "filenames": {
       "image/png": "/Volumes/MelData/Intro-Cultural-Analytics/_build/jupyter_execute/features/Text-Analysis/Topic-Modeling-CSV_65_0.png"
      }
     },
     "output_type": "display_data"
    }
   ],
   "source": [
    "little_mallet_wrapper.plot_categories_by_topics_heatmap(reddit_titles,\n",
    "                                      topic_distributions,\n",
    "                                      topics, \n",
    "                                      #output_directory_path + '/categories_by_topics.pdf',\n",
    "                                      target_labels=target_labels,\n",
    "                                      dim= (15, 8)\n",
    "                                     )"
   ]
  },
  {
   "cell_type": "markdown",
   "metadata": {},
   "source": [
    "## Display Top Titles Per Topic"
   ]
  },
  {
   "cell_type": "markdown",
   "metadata": {},
   "source": [
    "We can also display the Reddit posts and titles that have the highest probability for every topic with the `little_mallet_wrapper.get_top_docs()` function."
   ]
  },
  {
   "cell_type": "code",
   "execution_count": 41,
   "metadata": {},
   "outputs": [],
   "source": [
    "training_data_reddit_titles = dict(zip(training_data, reddit_titles))\n",
    "training_data_original_text = dict(zip(training_data, original_texts))"
   ]
  },
  {
   "cell_type": "markdown",
   "metadata": {},
   "source": [
    "We'll make our own function `display_top_titles_per_topic()` that will display the top Reddit post titles for every topic. This function accepts a given `topic_number` as well as a desired `number_of_documents` to display."
   ]
  },
  {
   "cell_type": "code",
   "execution_count": 42,
   "metadata": {},
   "outputs": [],
   "source": [
    "def display_top_titles_per_topic(topic_number=0, number_of_documents=5):\n",
    "    \n",
    "    print(f\"✨Topic {topic_number}✨\\n\\n{topics[topic_number]}\\n\")\n",
    "\n",
    "    for probability, document in little_mallet_wrapper.get_top_docs(training_data, topic_distributions, topic_number, n=number_of_documents):\n",
    "        print(round(probability, 4), training_data_reddit_titles[document] + \"\\n\")\n",
    "    return"
   ]
  },
  {
   "cell_type": "markdown",
   "metadata": {},
   "source": [
    "**Topic 0**"
   ]
  },
  {
   "cell_type": "markdown",
   "metadata": {},
   "source": [
    "To display the top 5 Reddit post titles with the highest probability of containing Topic 0, we will run:"
   ]
  },
  {
   "cell_type": "code",
   "execution_count": 43,
   "metadata": {},
   "outputs": [
    {
     "name": "stdout",
     "output_type": "stream",
     "text": [
      "✨Topic 0✨\n",
      "\n",
      "['years', 'wife', 'would', 'life', 'never', 'relationship', 'time', 'want', 'family', 'married', 'ago', 'last', 'know', 'love', 'like', 'together', 'two', 'things', 'even', 'much']\n",
      "\n",
      "0.6275 AITA for leaving my three year old son after finding out he isn’t mine and my wife cheated on me?\n",
      "\n",
      "0.5721 WIBTA if I left my SO while he is in prison?\n",
      "\n",
      "0.5203 AITA for not allowing my ex-wife 50/50 custody of my daughter?\n",
      "\n",
      "0.5044 WIBTA if I tell my bio daughter that I don't want to help her or have her in my life because she decided that her stepmom should adopt her once she turned 18?\n",
      "\n",
      "0.4824 AITA for skipping my child's birth to see my dying father?\n",
      "\n"
     ]
    }
   ],
   "source": [
    "display_top_titles_per_topic(topic_number=0, number_of_documents=5)"
   ]
  },
  {
   "cell_type": "markdown",
   "metadata": {},
   "source": [
    "**Topic 9**"
   ]
  },
  {
   "cell_type": "markdown",
   "metadata": {},
   "source": [
    "To display the top 5 Reddit post titles with the highest probability of containing Topic 9, we will run:"
   ]
  },
  {
   "cell_type": "code",
   "execution_count": 44,
   "metadata": {},
   "outputs": [
    {
     "name": "stdout",
     "output_type": "stream",
     "text": [
      "✨Topic 9✨\n",
      "\n",
      "['kids', 'son', 'daughter', 'husband', 'baby', 'wife', 'child', 'old', 'told', 'pregnant', 'year', 'children', 'kid', 'want', 'mother', 'would', 'said', 'think', 'father', 'asked']\n",
      "\n",
      "0.5436 AITA for not caring when our baby is born?\n",
      "\n",
      "0.5064 AITA for planning a vacation getaway for my two older kids as a thank you gift and leaving my third child with grandma when she contributing nothing?\n",
      "\n",
      "0.484 AITA for telling my daughter that I will definitely report her to the CPS if she decides to move in with her drug addicted boyfriend?\n",
      "\n",
      "0.4769 AITA for telling my kids stepmom she isn’t their mom.\n",
      "\n",
      "0.4738 AITA for choosing my biological child over my foster son?\n",
      "\n"
     ]
    }
   ],
   "source": [
    "display_top_titles_per_topic(topic_number=9, number_of_documents=5)"
   ]
  },
  {
   "cell_type": "markdown",
   "metadata": {},
   "source": [
    "**Topic 8**"
   ]
  },
  {
   "cell_type": "markdown",
   "metadata": {},
   "source": [
    "To display the top 7 Reddit posts with the highest probability of containing Topic 8, we will run:"
   ]
  },
  {
   "cell_type": "code",
   "execution_count": 45,
   "metadata": {},
   "outputs": [
    {
     "name": "stdout",
     "output_type": "stream",
     "text": [
      "✨Topic 8✨\n",
      "\n",
      "['money', 'pay', 'job', 'work', 'would', 'paid', 'get', 'got', 'told', 'paying', 'since', 'buy', 'new', 'time', 'house', 'could', 'year', 'car', 'bought', 'said']\n",
      "\n",
      "0.607 AITA for buying SO's Father's Home and Then Flipping it?\n",
      "\n",
      "0.5897 AITA for refusing to pay for my boyfriend's new glasses?\n",
      "\n",
      "0.5655 AITA for refusing to share my extra income with my wife when she didn't share hers with me when she earned more?\n",
      "\n",
      "0.5598 AITA for having the electricity shut off to our apartment, after my roommates didn't pay their shares of the bill?\n",
      "\n",
      "0.5193 AITA for not paying my roommate half of the winnings of a scratch off we “split” the cost of\n",
      "\n",
      "0.5138 AITA for spending my Sons lottery winnings money?\n",
      "\n",
      "0.5131 AITA for using a gift card I received on something other than what it was intended for?\n",
      "\n"
     ]
    }
   ],
   "source": [
    "display_top_titles_per_topic(topic_number=8, number_of_documents=7)"
   ]
  },
  {
   "cell_type": "markdown",
   "metadata": {},
   "source": [
    "## Display Topic Words in Context of Original Text"
   ]
  },
  {
   "cell_type": "markdown",
   "metadata": {},
   "source": [
    "Often it's useful to actually look at the document that has ranked highly for a given topic and puzzle out why it ranks so highly."
   ]
  },
  {
   "cell_type": "markdown",
   "metadata": {},
   "source": [
    "To display the original Reddit post texts that rank highly for a given topic, with the relevant topic words **bolded** for emphasis, we are going to make the function `display_bolded_topic_words_in_context()`.\n",
    "\n",
    "In the cell below, we're importing two special Jupyter notebook display modules, which will allow us to make the relevant topic words **bolded**, as well as the regular expressions library `re`, which will allow us to find and replace the correct words."
   ]
  },
  {
   "cell_type": "code",
   "execution_count": 46,
   "metadata": {
    "scrolled": true
   },
   "outputs": [],
   "source": [
    "from IPython.display import Markdown, display\n",
    "import re\n",
    "\n",
    "def display_bolded_topic_words_in_context(topic_number=3, number_of_documents=3, custom_words=None):\n",
    "\n",
    "    for probability, document in little_mallet_wrapper.get_top_docs(training_data, topic_distributions, topic_number, n=number_of_documents):\n",
    "        \n",
    "        print(f\"✨Topic {topic_number}✨\\n\\n{topics[topic_number]}\\n\")\n",
    "        \n",
    "        probability = f\"✨✨✨\\n\\n**{probability}**\"\n",
    "        reddit_title = f\"**{training_data_reddit_titles[document]}**\"\n",
    "        original_text = training_data_original_text[document]\n",
    "        topic_words = topics[topic_number]\n",
    "        topic_words = custom_words if custom_words != None else topic_words\n",
    "\n",
    "        for word in topic_words:\n",
    "            if word in original_text:\n",
    "                original_text = re.sub(f\"\\\\b{word}\\\\b\", f\"**{word}**\", original_text)\n",
    "\n",
    "        display(Markdown(probability)), display(Markdown(reddit_title)), display(Markdown(original_text))\n",
    "    return"
   ]
  },
  {
   "cell_type": "markdown",
   "metadata": {},
   "source": [
    "**Topic 3**"
   ]
  },
  {
   "cell_type": "markdown",
   "metadata": {},
   "source": [
    "To display the top 3 original Reddit posts with the highest probability of containing Topic 0 and with relevant topic words bolded, we will run:"
   ]
  },
  {
   "cell_type": "code",
   "execution_count": 47,
   "metadata": {
    "scrolled": true,
    "tags": [
     "output_scroll"
    ]
   },
   "outputs": [
    {
     "name": "stdout",
     "output_type": "stream",
     "text": [
      "✨Topic 3✨\n",
      "\n",
      "['dog', 'take', 'get', 'told', 'care', 'pain', 'could', 'would', 'cat', 'even', 'hospital', 'got', 'dogs', 'health', 'doctor', 'one', 'removed', 'getting', 'know', 'aita']\n",
      "\n"
     ]
    },
    {
     "data": {
      "text/markdown": [
       "✨✨✨\n",
       "\n",
       "**0.5303030303030303**"
      ],
      "text/plain": [
       "<IPython.core.display.Markdown object>"
      ]
     },
     "metadata": {},
     "output_type": "display_data"
    },
    {
     "data": {
      "text/markdown": [
       "**AITA for causing a scene in the hospital over an IV?**"
      ],
      "text/plain": [
       "<IPython.core.display.Markdown object>"
      ]
     },
     "metadata": {},
     "output_type": "display_data"
    },
    {
     "data": {
      "text/markdown": [
       "I needed to have a surgery last week. I **told** my surgeon I have a fear of needles and he **told** me he **would** write a note to **get** me a lidocaine shot. Yes it’s a shot but it’s not **getting** a fat needle stuck in me. It reduces the **pain** of the IV needle by 99%. Anyways I went to my pre op testing and **told** them I was afraid of needles. They also made a note to give me a lidocaine shot before **getting** the IV. I **get** to the **hospital** and the nurses already knew about the lidocaine shot. Well I **got** this cranky nurse who was in a bad mood. I usually joke around with nurses to ease my fears but she wasn’t taking it. She’s going solo with my IV and I asked her about the lidocaine shot and she **told** me I’m too old to **get** a lidocaine shot. She was about to stick in the giant ass IV with no numbing medication. \n",
       "\n",
       "\n",
       "\n",
       "She tried to grab my arm but I wasn’t having it. She wasn’t the nicest person.  I **got** up out of my bed and **told** the other nurses about my lidocaine shot. I was in my gown and disconnected my leads. They finally gave me my lidocaine shot and I felt no **pain** when the IV went in. \n",
       "\n",
       "\n",
       "I feel like a jerk for being extra like that but I hate needles and forever will."
      ],
      "text/plain": [
       "<IPython.core.display.Markdown object>"
      ]
     },
     "metadata": {},
     "output_type": "display_data"
    },
    {
     "name": "stdout",
     "output_type": "stream",
     "text": [
      "✨Topic 3✨\n",
      "\n",
      "['dog', 'take', 'get', 'told', 'care', 'pain', 'could', 'would', 'cat', 'even', 'hospital', 'got', 'dogs', 'health', 'doctor', 'one', 'removed', 'getting', 'know', 'aita']\n",
      "\n"
     ]
    },
    {
     "data": {
      "text/markdown": [
       "✨✨✨\n",
       "\n",
       "**0.440251572327044**"
      ],
      "text/plain": [
       "<IPython.core.display.Markdown object>"
      ]
     },
     "metadata": {},
     "output_type": "display_data"
    },
    {
     "data": {
      "text/markdown": [
       "**AITA for walking my cat on a trail frequented by dogs?**"
      ],
      "text/plain": [
       "<IPython.core.display.Markdown object>"
      ]
     },
     "metadata": {},
     "output_type": "display_data"
    },
    {
     "data": {
      "text/markdown": [
       "I live in a condo building and letting my **cat** out is not an option, so he is trained to go for walks on a leash. We like to go to trail near the woods to he can roll in the tall grass and climb trees. He has no issues with **dogs**, but **dogs** will growl at him. He does not **care**, but I can tell it pisses the **dog** owners off. I figure we have just as much right to be there as them. I **get** the whole **dogs** chase cats thing, but Bubba shouldn’t suffer just because you can’t control your **dog**. Cat tax https://i.imgur.com/IyMKfbQ.jpg"
      ],
      "text/plain": [
       "<IPython.core.display.Markdown object>"
      ]
     },
     "metadata": {},
     "output_type": "display_data"
    },
    {
     "name": "stdout",
     "output_type": "stream",
     "text": [
      "✨Topic 3✨\n",
      "\n",
      "['dog', 'take', 'get', 'told', 'care', 'pain', 'could', 'would', 'cat', 'even', 'hospital', 'got', 'dogs', 'health', 'doctor', 'one', 'removed', 'getting', 'know', 'aita']\n",
      "\n"
     ]
    },
    {
     "data": {
      "text/markdown": [
       "✨✨✨\n",
       "\n",
       "**0.41854636591478694**"
      ],
      "text/plain": [
       "<IPython.core.display.Markdown object>"
      ]
     },
     "metadata": {},
     "output_type": "display_data"
    },
    {
     "data": {
      "text/markdown": [
       "**WIBTA If I put my dog to sleep when my family goes on vacation?**"
      ],
      "text/plain": [
       "<IPython.core.display.Markdown object>"
      ]
     },
     "metadata": {},
     "output_type": "display_data"
    },
    {
     "data": {
      "text/markdown": [
       "Our **dog**, who is a pug and is 12 years old, was diagnosed with a malignant sarcoma on his upper gum about 5 months ago. We visited 5 vets; all have **told** us that while they can perform surgery and de-bulk the tumor, the tumor will grow back. Chemo is around $450 a month, FOR THE REST OF HIS LIFE. Surgery **would** be $1500 - $4500. Every vet has strongly suggested that we humanely euthanize him sooner than later. We reached out to a traveling vet that euthanizes pets at home. He specifically **told** us that we should think about our **dog**’s quality of life and to also think about the mental anguish that he will specifically face when he euthanizes a **dog** in agonizing **pain**.\n",
       "\n",
       "With all that being said, we started giving him RSO, THC and CBD versions along with gabapentin, tramadol, and prednisone. One of the cannabis products we give him is CBD companion, which is bacon flavored CBD oil that comes with an eye dropper. The vet has also been gracious to give us 90 day supplies of medications.\n",
       "\n",
       "My wife and I agreed that our **dog** **would** let us **know** when it was time for him to pass. Before his diagnoses, we planned to visit family out of country, me for 2 weeks and her for 2 months with the kids. I cancelled my trip to **take** **care** of our **dog** at the request of her a month or so after his diagnoses. Everything was going well, until about a month ago.\n",
       "\n",
       "He stopped taking his pill pockets with his medicine and all but refused to eat. He is constantly panting from **pain** and does not lie down except when he is exhausted from standing all day due to the **pain**. He can barely walk up the stairs, and if I try to pick him up he yelps in **pain**. He has lost a lot of weight. The smell alone from the necrotic flesh is nauseating and it is everywhere in the house, Febreeze only works so much. The carpet continually has new stains where he finally lays down that I clean up.\n",
       "\n",
       "My wife insisted that we continue to give him his medication, so I started compounding his medication with the bacon oil. That's right, I crush his prednisone pill up, empty the gabapentin capsule, add 3 drops of RSO (I combined the CBD and THC RSO's), with .75 ml of bacon CBD oil. I mix it up together, and then suck it all up in the eye dropper. We then squirt the medicine in his mouth and make him swallow it. We do not give Tramadol this way.\n",
       "\n",
       "They leave to visit family in less than two weeks. I have tried talking with her about euthanizing him before they go, to let her say good bye, but she refuses. She fully expects him to be alive when they return in August with visiting family. She continually tells me that I am being negative and that if I was more positive that he **would** feel that and **get** better, she has specifically said that she is hoping for a miracle.\n",
       "\n",
       "I wanted to say good bye 4 months ago, when he **could** still go to the **dog** park, when he **could** still eat a meal without being in tremendous **pain**, when he **could** sleep through the night. WIBTA if I put my **dog** to sleep soon after they go on vacation?"
      ],
      "text/plain": [
       "<IPython.core.display.Markdown object>"
      ]
     },
     "metadata": {},
     "output_type": "display_data"
    }
   ],
   "source": [
    "display_bolded_topic_words_in_context(topic_number=3, number_of_documents=3)"
   ]
  },
  {
   "cell_type": "markdown",
   "metadata": {},
   "source": [
    "**Topic 8**"
   ]
  },
  {
   "cell_type": "markdown",
   "metadata": {},
   "source": [
    "To display the top 3 original Reddit posts with the highest probability of containing Topic 8 and with relevant topic words bolded, we will run:"
   ]
  },
  {
   "cell_type": "code",
   "execution_count": 49,
   "metadata": {
    "scrolled": true,
    "tags": [
     "output_scroll"
    ]
   },
   "outputs": [
    {
     "name": "stdout",
     "output_type": "stream",
     "text": [
      "✨Topic 14✨\n",
      "\n",
      "['room', 'house', 'home', 'back', 'time', 'get', 'sleep', 'door', 'work', 'bed', 'night', 'live', 'one', 'use', 'bathroom', 'morning', 'leave', 'stuff', 'apartment', 'told']\n",
      "\n"
     ]
    },
    {
     "data": {
      "text/markdown": [
       "✨✨✨\n",
       "\n",
       "**0.6293532338308457**"
      ],
      "text/plain": [
       "<IPython.core.display.Markdown object>"
      ]
     },
     "metadata": {},
     "output_type": "display_data"
    },
    {
     "data": {
      "text/markdown": [
       "**AITA for my morning alarm(s)?**"
      ],
      "text/plain": [
       "<IPython.core.display.Markdown object>"
      ]
     },
     "metadata": {},
     "output_type": "display_data"
    },
    {
     "data": {
      "text/markdown": [
       "Hello all, very intrigued as to opinions on the following: \n",
       "\n",
       "&amp;#x200B;\n",
       "\n",
       "I am a heavy sleeper, and I mean a HEAVY sleeper. Because of this my first alarm wakes me up 3.5 hours before my shift at **work** starts, and in case I don't wake up I have alarms every 30 minutes to periodically wake me up and ensure I don't go **back** to **sleep**/oversleep etc so I can **get** to **work** on **time** every day. \n",
       "\n",
       "&amp;#x200B;\n",
       "\n",
       "Lately the person who lives in the **apartment** below me has been banging on the wall/ceiling when my alarm goes off, which I'm guessing is because it goes off at 5.30am. \n",
       "\n",
       "&amp;#x200B;\n",
       "\n",
       "This **morning**, my alarm went off at 5.30am and there was no banging, but I was too tired to **get** up and slapped the snooze button. 5.40am the alarm finishes it's snooze cycle and goes off again, at which point I turn it off. \n",
       "\n",
       "&amp;#x200B;\n",
       "\n",
       "5.45am I hear loud banging on my **apartment** **door**, very aggressive and continuous banging. I would describe it as \"open the damn **door**\" knocking. I ignore it because I'm too tired to deal with confrontation and I don't want to end up in a shouting match that wakes up the rest of the residents. Then they go downstairs outside the building, and start pressing the buzzer for my **apartment** and just holding it so it's a constantly buzzing. Then I unplug the receiver and the noise stopped. \n",
       "\n",
       "&amp;#x200B;\n",
       "\n",
       "I have emailed my building manager to advise of the situation and for them to suggest the best course of action moving forward, but I have the following questions: \n",
       "\n",
       "&amp;#x200B;\n",
       "\n",
       "1. Am I the asshole because my alarm is too early? \n",
       "2. Am I the asshole if I'm a heavy sleeper and require 3/4 alarms over a 2 hour period to wake me up?\n",
       "3. What actions would you take in response to the actions of my neighbour?"
      ],
      "text/plain": [
       "<IPython.core.display.Markdown object>"
      ]
     },
     "metadata": {},
     "output_type": "display_data"
    },
    {
     "name": "stdout",
     "output_type": "stream",
     "text": [
      "✨Topic 14✨\n",
      "\n",
      "['room', 'house', 'home', 'back', 'time', 'get', 'sleep', 'door', 'work', 'bed', 'night', 'live', 'one', 'use', 'bathroom', 'morning', 'leave', 'stuff', 'apartment', 'told']\n",
      "\n"
     ]
    },
    {
     "data": {
      "text/markdown": [
       "✨✨✨\n",
       "\n",
       "**0.5771604938271605**"
      ],
      "text/plain": [
       "<IPython.core.display.Markdown object>"
      ]
     },
     "metadata": {},
     "output_type": "display_data"
    },
    {
     "data": {
      "text/markdown": [
       "**AITA for refusing to eat my GF cooking because her cats litter is disgusting?**"
      ],
      "text/plain": [
       "<IPython.core.display.Markdown object>"
      ]
     },
     "metadata": {},
     "output_type": "display_data"
    },
    {
     "data": {
      "text/markdown": [
       "My GF has two cats. When we got to her place tonight I helped her clean up a bit. I threw some trash away, swept her floors. I was going to do the dishes but her cats litter boxes are in the kitchen and they STINK. I mean, the litter is pilled up with cat shit and piss. It’s disgusting and the smell is horrid. I wanted to clean up while she cooks but I refuse to clean her cats litter boxes. It looks like a mountain of shit and piss.\n",
       "\n",
       "I clean her kitten litter box sometimes because I can’t stand the smell but I don’t touch the adult cats box. I asked her if she could clean the boxes because they stink. She proceeds to clean the rest of the **house** except for the litter. \n",
       "\n",
       "She starts cooking dinner and I tell her “I don’t have an appetite you can put the left overs in the fridge” she thinks I’m being dramatic about the smell and whenever I suggest she cleans the litter she gets all pissy, frustrated and walks off \n",
       "\n",
       "I just don’t have an appetite to eat food that’s prepared in a kitchen with mounds of poop and piss sitting in the box smelling up the **house**. \n",
       "\n",
       "So am I just being a dramatic asshole about not eating my GF cooking because of the nasty litter boxes?"
      ],
      "text/plain": [
       "<IPython.core.display.Markdown object>"
      ]
     },
     "metadata": {},
     "output_type": "display_data"
    },
    {
     "name": "stdout",
     "output_type": "stream",
     "text": [
      "✨Topic 14✨\n",
      "\n",
      "['room', 'house', 'home', 'back', 'time', 'get', 'sleep', 'door', 'work', 'bed', 'night', 'live', 'one', 'use', 'bathroom', 'morning', 'leave', 'stuff', 'apartment', 'told']\n",
      "\n"
     ]
    },
    {
     "data": {
      "text/markdown": [
       "✨✨✨\n",
       "\n",
       "**0.5691056910569106**"
      ],
      "text/plain": [
       "<IPython.core.display.Markdown object>"
      ]
     },
     "metadata": {},
     "output_type": "display_data"
    },
    {
     "data": {
      "text/markdown": [
       "**AITA for shutting off the power to my neighbor's apartment to stop the sound of loud pornography?**"
      ],
      "text/plain": [
       "<IPython.core.display.Markdown object>"
      ]
     },
     "metadata": {},
     "output_type": "display_data"
    },
    {
     "data": {
      "text/markdown": [
       "I **live** in a building where the breaker box is at the entrance of my building. My **door** is on **one** side of the breaker box, my neighbor's **door** on the other. My son was over (he's 10 and I see him on weekends because his mom has him during the week) and my neighbor (a man in his 40s) was blasting porn on his TV.  We were trying to play guitar together and then I just had it: I went to the breaker box and turned the power to his **apartment** off and then on again. This reset his WIFI and TV. There was no more loud porn after that."
      ],
      "text/plain": [
       "<IPython.core.display.Markdown object>"
      ]
     },
     "metadata": {},
     "output_type": "display_data"
    },
    {
     "name": "stdout",
     "output_type": "stream",
     "text": [
      "✨Topic 14✨\n",
      "\n",
      "['room', 'house', 'home', 'back', 'time', 'get', 'sleep', 'door', 'work', 'bed', 'night', 'live', 'one', 'use', 'bathroom', 'morning', 'leave', 'stuff', 'apartment', 'told']\n",
      "\n"
     ]
    },
    {
     "data": {
      "text/markdown": [
       "✨✨✨\n",
       "\n",
       "**0.5566188197767145**"
      ],
      "text/plain": [
       "<IPython.core.display.Markdown object>"
      ]
     },
     "metadata": {},
     "output_type": "display_data"
    },
    {
     "data": {
      "text/markdown": [
       "**WIBTA if I told my roommate his girlfriend is getting too comfortable in our home?**"
      ],
      "text/plain": [
       "<IPython.core.display.Markdown object>"
      ]
     },
     "metadata": {},
     "output_type": "display_data"
    },
    {
     "data": {
      "text/markdown": [
       "I **live** with **one** roommate and I have a cat. We have a two bedroom, **one** bath **home** that we split everything evenly on. Half rent, half utilities, half **bathroom** space. The bedrooms are also directly next to **one** another. His bedroom **door** cannot be closed all the way due to the frame being slightly too small, so if you close it all the way it's going to be areal bitch to open again. I never close my **door** all the way because my cat always sleeps with me, but her food and litter box are outside of my **room** so our doors typically stay open all the **time**. This isn't really ever a problem with us. I've never been awaken by him and he's never been awaken by me. However, when his girlfriend comes over I'm awoken at around 9am EVERY **morning**. Due to my **work** schedule I don't **get** up until noon and usually go to **sleep** around 5am. She's here every Friday-Monday so basically all those mornings I **get** woken up by her shouting from the **bathroom** to my roommate in his **room**. Or from the kitchen. Sometimes she talks directly in front of my **door** at full volume to my roommate when he's in his **room**.\n",
       "\n",
       "Then there's the **bathroom** issue. Every weekend our **bathroom** becomes more and more populated with her **stuff**. I often find my **stuff** completely moved from where I put it. Sometimes it's moved from inside cabinets to on top of cabinets. I should mention our **bathroom** is small. We have two shelves that my roommate and I decided he gets **one**, I **get** the other. Where is her **stuff**? She has an entire shelf all to her self with some of her **stuff** now on my shared shelf with my roommate. Was I asked how I felt about this or if it was okay with me? Nope. She also has an ungodly amount of body washes, shampoos, conditioners, other shit I'm not even sure what their purpose is all in the tub. We don't even have shelf space for it, so what do they do? Move my shit to the floor so I have to reach out of the shower to **get** my shampoo.\n",
       "\n",
       "I think she's too comfortable. She's not on the lease but acts as if she pays rent. I'm tired of being tired on the weekends and I'm tired of searching through shit to find my shit to move it **back** to it's place just to have someone move it again. I'm going to tell my roommate she needs to keep her **stuff** in his **room** or they can go to her place and then she can make all the noise she wants whenever she wants. I guess I'm asking if I WIBTA to gauge what I'm going to have to deal with this weekend."
      ],
      "text/plain": [
       "<IPython.core.display.Markdown object>"
      ]
     },
     "metadata": {},
     "output_type": "display_data"
    },
    {
     "name": "stdout",
     "output_type": "stream",
     "text": [
      "✨Topic 14✨\n",
      "\n",
      "['room', 'house', 'home', 'back', 'time', 'get', 'sleep', 'door', 'work', 'bed', 'night', 'live', 'one', 'use', 'bathroom', 'morning', 'leave', 'stuff', 'apartment', 'told']\n",
      "\n"
     ]
    },
    {
     "data": {
      "text/markdown": [
       "✨✨✨\n",
       "\n",
       "**0.5494791666666666**"
      ],
      "text/plain": [
       "<IPython.core.display.Markdown object>"
      ]
     },
     "metadata": {},
     "output_type": "display_data"
    },
    {
     "data": {
      "text/markdown": [
       "**AITA for confining my husband to one bathroom in our house?**"
      ],
      "text/plain": [
       "<IPython.core.display.Markdown object>"
      ]
     },
     "metadata": {},
     "output_type": "display_data"
    },
    {
     "data": {
      "text/markdown": [
       "So this is totally TMI, but this has been an ongoing thing for our entire marriage. Basically, my husband is the messiest **bathroom** user I've ever seen. He leaves pee and shit streaks on the seat, his shit splatters the bowl every **time** he uses it, and he leaves little pieces of toilet paper all over the floor. It's disgusting. \n",
       "For the first 3 years of our marriage we lived in places with only **one** **bathroom**. I would beg him to clean up after himself, but most of the **time** he said he didn't see anything wrong. I ended up cleaning the **bathroom** almost every other day. When we bought our **house** it somehow got even worse, so by then I had had enough. I **told** him he could **use** the toilet in the master **bathroom**, and I would **use** the **one** by the guest rooms. \n",
       "This has worked out well for the most part. I keep my **bathroom** clean, and I don't step foot in the toilet **room** in our master **bathroom**. I never clean it. I don't even keep tampons in there anymore. \n",
       "Despite this arrangement, my husband sometimes still uses MY **bathroom**, and it makes me irritated. He says that sometimes it just more convenient to **use** that **bathroom**, and that it's his **house** too, so he should be able to go where he wants. My thought is that since he has chased me out of the **bathroom** connected to our bedroom, and that I have to walk across the **house** to pee at **night**, then he can at least respect my **bathroom** and go **use** the other **one**. AITA?"
      ],
      "text/plain": [
       "<IPython.core.display.Markdown object>"
      ]
     },
     "metadata": {},
     "output_type": "display_data"
    }
   ],
   "source": [
    "display_bolded_topic_words_in_context(topic_number=14, number_of_documents=5)"
   ]
  }
 ],
 "metadata": {
  "kernelspec": {
   "display_name": "Python 3",
   "language": "python",
   "name": "python3"
  },
  "language_info": {
   "codemirror_mode": {
    "name": "ipython",
    "version": 3
   },
   "file_extension": ".py",
   "mimetype": "text/x-python",
   "name": "python",
   "nbconvert_exporter": "python",
   "pygments_lexer": "ipython3",
   "version": "3.7.6"
  }
 },
 "nbformat": 4,
 "nbformat_minor": 4
}