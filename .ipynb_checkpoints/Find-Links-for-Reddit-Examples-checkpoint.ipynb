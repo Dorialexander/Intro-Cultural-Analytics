{
 "cells": [
  {
   "cell_type": "markdown",
   "metadata": {},
   "source": [
    "# Find Links for Example Reddit Posts/Comments"
   ]
  },
  {
   "cell_type": "code",
   "execution_count": 33,
   "metadata": {},
   "outputs": [],
   "source": [
    "import pandas as pd\n",
    "pd.set_option('max_colwidth', 500)\n",
    "pd.set_option('max_rows', 200)\n",
    "pd.set_option('max_columns', 200)"
   ]
  },
  {
   "cell_type": "code",
   "execution_count": 5,
   "metadata": {},
   "outputs": [
    {
     "name": "stderr",
     "output_type": "stream",
     "text": [
      "/Users/melaniewalsh/opt/anaconda3/lib/python3.7/site-packages/IPython/core/interactiveshell.py:3063: DtypeWarning: Columns (0,3,5,6,8,9,11,12,13,15,16,17,19,21,22,24,27,28,33,36,37,38,42,43,44,48,49,51,52) have mixed types.Specify dtype option on import or set low_memory=False.\n",
      "  interactivity=interactivity, compiler=compiler, result=result)\n"
     ]
    }
   ],
   "source": [
    "dfw_comments = pd.read_csv('data/David Foster Wallace-Reddit-Comments.csv')"
   ]
  },
  {
   "cell_type": "markdown",
   "metadata": {},
   "source": [
    "## Search Through Dataset Based on Comment Text"
   ]
  },
  {
   "cell_type": "markdown",
   "metadata": {},
   "source": [
    "As you read through the top Reddit posts/comments for each topic, you will hopefully find a post/comment that seems like a good example of the topic. Below I'm printing a random comment. "
   ]
  },
  {
   "cell_type": "code",
   "execution_count": 36,
   "metadata": {},
   "outputs": [
    {
     "data": {
      "text/plain": [
       "13075    I would highly highly recommend reading David Foster Wallace. Particularly his commencement speech, [\"This is Water\"](http://www.metastatic.org/text/This%20is%20Water.pdf) which you can read very quickly right now. I'd also suggest Brief Interviews with Hideous Men, which is a lightly-connected series of short fiction pieces.\\n\\nAnd not just his fiction (someone else recommended Infinite Jest and it is incredible but also very long), but his non-fiction as well ([\"A Supposedly Fun Thing I'll...\n",
       "Name: body, dtype: object"
      ]
     },
     "execution_count": 36,
     "metadata": {},
     "output_type": "execute_result"
    }
   ],
   "source": [
    "dfw_comments['body'].sample()"
   ]
  },
  {
   "cell_type": "markdown",
   "metadata": {},
   "source": [
    " "
   ]
  },
  {
   "cell_type": "markdown",
   "metadata": {},
   "source": [
    "To find that Reddit comment in the larger dataset, you can use `.str.contains()` and use the flag `na=False` to ignore blank rows. (NaN = Not a Number, na = not applicable). Below I'm creating a variable called `string_filter` and I'm going to use this to filter my dataset."
   ]
  },
  {
   "cell_type": "code",
   "execution_count": 37,
   "metadata": {},
   "outputs": [],
   "source": [
    "string_filter = dfw_comments['body'].str.contains(\"I would highly highly recommend reading David Foster Wallace. Particularly his commencement speech,\", na=False)"
   ]
  },
  {
   "cell_type": "code",
   "execution_count": 122,
   "metadata": {},
   "outputs": [
    {
     "data": {
      "text/html": [
       "<div>\n",
       "<style scoped>\n",
       "    .dataframe tbody tr th:only-of-type {\n",
       "        vertical-align: middle;\n",
       "    }\n",
       "\n",
       "    .dataframe tbody tr th {\n",
       "        vertical-align: top;\n",
       "    }\n",
       "\n",
       "    .dataframe thead th {\n",
       "        text-align: right;\n",
       "    }\n",
       "</style>\n",
       "<table border=\"1\" class=\"dataframe\">\n",
       "  <thead>\n",
       "    <tr style=\"text-align: right;\">\n",
       "      <th></th>\n",
       "      <th>all_awardings</th>\n",
       "      <th>associated_award</th>\n",
       "      <th>author</th>\n",
       "      <th>author_flair_background_color</th>\n",
       "      <th>author_flair_css_class</th>\n",
       "      <th>author_flair_richtext</th>\n",
       "      <th>author_flair_template_id</th>\n",
       "      <th>author_flair_text</th>\n",
       "      <th>author_flair_text_color</th>\n",
       "      <th>author_flair_type</th>\n",
       "      <th>author_fullname</th>\n",
       "      <th>author_patreon_flair</th>\n",
       "      <th>author_premium</th>\n",
       "      <th>awarders</th>\n",
       "      <th>body</th>\n",
       "      <th>collapsed_because_crowd_control</th>\n",
       "      <th>created_utc</th>\n",
       "      <th>gildings</th>\n",
       "      <th>id</th>\n",
       "      <th>is_submitter</th>\n",
       "      <th>link_id</th>\n",
       "      <th>locked</th>\n",
       "      <th>no_follow</th>\n",
       "      <th>parent_id</th>\n",
       "      <th>permalink</th>\n",
       "      <th>retrieved_on</th>\n",
       "      <th>score</th>\n",
       "      <th>send_replies</th>\n",
       "      <th>stickied</th>\n",
       "      <th>subreddit</th>\n",
       "      <th>subreddit_id</th>\n",
       "      <th>top_awarded_type</th>\n",
       "      <th>total_awards_received</th>\n",
       "      <th>treatment_tags</th>\n",
       "      <th>created</th>\n",
       "      <th>edited</th>\n",
       "      <th>author_cakeday</th>\n",
       "      <th>distinguished</th>\n",
       "      <th>steward_reports</th>\n",
       "      <th>updated_utc</th>\n",
       "      <th>gilded</th>\n",
       "      <th>author_created_utc</th>\n",
       "      <th>can_gild</th>\n",
       "      <th>collapsed</th>\n",
       "      <th>collapsed_reason</th>\n",
       "      <th>controversiality</th>\n",
       "      <th>nest_level</th>\n",
       "      <th>reply_delay</th>\n",
       "      <th>subreddit_name_prefixed</th>\n",
       "      <th>subreddit_type</th>\n",
       "      <th>score_hidden</th>\n",
       "      <th>rte_mode</th>\n",
       "      <th>permalink_url</th>\n",
       "      <th>comment_link</th>\n",
       "    </tr>\n",
       "  </thead>\n",
       "  <tbody>\n",
       "    <tr>\n",
       "      <th>13075</th>\n",
       "      <td>NaN</td>\n",
       "      <td>NaN</td>\n",
       "      <td>cantonic</td>\n",
       "      <td>NaN</td>\n",
       "      <td>NaN</td>\n",
       "      <td>NaN</td>\n",
       "      <td>NaN</td>\n",
       "      <td>NaN</td>\n",
       "      <td>NaN</td>\n",
       "      <td>NaN</td>\n",
       "      <td>t2_mt5ip</td>\n",
       "      <td>NaN</td>\n",
       "      <td>NaN</td>\n",
       "      <td>NaN</td>\n",
       "      <td>I would highly highly recommend reading David Foster Wallace. Particularly his commencement speech, [\"This is Water\"](http://www.metastatic.org/text/This%20is%20Water.pdf) which you can read very quickly right now. I'd also suggest Brief Interviews with Hideous Men, which is a lightly-connected series of short fiction pieces.\\n\\nAnd not just his fiction (someone else recommended Infinite Jest and it is incredible but also very long), but his non-fiction as well ([\"A Supposedly Fun Thing I'll...</td>\n",
       "      <td>NaN</td>\n",
       "      <td>1492287810</td>\n",
       "      <td>NaN</td>\n",
       "      <td>dgb4gog</td>\n",
       "      <td>NaN</td>\n",
       "      <td>t3_65gjsz</td>\n",
       "      <td>NaN</td>\n",
       "      <td>NaN</td>\n",
       "      <td>t3_65gjsz</td>\n",
       "      <td>NaN</td>\n",
       "      <td>1.494098e+09</td>\n",
       "      <td>2.0</td>\n",
       "      <td>NaN</td>\n",
       "      <td>False</td>\n",
       "      <td>printSF</td>\n",
       "      <td>t5_2rzjk</td>\n",
       "      <td>NaN</td>\n",
       "      <td>NaN</td>\n",
       "      <td>NaN</td>\n",
       "      <td>1.492302e+09</td>\n",
       "      <td>NaN</td>\n",
       "      <td>NaN</td>\n",
       "      <td>NaN</td>\n",
       "      <td>NaN</td>\n",
       "      <td>NaN</td>\n",
       "      <td>0.0</td>\n",
       "      <td>1.428608e+09</td>\n",
       "      <td>True</td>\n",
       "      <td>NaN</td>\n",
       "      <td>NaN</td>\n",
       "      <td>0.0</td>\n",
       "      <td>1.0</td>\n",
       "      <td>68178.0</td>\n",
       "      <td>NaN</td>\n",
       "      <td>NaN</td>\n",
       "      <td>NaN</td>\n",
       "      <td>NaN</td>\n",
       "      <td>NaN</td>\n",
       "      <td>https://www.reddit.com/r/printSF/comments/65gjsz/%20/dgb4gog</td>\n",
       "    </tr>\n",
       "  </tbody>\n",
       "</table>\n",
       "</div>"
      ],
      "text/plain": [
       "      all_awardings  associated_award    author author_flair_background_color  \\\n",
       "13075           NaN               NaN  cantonic                           NaN   \n",
       "\n",
       "      author_flair_css_class author_flair_richtext author_flair_template_id  \\\n",
       "13075                    NaN                   NaN                      NaN   \n",
       "\n",
       "      author_flair_text author_flair_text_color author_flair_type  \\\n",
       "13075               NaN                     NaN               NaN   \n",
       "\n",
       "      author_fullname author_patreon_flair author_premium awarders  \\\n",
       "13075        t2_mt5ip                  NaN            NaN      NaN   \n",
       "\n",
       "                                                                                                                                                                                                                                                                                                                                                                                                                                                                                                                      body  \\\n",
       "13075  I would highly highly recommend reading David Foster Wallace. Particularly his commencement speech, [\"This is Water\"](http://www.metastatic.org/text/This%20is%20Water.pdf) which you can read very quickly right now. I'd also suggest Brief Interviews with Hideous Men, which is a lightly-connected series of short fiction pieces.\\n\\nAnd not just his fiction (someone else recommended Infinite Jest and it is incredible but also very long), but his non-fiction as well ([\"A Supposedly Fun Thing I'll...   \n",
       "\n",
       "      collapsed_because_crowd_control created_utc gildings       id  \\\n",
       "13075                             NaN  1492287810      NaN  dgb4gog   \n",
       "\n",
       "      is_submitter    link_id locked no_follow  parent_id permalink  \\\n",
       "13075          NaN  t3_65gjsz    NaN       NaN  t3_65gjsz       NaN   \n",
       "\n",
       "       retrieved_on  score send_replies stickied subreddit subreddit_id  \\\n",
       "13075  1.494098e+09    2.0          NaN    False   printSF     t5_2rzjk   \n",
       "\n",
       "       top_awarded_type  total_awards_received treatment_tags       created  \\\n",
       "13075               NaN                    NaN            NaN  1.492302e+09   \n",
       "\n",
       "       edited author_cakeday distinguished steward_reports  updated_utc  \\\n",
       "13075     NaN            NaN           NaN             NaN          NaN   \n",
       "\n",
       "       gilded  author_created_utc can_gild collapsed collapsed_reason  \\\n",
       "13075     0.0        1.428608e+09     True       NaN              NaN   \n",
       "\n",
       "       controversiality  nest_level  reply_delay subreddit_name_prefixed  \\\n",
       "13075               0.0         1.0      68178.0                     NaN   \n",
       "\n",
       "      subreddit_type score_hidden rte_mode permalink_url  \\\n",
       "13075            NaN          NaN      NaN           NaN   \n",
       "\n",
       "                                                       comment_link  \n",
       "13075  https://www.reddit.com/r/printSF/comments/65gjsz/%20/dgb4gog  "
      ]
     },
     "execution_count": 122,
     "metadata": {},
     "output_type": "execute_result"
    }
   ],
   "source": [
    "dfw_comments[string_filter]"
   ]
  },
  {
   "cell_type": "markdown",
   "metadata": {},
   "source": [
    "Then I'm only going to look at a few columns"
   ]
  },
  {
   "cell_type": "code",
   "execution_count": 116,
   "metadata": {},
   "outputs": [
    {
     "data": {
      "text/html": [
       "<div>\n",
       "<style scoped>\n",
       "    .dataframe tbody tr th:only-of-type {\n",
       "        vertical-align: middle;\n",
       "    }\n",
       "\n",
       "    .dataframe tbody tr th {\n",
       "        vertical-align: top;\n",
       "    }\n",
       "\n",
       "    .dataframe thead th {\n",
       "        text-align: right;\n",
       "    }\n",
       "</style>\n",
       "<table border=\"1\" class=\"dataframe\">\n",
       "  <thead>\n",
       "    <tr style=\"text-align: right;\">\n",
       "      <th></th>\n",
       "      <th>body</th>\n",
       "      <th>subreddit</th>\n",
       "      <th>permalink</th>\n",
       "      <th>link_id</th>\n",
       "      <th>parent_id</th>\n",
       "      <th>id</th>\n",
       "      <th>subreddit_id</th>\n",
       "    </tr>\n",
       "  </thead>\n",
       "  <tbody>\n",
       "    <tr>\n",
       "      <th>13075</th>\n",
       "      <td>I would highly highly recommend reading David Foster Wallace. Particularly his commencement speech, [\"This is Water\"](http://www.metastatic.org/text/This%20is%20Water.pdf) which you can read very quickly right now. I'd also suggest Brief Interviews with Hideous Men, which is a lightly-connected series of short fiction pieces.\\n\\nAnd not just his fiction (someone else recommended Infinite Jest and it is incredible but also very long), but his non-fiction as well ([\"A Supposedly Fun Thing I'll...</td>\n",
       "      <td>printSF</td>\n",
       "      <td>NaN</td>\n",
       "      <td>t3_65gjsz</td>\n",
       "      <td>t3_65gjsz</td>\n",
       "      <td>dgb4gog</td>\n",
       "      <td>t5_2rzjk</td>\n",
       "    </tr>\n",
       "  </tbody>\n",
       "</table>\n",
       "</div>"
      ],
      "text/plain": [
       "                                                                                                                                                                                                                                                                                                                                                                                                                                                                                                                      body  \\\n",
       "13075  I would highly highly recommend reading David Foster Wallace. Particularly his commencement speech, [\"This is Water\"](http://www.metastatic.org/text/This%20is%20Water.pdf) which you can read very quickly right now. I'd also suggest Brief Interviews with Hideous Men, which is a lightly-connected series of short fiction pieces.\\n\\nAnd not just his fiction (someone else recommended Infinite Jest and it is incredible but also very long), but his non-fiction as well ([\"A Supposedly Fun Thing I'll...   \n",
       "\n",
       "      subreddit permalink    link_id  parent_id       id subreddit_id  \n",
       "13075   printSF       NaN  t3_65gjsz  t3_65gjsz  dgb4gog     t5_2rzjk  "
      ]
     },
     "execution_count": 116,
     "metadata": {},
     "output_type": "execute_result"
    }
   ],
   "source": [
    "dfw_comments[string_filter][['body','subreddit', 'permalink','link_id', 'parent_id', 'id', 'subreddit_id']]"
   ]
  },
  {
   "cell_type": "markdown",
   "metadata": {},
   "source": [
    "# Make Column for Comment URL"
   ]
  },
  {
   "cell_type": "markdown",
   "metadata": {},
   "source": [
    "I realized that comments don't come with their own links, so we have to combine some columns in order to make a comment link"
   ]
  },
  {
   "cell_type": "code",
   "execution_count": 56,
   "metadata": {},
   "outputs": [],
   "source": [
    "import re"
   ]
  },
  {
   "cell_type": "code",
   "execution_count": 84,
   "metadata": {},
   "outputs": [],
   "source": [
    "def make_link_to_comment(row):\n",
    "    link_id = str(row['link_id'])\n",
    "    link_id = re.sub('t3_', '', link_id)\n",
    "    comment_link = f\"https://www.reddit.com/r/{row['subreddit']}/comments/{link_id}/%20/{row['id']}\"\n",
    "    return comment_link"
   ]
  },
  {
   "cell_type": "code",
   "execution_count": 86,
   "metadata": {},
   "outputs": [],
   "source": [
    "dfw_comments['comment_link'] = dfw_comments.apply(make_link_to_comment, axis=1)"
   ]
  },
  {
   "cell_type": "code",
   "execution_count": 110,
   "metadata": {},
   "outputs": [
    {
     "data": {
      "text/html": [
       "<div>\n",
       "<style scoped>\n",
       "    .dataframe tbody tr th:only-of-type {\n",
       "        vertical-align: middle;\n",
       "    }\n",
       "\n",
       "    .dataframe tbody tr th {\n",
       "        vertical-align: top;\n",
       "    }\n",
       "\n",
       "    .dataframe thead th {\n",
       "        text-align: right;\n",
       "    }\n",
       "</style>\n",
       "<table border=\"1\" class=\"dataframe\">\n",
       "  <thead>\n",
       "    <tr style=\"text-align: right;\">\n",
       "      <th></th>\n",
       "      <th>body</th>\n",
       "      <th>subreddit</th>\n",
       "      <th>permalink</th>\n",
       "      <th>link_id</th>\n",
       "      <th>parent_id</th>\n",
       "      <th>id</th>\n",
       "      <th>subreddit_id</th>\n",
       "      <th>comment_link</th>\n",
       "    </tr>\n",
       "  </thead>\n",
       "  <tbody>\n",
       "    <tr>\n",
       "      <th>13075</th>\n",
       "      <td>I would highly highly recommend reading David Foster Wallace. Particularly his commencement speech, [\"This is Water\"](http://www.metastatic.org/text/This%20is%20Water.pdf) which you can read very quickly right now. I'd also suggest Brief Interviews with Hideous Men, which is a lightly-connected series of short fiction pieces.\\n\\nAnd not just his fiction (someone else recommended Infinite Jest and it is incredible but also very long), but his non-fiction as well ([\"A Supposedly Fun Thing I'll...</td>\n",
       "      <td>printSF</td>\n",
       "      <td>NaN</td>\n",
       "      <td>t3_65gjsz</td>\n",
       "      <td>t3_65gjsz</td>\n",
       "      <td>dgb4gog</td>\n",
       "      <td>t5_2rzjk</td>\n",
       "      <td>https://www.reddit.com/r/printSF/comments/65gjsz/%20/dgb4gog</td>\n",
       "    </tr>\n",
       "  </tbody>\n",
       "</table>\n",
       "</div>"
      ],
      "text/plain": [
       "                                                                                                                                                                                                                                                                                                                                                                                                                                                                                                                      body  \\\n",
       "13075  I would highly highly recommend reading David Foster Wallace. Particularly his commencement speech, [\"This is Water\"](http://www.metastatic.org/text/This%20is%20Water.pdf) which you can read very quickly right now. I'd also suggest Brief Interviews with Hideous Men, which is a lightly-connected series of short fiction pieces.\\n\\nAnd not just his fiction (someone else recommended Infinite Jest and it is incredible but also very long), but his non-fiction as well ([\"A Supposedly Fun Thing I'll...   \n",
       "\n",
       "      subreddit permalink    link_id  parent_id       id subreddit_id  \\\n",
       "13075   printSF       NaN  t3_65gjsz  t3_65gjsz  dgb4gog     t5_2rzjk   \n",
       "\n",
       "                                                       comment_link  \n",
       "13075  https://www.reddit.com/r/printSF/comments/65gjsz/%20/dgb4gog  "
      ]
     },
     "execution_count": 110,
     "metadata": {},
     "output_type": "execute_result"
    }
   ],
   "source": [
    "dfw_comments[string_filter][['body','subreddit', 'permalink','link_id', 'parent_id', 'id', 'subreddit_id', 'comment_link']]"
   ]
  },
  {
   "cell_type": "markdown",
   "metadata": {},
   "source": [
    "## Make Links Clickable"
   ]
  },
  {
   "cell_type": "markdown",
   "metadata": {},
   "source": [
    "Now we have a link! To make these links clickable, you can use the function below any time you're displaying the data and want to click links"
   ]
  },
  {
   "cell_type": "code",
   "execution_count": 89,
   "metadata": {},
   "outputs": [],
   "source": [
    "from IPython.core.display import HTML"
   ]
  },
  {
   "cell_type": "code",
   "execution_count": 118,
   "metadata": {},
   "outputs": [],
   "source": [
    "def make_links_clickable(pandas_df):\n",
    "    return HTML(pandas_df.to_html(escape=False, render_links=True))"
   ]
  },
  {
   "cell_type": "code",
   "execution_count": 115,
   "metadata": {},
   "outputs": [
    {
     "data": {
      "text/html": [
       "<table border=\"1\" class=\"dataframe\">\n",
       "  <thead>\n",
       "    <tr style=\"text-align: right;\">\n",
       "      <th></th>\n",
       "      <th>body</th>\n",
       "      <th>subreddit</th>\n",
       "      <th>permalink</th>\n",
       "      <th>link_id</th>\n",
       "      <th>parent_id</th>\n",
       "      <th>id</th>\n",
       "      <th>subreddit_id</th>\n",
       "      <th>comment_link</th>\n",
       "    </tr>\n",
       "  </thead>\n",
       "  <tbody>\n",
       "    <tr>\n",
       "      <th>13075</th>\n",
       "      <td>I would highly highly recommend reading David Foster Wallace. Particularly his commencement speech, [\"This is Water\"](http://www.metastatic.org/text/This%20is%20Water.pdf) which you can read very quickly right now. I'd also suggest Brief Interviews with Hideous Men, which is a lightly-connected series of short fiction pieces.\\n\\nAnd not just his fiction (someone else recommended Infinite Jest and it is incredible but also very long), but his non-fiction as well ([\"A Supposedly Fun Thing I'll Never Do Again\"](https://harpers.org/wp-content/uploads/2008/09/HarpersMagazine-1996-01-0007859.pdf), an extremely funny account of his time on a cruise ship; and [\"Roger Federer as Religious Experience\"](http://www.nytimes.com/2006/08/20/sports/playmagazine/20federer.html), about watching the great tennis player transcend the meaning of human athleticism, are both fascinating reads about human experience). While Wallace is not *really* sci-fi, he is often writing about and searching for answers to social estrangement. And particularly about taking the feeling you're describing and realizing that each person out there is also feeling something similar, and is struggling to relate to others in a way that feels real or substantial and that we often feel alone while stuck in our heads which results in us feeling more alone.</td>\n",
       "      <td>printSF</td>\n",
       "      <td>NaN</td>\n",
       "      <td>t3_65gjsz</td>\n",
       "      <td>t3_65gjsz</td>\n",
       "      <td>dgb4gog</td>\n",
       "      <td>t5_2rzjk</td>\n",
       "      <td><a href=\"https://www.reddit.com/r/printSF/comments/65gjsz/%20/dgb4gog\" target=\"_blank\">https://www.reddit.com/r/printSF/comments/65gjsz/%20/dgb4gog</a></td>\n",
       "    </tr>\n",
       "  </tbody>\n",
       "</table>"
      ],
      "text/plain": [
       "<IPython.core.display.HTML object>"
      ]
     },
     "execution_count": 115,
     "metadata": {},
     "output_type": "execute_result"
    }
   ],
   "source": [
    "make_links_clickable(dfw_comments[string_filter][['body','subreddit', 'permalink','link_id', 'parent_id', 'id', 'subreddit_id', 'comment_link']])"
   ]
  },
  {
   "cell_type": "code",
   "execution_count": 123,
   "metadata": {},
   "outputs": [
    {
     "data": {
      "text/html": [
       "<table border=\"1\" class=\"dataframe\">\n",
       "  <thead>\n",
       "    <tr style=\"text-align: right;\">\n",
       "      <th></th>\n",
       "      <th>body</th>\n",
       "      <th>subreddit</th>\n",
       "      <th>link_id</th>\n",
       "      <th>parent_id</th>\n",
       "      <th>id</th>\n",
       "      <th>subreddit_id</th>\n",
       "      <th>comment_link</th>\n",
       "    </tr>\n",
       "  </thead>\n",
       "  <tbody>\n",
       "    <tr>\n",
       "      <th>30014</th>\n",
       "      <td>Infinite Jest by David Foster Wallace. It's not a\"light\" read, but well worth it. An excellent satire that explores addiction, entertainment obsession and it even pokes fun at Canada. Remember to read the footnotesas they are listed.</td>\n",
       "      <td>AskReddit</td>\n",
       "      <td>t3_1acnhq</td>\n",
       "      <td>t3_1acnhq</td>\n",
       "      <td>c8wmnsu</td>\n",
       "      <td>t5_2qh1i</td>\n",
       "      <td><a href=\"https://www.reddit.com/r/AskReddit/comments/1acnhq/%20/c8wmnsu\" target=\"_blank\">https://www.reddit.com/r/AskReddit/comments/1acnhq/%20/c8wmnsu</a></td>\n",
       "    </tr>\n",
       "    <tr>\n",
       "      <th>210</th>\n",
       "      <td>Neat! DFW is my favourite author and many might not be familiar with him, so I wanted to share a brief newcomer's guide.\\n\\nHis short stories will be the most suitable jumping-off point:\\n\\n* [Consider the Lobster, 2004](http://www.columbia.edu/~col8/lobsterarticle.pdf) ^[1]\\n* [A Supposedly Fun Thing I'll Never Do Again, 1996](https://harpers.org/wp-content/uploads/2008/09/HarpersMagazine-1996-01-0007859.pdf) ^[2]\\n* [Big Red Son, 1998](https://genius.com/David-foster-wallace-big-red-son-annotated) ^[3]\\n\\nAdjacent interview/speaking material on Youtube:\\n\\n* [Kenyon College Commencement, 2005](https://www.youtube.com/watch?v=8CrOL-ydFMI)\\n*  [WNYC Interview, 1996](https://www.youtube.com/watch?v=w5R8gduPZw4)\\n* [ZDF Interview, 2003](https://www.youtube.com/watch?v=iGLzWdT7vGc)\\n\\nIf you like him up to this point, grab a copy of Infinite Jest and tune into the main event. \\n\\n---\\n\\n*[1] One of my favourites. He hijacks Gourmet magazine, converting coverage of a NE lobster festival into an exploration of whether lobsters are able to feel pain. Read time: 25 minutes.*\\n\\n*[2] Outsider perspective on the gauche luxury of cruises. Read time: 60 minutes.*\\n\\n*[3] On the spiritual vacancy of the AVN awards. Read time: 90 minutes.*</td>\n",
       "      <td>davidfosterwallace</td>\n",
       "      <td>t3_hev4ar</td>\n",
       "      <td>t3_hev4ar</td>\n",
       "      <td>fvvdyw3</td>\n",
       "      <td>t5_2s6a8</td>\n",
       "      <td><a href=\"https://www.reddit.com/r/davidfosterwallace/comments/hev4ar/%20/fvvdyw3\" target=\"_blank\">https://www.reddit.com/r/davidfosterwallace/comments/hev4ar/%20/fvvdyw3</a></td>\n",
       "    </tr>\n",
       "    <tr>\n",
       "      <th>19712</th>\n",
       "      <td>I recommend you read \"The Depressed Person\" and \"Good Old Neon\" by David Foster Wallace for an idea of what talk therapy feels like to thoughtful/depressed people. Talk therapy is mostly quackery.</td>\n",
       "      <td>raisedbynarcissists</td>\n",
       "      <td>t3_3r36jq</td>\n",
       "      <td>t3_3r36jq</td>\n",
       "      <td>cye5mf6</td>\n",
       "      <td>t5_2we9n</td>\n",
       "      <td><a href=\"https://www.reddit.com/r/raisedbynarcissists/comments/3r36jq/%20/cye5mf6\" target=\"_blank\">https://www.reddit.com/r/raisedbynarcissists/comments/3r36jq/%20/cye5mf6</a></td>\n",
       "    </tr>\n",
       "    <tr>\n",
       "      <th>23633</th>\n",
       "      <td>From this, I think Infinite Jest by David Foster Wallace would be right up your ally, as well as Cat's Cradle by Vonnegut. Phillip K. Dick has some other pretty awesome books too like Ubik, A Scanner Darkly, The Man In The High Castle and VALIS. Nabokov's Pale Fire is also a must read. \\n\\nThanks for the Yukio Mishima rec! Been meaning to check more of his stuff out since reading The Sound of Waves.</td>\n",
       "      <td>books</td>\n",
       "      <td>t3_2qejak</td>\n",
       "      <td>t3_2qejak</td>\n",
       "      <td>cn5n9yq</td>\n",
       "      <td>t5_2qh4i</td>\n",
       "      <td><a href=\"https://www.reddit.com/r/books/comments/2qejak/%20/cn5n9yq\" target=\"_blank\">https://www.reddit.com/r/books/comments/2qejak/%20/cn5n9yq</a></td>\n",
       "    </tr>\n",
       "    <tr>\n",
       "      <th>25666</th>\n",
       "      <td>“The so-called ‘psychotically depressed’ person who tries to kill herself doesn’t do so out of quote ‘hopelessness’ or any abstract conviction that life’s assets and debits do not square. And surely not because death seems suddenly appealing. The person in whom Its invisible agony reaches a certain unendurable level will kill herself the same way a trapped person will eventually jump from the window of a burning high-rise. Make no mistake about people who leap from burning windows. Their terror of falling from a great height is still just as great as it would be for you or me standing speculatively at the same window just checking out the view; i.e. the fear of falling remains a constant. The variable here is the other terror, the fire’s flames: when the flames get close enough, falling to death becomes the slightly less terrible of two terrors. It’s not desiring the fall; it’s terror of the flames. And yet nobody down on the sidewalk, looking up and yelling ‘Don’t!’ and ‘Hang on!’, can understand the jump. Not really. You’d have to have personally been trapped and felt flames to really understand a terror way beyond falling.”\\n― David Foster Wallace</td>\n",
       "      <td>depression</td>\n",
       "      <td>t3_258r7u</td>\n",
       "      <td>t3_258r7u</td>\n",
       "      <td>chezlvq</td>\n",
       "      <td>t5_2qqqf</td>\n",
       "      <td><a href=\"https://www.reddit.com/r/depression/comments/258r7u/%20/chezlvq\" target=\"_blank\">https://www.reddit.com/r/depression/comments/258r7u/%20/chezlvq</a></td>\n",
       "    </tr>\n",
       "    <tr>\n",
       "      <th>14107</th>\n",
       "      <td>It just didn't go anywhere.  When they went back to the sixties, all that stuff with the protest was really boring to me.  The book was compared with Pynchon and David Foster Wallace.  While I can see the influence, it wasn't anywhere near the same league.  It wasn't very witty. I didn't care about the characters. It was too long.  Just didn't work for me.</td>\n",
       "      <td>books</td>\n",
       "      <td>t3_5nzahg</td>\n",
       "      <td>t1_dcfktkb</td>\n",
       "      <td>dcflhg6</td>\n",
       "      <td>t5_2qh4i</td>\n",
       "      <td><a href=\"https://www.reddit.com/r/books/comments/5nzahg/%20/dcflhg6\" target=\"_blank\">https://www.reddit.com/r/books/comments/5nzahg/%20/dcflhg6</a></td>\n",
       "    </tr>\n",
       "    <tr>\n",
       "      <th>3832</th>\n",
       "      <td>David Foster Wallace is an interesting one in that I can see the same thing at play for both sides in his case.</td>\n",
       "      <td>ThomasPynchon</td>\n",
       "      <td>t3_crf1vn</td>\n",
       "      <td>t1_ex573gn</td>\n",
       "      <td>ex5cug9</td>\n",
       "      <td>t5_2skte</td>\n",
       "      <td><a href=\"https://www.reddit.com/r/ThomasPynchon/comments/crf1vn/%20/ex5cug9\" target=\"_blank\">https://www.reddit.com/r/ThomasPynchon/comments/crf1vn/%20/ex5cug9</a></td>\n",
       "    </tr>\n",
       "    <tr>\n",
       "      <th>30513</th>\n",
       "      <td>Whelp. I acronymed again, didn't I?\\n\\nSJW = Social Justice Warrior. Internet arguments about gender politics.\\n\\nDFW = David Foster Wallace, author. Don't start with Infinite Jest, your skull will hate you.</td>\n",
       "      <td>mylittleandysonic1</td>\n",
       "      <td>t3_168gam</td>\n",
       "      <td>t1_c7tqn56</td>\n",
       "      <td>c7tqnu0</td>\n",
       "      <td>t5_2stzm</td>\n",
       "      <td><a href=\"https://www.reddit.com/r/mylittleandysonic1/comments/168gam/%20/c7tqnu0\" target=\"_blank\">https://www.reddit.com/r/mylittleandysonic1/comments/168gam/%20/c7tqnu0</a></td>\n",
       "    </tr>\n",
       "    <tr>\n",
       "      <th>16298</th>\n",
       "      <td>\\n# *BOOK︻DOWNLOAD \"The Fifth Elephant by Terry Pratchett\" review value wiki ebay pdf pocket acquire*\\n\\n***\\n## ➥➥➥ **READ** [***The Fifth Elephant by Terry Pratchett***](https://imgur.com/yyX3eqC)\\n***\\n***\\n## ➥➥➥ **ONLINE** [***The Fifth Elephant by Terry Pratchett***](https://imgur.com/yyX3eqC)\\n***\\n***\\n## ➥➥➥ **DOWNLOAD** [***The Fifth Elephant by Terry Pratchett***](https://imgur.com/yyX3eqC)\\n***\\n\\n. \\n\\n***\\n## ➥➥➥ **READ** [***The Fifth Elephant by Terry Pratchett***](https://imgur.com/yyX3eqC)\\n***\\n***\\n## ➥➥➥ **ONLINE** [***The Fifth Elephant by Terry Pratchett***](https://imgur.com/yyX3eqC)\\n***\\n***\\n## ➥➥➥ **DOWNLOAD** [***The Fifth Elephant by Terry Pratchett***](https://imgur.com/yyX3eqC)\\n***\\n\\n&gt; .\\n\\n&gt; .\\n\\n&gt; .\\n\\n&gt; .\\n\\n&gt; .\\n\\n&gt; . \\n\\n&gt; .\\n\\n&gt; .\\n\\n&gt; .\\n\\n&gt; .\\n\\n&gt; .\\n\\n&gt; .\\n\\n&gt; .\\n\\n&gt; .\\n\\n&gt; .\\n\\n&gt; [BOOK︻DOWNLOAD.. \"Intensity.. by.. Dean.. Koontz\".. iBooks.. portable.. spanish.. djvu.. ebay.. value](https://www.reddit.com/4rmugr),.. [BOOK︻DOWNLOAD.. \"Ball.. Four.. by.. Jim.. Bouton\".. wiki.. buy.. djvu.. download.. ipad.. windows](https://www.reddit.com/4rmrq8),.. [BOOK︻DOWNLOAD.. \"The.. Accidental.. Tourist.. by.. Anne.. Tyler\".. spanish.. buy.. acquire.. ipad.. italian.. wiki](https://www.reddit.com/4rnaz4),.. [BOOK︻DOWNLOAD.. \"Infinite.. Jest.. by.. David.. Foster.. Wallace\".. how.. download.. look.. authors.. without.. registering.. kindle.. kickass.. selling](https://www.reddit.com/4rmx0l),.. [BOOK︻READ.. \"The.. Red.. Box.. by.. Rex.. Stout\".. ios.. amazon.. direct.. link.. read.. format.. no.. registration.. ebay](https://www.reddit.com/4rng4z),.. [BOOK︻FREE.. \"Red.. Cavalry.. by.. Isaac.. Babel\".. how.. to.. without.. registering.. offline.. view.. doc.. ebook.. wiki.. review](https://www.reddit.com/4rn57p),.. [BOOK︻READ.. \"Prozac.. Nation.. by.. Elizabeth.. Wurtzel\".. kickass.. iBooks.. without.. signing.. free.. kindle.. download](https://www.reddit.com/4rn38t),.. [BOOK︻DOWNLOAD.. \"Sideways.. Stories.. from.. Wayside.. School.. by.. Louis.. Sachar\".. authors.. get.. review.. doc.. online.. finder.. how.. download](https://www.reddit.com/4rn1w6),.. [BOOK︻DOWNLOAD.. \"Night.. Flight.. by.. Antoine.. de.. Saint-Exupéry\".. wiki.. djvu.. ipad.. text.. prewiew.. epub.. german](https://www.reddit.com/4rmy7o),.. [BOOK︻READ.. \"The.. Caucasian.. Chalk.. Circle.. by.. Bertolt.. Brecht\".. find.. buy.. selling.. ebook.. direct.. link.. portable.. original.. online](https://www.reddit.com/4rnd9d),.. [BOOK︻DOWNLOAD.. \"Esperanza.. Rising.. by.. Pam.. Muñoz.. Ryan\".. without.. registering.. fb2.. get.. purchase.. direct.. link.. thepiratebay](https://www.reddit.com/4rmrhb)\\n\\n&gt; .\\n\\n&gt; .\\n\\n&gt; The \\nFifth \\nElephant \\nby \\nby \\nTerry \\nPratchett \\nSummary \\nand \\nreviews\\nthe \\nfifth \\nelephant \\nby \\nterry \\npratchett \\nnovels\\nthe \\nfifth \\nelephant \\nby \\nterry \\npratchett \\nthe \\ncolor\\nthe \\nfifth \\nelephant \\nby \\nterry \\npratchett \\nwiki\\nthe \\nfifth \\nelephant \\nby \\nterry \\npratchett \\nbook\\nEmma \\nCline's \\nambitious \\nnovel \\nThe \\nGirls \\nkicks \\noff \\nour \\nlist \\nof \\nthis \\nyear's \\nbest \\nsummer \\nreading \\ntitles.\\nEveryone \\nknows \\nthat \\nthe \\nworld \\nis \\nflat \\nand \\nsupported \\non \\nthe \\nbacks \\nof \\nfour \\nelephants. \\nBut \\nweren't \\nthere \\nsupposed \\nto \\nbe \\nfive? \\nWhat \\nhappened \\nto \\nthe \\nfifth \\nelephant \\nis\\nFiction \\nBook \\nReview \\nThe \\nFifth \\nElephant \\nby \\nTerry \\nPratchett\\nBlurb. \\nA \\nDiscworld \\nnovel \\nof \\ndwarfs \\ndiplomacy \\nintrigue \\nand \\nbig \\nlumps \\nof \\nfat. \\nSam \\nVimes \\nis \\na \\nman \\non \\nthe \\nrun. \\nYesterday \\nhe \\nwas \\na \\nduke \\na \\nchief \\nof \\npolice \\nand \\nthe\\nthe \\nfifth \\nelephant \\nby \\nterry \\npratchett \\nbibliography\\nThe \\nFifth \\nElephant \\nby \\nTerry \\nPratchett \\n9780552154239 \\navailable \\nat \\nBook \\nDepository \\nwith \\nfree \\ndelivery \\nworldwide.\\nthe \\nfifth \\nelephant \\nby \\nterry \\npratchett \\nreading\\nTHE \\nFIFTH \\nELEPHANT \\nby \\nTerry \\nPratchett \\nDoubleday \\n0-385-40995-8 \\n317pp/£16.99/November \\n1999 \\nCover \\nby \\nJosh \\nKirby\\nAcclaimed \\nBritish \\nauthor \\nPratchett \\ncontinues \\nto \\ndistinguish \\nhimself \\nfrom \\nhis \\ncolleagues \\nwith \\nclever \\nplot \\nlines \\nand \\ngenuinely \\nlikable \\ncharacters \\nin \\nthis \\nfirst-rate\\nTITLE \\nTHE \\nFIFTH \\nELEPHANT; \\nAUTHOR \\nTERRY \\nPRATCHETT; \\nSERIES \\nDISCWORLD \\n24 \\n– \\nCITY \\nWATCH \\n05; \\nIn \\nwhich \\nVimes \\ngets \\ndragged \\nkicking \\nand \\nscreaming \\ninto \\nthe\\nthe \\nfifth \\nelephant \\nby \\nterry \\npratchett\\nThe \\nFifth \\nElephant \\nAmazon.co.uk \\nTerry \\nPratchett\\nthe \\nfifth \\nelephant \\nby \\nterry \\npratchett \\nsmall\\nReview \\n- \\nThe \\nFifth \\nElephant \\nby \\nTerry \\nPratchett \\n- \\nBookLore\\nthe \\nfifth \\nelephant \\nterry \\npratchett \\npdf\\nthe \\nfifth \\nelephant \\nby \\nterry \\npratchett \\ndeath\\nthe \\nfifth \\nelephant \\nby \\nterry \\npratchett \\nbooks\\nAmazon \\nReview. \\nTerry \\nPratchett \\nhas \\na \\nseemingly \\nendless \\ncapacity \\nfor \\ngenerating \\ninventively \\ncomic \\nnovels \\nabout \\nthe \\nDiscworld \\nand \\nits \\ninhabitants \\nbut \\nthere \\nis \\nin \\nthe\\nthe \\nfifth \\nelephant \\nby \\nterry \\npratchett \\nnation\\nthe \\nfifth \\nelephant \\nby \\nterry \\npratchett \\ngoing\\nThe \\nFifth \\nElephant \\nTerry \\nPratchett \\n9780552154239\\nthe \\nfifth \\nelephant \\nby \\nterry \\npratchett \\nquotes\\nTHE \\nFIFTH \\nELEPHANT \\nby \\nTerry \\nPratchett \\n| \\nKirkus \\nReviews\\nThe \\nFifth \\nElephant \\nby \\nTerry \\nPratchett \\n9780552146166 \\navailable \\nat \\nBook \\nDepository \\nwith \\nfree \\ndelivery \\nworldwide.\\nTerry \\nPratchett \\nThe \\nFifth \\nElephant \\n- \\nThe \\nSF \\nSite \\nThe\\nBookThe \\nFifth \\nElephant \\n- \\nDiscworld \\n&amp;amp; \\nTerry \\nPratchett \\nWiki\\nThe \\nFifth \\nElephant \\nby \\nTerry \\nPratchett \\n– \\nDrunken \\nDragon \\nReviews\\nReview \\nby \\nChrissi \\n(011101) \\nRating \\n(8/10) \\nReview \\nby \\nVex \\n(310301) \\nRating \\n(7/10) \\nReview \\nby \\nNigel \\n(270500) \\nRating \\n(6/10) \\nReview \\nby \\nChrissi\\nthe \\nfifth \\nelephant \\nby \\nterry \\npratchett \\ndiscworld\\nthe \\nfifth \\nelephant \\nby \\nterry \\npratchett \\nwikipedia\\nThe \\nFifth \\nElephant \\nTerry \\nPratchett \\n9780552146166\\nthe \\nfifth \\nelephant \\nby \\nterry \\npratchett \\nmovies\\n\\n&gt; .</td>\n",
       "      <td>runescapeporn</td>\n",
       "      <td>t3_4rngbj</td>\n",
       "      <td>t3_4rngbj</td>\n",
       "      <td>d52knp0</td>\n",
       "      <td>t5_2vh0p</td>\n",
       "      <td><a href=\"https://www.reddit.com/r/runescapeporn/comments/4rngbj/%20/d52knp0\" target=\"_blank\">https://www.reddit.com/r/runescapeporn/comments/4rngbj/%20/d52knp0</a></td>\n",
       "    </tr>\n",
       "    <tr>\n",
       "      <th>25331</th>\n",
       "      <td>* Franzen wrote a book called [How to be Alone](http://www.nytimes.com/2002/11/04/books/books-of-the-times-alone-with-a-good-book-you-are-never-alone.html)\\n\\n* Also, you might've seen this [visual poem](https://www.youtube.com/watch?v=k7X7sZzSXYs); it's a great reminder of being alone.\\n\\n* Personally, I'd recommend reading the work of David Foster Wallace. He's one of my own go-to solaces for loneliness. Specifically, [Infinite Jest](http://infinitejest.wallacewiki.com/david-foster-wallace/index.php?title=Infinite_Jest_-_Atlantic_Monthly_Review,_February_1996).\\n\\n* I often catch myself thinking about McCullers's [The Heart is a Lonely Hunter](http://www.washingtonpost.com/wp-dyn/articles/A42112-2004Jun14.html) during times of solitude. \\n\\nI'm not sure if that was what you were looking for but I hope those help. \\n</td>\n",
       "      <td>suggestmeabook</td>\n",
       "      <td>t3_27ym5x</td>\n",
       "      <td>t3_27ym5x</td>\n",
       "      <td>ci5q67r</td>\n",
       "      <td>t5_31t41</td>\n",
       "      <td><a href=\"https://www.reddit.com/r/suggestmeabook/comments/27ym5x/%20/ci5q67r\" target=\"_blank\">https://www.reddit.com/r/suggestmeabook/comments/27ym5x/%20/ci5q67r</a></td>\n",
       "    </tr>\n",
       "  </tbody>\n",
       "</table>"
      ],
      "text/plain": [
       "<IPython.core.display.HTML object>"
      ]
     },
     "execution_count": 123,
     "metadata": {},
     "output_type": "execute_result"
    }
   ],
   "source": [
    "make_links_clickable(dfw_comments.sample(10)[['body','subreddit', 'link_id', 'parent_id', 'id', 'subreddit_id', 'comment_link']])"
   ]
  },
  {
   "cell_type": "code",
   "execution_count": null,
   "metadata": {},
   "outputs": [],
   "source": []
  }
 ],
 "metadata": {
  "kernelspec": {
   "display_name": "Python 3",
   "language": "python",
   "name": "python3"
  },
  "language_info": {
   "codemirror_mode": {
    "name": "ipython",
    "version": 3
   },
   "file_extension": ".py",
   "mimetype": "text/x-python",
   "name": "python",
   "nbconvert_exporter": "python",
   "pygments_lexer": "ipython3",
   "version": "3.7.6"
  }
 },
 "nbformat": 4,
 "nbformat_minor": 4
}
