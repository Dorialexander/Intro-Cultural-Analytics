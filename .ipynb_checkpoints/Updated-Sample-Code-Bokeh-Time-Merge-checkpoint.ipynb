{
 "cells": [
  {
   "cell_type": "markdown",
   "metadata": {},
   "source": [
    "# Updated LuxLab Summer Sample Code — Bokeh Plots, Time Series, and Merge"
   ]
  },
  {
   "cell_type": "code",
   "execution_count": 1,
   "metadata": {},
   "outputs": [],
   "source": [
    "import pandas as pd"
   ]
  },
  {
   "cell_type": "code",
   "execution_count": 2,
   "metadata": {},
   "outputs": [],
   "source": [
    "from bokeh.plotting import figure, show, save, output_file\n",
    "from bokeh.models import ColumnDataSource, NumeralTickFormatter\n",
    "from bokeh.io import output_notebook, show"
   ]
  },
  {
   "cell_type": "code",
   "execution_count": 3,
   "metadata": {},
   "outputs": [
    {
     "data": {
      "text/html": [
       "\n",
       "    <div class=\"bk-root\">\n",
       "        <a href=\"https://bokeh.org\" target=\"_blank\" class=\"bk-logo bk-logo-small bk-logo-notebook\"></a>\n",
       "        <span id=\"1001\">Loading BokehJS ...</span>\n",
       "    </div>"
      ]
     },
     "metadata": {},
     "output_type": "display_data"
    },
    {
     "data": {
      "application/javascript": [
       "\n",
       "(function(root) {\n",
       "  function now() {\n",
       "    return new Date();\n",
       "  }\n",
       "\n",
       "  var force = true;\n",
       "\n",
       "  if (typeof root._bokeh_onload_callbacks === \"undefined\" || force === true) {\n",
       "    root._bokeh_onload_callbacks = [];\n",
       "    root._bokeh_is_loading = undefined;\n",
       "  }\n",
       "\n",
       "  var JS_MIME_TYPE = 'application/javascript';\n",
       "  var HTML_MIME_TYPE = 'text/html';\n",
       "  var EXEC_MIME_TYPE = 'application/vnd.bokehjs_exec.v0+json';\n",
       "  var CLASS_NAME = 'output_bokeh rendered_html';\n",
       "\n",
       "  /**\n",
       "   * Render data to the DOM node\n",
       "   */\n",
       "  function render(props, node) {\n",
       "    var script = document.createElement(\"script\");\n",
       "    node.appendChild(script);\n",
       "  }\n",
       "\n",
       "  /**\n",
       "   * Handle when an output is cleared or removed\n",
       "   */\n",
       "  function handleClearOutput(event, handle) {\n",
       "    var cell = handle.cell;\n",
       "\n",
       "    var id = cell.output_area._bokeh_element_id;\n",
       "    var server_id = cell.output_area._bokeh_server_id;\n",
       "    // Clean up Bokeh references\n",
       "    if (id != null && id in Bokeh.index) {\n",
       "      Bokeh.index[id].model.document.clear();\n",
       "      delete Bokeh.index[id];\n",
       "    }\n",
       "\n",
       "    if (server_id !== undefined) {\n",
       "      // Clean up Bokeh references\n",
       "      var cmd = \"from bokeh.io.state import curstate; print(curstate().uuid_to_server['\" + server_id + \"'].get_sessions()[0].document.roots[0]._id)\";\n",
       "      cell.notebook.kernel.execute(cmd, {\n",
       "        iopub: {\n",
       "          output: function(msg) {\n",
       "            var id = msg.content.text.trim();\n",
       "            if (id in Bokeh.index) {\n",
       "              Bokeh.index[id].model.document.clear();\n",
       "              delete Bokeh.index[id];\n",
       "            }\n",
       "          }\n",
       "        }\n",
       "      });\n",
       "      // Destroy server and session\n",
       "      var cmd = \"import bokeh.io.notebook as ion; ion.destroy_server('\" + server_id + \"')\";\n",
       "      cell.notebook.kernel.execute(cmd);\n",
       "    }\n",
       "  }\n",
       "\n",
       "  /**\n",
       "   * Handle when a new output is added\n",
       "   */\n",
       "  function handleAddOutput(event, handle) {\n",
       "    var output_area = handle.output_area;\n",
       "    var output = handle.output;\n",
       "\n",
       "    // limit handleAddOutput to display_data with EXEC_MIME_TYPE content only\n",
       "    if ((output.output_type != \"display_data\") || (!output.data.hasOwnProperty(EXEC_MIME_TYPE))) {\n",
       "      return\n",
       "    }\n",
       "\n",
       "    var toinsert = output_area.element.find(\".\" + CLASS_NAME.split(' ')[0]);\n",
       "\n",
       "    if (output.metadata[EXEC_MIME_TYPE][\"id\"] !== undefined) {\n",
       "      toinsert[toinsert.length - 1].firstChild.textContent = output.data[JS_MIME_TYPE];\n",
       "      // store reference to embed id on output_area\n",
       "      output_area._bokeh_element_id = output.metadata[EXEC_MIME_TYPE][\"id\"];\n",
       "    }\n",
       "    if (output.metadata[EXEC_MIME_TYPE][\"server_id\"] !== undefined) {\n",
       "      var bk_div = document.createElement(\"div\");\n",
       "      bk_div.innerHTML = output.data[HTML_MIME_TYPE];\n",
       "      var script_attrs = bk_div.children[0].attributes;\n",
       "      for (var i = 0; i < script_attrs.length; i++) {\n",
       "        toinsert[toinsert.length - 1].firstChild.setAttribute(script_attrs[i].name, script_attrs[i].value);\n",
       "        toinsert[toinsert.length - 1].firstChild.textContent = bk_div.children[0].textContent\n",
       "      }\n",
       "      // store reference to server id on output_area\n",
       "      output_area._bokeh_server_id = output.metadata[EXEC_MIME_TYPE][\"server_id\"];\n",
       "    }\n",
       "  }\n",
       "\n",
       "  function register_renderer(events, OutputArea) {\n",
       "\n",
       "    function append_mime(data, metadata, element) {\n",
       "      // create a DOM node to render to\n",
       "      var toinsert = this.create_output_subarea(\n",
       "        metadata,\n",
       "        CLASS_NAME,\n",
       "        EXEC_MIME_TYPE\n",
       "      );\n",
       "      this.keyboard_manager.register_events(toinsert);\n",
       "      // Render to node\n",
       "      var props = {data: data, metadata: metadata[EXEC_MIME_TYPE]};\n",
       "      render(props, toinsert[toinsert.length - 1]);\n",
       "      element.append(toinsert);\n",
       "      return toinsert\n",
       "    }\n",
       "\n",
       "    /* Handle when an output is cleared or removed */\n",
       "    events.on('clear_output.CodeCell', handleClearOutput);\n",
       "    events.on('delete.Cell', handleClearOutput);\n",
       "\n",
       "    /* Handle when a new output is added */\n",
       "    events.on('output_added.OutputArea', handleAddOutput);\n",
       "\n",
       "    /**\n",
       "     * Register the mime type and append_mime function with output_area\n",
       "     */\n",
       "    OutputArea.prototype.register_mime_type(EXEC_MIME_TYPE, append_mime, {\n",
       "      /* Is output safe? */\n",
       "      safe: true,\n",
       "      /* Index of renderer in `output_area.display_order` */\n",
       "      index: 0\n",
       "    });\n",
       "  }\n",
       "\n",
       "  // register the mime type if in Jupyter Notebook environment and previously unregistered\n",
       "  if (root.Jupyter !== undefined) {\n",
       "    var events = require('base/js/events');\n",
       "    var OutputArea = require('notebook/js/outputarea').OutputArea;\n",
       "\n",
       "    if (OutputArea.prototype.mime_types().indexOf(EXEC_MIME_TYPE) == -1) {\n",
       "      register_renderer(events, OutputArea);\n",
       "    }\n",
       "  }\n",
       "\n",
       "  \n",
       "  if (typeof (root._bokeh_timeout) === \"undefined\" || force === true) {\n",
       "    root._bokeh_timeout = Date.now() + 5000;\n",
       "    root._bokeh_failed_load = false;\n",
       "  }\n",
       "\n",
       "  var NB_LOAD_WARNING = {'data': {'text/html':\n",
       "     \"<div style='background-color: #fdd'>\\n\"+\n",
       "     \"<p>\\n\"+\n",
       "     \"BokehJS does not appear to have successfully loaded. If loading BokehJS from CDN, this \\n\"+\n",
       "     \"may be due to a slow or bad network connection. Possible fixes:\\n\"+\n",
       "     \"</p>\\n\"+\n",
       "     \"<ul>\\n\"+\n",
       "     \"<li>re-rerun `output_notebook()` to attempt to load from CDN again, or</li>\\n\"+\n",
       "     \"<li>use INLINE resources instead, as so:</li>\\n\"+\n",
       "     \"</ul>\\n\"+\n",
       "     \"<code>\\n\"+\n",
       "     \"from bokeh.resources import INLINE\\n\"+\n",
       "     \"output_notebook(resources=INLINE)\\n\"+\n",
       "     \"</code>\\n\"+\n",
       "     \"</div>\"}};\n",
       "\n",
       "  function display_loaded() {\n",
       "    var el = document.getElementById(\"1001\");\n",
       "    if (el != null) {\n",
       "      el.textContent = \"BokehJS is loading...\";\n",
       "    }\n",
       "    if (root.Bokeh !== undefined) {\n",
       "      if (el != null) {\n",
       "        el.textContent = \"BokehJS \" + root.Bokeh.version + \" successfully loaded.\";\n",
       "      }\n",
       "    } else if (Date.now() < root._bokeh_timeout) {\n",
       "      setTimeout(display_loaded, 100)\n",
       "    }\n",
       "  }\n",
       "\n",
       "\n",
       "  function run_callbacks() {\n",
       "    try {\n",
       "      root._bokeh_onload_callbacks.forEach(function(callback) {\n",
       "        if (callback != null)\n",
       "          callback();\n",
       "      });\n",
       "    } finally {\n",
       "      delete root._bokeh_onload_callbacks\n",
       "    }\n",
       "    console.debug(\"Bokeh: all callbacks have finished\");\n",
       "  }\n",
       "\n",
       "  function load_libs(css_urls, js_urls, callback) {\n",
       "    if (css_urls == null) css_urls = [];\n",
       "    if (js_urls == null) js_urls = [];\n",
       "\n",
       "    root._bokeh_onload_callbacks.push(callback);\n",
       "    if (root._bokeh_is_loading > 0) {\n",
       "      console.debug(\"Bokeh: BokehJS is being loaded, scheduling callback at\", now());\n",
       "      return null;\n",
       "    }\n",
       "    if (js_urls == null || js_urls.length === 0) {\n",
       "      run_callbacks();\n",
       "      return null;\n",
       "    }\n",
       "    console.debug(\"Bokeh: BokehJS not loaded, scheduling load and callback at\", now());\n",
       "    root._bokeh_is_loading = css_urls.length + js_urls.length;\n",
       "\n",
       "    function on_load() {\n",
       "      root._bokeh_is_loading--;\n",
       "      if (root._bokeh_is_loading === 0) {\n",
       "        console.debug(\"Bokeh: all BokehJS libraries/stylesheets loaded\");\n",
       "        run_callbacks()\n",
       "      }\n",
       "    }\n",
       "\n",
       "    function on_error() {\n",
       "      console.error(\"failed to load \" + url);\n",
       "    }\n",
       "\n",
       "    for (var i = 0; i < css_urls.length; i++) {\n",
       "      var url = css_urls[i];\n",
       "      const element = document.createElement(\"link\");\n",
       "      element.onload = on_load;\n",
       "      element.onerror = on_error;\n",
       "      element.rel = \"stylesheet\";\n",
       "      element.type = \"text/css\";\n",
       "      element.href = url;\n",
       "      console.debug(\"Bokeh: injecting link tag for BokehJS stylesheet: \", url);\n",
       "      document.body.appendChild(element);\n",
       "    }\n",
       "\n",
       "    const hashes = {\"https://cdn.bokeh.org/bokeh/release/bokeh-2.0.2.min.js\": \"ufR9RFnRs6lniiaFvtJziE0YeidtAgBRH6ux2oUItHw5WTvE1zuk9uzhUU/FJXDp\", \"https://cdn.bokeh.org/bokeh/release/bokeh-widgets-2.0.2.min.js\": \"8QM/PGWBT+IssZuRcDcjzwIh1mkOmJSoNMmyYDZbCfXJg3Ap1lEvdVgFuSAwhb/J\", \"https://cdn.bokeh.org/bokeh/release/bokeh-tables-2.0.2.min.js\": \"Jm8cH3Rg0P6UeZhVY5cLy1WzKajUT9KImCY+76hEqrcJt59/d8GPvFHjCkYgnSIn\", \"https://cdn.bokeh.org/bokeh/release/bokeh-gl-2.0.2.min.js\": \"Ozhzj+SI7ywm74aOI/UajcWz+C0NjsPunEVyVIrxzYkB+jA+2tUw8x5xJCbVtK5I\"};\n",
       "\n",
       "    for (var i = 0; i < js_urls.length; i++) {\n",
       "      var url = js_urls[i];\n",
       "      var element = document.createElement('script');\n",
       "      element.onload = on_load;\n",
       "      element.onerror = on_error;\n",
       "      element.async = false;\n",
       "      element.src = url;\n",
       "      if (url in hashes) {\n",
       "        element.crossOrigin = \"anonymous\";\n",
       "        element.integrity = \"sha384-\" + hashes[url];\n",
       "      }\n",
       "      console.debug(\"Bokeh: injecting script tag for BokehJS library: \", url);\n",
       "      document.head.appendChild(element);\n",
       "    }\n",
       "  };\n",
       "\n",
       "  function inject_raw_css(css) {\n",
       "    const element = document.createElement(\"style\");\n",
       "    element.appendChild(document.createTextNode(css));\n",
       "    document.body.appendChild(element);\n",
       "  }\n",
       "\n",
       "  \n",
       "  var js_urls = [\"https://cdn.bokeh.org/bokeh/release/bokeh-2.0.2.min.js\", \"https://cdn.bokeh.org/bokeh/release/bokeh-widgets-2.0.2.min.js\", \"https://cdn.bokeh.org/bokeh/release/bokeh-tables-2.0.2.min.js\", \"https://cdn.bokeh.org/bokeh/release/bokeh-gl-2.0.2.min.js\"];\n",
       "  var css_urls = [];\n",
       "  \n",
       "\n",
       "  var inline_js = [\n",
       "    function(Bokeh) {\n",
       "      Bokeh.set_log_level(\"info\");\n",
       "    },\n",
       "    function(Bokeh) {\n",
       "    \n",
       "    \n",
       "    }\n",
       "  ];\n",
       "\n",
       "  function run_inline_js() {\n",
       "    \n",
       "    if (root.Bokeh !== undefined || force === true) {\n",
       "      \n",
       "    for (var i = 0; i < inline_js.length; i++) {\n",
       "      inline_js[i].call(root, root.Bokeh);\n",
       "    }\n",
       "    if (force === true) {\n",
       "        display_loaded();\n",
       "      }} else if (Date.now() < root._bokeh_timeout) {\n",
       "      setTimeout(run_inline_js, 100);\n",
       "    } else if (!root._bokeh_failed_load) {\n",
       "      console.log(\"Bokeh: BokehJS failed to load within specified timeout.\");\n",
       "      root._bokeh_failed_load = true;\n",
       "    } else if (force !== true) {\n",
       "      var cell = $(document.getElementById(\"1001\")).parents('.cell').data().cell;\n",
       "      cell.output_area.append_execute_result(NB_LOAD_WARNING)\n",
       "    }\n",
       "\n",
       "  }\n",
       "\n",
       "  if (root._bokeh_is_loading === 0) {\n",
       "    console.debug(\"Bokeh: BokehJS loaded, going straight to plotting\");\n",
       "    run_inline_js();\n",
       "  } else {\n",
       "    load_libs(css_urls, js_urls, function() {\n",
       "      console.debug(\"Bokeh: BokehJS plotting callback run at\", now());\n",
       "      run_inline_js();\n",
       "    });\n",
       "  }\n",
       "}(window));"
      ],
      "application/vnd.bokehjs_load.v0+json": "\n(function(root) {\n  function now() {\n    return new Date();\n  }\n\n  var force = true;\n\n  if (typeof root._bokeh_onload_callbacks === \"undefined\" || force === true) {\n    root._bokeh_onload_callbacks = [];\n    root._bokeh_is_loading = undefined;\n  }\n\n  \n\n  \n  if (typeof (root._bokeh_timeout) === \"undefined\" || force === true) {\n    root._bokeh_timeout = Date.now() + 5000;\n    root._bokeh_failed_load = false;\n  }\n\n  var NB_LOAD_WARNING = {'data': {'text/html':\n     \"<div style='background-color: #fdd'>\\n\"+\n     \"<p>\\n\"+\n     \"BokehJS does not appear to have successfully loaded. If loading BokehJS from CDN, this \\n\"+\n     \"may be due to a slow or bad network connection. Possible fixes:\\n\"+\n     \"</p>\\n\"+\n     \"<ul>\\n\"+\n     \"<li>re-rerun `output_notebook()` to attempt to load from CDN again, or</li>\\n\"+\n     \"<li>use INLINE resources instead, as so:</li>\\n\"+\n     \"</ul>\\n\"+\n     \"<code>\\n\"+\n     \"from bokeh.resources import INLINE\\n\"+\n     \"output_notebook(resources=INLINE)\\n\"+\n     \"</code>\\n\"+\n     \"</div>\"}};\n\n  function display_loaded() {\n    var el = document.getElementById(\"1001\");\n    if (el != null) {\n      el.textContent = \"BokehJS is loading...\";\n    }\n    if (root.Bokeh !== undefined) {\n      if (el != null) {\n        el.textContent = \"BokehJS \" + root.Bokeh.version + \" successfully loaded.\";\n      }\n    } else if (Date.now() < root._bokeh_timeout) {\n      setTimeout(display_loaded, 100)\n    }\n  }\n\n\n  function run_callbacks() {\n    try {\n      root._bokeh_onload_callbacks.forEach(function(callback) {\n        if (callback != null)\n          callback();\n      });\n    } finally {\n      delete root._bokeh_onload_callbacks\n    }\n    console.debug(\"Bokeh: all callbacks have finished\");\n  }\n\n  function load_libs(css_urls, js_urls, callback) {\n    if (css_urls == null) css_urls = [];\n    if (js_urls == null) js_urls = [];\n\n    root._bokeh_onload_callbacks.push(callback);\n    if (root._bokeh_is_loading > 0) {\n      console.debug(\"Bokeh: BokehJS is being loaded, scheduling callback at\", now());\n      return null;\n    }\n    if (js_urls == null || js_urls.length === 0) {\n      run_callbacks();\n      return null;\n    }\n    console.debug(\"Bokeh: BokehJS not loaded, scheduling load and callback at\", now());\n    root._bokeh_is_loading = css_urls.length + js_urls.length;\n\n    function on_load() {\n      root._bokeh_is_loading--;\n      if (root._bokeh_is_loading === 0) {\n        console.debug(\"Bokeh: all BokehJS libraries/stylesheets loaded\");\n        run_callbacks()\n      }\n    }\n\n    function on_error() {\n      console.error(\"failed to load \" + url);\n    }\n\n    for (var i = 0; i < css_urls.length; i++) {\n      var url = css_urls[i];\n      const element = document.createElement(\"link\");\n      element.onload = on_load;\n      element.onerror = on_error;\n      element.rel = \"stylesheet\";\n      element.type = \"text/css\";\n      element.href = url;\n      console.debug(\"Bokeh: injecting link tag for BokehJS stylesheet: \", url);\n      document.body.appendChild(element);\n    }\n\n    const hashes = {\"https://cdn.bokeh.org/bokeh/release/bokeh-2.0.2.min.js\": \"ufR9RFnRs6lniiaFvtJziE0YeidtAgBRH6ux2oUItHw5WTvE1zuk9uzhUU/FJXDp\", \"https://cdn.bokeh.org/bokeh/release/bokeh-widgets-2.0.2.min.js\": \"8QM/PGWBT+IssZuRcDcjzwIh1mkOmJSoNMmyYDZbCfXJg3Ap1lEvdVgFuSAwhb/J\", \"https://cdn.bokeh.org/bokeh/release/bokeh-tables-2.0.2.min.js\": \"Jm8cH3Rg0P6UeZhVY5cLy1WzKajUT9KImCY+76hEqrcJt59/d8GPvFHjCkYgnSIn\", \"https://cdn.bokeh.org/bokeh/release/bokeh-gl-2.0.2.min.js\": \"Ozhzj+SI7ywm74aOI/UajcWz+C0NjsPunEVyVIrxzYkB+jA+2tUw8x5xJCbVtK5I\"};\n\n    for (var i = 0; i < js_urls.length; i++) {\n      var url = js_urls[i];\n      var element = document.createElement('script');\n      element.onload = on_load;\n      element.onerror = on_error;\n      element.async = false;\n      element.src = url;\n      if (url in hashes) {\n        element.crossOrigin = \"anonymous\";\n        element.integrity = \"sha384-\" + hashes[url];\n      }\n      console.debug(\"Bokeh: injecting script tag for BokehJS library: \", url);\n      document.head.appendChild(element);\n    }\n  };\n\n  function inject_raw_css(css) {\n    const element = document.createElement(\"style\");\n    element.appendChild(document.createTextNode(css));\n    document.body.appendChild(element);\n  }\n\n  \n  var js_urls = [\"https://cdn.bokeh.org/bokeh/release/bokeh-2.0.2.min.js\", \"https://cdn.bokeh.org/bokeh/release/bokeh-widgets-2.0.2.min.js\", \"https://cdn.bokeh.org/bokeh/release/bokeh-tables-2.0.2.min.js\", \"https://cdn.bokeh.org/bokeh/release/bokeh-gl-2.0.2.min.js\"];\n  var css_urls = [];\n  \n\n  var inline_js = [\n    function(Bokeh) {\n      Bokeh.set_log_level(\"info\");\n    },\n    function(Bokeh) {\n    \n    \n    }\n  ];\n\n  function run_inline_js() {\n    \n    if (root.Bokeh !== undefined || force === true) {\n      \n    for (var i = 0; i < inline_js.length; i++) {\n      inline_js[i].call(root, root.Bokeh);\n    }\n    if (force === true) {\n        display_loaded();\n      }} else if (Date.now() < root._bokeh_timeout) {\n      setTimeout(run_inline_js, 100);\n    } else if (!root._bokeh_failed_load) {\n      console.log(\"Bokeh: BokehJS failed to load within specified timeout.\");\n      root._bokeh_failed_load = true;\n    } else if (force !== true) {\n      var cell = $(document.getElementById(\"1001\")).parents('.cell').data().cell;\n      cell.output_area.append_execute_result(NB_LOAD_WARNING)\n    }\n\n  }\n\n  if (root._bokeh_is_loading === 0) {\n    console.debug(\"Bokeh: BokehJS loaded, going straight to plotting\");\n    run_inline_js();\n  } else {\n    load_libs(css_urls, js_urls, function() {\n      console.debug(\"Bokeh: BokehJS plotting callback run at\", now());\n      run_inline_js();\n    });\n  }\n}(window));"
     },
     "metadata": {},
     "output_type": "display_data"
    }
   ],
   "source": [
    "output_notebook()"
   ]
  },
  {
   "cell_type": "code",
   "execution_count": 4,
   "metadata": {},
   "outputs": [],
   "source": [
    "goodreads_demo = pd.read_csv('Goodreads-Classics-Demographic-Info.csv')"
   ]
  },
  {
   "cell_type": "code",
   "execution_count": 5,
   "metadata": {},
   "outputs": [
    {
     "data": {
      "text/html": [
       "<div>\n",
       "<style scoped>\n",
       "    .dataframe tbody tr th:only-of-type {\n",
       "        vertical-align: middle;\n",
       "    }\n",
       "\n",
       "    .dataframe tbody tr th {\n",
       "        vertical-align: top;\n",
       "    }\n",
       "\n",
       "    .dataframe thead th {\n",
       "        text-align: right;\n",
       "    }\n",
       "</style>\n",
       "<table border=\"1\" class=\"dataframe\">\n",
       "  <thead>\n",
       "    <tr style=\"text-align: right;\">\n",
       "      <th></th>\n",
       "      <th>title</th>\n",
       "      <th>author</th>\n",
       "      <th>original_language</th>\n",
       "      <th>gender</th>\n",
       "      <th>race/ethnicity</th>\n",
       "      <th>publication_date</th>\n",
       "      <th>author_nationality</th>\n",
       "      <th>AmazonClassics_edition</th>\n",
       "      <th>AmazonClassics_url</th>\n",
       "      <th>AmazonClassics_date</th>\n",
       "    </tr>\n",
       "  </thead>\n",
       "  <tbody>\n",
       "    <tr>\n",
       "      <th>0</th>\n",
       "      <td>The Odyssey</td>\n",
       "      <td>Homer</td>\n",
       "      <td>Greek</td>\n",
       "      <td>M</td>\n",
       "      <td>White</td>\n",
       "      <td>700</td>\n",
       "      <td>Greek</td>\n",
       "      <td>yes</td>\n",
       "      <td>https://www.amazon.com/Odyssey-AmazonClassics-...</td>\n",
       "      <td>6/27/17</td>\n",
       "    </tr>\n",
       "    <tr>\n",
       "      <th>1</th>\n",
       "      <td>The Iliad</td>\n",
       "      <td>Homer</td>\n",
       "      <td>Greek</td>\n",
       "      <td>M</td>\n",
       "      <td>White</td>\n",
       "      <td>750</td>\n",
       "      <td>Greek</td>\n",
       "      <td>yes</td>\n",
       "      <td>https://www.amazon.com/Iliad-AmazonClassics-Ho...</td>\n",
       "      <td>7/25/17</td>\n",
       "    </tr>\n",
       "    <tr>\n",
       "      <th>2</th>\n",
       "      <td>Beowulf</td>\n",
       "      <td>Unknown</td>\n",
       "      <td>Old English</td>\n",
       "      <td>M</td>\n",
       "      <td>White</td>\n",
       "      <td>975</td>\n",
       "      <td>Unknown</td>\n",
       "      <td>yes</td>\n",
       "      <td>https://www.amazon.com/Beowulf-AmazonClassics-...</td>\n",
       "      <td>6/27/17</td>\n",
       "    </tr>\n",
       "    <tr>\n",
       "      <th>3</th>\n",
       "      <td>The Canterbury Tales</td>\n",
       "      <td>Geoffrey Chaucer</td>\n",
       "      <td>English</td>\n",
       "      <td>M</td>\n",
       "      <td>White</td>\n",
       "      <td>1390</td>\n",
       "      <td>British</td>\n",
       "      <td>no</td>\n",
       "      <td>NaN</td>\n",
       "      <td>NaN</td>\n",
       "    </tr>\n",
       "    <tr>\n",
       "      <th>4</th>\n",
       "      <td>The Prince</td>\n",
       "      <td>Niccolò Machiavelli</td>\n",
       "      <td>Italian</td>\n",
       "      <td>M</td>\n",
       "      <td>White</td>\n",
       "      <td>1513</td>\n",
       "      <td>Italian</td>\n",
       "      <td>no</td>\n",
       "      <td>NaN</td>\n",
       "      <td>NaN</td>\n",
       "    </tr>\n",
       "  </tbody>\n",
       "</table>\n",
       "</div>"
      ],
      "text/plain": [
       "                  title               author original_language gender  \\\n",
       "0           The Odyssey                Homer             Greek      M   \n",
       "1             The Iliad                Homer             Greek      M   \n",
       "2               Beowulf              Unknown       Old English      M   \n",
       "3  The Canterbury Tales     Geoffrey Chaucer           English      M   \n",
       "4            The Prince  Niccolò Machiavelli           Italian      M   \n",
       "\n",
       "  race/ethnicity  publication_date author_nationality AmazonClassics_edition  \\\n",
       "0          White               700              Greek                    yes   \n",
       "1          White               750              Greek                    yes   \n",
       "2          White               975            Unknown                    yes   \n",
       "3          White              1390            British                     no   \n",
       "4          White              1513            Italian                     no   \n",
       "\n",
       "                                  AmazonClassics_url AmazonClassics_date  \n",
       "0  https://www.amazon.com/Odyssey-AmazonClassics-...             6/27/17  \n",
       "1  https://www.amazon.com/Iliad-AmazonClassics-Ho...             7/25/17  \n",
       "2  https://www.amazon.com/Beowulf-AmazonClassics-...             6/27/17  \n",
       "3                                                NaN                 NaN  \n",
       "4                                                NaN                 NaN  "
      ]
     },
     "execution_count": 5,
     "metadata": {},
     "output_type": "execute_result"
    }
   ],
   "source": [
    "goodreads_demo.head()"
   ]
  },
  {
   "cell_type": "markdown",
   "metadata": {},
   "source": [
    "# Bokeh Plots"
   ]
  },
  {
   "cell_type": "markdown",
   "metadata": {},
   "source": [
    "I found this helpful Bokeh tutorial: https://programminghistorian.org/en/lessons/visualizing-with-bokeh"
   ]
  },
  {
   "cell_type": "markdown",
   "metadata": {},
   "source": [
    "## Basic Plot"
   ]
  },
  {
   "cell_type": "markdown",
   "metadata": {},
   "source": [
    "So I learned that you can put a Pandas dataframe straight into `ColumnDataSource`. Then you can simply plot by the columns in the dataframe, e.g. `x='yearFirstPublished'` or `y='numRatings'`. There are cases when it might be helpful to do more `groupby()`s and more manipulation, like I showed you guys earlier, but using the whole dataframe is one super easy route."
   ]
  },
  {
   "cell_type": "markdown",
   "metadata": {},
   "source": [
    "### Add Dataframe to ColumnDataSource"
   ]
  },
  {
   "cell_type": "code",
   "execution_count": 8,
   "metadata": {},
   "outputs": [],
   "source": [
    "source = ColumnDataSource(goodreads_demo)"
   ]
  },
  {
   "cell_type": "code",
   "execution_count": 12,
   "metadata": {},
   "outputs": [
    {
     "data": {
      "text/html": [
       "\n",
       "\n",
       "\n",
       "\n",
       "\n",
       "\n",
       "  <div class=\"bk-root\" id=\"277071b7-ebd8-4246-aca5-32bc28ad65fb\" data-root-id=\"1188\"></div>\n"
      ]
     },
     "metadata": {},
     "output_type": "display_data"
    },
    {
     "data": {
      "application/javascript": [
       "(function(root) {\n",
       "  function embed_document(root) {\n",
       "    \n",
       "  var docs_json = {\"eee172f9-bfe4-4404-978d-494baa270ada\":{\"roots\":{\"references\":[{\"attributes\":{\"below\":[{\"id\":\"1199\"}],\"center\":[{\"id\":\"1202\"},{\"id\":\"1206\"}],\"left\":[{\"id\":\"1203\"}],\"renderers\":[{\"id\":\"1224\"}],\"title\":{\"id\":\"1189\"},\"toolbar\":{\"id\":\"1214\"},\"x_range\":{\"id\":\"1191\"},\"x_scale\":{\"id\":\"1195\"},\"y_range\":{\"id\":\"1193\"},\"y_scale\":{\"id\":\"1197\"}},\"id\":\"1188\",\"subtype\":\"Figure\",\"type\":\"Plot\"},{\"attributes\":{\"end\":2050,\"start\":1500},\"id\":\"1191\",\"type\":\"Range1d\"},{\"attributes\":{},\"id\":\"1195\",\"type\":\"LinearScale\"},{\"attributes\":{},\"id\":\"1193\",\"type\":\"DataRange1d\"},{\"attributes\":{\"format\":\"0.0a\"},\"id\":\"1226\",\"type\":\"NumeralTickFormatter\"},{\"attributes\":{},\"id\":\"1208\",\"type\":\"WheelZoomTool\"},{\"attributes\":{},\"id\":\"1212\",\"type\":\"HelpTool\"},{\"attributes\":{\"axis\":{\"id\":\"1203\"},\"dimension\":1,\"ticker\":null},\"id\":\"1206\",\"type\":\"Grid\"},{\"attributes\":{\"axis_label\":\"Publication Date\",\"formatter\":{\"id\":\"1244\"},\"ticker\":{\"id\":\"1200\"}},\"id\":\"1199\",\"type\":\"LinearAxis\"},{\"attributes\":{},\"id\":\"1197\",\"type\":\"LinearScale\"},{\"attributes\":{\"fill_color\":{\"value\":\"purple\"},\"line_color\":{\"value\":\"purple\"},\"size\":{\"units\":\"screen\",\"value\":30},\"x\":{\"field\":\"publication_date\"}},\"id\":\"1222\",\"type\":\"Circle\"},{\"attributes\":{\"axis_label\":\"Number of Goodreads Ratings\",\"formatter\":{\"id\":\"1226\"},\"ticker\":{\"id\":\"1204\"}},\"id\":\"1203\",\"type\":\"LinearAxis\"},{\"attributes\":{\"bottom_units\":\"screen\",\"fill_alpha\":0.5,\"fill_color\":\"lightgrey\",\"left_units\":\"screen\",\"level\":\"overlay\",\"line_alpha\":1.0,\"line_color\":\"black\",\"line_dash\":[4,4],\"line_width\":2,\"render_mode\":\"css\",\"right_units\":\"screen\",\"top_units\":\"screen\"},\"id\":\"1213\",\"type\":\"BoxAnnotation\"},{\"attributes\":{\"data\":{\"AmazonClassics_date\":[\"6/27/17\",\"7/25/17\",\"6/27/17\",\"NaN\",\"NaN\",\"8/15/17\",\"8/15/17\",\"NaN\",\"8/15/17\",\"8/15/17\",\"12/17/19\",\"8/29/17\",\"6/4/19\",\"9/5/17\",\"7/25/17\",\"9/5/17\",\"06/20/17\",\"11/01/17\",\"12/5/17\",\"12/5/17\",\"11/7/17\",\"5/2/17\",\"12/17/19\",\"10/24/17\",\"6/20/17\",\"3/17/20\",\"6/13/17\",\"07/01/17\",\"7/18/17\",\"12/31/19\",\"5/2/17\",\"8/22/17\",\"8/29/17\",\"9/26/17\",\"9/12/17\",\"7/25/17\",\"NaN\",\"10/24/17\",\"6/13/17\",\"10/10/17\",\"12/31/19\",\"8/29/17\",\"9/17/19\",\"11/21/17\",\"6/13/17\",\"12/10/19\",\"12/10/19\",\"6/27/17\",\"6/13/17\",\"7/11/17\",\"NaN\",\"2/27/18\",\"10/24/17\",\"6/13/17\",\"6/4/19\",\"1/2/20\",\"8/22/17\",\"9/17/19\",\"7/25/17\",\"11/7/17\",\"9/26/17\",\"6/20/17\",\"8/8/17\",\"4/23/19\",\"6/20/17\",\"1/30/18\",\"7/25/17\",\"8/8/17\",\"11/14/17\",\"9/17/19\",\"1/30/18\",\"NaN\",\"9/3/19\",\"5/7/19\",\"NaN\",\"NaN\",\"NaN\",\"NaN\",\"NaN\",\"NaN\",\"NaN\",\"NaN\",\"NaN\",\"NaN\",\"NaN\",\"NaN\",\"NaN\",\"NaN\",\"NaN\",\"NaN\",\"NaN\",\"NaN\",\"NaN\",\"NaN\",\"NaN\",\"NaN\",\"NaN\",\"NaN\",\"NaN\",\"NaN\",\"NaN\",\"NaN\",\"NaN\",\"NaN\",\"NaN\",\"NaN\",\"NaN\",\"NaN\",\"NaN\",\"NaN\",\"NaN\",\"NaN\",\"NaN\",\"NaN\",\"NaN\",\"NaN\",\"NaN\",\"NaN\",\"NaN\",\"NaN\",\"NaN\",\"NaN\",\"NaN\",\"NaN\",\"NaN\",\"NaN\",\"NaN\",\"NaN\",\"NaN\",\"NaN\",\"NaN\",\"NaN\",\"NaN\",\"NaN\",\"NaN\",\"NaN\",\"NaN\",\"NaN\",\"NaN\",\"NaN\",\"NaN\",\"NaN\",\"NaN\"],\"AmazonClassics_edition\":[\"yes\",\"yes\",\"yes\",\"no\",\"no\",\"yes\",\"yes\",\"no\",\"yes\",\"yes\",\"yes\",\"yes\",\"yes\",\"yes\",\"yes\",\"yes\",\"yes\",\"yes\",\"yes\",\"yes\",\"yes\",\"yes\",\"yes\",\"yes\",\"yes\",\"yes\",\"yes\",\"yes\",\"yes\",\"yes\",\"yes\",\"yes\",\"yes\",\"yes\",\"yes\",\"yes\",\"no\",\"yes\",\"yes\",\"yes\",\"yes\",\"yes\",\"yes\",\"yes\",\"yes\",\"yes\",\"yes\",\"yes\",\"yes\",\"yes\",\"no\",\"yes\",\"yes\",\"yes\",\"yes\",\"yes\",\"yes\",\"yes\",\"yes\",\"yes\",\"yes\",\"yes\",\"yes\",\"yes\",\"yes\",\"yes\",\"yes\",\"yes\",\"yes\",\"yes\",\"yes\",\"no\",\"yes\",\"yes\",\"no\",\"no\",\"no\",\"no\",\"no\",\"no\",\"no\",\"no\",\"no\",\"no\",\"no\",\"no\",\"no\",\"no\",\"no\",\"no\",\"no\",\"no\",\"no\",\"no\",\"no\",\"no\",\"no\",\"no\",\"no\",\"no\",\"no\",\"no\",\"no\",\"no\",\"no\",\"no\",\"no\",\"no\",\"no\",\"no\",\"no\",\"no\",\"no\",\"no\",\"no\",\"no\",\"no\",\"no\",\"no\",\"no\",\"no\",\"no\",\"no\",\"no\",\"no\",\"no\",\"no\",\"no\",\"no\",\"no\",\"no\",\"no\",\"no\",\"no\",\"no\",\"no\",\"no\",\"no\",\"no\",\"no\",\"no\",\"no\",\"no\"],\"AmazonClassics_url\":[\"https://www.amazon.com/Odyssey-AmazonClassics-Homer-ebook/dp/B071JBJTFY/ref=sr_1_20?crid=3Q3MJA7U5MS70&dchild=1&keywords=amazonclassics+edition&qid=1591736683&s=books&sprefix=Amazo%2Cstripbooks%2C178&sr=1-20\",\"https://www.amazon.com/Iliad-AmazonClassics-Homer-ebook/dp/B072MQ8FL7/ref=sr_1_158?crid=3Q3MJA7U5MS70&dchild=1&keywords=amazonclassics+edition&qid=1591739234&s=books&sprefix=Amazo%2Cstripbooks%2C178&sr=1-158\",\"https://www.amazon.com/Beowulf-AmazonClassics-ebook/dp/B072Q1ZB95/ref=sr_1_113?crid=3Q3MJA7U5MS70&dchild=1&keywords=amazonclassics+edition&qid=1591738305&s=books&sprefix=Amazo%2Cstripbooks%2C178&sr=1-113\",\"NaN\",\"NaN\",\"https://www.amazon.com/Romeo-Juliet-AmazonClassics-William-Shakespeare-ebook/dp/B071GC1H2G/ref=sr_1_31?crid=3Q3MJA7U5MS70&dchild=1&keywords=amazonclassics+edition&qid=1591736683&s=books&sprefix=Amazo%2Cstripbooks%2C178&sr=1-31\",\"https://www.amazon.com/Midsummer-Nights-Dream-AmazonClassics-ebook/dp/B073QLX4V9/ref=sr_1_131?crid=3Q3MJA7U5MS70&dchild=1&keywords=amazonclassics+edition&qid=1591738675&s=books&sprefix=Amazo%2Cstripbooks%2C178&sr=1-131\",\"NaN\",\"https://www.amazon.com/Hamlet-AmazonClassics-William-Shakespeare-ebook/dp/B071WW324R/ref=sr_1_56?crid=3Q3MJA7U5MS70&dchild=1&keywords=amazonclassics+edition&qid=1591736994&s=books&sprefix=Amazo%2Cstripbooks%2C178&sr=1-56\",\"https://www.amazon.com/Othello-AmazonClassics-William-Shakespeare-ebook/dp/B073QLJTBJ/ref=sr_1_65?crid=3Q3MJA7U5MS70&dchild=1&keywords=amazonclassics+edition&qid=1591736994&s=books&sprefix=Amazo%2Cstripbooks%2C178&sr=1-65\",\"https://www.amazon.com/Don-Quixote-AmazonClassics-Miguel-Cervantes-ebook/dp/B07XXYKW3J/ref=sr_1_2?crid=1AW79OVH2PH2H&dchild=1&keywords=don+quixote+amazonclassics+edition&qid=1591750107&s=digital-text&sprefix=don+qu%2Cdigital-text%2C182&sr=1-2\",\"https://www.amazon.com/Macbeth-AmazonClassics-William-Shakespeare-ebook/dp/B07417B3DS/ref=sr_1_4?crid=DHXVPQDBPO3F&dchild=1&keywords=macbeth+by+william+shakespeare&qid=1591723937&s=books&sprefix=Macbeth%2Cstripbooks%2C161&sr=1-4\",\"https://www.amazon.com/Robinson-Crusoe-AmazonClassics-Daniel-Defoe-ebook/dp/B07Q348VW1/ref=sr_1_37?crid=3Q3MJA7U5MS70&dchild=1&keywords=amazonclassics+edition&qid=1591736696&s=books&sprefix=Amazo%2Cstripbooks%2C178&sr=1-37\",\"https://www.amazon.com/Gullivers-Travels-AmazonClassics-Jonathan-Swift-ebook/dp/B073WW8W3R/ref=sr_1_77?crid=3Q3MJA7U5MS70&dchild=1&keywords=amazonclassics+edition&qid=1591737294&s=books&sprefix=Amazo%2Cstripbooks%2C178&sr=1-77\",\"https://www.amazon.com/Candide-AmazonClassics-Voltaire-ebook/dp/B073QR7YB9/ref=sr_1_2?dchild=1&keywords=Candide+amazon+classics&qid=1591731419&s=books&sr=1-2\",\"https://www.amazon.com/Sense-Sensibility-AmazonClassics-Jane-Austen-ebook/dp/B073WVNN4L/ref=sr_1_5?crid=E57NAM0N3O63&dchild=1&keywords=jane+austen+amazonclassics&qid=1591752672&s=books&sprefix=Jane+Austen+am%2Cstripbooks%2C179&sr=1-5\",\"https://www.amazon.com/Pride-Prejudice-AmazonClassics-Jane-Austen-ebook/dp/B071SKHMDL/ref=sr_1_2?dchild=1&keywords=pride+and+prejudice+jane+austen+amazonclassics&qid=1591648129&s=books&sr=1-2\",\"https://www.amazon.com/Mansfield-Park-AmazonClassics-Jane-Austen-ebook/dp/B07571QMQY/ref=sr_1_1?dchild=1&keywords=mansfield+park+amazon+classics&qid=1591625189&s=books&sr=1-1\",\"https://www.amazon.com/Emma-AmazonClassics-Jane-Austen-ebook/dp/B075M6DRXH/ref=sr_1_1?dchild=1&keywords=Emma+jane+austen+amazonclassics&qid=1591655534&s=books&sr=1-1\",\"https://www.amazon.com/Persuasion-AmazonClassics-Jane-Austen-ebook/dp/B075M7VBK7/ref=sr_1_1?dchild=1&keywords=Persuasion+jane+austen+amazonclassics&qid=1591650046&s=books&sr=1-1\",\"https://www.amazon.com/Northanger-Abbey-AmazonClassics-Jane-Austen-ebook/dp/B075133SGP/ref=sr_1_64?crid=3Q3MJA7U5MS70&dchild=1&keywords=amazonclassics+edition&qid=1591736994&s=books&sprefix=Amazo%2Cstripbooks%2C178&sr=1-64\",\"https://www.amazon.com/Frankenstein-AmazonClassics-Mary-Shelley-ebook/dp/B06ZXT4MRB/ref=sr_1_1?dchild=1&keywords=frankenstein+amazonclassics&qid=1591663974&s=books&sr=1-1\",\"https://www.amazon.com/Hunchback-Notre-Dame-AmazonClassics-Victor-Hugo-ebook/dp/B07Z7QK149/ref=sr_1_6?dchild=1&keywords=amazonclassics+edition&qid=1591750222&s=digital-text&sr=1-6\",\"https://www.amazon.com/Oliver-Twist-AmazonClassics-Charles-Dickens-ebook/dp/B074W9R12X/ref=sr_1_1?dchild=1&keywords=Oliver+Twist+amazon+classics&qid=1591662967&s=books&sr=1-1\",\"https://www.amazon.com/Christmas-Carol-AmazonClassics-Charles-Dickens-ebook/dp/B071ZKZBWR/ref=sr_1_1?dchild=1&keywords=a+christmas+carol+amazon+classics&qid=1591662897&s=books&sr=1-1\",\"https://www.amazon.com/Count-Monte-Cristo-AmazonClassics-ebook/dp/B082HVQQFB/ref=sr_1_62?dchild=1&keywords=amazonclassics+edition&qid=1591750366&s=digital-text&sr=1-62\",\"https://www.amazon.com/Narrative-Life-Frederick-Douglass-AmazonClassics-ebook/dp/B072HMGLZR/ref=sr_1_227?crid=3Q3MJA7U5MS70&dchild=1&keywords=amazonclassics+edition&qid=1591740643&s=books&sprefix=Amazo%2Cstripbooks%2C178&sr=1-227\",\"https://www.amazon.com/Jane-Eyre-AmazonClassics-Charlotte-Bront%C3%AB-ebook/dp/B0721B7NPX/ref=sr_1_1?dchild=1&keywords=jane+eyre+amazonclassics+edition&qid=1591626233&s=books&sr=1-1\",\"https://www.amazon.com/Wuthering-Heights-AmazonClassics-Emily-Bront%C3%AB-ebook/dp/B073QM98F5/ref=sr_1_4?crid=1B40QBVFH85NP&dchild=1&keywords=wuthering+heights+by+emily+bronte&qid=1591723740&s=books&sprefix=Wuther%2Cstripbooks%2C147&sr=1-4\",\"https://www.amazon.com/David-Copperfield-AmazonClassics-Charles-Dickens-ebook/dp/B07ZNYFK1J/ref=sr_1_17?crid=3Q3MJA7U5MS70&dchild=1&keywords=amazonclassics+edition&qid=1591736590&s=books&sprefix=Amazo%2Cstripbooks%2C178&sr=1-17\",\"https://www.amazon.com/Scarlet-Letter-AmazonClassics-Nathaniel-Hawthorne-ebook/dp/B06ZYD5RMB/ref=sr_1_49?crid=3Q3MJA7U5MS70&dchild=1&keywords=amazonclassics+edition&qid=1591736696&s=books&sprefix=Amazo%2Cstripbooks%2C178&sr=1-49\",\"https://www.amazon.com/Moby-Dick-AmazonClassics-Herman-Melville-ebook/dp/B072KN8SYF/ref=sr_1_83?crid=3Q3MJA7U5MS70&dchild=1&keywords=amazonclassics+edition&qid=1591737294&s=books&sprefix=Amazo%2Cstripbooks%2C178&sr=1-83\",\"https://www.amazon.com/Uncle-Cabin-AmazonClassics-Harriet-Beecher-ebook/dp/B073W9N1W8/ref=sr_1_2?crid=108DGRFGP0JJ3&dchild=1&keywords=uncle+toms+cabin+amazon+classics&qid=1591739586&sprefix=uncle+tom+amazon+classics%2Caps%2C184&sr=8-2\",\"https://www.amazon.com/Madame-Bovary-AmazonClassics-Gustave-Flaubert-ebook/dp/B074J8BQ2W/ref=sr_1_152?crid=3Q3MJA7U5MS70&dchild=1&keywords=amazonclassics+edition&qid=1591739234&s=books&sprefix=Amazo%2Cstripbooks%2C178&sr=1-152\",\"https://www.amazon.com/Tale-Two-Cities-AmazonClassics-ebook/dp/B074C2LZG7/ref=sr_1_2?crid=1PWI4VS2ICHKW&dchild=1&keywords=a+tale+of+two+cities+amazon+classics&qid=1591662822&s=books&sprefix=a+tale++amazon+classics%2Cstripbooks%2C185&sr=1-2\",\"https://www.amazon.com/Great-Expectations-AmazonClassics-Charles-Dickens-ebook/dp/B073QRMXNM/ref=sr_1_7?crid=TB9V2DB59BT1&dchild=1&keywords=the+great+gatsby+amazon+classics&qid=1591656277&s=books&sprefix=The+Great+Gatsby+amazo%2Cstripbooks%2C177&sr=1-7\",\"NaN\",\"https://www.amazon.com/Journey-Center-Earth-AmazonClassics-Jules-ebook/dp/B074W95Z2Y/ref=sr_1_5?dchild=1&keywords=Journey+to+the+center+amazon+classics&qid=1591731312&s=books&sr=1-5\",\"https://www.amazon.com/Alices-Adventures-Wonderland-AmazonClassics-Carroll-ebook/dp/B071RSDB49/ref=sr_1_1?crid=3DPY4ICJ86JLF&dchild=1&keywords=alice+in+wonderland+amazon+classic&qid=1591722413&s=books&sprefix=Alice%27s+amazon+classics%2Cstripbooks%2C152&sr=1-1\",\"https://www.amazon.com/Crime-Punishment-AmazonClassics-Fyodor-Dostoyevsky-ebook/dp/B074W9WW4S/ref=sr_1_2?crid=1P057ALWQ9GIQ&dchild=1&keywords=crime+and+punishment+amazonclassics&qid=1591734814&s=books&sprefix=Crime+and+Punishment++amazon+classics%2Cstripbooks%2C166&sr=1-2\",\"https://www.amazon.com/War-Peace-AmazonClassics-Leo-Tolstoy-ebook/dp/B07YWS6WMB/ref=sr_1_2?crid=PDJYCDYYXE87&dchild=1&keywords=war+and+peace+amazon+classics&qid=1591730531&s=books&sprefix=War+Peace+amazon+classics%2Cstripbooks%2C165&sr=1-2\",\"https://www.amazon.com/Little-Women-AmazonClassics-Louisa-Alcott-ebook/dp/B073W9TT71/ref=sr_1_1?crid=3DTOSRGLZR8EE&dchild=1&keywords=little+women+amazon+classics&qid=1591665312&s=books&sprefix=Little++amazon+classics%2Cstripbooks%2C201&sr=1-1\",\"https://www.amazon.com/Through-Looking-Glass-AmazonClassics-Lewis-Carroll-ebook/dp/B07WF81Z21/ref=sr_1_9?dchild=1&keywords=alice+in+wonderland+and+through+the+looking+glass+amazon+classic&qid=1591722464&s=books&sr=1-9\",\"https://www.amazon.com/Around-World-Eighty-Days-AmazonClassics-ebook/dp/B0756ZS2DT/ref=sr_1_5?dchild=1&keywords=Around+the+world+in+eighty+days+amazon+classics&qid=1591731362&s=books&sr=1-5\",\"https://www.amazon.com/Adventures-Tom-Sawyer-AmazonClassics-ebook/dp/B072F1WKW1/ref=sr_1_126?crid=3Q3MJA7U5MS70&dchild=1&keywords=amazonclassics+edition&qid=1591738675&s=books&sprefix=Amazo%2Cstripbooks%2C178&sr=1-126\",\"https://www.amazon.com/Anna-Karenina-AmazonClassics-Leo-Tolstoy-ebook/dp/B07YWRTHMC/ref=sr_1_154?crid=3Q3MJA7U5MS70&dchild=1&keywords=amazonclassics+edition&qid=1591739234&s=books&sprefix=Amazo%2Cstripbooks%2C178&sr=1-154\",\"https://www.amazon.com/Brothers-Karamazov-AmazonClassics-Fyodor-Dostoyevsky-ebook/dp/B07YWSB3TP/ref=sr_1_2?dchild=1&keywords=The+brothers+karamazov+amazon+classics&qid=1591734583&s=books&sr=1-2\",\"https://www.amazon.com/Treasure-Island-AmazonClassics-Robert-Stevenson-ebook/dp/B072Q1KBRT/ref=sr_1_4?dchild=1&keywords=treasure+island+amazonclassics&qid=1591664938&s=books&sr=1-4\",\"https://www.amazon.com/Adventures-Huckleberry-Finn-AmazonClassics-ebook/dp/B072L78PHK/ref=sr_1_129?crid=3Q3MJA7U5MS70&dchild=1&keywords=amazonclassics+edition&qid=1591738675&s=books&sprefix=Amazo%2Cstripbooks%2C178&sr=1-129\",\"https://www.amazon.com/Strange-Case-Jekyll-Hyde-AmazonClassics-ebook/dp/B071WW6BRV/ref=sr_1_3?dchild=1&keywords=The+Strange+Case+of+Dr.+Jekyll+and+Hyde+amazonclassics&qid=1591665087&s=books&sr=1-3\",\"NaN\",\"https://www.amazon.com/Study-Scarlet-AmazonClassics-Arthur-Conan-ebook/dp/B0769Z85G1/ref=sr_1_4?crid=3A6D2VTUP5T6F&dchild=1&keywords=a+study+in+scarlet&qid=1591724966&s=books&sprefix=a+study+%2Cstripbooks%2C144&sr=1-4\",\"https://www.amazon.com/Princess-AmazonClassics-Frances-Hodgson-Burnett-ebook/dp/B074W9PT2M/ref=sr_1_150?crid=3Q3MJA7U5MS70&dchild=1&keywords=amazonclassics+edition&qid=1591739234&s=books&sprefix=Amazo%2Cstripbooks%2C178&sr=1-150\",\"https://www.amazon.com/Picture-Dorian-Gray-AmazonClassics-ebook/dp/B071HDXV91/ref=sr_1_5?crid=3GQJ4LF6S63U6&dchild=1&keywords=the+picture+of+dorian+gray+by+oscar+wilde&qid=1591729951&s=books&sprefix=The+picture%2Cstripbooks%2C157&sr=1-5\",\"https://www.amazon.com/Tess-dUrbervilles-AmazonClassics-Thomas-Hardy-ebook/dp/B07Q43DPJP/ref=sr_1_86?crid=3Q3MJA7U5MS70&dchild=1&keywords=amazonclassics+edition&qid=1591737906&s=books&sprefix=Amazo%2Cstripbooks%2C178&sr=1-86\",\"https://www.amazon.com/Yellow-Wallpaper-AmazonClassics-Charlotte-Perkins-ebook/dp/B0823TP9MY/ref=sr_1_356?crid=3Q3MJA7U5MS70&dchild=1&keywords=amazonclassics+edition&qid=1591741246&s=books&sprefix=Amazo%2Cstripbooks%2C178&sr=1-356\",\"https://www.amazon.com/Time-Machine-AmazonClassics-H-Wells-ebook/dp/B073QRYR6G/ref=sr_1_54?crid=3Q3MJA7U5MS70&dchild=1&keywords=amazonclassics+edition&qid=1591736994&s=books&sprefix=Amazo%2Cstripbooks%2C178&sr=1-54\",\"https://www.amazon.com/Importance-Being-Earnest-AmazonClassics-ebook/dp/B07WM161DS/ref=sr_1_121?crid=3Q3MJA7U5MS70&dchild=1&keywords=amazonclassics+edition&qid=1591738675&s=books&sprefix=Amazo%2Cstripbooks%2C178&sr=1-121\",\"https://www.amazon.com/Dracula-AmazonClassics-Bram-Stoker-ebook/dp/B073QS9M8M/ref=sr_1_148?crid=3Q3MJA7U5MS70&dchild=1&keywords=amazonclassics+edition&qid=1591739234&s=books&sprefix=Amazo%2Cstripbooks%2C178&sr=1-148\",\"https://www.amazon.com/War-Worlds-AmazonClassics-H-Wells-ebook/dp/B0752ZLG34/ref=sr_1_116?dchild=1&keywords=amazonclassics+edition&qid=1591750622&s=digital-text&sr=1-116\",\"https://www.amazon.com/Turn-Screw-AmazonClassics-Henry-James-ebook/dp/B074J2JHLQ/ref=sr_1_211?crid=3Q3MJA7U5MS70&dchild=1&keywords=amazonclassics+edition&qid=1591740177&s=books&sprefix=Amazo%2Cstripbooks%2C178&sr=1-211\",\"https://www.amazon.com/Heart-Darkness-AmazonClassics-Joseph-Conrad-ebook/dp/B0728MXJ3Y/ref=sr_1_110?crid=3Q3MJA7U5MS70&dchild=1&keywords=amazonclassics+edition&qid=1591738305&s=books&sprefix=Amazo%2Cstripbooks%2C178&sr=1-110\",\"https://www.amazon.com/Wonderful-Wizard-Oz-AmazonClassics-ebook/dp/B071GTPBB1/ref=sr_1_13?crid=36EVHX92A9KQY&dchild=1&keywords=the+wonderful+wizard+of+oz&qid=1591725146&s=books&sprefix=The+wonderful%2Cstripbooks%2C178&sr=1-13\",\"https://www.amazon.com/Man-Thinketh-AmazonClassics-James-Allen-ebook/dp/B07Q392DB8/ref=sr_1_90?crid=3Q3MJA7U5MS70&dchild=1&keywords=amazonclassics+edition&qid=1591737906&s=books&sprefix=Amazo%2Cstripbooks%2C178&sr=1-90\",\"https://www.amazon.com/Call-Wild-AmazonClassics-Jack-London-ebook/dp/B072C7QKRY/ref=sr_1_7?crid=7JH9R0HRVDP0&dchild=1&keywords=the+call+of+the+wild+by+jack+london&qid=1591724792&s=books&sprefix=the+call+%2Cstripbooks%2C151&sr=1-7\",\"https://www.amazon.com/Peter-Wendy-AmazonClassics-J-Barrie-ebook/dp/B077D9MCMN/ref=sr_1_143?crid=3Q3MJA7U5MS70&dchild=1&keywords=amazonclassics+edition&qid=1591738939&s=books&sprefix=Amazo%2Cstripbooks%2C178&sr=1-143\",\"https://www.amazon.com/Anne-Green-Gables-AmazonClassics-Montgomery-ebook/dp/B073QRGDCW/ref=sr_1_6?crid=2EB92BY43H1XF&dchild=1&keywords=anne+of+green+gables&qid=1591723575&s=books&sprefix=Anne+%2Cstripbooks%2C160&sr=1-6\",\"https://www.amazon.com/Secret-AmazonClassics-Frances-Hodgson-Burnett-ebook/dp/B071KFMPJN/ref=sr_1_16?dchild=1&keywords=amazon+classics&qid=1591751979&s=digital-text&sr=1-16\",\"https://www.amazon.com/Phantom-Opera-AmazonClassics-Gaston-Leroux-ebook/dp/B075CL6KKV/ref=sr_1_84?crid=3Q3MJA7U5MS70&dchild=1&keywords=amazonclassics+edition&qid=1591737294&s=books&sprefix=Amazo%2Cstripbooks%2C178&sr=1-84\",\"https://www.amazon.com/Metamorphosis-AmazonClassics-Franz-Kafka-ebook/dp/B07W9LYXD9/ref=sr_1_352?crid=3Q3MJA7U5MS70&dchild=1&keywords=amazonclassics+edition&qid=1591741210&s=books&sprefix=Amazo%2Cstripbooks%2C178&sr=1-352\",\"https://www.amazon.com/Mysterious-Affair-Styles-AmazonClassics-ebook/dp/B076BM2NFQ/ref=sr_1_175?crid=3Q3MJA7U5MS70&dchild=1&keywords=amazonclassics+edition&qid=1591739653&s=books&sprefix=Amazo%2Cstripbooks%2C178&sr=1-175\",\"NaN\",\"https://www.amazon.com/Murder-Links-AmazonClassics-Hercule-Poirot-ebook/dp/B07VT5QGB4/ref=sr_1_199?dchild=1&keywords=amazonclassics+edition&qid=1591751069&s=digital-text&sr=1-199\",\"https://www.amazon.com/Prophet-AmazonClassics-Kahlil-Gibran-ebook/dp/B07NSWQM75/ref=sr_1_22?crid=3Q3MJA7U5MS70&dchild=1&keywords=amazonclassics+edition&qid=1591736683&s=books&sprefix=Amazo%2Cstripbooks%2C178&sr=1-22\",\"NaN\",\"NaN\",\"NaN\",\"NaN\",\"NaN\",\"NaN\",\"NaN\",\"NaN\",\"NaN\",\"NaN\",\"NaN\",\"NaN\",\"NaN\",\"NaN\",\"NaN\",\"NaN\",\"NaN\",\"NaN\",\"NaN\",\"NaN\",\"NaN\",\"NaN\",\"NaN\",\"NaN\",\"NaN\",\"NaN\",\"NaN\",\"NaN\",\"NaN\",\"NaN\",\"NaN\",\"NaN\",\"NaN\",\"NaN\",\"NaN\",\"NaN\",\"NaN\",\"NaN\",\"NaN\",\"NaN\",\"NaN\",\"NaN\",\"NaN\",\"NaN\",\"NaN\",\"NaN\",\"NaN\",\"NaN\",\"NaN\",\"NaN\",\"NaN\",\"NaN\",\"NaN\",\"NaN\",\"NaN\",\"NaN\",\"NaN\",\"NaN\",\"NaN\",\"NaN\",\"NaN\",\"NaN\",\"NaN\",\"NaN\",\"NaN\",\"NaN\",\"NaN\",\"NaN\",\"NaN\"],\"author\":[\"Homer\",\"Homer\",\"Unknown\",\"Geoffrey Chaucer\",\"Niccol\\u00f2 Machiavelli\",\"William Shakespeare\",\"William Shakespeare\",\"William Shakespeare\",\"William Shakespeare\",\"William Shakespeare\",\"Miguel de Cervantes Saavedra\",\"William Shakespeare\",\"Daniel Defoe\",\"Jonathan Swift\",\"Voltaire\",\"Jane Austen\",\"Jane Austen\",\"Jane Austen\",\"Jane Austen\",\"Jane Austen\",\"Jane Austen\",\"Mary Wollstonecraft Shelley\",\"Victor Hugo\",\"Charles Dickens\",\"Charles Dickens\",\"Alexandre Dumas\",\"Frederick Douglass\",\"Charlotte Bront\\u00eb\",\"Emily Bront\\u00eb\",\"Charles Dickens\",\"Nathaniel Hawthorne\",\"Herman Melville\",\"Harriet Beecher Stowe\",\"Gustave Flaubert\",\"Charles Dickens\",\"Charles Dickens\",\"Victor Hugo\",\"Jules Verne\",\"Lewis Carroll\",\"Fyodor Dostoyevsky\",\"Leo Tolstoy\",\"Louisa May Alcott\",\"Lewis Carroll\",\"Jules Verne\",\"Mark Twain\",\"Leo Tolstoy\",\"Fyodor Dostoyevsky\",\"Robert Louis Stevenson\",\"Mark Twain\",\"Robert Louis Stevenson\",\"Leo Tolstoy\",\"Arthur Conan Doyle\",\"Frances Hodgson Burnett\",\"Oscar Wilde\",\"Thomas Hardy\",\"Charlotte Perkins Gilman\",\"H.G. Wells\",\"Oscar Wilde\",\"Bram Stoker\",\"H.G. Wells\",\"Henry James\",\"Joseph Conrad\",\"L. Frank Baum\",\"James Allen\",\"Jack London\",\"J.M. Barrie\",\"L.M. Montgomery\",\"Frances Hodgson Burnett\",\"Gaston Leroux\",\"Franz Kafka\",\"Agatha Christie\",\"Hermann Hesse\",\"Agatha Christie\",\"Kahlil Gibran\",\"Virginia Woolf\",\"F. Scott Fitzgerald\",\"Ernest Hemingway\",\"Ernest Hemingway\",\"Virginia Woolf\",\"Aldous Huxley\",\"Agatha Christie\",\"Margaret Mitchell\",\"Agatha Christie\",\"John Steinbeck\",\"J.R.R. Tolkien\",\"Zora Neale Hurston\",\"Daphne du Maurier\",\"Kathrine Kressmann Taylor\",\"Agatha Christie\",\"John Steinbeck\",\"Albert Camus\",\"Stefan Zweig\",\"Antoine de Saint-Exup\\u00e9ry\",\"Betty Smith\",\"George Orwell\",\"John Steinbeck\",\"Anne Frank\",\"George Orwell\",\"C.S. Lewis\",\"J.D. Salinger\",\"C.S. Lewis\",\"Ernest Hemingway\",\"John Steinbeck\",\"E.B. White\",\"Ray Bradbury\",\"Arthur Miller\",\"J.R.R. Tolkien\",\"J.R.R. Tolkien\",\"C.S. Lewis\",\"Richard Matheson\",\"William Golding\",\"J.R.R. Tolkien\",\"C.S. Lewis\",\"Vladimir Nabokov\",\"Truman Capote\",\"Chinua Achebe\",\"Harper Lee\",\"Joseph Heller\",\"Philip K. Dick\",\"Ken Kesey\",\"Anthony Burgess\",\"Sylvia Plath\",\"Frank Herbert\",\"Truman Capote\",\"Daniel Keyes\",\"S.E. Hinton\",\"Gabriel Garc\\u00eda M\\u00e1rquez\",\"Philip K. Dick\",\"Kurt Vonnegut\",\"Ursula K. Le Guin\",\"Toni Morrison\",\"Richard Bach\",\"Stephen King\",\"Alice Walker\",\"Margaret Atwood\",\"Gary Paulsen\",\"Paulo Coelho\",\"Roald Dahl\",\"Laura Esquivel\",\"Tim O'Brien\",\"Lois Lowry\",\"Mitch Albom\",\"Mitch Albom\"],\"author_nationality\":[\"Greek\",\"Greek\",\"Unknown\",\"British\",\"Italian\",\"British\",\"British\",\"British\",\"British\",\"British\",\"Spanish\",\"British\",\"British\",\"Irish\",\"French\",\"British\",\"British\",\"British\",\"British\",\"British\",\"British\",\"British\",\"French\",\"British\",\"British\",\"French\",\"American\",\"British\",\"British\",\"British\",\"American\",\"American\",\"American\",\"French\",\"British\",\"British\",\"French\",\"French\",\"British\",\"Russian\",\"Russian\",\"American\",\"British\",\"French\",\"American\",\"Russian\",\"Russian\",\"Scottish\",\"American\",\"Scottish\",\"Russian\",\"Scottish\",\"British-American\",\"British\",\"British\",\"American\",\"British\",\"British\",\"Irish\",\"British\",\"American\",\"Polish (British Citizenship)\",\"American\",\"British\",\"American\",\"Scottish\",\"Canadian\",\"British-American\",\"French\",\"Bohemian\",\"British\",\"German-Swiss\",\"British\",\"Lebanese-American\",\"British\",\"American\",\"American\",\"American\",\"British\",\"British\",\"British\",\"American\",\"British\",\"American\",\"British\",\"American\",\"British\",\"American\",\"British\",\"American\",\"French\",\"Austrian\",\"French\",\"American\",\"British\",\"American\",\"German-Dutch\",\"British\",\"British\",\"American\",\"British\",\"American\",\"American\",\"American\",\"American\",\"American\",\"British\",\"British\",\"British\",\"American\",\"British\",\"British\",\"British\",\"Russian-American\",\"American\",\"Nigerian\",\"American\",\"American\",\"American\",\"American\",\"British\",\"American\",\"American\",\"American\",\"American\",\"American\",\"Colombian\",\"American\",\"American\",\"American\",\"American\",\"American\",\"American\",\"American\",\"Canadian\",\"American\",\"Brazilian\",\"British\",\"Mexican\",\"American\",\"American\",\"American\",\"American\"],\"gender\":[\"M\",\"M\",\"M\",\"M\",\"M\",\"M\",\"M\",\"M\",\"M\",\"M\",\"M\",\"M\",\"M\",\"M\",\"M\",\"W\",\"W\",\"W\",\"W\",\"W\",\"W\",\"W\",\"M\",\"M\",\"M\",\"M\",\"M\",\"W\",\"W\",\"M\",\"M\",\"M\",\"W\",\"M\",\"M\",\"M\",\"M\",\"M\",\"M\",\"M\",\"M\",\"W\",\"M\",\"M\",\"M\",\"M\",\"M\",\"M\",\"M\",\"M\",\"M\",\"M\",\"W\",\"M\",\"M\",\"W\",\"M\",\"M\",\"M\",\"M\",\"M\",\"M\",\"M\",\"M\",\"M\",\"M\",\"W\",\"W\",\"M\",\"M\",\"W\",\"M\",\"W\",\"M\",\"W\",\"M\",\"M\",\"M\",\"W\",\"M\",\"W\",\"W\",\"W\",\"M\",\"M\",\"W\",\"W\",\"W\",\"W\",\"M\",\"M\",\"M\",\"M\",\"W\",\"M\",\"M\",\"M\",\"M\",\"M\",\"M\",\"M\",\"M\",\"M\",\"M\",\"M\",\"M\",\"M\",\"M\",\"M\",\"M\",\"M\",\"M\",\"M\",\"M\",\"M\",\"M\",\"W\",\"M\",\"M\",\"M\",\"M\",\"W\",\"M\",\"M\",\"M\",\"W\",\"M\",\"M\",\"M\",\"W\",\"W\",\"M\",\"M\",\"W\",\"W\",\"M\",\"M\",\"M\",\"W\",\"M\",\"W\",\"M\",\"M\"],\"index\":[0,1,2,3,4,5,6,7,8,9,10,11,12,13,14,15,16,17,18,19,20,21,22,23,24,25,26,27,28,29,30,31,32,33,34,35,36,37,38,39,40,41,42,43,44,45,46,47,48,49,50,51,52,53,54,55,56,57,58,59,60,61,62,63,64,65,66,67,68,69,70,71,72,73,74,75,76,77,78,79,80,81,82,83,84,85,86,87,88,89,90,91,92,93,94,95,96,97,98,99,100,101,102,103,104,105,106,107,108,109,110,111,112,113,114,115,116,117,118,119,120,121,122,123,124,125,126,127,128,129,130,131,132,133,134,135,136,137,138,139,140,141,142],\"original_language\":[\"Greek\",\"Greek\",\"Old English\",\"English\",\"Italian\",\"English\",\"English\",\"English\",\"English\",\"English\",\"Spanish\",\"English\",\"English\",\"English\",\"French\",\"English\",\"English\",\"English\",\"English\",\"English\",\"English\",\"English\",\"French\",\"English\",\"English\",\"French\",\"English\",\"English\",\"English\",\"English\",\"English\",\"English\",\"English\",\"French\",\"English\",\"English\",\"French\",\"French\",\"English\",\"Russian\",\"Russian\",\"English\",\"English\",\"French\",\"English\",\"Russian\",\"Russian\",\"English\",\"English\",\"English\",\"Russian\",\"English\",\"English\",\"English\",\"English\",\"English\",\"English\",\"English\",\"English\",\"English\",\"English\",\"English\",\"English\",\"English\",\"English\",\"English\",\"English\",\"English\",\"French\",\"German\",\"English\",\"German\",\"English\",\"English\",\"English\",\"English\",\"English\",\"English\",\"English\",\"English\",\"English\",\"English\",\"English\",\"English\",\"English\",\"English\",\"English\",\"English\",\"English\",\"English\",\"French\",\"German\",\"French\",\"English\",\"English\",\"English\",\"Dutch\",\"English\",\"English\",\"English\",\"English\",\"English\",\"English\",\"English\",\"English\",\"English\",\"English\",\"English\",\"English\",\"English\",\"English\",\"English\",\"English\",\"English\",\"English\",\"English\",\"English\",\"English\",\"English\",\"English\",\"English\",\"English\",\"English\",\"English\",\"English\",\"English\",\"Spanish\",\"English\",\"English\",\"English\",\"English\",\"English\",\"English\",\"English\",\"English\",\"English\",\"Portuguese\",\"English\",\"Spanish\",\"English\",\"English\",\"English\",\"English\"],\"publication_date\":[700,750,975,1390,1513,1595,1595,1598,1603,1603,1605,1606,1719,1726,1759,1811,1813,1814,1815,1818,1818,1818,1831,1838,1843,1844,1845,1847,1847,1849,1850,1851,1852,1856,1859,1861,1862,1864,1865,1866,1867,1869,1871,1873,1875,1877,1879,1882,1884,1886,1886,1887,1890,1890,1891,1892,1895,1895,1897,1898,1898,1899,1900,1902,1903,1904,1908,1910,1910,1915,1920,1922,1923,1923,1925,1926,1926,1929,1929,1932,1934,1936,1937,1937,1937,1937,1938,1938,1939,1939,1942,1942,1943,1943,1945,1945,1947,1949,1950,1951,1951,1952,1952,1952,1953,1953,1954,1954,1954,1954,1954,1955,1955,1955,1958,1959,1960,1961,1962,1962,1962,1963,1965,1965,1966,1967,1967,1968,1969,1969,1970,1970,1977,1982,1985,1986,1988,1988,1989,1990,1993,1997,2003],\"race/ethnicity\":[\"White\",\"White\",\"White\",\"White\",\"White\",\"White\",\"White\",\"White\",\"White\",\"White\",\"White\",\"White\",\"White\",\"White\",\"White\",\"White\",\"White\",\"White\",\"White\",\"White\",\"White\",\"White\",\"White\",\"White\",\"White\",\"Black\",\"Black\",\"White\",\"White\",\"White\",\"White\",\"White\",\"White\",\"White\",\"White\",\"White\",\"White\",\"White\",\"White\",\"White\",\"White\",\"White\",\"White\",\"White\",\"White\",\"White\",\"White\",\"White\",\"White\",\"White\",\"White\",\"White\",\"White\",\"White\",\"White\",\"White\",\"White\",\"White\",\"White\",\"White\",\"White\",\"White\",\"White\",\"White\",\"White\",\"White\",\"White\",\"White\",\"White\",\"White\",\"White\",\"White\",\"White\",\"Lebanese-American\",\"White\",\"White\",\"White\",\"White\",\"White\",\"White\",\"White\",\"White\",\"White\",\"White\",\"White\",\"Black\",\"White\",\"White\",\"White\",\"White\",\"White\",\"White\",\"White\",\"White\",\"White\",\"White\",\"White\",\"White\",\"White\",\"White\",\"White\",\"White\",\"White\",\"White\",\"White\",\"White\",\"White\",\"White\",\"White\",\"White\",\"White\",\"White\",\"White\",\"White\",\"White\",\"Black\",\"White\",\"White\",\"White\",\"White\",\"White\",\"White\",\"White\",\"White\",\"White\",\"White\",\"White\",\"White\",\"White\",\"White\",\"Black\",\"White\",\"White\",\"Black\",\"White\",\"White\",\"White\",\"White\",\"Mexican\",\"White\",\"White\",\"White\",\"White\"],\"title\":[\"The Odyssey\",\"The Iliad\",\"Beowulf\",\"The Canterbury Tales\",\"The Prince\",\"Romeo and Juliet\",\"A Midsummer Night's Dream\",\"Much Ado About Nothing\",\"Hamlet\",\"Othello\",\"Don Quixote\",\"Macbeth\",\"Robinson Crusoe\",\"Gulliver's Travels\",\"Candide\",\"Sense and Sensibility\",\"Pride and Prejudice\",\"Mansfield Park\",\"Emma\",\"Persuasion\",\"Northanger Abbey\",\"Frankenstein\",\"The Hunchback of Notre-Dame\",\"Oliver Twist\",\"A Christmas Carol\",\"The Count of Monte Cristo\",\"Narrative of the Life of Frederick Douglass\",\"Jane Eyre\",\"Wuthering Heights\",\"David Copperfield\",\"The Scarlet Letter\",\"Moby-Dick\",\"Uncle Tom's Cabin\",\"Madame Bovary\",\"A Tale of Two Cities\",\"Great Expectations\",\"Les Mis\\u00e9rables\",\"Journey to the Center of the Earth\",\"Alice's Adventures in Wonderland\",\"Crime and Punishment\",\"War and Peace\",\"Little Women\",\"Alice's Adventures in Wonderland and Through The Looking-Glass\",\"Around the World in Eighty Days\",\"The Adventures of Tom Sawyer\",\"Anna Karenina\",\"The Brothers Karamazov\",\"Treasure Island\",\"The Adventures of Huckleberry Finn\",\"The Strange Case of Dr. Jekyll and Mr. Hyde\",\"The Death of Ivan Ilych\",\"A Study in Scarlet\",\"A Little Princess\",\"The Picture of Dorian Gray\",\"Tess of the D'Urbervilles\",\"The Yellow Wall-Paper\",\"The Time Machine\",\"The Importance of Being Earnest\",\"Dracula\",\"The War of the Worlds\",\"The Turn of the Screw\",\"Heart of Darkness\",\"The Wonderful Wizard of Oz\",\"As a Man Thinketh\",\"The Call of the Wild\",\"Peter Pan\",\"Anne of Green Gables\",\"The Secret Garden\",\"The Phantom of the Opera\",\"The Metamorphosis\",\"The Mysterious Affair at Styles\",\"Siddhartha\",\"The Murder on the Links\",\"The Prophet\",\"Mrs. Dalloway\",\"The Great Gatsby\",\"The Sun Also Rises\",\"A Farewell to Arms\",\"A Room of One's Own\",\"Brave New World\",\"Murder on the Orient Express\",\"Gone with the Wind\",\"Death on the Nile\",\"Of Mice and Men\",\"The Hobbit or There and Back Again\",\"Their Eyes Were Watching God\",\"Rebecca\",\"Address Unknown\",\"And Then There Were None\",\"The Grapes of Wrath\",\"The Stranger\",\"Chess Story\",\"The Little Prince\",\"A Tree Grows in Brooklyn\",\"Animal Farm\",\"The Pearl\",\"The Diary of a Young Girl\",\"1984\",\"The Lion, the Witch and the Wardrobe\",\"The Catcher in the Rye\",\"Prince Caspian\",\"The Old Man and the Sea\",\"East of Eden\",\"Charlotte's Web\",\"Fahrenheit 451\",\"The Crucible\",\"The Fellowship of the Ring\",\"The Two Towers\",\"The Horse and His Boy\",\"I Am Legend\",\"Lord of the Flies\",\"The Return of the King\",\"The Magician's Nephew\",\"Lolita\",\"Breakfast at Tiffany's\",\"Things Fall Apart\",\"To Kill a Mockingbird\",\"Catch-22\",\"The Man in the High Castle\",\"One Flew Over the Cuckoo's Nest\",\"A Clockwork Orange\",\"The Bell Jar\",\"Dune\",\"In Cold Blood\",\"Flowers for Algernon\",\"The Outsiders\",\"One Hundred Years of Solitude\",\"Do Androids Dream of Electric Sheep?\",\"Slaughterhouse-Five\",\"The Left Hand of Darkness\",\"The Bluest Eye\",\"Jonathan Livingston Seagull\",\"The Shining\",\"The Color Purple\",\"The Handmaid's Tale\",\"Hatchet\",\"The Alchemist\",\"Matilda\",\"Like Water for Chocolate\",\"The Things They Carried\",\"The Giver\",\"Tuesdays with Morrie\",\"The Five People You Meet in Heaven\"]},\"selected\":{\"id\":\"1047\"},\"selection_policy\":{\"id\":\"1048\"}},\"id\":\"1002\",\"type\":\"ColumnDataSource\"},{\"attributes\":{},\"id\":\"1200\",\"type\":\"BasicTicker\"},{\"attributes\":{},\"id\":\"1244\",\"type\":\"BasicTickFormatter\"},{\"attributes\":{},\"id\":\"1207\",\"type\":\"PanTool\"},{\"attributes\":{},\"id\":\"1048\",\"type\":\"UnionRenderers\"},{\"attributes\":{},\"id\":\"1211\",\"type\":\"ResetTool\"},{\"attributes\":{\"active_drag\":\"auto\",\"active_inspect\":\"auto\",\"active_multi\":null,\"active_scroll\":\"auto\",\"active_tap\":\"auto\",\"tools\":[{\"id\":\"1207\"},{\"id\":\"1208\"},{\"id\":\"1209\"},{\"id\":\"1210\"},{\"id\":\"1211\"},{\"id\":\"1212\"}]},\"id\":\"1214\",\"type\":\"Toolbar\"},{\"attributes\":{},\"id\":\"1210\",\"type\":\"SaveTool\"},{\"attributes\":{},\"id\":\"1204\",\"type\":\"BasicTicker\"},{\"attributes\":{\"overlay\":{\"id\":\"1213\"}},\"id\":\"1209\",\"type\":\"BoxZoomTool\"},{\"attributes\":{\"fill_alpha\":{\"value\":0.1},\"fill_color\":{\"value\":\"purple\"},\"line_alpha\":{\"value\":0.1},\"line_color\":{\"value\":\"purple\"},\"size\":{\"units\":\"screen\",\"value\":30},\"x\":{\"field\":\"publication_date\"}},\"id\":\"1223\",\"type\":\"Circle\"},{\"attributes\":{\"data_source\":{\"id\":\"1002\"},\"glyph\":{\"id\":\"1222\"},\"hover_glyph\":null,\"muted_glyph\":null,\"nonselection_glyph\":{\"id\":\"1223\"},\"selection_glyph\":null,\"view\":{\"id\":\"1225\"}},\"id\":\"1224\",\"type\":\"GlyphRenderer\"},{\"attributes\":{},\"id\":\"1047\",\"type\":\"Selection\"},{\"attributes\":{\"text\":\"The Goodreads 'Classics'\"},\"id\":\"1189\",\"type\":\"Title\"},{\"attributes\":{\"source\":{\"id\":\"1002\"}},\"id\":\"1225\",\"type\":\"CDSView\"},{\"attributes\":{\"axis\":{\"id\":\"1199\"},\"ticker\":null},\"id\":\"1202\",\"type\":\"Grid\"}],\"root_ids\":[\"1188\"]},\"title\":\"Bokeh Application\",\"version\":\"2.0.2\"}};\n",
       "  var render_items = [{\"docid\":\"eee172f9-bfe4-4404-978d-494baa270ada\",\"root_ids\":[\"1188\"],\"roots\":{\"1188\":\"277071b7-ebd8-4246-aca5-32bc28ad65fb\"}}];\n",
       "  root.Bokeh.embed.embed_items_notebook(docs_json, render_items);\n",
       "\n",
       "  }\n",
       "  if (root.Bokeh !== undefined) {\n",
       "    embed_document(root);\n",
       "  } else {\n",
       "    var attempts = 0;\n",
       "    var timer = setInterval(function(root) {\n",
       "      if (root.Bokeh !== undefined) {\n",
       "        clearInterval(timer);\n",
       "        embed_document(root);\n",
       "      } else {\n",
       "        attempts++;\n",
       "        if (attempts > 100) {\n",
       "          clearInterval(timer);\n",
       "          console.log(\"Bokeh: ERROR: Unable to run BokehJS code because BokehJS library is missing\");\n",
       "        }\n",
       "      }\n",
       "    }, 10, root)\n",
       "  }\n",
       "})(window);"
      ],
      "application/vnd.bokehjs_exec.v0+json": ""
     },
     "metadata": {
      "application/vnd.bokehjs_exec.v0+json": {
       "id": "1188"
      }
     },
     "output_type": "display_data"
    }
   ],
   "source": [
    "bokeh_plot = figure( title=\"The Goodreads 'Classics'\", x_axis_label = 'Publication Date',\n",
    "                    y_axis_label ='Number of Goodreads Ratings',\n",
    "           x_range=[1500, 2050])\n",
    "\n",
    "bokeh_plot.circle(x='publication_date', \n",
    "         size = 30,\n",
    "         source=source,\n",
    "         color='purple')\n",
    "\n",
    "#Format big numbers wiht abbreviations\n",
    "bokeh_plot.yaxis.formatter = NumeralTickFormatter(format='0.0a')\n",
    "\n",
    "show(bokeh_plot) "
   ]
  },
  {
   "cell_type": "markdown",
   "metadata": {},
   "source": [
    "## Add Colors From Bokeh Color Palette"
   ]
  },
  {
   "cell_type": "markdown",
   "metadata": {},
   "source": [
    "https://docs.bokeh.org/en/latest/docs/user_guide/categorical.html#colors"
   ]
  },
  {
   "cell_type": "markdown",
   "metadata": {},
   "source": [
    "## Add Custom Colors"
   ]
  },
  {
   "cell_type": "code",
   "execution_count": 18,
   "metadata": {},
   "outputs": [
    {
     "data": {
      "text/html": [
       "<div>\n",
       "<style scoped>\n",
       "    .dataframe tbody tr th:only-of-type {\n",
       "        vertical-align: middle;\n",
       "    }\n",
       "\n",
       "    .dataframe tbody tr th {\n",
       "        vertical-align: top;\n",
       "    }\n",
       "\n",
       "    .dataframe thead th {\n",
       "        text-align: right;\n",
       "    }\n",
       "</style>\n",
       "<table border=\"1\" class=\"dataframe\">\n",
       "  <thead>\n",
       "    <tr style=\"text-align: right;\">\n",
       "      <th></th>\n",
       "      <th>title</th>\n",
       "      <th>author</th>\n",
       "      <th>original_language</th>\n",
       "      <th>gender</th>\n",
       "      <th>race/ethnicity</th>\n",
       "      <th>publication_date</th>\n",
       "      <th>author_nationality</th>\n",
       "      <th>AmazonClassics_edition</th>\n",
       "      <th>AmazonClassics_url</th>\n",
       "      <th>AmazonClassics_date</th>\n",
       "    </tr>\n",
       "  </thead>\n",
       "  <tbody>\n",
       "    <tr>\n",
       "      <th>0</th>\n",
       "      <td>The Odyssey</td>\n",
       "      <td>Homer</td>\n",
       "      <td>Greek</td>\n",
       "      <td>M</td>\n",
       "      <td>White</td>\n",
       "      <td>700</td>\n",
       "      <td>Greek</td>\n",
       "      <td>yes</td>\n",
       "      <td>https://www.amazon.com/Odyssey-AmazonClassics-...</td>\n",
       "      <td>6/27/17</td>\n",
       "    </tr>\n",
       "    <tr>\n",
       "      <th>1</th>\n",
       "      <td>The Iliad</td>\n",
       "      <td>Homer</td>\n",
       "      <td>Greek</td>\n",
       "      <td>M</td>\n",
       "      <td>White</td>\n",
       "      <td>750</td>\n",
       "      <td>Greek</td>\n",
       "      <td>yes</td>\n",
       "      <td>https://www.amazon.com/Iliad-AmazonClassics-Ho...</td>\n",
       "      <td>7/25/17</td>\n",
       "    </tr>\n",
       "    <tr>\n",
       "      <th>2</th>\n",
       "      <td>Beowulf</td>\n",
       "      <td>Unknown</td>\n",
       "      <td>Old English</td>\n",
       "      <td>M</td>\n",
       "      <td>White</td>\n",
       "      <td>975</td>\n",
       "      <td>Unknown</td>\n",
       "      <td>yes</td>\n",
       "      <td>https://www.amazon.com/Beowulf-AmazonClassics-...</td>\n",
       "      <td>6/27/17</td>\n",
       "    </tr>\n",
       "    <tr>\n",
       "      <th>3</th>\n",
       "      <td>The Canterbury Tales</td>\n",
       "      <td>Geoffrey Chaucer</td>\n",
       "      <td>English</td>\n",
       "      <td>M</td>\n",
       "      <td>White</td>\n",
       "      <td>1390</td>\n",
       "      <td>British</td>\n",
       "      <td>no</td>\n",
       "      <td>NaN</td>\n",
       "      <td>NaN</td>\n",
       "    </tr>\n",
       "    <tr>\n",
       "      <th>4</th>\n",
       "      <td>The Prince</td>\n",
       "      <td>Niccolò Machiavelli</td>\n",
       "      <td>Italian</td>\n",
       "      <td>M</td>\n",
       "      <td>White</td>\n",
       "      <td>1513</td>\n",
       "      <td>Italian</td>\n",
       "      <td>no</td>\n",
       "      <td>NaN</td>\n",
       "      <td>NaN</td>\n",
       "    </tr>\n",
       "  </tbody>\n",
       "</table>\n",
       "</div>"
      ],
      "text/plain": [
       "                  title               author original_language gender  \\\n",
       "0           The Odyssey                Homer             Greek      M   \n",
       "1             The Iliad                Homer             Greek      M   \n",
       "2               Beowulf              Unknown       Old English      M   \n",
       "3  The Canterbury Tales     Geoffrey Chaucer           English      M   \n",
       "4            The Prince  Niccolò Machiavelli           Italian      M   \n",
       "\n",
       "  race/ethnicity  publication_date author_nationality AmazonClassics_edition  \\\n",
       "0          White               700              Greek                    yes   \n",
       "1          White               750              Greek                    yes   \n",
       "2          White               975            Unknown                    yes   \n",
       "3          White              1390            British                     no   \n",
       "4          White              1513            Italian                     no   \n",
       "\n",
       "                                  AmazonClassics_url AmazonClassics_date  \n",
       "0  https://www.amazon.com/Odyssey-AmazonClassics-...             6/27/17  \n",
       "1  https://www.amazon.com/Iliad-AmazonClassics-Ho...             7/25/17  \n",
       "2  https://www.amazon.com/Beowulf-AmazonClassics-...             6/27/17  \n",
       "3                                                NaN                 NaN  \n",
       "4                                                NaN                 NaN  "
      ]
     },
     "execution_count": 18,
     "metadata": {},
     "output_type": "execute_result"
    }
   ],
   "source": [
    "goodreads_demo.head()"
   ]
  },
  {
   "cell_type": "code",
   "execution_count": 19,
   "metadata": {},
   "outputs": [
    {
     "data": {
      "text/html": [
       "\n",
       "\n",
       "\n",
       "\n",
       "\n",
       "\n",
       "  <div class=\"bk-root\" id=\"3cb58dfd-f169-4df8-85e2-cb0394e0306f\" data-root-id=\"1686\"></div>\n"
      ]
     },
     "metadata": {},
     "output_type": "display_data"
    },
    {
     "data": {
      "application/javascript": [
       "(function(root) {\n",
       "  function embed_document(root) {\n",
       "    \n",
       "  var docs_json = {\"14ae8fbb-e3bd-41d2-8bbd-5c0eb47aa5ba\":{\"roots\":{\"references\":[{\"attributes\":{\"below\":[{\"id\":\"1697\"}],\"center\":[{\"id\":\"1700\"},{\"id\":\"1704\"}],\"left\":[{\"id\":\"1701\"}],\"renderers\":[{\"id\":\"1725\"}],\"title\":{\"id\":\"1687\"},\"toolbar\":{\"id\":\"1713\"},\"x_range\":{\"id\":\"1689\"},\"x_scale\":{\"id\":\"1693\"},\"y_range\":{\"id\":\"1691\"},\"y_scale\":{\"id\":\"1695\"}},\"id\":\"1686\",\"subtype\":\"Figure\",\"type\":\"Plot\"},{\"attributes\":{},\"id\":\"1706\",\"type\":\"WheelZoomTool\"},{\"attributes\":{\"overlay\":{\"id\":\"1711\"}},\"id\":\"1707\",\"type\":\"BoxZoomTool\"},{\"attributes\":{},\"id\":\"1693\",\"type\":\"LinearScale\"},{\"attributes\":{\"factors\":[\"yes\",\"no\"],\"palette\":[\"black\",\"pink\",\"purple\"]},\"id\":\"1721\",\"type\":\"CategoricalColorMapper\"},{\"attributes\":{},\"id\":\"1708\",\"type\":\"SaveTool\"},{\"attributes\":{},\"id\":\"1709\",\"type\":\"ResetTool\"},{\"attributes\":{},\"id\":\"1691\",\"type\":\"DataRange1d\"},{\"attributes\":{\"text\":\"The Goodreads 'Classics'\"},\"id\":\"1687\",\"type\":\"Title\"},{\"attributes\":{},\"id\":\"1710\",\"type\":\"HelpTool\"},{\"attributes\":{},\"id\":\"1695\",\"type\":\"LinearScale\"},{\"attributes\":{\"axis_label\":\"Publication Date\",\"formatter\":{\"id\":\"1773\"},\"ticker\":{\"id\":\"1698\"}},\"id\":\"1697\",\"type\":\"LinearAxis\"},{\"attributes\":{\"axis\":{\"id\":\"1701\"},\"dimension\":1,\"ticker\":null},\"id\":\"1704\",\"type\":\"Grid\"},{\"attributes\":{},\"id\":\"1698\",\"type\":\"BasicTicker\"},{\"attributes\":{\"axis\":{\"id\":\"1697\"},\"ticker\":null},\"id\":\"1700\",\"type\":\"Grid\"},{\"attributes\":{\"callback\":null,\"tooltips\":[[\"Title\",\"@title\"],[\"Author\",\"@author\"],[\"Publication Date\",\"@publication_date\"],[\"AmazonClassics Edition\",\"@AmazonClassics_edition\"]]},\"id\":\"1712\",\"type\":\"HoverTool\"},{\"attributes\":{\"end\":2050,\"start\":1500},\"id\":\"1689\",\"type\":\"Range1d\"},{\"attributes\":{\"data\":{\"AmazonClassics_date\":[\"6/27/17\",\"7/25/17\",\"6/27/17\",\"NaN\",\"NaN\",\"8/15/17\",\"8/15/17\",\"NaN\",\"8/15/17\",\"8/15/17\",\"12/17/19\",\"8/29/17\",\"6/4/19\",\"9/5/17\",\"7/25/17\",\"9/5/17\",\"06/20/17\",\"11/01/17\",\"12/5/17\",\"12/5/17\",\"11/7/17\",\"5/2/17\",\"12/17/19\",\"10/24/17\",\"6/20/17\",\"3/17/20\",\"6/13/17\",\"07/01/17\",\"7/18/17\",\"12/31/19\",\"5/2/17\",\"8/22/17\",\"8/29/17\",\"9/26/17\",\"9/12/17\",\"7/25/17\",\"NaN\",\"10/24/17\",\"6/13/17\",\"10/10/17\",\"12/31/19\",\"8/29/17\",\"9/17/19\",\"11/21/17\",\"6/13/17\",\"12/10/19\",\"12/10/19\",\"6/27/17\",\"6/13/17\",\"7/11/17\",\"NaN\",\"2/27/18\",\"10/24/17\",\"6/13/17\",\"6/4/19\",\"1/2/20\",\"8/22/17\",\"9/17/19\",\"7/25/17\",\"11/7/17\",\"9/26/17\",\"6/20/17\",\"8/8/17\",\"4/23/19\",\"6/20/17\",\"1/30/18\",\"7/25/17\",\"8/8/17\",\"11/14/17\",\"9/17/19\",\"1/30/18\",\"NaN\",\"9/3/19\",\"5/7/19\",\"NaN\",\"NaN\",\"NaN\",\"NaN\",\"NaN\",\"NaN\",\"NaN\",\"NaN\",\"NaN\",\"NaN\",\"NaN\",\"NaN\",\"NaN\",\"NaN\",\"NaN\",\"NaN\",\"NaN\",\"NaN\",\"NaN\",\"NaN\",\"NaN\",\"NaN\",\"NaN\",\"NaN\",\"NaN\",\"NaN\",\"NaN\",\"NaN\",\"NaN\",\"NaN\",\"NaN\",\"NaN\",\"NaN\",\"NaN\",\"NaN\",\"NaN\",\"NaN\",\"NaN\",\"NaN\",\"NaN\",\"NaN\",\"NaN\",\"NaN\",\"NaN\",\"NaN\",\"NaN\",\"NaN\",\"NaN\",\"NaN\",\"NaN\",\"NaN\",\"NaN\",\"NaN\",\"NaN\",\"NaN\",\"NaN\",\"NaN\",\"NaN\",\"NaN\",\"NaN\",\"NaN\",\"NaN\",\"NaN\",\"NaN\",\"NaN\",\"NaN\",\"NaN\",\"NaN\",\"NaN\"],\"AmazonClassics_edition\":[\"yes\",\"yes\",\"yes\",\"no\",\"no\",\"yes\",\"yes\",\"no\",\"yes\",\"yes\",\"yes\",\"yes\",\"yes\",\"yes\",\"yes\",\"yes\",\"yes\",\"yes\",\"yes\",\"yes\",\"yes\",\"yes\",\"yes\",\"yes\",\"yes\",\"yes\",\"yes\",\"yes\",\"yes\",\"yes\",\"yes\",\"yes\",\"yes\",\"yes\",\"yes\",\"yes\",\"no\",\"yes\",\"yes\",\"yes\",\"yes\",\"yes\",\"yes\",\"yes\",\"yes\",\"yes\",\"yes\",\"yes\",\"yes\",\"yes\",\"no\",\"yes\",\"yes\",\"yes\",\"yes\",\"yes\",\"yes\",\"yes\",\"yes\",\"yes\",\"yes\",\"yes\",\"yes\",\"yes\",\"yes\",\"yes\",\"yes\",\"yes\",\"yes\",\"yes\",\"yes\",\"no\",\"yes\",\"yes\",\"no\",\"no\",\"no\",\"no\",\"no\",\"no\",\"no\",\"no\",\"no\",\"no\",\"no\",\"no\",\"no\",\"no\",\"no\",\"no\",\"no\",\"no\",\"no\",\"no\",\"no\",\"no\",\"no\",\"no\",\"no\",\"no\",\"no\",\"no\",\"no\",\"no\",\"no\",\"no\",\"no\",\"no\",\"no\",\"no\",\"no\",\"no\",\"no\",\"no\",\"no\",\"no\",\"no\",\"no\",\"no\",\"no\",\"no\",\"no\",\"no\",\"no\",\"no\",\"no\",\"no\",\"no\",\"no\",\"no\",\"no\",\"no\",\"no\",\"no\",\"no\",\"no\",\"no\",\"no\",\"no\",\"no\",\"no\",\"no\",\"no\"],\"AmazonClassics_url\":[\"https://www.amazon.com/Odyssey-AmazonClassics-Homer-ebook/dp/B071JBJTFY/ref=sr_1_20?crid=3Q3MJA7U5MS70&dchild=1&keywords=amazonclassics+edition&qid=1591736683&s=books&sprefix=Amazo%2Cstripbooks%2C178&sr=1-20\",\"https://www.amazon.com/Iliad-AmazonClassics-Homer-ebook/dp/B072MQ8FL7/ref=sr_1_158?crid=3Q3MJA7U5MS70&dchild=1&keywords=amazonclassics+edition&qid=1591739234&s=books&sprefix=Amazo%2Cstripbooks%2C178&sr=1-158\",\"https://www.amazon.com/Beowulf-AmazonClassics-ebook/dp/B072Q1ZB95/ref=sr_1_113?crid=3Q3MJA7U5MS70&dchild=1&keywords=amazonclassics+edition&qid=1591738305&s=books&sprefix=Amazo%2Cstripbooks%2C178&sr=1-113\",\"NaN\",\"NaN\",\"https://www.amazon.com/Romeo-Juliet-AmazonClassics-William-Shakespeare-ebook/dp/B071GC1H2G/ref=sr_1_31?crid=3Q3MJA7U5MS70&dchild=1&keywords=amazonclassics+edition&qid=1591736683&s=books&sprefix=Amazo%2Cstripbooks%2C178&sr=1-31\",\"https://www.amazon.com/Midsummer-Nights-Dream-AmazonClassics-ebook/dp/B073QLX4V9/ref=sr_1_131?crid=3Q3MJA7U5MS70&dchild=1&keywords=amazonclassics+edition&qid=1591738675&s=books&sprefix=Amazo%2Cstripbooks%2C178&sr=1-131\",\"NaN\",\"https://www.amazon.com/Hamlet-AmazonClassics-William-Shakespeare-ebook/dp/B071WW324R/ref=sr_1_56?crid=3Q3MJA7U5MS70&dchild=1&keywords=amazonclassics+edition&qid=1591736994&s=books&sprefix=Amazo%2Cstripbooks%2C178&sr=1-56\",\"https://www.amazon.com/Othello-AmazonClassics-William-Shakespeare-ebook/dp/B073QLJTBJ/ref=sr_1_65?crid=3Q3MJA7U5MS70&dchild=1&keywords=amazonclassics+edition&qid=1591736994&s=books&sprefix=Amazo%2Cstripbooks%2C178&sr=1-65\",\"https://www.amazon.com/Don-Quixote-AmazonClassics-Miguel-Cervantes-ebook/dp/B07XXYKW3J/ref=sr_1_2?crid=1AW79OVH2PH2H&dchild=1&keywords=don+quixote+amazonclassics+edition&qid=1591750107&s=digital-text&sprefix=don+qu%2Cdigital-text%2C182&sr=1-2\",\"https://www.amazon.com/Macbeth-AmazonClassics-William-Shakespeare-ebook/dp/B07417B3DS/ref=sr_1_4?crid=DHXVPQDBPO3F&dchild=1&keywords=macbeth+by+william+shakespeare&qid=1591723937&s=books&sprefix=Macbeth%2Cstripbooks%2C161&sr=1-4\",\"https://www.amazon.com/Robinson-Crusoe-AmazonClassics-Daniel-Defoe-ebook/dp/B07Q348VW1/ref=sr_1_37?crid=3Q3MJA7U5MS70&dchild=1&keywords=amazonclassics+edition&qid=1591736696&s=books&sprefix=Amazo%2Cstripbooks%2C178&sr=1-37\",\"https://www.amazon.com/Gullivers-Travels-AmazonClassics-Jonathan-Swift-ebook/dp/B073WW8W3R/ref=sr_1_77?crid=3Q3MJA7U5MS70&dchild=1&keywords=amazonclassics+edition&qid=1591737294&s=books&sprefix=Amazo%2Cstripbooks%2C178&sr=1-77\",\"https://www.amazon.com/Candide-AmazonClassics-Voltaire-ebook/dp/B073QR7YB9/ref=sr_1_2?dchild=1&keywords=Candide+amazon+classics&qid=1591731419&s=books&sr=1-2\",\"https://www.amazon.com/Sense-Sensibility-AmazonClassics-Jane-Austen-ebook/dp/B073WVNN4L/ref=sr_1_5?crid=E57NAM0N3O63&dchild=1&keywords=jane+austen+amazonclassics&qid=1591752672&s=books&sprefix=Jane+Austen+am%2Cstripbooks%2C179&sr=1-5\",\"https://www.amazon.com/Pride-Prejudice-AmazonClassics-Jane-Austen-ebook/dp/B071SKHMDL/ref=sr_1_2?dchild=1&keywords=pride+and+prejudice+jane+austen+amazonclassics&qid=1591648129&s=books&sr=1-2\",\"https://www.amazon.com/Mansfield-Park-AmazonClassics-Jane-Austen-ebook/dp/B07571QMQY/ref=sr_1_1?dchild=1&keywords=mansfield+park+amazon+classics&qid=1591625189&s=books&sr=1-1\",\"https://www.amazon.com/Emma-AmazonClassics-Jane-Austen-ebook/dp/B075M6DRXH/ref=sr_1_1?dchild=1&keywords=Emma+jane+austen+amazonclassics&qid=1591655534&s=books&sr=1-1\",\"https://www.amazon.com/Persuasion-AmazonClassics-Jane-Austen-ebook/dp/B075M7VBK7/ref=sr_1_1?dchild=1&keywords=Persuasion+jane+austen+amazonclassics&qid=1591650046&s=books&sr=1-1\",\"https://www.amazon.com/Northanger-Abbey-AmazonClassics-Jane-Austen-ebook/dp/B075133SGP/ref=sr_1_64?crid=3Q3MJA7U5MS70&dchild=1&keywords=amazonclassics+edition&qid=1591736994&s=books&sprefix=Amazo%2Cstripbooks%2C178&sr=1-64\",\"https://www.amazon.com/Frankenstein-AmazonClassics-Mary-Shelley-ebook/dp/B06ZXT4MRB/ref=sr_1_1?dchild=1&keywords=frankenstein+amazonclassics&qid=1591663974&s=books&sr=1-1\",\"https://www.amazon.com/Hunchback-Notre-Dame-AmazonClassics-Victor-Hugo-ebook/dp/B07Z7QK149/ref=sr_1_6?dchild=1&keywords=amazonclassics+edition&qid=1591750222&s=digital-text&sr=1-6\",\"https://www.amazon.com/Oliver-Twist-AmazonClassics-Charles-Dickens-ebook/dp/B074W9R12X/ref=sr_1_1?dchild=1&keywords=Oliver+Twist+amazon+classics&qid=1591662967&s=books&sr=1-1\",\"https://www.amazon.com/Christmas-Carol-AmazonClassics-Charles-Dickens-ebook/dp/B071ZKZBWR/ref=sr_1_1?dchild=1&keywords=a+christmas+carol+amazon+classics&qid=1591662897&s=books&sr=1-1\",\"https://www.amazon.com/Count-Monte-Cristo-AmazonClassics-ebook/dp/B082HVQQFB/ref=sr_1_62?dchild=1&keywords=amazonclassics+edition&qid=1591750366&s=digital-text&sr=1-62\",\"https://www.amazon.com/Narrative-Life-Frederick-Douglass-AmazonClassics-ebook/dp/B072HMGLZR/ref=sr_1_227?crid=3Q3MJA7U5MS70&dchild=1&keywords=amazonclassics+edition&qid=1591740643&s=books&sprefix=Amazo%2Cstripbooks%2C178&sr=1-227\",\"https://www.amazon.com/Jane-Eyre-AmazonClassics-Charlotte-Bront%C3%AB-ebook/dp/B0721B7NPX/ref=sr_1_1?dchild=1&keywords=jane+eyre+amazonclassics+edition&qid=1591626233&s=books&sr=1-1\",\"https://www.amazon.com/Wuthering-Heights-AmazonClassics-Emily-Bront%C3%AB-ebook/dp/B073QM98F5/ref=sr_1_4?crid=1B40QBVFH85NP&dchild=1&keywords=wuthering+heights+by+emily+bronte&qid=1591723740&s=books&sprefix=Wuther%2Cstripbooks%2C147&sr=1-4\",\"https://www.amazon.com/David-Copperfield-AmazonClassics-Charles-Dickens-ebook/dp/B07ZNYFK1J/ref=sr_1_17?crid=3Q3MJA7U5MS70&dchild=1&keywords=amazonclassics+edition&qid=1591736590&s=books&sprefix=Amazo%2Cstripbooks%2C178&sr=1-17\",\"https://www.amazon.com/Scarlet-Letter-AmazonClassics-Nathaniel-Hawthorne-ebook/dp/B06ZYD5RMB/ref=sr_1_49?crid=3Q3MJA7U5MS70&dchild=1&keywords=amazonclassics+edition&qid=1591736696&s=books&sprefix=Amazo%2Cstripbooks%2C178&sr=1-49\",\"https://www.amazon.com/Moby-Dick-AmazonClassics-Herman-Melville-ebook/dp/B072KN8SYF/ref=sr_1_83?crid=3Q3MJA7U5MS70&dchild=1&keywords=amazonclassics+edition&qid=1591737294&s=books&sprefix=Amazo%2Cstripbooks%2C178&sr=1-83\",\"https://www.amazon.com/Uncle-Cabin-AmazonClassics-Harriet-Beecher-ebook/dp/B073W9N1W8/ref=sr_1_2?crid=108DGRFGP0JJ3&dchild=1&keywords=uncle+toms+cabin+amazon+classics&qid=1591739586&sprefix=uncle+tom+amazon+classics%2Caps%2C184&sr=8-2\",\"https://www.amazon.com/Madame-Bovary-AmazonClassics-Gustave-Flaubert-ebook/dp/B074J8BQ2W/ref=sr_1_152?crid=3Q3MJA7U5MS70&dchild=1&keywords=amazonclassics+edition&qid=1591739234&s=books&sprefix=Amazo%2Cstripbooks%2C178&sr=1-152\",\"https://www.amazon.com/Tale-Two-Cities-AmazonClassics-ebook/dp/B074C2LZG7/ref=sr_1_2?crid=1PWI4VS2ICHKW&dchild=1&keywords=a+tale+of+two+cities+amazon+classics&qid=1591662822&s=books&sprefix=a+tale++amazon+classics%2Cstripbooks%2C185&sr=1-2\",\"https://www.amazon.com/Great-Expectations-AmazonClassics-Charles-Dickens-ebook/dp/B073QRMXNM/ref=sr_1_7?crid=TB9V2DB59BT1&dchild=1&keywords=the+great+gatsby+amazon+classics&qid=1591656277&s=books&sprefix=The+Great+Gatsby+amazo%2Cstripbooks%2C177&sr=1-7\",\"NaN\",\"https://www.amazon.com/Journey-Center-Earth-AmazonClassics-Jules-ebook/dp/B074W95Z2Y/ref=sr_1_5?dchild=1&keywords=Journey+to+the+center+amazon+classics&qid=1591731312&s=books&sr=1-5\",\"https://www.amazon.com/Alices-Adventures-Wonderland-AmazonClassics-Carroll-ebook/dp/B071RSDB49/ref=sr_1_1?crid=3DPY4ICJ86JLF&dchild=1&keywords=alice+in+wonderland+amazon+classic&qid=1591722413&s=books&sprefix=Alice%27s+amazon+classics%2Cstripbooks%2C152&sr=1-1\",\"https://www.amazon.com/Crime-Punishment-AmazonClassics-Fyodor-Dostoyevsky-ebook/dp/B074W9WW4S/ref=sr_1_2?crid=1P057ALWQ9GIQ&dchild=1&keywords=crime+and+punishment+amazonclassics&qid=1591734814&s=books&sprefix=Crime+and+Punishment++amazon+classics%2Cstripbooks%2C166&sr=1-2\",\"https://www.amazon.com/War-Peace-AmazonClassics-Leo-Tolstoy-ebook/dp/B07YWS6WMB/ref=sr_1_2?crid=PDJYCDYYXE87&dchild=1&keywords=war+and+peace+amazon+classics&qid=1591730531&s=books&sprefix=War+Peace+amazon+classics%2Cstripbooks%2C165&sr=1-2\",\"https://www.amazon.com/Little-Women-AmazonClassics-Louisa-Alcott-ebook/dp/B073W9TT71/ref=sr_1_1?crid=3DTOSRGLZR8EE&dchild=1&keywords=little+women+amazon+classics&qid=1591665312&s=books&sprefix=Little++amazon+classics%2Cstripbooks%2C201&sr=1-1\",\"https://www.amazon.com/Through-Looking-Glass-AmazonClassics-Lewis-Carroll-ebook/dp/B07WF81Z21/ref=sr_1_9?dchild=1&keywords=alice+in+wonderland+and+through+the+looking+glass+amazon+classic&qid=1591722464&s=books&sr=1-9\",\"https://www.amazon.com/Around-World-Eighty-Days-AmazonClassics-ebook/dp/B0756ZS2DT/ref=sr_1_5?dchild=1&keywords=Around+the+world+in+eighty+days+amazon+classics&qid=1591731362&s=books&sr=1-5\",\"https://www.amazon.com/Adventures-Tom-Sawyer-AmazonClassics-ebook/dp/B072F1WKW1/ref=sr_1_126?crid=3Q3MJA7U5MS70&dchild=1&keywords=amazonclassics+edition&qid=1591738675&s=books&sprefix=Amazo%2Cstripbooks%2C178&sr=1-126\",\"https://www.amazon.com/Anna-Karenina-AmazonClassics-Leo-Tolstoy-ebook/dp/B07YWRTHMC/ref=sr_1_154?crid=3Q3MJA7U5MS70&dchild=1&keywords=amazonclassics+edition&qid=1591739234&s=books&sprefix=Amazo%2Cstripbooks%2C178&sr=1-154\",\"https://www.amazon.com/Brothers-Karamazov-AmazonClassics-Fyodor-Dostoyevsky-ebook/dp/B07YWSB3TP/ref=sr_1_2?dchild=1&keywords=The+brothers+karamazov+amazon+classics&qid=1591734583&s=books&sr=1-2\",\"https://www.amazon.com/Treasure-Island-AmazonClassics-Robert-Stevenson-ebook/dp/B072Q1KBRT/ref=sr_1_4?dchild=1&keywords=treasure+island+amazonclassics&qid=1591664938&s=books&sr=1-4\",\"https://www.amazon.com/Adventures-Huckleberry-Finn-AmazonClassics-ebook/dp/B072L78PHK/ref=sr_1_129?crid=3Q3MJA7U5MS70&dchild=1&keywords=amazonclassics+edition&qid=1591738675&s=books&sprefix=Amazo%2Cstripbooks%2C178&sr=1-129\",\"https://www.amazon.com/Strange-Case-Jekyll-Hyde-AmazonClassics-ebook/dp/B071WW6BRV/ref=sr_1_3?dchild=1&keywords=The+Strange+Case+of+Dr.+Jekyll+and+Hyde+amazonclassics&qid=1591665087&s=books&sr=1-3\",\"NaN\",\"https://www.amazon.com/Study-Scarlet-AmazonClassics-Arthur-Conan-ebook/dp/B0769Z85G1/ref=sr_1_4?crid=3A6D2VTUP5T6F&dchild=1&keywords=a+study+in+scarlet&qid=1591724966&s=books&sprefix=a+study+%2Cstripbooks%2C144&sr=1-4\",\"https://www.amazon.com/Princess-AmazonClassics-Frances-Hodgson-Burnett-ebook/dp/B074W9PT2M/ref=sr_1_150?crid=3Q3MJA7U5MS70&dchild=1&keywords=amazonclassics+edition&qid=1591739234&s=books&sprefix=Amazo%2Cstripbooks%2C178&sr=1-150\",\"https://www.amazon.com/Picture-Dorian-Gray-AmazonClassics-ebook/dp/B071HDXV91/ref=sr_1_5?crid=3GQJ4LF6S63U6&dchild=1&keywords=the+picture+of+dorian+gray+by+oscar+wilde&qid=1591729951&s=books&sprefix=The+picture%2Cstripbooks%2C157&sr=1-5\",\"https://www.amazon.com/Tess-dUrbervilles-AmazonClassics-Thomas-Hardy-ebook/dp/B07Q43DPJP/ref=sr_1_86?crid=3Q3MJA7U5MS70&dchild=1&keywords=amazonclassics+edition&qid=1591737906&s=books&sprefix=Amazo%2Cstripbooks%2C178&sr=1-86\",\"https://www.amazon.com/Yellow-Wallpaper-AmazonClassics-Charlotte-Perkins-ebook/dp/B0823TP9MY/ref=sr_1_356?crid=3Q3MJA7U5MS70&dchild=1&keywords=amazonclassics+edition&qid=1591741246&s=books&sprefix=Amazo%2Cstripbooks%2C178&sr=1-356\",\"https://www.amazon.com/Time-Machine-AmazonClassics-H-Wells-ebook/dp/B073QRYR6G/ref=sr_1_54?crid=3Q3MJA7U5MS70&dchild=1&keywords=amazonclassics+edition&qid=1591736994&s=books&sprefix=Amazo%2Cstripbooks%2C178&sr=1-54\",\"https://www.amazon.com/Importance-Being-Earnest-AmazonClassics-ebook/dp/B07WM161DS/ref=sr_1_121?crid=3Q3MJA7U5MS70&dchild=1&keywords=amazonclassics+edition&qid=1591738675&s=books&sprefix=Amazo%2Cstripbooks%2C178&sr=1-121\",\"https://www.amazon.com/Dracula-AmazonClassics-Bram-Stoker-ebook/dp/B073QS9M8M/ref=sr_1_148?crid=3Q3MJA7U5MS70&dchild=1&keywords=amazonclassics+edition&qid=1591739234&s=books&sprefix=Amazo%2Cstripbooks%2C178&sr=1-148\",\"https://www.amazon.com/War-Worlds-AmazonClassics-H-Wells-ebook/dp/B0752ZLG34/ref=sr_1_116?dchild=1&keywords=amazonclassics+edition&qid=1591750622&s=digital-text&sr=1-116\",\"https://www.amazon.com/Turn-Screw-AmazonClassics-Henry-James-ebook/dp/B074J2JHLQ/ref=sr_1_211?crid=3Q3MJA7U5MS70&dchild=1&keywords=amazonclassics+edition&qid=1591740177&s=books&sprefix=Amazo%2Cstripbooks%2C178&sr=1-211\",\"https://www.amazon.com/Heart-Darkness-AmazonClassics-Joseph-Conrad-ebook/dp/B0728MXJ3Y/ref=sr_1_110?crid=3Q3MJA7U5MS70&dchild=1&keywords=amazonclassics+edition&qid=1591738305&s=books&sprefix=Amazo%2Cstripbooks%2C178&sr=1-110\",\"https://www.amazon.com/Wonderful-Wizard-Oz-AmazonClassics-ebook/dp/B071GTPBB1/ref=sr_1_13?crid=36EVHX92A9KQY&dchild=1&keywords=the+wonderful+wizard+of+oz&qid=1591725146&s=books&sprefix=The+wonderful%2Cstripbooks%2C178&sr=1-13\",\"https://www.amazon.com/Man-Thinketh-AmazonClassics-James-Allen-ebook/dp/B07Q392DB8/ref=sr_1_90?crid=3Q3MJA7U5MS70&dchild=1&keywords=amazonclassics+edition&qid=1591737906&s=books&sprefix=Amazo%2Cstripbooks%2C178&sr=1-90\",\"https://www.amazon.com/Call-Wild-AmazonClassics-Jack-London-ebook/dp/B072C7QKRY/ref=sr_1_7?crid=7JH9R0HRVDP0&dchild=1&keywords=the+call+of+the+wild+by+jack+london&qid=1591724792&s=books&sprefix=the+call+%2Cstripbooks%2C151&sr=1-7\",\"https://www.amazon.com/Peter-Wendy-AmazonClassics-J-Barrie-ebook/dp/B077D9MCMN/ref=sr_1_143?crid=3Q3MJA7U5MS70&dchild=1&keywords=amazonclassics+edition&qid=1591738939&s=books&sprefix=Amazo%2Cstripbooks%2C178&sr=1-143\",\"https://www.amazon.com/Anne-Green-Gables-AmazonClassics-Montgomery-ebook/dp/B073QRGDCW/ref=sr_1_6?crid=2EB92BY43H1XF&dchild=1&keywords=anne+of+green+gables&qid=1591723575&s=books&sprefix=Anne+%2Cstripbooks%2C160&sr=1-6\",\"https://www.amazon.com/Secret-AmazonClassics-Frances-Hodgson-Burnett-ebook/dp/B071KFMPJN/ref=sr_1_16?dchild=1&keywords=amazon+classics&qid=1591751979&s=digital-text&sr=1-16\",\"https://www.amazon.com/Phantom-Opera-AmazonClassics-Gaston-Leroux-ebook/dp/B075CL6KKV/ref=sr_1_84?crid=3Q3MJA7U5MS70&dchild=1&keywords=amazonclassics+edition&qid=1591737294&s=books&sprefix=Amazo%2Cstripbooks%2C178&sr=1-84\",\"https://www.amazon.com/Metamorphosis-AmazonClassics-Franz-Kafka-ebook/dp/B07W9LYXD9/ref=sr_1_352?crid=3Q3MJA7U5MS70&dchild=1&keywords=amazonclassics+edition&qid=1591741210&s=books&sprefix=Amazo%2Cstripbooks%2C178&sr=1-352\",\"https://www.amazon.com/Mysterious-Affair-Styles-AmazonClassics-ebook/dp/B076BM2NFQ/ref=sr_1_175?crid=3Q3MJA7U5MS70&dchild=1&keywords=amazonclassics+edition&qid=1591739653&s=books&sprefix=Amazo%2Cstripbooks%2C178&sr=1-175\",\"NaN\",\"https://www.amazon.com/Murder-Links-AmazonClassics-Hercule-Poirot-ebook/dp/B07VT5QGB4/ref=sr_1_199?dchild=1&keywords=amazonclassics+edition&qid=1591751069&s=digital-text&sr=1-199\",\"https://www.amazon.com/Prophet-AmazonClassics-Kahlil-Gibran-ebook/dp/B07NSWQM75/ref=sr_1_22?crid=3Q3MJA7U5MS70&dchild=1&keywords=amazonclassics+edition&qid=1591736683&s=books&sprefix=Amazo%2Cstripbooks%2C178&sr=1-22\",\"NaN\",\"NaN\",\"NaN\",\"NaN\",\"NaN\",\"NaN\",\"NaN\",\"NaN\",\"NaN\",\"NaN\",\"NaN\",\"NaN\",\"NaN\",\"NaN\",\"NaN\",\"NaN\",\"NaN\",\"NaN\",\"NaN\",\"NaN\",\"NaN\",\"NaN\",\"NaN\",\"NaN\",\"NaN\",\"NaN\",\"NaN\",\"NaN\",\"NaN\",\"NaN\",\"NaN\",\"NaN\",\"NaN\",\"NaN\",\"NaN\",\"NaN\",\"NaN\",\"NaN\",\"NaN\",\"NaN\",\"NaN\",\"NaN\",\"NaN\",\"NaN\",\"NaN\",\"NaN\",\"NaN\",\"NaN\",\"NaN\",\"NaN\",\"NaN\",\"NaN\",\"NaN\",\"NaN\",\"NaN\",\"NaN\",\"NaN\",\"NaN\",\"NaN\",\"NaN\",\"NaN\",\"NaN\",\"NaN\",\"NaN\",\"NaN\",\"NaN\",\"NaN\",\"NaN\",\"NaN\"],\"author\":[\"Homer\",\"Homer\",\"Unknown\",\"Geoffrey Chaucer\",\"Niccol\\u00f2 Machiavelli\",\"William Shakespeare\",\"William Shakespeare\",\"William Shakespeare\",\"William Shakespeare\",\"William Shakespeare\",\"Miguel de Cervantes Saavedra\",\"William Shakespeare\",\"Daniel Defoe\",\"Jonathan Swift\",\"Voltaire\",\"Jane Austen\",\"Jane Austen\",\"Jane Austen\",\"Jane Austen\",\"Jane Austen\",\"Jane Austen\",\"Mary Wollstonecraft Shelley\",\"Victor Hugo\",\"Charles Dickens\",\"Charles Dickens\",\"Alexandre Dumas\",\"Frederick Douglass\",\"Charlotte Bront\\u00eb\",\"Emily Bront\\u00eb\",\"Charles Dickens\",\"Nathaniel Hawthorne\",\"Herman Melville\",\"Harriet Beecher Stowe\",\"Gustave Flaubert\",\"Charles Dickens\",\"Charles Dickens\",\"Victor Hugo\",\"Jules Verne\",\"Lewis Carroll\",\"Fyodor Dostoyevsky\",\"Leo Tolstoy\",\"Louisa May Alcott\",\"Lewis Carroll\",\"Jules Verne\",\"Mark Twain\",\"Leo Tolstoy\",\"Fyodor Dostoyevsky\",\"Robert Louis Stevenson\",\"Mark Twain\",\"Robert Louis Stevenson\",\"Leo Tolstoy\",\"Arthur Conan Doyle\",\"Frances Hodgson Burnett\",\"Oscar Wilde\",\"Thomas Hardy\",\"Charlotte Perkins Gilman\",\"H.G. Wells\",\"Oscar Wilde\",\"Bram Stoker\",\"H.G. Wells\",\"Henry James\",\"Joseph Conrad\",\"L. Frank Baum\",\"James Allen\",\"Jack London\",\"J.M. Barrie\",\"L.M. Montgomery\",\"Frances Hodgson Burnett\",\"Gaston Leroux\",\"Franz Kafka\",\"Agatha Christie\",\"Hermann Hesse\",\"Agatha Christie\",\"Kahlil Gibran\",\"Virginia Woolf\",\"F. Scott Fitzgerald\",\"Ernest Hemingway\",\"Ernest Hemingway\",\"Virginia Woolf\",\"Aldous Huxley\",\"Agatha Christie\",\"Margaret Mitchell\",\"Agatha Christie\",\"John Steinbeck\",\"J.R.R. Tolkien\",\"Zora Neale Hurston\",\"Daphne du Maurier\",\"Kathrine Kressmann Taylor\",\"Agatha Christie\",\"John Steinbeck\",\"Albert Camus\",\"Stefan Zweig\",\"Antoine de Saint-Exup\\u00e9ry\",\"Betty Smith\",\"George Orwell\",\"John Steinbeck\",\"Anne Frank\",\"George Orwell\",\"C.S. Lewis\",\"J.D. Salinger\",\"C.S. Lewis\",\"Ernest Hemingway\",\"John Steinbeck\",\"E.B. White\",\"Ray Bradbury\",\"Arthur Miller\",\"J.R.R. Tolkien\",\"J.R.R. Tolkien\",\"C.S. Lewis\",\"Richard Matheson\",\"William Golding\",\"J.R.R. Tolkien\",\"C.S. Lewis\",\"Vladimir Nabokov\",\"Truman Capote\",\"Chinua Achebe\",\"Harper Lee\",\"Joseph Heller\",\"Philip K. Dick\",\"Ken Kesey\",\"Anthony Burgess\",\"Sylvia Plath\",\"Frank Herbert\",\"Truman Capote\",\"Daniel Keyes\",\"S.E. Hinton\",\"Gabriel Garc\\u00eda M\\u00e1rquez\",\"Philip K. Dick\",\"Kurt Vonnegut\",\"Ursula K. Le Guin\",\"Toni Morrison\",\"Richard Bach\",\"Stephen King\",\"Alice Walker\",\"Margaret Atwood\",\"Gary Paulsen\",\"Paulo Coelho\",\"Roald Dahl\",\"Laura Esquivel\",\"Tim O'Brien\",\"Lois Lowry\",\"Mitch Albom\",\"Mitch Albom\"],\"author_nationality\":[\"Greek\",\"Greek\",\"Unknown\",\"British\",\"Italian\",\"British\",\"British\",\"British\",\"British\",\"British\",\"Spanish\",\"British\",\"British\",\"Irish\",\"French\",\"British\",\"British\",\"British\",\"British\",\"British\",\"British\",\"British\",\"French\",\"British\",\"British\",\"French\",\"American\",\"British\",\"British\",\"British\",\"American\",\"American\",\"American\",\"French\",\"British\",\"British\",\"French\",\"French\",\"British\",\"Russian\",\"Russian\",\"American\",\"British\",\"French\",\"American\",\"Russian\",\"Russian\",\"Scottish\",\"American\",\"Scottish\",\"Russian\",\"Scottish\",\"British-American\",\"British\",\"British\",\"American\",\"British\",\"British\",\"Irish\",\"British\",\"American\",\"Polish (British Citizenship)\",\"American\",\"British\",\"American\",\"Scottish\",\"Canadian\",\"British-American\",\"French\",\"Bohemian\",\"British\",\"German-Swiss\",\"British\",\"Lebanese-American\",\"British\",\"American\",\"American\",\"American\",\"British\",\"British\",\"British\",\"American\",\"British\",\"American\",\"British\",\"American\",\"British\",\"American\",\"British\",\"American\",\"French\",\"Austrian\",\"French\",\"American\",\"British\",\"American\",\"German-Dutch\",\"British\",\"British\",\"American\",\"British\",\"American\",\"American\",\"American\",\"American\",\"American\",\"British\",\"British\",\"British\",\"American\",\"British\",\"British\",\"British\",\"Russian-American\",\"American\",\"Nigerian\",\"American\",\"American\",\"American\",\"American\",\"British\",\"American\",\"American\",\"American\",\"American\",\"American\",\"Colombian\",\"American\",\"American\",\"American\",\"American\",\"American\",\"American\",\"American\",\"Canadian\",\"American\",\"Brazilian\",\"British\",\"Mexican\",\"American\",\"American\",\"American\",\"American\"],\"gender\":[\"M\",\"M\",\"M\",\"M\",\"M\",\"M\",\"M\",\"M\",\"M\",\"M\",\"M\",\"M\",\"M\",\"M\",\"M\",\"W\",\"W\",\"W\",\"W\",\"W\",\"W\",\"W\",\"M\",\"M\",\"M\",\"M\",\"M\",\"W\",\"W\",\"M\",\"M\",\"M\",\"W\",\"M\",\"M\",\"M\",\"M\",\"M\",\"M\",\"M\",\"M\",\"W\",\"M\",\"M\",\"M\",\"M\",\"M\",\"M\",\"M\",\"M\",\"M\",\"M\",\"W\",\"M\",\"M\",\"W\",\"M\",\"M\",\"M\",\"M\",\"M\",\"M\",\"M\",\"M\",\"M\",\"M\",\"W\",\"W\",\"M\",\"M\",\"W\",\"M\",\"W\",\"M\",\"W\",\"M\",\"M\",\"M\",\"W\",\"M\",\"W\",\"W\",\"W\",\"M\",\"M\",\"W\",\"W\",\"W\",\"W\",\"M\",\"M\",\"M\",\"M\",\"W\",\"M\",\"M\",\"M\",\"M\",\"M\",\"M\",\"M\",\"M\",\"M\",\"M\",\"M\",\"M\",\"M\",\"M\",\"M\",\"M\",\"M\",\"M\",\"M\",\"M\",\"M\",\"M\",\"W\",\"M\",\"M\",\"M\",\"M\",\"W\",\"M\",\"M\",\"M\",\"W\",\"M\",\"M\",\"M\",\"W\",\"W\",\"M\",\"M\",\"W\",\"W\",\"M\",\"M\",\"M\",\"W\",\"M\",\"W\",\"M\",\"M\"],\"index\":[0,1,2,3,4,5,6,7,8,9,10,11,12,13,14,15,16,17,18,19,20,21,22,23,24,25,26,27,28,29,30,31,32,33,34,35,36,37,38,39,40,41,42,43,44,45,46,47,48,49,50,51,52,53,54,55,56,57,58,59,60,61,62,63,64,65,66,67,68,69,70,71,72,73,74,75,76,77,78,79,80,81,82,83,84,85,86,87,88,89,90,91,92,93,94,95,96,97,98,99,100,101,102,103,104,105,106,107,108,109,110,111,112,113,114,115,116,117,118,119,120,121,122,123,124,125,126,127,128,129,130,131,132,133,134,135,136,137,138,139,140,141,142],\"original_language\":[\"Greek\",\"Greek\",\"Old English\",\"English\",\"Italian\",\"English\",\"English\",\"English\",\"English\",\"English\",\"Spanish\",\"English\",\"English\",\"English\",\"French\",\"English\",\"English\",\"English\",\"English\",\"English\",\"English\",\"English\",\"French\",\"English\",\"English\",\"French\",\"English\",\"English\",\"English\",\"English\",\"English\",\"English\",\"English\",\"French\",\"English\",\"English\",\"French\",\"French\",\"English\",\"Russian\",\"Russian\",\"English\",\"English\",\"French\",\"English\",\"Russian\",\"Russian\",\"English\",\"English\",\"English\",\"Russian\",\"English\",\"English\",\"English\",\"English\",\"English\",\"English\",\"English\",\"English\",\"English\",\"English\",\"English\",\"English\",\"English\",\"English\",\"English\",\"English\",\"English\",\"French\",\"German\",\"English\",\"German\",\"English\",\"English\",\"English\",\"English\",\"English\",\"English\",\"English\",\"English\",\"English\",\"English\",\"English\",\"English\",\"English\",\"English\",\"English\",\"English\",\"English\",\"English\",\"French\",\"German\",\"French\",\"English\",\"English\",\"English\",\"Dutch\",\"English\",\"English\",\"English\",\"English\",\"English\",\"English\",\"English\",\"English\",\"English\",\"English\",\"English\",\"English\",\"English\",\"English\",\"English\",\"English\",\"English\",\"English\",\"English\",\"English\",\"English\",\"English\",\"English\",\"English\",\"English\",\"English\",\"English\",\"English\",\"English\",\"Spanish\",\"English\",\"English\",\"English\",\"English\",\"English\",\"English\",\"English\",\"English\",\"English\",\"Portuguese\",\"English\",\"Spanish\",\"English\",\"English\",\"English\",\"English\"],\"publication_date\":[700,750,975,1390,1513,1595,1595,1598,1603,1603,1605,1606,1719,1726,1759,1811,1813,1814,1815,1818,1818,1818,1831,1838,1843,1844,1845,1847,1847,1849,1850,1851,1852,1856,1859,1861,1862,1864,1865,1866,1867,1869,1871,1873,1875,1877,1879,1882,1884,1886,1886,1887,1890,1890,1891,1892,1895,1895,1897,1898,1898,1899,1900,1902,1903,1904,1908,1910,1910,1915,1920,1922,1923,1923,1925,1926,1926,1929,1929,1932,1934,1936,1937,1937,1937,1937,1938,1938,1939,1939,1942,1942,1943,1943,1945,1945,1947,1949,1950,1951,1951,1952,1952,1952,1953,1953,1954,1954,1954,1954,1954,1955,1955,1955,1958,1959,1960,1961,1962,1962,1962,1963,1965,1965,1966,1967,1967,1968,1969,1969,1970,1970,1977,1982,1985,1986,1988,1988,1989,1990,1993,1997,2003],\"race/ethnicity\":[\"White\",\"White\",\"White\",\"White\",\"White\",\"White\",\"White\",\"White\",\"White\",\"White\",\"White\",\"White\",\"White\",\"White\",\"White\",\"White\",\"White\",\"White\",\"White\",\"White\",\"White\",\"White\",\"White\",\"White\",\"White\",\"Black\",\"Black\",\"White\",\"White\",\"White\",\"White\",\"White\",\"White\",\"White\",\"White\",\"White\",\"White\",\"White\",\"White\",\"White\",\"White\",\"White\",\"White\",\"White\",\"White\",\"White\",\"White\",\"White\",\"White\",\"White\",\"White\",\"White\",\"White\",\"White\",\"White\",\"White\",\"White\",\"White\",\"White\",\"White\",\"White\",\"White\",\"White\",\"White\",\"White\",\"White\",\"White\",\"White\",\"White\",\"White\",\"White\",\"White\",\"White\",\"Lebanese-American\",\"White\",\"White\",\"White\",\"White\",\"White\",\"White\",\"White\",\"White\",\"White\",\"White\",\"White\",\"Black\",\"White\",\"White\",\"White\",\"White\",\"White\",\"White\",\"White\",\"White\",\"White\",\"White\",\"White\",\"White\",\"White\",\"White\",\"White\",\"White\",\"White\",\"White\",\"White\",\"White\",\"White\",\"White\",\"White\",\"White\",\"White\",\"White\",\"White\",\"White\",\"White\",\"Black\",\"White\",\"White\",\"White\",\"White\",\"White\",\"White\",\"White\",\"White\",\"White\",\"White\",\"White\",\"White\",\"White\",\"White\",\"Black\",\"White\",\"White\",\"Black\",\"White\",\"White\",\"White\",\"White\",\"Mexican\",\"White\",\"White\",\"White\",\"White\"],\"title\":[\"The Odyssey\",\"The Iliad\",\"Beowulf\",\"The Canterbury Tales\",\"The Prince\",\"Romeo and Juliet\",\"A Midsummer Night's Dream\",\"Much Ado About Nothing\",\"Hamlet\",\"Othello\",\"Don Quixote\",\"Macbeth\",\"Robinson Crusoe\",\"Gulliver's Travels\",\"Candide\",\"Sense and Sensibility\",\"Pride and Prejudice\",\"Mansfield Park\",\"Emma\",\"Persuasion\",\"Northanger Abbey\",\"Frankenstein\",\"The Hunchback of Notre-Dame\",\"Oliver Twist\",\"A Christmas Carol\",\"The Count of Monte Cristo\",\"Narrative of the Life of Frederick Douglass\",\"Jane Eyre\",\"Wuthering Heights\",\"David Copperfield\",\"The Scarlet Letter\",\"Moby-Dick\",\"Uncle Tom's Cabin\",\"Madame Bovary\",\"A Tale of Two Cities\",\"Great Expectations\",\"Les Mis\\u00e9rables\",\"Journey to the Center of the Earth\",\"Alice's Adventures in Wonderland\",\"Crime and Punishment\",\"War and Peace\",\"Little Women\",\"Alice's Adventures in Wonderland and Through The Looking-Glass\",\"Around the World in Eighty Days\",\"The Adventures of Tom Sawyer\",\"Anna Karenina\",\"The Brothers Karamazov\",\"Treasure Island\",\"The Adventures of Huckleberry Finn\",\"The Strange Case of Dr. Jekyll and Mr. Hyde\",\"The Death of Ivan Ilych\",\"A Study in Scarlet\",\"A Little Princess\",\"The Picture of Dorian Gray\",\"Tess of the D'Urbervilles\",\"The Yellow Wall-Paper\",\"The Time Machine\",\"The Importance of Being Earnest\",\"Dracula\",\"The War of the Worlds\",\"The Turn of the Screw\",\"Heart of Darkness\",\"The Wonderful Wizard of Oz\",\"As a Man Thinketh\",\"The Call of the Wild\",\"Peter Pan\",\"Anne of Green Gables\",\"The Secret Garden\",\"The Phantom of the Opera\",\"The Metamorphosis\",\"The Mysterious Affair at Styles\",\"Siddhartha\",\"The Murder on the Links\",\"The Prophet\",\"Mrs. Dalloway\",\"The Great Gatsby\",\"The Sun Also Rises\",\"A Farewell to Arms\",\"A Room of One's Own\",\"Brave New World\",\"Murder on the Orient Express\",\"Gone with the Wind\",\"Death on the Nile\",\"Of Mice and Men\",\"The Hobbit or There and Back Again\",\"Their Eyes Were Watching God\",\"Rebecca\",\"Address Unknown\",\"And Then There Were None\",\"The Grapes of Wrath\",\"The Stranger\",\"Chess Story\",\"The Little Prince\",\"A Tree Grows in Brooklyn\",\"Animal Farm\",\"The Pearl\",\"The Diary of a Young Girl\",\"1984\",\"The Lion, the Witch and the Wardrobe\",\"The Catcher in the Rye\",\"Prince Caspian\",\"The Old Man and the Sea\",\"East of Eden\",\"Charlotte's Web\",\"Fahrenheit 451\",\"The Crucible\",\"The Fellowship of the Ring\",\"The Two Towers\",\"The Horse and His Boy\",\"I Am Legend\",\"Lord of the Flies\",\"The Return of the King\",\"The Magician's Nephew\",\"Lolita\",\"Breakfast at Tiffany's\",\"Things Fall Apart\",\"To Kill a Mockingbird\",\"Catch-22\",\"The Man in the High Castle\",\"One Flew Over the Cuckoo's Nest\",\"A Clockwork Orange\",\"The Bell Jar\",\"Dune\",\"In Cold Blood\",\"Flowers for Algernon\",\"The Outsiders\",\"One Hundred Years of Solitude\",\"Do Androids Dream of Electric Sheep?\",\"Slaughterhouse-Five\",\"The Left Hand of Darkness\",\"The Bluest Eye\",\"Jonathan Livingston Seagull\",\"The Shining\",\"The Color Purple\",\"The Handmaid's Tale\",\"Hatchet\",\"The Alchemist\",\"Matilda\",\"Like Water for Chocolate\",\"The Things They Carried\",\"The Giver\",\"Tuesdays with Morrie\",\"The Five People You Meet in Heaven\"]},\"selected\":{\"id\":\"1047\"},\"selection_policy\":{\"id\":\"1048\"}},\"id\":\"1002\",\"type\":\"ColumnDataSource\"},{\"attributes\":{},\"id\":\"1702\",\"type\":\"BasicTicker\"},{\"attributes\":{\"axis_label\":\"Number of Goodreads Ratings\",\"formatter\":{\"id\":\"1727\"},\"ticker\":{\"id\":\"1702\"}},\"id\":\"1701\",\"type\":\"LinearAxis\"},{\"attributes\":{},\"id\":\"1048\",\"type\":\"UnionRenderers\"},{\"attributes\":{},\"id\":\"1773\",\"type\":\"BasicTickFormatter\"},{\"attributes\":{\"source\":{\"id\":\"1002\"}},\"id\":\"1726\",\"type\":\"CDSView\"},{\"attributes\":{\"fill_color\":{\"field\":\"AmazonClassics_edition\",\"transform\":{\"id\":\"1721\"}},\"line_color\":{\"field\":\"AmazonClassics_edition\",\"transform\":{\"id\":\"1721\"}},\"size\":{\"units\":\"screen\",\"value\":30},\"x\":{\"field\":\"publication_date\"}},\"id\":\"1723\",\"type\":\"Circle\"},{\"attributes\":{\"bottom_units\":\"screen\",\"fill_alpha\":0.5,\"fill_color\":\"lightgrey\",\"left_units\":\"screen\",\"level\":\"overlay\",\"line_alpha\":1.0,\"line_color\":\"black\",\"line_dash\":[4,4],\"line_width\":2,\"render_mode\":\"css\",\"right_units\":\"screen\",\"top_units\":\"screen\"},\"id\":\"1711\",\"type\":\"BoxAnnotation\"},{\"attributes\":{\"fill_alpha\":{\"value\":0.1},\"fill_color\":{\"field\":\"AmazonClassics_edition\",\"transform\":{\"id\":\"1721\"}},\"line_alpha\":{\"value\":0.1},\"line_color\":{\"field\":\"AmazonClassics_edition\",\"transform\":{\"id\":\"1721\"}},\"size\":{\"units\":\"screen\",\"value\":30},\"x\":{\"field\":\"publication_date\"}},\"id\":\"1724\",\"type\":\"Circle\"},{\"attributes\":{\"format\":\"0.0a\"},\"id\":\"1727\",\"type\":\"NumeralTickFormatter\"},{\"attributes\":{},\"id\":\"1047\",\"type\":\"Selection\"},{\"attributes\":{},\"id\":\"1705\",\"type\":\"PanTool\"},{\"attributes\":{\"data_source\":{\"id\":\"1002\"},\"glyph\":{\"id\":\"1723\"},\"hover_glyph\":null,\"muted_glyph\":null,\"nonselection_glyph\":{\"id\":\"1724\"},\"selection_glyph\":null,\"view\":{\"id\":\"1726\"}},\"id\":\"1725\",\"type\":\"GlyphRenderer\"},{\"attributes\":{\"active_drag\":\"auto\",\"active_inspect\":\"auto\",\"active_multi\":null,\"active_scroll\":\"auto\",\"active_tap\":\"auto\",\"tools\":[{\"id\":\"1705\"},{\"id\":\"1706\"},{\"id\":\"1707\"},{\"id\":\"1708\"},{\"id\":\"1709\"},{\"id\":\"1710\"},{\"id\":\"1712\"}]},\"id\":\"1713\",\"type\":\"Toolbar\"}],\"root_ids\":[\"1686\"]},\"title\":\"Bokeh Application\",\"version\":\"2.0.2\"}};\n",
       "  var render_items = [{\"docid\":\"14ae8fbb-e3bd-41d2-8bbd-5c0eb47aa5ba\",\"root_ids\":[\"1686\"],\"roots\":{\"1686\":\"3cb58dfd-f169-4df8-85e2-cb0394e0306f\"}}];\n",
       "  root.Bokeh.embed.embed_items_notebook(docs_json, render_items);\n",
       "\n",
       "  }\n",
       "  if (root.Bokeh !== undefined) {\n",
       "    embed_document(root);\n",
       "  } else {\n",
       "    var attempts = 0;\n",
       "    var timer = setInterval(function(root) {\n",
       "      if (root.Bokeh !== undefined) {\n",
       "        clearInterval(timer);\n",
       "        embed_document(root);\n",
       "      } else {\n",
       "        attempts++;\n",
       "        if (attempts > 100) {\n",
       "          clearInterval(timer);\n",
       "          console.log(\"Bokeh: ERROR: Unable to run BokehJS code because BokehJS library is missing\");\n",
       "        }\n",
       "      }\n",
       "    }, 10, root)\n",
       "  }\n",
       "})(window);"
      ],
      "application/vnd.bokehjs_exec.v0+json": ""
     },
     "metadata": {
      "application/vnd.bokehjs_exec.v0+json": {
       "id": "1686"
      }
     },
     "output_type": "display_data"
    }
   ],
   "source": [
    "from bokeh.transform import factor_cmap\n",
    "from bokeh.palettes import Spectral3\n",
    "\n",
    "TOOLTIPS = [\n",
    "    (\"Title\", \"@title\"),\n",
    "    (\"Author\", \"@author\"),\n",
    "    (\"Publication Date\", \"@publication_date\"),\n",
    "    (\"AmazonClassics Edition\", \"@AmazonClassics_edition\")\n",
    "    \n",
    "]\n",
    "\n",
    "bokeh_plot = figure( title=\"The Goodreads 'Classics'\", x_axis_label = 'Publication Date', y_axis_label ='Number of Goodreads Ratings',\n",
    "           x_range=[1500, 2050],\n",
    "               tooltips=TOOLTIPS)\n",
    "\n",
    "colors = ['black', 'pink', 'purple']\n",
    "\n",
    "#Add color based on column \"whichListCategory\"\n",
    "color_map = factor_cmap(field_name='AmazonClassics_edition',\n",
    "                    palette=colors, factors=['yes', 'no'])\n",
    "\n",
    "bokeh_plot.circle(x='publication_date',\n",
    "                \n",
    "         size = 30,\n",
    "         source=source,\n",
    "         color=color_map)\n",
    "\n",
    "#Format big numbers wiht abbreviations\n",
    "bokeh_plot.yaxis.formatter = NumeralTickFormatter(format='0.0a')\n",
    "\n",
    "#output_file('Goodreads-Classics.html')\n",
    "\n",
    "show(bokeh_plot) "
   ]
  },
  {
   "cell_type": "markdown",
   "metadata": {},
   "source": [
    "# Pandas Merge"
   ]
  },
  {
   "cell_type": "markdown",
   "metadata": {},
   "source": [
    "https://pandas.pydata.org/pandas-docs/stable/reference/api/pandas.DataFrame.merge.html"
   ]
  },
  {
   "cell_type": "markdown",
   "metadata": {},
   "source": [
    "Let's merge the Goodreads rating/review csv file with the Goodreads demographic csv"
   ]
  },
  {
   "cell_type": "code",
   "execution_count": 24,
   "metadata": {},
   "outputs": [],
   "source": [
    "goodreads_df = pd.read_csv('Goodreads-Classics-Appendix.csv')"
   ]
  },
  {
   "cell_type": "code",
   "execution_count": 25,
   "metadata": {},
   "outputs": [],
   "source": [
    "demographic_df = pd.read_csv('Goodreads-Classics-Demographic-Info.csv')"
   ]
  },
  {
   "cell_type": "code",
   "execution_count": 26,
   "metadata": {},
   "outputs": [
    {
     "data": {
      "text/html": [
       "<div>\n",
       "<style scoped>\n",
       "    .dataframe tbody tr th:only-of-type {\n",
       "        vertical-align: middle;\n",
       "    }\n",
       "\n",
       "    .dataframe tbody tr th {\n",
       "        vertical-align: top;\n",
       "    }\n",
       "\n",
       "    .dataframe thead th {\n",
       "        text-align: right;\n",
       "    }\n",
       "</style>\n",
       "<table border=\"1\" class=\"dataframe\">\n",
       "  <thead>\n",
       "    <tr style=\"text-align: right;\">\n",
       "      <th></th>\n",
       "      <th>title</th>\n",
       "      <th>author</th>\n",
       "      <th>original_language</th>\n",
       "      <th>gender</th>\n",
       "      <th>race/ethnicity</th>\n",
       "      <th>publication_date</th>\n",
       "      <th>author_nationality</th>\n",
       "      <th>AmazonClassics_edition</th>\n",
       "      <th>AmazonClassics_url</th>\n",
       "      <th>AmazonClassics_date</th>\n",
       "    </tr>\n",
       "  </thead>\n",
       "  <tbody>\n",
       "    <tr>\n",
       "      <th>3</th>\n",
       "      <td>The Canterbury Tales</td>\n",
       "      <td>Geoffrey Chaucer</td>\n",
       "      <td>English</td>\n",
       "      <td>M</td>\n",
       "      <td>White</td>\n",
       "      <td>1390</td>\n",
       "      <td>British</td>\n",
       "      <td>no</td>\n",
       "      <td>NaN</td>\n",
       "      <td>NaN</td>\n",
       "    </tr>\n",
       "    <tr>\n",
       "      <th>138</th>\n",
       "      <td>Like Water for Chocolate</td>\n",
       "      <td>Laura Esquivel</td>\n",
       "      <td>Spanish</td>\n",
       "      <td>W</td>\n",
       "      <td>Mexican</td>\n",
       "      <td>1989</td>\n",
       "      <td>Mexican</td>\n",
       "      <td>no</td>\n",
       "      <td>NaN</td>\n",
       "      <td>NaN</td>\n",
       "    </tr>\n",
       "  </tbody>\n",
       "</table>\n",
       "</div>"
      ],
      "text/plain": [
       "                        title            author original_language gender  \\\n",
       "3        The Canterbury Tales  Geoffrey Chaucer           English      M   \n",
       "138  Like Water for Chocolate    Laura Esquivel           Spanish      W   \n",
       "\n",
       "    race/ethnicity  publication_date author_nationality  \\\n",
       "3            White              1390            British   \n",
       "138        Mexican              1989            Mexican   \n",
       "\n",
       "    AmazonClassics_edition AmazonClassics_url AmazonClassics_date  \n",
       "3                       no                NaN                 NaN  \n",
       "138                     no                NaN                 NaN  "
      ]
     },
     "execution_count": 26,
     "metadata": {},
     "output_type": "execute_result"
    }
   ],
   "source": [
    "demographic_df.sample(2)"
   ]
  },
  {
   "cell_type": "code",
   "execution_count": 27,
   "metadata": {},
   "outputs": [
    {
     "data": {
      "text/plain": [
       "(143, 10)"
      ]
     },
     "execution_count": 27,
     "metadata": {},
     "output_type": "execute_result"
    }
   ],
   "source": [
    "demographic_df.shape"
   ]
  },
  {
   "cell_type": "code",
   "execution_count": 28,
   "metadata": {},
   "outputs": [
    {
     "data": {
      "text/html": [
       "<div>\n",
       "<style scoped>\n",
       "    .dataframe tbody tr th:only-of-type {\n",
       "        vertical-align: middle;\n",
       "    }\n",
       "\n",
       "    .dataframe tbody tr th {\n",
       "        vertical-align: top;\n",
       "    }\n",
       "\n",
       "    .dataframe thead th {\n",
       "        text-align: right;\n",
       "    }\n",
       "</style>\n",
       "<table border=\"1\" class=\"dataframe\">\n",
       "  <thead>\n",
       "    <tr style=\"text-align: right;\">\n",
       "      <th></th>\n",
       "      <th>author</th>\n",
       "      <th>title</th>\n",
       "      <th>yearFirstPublished</th>\n",
       "      <th>mostReadRank</th>\n",
       "      <th>mostPopularRank</th>\n",
       "      <th>numRatings</th>\n",
       "      <th>numRatingsAbbrev</th>\n",
       "      <th>numReviews</th>\n",
       "      <th>numReviewsAbbrev</th>\n",
       "      <th>whichListCategory</th>\n",
       "      <th>AP_English_Recommended</th>\n",
       "      <th>Open_Syllabus_200_Text</th>\n",
       "      <th>Open_Syllabus_200_Author</th>\n",
       "    </tr>\n",
       "  </thead>\n",
       "  <tbody>\n",
       "    <tr>\n",
       "      <th>91</th>\n",
       "      <td>John Steinbeck</td>\n",
       "      <td>The Grapes of Wrath</td>\n",
       "      <td>1939</td>\n",
       "      <td>92</td>\n",
       "      <td>39</td>\n",
       "      <td>676785</td>\n",
       "      <td>677k</td>\n",
       "      <td>15411</td>\n",
       "      <td>15k</td>\n",
       "      <td>Most Shelved and Most Read</td>\n",
       "      <td>NaN</td>\n",
       "      <td>NaN</td>\n",
       "      <td>NaN</td>\n",
       "    </tr>\n",
       "    <tr>\n",
       "      <th>10</th>\n",
       "      <td>Miguel de Cervantes Saavedra</td>\n",
       "      <td>Don Quixote</td>\n",
       "      <td>1605</td>\n",
       "      <td>FALSE</td>\n",
       "      <td>69</td>\n",
       "      <td>187407</td>\n",
       "      <td>187k</td>\n",
       "      <td>7041</td>\n",
       "      <td>7k</td>\n",
       "      <td>Most Shelved</td>\n",
       "      <td>NaN</td>\n",
       "      <td>Top College Text</td>\n",
       "      <td>Top College Author</td>\n",
       "    </tr>\n",
       "  </tbody>\n",
       "</table>\n",
       "</div>"
      ],
      "text/plain": [
       "                          author                title  yearFirstPublished  \\\n",
       "91                John Steinbeck  The Grapes of Wrath                1939   \n",
       "10  Miguel de Cervantes Saavedra          Don Quixote                1605   \n",
       "\n",
       "   mostReadRank mostPopularRank  numRatings numRatingsAbbrev  numReviews  \\\n",
       "91           92              39      676785             677k       15411   \n",
       "10        FALSE              69      187407             187k        7041   \n",
       "\n",
       "   numReviewsAbbrev           whichListCategory AP_English_Recommended  \\\n",
       "91              15k  Most Shelved and Most Read                    NaN   \n",
       "10               7k                Most Shelved                    NaN   \n",
       "\n",
       "   Open_Syllabus_200_Text Open_Syllabus_200_Author  \n",
       "91                    NaN                      NaN  \n",
       "10       Top College Text       Top College Author  "
      ]
     },
     "execution_count": 28,
     "metadata": {},
     "output_type": "execute_result"
    }
   ],
   "source": [
    "goodreads_df.sample(2)"
   ]
  },
  {
   "cell_type": "code",
   "execution_count": 29,
   "metadata": {},
   "outputs": [
    {
     "data": {
      "text/plain": [
       "(145, 13)"
      ]
     },
     "execution_count": 29,
     "metadata": {},
     "output_type": "execute_result"
    }
   ],
   "source": [
    "goodreads_df.shape"
   ]
  },
  {
   "cell_type": "markdown",
   "metadata": {},
   "source": [
    "If you don't tell pandas which column to merege on, it will guess based on column names and shared columns"
   ]
  },
  {
   "cell_type": "code",
   "execution_count": 34,
   "metadata": {},
   "outputs": [],
   "source": [
    "merged_df = demographic_df.merge(goodreads_df)"
   ]
  },
  {
   "cell_type": "code",
   "execution_count": 35,
   "metadata": {},
   "outputs": [],
   "source": [
    "source = ColumnDataSource(merged_df)"
   ]
  },
  {
   "cell_type": "code",
   "execution_count": 39,
   "metadata": {},
   "outputs": [
    {
     "data": {
      "text/plain": [
       "Index(['title', 'author', 'original_language', 'gender', 'race/ethnicity',\n",
       "       'publication_date', 'author_nationality', 'AmazonClassics_edition',\n",
       "       'AmazonClassics_url', 'AmazonClassics_date', 'yearFirstPublished',\n",
       "       'mostReadRank', 'mostPopularRank', 'numRatings', 'numRatingsAbbrev',\n",
       "       'numReviews', 'numReviewsAbbrev', 'whichListCategory',\n",
       "       'AP_English_Recommended', 'Open_Syllabus_200_Text',\n",
       "       'Open_Syllabus_200_Author'],\n",
       "      dtype='object')"
      ]
     },
     "execution_count": 39,
     "metadata": {},
     "output_type": "execute_result"
    }
   ],
   "source": [
    "merged_df.columns"
   ]
  },
  {
   "cell_type": "code",
   "execution_count": 45,
   "metadata": {},
   "outputs": [],
   "source": [
    "nationalities = merged_df['author_nationality'].unique()"
   ]
  },
  {
   "cell_type": "code",
   "execution_count": 47,
   "metadata": {},
   "outputs": [
    {
     "data": {
      "text/plain": [
       "23"
      ]
     },
     "execution_count": 47,
     "metadata": {},
     "output_type": "execute_result"
    }
   ],
   "source": [
    "len(nationalities)"
   ]
  },
  {
   "cell_type": "code",
   "execution_count": 55,
   "metadata": {},
   "outputs": [],
   "source": [
    "import random"
   ]
  },
  {
   "cell_type": "code",
   "execution_count": 64,
   "metadata": {},
   "outputs": [],
   "source": [
    "color_palette = random.choices(Turbo256, k=23)"
   ]
  },
  {
   "cell_type": "code",
   "execution_count": 65,
   "metadata": {},
   "outputs": [
    {
     "data": {
      "text/html": [
       "\n",
       "\n",
       "\n",
       "\n",
       "\n",
       "\n",
       "  <div class=\"bk-root\" id=\"c3c35127-7516-4094-8c1c-623a8f5244ea\" data-root-id=\"2879\"></div>\n"
      ]
     },
     "metadata": {},
     "output_type": "display_data"
    },
    {
     "data": {
      "application/javascript": [
       "(function(root) {\n",
       "  function embed_document(root) {\n",
       "    \n",
       "  var docs_json = {\"b2d5df69-44ef-4e15-a287-eb56ddf41a6e\":{\"roots\":{\"references\":[{\"attributes\":{\"below\":[{\"id\":\"2890\"}],\"center\":[{\"id\":\"2893\"},{\"id\":\"2897\"}],\"left\":[{\"id\":\"2894\"}],\"renderers\":[{\"id\":\"2918\"}],\"title\":{\"id\":\"2880\"},\"toolbar\":{\"id\":\"2906\"},\"x_range\":{\"id\":\"2882\"},\"x_scale\":{\"id\":\"2886\"},\"y_range\":{\"id\":\"2884\"},\"y_scale\":{\"id\":\"2888\"}},\"id\":\"2879\",\"subtype\":\"Figure\",\"type\":\"Plot\"},{\"attributes\":{\"data_source\":{\"id\":\"1820\"},\"glyph\":{\"id\":\"2916\"},\"hover_glyph\":null,\"muted_glyph\":null,\"nonselection_glyph\":{\"id\":\"2917\"},\"selection_glyph\":null,\"view\":{\"id\":\"2919\"}},\"id\":\"2918\",\"type\":\"GlyphRenderer\"},{\"attributes\":{},\"id\":\"3015\",\"type\":\"BasicTickFormatter\"},{\"attributes\":{\"overlay\":{\"id\":\"2904\"}},\"id\":\"2900\",\"type\":\"BoxZoomTool\"},{\"attributes\":{},\"id\":\"1917\",\"type\":\"Selection\"},{\"attributes\":{\"active_drag\":\"auto\",\"active_inspect\":\"auto\",\"active_multi\":null,\"active_scroll\":\"auto\",\"active_tap\":\"auto\",\"tools\":[{\"id\":\"2898\"},{\"id\":\"2899\"},{\"id\":\"2900\"},{\"id\":\"2901\"},{\"id\":\"2902\"},{\"id\":\"2903\"},{\"id\":\"2905\"}]},\"id\":\"2906\",\"type\":\"Toolbar\"},{\"attributes\":{},\"id\":\"2895\",\"type\":\"BasicTicker\"},{\"attributes\":{},\"id\":\"2901\",\"type\":\"SaveTool\"},{\"attributes\":{},\"id\":\"2902\",\"type\":\"ResetTool\"},{\"attributes\":{\"format\":\"0.0a\"},\"id\":\"2920\",\"type\":\"NumeralTickFormatter\"},{\"attributes\":{\"axis_label\":\"Publication Date\",\"formatter\":{\"id\":\"3015\"},\"ticker\":{\"id\":\"2891\"}},\"id\":\"2890\",\"type\":\"LinearAxis\"},{\"attributes\":{},\"id\":\"2903\",\"type\":\"HelpTool\"},{\"attributes\":{\"source\":{\"id\":\"1820\"}},\"id\":\"2919\",\"type\":\"CDSView\"},{\"attributes\":{\"fill_alpha\":{\"value\":0.1},\"fill_color\":{\"field\":\"author_nationality\",\"transform\":{\"id\":\"2914\"}},\"line_alpha\":{\"value\":0.1},\"line_color\":{\"field\":\"author_nationality\",\"transform\":{\"id\":\"2914\"}},\"size\":{\"units\":\"screen\",\"value\":30},\"x\":{\"field\":\"publication_date\"},\"y\":{\"field\":\"numRatings\"}},\"id\":\"2917\",\"type\":\"Circle\"},{\"attributes\":{},\"id\":\"2891\",\"type\":\"BasicTicker\"},{\"attributes\":{\"data\":{\"AP_English_Recommended\":[\"NaN\",\"NaN\",\"NaN\",\"AP English Recommended Author\",\"NaN\",\"AP English Recommended Author\",\"AP English Recommended Author\",\"AP English Recommended Author\",\"AP English Recommended Author\",\"AP English Recommended Author\",\"NaN\",\"AP English Recommended Author\",\"AP English Recommended Author\",\"AP English Recommended Author\",\"NaN\",\"AP English Recommended Author\",\"AP English Recommended Author\",\"AP English Recommended Author\",\"AP English Recommended Author\",\"AP English Recommended Author\",\"AP English Recommended Author\",\"NaN\",\"NaN\",\"AP English Recommended Author\",\"AP English Recommended Author\",\"NaN\",\"AP English Recommended Author\",\"NaN\",\"NaN\",\"AP English Recommended Author\",\"AP English Recommended Author\",\"NaN\",\"NaN\",\"AP English Recommended Author\",\"AP English Recommended Author\",\"NaN\",\"NaN\",\"NaN\",\"NaN\",\"NaN\",\"NaN\",\"NaN\",\"AP English Recommended Author\",\"NaN\",\"NaN\",\"AP English Recommended Author\",\"NaN\",\"NaN\",\"NaN\",\"NaN\",\"AP English Recommended Author\",\"AP English Recommended Author\",\"NaN\",\"NaN\",\"AP English Recommended Author\",\"NaN\",\"NaN\",\"AP English Recommended Author\",\"AP English Recommended Author\",\"NaN\",\"NaN\",\"NaN\",\"NaN\",\"NaN\",\"NaN\",\"NaN\",\"NaN\",\"NaN\",\"NaN\",\"NaN\",\"NaN\",\"AP English Recommended Author\",\"AP English Recommended Author\",\"AP English Recommended Author\",\"AP English Recommended Author\",\"AP English Recommended Author\",\"NaN\",\"NaN\",\"NaN\",\"NaN\",\"NaN\",\"NaN\",\"AP English Recommended Author\",\"NaN\",\"NaN\",\"NaN\",\"NaN\",\"NaN\",\"NaN\",\"NaN\",\"NaN\",\"NaN\",\"AP English Recommended Author\",\"NaN\",\"NaN\",\"AP English Recommended Author\",\"NaN\",\"NaN\",\"NaN\",\"AP English Recommended Author\",\"NaN\",\"NaN\",\"NaN\",\"AP English Recommended Author\",\"NaN\",\"NaN\",\"NaN\",\"NaN\",\"NaN\",\"NaN\",\"NaN\",\"AP English Recommended Author\",\"NaN\",\"AP English Recommended Author\",\"NaN\",\"NaN\",\"NaN\",\"NaN\",\"NaN\",\"AP English Recommended Author\",\"NaN\",\"NaN\",\"NaN\",\"NaN\",\"AP English Recommended Author\",\"NaN\",\"NaN\",\"NaN\",\"AP English Recommended Author\",\"NaN\",\"NaN\",\"AP English Recommended Author\",\"AP English Recommended Author\",\"NaN\",\"NaN\",\"NaN\",\"NaN\",\"NaN\",\"NaN\",\"NaN\",\"NaN\"],\"AmazonClassics_date\":[\"6/27/17\",\"7/25/17\",\"6/27/17\",\"NaN\",\"NaN\",\"8/15/17\",\"8/15/17\",\"NaN\",\"8/15/17\",\"8/15/17\",\"12/17/19\",\"8/29/17\",\"6/4/19\",\"9/5/17\",\"7/25/17\",\"9/5/17\",\"06/20/17\",\"11/01/17\",\"12/5/17\",\"12/5/17\",\"11/7/17\",\"5/2/17\",\"12/17/19\",\"10/24/17\",\"6/20/17\",\"3/17/20\",\"6/13/17\",\"07/01/17\",\"7/18/17\",\"12/31/19\",\"5/2/17\",\"8/29/17\",\"9/26/17\",\"9/12/17\",\"7/25/17\",\"NaN\",\"NaN\",\"10/24/17\",\"6/13/17\",\"12/31/19\",\"8/29/17\",\"11/21/17\",\"6/13/17\",\"12/10/19\",\"6/27/17\",\"6/13/17\",\"7/11/17\",\"NaN\",\"2/27/18\",\"10/24/17\",\"6/13/17\",\"6/4/19\",\"1/2/20\",\"8/22/17\",\"9/17/19\",\"7/25/17\",\"11/7/17\",\"9/26/17\",\"6/20/17\",\"8/8/17\",\"4/23/19\",\"6/20/17\",\"1/30/18\",\"7/25/17\",\"8/8/17\",\"11/14/17\",\"9/17/19\",\"1/30/18\",\"NaN\",\"9/3/19\",\"5/7/19\",\"NaN\",\"NaN\",\"NaN\",\"NaN\",\"NaN\",\"NaN\",\"NaN\",\"NaN\",\"NaN\",\"NaN\",\"NaN\",\"NaN\",\"NaN\",\"NaN\",\"NaN\",\"NaN\",\"NaN\",\"NaN\",\"NaN\",\"NaN\",\"NaN\",\"NaN\",\"NaN\",\"NaN\",\"NaN\",\"NaN\",\"NaN\",\"NaN\",\"NaN\",\"NaN\",\"NaN\",\"NaN\",\"NaN\",\"NaN\",\"NaN\",\"NaN\",\"NaN\",\"NaN\",\"NaN\",\"NaN\",\"NaN\",\"NaN\",\"NaN\",\"NaN\",\"NaN\",\"NaN\",\"NaN\",\"NaN\",\"NaN\",\"NaN\",\"NaN\",\"NaN\",\"NaN\",\"NaN\",\"NaN\",\"NaN\",\"NaN\",\"NaN\",\"NaN\",\"NaN\",\"NaN\",\"NaN\",\"NaN\",\"NaN\",\"NaN\",\"NaN\",\"NaN\",\"NaN\",\"NaN\",\"NaN\"],\"AmazonClassics_edition\":[\"yes\",\"yes\",\"yes\",\"no\",\"no\",\"yes\",\"yes\",\"no\",\"yes\",\"yes\",\"yes\",\"yes\",\"yes\",\"yes\",\"yes\",\"yes\",\"yes\",\"yes\",\"yes\",\"yes\",\"yes\",\"yes\",\"yes\",\"yes\",\"yes\",\"yes\",\"yes\",\"yes\",\"yes\",\"yes\",\"yes\",\"yes\",\"yes\",\"yes\",\"yes\",\"no\",\"no\",\"yes\",\"yes\",\"yes\",\"yes\",\"yes\",\"yes\",\"yes\",\"yes\",\"yes\",\"yes\",\"no\",\"yes\",\"yes\",\"yes\",\"yes\",\"yes\",\"yes\",\"yes\",\"yes\",\"yes\",\"yes\",\"yes\",\"yes\",\"yes\",\"yes\",\"yes\",\"yes\",\"yes\",\"yes\",\"yes\",\"yes\",\"no\",\"yes\",\"yes\",\"no\",\"no\",\"no\",\"no\",\"no\",\"no\",\"no\",\"no\",\"no\",\"no\",\"no\",\"no\",\"no\",\"no\",\"no\",\"no\",\"no\",\"no\",\"no\",\"no\",\"no\",\"no\",\"no\",\"no\",\"no\",\"no\",\"no\",\"no\",\"no\",\"no\",\"no\",\"no\",\"no\",\"no\",\"no\",\"no\",\"no\",\"no\",\"no\",\"no\",\"no\",\"no\",\"no\",\"no\",\"no\",\"no\",\"no\",\"no\",\"no\",\"no\",\"no\",\"no\",\"no\",\"no\",\"no\",\"no\",\"no\",\"no\",\"no\",\"no\",\"no\",\"no\",\"no\",\"no\",\"no\",\"no\",\"no\",\"no\",\"no\",\"no\"],\"AmazonClassics_url\":[\"https://www.amazon.com/Odyssey-AmazonClassics-Homer-ebook/dp/B071JBJTFY/ref=sr_1_20?crid=3Q3MJA7U5MS70&dchild=1&keywords=amazonclassics+edition&qid=1591736683&s=books&sprefix=Amazo%2Cstripbooks%2C178&sr=1-20\",\"https://www.amazon.com/Iliad-AmazonClassics-Homer-ebook/dp/B072MQ8FL7/ref=sr_1_158?crid=3Q3MJA7U5MS70&dchild=1&keywords=amazonclassics+edition&qid=1591739234&s=books&sprefix=Amazo%2Cstripbooks%2C178&sr=1-158\",\"https://www.amazon.com/Beowulf-AmazonClassics-ebook/dp/B072Q1ZB95/ref=sr_1_113?crid=3Q3MJA7U5MS70&dchild=1&keywords=amazonclassics+edition&qid=1591738305&s=books&sprefix=Amazo%2Cstripbooks%2C178&sr=1-113\",\"NaN\",\"NaN\",\"https://www.amazon.com/Romeo-Juliet-AmazonClassics-William-Shakespeare-ebook/dp/B071GC1H2G/ref=sr_1_31?crid=3Q3MJA7U5MS70&dchild=1&keywords=amazonclassics+edition&qid=1591736683&s=books&sprefix=Amazo%2Cstripbooks%2C178&sr=1-31\",\"https://www.amazon.com/Midsummer-Nights-Dream-AmazonClassics-ebook/dp/B073QLX4V9/ref=sr_1_131?crid=3Q3MJA7U5MS70&dchild=1&keywords=amazonclassics+edition&qid=1591738675&s=books&sprefix=Amazo%2Cstripbooks%2C178&sr=1-131\",\"NaN\",\"https://www.amazon.com/Hamlet-AmazonClassics-William-Shakespeare-ebook/dp/B071WW324R/ref=sr_1_56?crid=3Q3MJA7U5MS70&dchild=1&keywords=amazonclassics+edition&qid=1591736994&s=books&sprefix=Amazo%2Cstripbooks%2C178&sr=1-56\",\"https://www.amazon.com/Othello-AmazonClassics-William-Shakespeare-ebook/dp/B073QLJTBJ/ref=sr_1_65?crid=3Q3MJA7U5MS70&dchild=1&keywords=amazonclassics+edition&qid=1591736994&s=books&sprefix=Amazo%2Cstripbooks%2C178&sr=1-65\",\"https://www.amazon.com/Don-Quixote-AmazonClassics-Miguel-Cervantes-ebook/dp/B07XXYKW3J/ref=sr_1_2?crid=1AW79OVH2PH2H&dchild=1&keywords=don+quixote+amazonclassics+edition&qid=1591750107&s=digital-text&sprefix=don+qu%2Cdigital-text%2C182&sr=1-2\",\"https://www.amazon.com/Macbeth-AmazonClassics-William-Shakespeare-ebook/dp/B07417B3DS/ref=sr_1_4?crid=DHXVPQDBPO3F&dchild=1&keywords=macbeth+by+william+shakespeare&qid=1591723937&s=books&sprefix=Macbeth%2Cstripbooks%2C161&sr=1-4\",\"https://www.amazon.com/Robinson-Crusoe-AmazonClassics-Daniel-Defoe-ebook/dp/B07Q348VW1/ref=sr_1_37?crid=3Q3MJA7U5MS70&dchild=1&keywords=amazonclassics+edition&qid=1591736696&s=books&sprefix=Amazo%2Cstripbooks%2C178&sr=1-37\",\"https://www.amazon.com/Gullivers-Travels-AmazonClassics-Jonathan-Swift-ebook/dp/B073WW8W3R/ref=sr_1_77?crid=3Q3MJA7U5MS70&dchild=1&keywords=amazonclassics+edition&qid=1591737294&s=books&sprefix=Amazo%2Cstripbooks%2C178&sr=1-77\",\"https://www.amazon.com/Candide-AmazonClassics-Voltaire-ebook/dp/B073QR7YB9/ref=sr_1_2?dchild=1&keywords=Candide+amazon+classics&qid=1591731419&s=books&sr=1-2\",\"https://www.amazon.com/Sense-Sensibility-AmazonClassics-Jane-Austen-ebook/dp/B073WVNN4L/ref=sr_1_5?crid=E57NAM0N3O63&dchild=1&keywords=jane+austen+amazonclassics&qid=1591752672&s=books&sprefix=Jane+Austen+am%2Cstripbooks%2C179&sr=1-5\",\"https://www.amazon.com/Pride-Prejudice-AmazonClassics-Jane-Austen-ebook/dp/B071SKHMDL/ref=sr_1_2?dchild=1&keywords=pride+and+prejudice+jane+austen+amazonclassics&qid=1591648129&s=books&sr=1-2\",\"https://www.amazon.com/Mansfield-Park-AmazonClassics-Jane-Austen-ebook/dp/B07571QMQY/ref=sr_1_1?dchild=1&keywords=mansfield+park+amazon+classics&qid=1591625189&s=books&sr=1-1\",\"https://www.amazon.com/Emma-AmazonClassics-Jane-Austen-ebook/dp/B075M6DRXH/ref=sr_1_1?dchild=1&keywords=Emma+jane+austen+amazonclassics&qid=1591655534&s=books&sr=1-1\",\"https://www.amazon.com/Persuasion-AmazonClassics-Jane-Austen-ebook/dp/B075M7VBK7/ref=sr_1_1?dchild=1&keywords=Persuasion+jane+austen+amazonclassics&qid=1591650046&s=books&sr=1-1\",\"https://www.amazon.com/Northanger-Abbey-AmazonClassics-Jane-Austen-ebook/dp/B075133SGP/ref=sr_1_64?crid=3Q3MJA7U5MS70&dchild=1&keywords=amazonclassics+edition&qid=1591736994&s=books&sprefix=Amazo%2Cstripbooks%2C178&sr=1-64\",\"https://www.amazon.com/Frankenstein-AmazonClassics-Mary-Shelley-ebook/dp/B06ZXT4MRB/ref=sr_1_1?dchild=1&keywords=frankenstein+amazonclassics&qid=1591663974&s=books&sr=1-1\",\"https://www.amazon.com/Hunchback-Notre-Dame-AmazonClassics-Victor-Hugo-ebook/dp/B07Z7QK149/ref=sr_1_6?dchild=1&keywords=amazonclassics+edition&qid=1591750222&s=digital-text&sr=1-6\",\"https://www.amazon.com/Oliver-Twist-AmazonClassics-Charles-Dickens-ebook/dp/B074W9R12X/ref=sr_1_1?dchild=1&keywords=Oliver+Twist+amazon+classics&qid=1591662967&s=books&sr=1-1\",\"https://www.amazon.com/Christmas-Carol-AmazonClassics-Charles-Dickens-ebook/dp/B071ZKZBWR/ref=sr_1_1?dchild=1&keywords=a+christmas+carol+amazon+classics&qid=1591662897&s=books&sr=1-1\",\"https://www.amazon.com/Count-Monte-Cristo-AmazonClassics-ebook/dp/B082HVQQFB/ref=sr_1_62?dchild=1&keywords=amazonclassics+edition&qid=1591750366&s=digital-text&sr=1-62\",\"https://www.amazon.com/Narrative-Life-Frederick-Douglass-AmazonClassics-ebook/dp/B072HMGLZR/ref=sr_1_227?crid=3Q3MJA7U5MS70&dchild=1&keywords=amazonclassics+edition&qid=1591740643&s=books&sprefix=Amazo%2Cstripbooks%2C178&sr=1-227\",\"https://www.amazon.com/Jane-Eyre-AmazonClassics-Charlotte-Bront%C3%AB-ebook/dp/B0721B7NPX/ref=sr_1_1?dchild=1&keywords=jane+eyre+amazonclassics+edition&qid=1591626233&s=books&sr=1-1\",\"https://www.amazon.com/Wuthering-Heights-AmazonClassics-Emily-Bront%C3%AB-ebook/dp/B073QM98F5/ref=sr_1_4?crid=1B40QBVFH85NP&dchild=1&keywords=wuthering+heights+by+emily+bronte&qid=1591723740&s=books&sprefix=Wuther%2Cstripbooks%2C147&sr=1-4\",\"https://www.amazon.com/David-Copperfield-AmazonClassics-Charles-Dickens-ebook/dp/B07ZNYFK1J/ref=sr_1_17?crid=3Q3MJA7U5MS70&dchild=1&keywords=amazonclassics+edition&qid=1591736590&s=books&sprefix=Amazo%2Cstripbooks%2C178&sr=1-17\",\"https://www.amazon.com/Scarlet-Letter-AmazonClassics-Nathaniel-Hawthorne-ebook/dp/B06ZYD5RMB/ref=sr_1_49?crid=3Q3MJA7U5MS70&dchild=1&keywords=amazonclassics+edition&qid=1591736696&s=books&sprefix=Amazo%2Cstripbooks%2C178&sr=1-49\",\"https://www.amazon.com/Uncle-Cabin-AmazonClassics-Harriet-Beecher-ebook/dp/B073W9N1W8/ref=sr_1_2?crid=108DGRFGP0JJ3&dchild=1&keywords=uncle+toms+cabin+amazon+classics&qid=1591739586&sprefix=uncle+tom+amazon+classics%2Caps%2C184&sr=8-2\",\"https://www.amazon.com/Madame-Bovary-AmazonClassics-Gustave-Flaubert-ebook/dp/B074J8BQ2W/ref=sr_1_152?crid=3Q3MJA7U5MS70&dchild=1&keywords=amazonclassics+edition&qid=1591739234&s=books&sprefix=Amazo%2Cstripbooks%2C178&sr=1-152\",\"https://www.amazon.com/Tale-Two-Cities-AmazonClassics-ebook/dp/B074C2LZG7/ref=sr_1_2?crid=1PWI4VS2ICHKW&dchild=1&keywords=a+tale+of+two+cities+amazon+classics&qid=1591662822&s=books&sprefix=a+tale++amazon+classics%2Cstripbooks%2C185&sr=1-2\",\"https://www.amazon.com/Great-Expectations-AmazonClassics-Charles-Dickens-ebook/dp/B073QRMXNM/ref=sr_1_7?crid=TB9V2DB59BT1&dchild=1&keywords=the+great+gatsby+amazon+classics&qid=1591656277&s=books&sprefix=The+Great+Gatsby+amazo%2Cstripbooks%2C177&sr=1-7\",\"NaN\",\"NaN\",\"https://www.amazon.com/Journey-Center-Earth-AmazonClassics-Jules-ebook/dp/B074W95Z2Y/ref=sr_1_5?dchild=1&keywords=Journey+to+the+center+amazon+classics&qid=1591731312&s=books&sr=1-5\",\"https://www.amazon.com/Alices-Adventures-Wonderland-AmazonClassics-Carroll-ebook/dp/B071RSDB49/ref=sr_1_1?crid=3DPY4ICJ86JLF&dchild=1&keywords=alice+in+wonderland+amazon+classic&qid=1591722413&s=books&sprefix=Alice%27s+amazon+classics%2Cstripbooks%2C152&sr=1-1\",\"https://www.amazon.com/War-Peace-AmazonClassics-Leo-Tolstoy-ebook/dp/B07YWS6WMB/ref=sr_1_2?crid=PDJYCDYYXE87&dchild=1&keywords=war+and+peace+amazon+classics&qid=1591730531&s=books&sprefix=War+Peace+amazon+classics%2Cstripbooks%2C165&sr=1-2\",\"https://www.amazon.com/Little-Women-AmazonClassics-Louisa-Alcott-ebook/dp/B073W9TT71/ref=sr_1_1?crid=3DTOSRGLZR8EE&dchild=1&keywords=little+women+amazon+classics&qid=1591665312&s=books&sprefix=Little++amazon+classics%2Cstripbooks%2C201&sr=1-1\",\"https://www.amazon.com/Around-World-Eighty-Days-AmazonClassics-ebook/dp/B0756ZS2DT/ref=sr_1_5?dchild=1&keywords=Around+the+world+in+eighty+days+amazon+classics&qid=1591731362&s=books&sr=1-5\",\"https://www.amazon.com/Adventures-Tom-Sawyer-AmazonClassics-ebook/dp/B072F1WKW1/ref=sr_1_126?crid=3Q3MJA7U5MS70&dchild=1&keywords=amazonclassics+edition&qid=1591738675&s=books&sprefix=Amazo%2Cstripbooks%2C178&sr=1-126\",\"https://www.amazon.com/Anna-Karenina-AmazonClassics-Leo-Tolstoy-ebook/dp/B07YWRTHMC/ref=sr_1_154?crid=3Q3MJA7U5MS70&dchild=1&keywords=amazonclassics+edition&qid=1591739234&s=books&sprefix=Amazo%2Cstripbooks%2C178&sr=1-154\",\"https://www.amazon.com/Treasure-Island-AmazonClassics-Robert-Stevenson-ebook/dp/B072Q1KBRT/ref=sr_1_4?dchild=1&keywords=treasure+island+amazonclassics&qid=1591664938&s=books&sr=1-4\",\"https://www.amazon.com/Adventures-Huckleberry-Finn-AmazonClassics-ebook/dp/B072L78PHK/ref=sr_1_129?crid=3Q3MJA7U5MS70&dchild=1&keywords=amazonclassics+edition&qid=1591738675&s=books&sprefix=Amazo%2Cstripbooks%2C178&sr=1-129\",\"https://www.amazon.com/Strange-Case-Jekyll-Hyde-AmazonClassics-ebook/dp/B071WW6BRV/ref=sr_1_3?dchild=1&keywords=The+Strange+Case+of+Dr.+Jekyll+and+Hyde+amazonclassics&qid=1591665087&s=books&sr=1-3\",\"NaN\",\"https://www.amazon.com/Study-Scarlet-AmazonClassics-Arthur-Conan-ebook/dp/B0769Z85G1/ref=sr_1_4?crid=3A6D2VTUP5T6F&dchild=1&keywords=a+study+in+scarlet&qid=1591724966&s=books&sprefix=a+study+%2Cstripbooks%2C144&sr=1-4\",\"https://www.amazon.com/Princess-AmazonClassics-Frances-Hodgson-Burnett-ebook/dp/B074W9PT2M/ref=sr_1_150?crid=3Q3MJA7U5MS70&dchild=1&keywords=amazonclassics+edition&qid=1591739234&s=books&sprefix=Amazo%2Cstripbooks%2C178&sr=1-150\",\"https://www.amazon.com/Picture-Dorian-Gray-AmazonClassics-ebook/dp/B071HDXV91/ref=sr_1_5?crid=3GQJ4LF6S63U6&dchild=1&keywords=the+picture+of+dorian+gray+by+oscar+wilde&qid=1591729951&s=books&sprefix=The+picture%2Cstripbooks%2C157&sr=1-5\",\"https://www.amazon.com/Tess-dUrbervilles-AmazonClassics-Thomas-Hardy-ebook/dp/B07Q43DPJP/ref=sr_1_86?crid=3Q3MJA7U5MS70&dchild=1&keywords=amazonclassics+edition&qid=1591737906&s=books&sprefix=Amazo%2Cstripbooks%2C178&sr=1-86\",\"https://www.amazon.com/Yellow-Wallpaper-AmazonClassics-Charlotte-Perkins-ebook/dp/B0823TP9MY/ref=sr_1_356?crid=3Q3MJA7U5MS70&dchild=1&keywords=amazonclassics+edition&qid=1591741246&s=books&sprefix=Amazo%2Cstripbooks%2C178&sr=1-356\",\"https://www.amazon.com/Time-Machine-AmazonClassics-H-Wells-ebook/dp/B073QRYR6G/ref=sr_1_54?crid=3Q3MJA7U5MS70&dchild=1&keywords=amazonclassics+edition&qid=1591736994&s=books&sprefix=Amazo%2Cstripbooks%2C178&sr=1-54\",\"https://www.amazon.com/Importance-Being-Earnest-AmazonClassics-ebook/dp/B07WM161DS/ref=sr_1_121?crid=3Q3MJA7U5MS70&dchild=1&keywords=amazonclassics+edition&qid=1591738675&s=books&sprefix=Amazo%2Cstripbooks%2C178&sr=1-121\",\"https://www.amazon.com/Dracula-AmazonClassics-Bram-Stoker-ebook/dp/B073QS9M8M/ref=sr_1_148?crid=3Q3MJA7U5MS70&dchild=1&keywords=amazonclassics+edition&qid=1591739234&s=books&sprefix=Amazo%2Cstripbooks%2C178&sr=1-148\",\"https://www.amazon.com/War-Worlds-AmazonClassics-H-Wells-ebook/dp/B0752ZLG34/ref=sr_1_116?dchild=1&keywords=amazonclassics+edition&qid=1591750622&s=digital-text&sr=1-116\",\"https://www.amazon.com/Turn-Screw-AmazonClassics-Henry-James-ebook/dp/B074J2JHLQ/ref=sr_1_211?crid=3Q3MJA7U5MS70&dchild=1&keywords=amazonclassics+edition&qid=1591740177&s=books&sprefix=Amazo%2Cstripbooks%2C178&sr=1-211\",\"https://www.amazon.com/Heart-Darkness-AmazonClassics-Joseph-Conrad-ebook/dp/B0728MXJ3Y/ref=sr_1_110?crid=3Q3MJA7U5MS70&dchild=1&keywords=amazonclassics+edition&qid=1591738305&s=books&sprefix=Amazo%2Cstripbooks%2C178&sr=1-110\",\"https://www.amazon.com/Wonderful-Wizard-Oz-AmazonClassics-ebook/dp/B071GTPBB1/ref=sr_1_13?crid=36EVHX92A9KQY&dchild=1&keywords=the+wonderful+wizard+of+oz&qid=1591725146&s=books&sprefix=The+wonderful%2Cstripbooks%2C178&sr=1-13\",\"https://www.amazon.com/Man-Thinketh-AmazonClassics-James-Allen-ebook/dp/B07Q392DB8/ref=sr_1_90?crid=3Q3MJA7U5MS70&dchild=1&keywords=amazonclassics+edition&qid=1591737906&s=books&sprefix=Amazo%2Cstripbooks%2C178&sr=1-90\",\"https://www.amazon.com/Call-Wild-AmazonClassics-Jack-London-ebook/dp/B072C7QKRY/ref=sr_1_7?crid=7JH9R0HRVDP0&dchild=1&keywords=the+call+of+the+wild+by+jack+london&qid=1591724792&s=books&sprefix=the+call+%2Cstripbooks%2C151&sr=1-7\",\"https://www.amazon.com/Peter-Wendy-AmazonClassics-J-Barrie-ebook/dp/B077D9MCMN/ref=sr_1_143?crid=3Q3MJA7U5MS70&dchild=1&keywords=amazonclassics+edition&qid=1591738939&s=books&sprefix=Amazo%2Cstripbooks%2C178&sr=1-143\",\"https://www.amazon.com/Anne-Green-Gables-AmazonClassics-Montgomery-ebook/dp/B073QRGDCW/ref=sr_1_6?crid=2EB92BY43H1XF&dchild=1&keywords=anne+of+green+gables&qid=1591723575&s=books&sprefix=Anne+%2Cstripbooks%2C160&sr=1-6\",\"https://www.amazon.com/Secret-AmazonClassics-Frances-Hodgson-Burnett-ebook/dp/B071KFMPJN/ref=sr_1_16?dchild=1&keywords=amazon+classics&qid=1591751979&s=digital-text&sr=1-16\",\"https://www.amazon.com/Phantom-Opera-AmazonClassics-Gaston-Leroux-ebook/dp/B075CL6KKV/ref=sr_1_84?crid=3Q3MJA7U5MS70&dchild=1&keywords=amazonclassics+edition&qid=1591737294&s=books&sprefix=Amazo%2Cstripbooks%2C178&sr=1-84\",\"https://www.amazon.com/Metamorphosis-AmazonClassics-Franz-Kafka-ebook/dp/B07W9LYXD9/ref=sr_1_352?crid=3Q3MJA7U5MS70&dchild=1&keywords=amazonclassics+edition&qid=1591741210&s=books&sprefix=Amazo%2Cstripbooks%2C178&sr=1-352\",\"https://www.amazon.com/Mysterious-Affair-Styles-AmazonClassics-ebook/dp/B076BM2NFQ/ref=sr_1_175?crid=3Q3MJA7U5MS70&dchild=1&keywords=amazonclassics+edition&qid=1591739653&s=books&sprefix=Amazo%2Cstripbooks%2C178&sr=1-175\",\"NaN\",\"https://www.amazon.com/Murder-Links-AmazonClassics-Hercule-Poirot-ebook/dp/B07VT5QGB4/ref=sr_1_199?dchild=1&keywords=amazonclassics+edition&qid=1591751069&s=digital-text&sr=1-199\",\"https://www.amazon.com/Prophet-AmazonClassics-Kahlil-Gibran-ebook/dp/B07NSWQM75/ref=sr_1_22?crid=3Q3MJA7U5MS70&dchild=1&keywords=amazonclassics+edition&qid=1591736683&s=books&sprefix=Amazo%2Cstripbooks%2C178&sr=1-22\",\"NaN\",\"NaN\",\"NaN\",\"NaN\",\"NaN\",\"NaN\",\"NaN\",\"NaN\",\"NaN\",\"NaN\",\"NaN\",\"NaN\",\"NaN\",\"NaN\",\"NaN\",\"NaN\",\"NaN\",\"NaN\",\"NaN\",\"NaN\",\"NaN\",\"NaN\",\"NaN\",\"NaN\",\"NaN\",\"NaN\",\"NaN\",\"NaN\",\"NaN\",\"NaN\",\"NaN\",\"NaN\",\"NaN\",\"NaN\",\"NaN\",\"NaN\",\"NaN\",\"NaN\",\"NaN\",\"NaN\",\"NaN\",\"NaN\",\"NaN\",\"NaN\",\"NaN\",\"NaN\",\"NaN\",\"NaN\",\"NaN\",\"NaN\",\"NaN\",\"NaN\",\"NaN\",\"NaN\",\"NaN\",\"NaN\",\"NaN\",\"NaN\",\"NaN\",\"NaN\",\"NaN\",\"NaN\",\"NaN\",\"NaN\",\"NaN\",\"NaN\",\"NaN\",\"NaN\",\"NaN\",\"NaN\"],\"Open_Syllabus_200_Author\":[\"Top College Author\",\"Top College Author\",\"NaN\",\"Top College Author\",\"Top College Author\",\"Top College Author\",\"Top College Author\",\"Top College Author\",\"Top College Author\",\"Top College Author\",\"Top College Author\",\"Top College Author\",\"Top College Author\",\"Top College Author\",\"Top College Author\",\"Top College Author\",\"Top College Author\",\"Top College Author\",\"Top College Author\",\"Top College Author\",\"Top College Author\",\"Top College Author\",\"NaN\",\"Top College Author\",\"Top College Author\",\"NaN\",\"Top College Author\",\"Top College Author\",\"Top College Author\",\"Top College Author\",\"Top College Author\",\"Top College Author\",\"NaN\",\"Top College Author\",\"Top College Author\",\"NaN\",\"NaN\",\"NaN\",\"NaN\",\"NaN\",\"NaN\",\"NaN\",\"Top College Author\",\"NaN\",\"Top College Author\",\"Top College Author\",\"Top College Author\",\"NaN\",\"NaN\",\"NaN\",\"Top College Author\",\"NaN\",\"Top College Author\",\"NaN\",\"Top College Author\",\"Top College Author\",\"NaN\",\"Top College Author\",\"Top College Author\",\"NaN\",\"NaN\",\"Top College Author\",\"NaN\",\"NaN\",\"NaN\",\"NaN\",\"Top College Author\",\"NaN\",\"NaN\",\"NaN\",\"NaN\",\"Top College Author\",\"Top College Author\",\"Top College Author\",\"Top College Author\",\"Top College Author\",\"NaN\",\"NaN\",\"NaN\",\"NaN\",\"NaN\",\"NaN\",\"Top College Author\",\"NaN\",\"NaN\",\"NaN\",\"NaN\",\"NaN\",\"NaN\",\"NaN\",\"NaN\",\"NaN\",\"Top College Author\",\"NaN\",\"NaN\",\"Top College Author\",\"NaN\",\"Top College Author\",\"NaN\",\"Top College Author\",\"NaN\",\"NaN\",\"NaN\",\"Top College Author\",\"NaN\",\"NaN\",\"NaN\",\"NaN\",\"NaN\",\"NaN\",\"NaN\",\"NaN\",\"NaN\",\"Top College Author\",\"NaN\",\"NaN\",\"NaN\",\"NaN\",\"NaN\",\"NaN\",\"NaN\",\"NaN\",\"NaN\",\"NaN\",\"NaN\",\"NaN\",\"NaN\",\"NaN\",\"Top College Author\",\"NaN\",\"Top College Author\",\"Top College Author\",\"Top College Author\",\"NaN\",\"NaN\",\"NaN\",\"NaN\",\"Top College Author\",\"NaN\",\"NaN\",\"NaN\"],\"Open_Syllabus_200_Text\":[\"NaN\",\"NaN\",\"NaN\",\"NaN\",\"Top College Text\",\"Top College Text\",\"Top College Text\",\"NaN\",\"Top College Text\",\"Top College Text\",\"Top College Text\",\"Top College Text\",\"Top College Text\",\"Top College Text\",\"Top College Text\",\"NaN\",\"Top College Text\",\"NaN\",\"NaN\",\"Top College Text\",\"Top College Text\",\"Top College Text\",\"NaN\",\"NaN\",\"NaN\",\"NaN\",\"NaN\",\"Top College Text\",\"Top College Text\",\"NaN\",\"Top College Text\",\"Top College Text\",\"NaN\",\"NaN\",\"Top College Text\",\"NaN\",\"NaN\",\"NaN\",\"NaN\",\"NaN\",\"NaN\",\"NaN\",\"NaN\",\"NaN\",\"NaN\",\"Top College Text\",\"Top College Text\",\"NaN\",\"NaN\",\"NaN\",\"Top College Text\",\"NaN\",\"NaN\",\"NaN\",\"Top College Text\",\"Top College Text\",\"NaN\",\"Top College Text\",\"Top College Text\",\"NaN\",\"NaN\",\"NaN\",\"NaN\",\"NaN\",\"NaN\",\"NaN\",\"NaN\",\"NaN\",\"NaN\",\"NaN\",\"NaN\",\"Top College Text\",\"Top College Text\",\"Top College Text\",\"NaN\",\"NaN\",\"NaN\",\"NaN\",\"NaN\",\"NaN\",\"NaN\",\"NaN\",\"Top College Text\",\"NaN\",\"NaN\",\"NaN\",\"NaN\",\"NaN\",\"NaN\",\"NaN\",\"NaN\",\"NaN\",\"NaN\",\"NaN\",\"NaN\",\"Top College Text\",\"NaN\",\"Top College Text\",\"NaN\",\"NaN\",\"NaN\",\"NaN\",\"NaN\",\"NaN\",\"NaN\",\"NaN\",\"NaN\",\"NaN\",\"NaN\",\"NaN\",\"NaN\",\"NaN\",\"NaN\",\"Top College Text\",\"NaN\",\"NaN\",\"NaN\",\"NaN\",\"NaN\",\"NaN\",\"NaN\",\"NaN\",\"NaN\",\"NaN\",\"NaN\",\"NaN\",\"NaN\",\"NaN\",\"Top College Text\",\"NaN\",\"NaN\",\"NaN\",\"Top College Text\",\"NaN\",\"NaN\",\"NaN\",\"NaN\",\"Top College Text\",\"NaN\",\"NaN\",\"NaN\"],\"author\":[\"Homer\",\"Homer\",\"Unknown\",\"Geoffrey Chaucer\",\"Niccol\\u00f2 Machiavelli\",\"William Shakespeare\",\"William Shakespeare\",\"William Shakespeare\",\"William Shakespeare\",\"William Shakespeare\",\"Miguel de Cervantes Saavedra\",\"William Shakespeare\",\"Daniel Defoe\",\"Jonathan Swift\",\"Voltaire\",\"Jane Austen\",\"Jane Austen\",\"Jane Austen\",\"Jane Austen\",\"Jane Austen\",\"Jane Austen\",\"Mary Wollstonecraft Shelley\",\"Victor Hugo\",\"Charles Dickens\",\"Charles Dickens\",\"Alexandre Dumas\",\"Frederick Douglass\",\"Charlotte Bront\\u00eb\",\"Emily Bront\\u00eb\",\"Charles Dickens\",\"Nathaniel Hawthorne\",\"Harriet Beecher Stowe\",\"Gustave Flaubert\",\"Charles Dickens\",\"Charles Dickens\",\"Victor Hugo\",\"Victor Hugo\",\"Jules Verne\",\"Lewis Carroll\",\"Leo Tolstoy\",\"Louisa May Alcott\",\"Jules Verne\",\"Mark Twain\",\"Leo Tolstoy\",\"Robert Louis Stevenson\",\"Mark Twain\",\"Robert Louis Stevenson\",\"Leo Tolstoy\",\"Arthur Conan Doyle\",\"Frances Hodgson Burnett\",\"Oscar Wilde\",\"Thomas Hardy\",\"Charlotte Perkins Gilman\",\"H.G. Wells\",\"Oscar Wilde\",\"Bram Stoker\",\"H.G. Wells\",\"Henry James\",\"Joseph Conrad\",\"L. Frank Baum\",\"James Allen\",\"Jack London\",\"J.M. Barrie\",\"L.M. Montgomery\",\"Frances Hodgson Burnett\",\"Gaston Leroux\",\"Franz Kafka\",\"Agatha Christie\",\"Hermann Hesse\",\"Agatha Christie\",\"Kahlil Gibran\",\"Virginia Woolf\",\"F. Scott Fitzgerald\",\"Ernest Hemingway\",\"Ernest Hemingway\",\"Virginia Woolf\",\"Aldous Huxley\",\"Agatha Christie\",\"Margaret Mitchell\",\"Agatha Christie\",\"John Steinbeck\",\"J.R.R. Tolkien\",\"Zora Neale Hurston\",\"Daphne du Maurier\",\"Kathrine Kressmann Taylor\",\"Agatha Christie\",\"John Steinbeck\",\"John Steinbeck\",\"Albert Camus\",\"Stefan Zweig\",\"Antoine de Saint-Exup\\u00e9ry\",\"Betty Smith\",\"George Orwell\",\"John Steinbeck\",\"Anne Frank\",\"George Orwell\",\"C.S. Lewis\",\"J.D. Salinger\",\"C.S. Lewis\",\"Ernest Hemingway\",\"John Steinbeck\",\"E.B. White\",\"Ray Bradbury\",\"Arthur Miller\",\"J.R.R. Tolkien\",\"J.R.R. Tolkien\",\"C.S. Lewis\",\"Richard Matheson\",\"William Golding\",\"J.R.R. Tolkien\",\"C.S. Lewis\",\"Vladimir Nabokov\",\"Truman Capote\",\"Chinua Achebe\",\"Harper Lee\",\"Joseph Heller\",\"Philip K. Dick\",\"Ken Kesey\",\"Anthony Burgess\",\"Sylvia Plath\",\"Frank Herbert\",\"Truman Capote\",\"Daniel Keyes\",\"S.E. Hinton\",\"Gabriel Garc\\u00eda M\\u00e1rquez\",\"Philip K. Dick\",\"Kurt Vonnegut\",\"Ursula K. Le Guin\",\"Toni Morrison\",\"Richard Bach\",\"Stephen King\",\"Alice Walker\",\"Margaret Atwood\",\"Gary Paulsen\",\"Paulo Coelho\",\"Roald Dahl\",\"Laura Esquivel\",\"Tim O'Brien\",\"Lois Lowry\",\"Mitch Albom\",\"Mitch Albom\"],\"author_nationality\":[\"Greek\",\"Greek\",\"Unknown\",\"British\",\"Italian\",\"British\",\"British\",\"British\",\"British\",\"British\",\"Spanish\",\"British\",\"British\",\"Irish\",\"French\",\"British\",\"British\",\"British\",\"British\",\"British\",\"British\",\"British\",\"French\",\"British\",\"British\",\"French\",\"American\",\"British\",\"British\",\"British\",\"American\",\"American\",\"French\",\"British\",\"British\",\"French\",\"French\",\"French\",\"British\",\"Russian\",\"American\",\"French\",\"American\",\"Russian\",\"Scottish\",\"American\",\"Scottish\",\"Russian\",\"Scottish\",\"British-American\",\"British\",\"British\",\"American\",\"British\",\"British\",\"Irish\",\"British\",\"American\",\"Polish (British Citizenship)\",\"American\",\"British\",\"American\",\"Scottish\",\"Canadian\",\"British-American\",\"French\",\"Bohemian\",\"British\",\"German-Swiss\",\"British\",\"Lebanese-American\",\"British\",\"American\",\"American\",\"American\",\"British\",\"British\",\"British\",\"American\",\"British\",\"American\",\"British\",\"American\",\"British\",\"American\",\"British\",\"American\",\"American\",\"French\",\"Austrian\",\"French\",\"American\",\"British\",\"American\",\"German-Dutch\",\"British\",\"British\",\"American\",\"British\",\"American\",\"American\",\"American\",\"American\",\"American\",\"British\",\"British\",\"British\",\"American\",\"British\",\"British\",\"British\",\"Russian-American\",\"American\",\"Nigerian\",\"American\",\"American\",\"American\",\"American\",\"British\",\"American\",\"American\",\"American\",\"American\",\"American\",\"Colombian\",\"American\",\"American\",\"American\",\"American\",\"American\",\"American\",\"American\",\"Canadian\",\"American\",\"Brazilian\",\"British\",\"Mexican\",\"American\",\"American\",\"American\",\"American\"],\"gender\":[\"M\",\"M\",\"M\",\"M\",\"M\",\"M\",\"M\",\"M\",\"M\",\"M\",\"M\",\"M\",\"M\",\"M\",\"M\",\"W\",\"W\",\"W\",\"W\",\"W\",\"W\",\"W\",\"M\",\"M\",\"M\",\"M\",\"M\",\"W\",\"W\",\"M\",\"M\",\"W\",\"M\",\"M\",\"M\",\"M\",\"M\",\"M\",\"M\",\"M\",\"W\",\"M\",\"M\",\"M\",\"M\",\"M\",\"M\",\"M\",\"M\",\"W\",\"M\",\"M\",\"W\",\"M\",\"M\",\"M\",\"M\",\"M\",\"M\",\"M\",\"M\",\"M\",\"M\",\"W\",\"W\",\"M\",\"M\",\"W\",\"M\",\"W\",\"M\",\"W\",\"M\",\"M\",\"M\",\"W\",\"M\",\"W\",\"W\",\"W\",\"M\",\"M\",\"W\",\"W\",\"W\",\"W\",\"M\",\"M\",\"M\",\"M\",\"M\",\"W\",\"M\",\"M\",\"M\",\"M\",\"M\",\"M\",\"M\",\"M\",\"M\",\"M\",\"M\",\"M\",\"M\",\"M\",\"M\",\"M\",\"M\",\"M\",\"M\",\"M\",\"M\",\"M\",\"W\",\"M\",\"M\",\"M\",\"M\",\"W\",\"M\",\"M\",\"M\",\"W\",\"M\",\"M\",\"M\",\"W\",\"W\",\"M\",\"M\",\"W\",\"W\",\"M\",\"M\",\"M\",\"W\",\"M\",\"W\",\"M\",\"M\"],\"index\":[0,1,2,3,4,5,6,7,8,9,10,11,12,13,14,15,16,17,18,19,20,21,22,23,24,25,26,27,28,29,30,31,32,33,34,35,36,37,38,39,40,41,42,43,44,45,46,47,48,49,50,51,52,53,54,55,56,57,58,59,60,61,62,63,64,65,66,67,68,69,70,71,72,73,74,75,76,77,78,79,80,81,82,83,84,85,86,87,88,89,90,91,92,93,94,95,96,97,98,99,100,101,102,103,104,105,106,107,108,109,110,111,112,113,114,115,116,117,118,119,120,121,122,123,124,125,126,127,128,129,130,131,132,133,134,135,136,137,138,139,140],\"mostPopularRank\":[\"25\",\"50\",\"82\",\"83\",\"FALSE\",\"9\",\"46\",\"94\",\"28\",\"68\",\"69\",\"31\",\"78\",\"72\",\"89\",\"15\",\"1\",\"42\",\"16\",\"23\",\"38\",\"11\",\"97\",\"53\",\"30\",\"24\",\"FALSE\",\"4\",\"6\",\"75\",\"21\",\"96\",\"67\",\"19\",\"20\",\"34\",\"34\",\"FALSE\",\"FALSE\",\"58\",\"12\",\"FALSE\",\"35\",\"27\",\"51\",\"17\",\"47\",\"FALSE\",\"FALSE\",\"88\",\"14\",\"65\",\"FALSE\",\"71\",\"66\",\"22\",\"FALSE\",\"FALSE\",\"55\",\"73\",\"FALSE\",\"84\",\"74\",\"44\",\"32\",\"90\",\"56\",\"FALSE\",\"98\",\"FALSE\",\"FALSE\",\"91\",\"3\",\"81\",\"95\",\"FALSE\",\"26\",\"FALSE\",\"41\",\"FALSE\",\"13\",\"29\",\"FALSE\",\"54\",\"FALSE\",\"FALSE\",\"39\",\"39\",\"64\",\"FALSE\",\"40\",\"92\",\"8\",\"FALSE\",\"37\",\"5\",\"63\",\"7\",\"FALSE\",\"36\",\"62\",\"86\",\"18\",\"76\",\"59\",\"93\",\"FALSE\",\"FALSE\",\"10\",\"99\",\"FALSE\",\"48\",\"FALSE\",\"FALSE\",\"2\",\"52\",\"FALSE\",\"70\",\"80\",\"57\",\"FALSE\",\"FALSE\",\"FALSE\",\"77\",\"79\",\"FALSE\",\"43\",\"FALSE\",\"FALSE\",\"FALSE\",\"FALSE\",\"100\",\"61\",\"FALSE\",\"FALSE\",\"FALSE\",\"FALSE\",\"FALSE\",\"87\",\"FALSE\",\"FALSE\"],\"mostReadRank\":[\"FALSE\",\"FALSE\",\"49\",\"FALSE\",\"93\",\"40\",\"77\",\"FALSE\",\"39\",\"97\",\"FALSE\",\"69\",\"FALSE\",\"FALSE\",\"82\",\"FALSE\",\"6\",\"FALSE\",\"94\",\"61\",\"65\",\"13\",\"FALSE\",\"FALSE\",\"FALSE\",\"FALSE\",\"59\",\"24\",\"38\",\"FALSE\",\"96\",\"FALSE\",\"FALSE\",\"83\",\"FALSE\",\"FALSE\",\"FALSE\",\"81\",\"22\",\"FALSE\",\"20\",\"98\",\"FALSE\",\"63\",\"18\",\"FALSE\",\"25\",\"67\",\"47\",\"FALSE\",\"FALSE\",\"FALSE\",\"79\",\"48\",\"57\",\"46\",\"87\",\"74\",\"45\",\"50\",\"95\",\"43\",\"89\",\"34\",\"41\",\"FALSE\",\"11\",\"27\",\"30\",\"51\",\"64\",\"88\",\"8\",\"FALSE\",\"FALSE\",\"76\",\"16\",\"12\",\"FALSE\",\"52\",\"14\",\"15\",\"66\",\"54\",\"99\",\"10\",\"92\",\"92\",\"19\",\"37\",\"7\",\"FALSE\",\"2\",\"70\",\"31\",\"4\",\"23\",\"17\",\"68\",\"9\",\"90\",\"78\",\"5\",\"FALSE\",\"35\",\"FALSE\",\"60\",\"91\",\"FALSE\",\"80\",\"32\",\"FALSE\",\"58\",\"56\",\"FALSE\",\"FALSE\",\"62\",\"FALSE\",\"FALSE\",\"FALSE\",\"44\",\"75\",\"26\",\"36\",\"FALSE\",\"53\",\"29\",\"71\",\"21\",\"84\",\"42\",\"55\",\"1\",\"72\",\"3\",\"33\",\"100\",\"73\",\"FALSE\",\"28\",\"86\"],\"numRatings\":[797889,320638,211041,175741,227885,1890960,411919,202408,662353,288265,187407,610118,227683,214063,201910,880179,2637514,262706,577825,477182,273808,1042679,157017,292392,538390,689613,82628,1470100,1198251,186115,647339,181538,224978,755280,596245,622352,622352,134234,185806,241066,1483164,166870,692956,593498,362797,1087891,329730,74979,280876,255668,840393,222054,70726,367889,279673,832081,218415,83463,372518,330076,49697,296318,238942,644993,806696,184186,541216,210959,512959,36413,206822,199000,3355948,343521,243560,97213,1289620,309924,1007880,99720,1758926,2573937,235193,398003,5737,666849,676785,676785,609739,53459,1137905,359730,2407884,173042,2451551,2678662,1928778,2473076,314959,725974,391324,1278922,1459387,295964,2138793,637259,245379,81168,2042779,603807,363973,603255,196046,257817,4027181,675293,149357,584263,545903,530574,635812,475850,428030,827348,678054,302673,1035089,102251,141998,180940,991149,467743,1181201,273262,1808108,537946,310020,230690,1577126,702068,534984],\"numRatingsAbbrev\":[\"798k\",\"321k\",\"211k\",\"176k\",\"228k\",\"2M\",\"412k\",\"202k\",\"662k\",\"288k\",\"187k\",\"610k\",\"228k\",\"214k\",\"202k\",\"880k\",\"3M\",\"263k\",\"578k\",\"477k\",\"274k\",\"1M\",\"157k\",\"292k\",\"538k\",\"690k\",\"83k\",\"1M\",\"1M\",\"186k\",\"647k\",\"182k\",\"225k\",\"755k\",\"596k\",\"622k\",\"622k\",\"134k\",\"186k\",\"241k\",\"1M\",\"167k\",\"693k\",\"593k\",\"363k\",\"1M\",\"330k\",\"75k\",\"281k\",\"256k\",\"840k\",\"222k\",\"71k\",\"368k\",\"280k\",\"832k\",\"218k\",\"83k\",\"373k\",\"330k\",\"50k\",\"296k\",\"239k\",\"645k\",\"807k\",\"184k\",\"541k\",\"211k\",\"513k\",\"36k\",\"207k\",\"199k\",\"3M\",\"344k\",\"244k\",\"97k\",\"1M\",\"310k\",\"1M\",\"100k\",\"2M\",\"3M\",\"235k\",\"398k\",\"6k\",\"667k\",\"677k\",\"677k\",\"610k\",\"53k\",\"1M\",\"360k\",\"2M\",\"173k\",\"2M\",\"3M\",\"2M\",\"2M\",\"315k\",\"726k\",\"391k\",\"1M\",\"1M\",\"296k\",\"2M\",\"637k\",\"245k\",\"81k\",\"2M\",\"604k\",\"364k\",\"603k\",\"196k\",\"258k\",\"4M\",\"675k\",\"149k\",\"584k\",\"546k\",\"531k\",\"636k\",\"476k\",\"428k\",\"827k\",\"678k\",\"303k\",\"1M\",\"102k\",\"142k\",\"181k\",\"991k\",\"468k\",\"1M\",\"273k\",\"2M\",\"538k\",\"310k\",\"231k\",\"2M\",\"702k\",\"535k\"],\"numReviews\":[10618,6194,5864,3077,7186,17592,7141,3356,11213,5603,7041,9800,5851,4967,6857,14284,58234,8580,14557,15937,10946,27498,4320,6714,15475,18969,3671,37204,32027,5748,13502,7038,9403,15696,14538,14529,14529,4538,7999,10116,20259,5837,8845,21404,9998,14289,10871,4089,8994,6328,25419,7960,3484,9545,8061,21676,6625,6111,12342,11130,2666,8863,9490,18806,16188,5813,14357,6073,15010,2284,8140,8388,60661,11711,8735,5762,26039,19990,18435,3896,30536,43183,11661,19878,833,26342,15411,15411,19637,3688,33184,18884,47471,7650,25637,59674,18990,52078,6049,21684,17332,16071,41581,6773,19166,8947,6341,5105,33336,8478,11215,21982,9427,12455,83760,16672,10351,9769,12298,20194,17349,14777,15511,29757,26874,11537,24228,7602,6641,6899,19691,12718,59562,13019,70130,14293,8173,13032,61653,23054,19066],\"numReviewsAbbrev\":[\"11k\",\"6k\",\"6k\",\"3k\",\"7k\",\"18k\",\"7k\",\"3k\",\"11k\",\"6k\",\"7k\",\"10k\",\"6k\",\"5k\",\"7k\",\"14k\",\"58k\",\"9k\",\"15k\",\"16k\",\"11k\",\"27k\",\"4k\",\"7k\",\"15k\",\"19k\",\"4k\",\"37k\",\"32k\",\"6k\",\"14k\",\"7k\",\"9k\",\"16k\",\"15k\",\"15k\",\"15k\",\"5k\",\"8k\",\"10k\",\"20k\",\"6k\",\"9k\",\"21k\",\"10k\",\"14k\",\"11k\",\"4k\",\"9k\",\"6k\",\"25k\",\"8k\",\"3k\",\"10k\",\"8k\",\"22k\",\"7k\",\"6k\",\"12k\",\"11k\",\"3k\",\"9k\",\"9k\",\"19k\",\"16k\",\"6k\",\"14k\",\"6k\",\"15k\",\"2k\",\"8k\",\"8k\",\"61k\",\"12k\",\"9k\",\"6k\",\"26k\",\"20k\",\"18k\",\"4k\",\"31k\",\"43k\",\"12k\",\"20k\",\"833\",\"26k\",\"15k\",\"15k\",\"20k\",\"4k\",\"33k\",\"19k\",\"47k\",\"8k\",\"26k\",\"60k\",\"19k\",\"52k\",\"6k\",\"22k\",\"17k\",\"16k\",\"42k\",\"7k\",\"19k\",\"9k\",\"6k\",\"5k\",\"33k\",\"8k\",\"11k\",\"22k\",\"9k\",\"12k\",\"84k\",\"17k\",\"10k\",\"10k\",\"12k\",\"20k\",\"17k\",\"15k\",\"16k\",\"30k\",\"27k\",\"12k\",\"24k\",\"8k\",\"7k\",\"7k\",\"20k\",\"13k\",\"60k\",\"13k\",\"70k\",\"14k\",\"8k\",\"13k\",\"62k\",\"23k\",\"19k\"],\"original_language\":[\"Greek\",\"Greek\",\"Old English\",\"English\",\"Italian\",\"English\",\"English\",\"English\",\"English\",\"English\",\"Spanish\",\"English\",\"English\",\"English\",\"French\",\"English\",\"English\",\"English\",\"English\",\"English\",\"English\",\"English\",\"French\",\"English\",\"English\",\"French\",\"English\",\"English\",\"English\",\"English\",\"English\",\"English\",\"French\",\"English\",\"English\",\"French\",\"French\",\"French\",\"English\",\"Russian\",\"English\",\"French\",\"English\",\"Russian\",\"English\",\"English\",\"English\",\"Russian\",\"English\",\"English\",\"English\",\"English\",\"English\",\"English\",\"English\",\"English\",\"English\",\"English\",\"English\",\"English\",\"English\",\"English\",\"English\",\"English\",\"English\",\"French\",\"German\",\"English\",\"German\",\"English\",\"English\",\"English\",\"English\",\"English\",\"English\",\"English\",\"English\",\"English\",\"English\",\"English\",\"English\",\"English\",\"English\",\"English\",\"English\",\"English\",\"English\",\"English\",\"French\",\"German\",\"French\",\"English\",\"English\",\"English\",\"Dutch\",\"English\",\"English\",\"English\",\"English\",\"English\",\"English\",\"English\",\"English\",\"English\",\"English\",\"English\",\"English\",\"English\",\"English\",\"English\",\"English\",\"English\",\"English\",\"English\",\"English\",\"English\",\"English\",\"English\",\"English\",\"English\",\"English\",\"English\",\"English\",\"English\",\"Spanish\",\"English\",\"English\",\"English\",\"English\",\"English\",\"English\",\"English\",\"English\",\"English\",\"Portuguese\",\"English\",\"Spanish\",\"English\",\"English\",\"English\",\"English\"],\"publication_date\":[700,750,975,1390,1513,1595,1595,1598,1603,1603,1605,1606,1719,1726,1759,1811,1813,1814,1815,1818,1818,1818,1831,1838,1843,1844,1845,1847,1847,1849,1850,1852,1856,1859,1861,1862,1862,1864,1865,1867,1869,1873,1875,1877,1882,1884,1886,1886,1887,1890,1890,1891,1892,1895,1895,1897,1898,1898,1899,1900,1902,1903,1904,1908,1910,1910,1915,1920,1922,1923,1923,1925,1926,1926,1929,1929,1932,1934,1936,1937,1937,1937,1937,1938,1938,1939,1939,1939,1942,1942,1943,1943,1945,1945,1947,1949,1950,1951,1951,1952,1952,1952,1953,1953,1954,1954,1954,1954,1954,1955,1955,1955,1958,1959,1960,1961,1962,1962,1962,1963,1965,1965,1966,1967,1967,1968,1969,1969,1970,1970,1977,1982,1985,1986,1988,1988,1989,1990,1993,1997,2003],\"race/ethnicity\":[\"White\",\"White\",\"White\",\"White\",\"White\",\"White\",\"White\",\"White\",\"White\",\"White\",\"White\",\"White\",\"White\",\"White\",\"White\",\"White\",\"White\",\"White\",\"White\",\"White\",\"White\",\"White\",\"White\",\"White\",\"White\",\"Black\",\"Black\",\"White\",\"White\",\"White\",\"White\",\"White\",\"White\",\"White\",\"White\",\"White\",\"White\",\"White\",\"White\",\"White\",\"White\",\"White\",\"White\",\"White\",\"White\",\"White\",\"White\",\"White\",\"White\",\"White\",\"White\",\"White\",\"White\",\"White\",\"White\",\"White\",\"White\",\"White\",\"White\",\"White\",\"White\",\"White\",\"White\",\"White\",\"White\",\"White\",\"White\",\"White\",\"White\",\"White\",\"Lebanese-American\",\"White\",\"White\",\"White\",\"White\",\"White\",\"White\",\"White\",\"White\",\"White\",\"White\",\"White\",\"Black\",\"White\",\"White\",\"White\",\"White\",\"White\",\"White\",\"White\",\"White\",\"White\",\"White\",\"White\",\"White\",\"White\",\"White\",\"White\",\"White\",\"White\",\"White\",\"White\",\"White\",\"White\",\"White\",\"White\",\"White\",\"White\",\"White\",\"White\",\"White\",\"White\",\"White\",\"Black\",\"White\",\"White\",\"White\",\"White\",\"White\",\"White\",\"White\",\"White\",\"White\",\"White\",\"White\",\"White\",\"White\",\"White\",\"Black\",\"White\",\"White\",\"Black\",\"White\",\"White\",\"White\",\"White\",\"Mexican\",\"White\",\"White\",\"White\",\"White\"],\"title\":[\"The Odyssey\",\"The Iliad\",\"Beowulf\",\"The Canterbury Tales\",\"The Prince\",\"Romeo and Juliet\",\"A Midsummer Night's Dream\",\"Much Ado About Nothing\",\"Hamlet\",\"Othello\",\"Don Quixote\",\"Macbeth\",\"Robinson Crusoe\",\"Gulliver's Travels\",\"Candide\",\"Sense and Sensibility\",\"Pride and Prejudice\",\"Mansfield Park\",\"Emma\",\"Persuasion\",\"Northanger Abbey\",\"Frankenstein\",\"The Hunchback of Notre-Dame\",\"Oliver Twist\",\"A Christmas Carol\",\"The Count of Monte Cristo\",\"Narrative of the Life of Frederick Douglass\",\"Jane Eyre\",\"Wuthering Heights\",\"David Copperfield\",\"The Scarlet Letter\",\"Uncle Tom's Cabin\",\"Madame Bovary\",\"A Tale of Two Cities\",\"Great Expectations\",\"Les Mis\\u00e9rables\",\"Les Mis\\u00e9rables\",\"Journey to the Center of the Earth\",\"Alice's Adventures in Wonderland\",\"War and Peace\",\"Little Women\",\"Around the World in Eighty Days\",\"The Adventures of Tom Sawyer\",\"Anna Karenina\",\"Treasure Island\",\"The Adventures of Huckleberry Finn\",\"The Strange Case of Dr. Jekyll and Mr. Hyde\",\"The Death of Ivan Ilych\",\"A Study in Scarlet\",\"A Little Princess\",\"The Picture of Dorian Gray\",\"Tess of the D'Urbervilles\",\"The Yellow Wall-Paper\",\"The Time Machine\",\"The Importance of Being Earnest\",\"Dracula\",\"The War of the Worlds\",\"The Turn of the Screw\",\"Heart of Darkness\",\"The Wonderful Wizard of Oz\",\"As a Man Thinketh\",\"The Call of the Wild\",\"Peter Pan\",\"Anne of Green Gables\",\"The Secret Garden\",\"The Phantom of the Opera\",\"The Metamorphosis\",\"The Mysterious Affair at Styles\",\"Siddhartha\",\"The Murder on the Links\",\"The Prophet\",\"Mrs. Dalloway\",\"The Great Gatsby\",\"The Sun Also Rises\",\"A Farewell to Arms\",\"A Room of One's Own\",\"Brave New World\",\"Murder on the Orient Express\",\"Gone with the Wind\",\"Death on the Nile\",\"Of Mice and Men\",\"The Hobbit or There and Back Again\",\"Their Eyes Were Watching God\",\"Rebecca\",\"Address Unknown\",\"And Then There Were None\",\"The Grapes of Wrath\",\"The Grapes of Wrath\",\"The Stranger\",\"Chess Story\",\"The Little Prince\",\"A Tree Grows in Brooklyn\",\"Animal Farm\",\"The Pearl\",\"The Diary of a Young Girl\",\"1984\",\"The Lion, the Witch and the Wardrobe\",\"The Catcher in the Rye\",\"Prince Caspian\",\"The Old Man and the Sea\",\"East of Eden\",\"Charlotte's Web\",\"Fahrenheit 451\",\"The Crucible\",\"The Fellowship of the Ring\",\"The Two Towers\",\"The Horse and His Boy\",\"I Am Legend\",\"Lord of the Flies\",\"The Return of the King\",\"The Magician's Nephew\",\"Lolita\",\"Breakfast at Tiffany's\",\"Things Fall Apart\",\"To Kill a Mockingbird\",\"Catch-22\",\"The Man in the High Castle\",\"One Flew Over the Cuckoo's Nest\",\"A Clockwork Orange\",\"The Bell Jar\",\"Dune\",\"In Cold Blood\",\"Flowers for Algernon\",\"The Outsiders\",\"One Hundred Years of Solitude\",\"Do Androids Dream of Electric Sheep?\",\"Slaughterhouse-Five\",\"The Left Hand of Darkness\",\"The Bluest Eye\",\"Jonathan Livingston Seagull\",\"The Shining\",\"The Color Purple\",\"The Handmaid's Tale\",\"Hatchet\",\"The Alchemist\",\"Matilda\",\"Like Water for Chocolate\",\"The Things They Carried\",\"The Giver\",\"Tuesdays with Morrie\",\"The Five People You Meet in Heaven\"],\"whichListCategory\":[\"Most Shelved\",\"Most Shelved\",\"Most Shelved and Most Read\",\"Most Shelved\",\"Most Read\",\"Most Shelved and Most Read\",\"Most Shelved and Most Read\",\"Most Shelved\",\"Most Shelved and Most Read\",\"Most Shelved and Most Read\",\"Most Shelved\",\"Most Shelved and Most Read\",\"Most Shelved\",\"Most Shelved\",\"Most Shelved and Most Read\",\"Most Shelved\",\"Most Shelved and Most Read\",\"Most Shelved\",\"Most Shelved and Most Read\",\"Most Shelved and Most Read\",\"Most Shelved and Most Read\",\"Most Shelved and Most Read\",\"Most Shelved\",\"Most Shelved\",\"Most Shelved\",\"Most Shelved\",\"Most Read\",\"Most Shelved and Most Read\",\"Most Shelved and Most Read\",\"Most Shelved\",\"Most Shelved and Most Read\",\"Most Shelved\",\"Most Shelved\",\"Most Shelved and Most Read\",\"Most Shelved\",\"Most Shelved\",\"Most Shelved\",\"Most Read\",\"Most Read\",\"Most Shelved\",\"Most Shelved and Most Read\",\"Most Read\",\"Most Shelved\",\"Most Shelved and Most Read\",\"Most Shelved and Most Read\",\"Most Shelved\",\"Most Shelved and Most Read\",\"Most Read\",\"Most Read\",\"Most Shelved\",\"Most Shelved\",\"Most Shelved\",\"Most Read\",\"Most Shelved and Most Read\",\"Most Shelved and Most Read\",\"Most Shelved and Most Read\",\"Most Read\",\"Most Read\",\"Most Shelved and Most Read\",\"Most Shelved and Most Read\",\"Most Read\",\"Most Shelved and Most Read\",\"Most Shelved and Most Read\",\"Most Shelved and Most Read\",\"Most Shelved and Most Read\",\"Most Shelved\",\"Most Shelved and Most Read\",\"Most Read\",\"Most Shelved and Most Read\",\"Most Read\",\"Most Read\",\"Most Shelved and Most Read\",\"Most Shelved and Most Read\",\"Most Shelved\",\"Most Shelved\",\"Most Read\",\"Most Shelved and Most Read\",\"Most Read\",\"Most Shelved\",\"Most Read\",\"Most Shelved and Most Read\",\"Most Shelved and Most Read\",\"Most Read\",\"Most Shelved and Most Read\",\"Most Read\",\"Most Read\",\"Most Shelved and Most Read\",\"Most Shelved and Most Read\",\"Most Shelved and Most Read\",\"Most Read\",\"Most Shelved and Most Read\",\"Most Shelved\",\"Most Shelved and Most Read\",\"Most Read\",\"Most Shelved and Most Read\",\"Most Shelved and Most Read\",\"Most Shelved and Most Read\",\"Most Shelved and Most Read\",\"Most Read\",\"Most Shelved and Most Read\",\"Most Shelved and Most Read\",\"Most Shelved and Most Read\",\"Most Shelved and Most Read\",\"Most Shelved\",\"Most Shelved and Most Read\",\"Most Shelved\",\"Most Read\",\"Most Read\",\"Most Shelved\",\"Most Shelved and Most Read\",\"Most Read\",\"Most Shelved\",\"Most Read\",\"Most Read\",\"Most Shelved\",\"Most Shelved\",\"Most Read\",\"Most Shelved\",\"Most Shelved\",\"Most Shelved\",\"Most Read\",\"Most Read\",\"Most Read\",\"Most Shelved and Most Read\",\"Most Shelved\",\"Most Read\",\"Most Shelved and Most Read\",\"Most Read\",\"Most Read\",\"Most Read\",\"Most Read\",\"Most Shelved and Most Read\",\"Most Shelved and Most Read\",\"Most Read\",\"Most Read\",\"Most Read\",\"Most Read\",\"Most Read\",\"Most Shelved\",\"Most Read\",\"Most Read\"],\"yearFirstPublished\":[700,750,975,1390,1513,1595,1595,1598,1603,1603,1605,1606,1719,1726,1759,1811,1813,1814,1815,1818,1818,1818,1831,1838,1843,1844,1845,1847,1847,1849,1850,1852,1856,1859,1861,1862,1862,1864,1865,1867,1869,1873,1875,1877,1882,1884,1886,1886,1887,1890,1890,1891,1892,1895,1895,1897,1898,1898,1899,1900,1902,1903,1904,1908,1910,1910,1915,1920,1922,1923,1923,1925,1926,1926,1929,1929,1932,1934,1936,1937,1937,1937,1937,1938,1938,1939,1939,1939,1942,1942,1943,1943,1945,1945,1947,1949,1950,1951,1951,1952,1952,1952,1953,1953,1954,1954,1954,1954,1954,1955,1955,1955,1958,1959,1960,1961,1962,1962,1962,1963,1965,1965,1966,1967,1967,1968,1969,1969,1970,1970,1977,1982,1985,1986,1988,1988,1989,1990,1993,1997,2003]},\"selected\":{\"id\":\"1917\"},\"selection_policy\":{\"id\":\"1918\"}},\"id\":\"1820\",\"type\":\"ColumnDataSource\"},{\"attributes\":{},\"id\":\"2888\",\"type\":\"LinearScale\"},{\"attributes\":{\"axis_label\":\"Number of Goodreads Ratings\",\"formatter\":{\"id\":\"2920\"},\"ticker\":{\"id\":\"2895\"}},\"id\":\"2894\",\"type\":\"LinearAxis\"},{\"attributes\":{},\"id\":\"2899\",\"type\":\"WheelZoomTool\"},{\"attributes\":{\"axis\":{\"id\":\"2894\"},\"dimension\":1,\"ticker\":null},\"id\":\"2897\",\"type\":\"Grid\"},{\"attributes\":{\"end\":2050,\"start\":1500},\"id\":\"2882\",\"type\":\"Range1d\"},{\"attributes\":{\"callback\":null,\"tooltips\":[[\"Title\",\"@title\"],[\"Author\",\"@author\"],[\"Publication Date\",\"@publication_date\"],[\"AmazonClassics Edition\",\"@AmazonClassics_edition\"],[\"Nationality\",\"@author_nationality\"]]},\"id\":\"2905\",\"type\":\"HoverTool\"},{\"attributes\":{\"fill_color\":{\"field\":\"author_nationality\",\"transform\":{\"id\":\"2914\"}},\"line_color\":{\"field\":\"author_nationality\",\"transform\":{\"id\":\"2914\"}},\"size\":{\"units\":\"screen\",\"value\":30},\"x\":{\"field\":\"publication_date\"},\"y\":{\"field\":\"numRatings\"}},\"id\":\"2916\",\"type\":\"Circle\"},{\"attributes\":{},\"id\":\"2898\",\"type\":\"PanTool\"},{\"attributes\":{\"factors\":[\"Greek\",\"Unknown\",\"British\",\"Italian\",\"Spanish\",\"Irish\",\"French\",\"American\",\"Russian\",\"Scottish\",\"British-American\",\"Polish (British Citizenship)\",\"Canadian\",\"Bohemian\",\"German-Swiss\",\"Lebanese-American\",\"Austrian\",\"German-Dutch\",\"Russian-American\",\"Nigerian\",\"Colombian\",\"Brazilian\",\"Mexican\"],\"palette\":[\"#c8ee33\",\"#8efe48\",\"#c02302\",\"#f2c83a\",\"#8e0a01\",\"#ac1601\",\"#4af880\",\"#467df4\",\"#ea500d\",\"#448cfd\",\"#30123b\",\"#36a8f9\",\"#fe9e2e\",\"#d02f04\",\"#372365\",\"#95fe44\",\"#f8be39\",\"#392972\",\"#d4e735\",\"#4678f0\",\"#f66b18\",\"#7a0402\",\"#fe982c\"]},\"id\":\"2914\",\"type\":\"CategoricalColorMapper\"},{\"attributes\":{\"bottom_units\":\"screen\",\"fill_alpha\":0.5,\"fill_color\":\"lightgrey\",\"left_units\":\"screen\",\"level\":\"overlay\",\"line_alpha\":1.0,\"line_color\":\"black\",\"line_dash\":[4,4],\"line_width\":2,\"render_mode\":\"css\",\"right_units\":\"screen\",\"top_units\":\"screen\"},\"id\":\"2904\",\"type\":\"BoxAnnotation\"},{\"attributes\":{\"text\":\"The Goodreads 'Classics'\"},\"id\":\"2880\",\"type\":\"Title\"},{\"attributes\":{\"axis\":{\"id\":\"2890\"},\"ticker\":null},\"id\":\"2893\",\"type\":\"Grid\"},{\"attributes\":{},\"id\":\"1918\",\"type\":\"UnionRenderers\"},{\"attributes\":{},\"id\":\"2886\",\"type\":\"LinearScale\"},{\"attributes\":{},\"id\":\"2884\",\"type\":\"DataRange1d\"}],\"root_ids\":[\"2879\"]},\"title\":\"Bokeh Application\",\"version\":\"2.0.2\"}};\n",
       "  var render_items = [{\"docid\":\"b2d5df69-44ef-4e15-a287-eb56ddf41a6e\",\"root_ids\":[\"2879\"],\"roots\":{\"2879\":\"c3c35127-7516-4094-8c1c-623a8f5244ea\"}}];\n",
       "  root.Bokeh.embed.embed_items_notebook(docs_json, render_items);\n",
       "\n",
       "  }\n",
       "  if (root.Bokeh !== undefined) {\n",
       "    embed_document(root);\n",
       "  } else {\n",
       "    var attempts = 0;\n",
       "    var timer = setInterval(function(root) {\n",
       "      if (root.Bokeh !== undefined) {\n",
       "        clearInterval(timer);\n",
       "        embed_document(root);\n",
       "      } else {\n",
       "        attempts++;\n",
       "        if (attempts > 100) {\n",
       "          clearInterval(timer);\n",
       "          console.log(\"Bokeh: ERROR: Unable to run BokehJS code because BokehJS library is missing\");\n",
       "        }\n",
       "      }\n",
       "    }, 10, root)\n",
       "  }\n",
       "})(window);"
      ],
      "application/vnd.bokehjs_exec.v0+json": ""
     },
     "metadata": {
      "application/vnd.bokehjs_exec.v0+json": {
       "id": "2879"
      }
     },
     "output_type": "display_data"
    }
   ],
   "source": [
    "from bokeh.transform import factor_cmap\n",
    "from bokeh.palettes import Turbo256\n",
    "\n",
    "TOOLTIPS = [\n",
    "    (\"Title\", \"@title\"),\n",
    "    (\"Author\", \"@author\"),\n",
    "    (\"Publication Date\", \"@publication_date\"),\n",
    "    (\"AmazonClassics Edition\", \"@AmazonClassics_edition\"),\n",
    "    (\"Nationality\", \"@author_nationality\")\n",
    "    \n",
    "]\n",
    "\n",
    "bokeh_plot = figure( title=\"The Goodreads 'Classics'\", x_axis_label = 'Publication Date', y_axis_label ='Number of Goodreads Ratings',\n",
    "           x_range=[1500, 2050],\n",
    "               tooltips=TOOLTIPS)\n",
    "\n",
    "#Add color based on column \"whichListCategory\"\n",
    "color_map = factor_cmap(field_name='author_nationality',\n",
    "                    palette=color_palette, factors=nationalities)\n",
    "\n",
    "bokeh_plot.circle(x='publication_date',\n",
    "        y='numRatings',\n",
    "         size = 30,\n",
    "         source=source,\n",
    "         color=color_map)\n",
    "\n",
    "#Format big numbers wiht abbreviations\n",
    "bokeh_plot.yaxis.formatter = NumeralTickFormatter(format='0.0a')\n",
    "\n",
    "#output_file('Goodreads-Classics.html')\n",
    "\n",
    "show(bokeh_plot) "
   ]
  }
 ],
 "metadata": {
  "kernelspec": {
   "display_name": "Python 3",
   "language": "python",
   "name": "python3"
  },
  "language_info": {
   "codemirror_mode": {
    "name": "ipython",
    "version": 3
   },
   "file_extension": ".py",
   "mimetype": "text/x-python",
   "name": "python",
   "nbconvert_exporter": "python",
   "pygments_lexer": "ipython3",
   "version": "3.7.6"
  }
 },
 "nbformat": 4,
 "nbformat_minor": 4
}
