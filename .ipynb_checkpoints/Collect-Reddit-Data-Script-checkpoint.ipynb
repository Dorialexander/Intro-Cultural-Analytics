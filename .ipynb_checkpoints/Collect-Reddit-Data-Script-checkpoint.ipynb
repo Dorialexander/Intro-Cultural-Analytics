{
 "cells": [
  {
   "cell_type": "markdown",
   "metadata": {},
   "source": [
    "# Collect Reddit Data Script"
   ]
  },
  {
   "cell_type": "markdown",
   "metadata": {},
   "source": [
    "As an experiment, change the `total_start_date` and `total_end_date` variables in the function below to different month or year-long periods. Let's see how long it takes/how much data you can collect for different authors and different time periods."
   ]
  },
  {
   "cell_type": "code",
   "execution_count": 33,
   "metadata": {},
   "outputs": [],
   "source": [
    "def format_date(date):\n",
    "    return int(datetime.datetime.strptime(date, \"%m-%d-%Y\").timestamp())"
   ]
  },
  {
   "cell_type": "code",
   "execution_count": 42,
   "metadata": {},
   "outputs": [],
   "source": [
    "import requests\n",
    "import json\n",
    "import pandas as pd\n",
    "import datetime\n",
    "import time\n",
    "\n",
    "\n",
    "def format_date(date):\n",
    "    return int(datetime.datetime.strptime(date, \"%m-%d-%Y\").timestamp())\n",
    "\n",
    "def collect_reddit_submissions(query, search_start_date, search_end_date):\n",
    "    \n",
    "    collect_start_time = datetime.datetime.now()\n",
    "    \n",
    "    query = query\n",
    "    size = 500\n",
    "    \n",
    "    search_start_date = datetime.datetime.strptime(search_start_date, \"%m-%d-%Y\")\n",
    "    search_end_date = datetime.datetime.strptime(search_end_date, \"%m-%d-%Y\")\n",
    "    #We can only get 500 results per request, so we're requesting data for one-week increments between total_start_date and total_end_date\n",
    "    total_start_date = datetime.date(search_start_date.year, search_start_date.month, search_start_date.day)\n",
    "    total_end_date = datetime.date(search_end_date.year, search_end_date.month, search_end_date.day)\n",
    "    week_increment = datetime.timedelta(days=7)\n",
    "    \n",
    "    #Make date range for the eventual CSV filename\n",
    "    date_range = f\"{total_start_date}-{total_end_date}\"\n",
    "    \n",
    "    #A master list where we're appending all the Reddit data, which we will eventually write to a CSV file\n",
    "    all_reddit_data = []\n",
    "    \n",
    "    #Looping through all the one-week increment\n",
    "    while total_start_date <= total_end_date:\n",
    "        \n",
    "        week_start_date = total_start_date.strftime('%m-%d-%Y')\n",
    "        week_end_date = (total_start_date+week_increment).strftime('%m-%d-%Y')\n",
    "        \n",
    "        url = f\"\"\"https://api.pushshift.io/reddit/search/submission?q={query}\n",
    "        &size={size}&after={format_date(week_start_date)}&before={format_date(week_end_date)}\"\"\"\n",
    "        \n",
    "        response = requests.get(url)\n",
    "        \n",
    "        #Making an exception if we get a 429 error that says we've made too many requests\n",
    "        if response.status_code == 429:\n",
    "            print(\"Too many requests. Sleeping for one minute before trying again 😴😴😴\")\n",
    "            time.sleep(60)\n",
    "            response = requests.get(url)\n",
    "            reddit_data = response.json()['data']\n",
    "            for reddit_post in reddit_data:\n",
    "                all_reddit_data.append(reddit_post)\n",
    "                \n",
    "        elif response.status_code != 200:\n",
    "            print(f'{response.status_code} error resulting from Reddit data request between {week_start_date} and {week_end_date} API request: {url}')\n",
    "            continue\n",
    "            \n",
    "        else:\n",
    "            reddit_data = response.json()['data']\n",
    "            for reddit_post in reddit_data:\n",
    "                all_reddit_data.append(reddit_post)\n",
    "            \n",
    "        #Increase the total start date by one week, so we can keep looping through all the data\n",
    "        total_start_date += week_increment\n",
    "        \n",
    "        print(f\"{len(reddit_data)} Reddit posts collected between {week_start_date} and {week_end_date}\")\n",
    "\n",
    "\n",
    "    all_reddit_data = pd.DataFrame([reddit_post for reddit_post in all_reddit_data])\n",
    "    all_reddit_data['full_date'] = pd.to_datetime(all_reddit_data['created_utc'], utc=True, unit='s')\n",
    "    all_reddit_data['date'] = all_reddit_data['full_date'].dt.strftime(\"%Y-%m-%d\")\n",
    "           \n",
    "        \n",
    "    query_formatted = query.replace(' ', '-')\n",
    "    filename = f'{query_formatted}-{total_start_date}-{total_end_date}-Reddit-data.csv'\n",
    "    \n",
    "    all_reddit_data.to_csv(filename, index=False)\n",
    "    \n",
    "    print(f\"\\n✨✨✨\\n{len(all_reddit_data)} total Reddits posts collected\\n\\nThis Reddit data was written to the file:\\n{filename}\")\n",
    "    print(f\"\\n\\nTotal time it took to collect this data:\\n{str(datetime.datetime.now() - collect_start_time)}✨✨✨\")\n",
    "\n",
    "    return "
   ]
  },
  {
   "cell_type": "code",
   "execution_count": 44,
   "metadata": {},
   "outputs": [
    {
     "name": "stdout",
     "output_type": "stream",
     "text": [
      "1 Reddit posts collected between 12-31-2009 and 01-07-2010\n",
      "0 Reddit posts collected between 01-07-2010 and 01-14-2010\n",
      "3 Reddit posts collected between 01-14-2010 and 01-21-2010\n",
      "2 Reddit posts collected between 01-21-2010 and 01-28-2010\n",
      "4 Reddit posts collected between 01-28-2010 and 02-04-2010\n",
      "1 Reddit posts collected between 02-04-2010 and 02-11-2010\n",
      "0 Reddit posts collected between 02-11-2010 and 02-18-2010\n",
      "1 Reddit posts collected between 02-18-2010 and 02-25-2010\n",
      "1 Reddit posts collected between 02-25-2010 and 03-04-2010\n",
      "2 Reddit posts collected between 03-04-2010 and 03-11-2010\n",
      "4 Reddit posts collected between 03-11-2010 and 03-18-2010\n",
      "\n",
      "✨✨✨\n",
      "19 total Reddits posts collected\n",
      "\n",
      "This Reddit data was written to the file:\n",
      "David-Foster-Wallace-2010-03-18-2010-03-14-Reddit-data.csv\n",
      "\n",
      "\n",
      "Total time it took to collect this data:\n",
      "0:00:06.996641✨✨✨\n"
     ]
    }
   ],
   "source": [
    "collect_reddit_submissions(\"David Foster Wallace\", \"12-31-2009\", \"3-14-2010\")"
   ]
  },
  {
   "cell_type": "code",
   "execution_count": null,
   "metadata": {},
   "outputs": [],
   "source": []
  }
 ],
 "metadata": {
  "kernelspec": {
   "display_name": "Python 3",
   "language": "python",
   "name": "python3"
  },
  "language_info": {
   "codemirror_mode": {
    "name": "ipython",
    "version": 3
   },
   "file_extension": ".py",
   "mimetype": "text/x-python",
   "name": "python",
   "nbconvert_exporter": "python",
   "pygments_lexer": "ipython3",
   "version": "3.7.6"
  }
 },
 "nbformat": 4,
 "nbformat_minor": 4
}
