{
 "cells": [
  {
   "cell_type": "markdown",
   "metadata": {},
   "source": [
    "# Make an Interactive Network Viz"
   ]
  },
  {
   "cell_type": "markdown",
   "metadata": {},
   "source": [
    "This notebook includes a single easy function for creating interactive network visualizations with the Python libraries [NetworkX](https://networkx.github.io/) and [Bokeh](https://docs.bokeh.org/en/latest/index.html). This function combines the various features demonstrated in Making Interactive Network Visualizations with Bokeh."
   ]
  },
  {
   "cell_type": "markdown",
   "metadata": {},
   "source": [
    "## Import Libraries"
   ]
  },
  {
   "cell_type": "code",
   "execution_count": 1,
   "metadata": {},
   "outputs": [],
   "source": [
    "import pandas as pd"
   ]
  },
  {
   "cell_type": "code",
   "execution_count": 2,
   "metadata": {
    "scrolled": true
   },
   "outputs": [],
   "source": [
    "import networkx \n",
    "from networkx.algorithms import community"
   ]
  },
  {
   "cell_type": "code",
   "execution_count": 3,
   "metadata": {},
   "outputs": [],
   "source": [
    "import matplotlib.pyplot as plt"
   ]
  },
  {
   "cell_type": "code",
   "execution_count": null,
   "metadata": {
    "scrolled": true
   },
   "outputs": [],
   "source": [
    "!pip install \"bokeh > 2\""
   ]
  },
  {
   "cell_type": "code",
   "execution_count": 5,
   "metadata": {},
   "outputs": [],
   "source": [
    "from bokeh.io import output_notebook, show, save\n",
    "from bokeh.palettes import Spectral8\n",
    "from bokeh.models import (Range1d, Circle, MultiLine,\n",
    "EdgesAndLinkedNodes, NodesAndLinkedEdges, ColumnDataSource, LabelSet)\n",
    "from bokeh.plotting import figure\n",
    "from bokeh.plotting import from_networkx\n",
    "from bokeh.palettes import Blues8, Reds8, Purples8, Oranges8, Viridis256, Spectral11\n",
    "from bokeh.transform import linear_cmap"
   ]
  },
  {
   "cell_type": "code",
   "execution_count": 6,
   "metadata": {},
   "outputs": [
    {
     "data": {
      "text/html": [
       "\n",
       "    <div class=\"bk-root\">\n",
       "        <a href=\"https://bokeh.org\" target=\"_blank\" class=\"bk-logo bk-logo-small bk-logo-notebook\"></a>\n",
       "        <span id=\"1001\">Loading BokehJS ...</span>\n",
       "    </div>"
      ]
     },
     "metadata": {},
     "output_type": "display_data"
    },
    {
     "data": {
      "application/javascript": [
       "\n",
       "(function(root) {\n",
       "  function now() {\n",
       "    return new Date();\n",
       "  }\n",
       "\n",
       "  var force = true;\n",
       "\n",
       "  if (typeof root._bokeh_onload_callbacks === \"undefined\" || force === true) {\n",
       "    root._bokeh_onload_callbacks = [];\n",
       "    root._bokeh_is_loading = undefined;\n",
       "  }\n",
       "\n",
       "  var JS_MIME_TYPE = 'application/javascript';\n",
       "  var HTML_MIME_TYPE = 'text/html';\n",
       "  var EXEC_MIME_TYPE = 'application/vnd.bokehjs_exec.v0+json';\n",
       "  var CLASS_NAME = 'output_bokeh rendered_html';\n",
       "\n",
       "  /**\n",
       "   * Render data to the DOM node\n",
       "   */\n",
       "  function render(props, node) {\n",
       "    var script = document.createElement(\"script\");\n",
       "    node.appendChild(script);\n",
       "  }\n",
       "\n",
       "  /**\n",
       "   * Handle when an output is cleared or removed\n",
       "   */\n",
       "  function handleClearOutput(event, handle) {\n",
       "    var cell = handle.cell;\n",
       "\n",
       "    var id = cell.output_area._bokeh_element_id;\n",
       "    var server_id = cell.output_area._bokeh_server_id;\n",
       "    // Clean up Bokeh references\n",
       "    if (id != null && id in Bokeh.index) {\n",
       "      Bokeh.index[id].model.document.clear();\n",
       "      delete Bokeh.index[id];\n",
       "    }\n",
       "\n",
       "    if (server_id !== undefined) {\n",
       "      // Clean up Bokeh references\n",
       "      var cmd = \"from bokeh.io.state import curstate; print(curstate().uuid_to_server['\" + server_id + \"'].get_sessions()[0].document.roots[0]._id)\";\n",
       "      cell.notebook.kernel.execute(cmd, {\n",
       "        iopub: {\n",
       "          output: function(msg) {\n",
       "            var id = msg.content.text.trim();\n",
       "            if (id in Bokeh.index) {\n",
       "              Bokeh.index[id].model.document.clear();\n",
       "              delete Bokeh.index[id];\n",
       "            }\n",
       "          }\n",
       "        }\n",
       "      });\n",
       "      // Destroy server and session\n",
       "      var cmd = \"import bokeh.io.notebook as ion; ion.destroy_server('\" + server_id + \"')\";\n",
       "      cell.notebook.kernel.execute(cmd);\n",
       "    }\n",
       "  }\n",
       "\n",
       "  /**\n",
       "   * Handle when a new output is added\n",
       "   */\n",
       "  function handleAddOutput(event, handle) {\n",
       "    var output_area = handle.output_area;\n",
       "    var output = handle.output;\n",
       "\n",
       "    // limit handleAddOutput to display_data with EXEC_MIME_TYPE content only\n",
       "    if ((output.output_type != \"display_data\") || (!output.data.hasOwnProperty(EXEC_MIME_TYPE))) {\n",
       "      return\n",
       "    }\n",
       "\n",
       "    var toinsert = output_area.element.find(\".\" + CLASS_NAME.split(' ')[0]);\n",
       "\n",
       "    if (output.metadata[EXEC_MIME_TYPE][\"id\"] !== undefined) {\n",
       "      toinsert[toinsert.length - 1].firstChild.textContent = output.data[JS_MIME_TYPE];\n",
       "      // store reference to embed id on output_area\n",
       "      output_area._bokeh_element_id = output.metadata[EXEC_MIME_TYPE][\"id\"];\n",
       "    }\n",
       "    if (output.metadata[EXEC_MIME_TYPE][\"server_id\"] !== undefined) {\n",
       "      var bk_div = document.createElement(\"div\");\n",
       "      bk_div.innerHTML = output.data[HTML_MIME_TYPE];\n",
       "      var script_attrs = bk_div.children[0].attributes;\n",
       "      for (var i = 0; i < script_attrs.length; i++) {\n",
       "        toinsert[toinsert.length - 1].firstChild.setAttribute(script_attrs[i].name, script_attrs[i].value);\n",
       "        toinsert[toinsert.length - 1].firstChild.textContent = bk_div.children[0].textContent\n",
       "      }\n",
       "      // store reference to server id on output_area\n",
       "      output_area._bokeh_server_id = output.metadata[EXEC_MIME_TYPE][\"server_id\"];\n",
       "    }\n",
       "  }\n",
       "\n",
       "  function register_renderer(events, OutputArea) {\n",
       "\n",
       "    function append_mime(data, metadata, element) {\n",
       "      // create a DOM node to render to\n",
       "      var toinsert = this.create_output_subarea(\n",
       "        metadata,\n",
       "        CLASS_NAME,\n",
       "        EXEC_MIME_TYPE\n",
       "      );\n",
       "      this.keyboard_manager.register_events(toinsert);\n",
       "      // Render to node\n",
       "      var props = {data: data, metadata: metadata[EXEC_MIME_TYPE]};\n",
       "      render(props, toinsert[toinsert.length - 1]);\n",
       "      element.append(toinsert);\n",
       "      return toinsert\n",
       "    }\n",
       "\n",
       "    /* Handle when an output is cleared or removed */\n",
       "    events.on('clear_output.CodeCell', handleClearOutput);\n",
       "    events.on('delete.Cell', handleClearOutput);\n",
       "\n",
       "    /* Handle when a new output is added */\n",
       "    events.on('output_added.OutputArea', handleAddOutput);\n",
       "\n",
       "    /**\n",
       "     * Register the mime type and append_mime function with output_area\n",
       "     */\n",
       "    OutputArea.prototype.register_mime_type(EXEC_MIME_TYPE, append_mime, {\n",
       "      /* Is output safe? */\n",
       "      safe: true,\n",
       "      /* Index of renderer in `output_area.display_order` */\n",
       "      index: 0\n",
       "    });\n",
       "  }\n",
       "\n",
       "  // register the mime type if in Jupyter Notebook environment and previously unregistered\n",
       "  if (root.Jupyter !== undefined) {\n",
       "    var events = require('base/js/events');\n",
       "    var OutputArea = require('notebook/js/outputarea').OutputArea;\n",
       "\n",
       "    if (OutputArea.prototype.mime_types().indexOf(EXEC_MIME_TYPE) == -1) {\n",
       "      register_renderer(events, OutputArea);\n",
       "    }\n",
       "  }\n",
       "\n",
       "  \n",
       "  if (typeof (root._bokeh_timeout) === \"undefined\" || force === true) {\n",
       "    root._bokeh_timeout = Date.now() + 5000;\n",
       "    root._bokeh_failed_load = false;\n",
       "  }\n",
       "\n",
       "  var NB_LOAD_WARNING = {'data': {'text/html':\n",
       "     \"<div style='background-color: #fdd'>\\n\"+\n",
       "     \"<p>\\n\"+\n",
       "     \"BokehJS does not appear to have successfully loaded. If loading BokehJS from CDN, this \\n\"+\n",
       "     \"may be due to a slow or bad network connection. Possible fixes:\\n\"+\n",
       "     \"</p>\\n\"+\n",
       "     \"<ul>\\n\"+\n",
       "     \"<li>re-rerun `output_notebook()` to attempt to load from CDN again, or</li>\\n\"+\n",
       "     \"<li>use INLINE resources instead, as so:</li>\\n\"+\n",
       "     \"</ul>\\n\"+\n",
       "     \"<code>\\n\"+\n",
       "     \"from bokeh.resources import INLINE\\n\"+\n",
       "     \"output_notebook(resources=INLINE)\\n\"+\n",
       "     \"</code>\\n\"+\n",
       "     \"</div>\"}};\n",
       "\n",
       "  function display_loaded() {\n",
       "    var el = document.getElementById(\"1001\");\n",
       "    if (el != null) {\n",
       "      el.textContent = \"BokehJS is loading...\";\n",
       "    }\n",
       "    if (root.Bokeh !== undefined) {\n",
       "      if (el != null) {\n",
       "        el.textContent = \"BokehJS \" + root.Bokeh.version + \" successfully loaded.\";\n",
       "      }\n",
       "    } else if (Date.now() < root._bokeh_timeout) {\n",
       "      setTimeout(display_loaded, 100)\n",
       "    }\n",
       "  }\n",
       "\n",
       "\n",
       "  function run_callbacks() {\n",
       "    try {\n",
       "      root._bokeh_onload_callbacks.forEach(function(callback) {\n",
       "        if (callback != null)\n",
       "          callback();\n",
       "      });\n",
       "    } finally {\n",
       "      delete root._bokeh_onload_callbacks\n",
       "    }\n",
       "    console.debug(\"Bokeh: all callbacks have finished\");\n",
       "  }\n",
       "\n",
       "  function load_libs(css_urls, js_urls, callback) {\n",
       "    if (css_urls == null) css_urls = [];\n",
       "    if (js_urls == null) js_urls = [];\n",
       "\n",
       "    root._bokeh_onload_callbacks.push(callback);\n",
       "    if (root._bokeh_is_loading > 0) {\n",
       "      console.debug(\"Bokeh: BokehJS is being loaded, scheduling callback at\", now());\n",
       "      return null;\n",
       "    }\n",
       "    if (js_urls == null || js_urls.length === 0) {\n",
       "      run_callbacks();\n",
       "      return null;\n",
       "    }\n",
       "    console.debug(\"Bokeh: BokehJS not loaded, scheduling load and callback at\", now());\n",
       "    root._bokeh_is_loading = css_urls.length + js_urls.length;\n",
       "\n",
       "    function on_load() {\n",
       "      root._bokeh_is_loading--;\n",
       "      if (root._bokeh_is_loading === 0) {\n",
       "        console.debug(\"Bokeh: all BokehJS libraries/stylesheets loaded\");\n",
       "        run_callbacks()\n",
       "      }\n",
       "    }\n",
       "\n",
       "    function on_error() {\n",
       "      console.error(\"failed to load \" + url);\n",
       "    }\n",
       "\n",
       "    for (var i = 0; i < css_urls.length; i++) {\n",
       "      var url = css_urls[i];\n",
       "      const element = document.createElement(\"link\");\n",
       "      element.onload = on_load;\n",
       "      element.onerror = on_error;\n",
       "      element.rel = \"stylesheet\";\n",
       "      element.type = \"text/css\";\n",
       "      element.href = url;\n",
       "      console.debug(\"Bokeh: injecting link tag for BokehJS stylesheet: \", url);\n",
       "      document.body.appendChild(element);\n",
       "    }\n",
       "\n",
       "    const hashes = {\"https://cdn.bokeh.org/bokeh/release/bokeh-2.0.2.min.js\": \"ufR9RFnRs6lniiaFvtJziE0YeidtAgBRH6ux2oUItHw5WTvE1zuk9uzhUU/FJXDp\", \"https://cdn.bokeh.org/bokeh/release/bokeh-widgets-2.0.2.min.js\": \"8QM/PGWBT+IssZuRcDcjzwIh1mkOmJSoNMmyYDZbCfXJg3Ap1lEvdVgFuSAwhb/J\", \"https://cdn.bokeh.org/bokeh/release/bokeh-tables-2.0.2.min.js\": \"Jm8cH3Rg0P6UeZhVY5cLy1WzKajUT9KImCY+76hEqrcJt59/d8GPvFHjCkYgnSIn\", \"https://cdn.bokeh.org/bokeh/release/bokeh-gl-2.0.2.min.js\": \"Ozhzj+SI7ywm74aOI/UajcWz+C0NjsPunEVyVIrxzYkB+jA+2tUw8x5xJCbVtK5I\"};\n",
       "\n",
       "    for (var i = 0; i < js_urls.length; i++) {\n",
       "      var url = js_urls[i];\n",
       "      var element = document.createElement('script');\n",
       "      element.onload = on_load;\n",
       "      element.onerror = on_error;\n",
       "      element.async = false;\n",
       "      element.src = url;\n",
       "      if (url in hashes) {\n",
       "        element.crossOrigin = \"anonymous\";\n",
       "        element.integrity = \"sha384-\" + hashes[url];\n",
       "      }\n",
       "      console.debug(\"Bokeh: injecting script tag for BokehJS library: \", url);\n",
       "      document.head.appendChild(element);\n",
       "    }\n",
       "  };\n",
       "\n",
       "  function inject_raw_css(css) {\n",
       "    const element = document.createElement(\"style\");\n",
       "    element.appendChild(document.createTextNode(css));\n",
       "    document.body.appendChild(element);\n",
       "  }\n",
       "\n",
       "  \n",
       "  var js_urls = [\"https://cdn.bokeh.org/bokeh/release/bokeh-2.0.2.min.js\", \"https://cdn.bokeh.org/bokeh/release/bokeh-widgets-2.0.2.min.js\", \"https://cdn.bokeh.org/bokeh/release/bokeh-tables-2.0.2.min.js\", \"https://cdn.bokeh.org/bokeh/release/bokeh-gl-2.0.2.min.js\"];\n",
       "  var css_urls = [];\n",
       "  \n",
       "\n",
       "  var inline_js = [\n",
       "    function(Bokeh) {\n",
       "      Bokeh.set_log_level(\"info\");\n",
       "    },\n",
       "    function(Bokeh) {\n",
       "    \n",
       "    \n",
       "    }\n",
       "  ];\n",
       "\n",
       "  function run_inline_js() {\n",
       "    \n",
       "    if (root.Bokeh !== undefined || force === true) {\n",
       "      \n",
       "    for (var i = 0; i < inline_js.length; i++) {\n",
       "      inline_js[i].call(root, root.Bokeh);\n",
       "    }\n",
       "    if (force === true) {\n",
       "        display_loaded();\n",
       "      }} else if (Date.now() < root._bokeh_timeout) {\n",
       "      setTimeout(run_inline_js, 100);\n",
       "    } else if (!root._bokeh_failed_load) {\n",
       "      console.log(\"Bokeh: BokehJS failed to load within specified timeout.\");\n",
       "      root._bokeh_failed_load = true;\n",
       "    } else if (force !== true) {\n",
       "      var cell = $(document.getElementById(\"1001\")).parents('.cell').data().cell;\n",
       "      cell.output_area.append_execute_result(NB_LOAD_WARNING)\n",
       "    }\n",
       "\n",
       "  }\n",
       "\n",
       "  if (root._bokeh_is_loading === 0) {\n",
       "    console.debug(\"Bokeh: BokehJS loaded, going straight to plotting\");\n",
       "    run_inline_js();\n",
       "  } else {\n",
       "    load_libs(css_urls, js_urls, function() {\n",
       "      console.debug(\"Bokeh: BokehJS plotting callback run at\", now());\n",
       "      run_inline_js();\n",
       "    });\n",
       "  }\n",
       "}(window));"
      ],
      "application/vnd.bokehjs_load.v0+json": "\n(function(root) {\n  function now() {\n    return new Date();\n  }\n\n  var force = true;\n\n  if (typeof root._bokeh_onload_callbacks === \"undefined\" || force === true) {\n    root._bokeh_onload_callbacks = [];\n    root._bokeh_is_loading = undefined;\n  }\n\n  \n\n  \n  if (typeof (root._bokeh_timeout) === \"undefined\" || force === true) {\n    root._bokeh_timeout = Date.now() + 5000;\n    root._bokeh_failed_load = false;\n  }\n\n  var NB_LOAD_WARNING = {'data': {'text/html':\n     \"<div style='background-color: #fdd'>\\n\"+\n     \"<p>\\n\"+\n     \"BokehJS does not appear to have successfully loaded. If loading BokehJS from CDN, this \\n\"+\n     \"may be due to a slow or bad network connection. Possible fixes:\\n\"+\n     \"</p>\\n\"+\n     \"<ul>\\n\"+\n     \"<li>re-rerun `output_notebook()` to attempt to load from CDN again, or</li>\\n\"+\n     \"<li>use INLINE resources instead, as so:</li>\\n\"+\n     \"</ul>\\n\"+\n     \"<code>\\n\"+\n     \"from bokeh.resources import INLINE\\n\"+\n     \"output_notebook(resources=INLINE)\\n\"+\n     \"</code>\\n\"+\n     \"</div>\"}};\n\n  function display_loaded() {\n    var el = document.getElementById(\"1001\");\n    if (el != null) {\n      el.textContent = \"BokehJS is loading...\";\n    }\n    if (root.Bokeh !== undefined) {\n      if (el != null) {\n        el.textContent = \"BokehJS \" + root.Bokeh.version + \" successfully loaded.\";\n      }\n    } else if (Date.now() < root._bokeh_timeout) {\n      setTimeout(display_loaded, 100)\n    }\n  }\n\n\n  function run_callbacks() {\n    try {\n      root._bokeh_onload_callbacks.forEach(function(callback) {\n        if (callback != null)\n          callback();\n      });\n    } finally {\n      delete root._bokeh_onload_callbacks\n    }\n    console.debug(\"Bokeh: all callbacks have finished\");\n  }\n\n  function load_libs(css_urls, js_urls, callback) {\n    if (css_urls == null) css_urls = [];\n    if (js_urls == null) js_urls = [];\n\n    root._bokeh_onload_callbacks.push(callback);\n    if (root._bokeh_is_loading > 0) {\n      console.debug(\"Bokeh: BokehJS is being loaded, scheduling callback at\", now());\n      return null;\n    }\n    if (js_urls == null || js_urls.length === 0) {\n      run_callbacks();\n      return null;\n    }\n    console.debug(\"Bokeh: BokehJS not loaded, scheduling load and callback at\", now());\n    root._bokeh_is_loading = css_urls.length + js_urls.length;\n\n    function on_load() {\n      root._bokeh_is_loading--;\n      if (root._bokeh_is_loading === 0) {\n        console.debug(\"Bokeh: all BokehJS libraries/stylesheets loaded\");\n        run_callbacks()\n      }\n    }\n\n    function on_error() {\n      console.error(\"failed to load \" + url);\n    }\n\n    for (var i = 0; i < css_urls.length; i++) {\n      var url = css_urls[i];\n      const element = document.createElement(\"link\");\n      element.onload = on_load;\n      element.onerror = on_error;\n      element.rel = \"stylesheet\";\n      element.type = \"text/css\";\n      element.href = url;\n      console.debug(\"Bokeh: injecting link tag for BokehJS stylesheet: \", url);\n      document.body.appendChild(element);\n    }\n\n    const hashes = {\"https://cdn.bokeh.org/bokeh/release/bokeh-2.0.2.min.js\": \"ufR9RFnRs6lniiaFvtJziE0YeidtAgBRH6ux2oUItHw5WTvE1zuk9uzhUU/FJXDp\", \"https://cdn.bokeh.org/bokeh/release/bokeh-widgets-2.0.2.min.js\": \"8QM/PGWBT+IssZuRcDcjzwIh1mkOmJSoNMmyYDZbCfXJg3Ap1lEvdVgFuSAwhb/J\", \"https://cdn.bokeh.org/bokeh/release/bokeh-tables-2.0.2.min.js\": \"Jm8cH3Rg0P6UeZhVY5cLy1WzKajUT9KImCY+76hEqrcJt59/d8GPvFHjCkYgnSIn\", \"https://cdn.bokeh.org/bokeh/release/bokeh-gl-2.0.2.min.js\": \"Ozhzj+SI7ywm74aOI/UajcWz+C0NjsPunEVyVIrxzYkB+jA+2tUw8x5xJCbVtK5I\"};\n\n    for (var i = 0; i < js_urls.length; i++) {\n      var url = js_urls[i];\n      var element = document.createElement('script');\n      element.onload = on_load;\n      element.onerror = on_error;\n      element.async = false;\n      element.src = url;\n      if (url in hashes) {\n        element.crossOrigin = \"anonymous\";\n        element.integrity = \"sha384-\" + hashes[url];\n      }\n      console.debug(\"Bokeh: injecting script tag for BokehJS library: \", url);\n      document.head.appendChild(element);\n    }\n  };\n\n  function inject_raw_css(css) {\n    const element = document.createElement(\"style\");\n    element.appendChild(document.createTextNode(css));\n    document.body.appendChild(element);\n  }\n\n  \n  var js_urls = [\"https://cdn.bokeh.org/bokeh/release/bokeh-2.0.2.min.js\", \"https://cdn.bokeh.org/bokeh/release/bokeh-widgets-2.0.2.min.js\", \"https://cdn.bokeh.org/bokeh/release/bokeh-tables-2.0.2.min.js\", \"https://cdn.bokeh.org/bokeh/release/bokeh-gl-2.0.2.min.js\"];\n  var css_urls = [];\n  \n\n  var inline_js = [\n    function(Bokeh) {\n      Bokeh.set_log_level(\"info\");\n    },\n    function(Bokeh) {\n    \n    \n    }\n  ];\n\n  function run_inline_js() {\n    \n    if (root.Bokeh !== undefined || force === true) {\n      \n    for (var i = 0; i < inline_js.length; i++) {\n      inline_js[i].call(root, root.Bokeh);\n    }\n    if (force === true) {\n        display_loaded();\n      }} else if (Date.now() < root._bokeh_timeout) {\n      setTimeout(run_inline_js, 100);\n    } else if (!root._bokeh_failed_load) {\n      console.log(\"Bokeh: BokehJS failed to load within specified timeout.\");\n      root._bokeh_failed_load = true;\n    } else if (force !== true) {\n      var cell = $(document.getElementById(\"1001\")).parents('.cell').data().cell;\n      cell.output_area.append_execute_result(NB_LOAD_WARNING)\n    }\n\n  }\n\n  if (root._bokeh_is_loading === 0) {\n    console.debug(\"Bokeh: BokehJS loaded, going straight to plotting\");\n    run_inline_js();\n  } else {\n    load_libs(css_urls, js_urls, function() {\n      console.debug(\"Bokeh: BokehJS plotting callback run at\", now());\n      run_inline_js();\n    });\n  }\n}(window));"
     },
     "metadata": {},
     "output_type": "display_data"
    }
   ],
   "source": [
    "output_notebook()"
   ]
  },
  {
   "cell_type": "markdown",
   "metadata": {},
   "source": [
    "## Read in Network Data"
   ]
  },
  {
   "cell_type": "code",
   "execution_count": 10,
   "metadata": {},
   "outputs": [],
   "source": [
    "got_df = pd.read_csv('../data/got-edges.csv')"
   ]
  },
  {
   "cell_type": "code",
   "execution_count": 11,
   "metadata": {},
   "outputs": [
    {
     "data": {
      "text/html": [
       "<div>\n",
       "<style scoped>\n",
       "    .dataframe tbody tr th:only-of-type {\n",
       "        vertical-align: middle;\n",
       "    }\n",
       "\n",
       "    .dataframe tbody tr th {\n",
       "        vertical-align: top;\n",
       "    }\n",
       "\n",
       "    .dataframe thead th {\n",
       "        text-align: right;\n",
       "    }\n",
       "</style>\n",
       "<table border=\"1\" class=\"dataframe\">\n",
       "  <thead>\n",
       "    <tr style=\"text-align: right;\">\n",
       "      <th></th>\n",
       "      <th>Source</th>\n",
       "      <th>Target</th>\n",
       "      <th>Weight</th>\n",
       "    </tr>\n",
       "  </thead>\n",
       "  <tbody>\n",
       "    <tr>\n",
       "      <th>0</th>\n",
       "      <td>Aemon</td>\n",
       "      <td>Grenn</td>\n",
       "      <td>5</td>\n",
       "    </tr>\n",
       "    <tr>\n",
       "      <th>1</th>\n",
       "      <td>Aemon</td>\n",
       "      <td>Samwell</td>\n",
       "      <td>31</td>\n",
       "    </tr>\n",
       "    <tr>\n",
       "      <th>2</th>\n",
       "      <td>Aerys</td>\n",
       "      <td>Jaime</td>\n",
       "      <td>18</td>\n",
       "    </tr>\n",
       "    <tr>\n",
       "      <th>3</th>\n",
       "      <td>Aerys</td>\n",
       "      <td>Robert</td>\n",
       "      <td>6</td>\n",
       "    </tr>\n",
       "    <tr>\n",
       "      <th>4</th>\n",
       "      <td>Aerys</td>\n",
       "      <td>Tyrion</td>\n",
       "      <td>5</td>\n",
       "    </tr>\n",
       "    <tr>\n",
       "      <th>...</th>\n",
       "      <td>...</td>\n",
       "      <td>...</td>\n",
       "      <td>...</td>\n",
       "    </tr>\n",
       "    <tr>\n",
       "      <th>347</th>\n",
       "      <td>Walder</td>\n",
       "      <td>Petyr</td>\n",
       "      <td>6</td>\n",
       "    </tr>\n",
       "    <tr>\n",
       "      <th>348</th>\n",
       "      <td>Walder</td>\n",
       "      <td>Roslin</td>\n",
       "      <td>6</td>\n",
       "    </tr>\n",
       "    <tr>\n",
       "      <th>349</th>\n",
       "      <td>Walton</td>\n",
       "      <td>Jaime</td>\n",
       "      <td>10</td>\n",
       "    </tr>\n",
       "    <tr>\n",
       "      <th>350</th>\n",
       "      <td>Ygritte</td>\n",
       "      <td>Qhorin</td>\n",
       "      <td>7</td>\n",
       "    </tr>\n",
       "    <tr>\n",
       "      <th>351</th>\n",
       "      <td>Ygritte</td>\n",
       "      <td>Rattleshirt</td>\n",
       "      <td>9</td>\n",
       "    </tr>\n",
       "  </tbody>\n",
       "</table>\n",
       "<p>352 rows × 3 columns</p>\n",
       "</div>"
      ],
      "text/plain": [
       "      Source       Target  Weight\n",
       "0      Aemon        Grenn       5\n",
       "1      Aemon      Samwell      31\n",
       "2      Aerys        Jaime      18\n",
       "3      Aerys       Robert       6\n",
       "4      Aerys       Tyrion       5\n",
       "..       ...          ...     ...\n",
       "347   Walder        Petyr       6\n",
       "348   Walder       Roslin       6\n",
       "349   Walton        Jaime      10\n",
       "350  Ygritte       Qhorin       7\n",
       "351  Ygritte  Rattleshirt       9\n",
       "\n",
       "[352 rows x 3 columns]"
      ]
     },
     "execution_count": 11,
     "metadata": {},
     "output_type": "execute_result"
    }
   ],
   "source": [
    "got_df"
   ]
  },
  {
   "cell_type": "code",
   "execution_count": 12,
   "metadata": {},
   "outputs": [],
   "source": [
    "G = networkx.from_pandas_edgelist(got_df, 'Source', 'Target', 'Weight')"
   ]
  },
  {
   "cell_type": "markdown",
   "metadata": {},
   "source": [
    "## Make an Interactive Network — Quick Function"
   ]
  },
  {
   "cell_type": "markdown",
   "metadata": {},
   "source": [
    "The code below creates a comprehensive function called `make_interactive_network()`. After you run this big cell, you can make networks simply by calling the function `make_interactive_network()` below."
   ]
  },
  {
   "cell_type": "code",
   "execution_count": 13,
   "metadata": {},
   "outputs": [],
   "source": [
    "def make_interactive_network(G, weight=False, node_size=15,\n",
    "                             node_color='skyblue', color_type=None,\n",
    "                             color_order=False, color_palette=Blues8, title='Network', labels=False,\n",
    "                             save_as=False, node_highlight_color=False, edge_highlight_color=False):\n",
    "    \n",
    "    #Calculate Degree and Adjusted Degree Size\n",
    "    degrees = dict(networkx.degree(G, weight=weight))\n",
    "    networkx.set_node_attributes(G, name='degree', values=degrees)\n",
    "    \n",
    "    def adjust(degree, weight):\n",
    "        if weight == False:\n",
    "            return degree + 5\n",
    "        else:\n",
    "            return (degree / 10) + 5\n",
    "    degree_adjusted = dict([(node, adjust(degree, weight)) for node, degree in networkx.degree(G, weight=weight)])\n",
    "    networkx.set_node_attributes(G, name='degree_adjusted', values=degree_adjusted)\n",
    "    \n",
    "    #Calculate Betweenness Centrality\n",
    "    betweenness_centrality = networkx.betweenness_centrality(G)\n",
    "    networkx.set_node_attributes(G, name='betweenness', values=betweenness_centrality)\n",
    "    \n",
    "    #Calculate Modularity Classes\n",
    "    communities = community.greedy_modularity_communities(G)\n",
    "    modularity_class = {name:community_number for community_number, community in enumerate(communities) for name in community}\n",
    "    modularity_color = dict((name, Spectral11[community_number]) if community_number < 11 else (name,'gray') for community_number, community in enumerate(communities) for name in community )\n",
    "    networkx.set_node_attributes(G, modularity_class, 'modularity_class')\n",
    "    networkx.set_node_attributes(G, modularity_color, 'modularity_color')\n",
    "    \n",
    "    #Set hover categories\n",
    "    HOVER_TOOLTIPS = [\n",
    "           (\"Character\", \"@index\"),\n",
    "            (\"Degree\", \"@degree\"),\n",
    "            (\"Betweenness\", \"@betweenness{1.111}\"),\n",
    "             (\"Modularity Class\", \"@modularity_class\"),\n",
    "            (\"Modularity Color\", \"$color[swatch]:modularity_color\"),\n",
    "    ]\n",
    "\n",
    "    #Create a plot — set dimensions, toolbar, and title\n",
    "    plot = figure(tooltips = HOVER_TOOLTIPS, toolbar_location='left',\n",
    "                  tools=\"pan,wheel_zoom,save,reset, tap\", active_scroll='wheel_zoom',\n",
    "                x_range=Range1d(-10.1, 10.1), y_range=Range1d(-10.1, 10.1), title=title)\n",
    "    plot.sizing_mode = 'scale_width'\n",
    "    \n",
    "    #Remove grid and axes from plot\n",
    "    plot.xgrid.visible = False\n",
    "    plot.ygrid.visible = False\n",
    "    plot.axis.visible = False\n",
    "    \n",
    "    #Create a network graph object\n",
    "    # https://networkx.github.io/documentation/networkx-1.9/reference/generated/networkx.drawing.layout.spring_layout.html\n",
    "\n",
    "    network_graph = from_networkx(G, networkx.spring_layout, scale=10, center=(0, 0))\n",
    "    \n",
    "    #Set node sizes and colors\n",
    "    if color_order == 'reverse':\n",
    "        color_palette = color_palette[::-1]\n",
    "    if node_color == 'degree' or node_color == 'betweenness':\n",
    "        minimum_value_color = min(network_graph.node_renderer.data_source.data[node_color])\n",
    "        maximum_value_color = max(network_graph.node_renderer.data_source.data[node_color])\n",
    "        node_color = linear_cmap(node_color, color_palette, minimum_value_color, maximum_value_color)\n",
    "    else:\n",
    "        node_color =  node_color\n",
    "    \n",
    "    if node_highlight_color == False:\n",
    "        node_highlight_color = node_color\n",
    "    if edge_highlight_color == False:\n",
    "        edge_highlight_color = 'black'\n",
    "    \n",
    "    #Add nodes\n",
    "    network_graph.node_renderer.glyph = Circle(size=node_size, fill_color=node_color)\n",
    "    \n",
    "    #Add edges\n",
    "    network_graph.edge_renderer.glyph = MultiLine(line_alpha=0.3, line_width=1)\n",
    "    \n",
    "    #Set node highlight colors\n",
    "    network_graph.node_renderer.hover_glyph = Circle(size=node_size, fill_color=node_highlight_color, line_width=2)\n",
    "    network_graph.node_renderer.selection_glyph = Circle(size=node_size, fill_color=node_highlight_color, line_width=2)\n",
    "\n",
    "    #Set edge highlight colors\n",
    "    network_graph.edge_renderer.selection_glyph = MultiLine(line_color=edge_highlight_color, line_width=2)\n",
    "    network_graph.edge_renderer.hover_glyph = MultiLine(line_color=edge_highlight_color, line_width=2)\n",
    "\n",
    "    #Highlight adjacent nodes and edges\n",
    "    network_graph.selection_policy = NodesAndLinkedEdges()\n",
    "    network_graph.inspection_policy = NodesAndLinkedEdges()\n",
    "\n",
    "    plot.renderers.append(network_graph)\n",
    "\n",
    "    #Add labels\n",
    "    if labels == True:\n",
    "        x, y = zip(*network_graph.layout_provider.graph_layout.values())\n",
    "        node_labels = list(G.nodes())\n",
    "        source = ColumnDataSource({'x': x, 'y': y, 'name': [node_labels[i] for i in range(len(x))]})\n",
    "        labels = LabelSet(x='x', y='y', text='name', source=source, background_fill_color='white', text_font_size='10px', background_fill_alpha=.7)\n",
    "        plot.renderers.append(labels)\n",
    "\n",
    "    show(plot)\n",
    "    \n",
    "    #Save as HTML file\n",
    "    if save_as != False:\n",
    "        save(plot, filename=f\"{save_as}\", title=title)"
   ]
  },
  {
   "cell_type": "markdown",
   "metadata": {},
   "source": [
    "## Parameters"
   ]
  },
  {
   "cell_type": "markdown",
   "metadata": {},
   "source": [
    "Here are the parameters that you can change and customize with the `make_interactive_network()` function:\n",
    "\n",
    "`node_size` \n",
    "\n",
    "You can size nodes by attributes such as \"degree_adjusted\", \"degree,\" \"betwenness,\" or another attribute that you add to the network. Or you can uniformly size by a number. **Default = 15**.\n",
    "\n",
    "`node_color`\n",
    "\n",
    "You can color nodes by attributes such as \"degree,\" \"betwenness,\" \"modularity_color,\" or another attribute that you add to the network. Or you can uniformly color nodes by a specific color (e.g. \"green\"). **Default = \"skyblue\"**.\n",
    "\n",
    "`color_order`\n",
    "\n",
    "To reverse the order of a color palette (e.g. so that high degree nodes will be darker rather than lighter), you can set the parameter to \"reverse.\" **Default = False**.\n",
    "\n",
    "`color_palette`\n",
    "\n",
    "You can choose a specific color palette from the following imported palettes: Blues8, Reds8, Purples8, Oranges8, Viridis256, Spectral11. **Default = Blues8**. \n",
    "\n",
    "`title` \n",
    "\n",
    "You can choose a title for your network. **Default = \"Network\"**.\n",
    "\n",
    "`labels`  \n",
    "\n",
    "You can choose to show labels by setting `labels=True`. **Default = False.**\n",
    "\n",
    "`save_as`\n",
    "\n",
    "You can save your network as an HTML file by setting `save_as` to a filename. **Default = False**.\n",
    "\n",
    "`node_highlight_color`  \n",
    "\n",
    "You can select a color that nodes will be highlighted when hovered over or selected by choosing a specific color. **Default = False**.\n",
    "\n",
    "`edge_highlight_color`\n",
    "\n",
    "You can select a color that edges will be highlighted when hovered over or selected by choosing a specific color. **Default = False**."
   ]
  },
  {
   "cell_type": "markdown",
   "metadata": {},
   "source": [
    "## Examples"
   ]
  },
  {
   "cell_type": "markdown",
   "metadata": {},
   "source": [
    "Below are examples of how you might use the `make_interactive_network()` function."
   ]
  },
  {
   "cell_type": "markdown",
   "metadata": {},
   "source": [
    "## Basic Network"
   ]
  },
  {
   "cell_type": "code",
   "execution_count": 11,
   "metadata": {},
   "outputs": [
    {
     "data": {
      "text/html": [
       "\n",
       "\n",
       "\n",
       "\n",
       "\n",
       "\n",
       "  <div class=\"bk-root\" id=\"076bf540-c797-4dc5-9abb-fcb68495d95b\" data-root-id=\"1004\"></div>\n"
      ]
     },
     "metadata": {},
     "output_type": "display_data"
    },
    {
     "data": {
      "application/javascript": [
       "(function(root) {\n",
       "  function embed_document(root) {\n",
       "    \n",
       "  var docs_json = {\"0b4943ba-3403-4f97-969a-8c1ddebe2df0\":{\"roots\":{\"references\":[{\"attributes\":{\"below\":[{\"id\":\"1013\"}],\"center\":[{\"id\":\"1016\"},{\"id\":\"1020\"}],\"left\":[{\"id\":\"1017\"}],\"renderers\":[{\"id\":\"1034\"}],\"sizing_mode\":\"scale_width\",\"title\":{\"id\":\"1005\"},\"toolbar\":{\"id\":\"1027\"},\"toolbar_location\":\"left\",\"x_range\":{\"id\":\"1002\"},\"x_scale\":{\"id\":\"1009\"},\"y_range\":{\"id\":\"1003\"},\"y_scale\":{\"id\":\"1011\"}},\"id\":\"1004\",\"subtype\":\"Figure\",\"type\":\"Plot\"},{\"attributes\":{},\"id\":\"1023\",\"type\":\"SaveTool\"},{\"attributes\":{\"callback\":null},\"id\":\"1025\",\"type\":\"TapTool\"},{\"attributes\":{\"source\":{\"id\":\"1040\"}},\"id\":\"1042\",\"type\":\"CDSView\"},{\"attributes\":{},\"id\":\"1009\",\"type\":\"LinearScale\"},{\"attributes\":{\"fill_color\":{\"value\":\"skyblue\"},\"size\":{\"units\":\"screen\",\"value\":15}},\"id\":\"1044\",\"type\":\"Circle\"},{\"attributes\":{\"fill_color\":{\"value\":\"skyblue\"},\"line_width\":{\"value\":2},\"size\":{\"units\":\"screen\",\"value\":15}},\"id\":\"1059\",\"type\":\"Circle\"},{\"attributes\":{\"data_source\":{\"id\":\"1036\"},\"glyph\":{\"id\":\"1044\"},\"hover_glyph\":{\"id\":\"1054\"},\"muted_glyph\":null,\"selection_glyph\":{\"id\":\"1059\"},\"view\":{\"id\":\"1038\"}},\"id\":\"1037\",\"type\":\"GlyphRenderer\"},{\"attributes\":{},\"id\":\"1089\",\"type\":\"BasicTickFormatter\"},{\"attributes\":{},\"id\":\"1014\",\"type\":\"BasicTicker\"},{\"attributes\":{},\"id\":\"1093\",\"type\":\"Selection\"},{\"attributes\":{},\"id\":\"1018\",\"type\":\"BasicTicker\"},{\"attributes\":{},\"id\":\"1094\",\"type\":\"UnionRenderers\"},{\"attributes\":{},\"id\":\"1021\",\"type\":\"PanTool\"},{\"attributes\":{\"line_width\":{\"value\":2}},\"id\":\"1064\",\"type\":\"MultiLine\"},{\"attributes\":{\"active_drag\":\"auto\",\"active_inspect\":\"auto\",\"active_multi\":null,\"active_scroll\":{\"id\":\"1022\"},\"active_tap\":\"auto\",\"tools\":[{\"id\":\"1021\"},{\"id\":\"1022\"},{\"id\":\"1023\"},{\"id\":\"1024\"},{\"id\":\"1025\"},{\"id\":\"1026\"}]},\"id\":\"1027\",\"type\":\"Toolbar\"},{\"attributes\":{},\"id\":\"1024\",\"type\":\"ResetTool\"},{\"attributes\":{},\"id\":\"1087\",\"type\":\"BasicTickFormatter\"},{\"attributes\":{},\"id\":\"1011\",\"type\":\"LinearScale\"},{\"attributes\":{\"data_source\":{\"id\":\"1040\"},\"glyph\":{\"id\":\"1049\"},\"hover_glyph\":{\"id\":\"1069\"},\"muted_glyph\":null,\"selection_glyph\":{\"id\":\"1064\"},\"view\":{\"id\":\"1042\"}},\"id\":\"1041\",\"type\":\"GlyphRenderer\"},{\"attributes\":{\"formatter\":{\"id\":\"1089\"},\"ticker\":{\"id\":\"1018\"},\"visible\":false},\"id\":\"1017\",\"type\":\"LinearAxis\"},{\"attributes\":{},\"id\":\"1091\",\"type\":\"Selection\"},{\"attributes\":{},\"id\":\"1092\",\"type\":\"UnionRenderers\"},{\"attributes\":{\"axis\":{\"id\":\"1013\"},\"ticker\":null,\"visible\":false},\"id\":\"1016\",\"type\":\"Grid\"},{\"attributes\":{\"formatter\":{\"id\":\"1087\"},\"ticker\":{\"id\":\"1014\"},\"visible\":false},\"id\":\"1013\",\"type\":\"LinearAxis\"},{\"attributes\":{\"line_width\":{\"value\":2}},\"id\":\"1069\",\"type\":\"MultiLine\"},{\"attributes\":{\"data\":{\"betweenness\":[0.004622508177397137,5.989817310572027e-05,0.03227262859511145,0.0,0.09994344156136246,0.2094523840293194,0.19791284320277353,0.06553840423231058,0.0,0.007275961371756524,0.0,0.01958014232946847,0.07960711308183888,0.0,0.0006091214266627511,0.06301659941786954,0.004727134574764742,0.02674643287824232,0.0,0.005879915417737236,0.025434099443917696,0.22996466368473173,0.0007626320968639029,0.0002629599012559427,0.014162278987154626,0.0019261823273239152,0.0006281164805527878,0.003780752291533962,0.018867924528301886,0.04011407489067884,0.0,0.0021937273446681065,0.0004064518889316733,0.0,0.0019922569692430686,0.0,0.00047177590304274953,0.0015376001520469229,0.00010482180293501046,0.0008358985235471674,0.0006600525898733143,0.0032731813973401044,0.04890588265764755,0.0063172332740347534,0.0002426336765959408,0.0,0.015215156305177053,0.0011502139845250673,0.1269644713830151,6.751960581039384e-05,0.12672031668498004,0.1026998617273264,0.002996853410630337,0.0,0.00025900705642512993,0.0,0.0012523948930099663,0.0009094137867722772,0.018867924528301886,0.0,5.989817310572027e-05,5.989817310572027e-05,0.00017969451931716083,0.15720345212054956,0.0,0.002329891127259132,0.0,0.0,0.0,0.007312671807481101,0.015644391307527945,0.0,0.056064690026954175,0.0,0.0,0.019341416465723616,0.0,0.0,0.0,0.004227926858198188,0.0006984420191967362,0.02355861153253357,0.0,0.019219915043818533,0.0010973522354777933,0.0006235971795124951,0.0,0.00860866854841803,0.0,0.0002635519616651692,0.0,0.0,0.005898334987101542,0.0,0.0005764583325230229,0.0,0.0,0.0,0.0,0.0,0.0,0.0,0.0,0.0,0.0,0.0,0.0],\"degree\":[5,4,15,4,24,18,36,22,3,12,1,7,19,2,6,14,8,20,4,12,18,26,6,4,13,5,6,9,4,6,1,4,4,2,5,2,4,7,4,5,5,8,18,8,3,2,10,7,25,4,26,14,5,6,7,4,5,7,5,1,4,4,4,14,1,6,1,2,1,6,3,1,5,1,1,12,3,4,1,8,5,6,2,6,7,4,3,4,1,5,4,2,4,4,2,1,2,3,3,2,3,2,1,2,1,1,1],\"degree_adjusted\":[10,9,20,9,29,23,41,27,8,17,6,12,24,7,11,19,13,25,9,17,23,31,11,9,18,10,11,14,9,11,6,9,9,7,10,7,9,12,9,10,10,13,23,13,8,7,15,12,30,9,31,19,10,11,12,9,10,12,10,6,9,9,9,19,6,11,6,7,6,11,8,6,10,6,6,17,8,9,6,13,10,11,7,11,12,9,8,9,6,10,9,7,9,9,7,6,7,8,8,7,8,7,6,7,6,6,6],\"index\":[\"Aemon\",\"Grenn\",\"Samwell\",\"Aerys\",\"Jaime\",\"Robert\",\"Tyrion\",\"Tywin\",\"Alliser\",\"Mance\",\"Amory\",\"Oberyn\",\"Arya\",\"Anguy\",\"Beric\",\"Bran\",\"Brynden\",\"Cersei\",\"Gendry\",\"Gregor\",\"Joffrey\",\"Jon\",\"Rickon\",\"Roose\",\"Sandor\",\"Thoros\",\"Balon\",\"Loras\",\"Belwas\",\"Barristan\",\"Illyrio\",\"Hodor\",\"Jojen\",\"Luwin\",\"Meera\",\"Nan\",\"Theon\",\"Brienne\",\"Bronn\",\"Podrick\",\"Lothar\",\"Walder\",\"Catelyn\",\"Edmure\",\"Hoster\",\"Jeyne\",\"Lysa\",\"Petyr\",\"Robb\",\"Roslin\",\"Sansa\",\"Stannis\",\"Elia\",\"Ilyn\",\"Meryn\",\"Pycelle\",\"Shae\",\"Varys\",\"Craster\",\"Karl\",\"Daario\",\"Drogo\",\"Irri\",\"Daenerys\",\"Aegon\",\"Jorah\",\"Kraznys\",\"Missandei\",\"Rakharo\",\"Rhaegar\",\"Viserys\",\"Worm\",\"Davos\",\"Cressen\",\"Salladhor\",\"Eddard\",\"Eddison\",\"Gilly\",\"Qyburn\",\"Renly\",\"Tommen\",\"Janos\",\"Bowen\",\"Kevan\",\"Margaery\",\"Myrcella\",\"Dalla\",\"Melisandre\",\"Orell\",\"Qhorin\",\"Rattleshirt\",\"Styr\",\"Val\",\"Ygritte\",\"Jon Arryn\",\"Lancel\",\"Olenna\",\"Marillion\",\"Robert Arryn\",\"Ellaria\",\"Mace\",\"Rickard\",\"Ramsay\",\"Chataya\",\"Shireen\",\"Doran\",\"Walton\"],\"modularity_class\":[1,1,1,0,0,3,0,0,1,1,0,0,2,4,4,2,2,2,4,0,0,1,2,2,0,4,0,0,3,3,3,1,1,2,1,2,2,2,0,0,2,2,2,2,2,2,2,2,2,2,2,1,0,0,0,0,0,0,1,1,3,3,3,3,3,3,3,3,3,3,3,3,1,1,1,2,1,1,0,0,0,1,1,0,0,0,1,1,1,1,1,1,1,1,3,0,0,2,2,0,0,2,2,0,1,0,0],\"modularity_color\":[\"#3288bd\",\"#3288bd\",\"#3288bd\",\"#5e4fa2\",\"#5e4fa2\",\"#abdda4\",\"#5e4fa2\",\"#5e4fa2\",\"#3288bd\",\"#3288bd\",\"#5e4fa2\",\"#5e4fa2\",\"#66c2a5\",\"#e6f598\",\"#e6f598\",\"#66c2a5\",\"#66c2a5\",\"#66c2a5\",\"#e6f598\",\"#5e4fa2\",\"#5e4fa2\",\"#3288bd\",\"#66c2a5\",\"#66c2a5\",\"#5e4fa2\",\"#e6f598\",\"#5e4fa2\",\"#5e4fa2\",\"#abdda4\",\"#abdda4\",\"#abdda4\",\"#3288bd\",\"#3288bd\",\"#66c2a5\",\"#3288bd\",\"#66c2a5\",\"#66c2a5\",\"#66c2a5\",\"#5e4fa2\",\"#5e4fa2\",\"#66c2a5\",\"#66c2a5\",\"#66c2a5\",\"#66c2a5\",\"#66c2a5\",\"#66c2a5\",\"#66c2a5\",\"#66c2a5\",\"#66c2a5\",\"#66c2a5\",\"#66c2a5\",\"#3288bd\",\"#5e4fa2\",\"#5e4fa2\",\"#5e4fa2\",\"#5e4fa2\",\"#5e4fa2\",\"#5e4fa2\",\"#3288bd\",\"#3288bd\",\"#abdda4\",\"#abdda4\",\"#abdda4\",\"#abdda4\",\"#abdda4\",\"#abdda4\",\"#abdda4\",\"#abdda4\",\"#abdda4\",\"#abdda4\",\"#abdda4\",\"#abdda4\",\"#3288bd\",\"#3288bd\",\"#3288bd\",\"#66c2a5\",\"#3288bd\",\"#3288bd\",\"#5e4fa2\",\"#5e4fa2\",\"#5e4fa2\",\"#3288bd\",\"#3288bd\",\"#5e4fa2\",\"#5e4fa2\",\"#5e4fa2\",\"#3288bd\",\"#3288bd\",\"#3288bd\",\"#3288bd\",\"#3288bd\",\"#3288bd\",\"#3288bd\",\"#3288bd\",\"#abdda4\",\"#5e4fa2\",\"#5e4fa2\",\"#66c2a5\",\"#66c2a5\",\"#5e4fa2\",\"#5e4fa2\",\"#66c2a5\",\"#66c2a5\",\"#5e4fa2\",\"#3288bd\",\"#5e4fa2\",\"#5e4fa2\"]},\"selected\":{\"id\":\"1091\"},\"selection_policy\":{\"id\":\"1092\"}},\"id\":\"1036\",\"type\":\"ColumnDataSource\"},{\"attributes\":{\"source\":{\"id\":\"1036\"}},\"id\":\"1038\",\"type\":\"CDSView\"},{\"attributes\":{\"fill_color\":{\"value\":\"skyblue\"},\"line_width\":{\"value\":2},\"size\":{\"units\":\"screen\",\"value\":15}},\"id\":\"1054\",\"type\":\"Circle\"},{\"attributes\":{\"line_alpha\":{\"value\":0.3}},\"id\":\"1049\",\"type\":\"MultiLine\"},{\"attributes\":{\"edge_renderer\":{\"id\":\"1041\"},\"inspection_policy\":{\"id\":\"1076\"},\"layout_provider\":{\"id\":\"1043\"},\"node_renderer\":{\"id\":\"1037\"},\"selection_policy\":{\"id\":\"1074\"}},\"id\":\"1034\",\"type\":\"GraphRenderer\"},{\"attributes\":{},\"id\":\"1076\",\"type\":\"NodesAndLinkedEdges\"},{\"attributes\":{\"axis\":{\"id\":\"1017\"},\"dimension\":1,\"ticker\":null,\"visible\":false},\"id\":\"1020\",\"type\":\"Grid\"},{\"attributes\":{\"graph_layout\":{\"Aegon\":[-8.370547409576185,-2.62280640632699],\"Aemon\":[0.5088024508380085,-2.3730680356920195],\"Aerys\":[0.02015595344380823,0.7586629909520294],\"Alliser\":[2.143514960678532,-4.412910194911233],\"Amory\":[5.042951975334591,4.37827270414906],\"Anguy\":[-3.291450520716021,2.4962982250369055],\"Arya\":[-0.7841562882019619,0.8695798171161975],\"Balon\":[1.5213403737489781,0.7303124865160059],\"Barristan\":[-4.48734264475425,0.4876973204403627],\"Belwas\":[-7.587021601351574,0.8452291597457432],\"Beric\":[-2.370741596306376,1.530534948168841],\"Bowen\":[1.3643042257253744,-5.50960861111844],\"Bran\":[-0.22910697753340278,-1.2803560243641623],\"Brienne\":[-0.2059102301782777,2.1929350307629427],\"Bronn\":[1.478065200023972,2.4479273382094897],\"Brynden\":[-0.1790879220498735,3.1654871704114047],\"Catelyn\":[0.2657345773183258,2.3001515623509814],\"Cersei\":[0.36510028993742794,1.5577223766376929],\"Chataya\":[2.243320706733996,3.7983158841921782],\"Craster\":[2.4630380274677957,-5.599455755181294],\"Cressen\":[9.022317801998737,-2.2901124078063786],\"Daario\":[-8.209816438951668,-0.8083377457978834],\"Daenerys\":[-6.6646541415817,-0.6554004918726424],\"Dalla\":[3.6818188539034185,-3.330727168366497],\"Davos\":[6.344925742355159,-1.8220562672035536],\"Doran\":[-1.4029172896256579,-0.9564978844103744],\"Drogo\":[-8.419083397745775,-0.2919853087918202],\"Eddard\":[-0.22354788679132878,0.17670380507010666],\"Eddison\":[1.1012189031328967,-4.947784468488592],\"Edmure\":[-0.04738703698464761,3.7706147625909985],\"Elia\":[-1.7648081018866988,0.9900513556139018],\"Ellaria\":[3.8251976064858537,2.354835789105134],\"Gendry\":[-2.890760458005116,1.8573917582489037],\"Gilly\":[2.105040117693866,-4.956519253585786],\"Gregor\":[-0.0200577131354115,1.7429577386996624],\"Grenn\":[0.8118002479103203,-4.2899180001039205],\"Hodor\":[-0.6270973931479571,-1.8047404859353164],\"Hoster\":[1.0370798887087795,4.904327995628986],\"Illyrio\":[-10.0,1.7291505315742484],\"Ilyn\":[-0.42472637972336735,0.6592843383461359],\"Irri\":[-8.848107797424792,-1.2140825746309492],\"Jaime\":[-0.31324949263346713,1.209009149831388],\"Janos\":[1.694309042148207,-2.9276051386193855],\"Jeyne\":[-1.0785714355870324,3.8880732349156832],\"Joffrey\":[0.9414785792899082,0.8545207007245879],\"Jojen\":[-0.3985774298696724,-3.468059245136385],\"Jon\":[1.640380372644418,-2.457434714807906],\"Jon Arryn\":[-1.2491238675674403,2.9840269594027156],\"Jorah\":[-6.794854395267327,0.018425737581847845],\"Karl\":[3.2476133613303895,-8.220383800865562],\"Kevan\":[3.1824717296111,1.2755812531988984],\"Kraznys\":[-9.357459834670932,-1.7726620659156784],\"Lancel\":[6.0740382457667375,1.890533833830316],\"Loras\":[1.2509787322070147,0.40768654604274046],\"Lothar\":[-0.1432432281739181,4.481622103309307],\"Luwin\":[-2.2303657902308145,-3.4001270125867213],\"Lysa\":[1.2114713425833255,3.109511454219113],\"Mace\":[3.259260575144081,2.093780221517587],\"Mance\":[2.810271002002226,-4.009542018850388],\"Margaery\":[2.3719219736688073,0.6646959853144785],\"Marillion\":[2.7086663024877193,3.848387428504504],\"Meera\":[0.16585510167832287,-3.2381409585360506],\"Melisandre\":[3.721663237680908,-2.327964003946989],\"Meryn\":[-0.979205462745275,1.0124524359848697],\"Missandei\":[-8.780302311062774,-2.0207448634107816],\"Myrcella\":[1.938109542102523,-0.1330692460092152],\"Nan\":[-1.7826452371875159,-3.7942634287213477],\"Oberyn\":[2.6476332543330905,2.5137626179143746],\"Olenna\":[2.57319049105913,-0.7425822183751255],\"Orell\":[4.430673689067514,-3.926043161818185],\"Petyr\":[0.921722758683378,2.6491233732135817],\"Podrick\":[2.62028232984031,1.6395113701271065],\"Pycelle\":[2.1997176940349203,2.181989963909545],\"Qhorin\":[2.946990148086231,-4.492369445574056],\"Qyburn\":[0.6595206058898067,4.340302010663745],\"Rakharo\":[-9.510464097409526,-0.8191587632323614],\"Ramsay\":[-1.7556159136594225,4.470872700643256],\"Rattleshirt\":[3.7717507215394432,-4.417671388934226],\"Renly\":[0.8592428016364398,0.06923933984502863],\"Rhaegar\":[-4.42344752491722,-0.04747510362866539],\"Rickard\":[-0.6398873074018973,4.7149503856306145],\"Rickon\":[-0.7300326505198786,0.10920791978563987],\"Robb\":[0.051348838387062744,1.515708938867939],\"Robert\":[-1.3064638022549726,0.07423409568565971],\"Robert Arryn\":[3.0181372119740844,3.429323370004935],\"Roose\":[-1.3869421049146353,2.566077855261414],\"Roslin\":[0.2120637743636805,5.1539929345565945],\"Salladhor\":[9.0161571853188,-1.589370768038174],\"Samwell\":[1.5537037824310302,-3.5544745648475926],\"Sandor\":[-1.0409574749886088,1.3428487550640031],\"Sansa\":[1.1064273369047941,1.094484584317007],\"Shae\":[1.941772175953196,2.653420260832334],\"Shireen\":[8.748163543291346,-2.947979578432361],\"Stannis\":[1.709185454579006,-0.5561646768997824],\"Styr\":[3.1055459482926584,-5.225043753133356],\"Theon\":[0.30548389193742337,-1.056523040797586],\"Thoros\":[-2.7100198846319397,1.027941093852853],\"Tommen\":[2.034218958586334,0.42692955177857206],\"Tyrion\":[0.8159768546480185,1.0772998271056156],\"Tywin\":[1.3938422609440866,1.39979873752721],\"Val\":[2.9178632542646374,-1.862211604772911],\"Varys\":[2.163413313092449,1.4840415687814015],\"Viserys\":[-3.492472412349222,0.02666424296943851],\"Walder\":[0.5636832675892591,3.6325458978795444],\"Walton\":[-2.8522235098839945,-0.10965730589149263],\"Worm\":[-9.331994308802374,-0.00592822110513076],\"Ygritte\":[3.4845201118882017,-4.788006352688053]}},\"id\":\"1043\",\"type\":\"StaticLayoutProvider\"},{\"attributes\":{\"data\":{\"Weight\":[5,31,30,4,4,8,25,43,11,11,52,7,5,6,34,12,36,6,10,5,13,18,6,5,8,11,19,36,6,6,4,88,5,4,6,15,16,11,11,7,17,5,8,31,15,10,13,10,4,16,5,10,5,6,6,5,4,5,4,6,5,9,11,5,5,46,54,5,4,12,77,4,31,5,5,5,4,22,5,5,11,6,9,7,5,25,12,28,11,6,4,21,6,18,39,4,4,12,5,4,16,7,13,14,5,6,4,5,5,15,4,4,6,4,5,9,15,4,69,11,8,7,10,9,7,8,12,5,24,4,6,6,11,23,9,6,5,43,7,6,7,8,5,46,18,18,15,22,4,4,21,8,15,96,46,12,4,54,14,35,11,4,15,23,10,4,5,8,7,4,17,4,5,4,4,6,7,23,10,4,6,4,4,6,4,16,7,5,5,9,7,7,12,5,4,8,7,28,5,5,14,10,9,10,35,8,7,6,4,9,8,4,7,6,31,20,9,16,8,12,54,14,4,8,8,15,7,4,4,4,5,4,4,10,6,4,6,4,7,9,5,8,14,18,10,26,13,20,11,5,35,41,5,33,4,11,7,6,5,19,4,8,4,4,10,12,19,9,26,6,6,16,9,10,8,5,43,6,8,4,5,16,9,32,6,18,5,10,29,9,28,5,28,13,4,7,15,4,6,5,36,9,4,7,4,6,8,32,20,15,7,5,4,4,8,5,4,6,17,4,5,14,7,18,7,6,17,4,8,47,10,26,7,12,8,14,5,7,4,16,30,5,7,5,5,5,7,7,6,7,9,4],\"end\":[\"Grenn\",\"Samwell\",\"Jon\",\"Robert\",\"Stannis\",\"Eddison\",\"Jon\",\"Samwell\",\"Bran\",\"Jojen\",\"Jon\",\"Meera\",\"Melisandre\",\"Bowen\",\"Craster\",\"Eddison\",\"Gilly\",\"Janos\",\"Mance\",\"Qhorin\",\"Stannis\",\"Jaime\",\"Robert\",\"Tyrion\",\"Tywin\",\"Arya\",\"Catelyn\",\"Cersei\",\"Eddard\",\"Balon\",\"Barristan\",\"Brienne\",\"Edmure\",\"Elia\",\"Gregor\",\"Joffrey\",\"Loras\",\"Meryn\",\"Qyburn\",\"Renly\",\"Robert\",\"Stannis\",\"Tommen\",\"Tyrion\",\"Robb\",\"Sansa\",\"Tywin\",\"Walton\",\"Arya\",\"Cersei\",\"Daenerys\",\"Eddard\",\"Jon\",\"Jon Arryn\",\"Rhaegar\",\"Barristan\",\"Renly\",\"Stannis\",\"Thoros\",\"Sandor\",\"Sansa\",\"Tyrion\",\"Tywin\",\"Arya\",\"Catelyn\",\"Cersei\",\"Joffrey\",\"Lysa\",\"Myrcella\",\"Robb\",\"Sansa\",\"Balon\",\"Bronn\",\"Chataya\",\"Doran\",\"Elia\",\"Ellaria\",\"Gregor\",\"Ilyn\",\"Janos\",\"Kevan\",\"Loras\",\"Mace\",\"Margaery\",\"Meryn\",\"Oberyn\",\"Petyr\",\"Podrick\",\"Pycelle\",\"Renly\",\"Sandor\",\"Shae\",\"Stannis\",\"Varys\",\"Tywin\",\"Viserys\",\"Lysa\",\"Robb\",\"Balon\",\"Brynden\",\"Cersei\",\"Gregor\",\"Joffrey\",\"Kevan\",\"Mace\",\"Oberyn\",\"Petyr\",\"Podrick\",\"Pycelle\",\"Stannis\",\"Tommen\",\"Val\",\"Varys\",\"Walder\",\"Mance\",\"Janos\",\"Jon\",\"Janos\",\"Jon\",\"Craster\",\"Dalla\",\"Gilly\",\"Qhorin\",\"Rattleshirt\",\"Styr\",\"Val\",\"Ygritte\",\"Oberyn\",\"Gregor\",\"Joffrey\",\"Ellaria\",\"Mace\",\"Anguy\",\"Beric\",\"Bran\",\"Brynden\",\"Cersei\",\"Gendry\",\"Gregor\",\"Joffrey\",\"Jon\",\"Rickon\",\"Roose\",\"Sandor\",\"Thoros\",\"Eddard\",\"Robb\",\"Sansa\",\"Beric\",\"Gendry\",\"Thoros\",\"Eddard\",\"Sandor\",\"Hodor\",\"Jojen\",\"Jon\",\"Luwin\",\"Meera\",\"Nan\",\"Rickon\",\"Theon\",\"Catelyn\",\"Eddard\",\"Robb\",\"Sansa\",\"Lothar\",\"Walder\",\"Catelyn\",\"Edmure\",\"Rickard\",\"Robb\",\"Catelyn\",\"Brienne\",\"Bronn\",\"Elia\",\"Gregor\",\"Ilyn\",\"Joffrey\",\"Meryn\",\"Pycelle\",\"Sandor\",\"Shae\",\"Varys\",\"Eddard\",\"Lysa\",\"Sansa\",\"Thoros\",\"Sandor\",\"Bronn\",\"Elia\",\"Ilyn\",\"Meryn\",\"Sandor\",\"Joffrey\",\"Ilyn\",\"Kevan\",\"Loras\",\"Margaery\",\"Meryn\",\"Myrcella\",\"Sandor\",\"Stannis\",\"Tommen\",\"Robb\",\"Sansa\",\"Eddard\",\"Craster\",\"Dalla\",\"Eddison\",\"Gilly\",\"Janos\",\"Meera\",\"Melisandre\",\"Orell\",\"Qhorin\",\"Rattleshirt\",\"Stannis\",\"Styr\",\"Theon\",\"Val\",\"Ygritte\",\"Robb\",\"Sansa\",\"Eddard\",\"Theon\",\"Robb\",\"Sansa\",\"Catelyn\",\"Robb\",\"Brienne\",\"Eddard\",\"Ilyn\",\"Meryn\",\"Thoros\",\"Sansa\",\"Loras\",\"Robb\",\"Stannis\",\"Brienne\",\"Margaery\",\"Olenna\",\"Renly\",\"Sansa\",\"Barristan\",\"Illyrio\",\"Daenerys\",\"Jorah\",\"Daenerys\",\"Jorah\",\"Rhaegar\",\"Jojen\",\"Meera\",\"Robb\",\"Meera\",\"Nan\",\"Robb\",\"Catelyn\",\"Robb\",\"Sansa\",\"Podrick\",\"Margaery\",\"Sansa\",\"Edmure\",\"Roslin\",\"Robb\",\"Walder\",\"Catelyn\",\"Edmure\",\"Robb\",\"Petyr\",\"Roslin\",\"Edmure\",\"Hoster\",\"Jeyne\",\"Lysa\",\"Petyr\",\"Robb\",\"Roslin\",\"Sansa\",\"Stannis\",\"Eddard\",\"Roslin\",\"Hoster\",\"Robb\",\"Lysa\",\"Robb\",\"Jon Arryn\",\"Marillion\",\"Petyr\",\"Robert Arryn\",\"Sansa\",\"Robb\",\"Sansa\",\"Eddard\",\"Ramsay\",\"Rickard\",\"Sansa\",\"Stannis\",\"Eddard\",\"Kevan\",\"Margaery\",\"Marillion\",\"Myrcella\",\"Olenna\",\"Renly\",\"Robert Arryn\",\"Shae\",\"Davos\",\"Melisandre\",\"Renly\",\"Rhaegar\",\"Meryn\",\"Varys\",\"Chataya\",\"Varys\",\"Kevan\",\"Renly\",\"Karl\",\"Gilly\",\"Drogo\",\"Irri\",\"Daenerys\",\"Jorah\",\"Daenerys\",\"Irri\",\"Jorah\",\"Daenerys\",\"Missandei\",\"Aegon\",\"Jorah\",\"Kraznys\",\"Missandei\",\"Rakharo\",\"Rhaegar\",\"Viserys\",\"Worm\",\"Rhaegar\",\"Viserys\",\"Cressen\",\"Salladhor\",\"Melisandre\",\"Shireen\",\"Margaery\",\"Myrcella\",\"Margaery\",\"Bowen\",\"Lancel\",\"Val\",\"Rattleshirt\",\"Ygritte\",\"Ygritte\",\"Robert Arryn\"],\"start\":[\"Aemon\",\"Aemon\",\"Aemon\",\"Aemon\",\"Aemon\",\"Grenn\",\"Grenn\",\"Grenn\",\"Samwell\",\"Samwell\",\"Samwell\",\"Samwell\",\"Samwell\",\"Samwell\",\"Samwell\",\"Samwell\",\"Samwell\",\"Samwell\",\"Samwell\",\"Samwell\",\"Samwell\",\"Aerys\",\"Aerys\",\"Aerys\",\"Aerys\",\"Jaime\",\"Jaime\",\"Jaime\",\"Jaime\",\"Jaime\",\"Jaime\",\"Jaime\",\"Jaime\",\"Jaime\",\"Jaime\",\"Jaime\",\"Jaime\",\"Jaime\",\"Jaime\",\"Jaime\",\"Jaime\",\"Jaime\",\"Jaime\",\"Jaime\",\"Jaime\",\"Jaime\",\"Jaime\",\"Jaime\",\"Robert\",\"Robert\",\"Robert\",\"Robert\",\"Robert\",\"Robert\",\"Robert\",\"Robert\",\"Robert\",\"Robert\",\"Robert\",\"Robert\",\"Robert\",\"Robert\",\"Robert\",\"Tyrion\",\"Tyrion\",\"Tyrion\",\"Tyrion\",\"Tyrion\",\"Tyrion\",\"Tyrion\",\"Tyrion\",\"Tyrion\",\"Tyrion\",\"Tyrion\",\"Tyrion\",\"Tyrion\",\"Tyrion\",\"Tyrion\",\"Tyrion\",\"Tyrion\",\"Tyrion\",\"Tyrion\",\"Tyrion\",\"Tyrion\",\"Tyrion\",\"Tyrion\",\"Tyrion\",\"Tyrion\",\"Tyrion\",\"Tyrion\",\"Tyrion\",\"Tyrion\",\"Tyrion\",\"Tyrion\",\"Tyrion\",\"Tyrion\",\"Tywin\",\"Tywin\",\"Tywin\",\"Tywin\",\"Tywin\",\"Tywin\",\"Tywin\",\"Tywin\",\"Tywin\",\"Tywin\",\"Tywin\",\"Tywin\",\"Tywin\",\"Tywin\",\"Tywin\",\"Tywin\",\"Tywin\",\"Tywin\",\"Alliser\",\"Alliser\",\"Alliser\",\"Mance\",\"Mance\",\"Mance\",\"Mance\",\"Mance\",\"Mance\",\"Mance\",\"Mance\",\"Mance\",\"Mance\",\"Amory\",\"Oberyn\",\"Oberyn\",\"Oberyn\",\"Oberyn\",\"Arya\",\"Arya\",\"Arya\",\"Arya\",\"Arya\",\"Arya\",\"Arya\",\"Arya\",\"Arya\",\"Arya\",\"Arya\",\"Arya\",\"Arya\",\"Arya\",\"Arya\",\"Arya\",\"Anguy\",\"Beric\",\"Beric\",\"Beric\",\"Beric\",\"Bran\",\"Bran\",\"Bran\",\"Bran\",\"Bran\",\"Bran\",\"Bran\",\"Bran\",\"Bran\",\"Bran\",\"Bran\",\"Bran\",\"Brynden\",\"Brynden\",\"Brynden\",\"Brynden\",\"Brynden\",\"Brynden\",\"Cersei\",\"Cersei\",\"Cersei\",\"Cersei\",\"Cersei\",\"Cersei\",\"Cersei\",\"Cersei\",\"Cersei\",\"Cersei\",\"Cersei\",\"Cersei\",\"Cersei\",\"Cersei\",\"Cersei\",\"Gendry\",\"Gendry\",\"Gregor\",\"Gregor\",\"Gregor\",\"Gregor\",\"Gregor\",\"Gregor\",\"Joffrey\",\"Joffrey\",\"Joffrey\",\"Joffrey\",\"Joffrey\",\"Joffrey\",\"Joffrey\",\"Joffrey\",\"Joffrey\",\"Joffrey\",\"Joffrey\",\"Jon\",\"Jon\",\"Jon\",\"Jon\",\"Jon\",\"Jon\",\"Jon\",\"Jon\",\"Jon\",\"Jon\",\"Jon\",\"Jon\",\"Jon\",\"Jon\",\"Jon\",\"Jon\",\"Jon\",\"Jon\",\"Rickon\",\"Rickon\",\"Rickon\",\"Rickon\",\"Roose\",\"Roose\",\"Roose\",\"Sandor\",\"Sandor\",\"Sandor\",\"Sandor\",\"Sandor\",\"Balon\",\"Balon\",\"Balon\",\"Loras\",\"Loras\",\"Loras\",\"Loras\",\"Loras\",\"Belwas\",\"Belwas\",\"Belwas\",\"Belwas\",\"Barristan\",\"Barristan\",\"Barristan\",\"Hodor\",\"Hodor\",\"Hodor\",\"Jojen\",\"Luwin\",\"Theon\",\"Brienne\",\"Brienne\",\"Brienne\",\"Bronn\",\"Podrick\",\"Podrick\",\"Lothar\",\"Lothar\",\"Lothar\",\"Lothar\",\"Walder\",\"Walder\",\"Walder\",\"Walder\",\"Walder\",\"Catelyn\",\"Catelyn\",\"Catelyn\",\"Catelyn\",\"Catelyn\",\"Catelyn\",\"Catelyn\",\"Catelyn\",\"Catelyn\",\"Catelyn\",\"Edmure\",\"Edmure\",\"Edmure\",\"Hoster\",\"Jeyne\",\"Lysa\",\"Lysa\",\"Lysa\",\"Lysa\",\"Lysa\",\"Petyr\",\"Petyr\",\"Robb\",\"Robb\",\"Robb\",\"Robb\",\"Robb\",\"Sansa\",\"Sansa\",\"Sansa\",\"Sansa\",\"Sansa\",\"Sansa\",\"Sansa\",\"Sansa\",\"Sansa\",\"Stannis\",\"Stannis\",\"Stannis\",\"Elia\",\"Ilyn\",\"Pycelle\",\"Shae\",\"Shae\",\"Varys\",\"Varys\",\"Craster\",\"Craster\",\"Daario\",\"Daario\",\"Daario\",\"Daario\",\"Drogo\",\"Drogo\",\"Drogo\",\"Irri\",\"Irri\",\"Daenerys\",\"Daenerys\",\"Daenerys\",\"Daenerys\",\"Daenerys\",\"Daenerys\",\"Daenerys\",\"Daenerys\",\"Jorah\",\"Rhaegar\",\"Davos\",\"Davos\",\"Davos\",\"Davos\",\"Renly\",\"Tommen\",\"Tommen\",\"Janos\",\"Kevan\",\"Dalla\",\"Qhorin\",\"Qhorin\",\"Rattleshirt\",\"Marillion\"]},\"selected\":{\"id\":\"1093\"},\"selection_policy\":{\"id\":\"1094\"}},\"id\":\"1040\",\"type\":\"ColumnDataSource\"},{\"attributes\":{},\"id\":\"1074\",\"type\":\"NodesAndLinkedEdges\"},{\"attributes\":{},\"id\":\"1022\",\"type\":\"WheelZoomTool\"},{\"attributes\":{\"end\":10.1,\"start\":-10.1},\"id\":\"1002\",\"type\":\"Range1d\"},{\"attributes\":{\"end\":10.1,\"start\":-10.1},\"id\":\"1003\",\"type\":\"Range1d\"},{\"attributes\":{\"text\":\"Network\"},\"id\":\"1005\",\"type\":\"Title\"},{\"attributes\":{\"callback\":null,\"tooltips\":[[\"Character\",\"@index\"],[\"Degree\",\"@degree\"],[\"Betweenness\",\"@betweenness{1.111}\"],[\"Modularity Class\",\"@modularity_class\"],[\"Modularity Color\",\"$color[swatch]:modularity_color\"]]},\"id\":\"1026\",\"type\":\"HoverTool\"}],\"root_ids\":[\"1004\"]},\"title\":\"Bokeh Application\",\"version\":\"2.0.2\"}};\n",
       "  var render_items = [{\"docid\":\"0b4943ba-3403-4f97-969a-8c1ddebe2df0\",\"root_ids\":[\"1004\"],\"roots\":{\"1004\":\"076bf540-c797-4dc5-9abb-fcb68495d95b\"}}];\n",
       "  root.Bokeh.embed.embed_items_notebook(docs_json, render_items);\n",
       "\n",
       "  }\n",
       "  if (root.Bokeh !== undefined) {\n",
       "    embed_document(root);\n",
       "  } else {\n",
       "    var attempts = 0;\n",
       "    var timer = setInterval(function(root) {\n",
       "      if (root.Bokeh !== undefined) {\n",
       "        clearInterval(timer);\n",
       "        embed_document(root);\n",
       "      } else {\n",
       "        attempts++;\n",
       "        if (attempts > 100) {\n",
       "          clearInterval(timer);\n",
       "          console.log(\"Bokeh: ERROR: Unable to run BokehJS code because BokehJS library is missing\");\n",
       "        }\n",
       "      }\n",
       "    }, 10, root)\n",
       "  }\n",
       "})(window);"
      ],
      "application/vnd.bokehjs_exec.v0+json": ""
     },
     "metadata": {
      "application/vnd.bokehjs_exec.v0+json": {
       "id": "1004"
      }
     },
     "output_type": "display_data"
    },
    {
     "name": "stderr",
     "output_type": "stream",
     "text": [
      "/Users/melaniewalsh/opt/anaconda3/lib/python3.7/site-packages/bokeh/io/saving.py:125: UserWarning: save() called but no resources were supplied and output_file(...) was never called, defaulting to resources.CDN\n",
      "  warn(\"save() called but no resources were supplied and output_file(...) was never called, defaulting to resources.CDN\")\n"
     ]
    }
   ],
   "source": [
    "make_interactive_network(G, save_as=\"basic.html\")"
   ]
  },
  {
   "cell_type": "markdown",
   "metadata": {},
   "source": [
    "## Basic Network with Labels"
   ]
  },
  {
   "cell_type": "code",
   "execution_count": 12,
   "metadata": {},
   "outputs": [
    {
     "data": {
      "text/html": [
       "\n",
       "\n",
       "\n",
       "\n",
       "\n",
       "\n",
       "  <div class=\"bk-root\" id=\"cee403b4-cd03-4bca-9820-b962e5e46bfb\" data-root-id=\"1411\"></div>\n"
      ]
     },
     "metadata": {},
     "output_type": "display_data"
    },
    {
     "data": {
      "application/javascript": [
       "(function(root) {\n",
       "  function embed_document(root) {\n",
       "    \n",
       "  var docs_json = {\"8c4e414e-2846-4f1d-b4d0-0a15fb79d336\":{\"roots\":{\"references\":[{\"attributes\":{\"below\":[{\"id\":\"1420\"}],\"center\":[{\"id\":\"1423\"},{\"id\":\"1427\"}],\"left\":[{\"id\":\"1424\"}],\"renderers\":[{\"id\":\"1441\"},{\"id\":\"1486\"}],\"sizing_mode\":\"scale_width\",\"title\":{\"id\":\"1412\"},\"toolbar\":{\"id\":\"1434\"},\"toolbar_location\":\"left\",\"x_range\":{\"id\":\"1409\"},\"x_scale\":{\"id\":\"1416\"},\"y_range\":{\"id\":\"1410\"},\"y_scale\":{\"id\":\"1418\"}},\"id\":\"1411\",\"subtype\":\"Figure\",\"type\":\"Plot\"},{\"attributes\":{\"graph_layout\":{\"Aegon\":[9.624284427623575,1.339636094337317],\"Aemon\":[0.4747035377643776,-2.745673303062873],\"Aerys\":[-0.04552764491199821,0.5557453159117582],\"Alliser\":[-1.8286981886762723,-5.111133032730282],\"Amory\":[-7.496693993267704,3.6587038785964046],\"Anguy\":[-4.298700682181048,-1.513911303042291],\"Arya\":[-1.2962403074539488,-0.09593341042355107],\"Balon\":[-1.1521495237338546,0.44866789352208264],\"Barristan\":[4.352027341228881,1.8076495280160496],\"Belwas\":[7.443533819862692,3.181870019148835],\"Beric\":[-2.933752498736085,-1.0293342784189066],\"Bowen\":[-0.585701897667301,-5.370929132834052],\"Bran\":[0.9148844361836551,-1.469443845108027],\"Brienne\":[0.469536661389075,2.1334929545245647],\"Bronn\":[-3.250602271834946,3.407724462179869],\"Brynden\":[-0.9681576890226862,2.8481165238056594],\"Catelyn\":[-0.1653036486808103,2.06879077671322],\"Cersei\":[-1.4092650362299108,1.6987944586240795],\"Chataya\":[-3.314139186720457,4.845571224736779],\"Craster\":[0.4061103459733983,-6.6350794274758105],\"Cressen\":[-7.194498472045343,-6.763820786915391],\"Daario\":[8.547813457927424,2.7164028055793588],\"Daenerys\":[6.847982712001166,1.3591660149216631],\"Dalla\":[-2.4467234003710803,-4.963141041099158],\"Davos\":[-4.993241005828236,-4.883909370527245],\"Doran\":[-4.37469405370181,4.457834861558569],\"Drogo\":[8.580046174965618,2.075089258171201],\"Eddard\":[-0.614199295450007,-0.3316865518841266],\"Eddison\":[1.1732920496156547,-5.566127898177997],\"Edmure\":[0.054681956869373806,3.551563727210397],\"Elia\":[0.7776071955689462,1.7650092998835814],\"Ellaria\":[-5.154387166325992,3.1334342525362118],\"Gendry\":[-3.5772300997838515,-0.9456637416111388],\"Gilly\":[0.331921661371955,-5.799060330408256],\"Gregor\":[-2.271399035626346,1.6953881362128378],\"Grenn\":[1.0826340108296235,-4.7520884662541825],\"Hodor\":[1.76138999019997,-1.804000845552652],\"Hoster\":[0.7801842162089598,4.921303641394784],\"Illyrio\":[9.817700230780494,4.81992095698161],\"Ilyn\":[-3.4954835501750576,0.9753784723861757],\"Irri\":[9.405261600228702,2.521593708439602],\"Jaime\":[-0.0037956093721431073,1.3691586138622882],\"Janos\":[-1.3356086595698573,-3.085782823274339],\"Jeyne\":[-1.1564164259338643,3.959856698023505],\"Joffrey\":[-2.2251222141273175,1.086152079141288],\"Jojen\":[2.100285637310987,-3.501479623276095],\"Jon\":[-0.5510499536506027,-3.4265529387046834],\"Jon Arryn\":[2.4592654844292383,2.478220069866129],\"Jorah\":[6.783058182083639,2.233047457743091],\"Karl\":[1.2063275385833272,-9.53335309879659],\"Kevan\":[-3.9743392779510356,1.6493472874372446],\"Kraznys\":[9.242512302566066,-0.23653647993719773],\"Lancel\":[-7.26929937733987,2.107984764230868],\"Loras\":[-0.7960882671606573,2.247372755465165],\"Lothar\":[-0.7237774913994641,4.372684357295864],\"Luwin\":[3.554709616782655,-3.3468658826071755],\"Lysa\":[0.26154862020861774,2.963574488858124],\"Mace\":[-4.198783070055019,2.836292332589883],\"Mance\":[-1.0658956545363079,-5.224873862445624],\"Margaery\":[-2.257161665991047,2.458672637573359],\"Marillion\":[1.2430390367814734,4.252924655463102],\"Meera\":[1.402575746114181,-3.4855045188625216],\"Melisandre\":[-2.4276037409192206,-3.9389124209403943],\"Meryn\":[-2.9163894813980202,1.250112111468187],\"Missandei\":[9.911738362674413,2.047294958256648],\"Myrcella\":[-1.506843480171105,2.290919066783281],\"Nan\":[3.8049115257815953,-2.725823344050582],\"Oberyn\":[-4.449098313237665,2.2721436880512935],\"Olenna\":[0.5486506661294196,3.9569009752891104],\"Orell\":[-1.6720820886252081,-6.8639963315437384],\"Petyr\":[-0.5798547098102308,2.692097750878337],\"Podrick\":[-2.5600370332126587,3.0628664276446984],\"Pycelle\":[-3.5758434612194,2.37441626474844],\"Qhorin\":[-0.316768593469933,-5.971700653294219],\"Qyburn\":[2.7082312132973674,3.62515993310297],\"Rakharo\":[9.377559297349228,0.43676354909561815],\"Ramsay\":[-2.638417990798409,-1.5252555528362006],\"Rattleshirt\":[-0.5090176726452751,-6.653348008357625],\"Renly\":[-1.2450788554528511,1.0173186875985754],\"Rhaegar\":[4.119022471982381,1.3844447382912397],\"Rickard\":[-0.12156937654084167,4.258418924507655],\"Rickon\":[0.19221140418569563,-0.6090845966440029],\"Robb\":[-0.45441580301248374,0.915888693694902],\"Robert\":[0.931455234419383,0.2965763029258841],\"Robert Arryn\":[1.556128166842015,3.7350334023315024],\"Roose\":[0.948109930963077,0.9534823829490999],\"Roslin\":[-0.26222230375819766,5.178900977667805],\"Salladhor\":[-7.5886312379385545,-6.0921813765463515],\"Samwell\":[0.017627691728780634,-4.165572852640967],\"Sandor\":[-2.055264834444808,0.23674363897768483],\"Sansa\":[-0.6768083334676057,1.387812823975885],\"Shae\":[-2.378899759114761,3.605185770035181],\"Shireen\":[-6.613178138525226,-7.284178621189431],\"Stannis\":[-1.3544506652030062,-1.1464189549701602],\"Styr\":[-2.0216746620789134,-6.1456456200464515],\"Theon\":[0.2125359175662793,-1.7854417570967873],\"Thoros\":[-1.918103369786704,-1.0000998031243025],\"Tommen\":[-2.6246716115048634,1.4626620162100874],\"Tyrion\":[-1.8344534454610866,1.7493800617793973],\"Tywin\":[-1.8484311723921072,1.281080895712054],\"Val\":[-2.1175611596355934,-2.9020514402410047],\"Varys\":[-3.0193347656793414,2.390830352554364],\"Viserys\":[3.115426605420937,1.8084136862609257],\"Walder\":[-0.7600286395771807,3.4789318960636453],\"Walton\":[2.9685405550685586,0.9764389556702067],\"Worm\":[10.0,0.7689128506115375],\"Ygritte\":[-1.0402060202696182,-6.465670919126462]}},\"id\":\"1450\",\"type\":\"StaticLayoutProvider\"},{\"attributes\":{\"fill_color\":{\"value\":\"skyblue\"},\"line_width\":{\"value\":2},\"size\":{\"units\":\"screen\",\"value\":15}},\"id\":\"1466\",\"type\":\"Circle\"},{\"attributes\":{},\"id\":\"1519\",\"type\":\"UnionRenderers\"},{\"attributes\":{},\"id\":\"1429\",\"type\":\"WheelZoomTool\"},{\"attributes\":{},\"id\":\"1430\",\"type\":\"SaveTool\"},{\"attributes\":{},\"id\":\"1421\",\"type\":\"BasicTicker\"},{\"attributes\":{},\"id\":\"1418\",\"type\":\"LinearScale\"},{\"attributes\":{\"callback\":null},\"id\":\"1432\",\"type\":\"TapTool\"},{\"attributes\":{},\"id\":\"1516\",\"type\":\"BasicTickFormatter\"},{\"attributes\":{\"data\":{\"betweenness\":[0.004622508177397137,5.989817310572027e-05,0.03227262859511145,0.0,0.09994344156136246,0.2094523840293194,0.19791284320277353,0.06553840423231058,0.0,0.007275961371756524,0.0,0.01958014232946847,0.07960711308183888,0.0,0.0006091214266627511,0.06301659941786954,0.004727134574764742,0.02674643287824232,0.0,0.005879915417737236,0.025434099443917696,0.22996466368473173,0.0007626320968639029,0.0002629599012559427,0.014162278987154626,0.0019261823273239152,0.0006281164805527878,0.003780752291533962,0.018867924528301886,0.04011407489067884,0.0,0.0021937273446681065,0.0004064518889316733,0.0,0.0019922569692430686,0.0,0.00047177590304274953,0.0015376001520469229,0.00010482180293501046,0.0008358985235471674,0.0006600525898733143,0.0032731813973401044,0.04890588265764755,0.0063172332740347534,0.0002426336765959408,0.0,0.015215156305177053,0.0011502139845250673,0.1269644713830151,6.751960581039384e-05,0.12672031668498004,0.1026998617273264,0.002996853410630337,0.0,0.00025900705642512993,0.0,0.0012523948930099663,0.0009094137867722772,0.018867924528301886,0.0,5.989817310572027e-05,5.989817310572027e-05,0.00017969451931716083,0.15720345212054956,0.0,0.002329891127259132,0.0,0.0,0.0,0.007312671807481101,0.015644391307527945,0.0,0.056064690026954175,0.0,0.0,0.019341416465723616,0.0,0.0,0.0,0.004227926858198188,0.0006984420191967362,0.02355861153253357,0.0,0.019219915043818533,0.0010973522354777933,0.0006235971795124951,0.0,0.00860866854841803,0.0,0.0002635519616651692,0.0,0.0,0.005898334987101542,0.0,0.0005764583325230229,0.0,0.0,0.0,0.0,0.0,0.0,0.0,0.0,0.0,0.0,0.0,0.0],\"degree\":[5,4,15,4,24,18,36,22,3,12,1,7,19,2,6,14,8,20,4,12,18,26,6,4,13,5,6,9,4,6,1,4,4,2,5,2,4,7,4,5,5,8,18,8,3,2,10,7,25,4,26,14,5,6,7,4,5,7,5,1,4,4,4,14,1,6,1,2,1,6,3,1,5,1,1,12,3,4,1,8,5,6,2,6,7,4,3,4,1,5,4,2,4,4,2,1,2,3,3,2,3,2,1,2,1,1,1],\"degree_adjusted\":[10,9,20,9,29,23,41,27,8,17,6,12,24,7,11,19,13,25,9,17,23,31,11,9,18,10,11,14,9,11,6,9,9,7,10,7,9,12,9,10,10,13,23,13,8,7,15,12,30,9,31,19,10,11,12,9,10,12,10,6,9,9,9,19,6,11,6,7,6,11,8,6,10,6,6,17,8,9,6,13,10,11,7,11,12,9,8,9,6,10,9,7,9,9,7,6,7,8,8,7,8,7,6,7,6,6,6],\"index\":[\"Aemon\",\"Grenn\",\"Samwell\",\"Aerys\",\"Jaime\",\"Robert\",\"Tyrion\",\"Tywin\",\"Alliser\",\"Mance\",\"Amory\",\"Oberyn\",\"Arya\",\"Anguy\",\"Beric\",\"Bran\",\"Brynden\",\"Cersei\",\"Gendry\",\"Gregor\",\"Joffrey\",\"Jon\",\"Rickon\",\"Roose\",\"Sandor\",\"Thoros\",\"Balon\",\"Loras\",\"Belwas\",\"Barristan\",\"Illyrio\",\"Hodor\",\"Jojen\",\"Luwin\",\"Meera\",\"Nan\",\"Theon\",\"Brienne\",\"Bronn\",\"Podrick\",\"Lothar\",\"Walder\",\"Catelyn\",\"Edmure\",\"Hoster\",\"Jeyne\",\"Lysa\",\"Petyr\",\"Robb\",\"Roslin\",\"Sansa\",\"Stannis\",\"Elia\",\"Ilyn\",\"Meryn\",\"Pycelle\",\"Shae\",\"Varys\",\"Craster\",\"Karl\",\"Daario\",\"Drogo\",\"Irri\",\"Daenerys\",\"Aegon\",\"Jorah\",\"Kraznys\",\"Missandei\",\"Rakharo\",\"Rhaegar\",\"Viserys\",\"Worm\",\"Davos\",\"Cressen\",\"Salladhor\",\"Eddard\",\"Eddison\",\"Gilly\",\"Qyburn\",\"Renly\",\"Tommen\",\"Janos\",\"Bowen\",\"Kevan\",\"Margaery\",\"Myrcella\",\"Dalla\",\"Melisandre\",\"Orell\",\"Qhorin\",\"Rattleshirt\",\"Styr\",\"Val\",\"Ygritte\",\"Jon Arryn\",\"Lancel\",\"Olenna\",\"Marillion\",\"Robert Arryn\",\"Ellaria\",\"Mace\",\"Rickard\",\"Ramsay\",\"Chataya\",\"Shireen\",\"Doran\",\"Walton\"],\"modularity_class\":[1,1,1,0,0,3,0,0,1,1,0,0,2,4,4,2,2,2,4,0,0,1,2,2,0,4,0,0,3,3,3,1,1,2,1,2,2,2,0,0,2,2,2,2,2,2,2,2,2,2,2,1,0,0,0,0,0,0,1,1,3,3,3,3,3,3,3,3,3,3,3,3,1,1,1,2,1,1,0,0,0,1,1,0,0,0,1,1,1,1,1,1,1,1,3,0,0,2,2,0,0,2,2,0,1,0,0],\"modularity_color\":[\"#3288bd\",\"#3288bd\",\"#3288bd\",\"#5e4fa2\",\"#5e4fa2\",\"#abdda4\",\"#5e4fa2\",\"#5e4fa2\",\"#3288bd\",\"#3288bd\",\"#5e4fa2\",\"#5e4fa2\",\"#66c2a5\",\"#e6f598\",\"#e6f598\",\"#66c2a5\",\"#66c2a5\",\"#66c2a5\",\"#e6f598\",\"#5e4fa2\",\"#5e4fa2\",\"#3288bd\",\"#66c2a5\",\"#66c2a5\",\"#5e4fa2\",\"#e6f598\",\"#5e4fa2\",\"#5e4fa2\",\"#abdda4\",\"#abdda4\",\"#abdda4\",\"#3288bd\",\"#3288bd\",\"#66c2a5\",\"#3288bd\",\"#66c2a5\",\"#66c2a5\",\"#66c2a5\",\"#5e4fa2\",\"#5e4fa2\",\"#66c2a5\",\"#66c2a5\",\"#66c2a5\",\"#66c2a5\",\"#66c2a5\",\"#66c2a5\",\"#66c2a5\",\"#66c2a5\",\"#66c2a5\",\"#66c2a5\",\"#66c2a5\",\"#3288bd\",\"#5e4fa2\",\"#5e4fa2\",\"#5e4fa2\",\"#5e4fa2\",\"#5e4fa2\",\"#5e4fa2\",\"#3288bd\",\"#3288bd\",\"#abdda4\",\"#abdda4\",\"#abdda4\",\"#abdda4\",\"#abdda4\",\"#abdda4\",\"#abdda4\",\"#abdda4\",\"#abdda4\",\"#abdda4\",\"#abdda4\",\"#abdda4\",\"#3288bd\",\"#3288bd\",\"#3288bd\",\"#66c2a5\",\"#3288bd\",\"#3288bd\",\"#5e4fa2\",\"#5e4fa2\",\"#5e4fa2\",\"#3288bd\",\"#3288bd\",\"#5e4fa2\",\"#5e4fa2\",\"#5e4fa2\",\"#3288bd\",\"#3288bd\",\"#3288bd\",\"#3288bd\",\"#3288bd\",\"#3288bd\",\"#3288bd\",\"#3288bd\",\"#abdda4\",\"#5e4fa2\",\"#5e4fa2\",\"#66c2a5\",\"#66c2a5\",\"#5e4fa2\",\"#5e4fa2\",\"#66c2a5\",\"#66c2a5\",\"#5e4fa2\",\"#3288bd\",\"#5e4fa2\",\"#5e4fa2\"]},\"selected\":{\"id\":\"1520\"},\"selection_policy\":{\"id\":\"1521\"}},\"id\":\"1443\",\"type\":\"ColumnDataSource\"},{\"attributes\":{},\"id\":\"1416\",\"type\":\"LinearScale\"},{\"attributes\":{\"callback\":null,\"tooltips\":[[\"Character\",\"@index\"],[\"Degree\",\"@degree\"],[\"Betweenness\",\"@betweenness{1.111}\"],[\"Modularity Class\",\"@modularity_class\"],[\"Modularity Color\",\"$color[swatch]:modularity_color\"]]},\"id\":\"1433\",\"type\":\"HoverTool\"},{\"attributes\":{\"data\":{\"Weight\":[5,31,30,4,4,8,25,43,11,11,52,7,5,6,34,12,36,6,10,5,13,18,6,5,8,11,19,36,6,6,4,88,5,4,6,15,16,11,11,7,17,5,8,31,15,10,13,10,4,16,5,10,5,6,6,5,4,5,4,6,5,9,11,5,5,46,54,5,4,12,77,4,31,5,5,5,4,22,5,5,11,6,9,7,5,25,12,28,11,6,4,21,6,18,39,4,4,12,5,4,16,7,13,14,5,6,4,5,5,15,4,4,6,4,5,9,15,4,69,11,8,7,10,9,7,8,12,5,24,4,6,6,11,23,9,6,5,43,7,6,7,8,5,46,18,18,15,22,4,4,21,8,15,96,46,12,4,54,14,35,11,4,15,23,10,4,5,8,7,4,17,4,5,4,4,6,7,23,10,4,6,4,4,6,4,16,7,5,5,9,7,7,12,5,4,8,7,28,5,5,14,10,9,10,35,8,7,6,4,9,8,4,7,6,31,20,9,16,8,12,54,14,4,8,8,15,7,4,4,4,5,4,4,10,6,4,6,4,7,9,5,8,14,18,10,26,13,20,11,5,35,41,5,33,4,11,7,6,5,19,4,8,4,4,10,12,19,9,26,6,6,16,9,10,8,5,43,6,8,4,5,16,9,32,6,18,5,10,29,9,28,5,28,13,4,7,15,4,6,5,36,9,4,7,4,6,8,32,20,15,7,5,4,4,8,5,4,6,17,4,5,14,7,18,7,6,17,4,8,47,10,26,7,12,8,14,5,7,4,16,30,5,7,5,5,5,7,7,6,7,9,4],\"end\":[\"Grenn\",\"Samwell\",\"Jon\",\"Robert\",\"Stannis\",\"Eddison\",\"Jon\",\"Samwell\",\"Bran\",\"Jojen\",\"Jon\",\"Meera\",\"Melisandre\",\"Bowen\",\"Craster\",\"Eddison\",\"Gilly\",\"Janos\",\"Mance\",\"Qhorin\",\"Stannis\",\"Jaime\",\"Robert\",\"Tyrion\",\"Tywin\",\"Arya\",\"Catelyn\",\"Cersei\",\"Eddard\",\"Balon\",\"Barristan\",\"Brienne\",\"Edmure\",\"Elia\",\"Gregor\",\"Joffrey\",\"Loras\",\"Meryn\",\"Qyburn\",\"Renly\",\"Robert\",\"Stannis\",\"Tommen\",\"Tyrion\",\"Robb\",\"Sansa\",\"Tywin\",\"Walton\",\"Arya\",\"Cersei\",\"Daenerys\",\"Eddard\",\"Jon\",\"Jon Arryn\",\"Rhaegar\",\"Barristan\",\"Renly\",\"Stannis\",\"Thoros\",\"Sandor\",\"Sansa\",\"Tyrion\",\"Tywin\",\"Arya\",\"Catelyn\",\"Cersei\",\"Joffrey\",\"Lysa\",\"Myrcella\",\"Robb\",\"Sansa\",\"Balon\",\"Bronn\",\"Chataya\",\"Doran\",\"Elia\",\"Ellaria\",\"Gregor\",\"Ilyn\",\"Janos\",\"Kevan\",\"Loras\",\"Mace\",\"Margaery\",\"Meryn\",\"Oberyn\",\"Petyr\",\"Podrick\",\"Pycelle\",\"Renly\",\"Sandor\",\"Shae\",\"Stannis\",\"Varys\",\"Tywin\",\"Viserys\",\"Lysa\",\"Robb\",\"Balon\",\"Brynden\",\"Cersei\",\"Gregor\",\"Joffrey\",\"Kevan\",\"Mace\",\"Oberyn\",\"Petyr\",\"Podrick\",\"Pycelle\",\"Stannis\",\"Tommen\",\"Val\",\"Varys\",\"Walder\",\"Mance\",\"Janos\",\"Jon\",\"Janos\",\"Jon\",\"Craster\",\"Dalla\",\"Gilly\",\"Qhorin\",\"Rattleshirt\",\"Styr\",\"Val\",\"Ygritte\",\"Oberyn\",\"Gregor\",\"Joffrey\",\"Ellaria\",\"Mace\",\"Anguy\",\"Beric\",\"Bran\",\"Brynden\",\"Cersei\",\"Gendry\",\"Gregor\",\"Joffrey\",\"Jon\",\"Rickon\",\"Roose\",\"Sandor\",\"Thoros\",\"Eddard\",\"Robb\",\"Sansa\",\"Beric\",\"Gendry\",\"Thoros\",\"Eddard\",\"Sandor\",\"Hodor\",\"Jojen\",\"Jon\",\"Luwin\",\"Meera\",\"Nan\",\"Rickon\",\"Theon\",\"Catelyn\",\"Eddard\",\"Robb\",\"Sansa\",\"Lothar\",\"Walder\",\"Catelyn\",\"Edmure\",\"Rickard\",\"Robb\",\"Catelyn\",\"Brienne\",\"Bronn\",\"Elia\",\"Gregor\",\"Ilyn\",\"Joffrey\",\"Meryn\",\"Pycelle\",\"Sandor\",\"Shae\",\"Varys\",\"Eddard\",\"Lysa\",\"Sansa\",\"Thoros\",\"Sandor\",\"Bronn\",\"Elia\",\"Ilyn\",\"Meryn\",\"Sandor\",\"Joffrey\",\"Ilyn\",\"Kevan\",\"Loras\",\"Margaery\",\"Meryn\",\"Myrcella\",\"Sandor\",\"Stannis\",\"Tommen\",\"Robb\",\"Sansa\",\"Eddard\",\"Craster\",\"Dalla\",\"Eddison\",\"Gilly\",\"Janos\",\"Meera\",\"Melisandre\",\"Orell\",\"Qhorin\",\"Rattleshirt\",\"Stannis\",\"Styr\",\"Theon\",\"Val\",\"Ygritte\",\"Robb\",\"Sansa\",\"Eddard\",\"Theon\",\"Robb\",\"Sansa\",\"Catelyn\",\"Robb\",\"Brienne\",\"Eddard\",\"Ilyn\",\"Meryn\",\"Thoros\",\"Sansa\",\"Loras\",\"Robb\",\"Stannis\",\"Brienne\",\"Margaery\",\"Olenna\",\"Renly\",\"Sansa\",\"Barristan\",\"Illyrio\",\"Daenerys\",\"Jorah\",\"Daenerys\",\"Jorah\",\"Rhaegar\",\"Jojen\",\"Meera\",\"Robb\",\"Meera\",\"Nan\",\"Robb\",\"Catelyn\",\"Robb\",\"Sansa\",\"Podrick\",\"Margaery\",\"Sansa\",\"Edmure\",\"Roslin\",\"Robb\",\"Walder\",\"Catelyn\",\"Edmure\",\"Robb\",\"Petyr\",\"Roslin\",\"Edmure\",\"Hoster\",\"Jeyne\",\"Lysa\",\"Petyr\",\"Robb\",\"Roslin\",\"Sansa\",\"Stannis\",\"Eddard\",\"Roslin\",\"Hoster\",\"Robb\",\"Lysa\",\"Robb\",\"Jon Arryn\",\"Marillion\",\"Petyr\",\"Robert Arryn\",\"Sansa\",\"Robb\",\"Sansa\",\"Eddard\",\"Ramsay\",\"Rickard\",\"Sansa\",\"Stannis\",\"Eddard\",\"Kevan\",\"Margaery\",\"Marillion\",\"Myrcella\",\"Olenna\",\"Renly\",\"Robert Arryn\",\"Shae\",\"Davos\",\"Melisandre\",\"Renly\",\"Rhaegar\",\"Meryn\",\"Varys\",\"Chataya\",\"Varys\",\"Kevan\",\"Renly\",\"Karl\",\"Gilly\",\"Drogo\",\"Irri\",\"Daenerys\",\"Jorah\",\"Daenerys\",\"Irri\",\"Jorah\",\"Daenerys\",\"Missandei\",\"Aegon\",\"Jorah\",\"Kraznys\",\"Missandei\",\"Rakharo\",\"Rhaegar\",\"Viserys\",\"Worm\",\"Rhaegar\",\"Viserys\",\"Cressen\",\"Salladhor\",\"Melisandre\",\"Shireen\",\"Margaery\",\"Myrcella\",\"Margaery\",\"Bowen\",\"Lancel\",\"Val\",\"Rattleshirt\",\"Ygritte\",\"Ygritte\",\"Robert Arryn\"],\"start\":[\"Aemon\",\"Aemon\",\"Aemon\",\"Aemon\",\"Aemon\",\"Grenn\",\"Grenn\",\"Grenn\",\"Samwell\",\"Samwell\",\"Samwell\",\"Samwell\",\"Samwell\",\"Samwell\",\"Samwell\",\"Samwell\",\"Samwell\",\"Samwell\",\"Samwell\",\"Samwell\",\"Samwell\",\"Aerys\",\"Aerys\",\"Aerys\",\"Aerys\",\"Jaime\",\"Jaime\",\"Jaime\",\"Jaime\",\"Jaime\",\"Jaime\",\"Jaime\",\"Jaime\",\"Jaime\",\"Jaime\",\"Jaime\",\"Jaime\",\"Jaime\",\"Jaime\",\"Jaime\",\"Jaime\",\"Jaime\",\"Jaime\",\"Jaime\",\"Jaime\",\"Jaime\",\"Jaime\",\"Jaime\",\"Robert\",\"Robert\",\"Robert\",\"Robert\",\"Robert\",\"Robert\",\"Robert\",\"Robert\",\"Robert\",\"Robert\",\"Robert\",\"Robert\",\"Robert\",\"Robert\",\"Robert\",\"Tyrion\",\"Tyrion\",\"Tyrion\",\"Tyrion\",\"Tyrion\",\"Tyrion\",\"Tyrion\",\"Tyrion\",\"Tyrion\",\"Tyrion\",\"Tyrion\",\"Tyrion\",\"Tyrion\",\"Tyrion\",\"Tyrion\",\"Tyrion\",\"Tyrion\",\"Tyrion\",\"Tyrion\",\"Tyrion\",\"Tyrion\",\"Tyrion\",\"Tyrion\",\"Tyrion\",\"Tyrion\",\"Tyrion\",\"Tyrion\",\"Tyrion\",\"Tyrion\",\"Tyrion\",\"Tyrion\",\"Tyrion\",\"Tyrion\",\"Tywin\",\"Tywin\",\"Tywin\",\"Tywin\",\"Tywin\",\"Tywin\",\"Tywin\",\"Tywin\",\"Tywin\",\"Tywin\",\"Tywin\",\"Tywin\",\"Tywin\",\"Tywin\",\"Tywin\",\"Tywin\",\"Tywin\",\"Tywin\",\"Alliser\",\"Alliser\",\"Alliser\",\"Mance\",\"Mance\",\"Mance\",\"Mance\",\"Mance\",\"Mance\",\"Mance\",\"Mance\",\"Mance\",\"Mance\",\"Amory\",\"Oberyn\",\"Oberyn\",\"Oberyn\",\"Oberyn\",\"Arya\",\"Arya\",\"Arya\",\"Arya\",\"Arya\",\"Arya\",\"Arya\",\"Arya\",\"Arya\",\"Arya\",\"Arya\",\"Arya\",\"Arya\",\"Arya\",\"Arya\",\"Arya\",\"Anguy\",\"Beric\",\"Beric\",\"Beric\",\"Beric\",\"Bran\",\"Bran\",\"Bran\",\"Bran\",\"Bran\",\"Bran\",\"Bran\",\"Bran\",\"Bran\",\"Bran\",\"Bran\",\"Bran\",\"Brynden\",\"Brynden\",\"Brynden\",\"Brynden\",\"Brynden\",\"Brynden\",\"Cersei\",\"Cersei\",\"Cersei\",\"Cersei\",\"Cersei\",\"Cersei\",\"Cersei\",\"Cersei\",\"Cersei\",\"Cersei\",\"Cersei\",\"Cersei\",\"Cersei\",\"Cersei\",\"Cersei\",\"Gendry\",\"Gendry\",\"Gregor\",\"Gregor\",\"Gregor\",\"Gregor\",\"Gregor\",\"Gregor\",\"Joffrey\",\"Joffrey\",\"Joffrey\",\"Joffrey\",\"Joffrey\",\"Joffrey\",\"Joffrey\",\"Joffrey\",\"Joffrey\",\"Joffrey\",\"Joffrey\",\"Jon\",\"Jon\",\"Jon\",\"Jon\",\"Jon\",\"Jon\",\"Jon\",\"Jon\",\"Jon\",\"Jon\",\"Jon\",\"Jon\",\"Jon\",\"Jon\",\"Jon\",\"Jon\",\"Jon\",\"Jon\",\"Rickon\",\"Rickon\",\"Rickon\",\"Rickon\",\"Roose\",\"Roose\",\"Roose\",\"Sandor\",\"Sandor\",\"Sandor\",\"Sandor\",\"Sandor\",\"Balon\",\"Balon\",\"Balon\",\"Loras\",\"Loras\",\"Loras\",\"Loras\",\"Loras\",\"Belwas\",\"Belwas\",\"Belwas\",\"Belwas\",\"Barristan\",\"Barristan\",\"Barristan\",\"Hodor\",\"Hodor\",\"Hodor\",\"Jojen\",\"Luwin\",\"Theon\",\"Brienne\",\"Brienne\",\"Brienne\",\"Bronn\",\"Podrick\",\"Podrick\",\"Lothar\",\"Lothar\",\"Lothar\",\"Lothar\",\"Walder\",\"Walder\",\"Walder\",\"Walder\",\"Walder\",\"Catelyn\",\"Catelyn\",\"Catelyn\",\"Catelyn\",\"Catelyn\",\"Catelyn\",\"Catelyn\",\"Catelyn\",\"Catelyn\",\"Catelyn\",\"Edmure\",\"Edmure\",\"Edmure\",\"Hoster\",\"Jeyne\",\"Lysa\",\"Lysa\",\"Lysa\",\"Lysa\",\"Lysa\",\"Petyr\",\"Petyr\",\"Robb\",\"Robb\",\"Robb\",\"Robb\",\"Robb\",\"Sansa\",\"Sansa\",\"Sansa\",\"Sansa\",\"Sansa\",\"Sansa\",\"Sansa\",\"Sansa\",\"Sansa\",\"Stannis\",\"Stannis\",\"Stannis\",\"Elia\",\"Ilyn\",\"Pycelle\",\"Shae\",\"Shae\",\"Varys\",\"Varys\",\"Craster\",\"Craster\",\"Daario\",\"Daario\",\"Daario\",\"Daario\",\"Drogo\",\"Drogo\",\"Drogo\",\"Irri\",\"Irri\",\"Daenerys\",\"Daenerys\",\"Daenerys\",\"Daenerys\",\"Daenerys\",\"Daenerys\",\"Daenerys\",\"Daenerys\",\"Jorah\",\"Rhaegar\",\"Davos\",\"Davos\",\"Davos\",\"Davos\",\"Renly\",\"Tommen\",\"Tommen\",\"Janos\",\"Kevan\",\"Dalla\",\"Qhorin\",\"Qhorin\",\"Rattleshirt\",\"Marillion\"]},\"selected\":{\"id\":\"1522\"},\"selection_policy\":{\"id\":\"1523\"}},\"id\":\"1447\",\"type\":\"ColumnDataSource\"},{\"attributes\":{\"source\":{\"id\":\"1447\"}},\"id\":\"1449\",\"type\":\"CDSView\"},{\"attributes\":{\"data\":{\"name\":[\"Aemon\",\"Grenn\",\"Samwell\",\"Aerys\",\"Jaime\",\"Robert\",\"Tyrion\",\"Tywin\",\"Alliser\",\"Mance\",\"Amory\",\"Oberyn\",\"Arya\",\"Anguy\",\"Beric\",\"Bran\",\"Brynden\",\"Cersei\",\"Gendry\",\"Gregor\",\"Joffrey\",\"Jon\",\"Rickon\",\"Roose\",\"Sandor\",\"Thoros\",\"Balon\",\"Loras\",\"Belwas\",\"Barristan\",\"Illyrio\",\"Hodor\",\"Jojen\",\"Luwin\",\"Meera\",\"Nan\",\"Theon\",\"Brienne\",\"Bronn\",\"Podrick\",\"Lothar\",\"Walder\",\"Catelyn\",\"Edmure\",\"Hoster\",\"Jeyne\",\"Lysa\",\"Petyr\",\"Robb\",\"Roslin\",\"Sansa\",\"Stannis\",\"Elia\",\"Ilyn\",\"Meryn\",\"Pycelle\",\"Shae\",\"Varys\",\"Craster\",\"Karl\",\"Daario\",\"Drogo\",\"Irri\",\"Daenerys\",\"Aegon\",\"Jorah\",\"Kraznys\",\"Missandei\",\"Rakharo\",\"Rhaegar\",\"Viserys\",\"Worm\",\"Davos\",\"Cressen\",\"Salladhor\",\"Eddard\",\"Eddison\",\"Gilly\",\"Qyburn\",\"Renly\",\"Tommen\",\"Janos\",\"Bowen\",\"Kevan\",\"Margaery\",\"Myrcella\",\"Dalla\",\"Melisandre\",\"Orell\",\"Qhorin\",\"Rattleshirt\",\"Styr\",\"Val\",\"Ygritte\",\"Jon Arryn\",\"Lancel\",\"Olenna\",\"Marillion\",\"Robert Arryn\",\"Ellaria\",\"Mace\",\"Rickard\",\"Ramsay\",\"Chataya\",\"Shireen\",\"Doran\",\"Walton\"],\"x\":[0.4747035377643776,1.0826340108296235,0.017627691728780634,-0.04552764491199821,-0.0037956093721431073,0.931455234419383,-1.8344534454610866,-1.8484311723921072,-1.8286981886762723,-1.0658956545363079,-7.496693993267704,-4.449098313237665,-1.2962403074539488,-4.298700682181048,-2.933752498736085,0.9148844361836551,-0.9681576890226862,-1.4092650362299108,-3.5772300997838515,-2.271399035626346,-2.2251222141273175,-0.5510499536506027,0.19221140418569563,0.948109930963077,-2.055264834444808,-1.918103369786704,-1.1521495237338546,-0.7960882671606573,7.443533819862692,4.352027341228881,9.817700230780494,1.76138999019997,2.100285637310987,3.554709616782655,1.402575746114181,3.8049115257815953,0.2125359175662793,0.469536661389075,-3.250602271834946,-2.5600370332126587,-0.7237774913994641,-0.7600286395771807,-0.1653036486808103,0.054681956869373806,0.7801842162089598,-1.1564164259338643,0.26154862020861774,-0.5798547098102308,-0.45441580301248374,-0.26222230375819766,-0.6768083334676057,-1.3544506652030062,0.7776071955689462,-3.4954835501750576,-2.9163894813980202,-3.5758434612194,-2.378899759114761,-3.0193347656793414,0.4061103459733983,1.2063275385833272,8.547813457927424,8.580046174965618,9.405261600228702,6.847982712001166,9.624284427623575,6.783058182083639,9.242512302566066,9.911738362674413,9.377559297349228,4.119022471982381,3.115426605420937,10.0,-4.993241005828236,-7.194498472045343,-7.5886312379385545,-0.614199295450007,1.1732920496156547,0.331921661371955,2.7082312132973674,-1.2450788554528511,-2.6246716115048634,-1.3356086595698573,-0.585701897667301,-3.9743392779510356,-2.257161665991047,-1.506843480171105,-2.4467234003710803,-2.4276037409192206,-1.6720820886252081,-0.316768593469933,-0.5090176726452751,-2.0216746620789134,-2.1175611596355934,-1.0402060202696182,2.4592654844292383,-7.26929937733987,0.5486506661294196,1.2430390367814734,1.556128166842015,-5.154387166325992,-4.198783070055019,-0.12156937654084167,-2.638417990798409,-3.314139186720457,-6.613178138525226,-4.37469405370181,2.9685405550685586],\"y\":[-2.745673303062873,-4.7520884662541825,-4.165572852640967,0.5557453159117582,1.3691586138622882,0.2965763029258841,1.7493800617793973,1.281080895712054,-5.111133032730282,-5.224873862445624,3.6587038785964046,2.2721436880512935,-0.09593341042355107,-1.513911303042291,-1.0293342784189066,-1.469443845108027,2.8481165238056594,1.6987944586240795,-0.9456637416111388,1.6953881362128378,1.086152079141288,-3.4265529387046834,-0.6090845966440029,0.9534823829490999,0.23674363897768483,-1.0000998031243025,0.44866789352208264,2.247372755465165,3.181870019148835,1.8076495280160496,4.81992095698161,-1.804000845552652,-3.501479623276095,-3.3468658826071755,-3.4855045188625216,-2.725823344050582,-1.7854417570967873,2.1334929545245647,3.407724462179869,3.0628664276446984,4.372684357295864,3.4789318960636453,2.06879077671322,3.551563727210397,4.921303641394784,3.959856698023505,2.963574488858124,2.692097750878337,0.915888693694902,5.178900977667805,1.387812823975885,-1.1464189549701602,1.7650092998835814,0.9753784723861757,1.250112111468187,2.37441626474844,3.605185770035181,2.390830352554364,-6.6350794274758105,-9.53335309879659,2.7164028055793588,2.075089258171201,2.521593708439602,1.3591660149216631,1.339636094337317,2.233047457743091,-0.23653647993719773,2.047294958256648,0.43676354909561815,1.3844447382912397,1.8084136862609257,0.7689128506115375,-4.883909370527245,-6.763820786915391,-6.0921813765463515,-0.3316865518841266,-5.566127898177997,-5.799060330408256,3.62515993310297,1.0173186875985754,1.4626620162100874,-3.085782823274339,-5.370929132834052,1.6493472874372446,2.458672637573359,2.290919066783281,-4.963141041099158,-3.9389124209403943,-6.8639963315437384,-5.971700653294219,-6.653348008357625,-6.1456456200464515,-2.9020514402410047,-6.465670919126462,2.478220069866129,2.107984764230868,3.9569009752891104,4.252924655463102,3.7350334023315024,3.1334342525362118,2.836292332589883,4.258418924507655,-1.5252555528362006,4.845571224736779,-7.284178621189431,4.457834861558569,0.9764389556702067]},\"selected\":{\"id\":\"1518\"},\"selection_policy\":{\"id\":\"1519\"}},\"id\":\"1485\",\"type\":\"ColumnDataSource\"},{\"attributes\":{\"source\":{\"id\":\"1443\"}},\"id\":\"1445\",\"type\":\"CDSView\"},{\"attributes\":{},\"id\":\"1428\",\"type\":\"PanTool\"},{\"attributes\":{},\"id\":\"1523\",\"type\":\"UnionRenderers\"},{\"attributes\":{},\"id\":\"1425\",\"type\":\"BasicTicker\"},{\"attributes\":{},\"id\":\"1483\",\"type\":\"NodesAndLinkedEdges\"},{\"attributes\":{\"data_source\":{\"id\":\"1447\"},\"glyph\":{\"id\":\"1456\"},\"hover_glyph\":{\"id\":\"1476\"},\"muted_glyph\":null,\"selection_glyph\":{\"id\":\"1471\"},\"view\":{\"id\":\"1449\"}},\"id\":\"1448\",\"type\":\"GlyphRenderer\"},{\"attributes\":{\"line_alpha\":{\"value\":0.3}},\"id\":\"1456\",\"type\":\"MultiLine\"},{\"attributes\":{\"line_width\":{\"value\":2}},\"id\":\"1476\",\"type\":\"MultiLine\"},{\"attributes\":{\"axis\":{\"id\":\"1424\"},\"dimension\":1,\"ticker\":null,\"visible\":false},\"id\":\"1427\",\"type\":\"Grid\"},{\"attributes\":{\"active_drag\":\"auto\",\"active_inspect\":\"auto\",\"active_multi\":null,\"active_scroll\":{\"id\":\"1429\"},\"active_tap\":\"auto\",\"tools\":[{\"id\":\"1428\"},{\"id\":\"1429\"},{\"id\":\"1430\"},{\"id\":\"1431\"},{\"id\":\"1432\"},{\"id\":\"1433\"}]},\"id\":\"1434\",\"type\":\"Toolbar\"},{\"attributes\":{\"data_source\":{\"id\":\"1443\"},\"glyph\":{\"id\":\"1451\"},\"hover_glyph\":{\"id\":\"1461\"},\"muted_glyph\":null,\"selection_glyph\":{\"id\":\"1466\"},\"view\":{\"id\":\"1445\"}},\"id\":\"1444\",\"type\":\"GlyphRenderer\"},{\"attributes\":{},\"id\":\"1522\",\"type\":\"Selection\"},{\"attributes\":{},\"id\":\"1431\",\"type\":\"ResetTool\"},{\"attributes\":{},\"id\":\"1520\",\"type\":\"Selection\"},{\"attributes\":{\"edge_renderer\":{\"id\":\"1448\"},\"inspection_policy\":{\"id\":\"1483\"},\"layout_provider\":{\"id\":\"1450\"},\"node_renderer\":{\"id\":\"1444\"},\"selection_policy\":{\"id\":\"1481\"}},\"id\":\"1441\",\"type\":\"GraphRenderer\"},{\"attributes\":{\"fill_color\":{\"value\":\"skyblue\"},\"line_width\":{\"value\":2},\"size\":{\"units\":\"screen\",\"value\":15}},\"id\":\"1461\",\"type\":\"Circle\"},{\"attributes\":{\"line_width\":{\"value\":2}},\"id\":\"1471\",\"type\":\"MultiLine\"},{\"attributes\":{\"background_fill_alpha\":{\"value\":0.7},\"background_fill_color\":{\"value\":\"white\"},\"source\":{\"id\":\"1485\"},\"text\":{\"field\":\"name\"},\"text_font_size\":{\"value\":\"10px\"},\"x\":{\"field\":\"x\"},\"y\":{\"field\":\"y\"}},\"id\":\"1486\",\"type\":\"LabelSet\"},{\"attributes\":{\"fill_color\":{\"value\":\"skyblue\"},\"size\":{\"units\":\"screen\",\"value\":15}},\"id\":\"1451\",\"type\":\"Circle\"},{\"attributes\":{},\"id\":\"1518\",\"type\":\"Selection\"},{\"attributes\":{\"formatter\":{\"id\":\"1514\"},\"ticker\":{\"id\":\"1421\"},\"visible\":false},\"id\":\"1420\",\"type\":\"LinearAxis\"},{\"attributes\":{},\"id\":\"1514\",\"type\":\"BasicTickFormatter\"},{\"attributes\":{},\"id\":\"1481\",\"type\":\"NodesAndLinkedEdges\"},{\"attributes\":{\"end\":10.1,\"start\":-10.1},\"id\":\"1409\",\"type\":\"Range1d\"},{\"attributes\":{\"end\":10.1,\"start\":-10.1},\"id\":\"1410\",\"type\":\"Range1d\"},{\"attributes\":{\"formatter\":{\"id\":\"1516\"},\"ticker\":{\"id\":\"1425\"},\"visible\":false},\"id\":\"1424\",\"type\":\"LinearAxis\"},{\"attributes\":{},\"id\":\"1521\",\"type\":\"UnionRenderers\"},{\"attributes\":{\"axis\":{\"id\":\"1420\"},\"ticker\":null,\"visible\":false},\"id\":\"1423\",\"type\":\"Grid\"},{\"attributes\":{\"text\":\"Network\"},\"id\":\"1412\",\"type\":\"Title\"}],\"root_ids\":[\"1411\"]},\"title\":\"Bokeh Application\",\"version\":\"2.0.2\"}};\n",
       "  var render_items = [{\"docid\":\"8c4e414e-2846-4f1d-b4d0-0a15fb79d336\",\"root_ids\":[\"1411\"],\"roots\":{\"1411\":\"cee403b4-cd03-4bca-9820-b962e5e46bfb\"}}];\n",
       "  root.Bokeh.embed.embed_items_notebook(docs_json, render_items);\n",
       "\n",
       "  }\n",
       "  if (root.Bokeh !== undefined) {\n",
       "    embed_document(root);\n",
       "  } else {\n",
       "    var attempts = 0;\n",
       "    var timer = setInterval(function(root) {\n",
       "      if (root.Bokeh !== undefined) {\n",
       "        clearInterval(timer);\n",
       "        embed_document(root);\n",
       "      } else {\n",
       "        attempts++;\n",
       "        if (attempts > 100) {\n",
       "          clearInterval(timer);\n",
       "          console.log(\"Bokeh: ERROR: Unable to run BokehJS code because BokehJS library is missing\");\n",
       "        }\n",
       "      }\n",
       "    }, 10, root)\n",
       "  }\n",
       "})(window);"
      ],
      "application/vnd.bokehjs_exec.v0+json": ""
     },
     "metadata": {
      "application/vnd.bokehjs_exec.v0+json": {
       "id": "1411"
      }
     },
     "output_type": "display_data"
    }
   ],
   "source": [
    "make_interactive_network(G, labels=True)"
   ]
  },
  {
   "cell_type": "markdown",
   "metadata": {},
   "source": [
    "## Network with Nodes Sized and Colored By Degree"
   ]
  },
  {
   "cell_type": "code",
   "execution_count": 22,
   "metadata": {},
   "outputs": [
    {
     "data": {
      "text/html": [
       "\n",
       "\n",
       "\n",
       "\n",
       "\n",
       "\n",
       "  <div class=\"bk-root\" id=\"19f8a242-d9b8-467e-856f-0d1d05713395\" data-root-id=\"2519\"></div>\n"
      ]
     },
     "metadata": {},
     "output_type": "display_data"
    },
    {
     "data": {
      "application/javascript": [
       "(function(root) {\n",
       "  function embed_document(root) {\n",
       "    \n",
       "  var docs_json = {\"f41826f2-b7ec-439a-baf6-9715b6ba107a\":{\"roots\":{\"references\":[{\"attributes\":{\"below\":[{\"id\":\"2528\"}],\"center\":[{\"id\":\"2531\"},{\"id\":\"2535\"}],\"left\":[{\"id\":\"2532\"}],\"renderers\":[{\"id\":\"2549\"}],\"sizing_mode\":\"scale_width\",\"title\":{\"id\":\"2520\"},\"toolbar\":{\"id\":\"2542\"},\"toolbar_location\":\"left\",\"x_range\":{\"id\":\"2517\"},\"x_scale\":{\"id\":\"2524\"},\"y_range\":{\"id\":\"2518\"},\"y_scale\":{\"id\":\"2526\"}},\"id\":\"2519\",\"subtype\":\"Figure\",\"type\":\"Plot\"},{\"attributes\":{\"active_drag\":\"auto\",\"active_inspect\":\"auto\",\"active_multi\":null,\"active_scroll\":{\"id\":\"2537\"},\"active_tap\":\"auto\",\"tools\":[{\"id\":\"2536\"},{\"id\":\"2537\"},{\"id\":\"2538\"},{\"id\":\"2539\"},{\"id\":\"2540\"},{\"id\":\"2541\"}]},\"id\":\"2542\",\"type\":\"Toolbar\"},{\"attributes\":{},\"id\":\"2598\",\"type\":\"NodesAndLinkedEdges\"},{\"attributes\":{\"fill_color\":{\"field\":\"degree\",\"transform\":{\"id\":\"2567\"}},\"line_width\":{\"value\":2},\"size\":{\"field\":\"degree_adjusted\",\"units\":\"screen\"}},\"id\":\"2583\",\"type\":\"Circle\"},{\"attributes\":{\"end\":10.1,\"start\":-10.1},\"id\":\"2517\",\"type\":\"Range1d\"},{\"attributes\":{\"line_alpha\":{\"value\":0.3}},\"id\":\"2573\",\"type\":\"MultiLine\"},{\"attributes\":{},\"id\":\"2718\",\"type\":\"Selection\"},{\"attributes\":{},\"id\":\"2600\",\"type\":\"NodesAndLinkedEdges\"},{\"attributes\":{\"callback\":null},\"id\":\"2540\",\"type\":\"TapTool\"},{\"attributes\":{\"text\":\"GOT Newtork - Degree\"},\"id\":\"2520\",\"type\":\"Title\"},{\"attributes\":{},\"id\":\"2538\",\"type\":\"SaveTool\"},{\"attributes\":{\"fill_color\":{\"field\":\"degree\",\"transform\":{\"id\":\"2567\"}},\"size\":{\"field\":\"degree_adjusted\",\"units\":\"screen\"}},\"id\":\"2568\",\"type\":\"Circle\"},{\"attributes\":{},\"id\":\"2524\",\"type\":\"LinearScale\"},{\"attributes\":{\"line_width\":{\"value\":2}},\"id\":\"2588\",\"type\":\"MultiLine\"},{\"attributes\":{\"data_source\":{\"id\":\"2551\"},\"glyph\":{\"id\":\"2568\"},\"hover_glyph\":{\"id\":\"2578\"},\"muted_glyph\":null,\"selection_glyph\":{\"id\":\"2583\"},\"view\":{\"id\":\"2553\"}},\"id\":\"2552\",\"type\":\"GlyphRenderer\"},{\"attributes\":{\"line_width\":{\"value\":2}},\"id\":\"2593\",\"type\":\"MultiLine\"},{\"attributes\":{},\"id\":\"2719\",\"type\":\"UnionRenderers\"},{\"attributes\":{},\"id\":\"2717\",\"type\":\"UnionRenderers\"},{\"attributes\":{\"end\":10.1,\"start\":-10.1},\"id\":\"2518\",\"type\":\"Range1d\"},{\"attributes\":{},\"id\":\"2529\",\"type\":\"BasicTicker\"},{\"attributes\":{\"callback\":null,\"tooltips\":[[\"Character\",\"@index\"],[\"Degree\",\"@degree\"],[\"Betweenness\",\"@betweenness{1.111}\"],[\"Modularity Class\",\"@modularity_class\"],[\"Modularity Color\",\"$color[swatch]:modularity_color\"]]},\"id\":\"2541\",\"type\":\"HoverTool\"},{\"attributes\":{\"high\":36,\"low\":1,\"palette\":[\"#084594\",\"#2171b5\",\"#4292c6\",\"#6baed6\",\"#9ecae1\",\"#c6dbef\",\"#deebf7\",\"#f7fbff\"]},\"id\":\"2567\",\"type\":\"LinearColorMapper\"},{\"attributes\":{\"formatter\":{\"id\":\"2705\"},\"ticker\":{\"id\":\"2533\"},\"visible\":false},\"id\":\"2532\",\"type\":\"LinearAxis\"},{\"attributes\":{\"edge_renderer\":{\"id\":\"2556\"},\"inspection_policy\":{\"id\":\"2600\"},\"layout_provider\":{\"id\":\"2558\"},\"node_renderer\":{\"id\":\"2552\"},\"selection_policy\":{\"id\":\"2598\"}},\"id\":\"2549\",\"type\":\"GraphRenderer\"},{\"attributes\":{\"graph_layout\":{\"Aegon\":[2.739401244524119,8.845980239930665],\"Aemon\":[-1.3380279787715428,-1.9724879608063752],\"Aerys\":[0.42161370936562564,2.172274367810208],\"Alliser\":[-3.824433449676889,-3.2170659492691063],\"Amory\":[-0.27594367421883864,-3.2864962620708877],\"Anguy\":[3.383185715316174,-2.6268160970672056],\"Arya\":[0.9225362001310727,-0.9654506936060517],\"Balon\":[0.4249591719246467,-0.5388665067109426],\"Barristan\":[0.7648861475322463,4.697045406818414],\"Belwas\":[0.24791979717967572,7.639922396905459],\"Beric\":[2.696590809468686,-1.6467110907243605],\"Bowen\":[-2.4161946857464303,-5.367794785311428],\"Bran\":[-0.020540899167559613,-2.8337164968520043],\"Brienne\":[0.047702144197208786,-0.11598972091379935],\"Bronn\":[2.314302407742669,2.0205205569892173],\"Brynden\":[-1.685982661395302,0.15713837505694633],\"Catelyn\":[-0.8507343165069639,0.12955903990608628],\"Cersei\":[1.1357632323438176,0.8230016241793737],\"Chataya\":[2.8832801373052517,2.5838346977111852],\"Craster\":[-3.670717946208244,-5.3567193041036605],\"Cressen\":[-0.2073593658523562,-9.08800117071151],\"Daario\":[1.5191006950301866,8.42976811656708],\"Daenerys\":[1.69795730409771,6.79739168621785],\"Dalla\":[-4.193162670364444,-2.6640729784702364],\"Davos\":[0.1828696494466202,-6.539228326247726],\"Doran\":[-0.9465938671793261,3.3256745968406274],\"Drogo\":[0.9636678435888898,8.515112442665654],\"Eddard\":[0.41428060142177797,-1.0015722863781695],\"Eddison\":[-2.521460672310786,-4.940663162105418],\"Edmure\":[-1.733094413855457,1.1759995886850807],\"Elia\":[1.4926061858880744,2.610921491221906],\"Ellaria\":[-1.4111261851930448,-0.21391768390867763],\"Gendry\":[3.4568144578804327,-1.3681896736972554],\"Gilly\":[-3.1478675432382257,-4.895241034144909],\"Gregor\":[1.5788238438224431,0.6868416793775108],\"Grenn\":[-2.5264720121098443,-3.9044698047788167],\"Hodor\":[-0.18792303147158043,-3.6835471011978975],\"Hoster\":[-2.150095399636484,2.1386081697074037],\"Illyrio\":[-0.6057597191878917,10.0],\"Ilyn\":[2.71658119671234,0.847609542113428],\"Irri\":[1.2989917741064574,9.17967068003553],\"Jaime\":[0.9441032887699444,0.9761522348334564],\"Janos\":[-2.100409332147361,-2.581886645979032],\"Jeyne\":[-2.874051407949045,-0.2840233221111882],\"Joffrey\":[1.2897938573662957,-0.23576215631478276],\"Jojen\":[-0.3603018977927365,-4.95984254419529],\"Jon\":[-2.0049559040171063,-2.838749906295599],\"Jon Arryn\":[-0.41376217728460235,3.5025459127562213],\"Jorah\":[0.9704309159493683,6.927171694628773],\"Karl\":[-5.328104750048882,-7.39853663229179],\"Kevan\":[2.76900695819578,0.4896995509877357],\"Kraznys\":[2.5261956500849667,9.422914861758166],\"Lancel\":[5.70938195320415,0.6385690681365083],\"Loras\":[1.5191345611385836,-0.6473847202234151],\"Lothar\":[-2.897123404893685,0.8169938944966778],\"Luwin\":[1.6920880469909552,-5.0927087605091375],\"Lysa\":[-0.43882816186483614,1.649434116543068],\"Mace\":[-1.007217395946334,0.6152841695101781],\"Mance\":[-3.472495256752176,-3.737563473630617],\"Margaery\":[2.33809787699621,0.10131375826419495],\"Marillion\":[-0.18044706903661237,2.565304096417273],\"Meera\":[-0.9740846802696689,-4.314746420558261],\"Melisandre\":[-0.7545632273704156,-4.621830538301221],\"Meryn\":[2.32388307106161,0.7884798924612445],\"Missandei\":[1.8239204743622897,9.488699764483227],\"Myrcella\":[2.4127285197048813,-0.8075648534392539],\"Nan\":[1.1830726756260481,-5.3833280403734145],\"Oberyn\":[-0.07380651467764252,-0.7241085080540428],\"Olenna\":[2.4127126635799243,-2.047587939302324],\"Orell\":[-4.980538254498611,-3.980742161521111],\"Petyr\":[-0.7383243804776785,0.8909420238601619],\"Podrick\":[1.84869792485857,1.1492050015850683],\"Pycelle\":[1.0412136648302899,2.159663945410689],\"Qhorin\":[-3.5142618692605168,-4.490413861605592],\"Qyburn\":[3.4657028306000717,2.9254983318341514],\"Rakharo\":[3.3129194251217418,8.942767625935781],\"Ramsay\":[-4.043059100702674,-0.4526555036560058],\"Rattleshirt\":[-4.286185840589254,-4.240730239406211],\"Renly\":[1.2816130110709587,0.1262310417022863],\"Rhaegar\":[1.2456158617613005,4.717324846653482],\"Rickard\":[-3.4132536290051374,0.17546819934203434],\"Rickon\":[0.32581091693690206,-2.0168576003531045],\"Robb\":[-0.9613414443293752,-0.7004684534036961],\"Robert\":[0.44908895031661095,1.2827273928309535],\"Robert Arryn\":[-0.7868833609520094,2.348604207399226],\"Roose\":[-0.7188080042782224,-1.2341237254947959],\"Roslin\":[-2.9982377891666245,1.5384712978699042],\"Salladhor\":[0.48025528709516957,-9.089460571813744],\"Samwell\":[-1.9114873321751904,-4.000945094771551],\"Sandor\":[1.9536610846465061,-0.17752741352885026],\"Sansa\":[0.6442658085962452,-0.09887196863132078],\"Shae\":[2.315064872052165,1.5801144145282995],\"Shireen\":[1.144805693248183,-8.895087504325716],\"Stannis\":[-0.09013612761758606,-1.769365884751226],\"Styr\":[-4.685583510731007,-3.449109666196092],\"Theon\":[-0.9395647945391146,-2.7183866747970615],\"Thoros\":[2.8878709201337087,-0.4978436336723867],\"Tommen\":[2.1898336136869783,-0.44491331939210127],\"Tyrion\":[0.7259237219593673,0.6791524255008727],\"Tywin\":[0.15005479939361085,0.3849106588629487],\"Val\":[-2.711440482575682,-1.7921237918222612],\"Varys\":[1.6802772755200779,1.5617426210472847],\"Viserys\":[1.6688003231070216,4.268139090221891],\"Walder\":[-1.9923124361862636,0.7693921402858491],\"Walton\":[3.912279899058023,2.0381787497668524],\"Worm\":[3.5974814366089816,8.339563695529913],\"Ygritte\":[-4.174562073432379,-4.6852658043854305]}},\"id\":\"2558\",\"type\":\"StaticLayoutProvider\"},{\"attributes\":{\"data_source\":{\"id\":\"2555\"},\"glyph\":{\"id\":\"2573\"},\"hover_glyph\":{\"id\":\"2593\"},\"muted_glyph\":null,\"selection_glyph\":{\"id\":\"2588\"},\"view\":{\"id\":\"2557\"}},\"id\":\"2556\",\"type\":\"GlyphRenderer\"},{\"attributes\":{},\"id\":\"2526\",\"type\":\"LinearScale\"},{\"attributes\":{},\"id\":\"2720\",\"type\":\"Selection\"},{\"attributes\":{},\"id\":\"2539\",\"type\":\"ResetTool\"},{\"attributes\":{\"source\":{\"id\":\"2555\"}},\"id\":\"2557\",\"type\":\"CDSView\"},{\"attributes\":{},\"id\":\"2707\",\"type\":\"BasicTickFormatter\"},{\"attributes\":{},\"id\":\"2537\",\"type\":\"WheelZoomTool\"},{\"attributes\":{\"formatter\":{\"id\":\"2707\"},\"ticker\":{\"id\":\"2529\"},\"visible\":false},\"id\":\"2528\",\"type\":\"LinearAxis\"},{\"attributes\":{\"data\":{\"betweenness\":[0.004622508177397137,5.989817310572027e-05,0.03227262859511145,0.0,0.09994344156136246,0.2094523840293194,0.19791284320277353,0.06553840423231058,0.0,0.007275961371756524,0.0,0.01958014232946847,0.07960711308183888,0.0,0.0006091214266627511,0.06301659941786954,0.004727134574764742,0.02674643287824232,0.0,0.005879915417737236,0.025434099443917696,0.22996466368473173,0.0007626320968639029,0.0002629599012559427,0.014162278987154626,0.0019261823273239152,0.0006281164805527878,0.003780752291533962,0.018867924528301886,0.04011407489067884,0.0,0.0021937273446681065,0.0004064518889316733,0.0,0.0019922569692430686,0.0,0.00047177590304274953,0.0015376001520469229,0.00010482180293501046,0.0008358985235471674,0.0006600525898733143,0.0032731813973401044,0.04890588265764755,0.0063172332740347534,0.0002426336765959408,0.0,0.015215156305177053,0.0011502139845250673,0.1269644713830151,6.751960581039384e-05,0.12672031668498004,0.1026998617273264,0.002996853410630337,0.0,0.00025900705642512993,0.0,0.0012523948930099663,0.0009094137867722772,0.018867924528301886,0.0,5.989817310572027e-05,5.989817310572027e-05,0.00017969451931716083,0.15720345212054956,0.0,0.002329891127259132,0.0,0.0,0.0,0.007312671807481101,0.015644391307527945,0.0,0.056064690026954175,0.0,0.0,0.019341416465723616,0.0,0.0,0.0,0.004227926858198188,0.0006984420191967362,0.02355861153253357,0.0,0.019219915043818533,0.0010973522354777933,0.0006235971795124951,0.0,0.00860866854841803,0.0,0.0002635519616651692,0.0,0.0,0.005898334987101542,0.0,0.0005764583325230229,0.0,0.0,0.0,0.0,0.0,0.0,0.0,0.0,0.0,0.0,0.0,0.0],\"degree\":[5,4,15,4,24,18,36,22,3,12,1,7,19,2,6,14,8,20,4,12,18,26,6,4,13,5,6,9,4,6,1,4,4,2,5,2,4,7,4,5,5,8,18,8,3,2,10,7,25,4,26,14,5,6,7,4,5,7,5,1,4,4,4,14,1,6,1,2,1,6,3,1,5,1,1,12,3,4,1,8,5,6,2,6,7,4,3,4,1,5,4,2,4,4,2,1,2,3,3,2,3,2,1,2,1,1,1],\"degree_adjusted\":[10,9,20,9,29,23,41,27,8,17,6,12,24,7,11,19,13,25,9,17,23,31,11,9,18,10,11,14,9,11,6,9,9,7,10,7,9,12,9,10,10,13,23,13,8,7,15,12,30,9,31,19,10,11,12,9,10,12,10,6,9,9,9,19,6,11,6,7,6,11,8,6,10,6,6,17,8,9,6,13,10,11,7,11,12,9,8,9,6,10,9,7,9,9,7,6,7,8,8,7,8,7,6,7,6,6,6],\"index\":[\"Aemon\",\"Grenn\",\"Samwell\",\"Aerys\",\"Jaime\",\"Robert\",\"Tyrion\",\"Tywin\",\"Alliser\",\"Mance\",\"Amory\",\"Oberyn\",\"Arya\",\"Anguy\",\"Beric\",\"Bran\",\"Brynden\",\"Cersei\",\"Gendry\",\"Gregor\",\"Joffrey\",\"Jon\",\"Rickon\",\"Roose\",\"Sandor\",\"Thoros\",\"Balon\",\"Loras\",\"Belwas\",\"Barristan\",\"Illyrio\",\"Hodor\",\"Jojen\",\"Luwin\",\"Meera\",\"Nan\",\"Theon\",\"Brienne\",\"Bronn\",\"Podrick\",\"Lothar\",\"Walder\",\"Catelyn\",\"Edmure\",\"Hoster\",\"Jeyne\",\"Lysa\",\"Petyr\",\"Robb\",\"Roslin\",\"Sansa\",\"Stannis\",\"Elia\",\"Ilyn\",\"Meryn\",\"Pycelle\",\"Shae\",\"Varys\",\"Craster\",\"Karl\",\"Daario\",\"Drogo\",\"Irri\",\"Daenerys\",\"Aegon\",\"Jorah\",\"Kraznys\",\"Missandei\",\"Rakharo\",\"Rhaegar\",\"Viserys\",\"Worm\",\"Davos\",\"Cressen\",\"Salladhor\",\"Eddard\",\"Eddison\",\"Gilly\",\"Qyburn\",\"Renly\",\"Tommen\",\"Janos\",\"Bowen\",\"Kevan\",\"Margaery\",\"Myrcella\",\"Dalla\",\"Melisandre\",\"Orell\",\"Qhorin\",\"Rattleshirt\",\"Styr\",\"Val\",\"Ygritte\",\"Jon Arryn\",\"Lancel\",\"Olenna\",\"Marillion\",\"Robert Arryn\",\"Ellaria\",\"Mace\",\"Rickard\",\"Ramsay\",\"Chataya\",\"Shireen\",\"Doran\",\"Walton\"],\"modularity_class\":[1,1,1,0,0,3,0,0,1,1,0,0,2,4,4,2,2,2,4,0,0,1,2,2,0,4,0,0,3,3,3,1,1,2,1,2,2,2,0,0,2,2,2,2,2,2,2,2,2,2,2,1,0,0,0,0,0,0,1,1,3,3,3,3,3,3,3,3,3,3,3,3,1,1,1,2,1,1,0,0,0,1,1,0,0,0,1,1,1,1,1,1,1,1,3,0,0,2,2,0,0,2,2,0,1,0,0],\"modularity_color\":[\"#3288bd\",\"#3288bd\",\"#3288bd\",\"#5e4fa2\",\"#5e4fa2\",\"#abdda4\",\"#5e4fa2\",\"#5e4fa2\",\"#3288bd\",\"#3288bd\",\"#5e4fa2\",\"#5e4fa2\",\"#66c2a5\",\"#e6f598\",\"#e6f598\",\"#66c2a5\",\"#66c2a5\",\"#66c2a5\",\"#e6f598\",\"#5e4fa2\",\"#5e4fa2\",\"#3288bd\",\"#66c2a5\",\"#66c2a5\",\"#5e4fa2\",\"#e6f598\",\"#5e4fa2\",\"#5e4fa2\",\"#abdda4\",\"#abdda4\",\"#abdda4\",\"#3288bd\",\"#3288bd\",\"#66c2a5\",\"#3288bd\",\"#66c2a5\",\"#66c2a5\",\"#66c2a5\",\"#5e4fa2\",\"#5e4fa2\",\"#66c2a5\",\"#66c2a5\",\"#66c2a5\",\"#66c2a5\",\"#66c2a5\",\"#66c2a5\",\"#66c2a5\",\"#66c2a5\",\"#66c2a5\",\"#66c2a5\",\"#66c2a5\",\"#3288bd\",\"#5e4fa2\",\"#5e4fa2\",\"#5e4fa2\",\"#5e4fa2\",\"#5e4fa2\",\"#5e4fa2\",\"#3288bd\",\"#3288bd\",\"#abdda4\",\"#abdda4\",\"#abdda4\",\"#abdda4\",\"#abdda4\",\"#abdda4\",\"#abdda4\",\"#abdda4\",\"#abdda4\",\"#abdda4\",\"#abdda4\",\"#abdda4\",\"#3288bd\",\"#3288bd\",\"#3288bd\",\"#66c2a5\",\"#3288bd\",\"#3288bd\",\"#5e4fa2\",\"#5e4fa2\",\"#5e4fa2\",\"#3288bd\",\"#3288bd\",\"#5e4fa2\",\"#5e4fa2\",\"#5e4fa2\",\"#3288bd\",\"#3288bd\",\"#3288bd\",\"#3288bd\",\"#3288bd\",\"#3288bd\",\"#3288bd\",\"#3288bd\",\"#abdda4\",\"#5e4fa2\",\"#5e4fa2\",\"#66c2a5\",\"#66c2a5\",\"#5e4fa2\",\"#5e4fa2\",\"#66c2a5\",\"#66c2a5\",\"#5e4fa2\",\"#3288bd\",\"#5e4fa2\",\"#5e4fa2\"]},\"selected\":{\"id\":\"2718\"},\"selection_policy\":{\"id\":\"2717\"}},\"id\":\"2551\",\"type\":\"ColumnDataSource\"},{\"attributes\":{\"data\":{\"Weight\":[5,31,30,4,4,8,25,43,11,11,52,7,5,6,34,12,36,6,10,5,13,18,6,5,8,11,19,36,6,6,4,88,5,4,6,15,16,11,11,7,17,5,8,31,15,10,13,10,4,16,5,10,5,6,6,5,4,5,4,6,5,9,11,5,5,46,54,5,4,12,77,4,31,5,5,5,4,22,5,5,11,6,9,7,5,25,12,28,11,6,4,21,6,18,39,4,4,12,5,4,16,7,13,14,5,6,4,5,5,15,4,4,6,4,5,9,15,4,69,11,8,7,10,9,7,8,12,5,24,4,6,6,11,23,9,6,5,43,7,6,7,8,5,46,18,18,15,22,4,4,21,8,15,96,46,12,4,54,14,35,11,4,15,23,10,4,5,8,7,4,17,4,5,4,4,6,7,23,10,4,6,4,4,6,4,16,7,5,5,9,7,7,12,5,4,8,7,28,5,5,14,10,9,10,35,8,7,6,4,9,8,4,7,6,31,20,9,16,8,12,54,14,4,8,8,15,7,4,4,4,5,4,4,10,6,4,6,4,7,9,5,8,14,18,10,26,13,20,11,5,35,41,5,33,4,11,7,6,5,19,4,8,4,4,10,12,19,9,26,6,6,16,9,10,8,5,43,6,8,4,5,16,9,32,6,18,5,10,29,9,28,5,28,13,4,7,15,4,6,5,36,9,4,7,4,6,8,32,20,15,7,5,4,4,8,5,4,6,17,4,5,14,7,18,7,6,17,4,8,47,10,26,7,12,8,14,5,7,4,16,30,5,7,5,5,5,7,7,6,7,9,4],\"end\":[\"Grenn\",\"Samwell\",\"Jon\",\"Robert\",\"Stannis\",\"Eddison\",\"Jon\",\"Samwell\",\"Bran\",\"Jojen\",\"Jon\",\"Meera\",\"Melisandre\",\"Bowen\",\"Craster\",\"Eddison\",\"Gilly\",\"Janos\",\"Mance\",\"Qhorin\",\"Stannis\",\"Jaime\",\"Robert\",\"Tyrion\",\"Tywin\",\"Arya\",\"Catelyn\",\"Cersei\",\"Eddard\",\"Balon\",\"Barristan\",\"Brienne\",\"Edmure\",\"Elia\",\"Gregor\",\"Joffrey\",\"Loras\",\"Meryn\",\"Qyburn\",\"Renly\",\"Robert\",\"Stannis\",\"Tommen\",\"Tyrion\",\"Robb\",\"Sansa\",\"Tywin\",\"Walton\",\"Arya\",\"Cersei\",\"Daenerys\",\"Eddard\",\"Jon\",\"Jon Arryn\",\"Rhaegar\",\"Barristan\",\"Renly\",\"Stannis\",\"Thoros\",\"Sandor\",\"Sansa\",\"Tyrion\",\"Tywin\",\"Arya\",\"Catelyn\",\"Cersei\",\"Joffrey\",\"Lysa\",\"Myrcella\",\"Robb\",\"Sansa\",\"Balon\",\"Bronn\",\"Chataya\",\"Doran\",\"Elia\",\"Ellaria\",\"Gregor\",\"Ilyn\",\"Janos\",\"Kevan\",\"Loras\",\"Mace\",\"Margaery\",\"Meryn\",\"Oberyn\",\"Petyr\",\"Podrick\",\"Pycelle\",\"Renly\",\"Sandor\",\"Shae\",\"Stannis\",\"Varys\",\"Tywin\",\"Viserys\",\"Lysa\",\"Robb\",\"Balon\",\"Brynden\",\"Cersei\",\"Gregor\",\"Joffrey\",\"Kevan\",\"Mace\",\"Oberyn\",\"Petyr\",\"Podrick\",\"Pycelle\",\"Stannis\",\"Tommen\",\"Val\",\"Varys\",\"Walder\",\"Mance\",\"Janos\",\"Jon\",\"Janos\",\"Jon\",\"Craster\",\"Dalla\",\"Gilly\",\"Qhorin\",\"Rattleshirt\",\"Styr\",\"Val\",\"Ygritte\",\"Oberyn\",\"Gregor\",\"Joffrey\",\"Ellaria\",\"Mace\",\"Anguy\",\"Beric\",\"Bran\",\"Brynden\",\"Cersei\",\"Gendry\",\"Gregor\",\"Joffrey\",\"Jon\",\"Rickon\",\"Roose\",\"Sandor\",\"Thoros\",\"Eddard\",\"Robb\",\"Sansa\",\"Beric\",\"Gendry\",\"Thoros\",\"Eddard\",\"Sandor\",\"Hodor\",\"Jojen\",\"Jon\",\"Luwin\",\"Meera\",\"Nan\",\"Rickon\",\"Theon\",\"Catelyn\",\"Eddard\",\"Robb\",\"Sansa\",\"Lothar\",\"Walder\",\"Catelyn\",\"Edmure\",\"Rickard\",\"Robb\",\"Catelyn\",\"Brienne\",\"Bronn\",\"Elia\",\"Gregor\",\"Ilyn\",\"Joffrey\",\"Meryn\",\"Pycelle\",\"Sandor\",\"Shae\",\"Varys\",\"Eddard\",\"Lysa\",\"Sansa\",\"Thoros\",\"Sandor\",\"Bronn\",\"Elia\",\"Ilyn\",\"Meryn\",\"Sandor\",\"Joffrey\",\"Ilyn\",\"Kevan\",\"Loras\",\"Margaery\",\"Meryn\",\"Myrcella\",\"Sandor\",\"Stannis\",\"Tommen\",\"Robb\",\"Sansa\",\"Eddard\",\"Craster\",\"Dalla\",\"Eddison\",\"Gilly\",\"Janos\",\"Meera\",\"Melisandre\",\"Orell\",\"Qhorin\",\"Rattleshirt\",\"Stannis\",\"Styr\",\"Theon\",\"Val\",\"Ygritte\",\"Robb\",\"Sansa\",\"Eddard\",\"Theon\",\"Robb\",\"Sansa\",\"Catelyn\",\"Robb\",\"Brienne\",\"Eddard\",\"Ilyn\",\"Meryn\",\"Thoros\",\"Sansa\",\"Loras\",\"Robb\",\"Stannis\",\"Brienne\",\"Margaery\",\"Olenna\",\"Renly\",\"Sansa\",\"Barristan\",\"Illyrio\",\"Daenerys\",\"Jorah\",\"Daenerys\",\"Jorah\",\"Rhaegar\",\"Jojen\",\"Meera\",\"Robb\",\"Meera\",\"Nan\",\"Robb\",\"Catelyn\",\"Robb\",\"Sansa\",\"Podrick\",\"Margaery\",\"Sansa\",\"Edmure\",\"Roslin\",\"Robb\",\"Walder\",\"Catelyn\",\"Edmure\",\"Robb\",\"Petyr\",\"Roslin\",\"Edmure\",\"Hoster\",\"Jeyne\",\"Lysa\",\"Petyr\",\"Robb\",\"Roslin\",\"Sansa\",\"Stannis\",\"Eddard\",\"Roslin\",\"Hoster\",\"Robb\",\"Lysa\",\"Robb\",\"Jon Arryn\",\"Marillion\",\"Petyr\",\"Robert Arryn\",\"Sansa\",\"Robb\",\"Sansa\",\"Eddard\",\"Ramsay\",\"Rickard\",\"Sansa\",\"Stannis\",\"Eddard\",\"Kevan\",\"Margaery\",\"Marillion\",\"Myrcella\",\"Olenna\",\"Renly\",\"Robert Arryn\",\"Shae\",\"Davos\",\"Melisandre\",\"Renly\",\"Rhaegar\",\"Meryn\",\"Varys\",\"Chataya\",\"Varys\",\"Kevan\",\"Renly\",\"Karl\",\"Gilly\",\"Drogo\",\"Irri\",\"Daenerys\",\"Jorah\",\"Daenerys\",\"Irri\",\"Jorah\",\"Daenerys\",\"Missandei\",\"Aegon\",\"Jorah\",\"Kraznys\",\"Missandei\",\"Rakharo\",\"Rhaegar\",\"Viserys\",\"Worm\",\"Rhaegar\",\"Viserys\",\"Cressen\",\"Salladhor\",\"Melisandre\",\"Shireen\",\"Margaery\",\"Myrcella\",\"Margaery\",\"Bowen\",\"Lancel\",\"Val\",\"Rattleshirt\",\"Ygritte\",\"Ygritte\",\"Robert Arryn\"],\"start\":[\"Aemon\",\"Aemon\",\"Aemon\",\"Aemon\",\"Aemon\",\"Grenn\",\"Grenn\",\"Grenn\",\"Samwell\",\"Samwell\",\"Samwell\",\"Samwell\",\"Samwell\",\"Samwell\",\"Samwell\",\"Samwell\",\"Samwell\",\"Samwell\",\"Samwell\",\"Samwell\",\"Samwell\",\"Aerys\",\"Aerys\",\"Aerys\",\"Aerys\",\"Jaime\",\"Jaime\",\"Jaime\",\"Jaime\",\"Jaime\",\"Jaime\",\"Jaime\",\"Jaime\",\"Jaime\",\"Jaime\",\"Jaime\",\"Jaime\",\"Jaime\",\"Jaime\",\"Jaime\",\"Jaime\",\"Jaime\",\"Jaime\",\"Jaime\",\"Jaime\",\"Jaime\",\"Jaime\",\"Jaime\",\"Robert\",\"Robert\",\"Robert\",\"Robert\",\"Robert\",\"Robert\",\"Robert\",\"Robert\",\"Robert\",\"Robert\",\"Robert\",\"Robert\",\"Robert\",\"Robert\",\"Robert\",\"Tyrion\",\"Tyrion\",\"Tyrion\",\"Tyrion\",\"Tyrion\",\"Tyrion\",\"Tyrion\",\"Tyrion\",\"Tyrion\",\"Tyrion\",\"Tyrion\",\"Tyrion\",\"Tyrion\",\"Tyrion\",\"Tyrion\",\"Tyrion\",\"Tyrion\",\"Tyrion\",\"Tyrion\",\"Tyrion\",\"Tyrion\",\"Tyrion\",\"Tyrion\",\"Tyrion\",\"Tyrion\",\"Tyrion\",\"Tyrion\",\"Tyrion\",\"Tyrion\",\"Tyrion\",\"Tyrion\",\"Tyrion\",\"Tyrion\",\"Tywin\",\"Tywin\",\"Tywin\",\"Tywin\",\"Tywin\",\"Tywin\",\"Tywin\",\"Tywin\",\"Tywin\",\"Tywin\",\"Tywin\",\"Tywin\",\"Tywin\",\"Tywin\",\"Tywin\",\"Tywin\",\"Tywin\",\"Tywin\",\"Alliser\",\"Alliser\",\"Alliser\",\"Mance\",\"Mance\",\"Mance\",\"Mance\",\"Mance\",\"Mance\",\"Mance\",\"Mance\",\"Mance\",\"Mance\",\"Amory\",\"Oberyn\",\"Oberyn\",\"Oberyn\",\"Oberyn\",\"Arya\",\"Arya\",\"Arya\",\"Arya\",\"Arya\",\"Arya\",\"Arya\",\"Arya\",\"Arya\",\"Arya\",\"Arya\",\"Arya\",\"Arya\",\"Arya\",\"Arya\",\"Arya\",\"Anguy\",\"Beric\",\"Beric\",\"Beric\",\"Beric\",\"Bran\",\"Bran\",\"Bran\",\"Bran\",\"Bran\",\"Bran\",\"Bran\",\"Bran\",\"Bran\",\"Bran\",\"Bran\",\"Bran\",\"Brynden\",\"Brynden\",\"Brynden\",\"Brynden\",\"Brynden\",\"Brynden\",\"Cersei\",\"Cersei\",\"Cersei\",\"Cersei\",\"Cersei\",\"Cersei\",\"Cersei\",\"Cersei\",\"Cersei\",\"Cersei\",\"Cersei\",\"Cersei\",\"Cersei\",\"Cersei\",\"Cersei\",\"Gendry\",\"Gendry\",\"Gregor\",\"Gregor\",\"Gregor\",\"Gregor\",\"Gregor\",\"Gregor\",\"Joffrey\",\"Joffrey\",\"Joffrey\",\"Joffrey\",\"Joffrey\",\"Joffrey\",\"Joffrey\",\"Joffrey\",\"Joffrey\",\"Joffrey\",\"Joffrey\",\"Jon\",\"Jon\",\"Jon\",\"Jon\",\"Jon\",\"Jon\",\"Jon\",\"Jon\",\"Jon\",\"Jon\",\"Jon\",\"Jon\",\"Jon\",\"Jon\",\"Jon\",\"Jon\",\"Jon\",\"Jon\",\"Rickon\",\"Rickon\",\"Rickon\",\"Rickon\",\"Roose\",\"Roose\",\"Roose\",\"Sandor\",\"Sandor\",\"Sandor\",\"Sandor\",\"Sandor\",\"Balon\",\"Balon\",\"Balon\",\"Loras\",\"Loras\",\"Loras\",\"Loras\",\"Loras\",\"Belwas\",\"Belwas\",\"Belwas\",\"Belwas\",\"Barristan\",\"Barristan\",\"Barristan\",\"Hodor\",\"Hodor\",\"Hodor\",\"Jojen\",\"Luwin\",\"Theon\",\"Brienne\",\"Brienne\",\"Brienne\",\"Bronn\",\"Podrick\",\"Podrick\",\"Lothar\",\"Lothar\",\"Lothar\",\"Lothar\",\"Walder\",\"Walder\",\"Walder\",\"Walder\",\"Walder\",\"Catelyn\",\"Catelyn\",\"Catelyn\",\"Catelyn\",\"Catelyn\",\"Catelyn\",\"Catelyn\",\"Catelyn\",\"Catelyn\",\"Catelyn\",\"Edmure\",\"Edmure\",\"Edmure\",\"Hoster\",\"Jeyne\",\"Lysa\",\"Lysa\",\"Lysa\",\"Lysa\",\"Lysa\",\"Petyr\",\"Petyr\",\"Robb\",\"Robb\",\"Robb\",\"Robb\",\"Robb\",\"Sansa\",\"Sansa\",\"Sansa\",\"Sansa\",\"Sansa\",\"Sansa\",\"Sansa\",\"Sansa\",\"Sansa\",\"Stannis\",\"Stannis\",\"Stannis\",\"Elia\",\"Ilyn\",\"Pycelle\",\"Shae\",\"Shae\",\"Varys\",\"Varys\",\"Craster\",\"Craster\",\"Daario\",\"Daario\",\"Daario\",\"Daario\",\"Drogo\",\"Drogo\",\"Drogo\",\"Irri\",\"Irri\",\"Daenerys\",\"Daenerys\",\"Daenerys\",\"Daenerys\",\"Daenerys\",\"Daenerys\",\"Daenerys\",\"Daenerys\",\"Jorah\",\"Rhaegar\",\"Davos\",\"Davos\",\"Davos\",\"Davos\",\"Renly\",\"Tommen\",\"Tommen\",\"Janos\",\"Kevan\",\"Dalla\",\"Qhorin\",\"Qhorin\",\"Rattleshirt\",\"Marillion\"]},\"selected\":{\"id\":\"2720\"},\"selection_policy\":{\"id\":\"2719\"}},\"id\":\"2555\",\"type\":\"ColumnDataSource\"},{\"attributes\":{\"axis\":{\"id\":\"2532\"},\"dimension\":1,\"ticker\":null,\"visible\":false},\"id\":\"2535\",\"type\":\"Grid\"},{\"attributes\":{\"axis\":{\"id\":\"2528\"},\"ticker\":null,\"visible\":false},\"id\":\"2531\",\"type\":\"Grid\"},{\"attributes\":{},\"id\":\"2705\",\"type\":\"BasicTickFormatter\"},{\"attributes\":{},\"id\":\"2533\",\"type\":\"BasicTicker\"},{\"attributes\":{},\"id\":\"2536\",\"type\":\"PanTool\"},{\"attributes\":{\"fill_color\":{\"field\":\"degree\",\"transform\":{\"id\":\"2567\"}},\"line_width\":{\"value\":2},\"size\":{\"field\":\"degree_adjusted\",\"units\":\"screen\"}},\"id\":\"2578\",\"type\":\"Circle\"},{\"attributes\":{\"source\":{\"id\":\"2551\"}},\"id\":\"2553\",\"type\":\"CDSView\"}],\"root_ids\":[\"2519\"]},\"title\":\"Bokeh Application\",\"version\":\"2.0.2\"}};\n",
       "  var render_items = [{\"docid\":\"f41826f2-b7ec-439a-baf6-9715b6ba107a\",\"root_ids\":[\"2519\"],\"roots\":{\"2519\":\"19f8a242-d9b8-467e-856f-0d1d05713395\"}}];\n",
       "  root.Bokeh.embed.embed_items_notebook(docs_json, render_items);\n",
       "\n",
       "  }\n",
       "  if (root.Bokeh !== undefined) {\n",
       "    embed_document(root);\n",
       "  } else {\n",
       "    var attempts = 0;\n",
       "    var timer = setInterval(function(root) {\n",
       "      if (root.Bokeh !== undefined) {\n",
       "        clearInterval(timer);\n",
       "        embed_document(root);\n",
       "      } else {\n",
       "        attempts++;\n",
       "        if (attempts > 100) {\n",
       "          clearInterval(timer);\n",
       "          console.log(\"Bokeh: ERROR: Unable to run BokehJS code because BokehJS library is missing\");\n",
       "        }\n",
       "      }\n",
       "    }, 10, root)\n",
       "  }\n",
       "})(window);"
      ],
      "application/vnd.bokehjs_exec.v0+json": ""
     },
     "metadata": {
      "application/vnd.bokehjs_exec.v0+json": {
       "id": "2519"
      }
     },
     "output_type": "display_data"
    }
   ],
   "source": [
    "make_interactive_network(G,node_size='degree_adjusted',\n",
    "                         color_palette = Blues8, node_color='degree',\n",
    "                         title='GOT Newtork - Degree')"
   ]
  },
  {
   "cell_type": "markdown",
   "metadata": {},
   "source": [
    "## Network with Nodes Colored by Betweenness Centrality (Color Reversed)"
   ]
  },
  {
   "cell_type": "code",
   "execution_count": 14,
   "metadata": {},
   "outputs": [
    {
     "data": {
      "text/html": [
       "\n",
       "\n",
       "\n",
       "\n",
       "\n",
       "\n",
       "  <div class=\"bk-root\" id=\"28a69f59-0a09-4e09-bc6c-8e47ace763b6\" data-root-id=\"1904\"></div>\n"
      ]
     },
     "metadata": {},
     "output_type": "display_data"
    },
    {
     "data": {
      "application/javascript": [
       "(function(root) {\n",
       "  function embed_document(root) {\n",
       "    \n",
       "  var docs_json = {\"b0d53b11-1102-4f76-8dbe-14cec9015a0e\":{\"roots\":{\"references\":[{\"attributes\":{\"below\":[{\"id\":\"1913\"}],\"center\":[{\"id\":\"1916\"},{\"id\":\"1920\"}],\"left\":[{\"id\":\"1917\"}],\"renderers\":[{\"id\":\"1934\"},{\"id\":\"1988\"}],\"sizing_mode\":\"scale_width\",\"title\":{\"id\":\"1905\"},\"toolbar\":{\"id\":\"1927\"},\"toolbar_location\":\"left\",\"x_range\":{\"id\":\"1902\"},\"x_scale\":{\"id\":\"1909\"},\"y_range\":{\"id\":\"1903\"},\"y_scale\":{\"id\":\"1911\"}},\"id\":\"1904\",\"subtype\":\"Figure\",\"type\":\"Plot\"},{\"attributes\":{\"high\":0.22996466368473173,\"low\":0.0,\"palette\":[\"#fcfbfd\",\"#efedf5\",\"#dadaeb\",\"#bcbddc\",\"#9e9ac8\",\"#807dba\",\"#6a51a3\",\"#4a1486\"]},\"id\":\"1952\",\"type\":\"LinearColorMapper\"},{\"attributes\":{\"callback\":null,\"tooltips\":[[\"Character\",\"@index\"],[\"Degree\",\"@degree\"],[\"Betweenness\",\"@betweenness{1.111}\"],[\"Modularity Class\",\"@modularity_class\"],[\"Modularity Color\",\"$color[swatch]:modularity_color\"]]},\"id\":\"1926\",\"type\":\"HoverTool\"},{\"attributes\":{\"background_fill_alpha\":{\"value\":0.7},\"background_fill_color\":{\"value\":\"white\"},\"source\":{\"id\":\"1987\"},\"text\":{\"field\":\"name\"},\"text_font_size\":{\"value\":\"10px\"},\"x\":{\"field\":\"x\"},\"y\":{\"field\":\"y\"}},\"id\":\"1988\",\"type\":\"LabelSet\"},{\"attributes\":{},\"id\":\"2056\",\"type\":\"Selection\"},{\"attributes\":{},\"id\":\"1914\",\"type\":\"BasicTicker\"},{\"attributes\":{},\"id\":\"1923\",\"type\":\"SaveTool\"},{\"attributes\":{\"fill_color\":{\"field\":\"betweenness\",\"transform\":{\"id\":\"1952\"}},\"line_width\":{\"value\":2},\"size\":{\"units\":\"screen\",\"value\":20}},\"id\":\"1963\",\"type\":\"Circle\"},{\"attributes\":{\"formatter\":{\"id\":\"2054\"},\"ticker\":{\"id\":\"1918\"},\"visible\":false},\"id\":\"1917\",\"type\":\"LinearAxis\"},{\"attributes\":{\"fill_color\":{\"field\":\"betweenness\",\"transform\":{\"id\":\"1952\"}},\"line_width\":{\"value\":2},\"size\":{\"units\":\"screen\",\"value\":20}},\"id\":\"1968\",\"type\":\"Circle\"},{\"attributes\":{},\"id\":\"2060\",\"type\":\"Selection\"},{\"attributes\":{\"active_drag\":\"auto\",\"active_inspect\":\"auto\",\"active_multi\":null,\"active_scroll\":{\"id\":\"1922\"},\"active_tap\":\"auto\",\"tools\":[{\"id\":\"1921\"},{\"id\":\"1922\"},{\"id\":\"1923\"},{\"id\":\"1924\"},{\"id\":\"1925\"},{\"id\":\"1926\"}]},\"id\":\"1927\",\"type\":\"Toolbar\"},{\"attributes\":{},\"id\":\"2057\",\"type\":\"UnionRenderers\"},{\"attributes\":{\"data_source\":{\"id\":\"1940\"},\"glyph\":{\"id\":\"1958\"},\"hover_glyph\":{\"id\":\"1978\"},\"muted_glyph\":null,\"selection_glyph\":{\"id\":\"1973\"},\"view\":{\"id\":\"1942\"}},\"id\":\"1941\",\"type\":\"GlyphRenderer\"},{\"attributes\":{},\"id\":\"1924\",\"type\":\"ResetTool\"},{\"attributes\":{\"data\":{\"betweenness\":[0.004622508177397137,5.989817310572027e-05,0.03227262859511145,0.0,0.09994344156136246,0.2094523840293194,0.19791284320277353,0.06553840423231058,0.0,0.007275961371756524,0.0,0.01958014232946847,0.07960711308183888,0.0,0.0006091214266627511,0.06301659941786954,0.004727134574764742,0.02674643287824232,0.0,0.005879915417737236,0.025434099443917696,0.22996466368473173,0.0007626320968639029,0.0002629599012559427,0.014162278987154626,0.0019261823273239152,0.0006281164805527878,0.003780752291533962,0.018867924528301886,0.04011407489067884,0.0,0.0021937273446681065,0.0004064518889316733,0.0,0.0019922569692430686,0.0,0.00047177590304274953,0.0015376001520469229,0.00010482180293501046,0.0008358985235471674,0.0006600525898733143,0.0032731813973401044,0.04890588265764755,0.0063172332740347534,0.0002426336765959408,0.0,0.015215156305177053,0.0011502139845250673,0.1269644713830151,6.751960581039384e-05,0.12672031668498004,0.1026998617273264,0.002996853410630337,0.0,0.00025900705642512993,0.0,0.0012523948930099663,0.0009094137867722772,0.018867924528301886,0.0,5.989817310572027e-05,5.989817310572027e-05,0.00017969451931716083,0.15720345212054956,0.0,0.002329891127259132,0.0,0.0,0.0,0.007312671807481101,0.015644391307527945,0.0,0.056064690026954175,0.0,0.0,0.019341416465723616,0.0,0.0,0.0,0.004227926858198188,0.0006984420191967362,0.02355861153253357,0.0,0.019219915043818533,0.0010973522354777933,0.0006235971795124951,0.0,0.00860866854841803,0.0,0.0002635519616651692,0.0,0.0,0.005898334987101542,0.0,0.0005764583325230229,0.0,0.0,0.0,0.0,0.0,0.0,0.0,0.0,0.0,0.0,0.0,0.0],\"degree\":[5,4,15,4,24,18,36,22,3,12,1,7,19,2,6,14,8,20,4,12,18,26,6,4,13,5,6,9,4,6,1,4,4,2,5,2,4,7,4,5,5,8,18,8,3,2,10,7,25,4,26,14,5,6,7,4,5,7,5,1,4,4,4,14,1,6,1,2,1,6,3,1,5,1,1,12,3,4,1,8,5,6,2,6,7,4,3,4,1,5,4,2,4,4,2,1,2,3,3,2,3,2,1,2,1,1,1],\"degree_adjusted\":[10,9,20,9,29,23,41,27,8,17,6,12,24,7,11,19,13,25,9,17,23,31,11,9,18,10,11,14,9,11,6,9,9,7,10,7,9,12,9,10,10,13,23,13,8,7,15,12,30,9,31,19,10,11,12,9,10,12,10,6,9,9,9,19,6,11,6,7,6,11,8,6,10,6,6,17,8,9,6,13,10,11,7,11,12,9,8,9,6,10,9,7,9,9,7,6,7,8,8,7,8,7,6,7,6,6,6],\"index\":[\"Aemon\",\"Grenn\",\"Samwell\",\"Aerys\",\"Jaime\",\"Robert\",\"Tyrion\",\"Tywin\",\"Alliser\",\"Mance\",\"Amory\",\"Oberyn\",\"Arya\",\"Anguy\",\"Beric\",\"Bran\",\"Brynden\",\"Cersei\",\"Gendry\",\"Gregor\",\"Joffrey\",\"Jon\",\"Rickon\",\"Roose\",\"Sandor\",\"Thoros\",\"Balon\",\"Loras\",\"Belwas\",\"Barristan\",\"Illyrio\",\"Hodor\",\"Jojen\",\"Luwin\",\"Meera\",\"Nan\",\"Theon\",\"Brienne\",\"Bronn\",\"Podrick\",\"Lothar\",\"Walder\",\"Catelyn\",\"Edmure\",\"Hoster\",\"Jeyne\",\"Lysa\",\"Petyr\",\"Robb\",\"Roslin\",\"Sansa\",\"Stannis\",\"Elia\",\"Ilyn\",\"Meryn\",\"Pycelle\",\"Shae\",\"Varys\",\"Craster\",\"Karl\",\"Daario\",\"Drogo\",\"Irri\",\"Daenerys\",\"Aegon\",\"Jorah\",\"Kraznys\",\"Missandei\",\"Rakharo\",\"Rhaegar\",\"Viserys\",\"Worm\",\"Davos\",\"Cressen\",\"Salladhor\",\"Eddard\",\"Eddison\",\"Gilly\",\"Qyburn\",\"Renly\",\"Tommen\",\"Janos\",\"Bowen\",\"Kevan\",\"Margaery\",\"Myrcella\",\"Dalla\",\"Melisandre\",\"Orell\",\"Qhorin\",\"Rattleshirt\",\"Styr\",\"Val\",\"Ygritte\",\"Jon Arryn\",\"Lancel\",\"Olenna\",\"Marillion\",\"Robert Arryn\",\"Ellaria\",\"Mace\",\"Rickard\",\"Ramsay\",\"Chataya\",\"Shireen\",\"Doran\",\"Walton\"],\"modularity_class\":[1,1,1,0,0,3,0,0,1,1,0,0,2,4,4,2,2,2,4,0,0,1,2,2,0,4,0,0,3,3,3,1,1,2,1,2,2,2,0,0,2,2,2,2,2,2,2,2,2,2,2,1,0,0,0,0,0,0,1,1,3,3,3,3,3,3,3,3,3,3,3,3,1,1,1,2,1,1,0,0,0,1,1,0,0,0,1,1,1,1,1,1,1,1,3,0,0,2,2,0,0,2,2,0,1,0,0],\"modularity_color\":[\"#3288bd\",\"#3288bd\",\"#3288bd\",\"#5e4fa2\",\"#5e4fa2\",\"#abdda4\",\"#5e4fa2\",\"#5e4fa2\",\"#3288bd\",\"#3288bd\",\"#5e4fa2\",\"#5e4fa2\",\"#66c2a5\",\"#e6f598\",\"#e6f598\",\"#66c2a5\",\"#66c2a5\",\"#66c2a5\",\"#e6f598\",\"#5e4fa2\",\"#5e4fa2\",\"#3288bd\",\"#66c2a5\",\"#66c2a5\",\"#5e4fa2\",\"#e6f598\",\"#5e4fa2\",\"#5e4fa2\",\"#abdda4\",\"#abdda4\",\"#abdda4\",\"#3288bd\",\"#3288bd\",\"#66c2a5\",\"#3288bd\",\"#66c2a5\",\"#66c2a5\",\"#66c2a5\",\"#5e4fa2\",\"#5e4fa2\",\"#66c2a5\",\"#66c2a5\",\"#66c2a5\",\"#66c2a5\",\"#66c2a5\",\"#66c2a5\",\"#66c2a5\",\"#66c2a5\",\"#66c2a5\",\"#66c2a5\",\"#66c2a5\",\"#3288bd\",\"#5e4fa2\",\"#5e4fa2\",\"#5e4fa2\",\"#5e4fa2\",\"#5e4fa2\",\"#5e4fa2\",\"#3288bd\",\"#3288bd\",\"#abdda4\",\"#abdda4\",\"#abdda4\",\"#abdda4\",\"#abdda4\",\"#abdda4\",\"#abdda4\",\"#abdda4\",\"#abdda4\",\"#abdda4\",\"#abdda4\",\"#abdda4\",\"#3288bd\",\"#3288bd\",\"#3288bd\",\"#66c2a5\",\"#3288bd\",\"#3288bd\",\"#5e4fa2\",\"#5e4fa2\",\"#5e4fa2\",\"#3288bd\",\"#3288bd\",\"#5e4fa2\",\"#5e4fa2\",\"#5e4fa2\",\"#3288bd\",\"#3288bd\",\"#3288bd\",\"#3288bd\",\"#3288bd\",\"#3288bd\",\"#3288bd\",\"#3288bd\",\"#abdda4\",\"#5e4fa2\",\"#5e4fa2\",\"#66c2a5\",\"#66c2a5\",\"#5e4fa2\",\"#5e4fa2\",\"#66c2a5\",\"#66c2a5\",\"#5e4fa2\",\"#3288bd\",\"#5e4fa2\",\"#5e4fa2\"]},\"selected\":{\"id\":\"2058\"},\"selection_policy\":{\"id\":\"2059\"}},\"id\":\"1936\",\"type\":\"ColumnDataSource\"},{\"attributes\":{\"end\":10.1,\"start\":-10.1},\"id\":\"1903\",\"type\":\"Range1d\"},{\"attributes\":{},\"id\":\"1922\",\"type\":\"WheelZoomTool\"},{\"attributes\":{\"fill_color\":{\"field\":\"betweenness\",\"transform\":{\"id\":\"1952\"}},\"size\":{\"units\":\"screen\",\"value\":20}},\"id\":\"1953\",\"type\":\"Circle\"},{\"attributes\":{\"data\":{\"Weight\":[5,31,30,4,4,8,25,43,11,11,52,7,5,6,34,12,36,6,10,5,13,18,6,5,8,11,19,36,6,6,4,88,5,4,6,15,16,11,11,7,17,5,8,31,15,10,13,10,4,16,5,10,5,6,6,5,4,5,4,6,5,9,11,5,5,46,54,5,4,12,77,4,31,5,5,5,4,22,5,5,11,6,9,7,5,25,12,28,11,6,4,21,6,18,39,4,4,12,5,4,16,7,13,14,5,6,4,5,5,15,4,4,6,4,5,9,15,4,69,11,8,7,10,9,7,8,12,5,24,4,6,6,11,23,9,6,5,43,7,6,7,8,5,46,18,18,15,22,4,4,21,8,15,96,46,12,4,54,14,35,11,4,15,23,10,4,5,8,7,4,17,4,5,4,4,6,7,23,10,4,6,4,4,6,4,16,7,5,5,9,7,7,12,5,4,8,7,28,5,5,14,10,9,10,35,8,7,6,4,9,8,4,7,6,31,20,9,16,8,12,54,14,4,8,8,15,7,4,4,4,5,4,4,10,6,4,6,4,7,9,5,8,14,18,10,26,13,20,11,5,35,41,5,33,4,11,7,6,5,19,4,8,4,4,10,12,19,9,26,6,6,16,9,10,8,5,43,6,8,4,5,16,9,32,6,18,5,10,29,9,28,5,28,13,4,7,15,4,6,5,36,9,4,7,4,6,8,32,20,15,7,5,4,4,8,5,4,6,17,4,5,14,7,18,7,6,17,4,8,47,10,26,7,12,8,14,5,7,4,16,30,5,7,5,5,5,7,7,6,7,9,4],\"end\":[\"Grenn\",\"Samwell\",\"Jon\",\"Robert\",\"Stannis\",\"Eddison\",\"Jon\",\"Samwell\",\"Bran\",\"Jojen\",\"Jon\",\"Meera\",\"Melisandre\",\"Bowen\",\"Craster\",\"Eddison\",\"Gilly\",\"Janos\",\"Mance\",\"Qhorin\",\"Stannis\",\"Jaime\",\"Robert\",\"Tyrion\",\"Tywin\",\"Arya\",\"Catelyn\",\"Cersei\",\"Eddard\",\"Balon\",\"Barristan\",\"Brienne\",\"Edmure\",\"Elia\",\"Gregor\",\"Joffrey\",\"Loras\",\"Meryn\",\"Qyburn\",\"Renly\",\"Robert\",\"Stannis\",\"Tommen\",\"Tyrion\",\"Robb\",\"Sansa\",\"Tywin\",\"Walton\",\"Arya\",\"Cersei\",\"Daenerys\",\"Eddard\",\"Jon\",\"Jon Arryn\",\"Rhaegar\",\"Barristan\",\"Renly\",\"Stannis\",\"Thoros\",\"Sandor\",\"Sansa\",\"Tyrion\",\"Tywin\",\"Arya\",\"Catelyn\",\"Cersei\",\"Joffrey\",\"Lysa\",\"Myrcella\",\"Robb\",\"Sansa\",\"Balon\",\"Bronn\",\"Chataya\",\"Doran\",\"Elia\",\"Ellaria\",\"Gregor\",\"Ilyn\",\"Janos\",\"Kevan\",\"Loras\",\"Mace\",\"Margaery\",\"Meryn\",\"Oberyn\",\"Petyr\",\"Podrick\",\"Pycelle\",\"Renly\",\"Sandor\",\"Shae\",\"Stannis\",\"Varys\",\"Tywin\",\"Viserys\",\"Lysa\",\"Robb\",\"Balon\",\"Brynden\",\"Cersei\",\"Gregor\",\"Joffrey\",\"Kevan\",\"Mace\",\"Oberyn\",\"Petyr\",\"Podrick\",\"Pycelle\",\"Stannis\",\"Tommen\",\"Val\",\"Varys\",\"Walder\",\"Mance\",\"Janos\",\"Jon\",\"Janos\",\"Jon\",\"Craster\",\"Dalla\",\"Gilly\",\"Qhorin\",\"Rattleshirt\",\"Styr\",\"Val\",\"Ygritte\",\"Oberyn\",\"Gregor\",\"Joffrey\",\"Ellaria\",\"Mace\",\"Anguy\",\"Beric\",\"Bran\",\"Brynden\",\"Cersei\",\"Gendry\",\"Gregor\",\"Joffrey\",\"Jon\",\"Rickon\",\"Roose\",\"Sandor\",\"Thoros\",\"Eddard\",\"Robb\",\"Sansa\",\"Beric\",\"Gendry\",\"Thoros\",\"Eddard\",\"Sandor\",\"Hodor\",\"Jojen\",\"Jon\",\"Luwin\",\"Meera\",\"Nan\",\"Rickon\",\"Theon\",\"Catelyn\",\"Eddard\",\"Robb\",\"Sansa\",\"Lothar\",\"Walder\",\"Catelyn\",\"Edmure\",\"Rickard\",\"Robb\",\"Catelyn\",\"Brienne\",\"Bronn\",\"Elia\",\"Gregor\",\"Ilyn\",\"Joffrey\",\"Meryn\",\"Pycelle\",\"Sandor\",\"Shae\",\"Varys\",\"Eddard\",\"Lysa\",\"Sansa\",\"Thoros\",\"Sandor\",\"Bronn\",\"Elia\",\"Ilyn\",\"Meryn\",\"Sandor\",\"Joffrey\",\"Ilyn\",\"Kevan\",\"Loras\",\"Margaery\",\"Meryn\",\"Myrcella\",\"Sandor\",\"Stannis\",\"Tommen\",\"Robb\",\"Sansa\",\"Eddard\",\"Craster\",\"Dalla\",\"Eddison\",\"Gilly\",\"Janos\",\"Meera\",\"Melisandre\",\"Orell\",\"Qhorin\",\"Rattleshirt\",\"Stannis\",\"Styr\",\"Theon\",\"Val\",\"Ygritte\",\"Robb\",\"Sansa\",\"Eddard\",\"Theon\",\"Robb\",\"Sansa\",\"Catelyn\",\"Robb\",\"Brienne\",\"Eddard\",\"Ilyn\",\"Meryn\",\"Thoros\",\"Sansa\",\"Loras\",\"Robb\",\"Stannis\",\"Brienne\",\"Margaery\",\"Olenna\",\"Renly\",\"Sansa\",\"Barristan\",\"Illyrio\",\"Daenerys\",\"Jorah\",\"Daenerys\",\"Jorah\",\"Rhaegar\",\"Jojen\",\"Meera\",\"Robb\",\"Meera\",\"Nan\",\"Robb\",\"Catelyn\",\"Robb\",\"Sansa\",\"Podrick\",\"Margaery\",\"Sansa\",\"Edmure\",\"Roslin\",\"Robb\",\"Walder\",\"Catelyn\",\"Edmure\",\"Robb\",\"Petyr\",\"Roslin\",\"Edmure\",\"Hoster\",\"Jeyne\",\"Lysa\",\"Petyr\",\"Robb\",\"Roslin\",\"Sansa\",\"Stannis\",\"Eddard\",\"Roslin\",\"Hoster\",\"Robb\",\"Lysa\",\"Robb\",\"Jon Arryn\",\"Marillion\",\"Petyr\",\"Robert Arryn\",\"Sansa\",\"Robb\",\"Sansa\",\"Eddard\",\"Ramsay\",\"Rickard\",\"Sansa\",\"Stannis\",\"Eddard\",\"Kevan\",\"Margaery\",\"Marillion\",\"Myrcella\",\"Olenna\",\"Renly\",\"Robert Arryn\",\"Shae\",\"Davos\",\"Melisandre\",\"Renly\",\"Rhaegar\",\"Meryn\",\"Varys\",\"Chataya\",\"Varys\",\"Kevan\",\"Renly\",\"Karl\",\"Gilly\",\"Drogo\",\"Irri\",\"Daenerys\",\"Jorah\",\"Daenerys\",\"Irri\",\"Jorah\",\"Daenerys\",\"Missandei\",\"Aegon\",\"Jorah\",\"Kraznys\",\"Missandei\",\"Rakharo\",\"Rhaegar\",\"Viserys\",\"Worm\",\"Rhaegar\",\"Viserys\",\"Cressen\",\"Salladhor\",\"Melisandre\",\"Shireen\",\"Margaery\",\"Myrcella\",\"Margaery\",\"Bowen\",\"Lancel\",\"Val\",\"Rattleshirt\",\"Ygritte\",\"Ygritte\",\"Robert Arryn\"],\"start\":[\"Aemon\",\"Aemon\",\"Aemon\",\"Aemon\",\"Aemon\",\"Grenn\",\"Grenn\",\"Grenn\",\"Samwell\",\"Samwell\",\"Samwell\",\"Samwell\",\"Samwell\",\"Samwell\",\"Samwell\",\"Samwell\",\"Samwell\",\"Samwell\",\"Samwell\",\"Samwell\",\"Samwell\",\"Aerys\",\"Aerys\",\"Aerys\",\"Aerys\",\"Jaime\",\"Jaime\",\"Jaime\",\"Jaime\",\"Jaime\",\"Jaime\",\"Jaime\",\"Jaime\",\"Jaime\",\"Jaime\",\"Jaime\",\"Jaime\",\"Jaime\",\"Jaime\",\"Jaime\",\"Jaime\",\"Jaime\",\"Jaime\",\"Jaime\",\"Jaime\",\"Jaime\",\"Jaime\",\"Jaime\",\"Robert\",\"Robert\",\"Robert\",\"Robert\",\"Robert\",\"Robert\",\"Robert\",\"Robert\",\"Robert\",\"Robert\",\"Robert\",\"Robert\",\"Robert\",\"Robert\",\"Robert\",\"Tyrion\",\"Tyrion\",\"Tyrion\",\"Tyrion\",\"Tyrion\",\"Tyrion\",\"Tyrion\",\"Tyrion\",\"Tyrion\",\"Tyrion\",\"Tyrion\",\"Tyrion\",\"Tyrion\",\"Tyrion\",\"Tyrion\",\"Tyrion\",\"Tyrion\",\"Tyrion\",\"Tyrion\",\"Tyrion\",\"Tyrion\",\"Tyrion\",\"Tyrion\",\"Tyrion\",\"Tyrion\",\"Tyrion\",\"Tyrion\",\"Tyrion\",\"Tyrion\",\"Tyrion\",\"Tyrion\",\"Tyrion\",\"Tyrion\",\"Tywin\",\"Tywin\",\"Tywin\",\"Tywin\",\"Tywin\",\"Tywin\",\"Tywin\",\"Tywin\",\"Tywin\",\"Tywin\",\"Tywin\",\"Tywin\",\"Tywin\",\"Tywin\",\"Tywin\",\"Tywin\",\"Tywin\",\"Tywin\",\"Alliser\",\"Alliser\",\"Alliser\",\"Mance\",\"Mance\",\"Mance\",\"Mance\",\"Mance\",\"Mance\",\"Mance\",\"Mance\",\"Mance\",\"Mance\",\"Amory\",\"Oberyn\",\"Oberyn\",\"Oberyn\",\"Oberyn\",\"Arya\",\"Arya\",\"Arya\",\"Arya\",\"Arya\",\"Arya\",\"Arya\",\"Arya\",\"Arya\",\"Arya\",\"Arya\",\"Arya\",\"Arya\",\"Arya\",\"Arya\",\"Arya\",\"Anguy\",\"Beric\",\"Beric\",\"Beric\",\"Beric\",\"Bran\",\"Bran\",\"Bran\",\"Bran\",\"Bran\",\"Bran\",\"Bran\",\"Bran\",\"Bran\",\"Bran\",\"Bran\",\"Bran\",\"Brynden\",\"Brynden\",\"Brynden\",\"Brynden\",\"Brynden\",\"Brynden\",\"Cersei\",\"Cersei\",\"Cersei\",\"Cersei\",\"Cersei\",\"Cersei\",\"Cersei\",\"Cersei\",\"Cersei\",\"Cersei\",\"Cersei\",\"Cersei\",\"Cersei\",\"Cersei\",\"Cersei\",\"Gendry\",\"Gendry\",\"Gregor\",\"Gregor\",\"Gregor\",\"Gregor\",\"Gregor\",\"Gregor\",\"Joffrey\",\"Joffrey\",\"Joffrey\",\"Joffrey\",\"Joffrey\",\"Joffrey\",\"Joffrey\",\"Joffrey\",\"Joffrey\",\"Joffrey\",\"Joffrey\",\"Jon\",\"Jon\",\"Jon\",\"Jon\",\"Jon\",\"Jon\",\"Jon\",\"Jon\",\"Jon\",\"Jon\",\"Jon\",\"Jon\",\"Jon\",\"Jon\",\"Jon\",\"Jon\",\"Jon\",\"Jon\",\"Rickon\",\"Rickon\",\"Rickon\",\"Rickon\",\"Roose\",\"Roose\",\"Roose\",\"Sandor\",\"Sandor\",\"Sandor\",\"Sandor\",\"Sandor\",\"Balon\",\"Balon\",\"Balon\",\"Loras\",\"Loras\",\"Loras\",\"Loras\",\"Loras\",\"Belwas\",\"Belwas\",\"Belwas\",\"Belwas\",\"Barristan\",\"Barristan\",\"Barristan\",\"Hodor\",\"Hodor\",\"Hodor\",\"Jojen\",\"Luwin\",\"Theon\",\"Brienne\",\"Brienne\",\"Brienne\",\"Bronn\",\"Podrick\",\"Podrick\",\"Lothar\",\"Lothar\",\"Lothar\",\"Lothar\",\"Walder\",\"Walder\",\"Walder\",\"Walder\",\"Walder\",\"Catelyn\",\"Catelyn\",\"Catelyn\",\"Catelyn\",\"Catelyn\",\"Catelyn\",\"Catelyn\",\"Catelyn\",\"Catelyn\",\"Catelyn\",\"Edmure\",\"Edmure\",\"Edmure\",\"Hoster\",\"Jeyne\",\"Lysa\",\"Lysa\",\"Lysa\",\"Lysa\",\"Lysa\",\"Petyr\",\"Petyr\",\"Robb\",\"Robb\",\"Robb\",\"Robb\",\"Robb\",\"Sansa\",\"Sansa\",\"Sansa\",\"Sansa\",\"Sansa\",\"Sansa\",\"Sansa\",\"Sansa\",\"Sansa\",\"Stannis\",\"Stannis\",\"Stannis\",\"Elia\",\"Ilyn\",\"Pycelle\",\"Shae\",\"Shae\",\"Varys\",\"Varys\",\"Craster\",\"Craster\",\"Daario\",\"Daario\",\"Daario\",\"Daario\",\"Drogo\",\"Drogo\",\"Drogo\",\"Irri\",\"Irri\",\"Daenerys\",\"Daenerys\",\"Daenerys\",\"Daenerys\",\"Daenerys\",\"Daenerys\",\"Daenerys\",\"Daenerys\",\"Jorah\",\"Rhaegar\",\"Davos\",\"Davos\",\"Davos\",\"Davos\",\"Renly\",\"Tommen\",\"Tommen\",\"Janos\",\"Kevan\",\"Dalla\",\"Qhorin\",\"Qhorin\",\"Rattleshirt\",\"Marillion\"]},\"selected\":{\"id\":\"2060\"},\"selection_policy\":{\"id\":\"2061\"}},\"id\":\"1940\",\"type\":\"ColumnDataSource\"},{\"attributes\":{\"edge_renderer\":{\"id\":\"1941\"},\"inspection_policy\":{\"id\":\"1985\"},\"layout_provider\":{\"id\":\"1943\"},\"node_renderer\":{\"id\":\"1937\"},\"selection_policy\":{\"id\":\"1983\"}},\"id\":\"1934\",\"type\":\"GraphRenderer\"},{\"attributes\":{},\"id\":\"2052\",\"type\":\"BasicTickFormatter\"},{\"attributes\":{},\"id\":\"1985\",\"type\":\"NodesAndLinkedEdges\"},{\"attributes\":{\"line_width\":{\"value\":2}},\"id\":\"1978\",\"type\":\"MultiLine\"},{\"attributes\":{\"callback\":null},\"id\":\"1925\",\"type\":\"TapTool\"},{\"attributes\":{\"formatter\":{\"id\":\"2052\"},\"ticker\":{\"id\":\"1914\"},\"visible\":false},\"id\":\"1913\",\"type\":\"LinearAxis\"},{\"attributes\":{},\"id\":\"1909\",\"type\":\"LinearScale\"},{\"attributes\":{\"text\":\"GOT Newtork - Betweenness Centrality (Color Reversed)\"},\"id\":\"1905\",\"type\":\"Title\"},{\"attributes\":{\"data_source\":{\"id\":\"1936\"},\"glyph\":{\"id\":\"1953\"},\"hover_glyph\":{\"id\":\"1963\"},\"muted_glyph\":null,\"selection_glyph\":{\"id\":\"1968\"},\"view\":{\"id\":\"1938\"}},\"id\":\"1937\",\"type\":\"GlyphRenderer\"},{\"attributes\":{},\"id\":\"2058\",\"type\":\"Selection\"},{\"attributes\":{\"graph_layout\":{\"Aegon\":[8.769447071092697,-4.276863740600719],\"Aemon\":[-0.627105839368161,2.6699953899092854],\"Aerys\":[0.9105754561278508,-2.0930834952645125],\"Alliser\":[-2.223993455873515,4.896608156364887],\"Amory\":[-4.9935822142475965,-5.04796532137509],\"Anguy\":[-4.068401773994444,0.26371700702841],\"Arya\":[-1.0727832812875053,0.2552098205988673],\"Balon\":[-0.6728850693776813,-0.4328062867233364],\"Barristan\":[4.205671523243822,-2.3004318065961558],\"Belwas\":[7.326107916417969,-2.7945559570368737],\"Beric\":[-2.797538310487254,0.11508487154023365],\"Bowen\":[-0.7489907670846315,5.762103734772222],\"Bran\":[0.3924376530666515,2.865533114633454],\"Brienne\":[0.9186694310563592,-0.23576535377067764],\"Bronn\":[-1.7520118787528114,-3.3879747082405367],\"Brynden\":[-0.14286771559733352,1.4315071629610876],\"Catelyn\":[0.42001073836824593,0.512050837191098],\"Cersei\":[-0.3349902500476369,-1.5885563217159253],\"Chataya\":[-0.4805642834279239,-4.777722440795863],\"Craster\":[-2.168826863021702,6.574682701509742],\"Cressen\":[-8.93418641159174,1.0018088322364938],\"Daario\":[7.863314226853911,-4.030286138269393],\"Daenerys\":[5.948987038143125,-3.9245737968267442],\"Dalla\":[-3.7481819801409566,4.122792289883513],\"Davos\":[-6.326442150797843,1.6767928555901204],\"Doran\":[-3.0601380011053205,-4.223482378124129],\"Drogo\":[7.5020340592589,-4.466236376034411],\"Eddard\":[-0.634973533941241,0.5935002658239124],\"Eddison\":[-1.317427242212236,5.9402422307659535],\"Edmure\":[0.6036625694815062,1.178464577218248],\"Elia\":[1.11272532421272,-2.7689068367923495],\"Ellaria\":[-2.4363145780967024,-4.383775170964721],\"Gendry\":[-3.3174642253727593,-0.48073583706993156],\"Gilly\":[-2.062995945024392,5.833081235581772],\"Gregor\":[-1.1364748458210143,-2.0517878493882],\"Grenn\":[-0.9626075378672154,4.99430064515629],\"Hodor\":[0.9423389247219968,3.9160095386524207],\"Hoster\":[2.4287017045828843,0.9194642089888976],\"Illyrio\":[10.0,-2.7006957910254523],\"Ilyn\":[-2.263863137465023,-2.0412561303645744],\"Irri\":[7.972569047666919,-5.071162692801605],\"Jaime\":[0.4049157071363335,-1.3516247907216683],\"Janos\":[-1.5161673327761784,3.003212152365564],\"Jeyne\":[2.026886026176154,1.9201960137258223],\"Joffrey\":[-1.1888173139970615,-1.4505406725060062],\"Jojen\":[0.5956657405022575,5.13917004071611],\"Jon\":[-1.7163062891772705,3.407875554332872],\"Jon Arryn\":[3.4802720450475175,-0.3972494098068495],\"Jorah\":[6.290908283987917,-3.3436857317729],\"Karl\":[-2.5467314899099187,9.361280550055978],\"Kevan\":[-1.085413912980593,-3.4299947427859023],\"Kraznys\":[8.653360322965511,-5.1890002937853845],\"Lancel\":[-1.7978351532805799,-6.45220196898674],\"Loras\":[0.44833982587798155,-1.75527900508966],\"Lothar\":[-1.0734118077598604,2.0622603756027718],\"Luwin\":[2.2586636710736077,5.31887639455878],\"Lysa\":[1.4027450866682731,-0.6575256804435893],\"Mace\":[-3.0445093081599603,-2.3361085266595207],\"Mance\":[-2.773210759041987,4.827203231550606],\"Margaery\":[-0.44667503104194844,-2.3929604795367108],\"Marillion\":[2.697259826325602,-0.4517399870263025],\"Meera\":[-0.02934670100570076,4.73726855031071],\"Melisandre\":[-3.6887223640967175,2.7906278063218157],\"Meryn\":[-1.404428308761009,-2.3454850854908242],\"Missandei\":[7.530859851493404,-5.780212435536221],\"Myrcella\":[-1.8103203735837328,-2.6767587919076523],\"Nan\":[2.6994165912612016,4.8752319450054475],\"Oberyn\":[-2.738659801245823,-3.085679454596706],\"Olenna\":[1.9796600793843715,-2.326056121382045],\"Orell\":[-4.207909940055227,5.682083247534079],\"Petyr\":[0.0916182581868166,-0.11058246875606358],\"Podrick\":[-1.7874806103438512,-2.1370705752886443],\"Pycelle\":[-0.553112410900296,-3.338668053956286],\"Qhorin\":[-2.702110724220022,5.619354700843073],\"Qyburn\":[1.3292944019024482,-4.481771994662061],\"Rakharo\":[8.091211149950338,-6.010774504579027],\"Ramsay\":[-3.0754961962499676,1.7812038048447776],\"Rattleshirt\":[-3.040497359022367,6.160549347959189],\"Renly\":[-0.18675172221566164,-1.2202379511897938],\"Rhaegar\":[3.8228978486198306,-2.8857618673075662],\"Rickard\":[1.464433563839208,2.689613428287774],\"Rickon\":[0.23015055495353012,1.7244524764929319],\"Robb\":[-0.24005236136066885,1.054265149076405],\"Robert\":[0.9941643299451814,-0.6339387113768843],\"Robert Arryn\":[2.680030500114007,-1.0895236530437962],\"Roose\":[1.1762366723877895,0.9951458884516837],\"Roslin\":[-0.5013638372468736,2.1178859219978974],\"Salladhor\":[-8.885226550914679,2.440414482100649],\"Samwell\":[-1.4672661591722678,4.30574024454701],\"Sandor\":[-1.5014332558920855,-0.8796207277729367],\"Sansa\":[0.013743341243634685,-0.6007285816762762],\"Shae\":[0.15903835318317175,-3.290678729753862],\"Shireen\":[-9.04031221930824,1.7152100754856783],\"Stannis\":[-1.686093116966201,0.8491043311519275],\"Styr\":[-3.971364302736142,5.056253047817759],\"Theon\":[-0.04995797086299654,3.364043011571239],\"Thoros\":[-2.04311646017772,-0.35126454979857763],\"Tommen\":[-1.049993365995079,-2.838624129352477],\"Tyrion\":[-0.7175131671345786,-1.748613229511232],\"Tywin\":[-0.9339392978771069,-0.998061399054119],\"Val\":[-2.7550665622095103,2.516489540388964],\"Varys\":[-0.2012105888465196,-2.8759333931885096],\"Viserys\":[3.045014462538916,-3.465412221276142],\"Walder\":[-0.7333675331647613,1.0799779889817724],\"Walton\":[2.0119204878339607,-4.050258493587293],\"Worm\":[7.015806009112817,-6.397136290469115],\"Ygritte\":[-3.43496272431156,5.787450354930342]}},\"id\":\"1943\",\"type\":\"StaticLayoutProvider\"},{\"attributes\":{},\"id\":\"2054\",\"type\":\"BasicTickFormatter\"},{\"attributes\":{},\"id\":\"1918\",\"type\":\"BasicTicker\"},{\"attributes\":{},\"id\":\"2061\",\"type\":\"UnionRenderers\"},{\"attributes\":{\"axis\":{\"id\":\"1917\"},\"dimension\":1,\"ticker\":null,\"visible\":false},\"id\":\"1920\",\"type\":\"Grid\"},{\"attributes\":{\"source\":{\"id\":\"1936\"}},\"id\":\"1938\",\"type\":\"CDSView\"},{\"attributes\":{\"line_alpha\":{\"value\":0.3}},\"id\":\"1958\",\"type\":\"MultiLine\"},{\"attributes\":{\"source\":{\"id\":\"1940\"}},\"id\":\"1942\",\"type\":\"CDSView\"},{\"attributes\":{},\"id\":\"1921\",\"type\":\"PanTool\"},{\"attributes\":{\"end\":10.1,\"start\":-10.1},\"id\":\"1902\",\"type\":\"Range1d\"},{\"attributes\":{},\"id\":\"1983\",\"type\":\"NodesAndLinkedEdges\"},{\"attributes\":{},\"id\":\"2059\",\"type\":\"UnionRenderers\"},{\"attributes\":{\"line_width\":{\"value\":2}},\"id\":\"1973\",\"type\":\"MultiLine\"},{\"attributes\":{\"axis\":{\"id\":\"1913\"},\"ticker\":null,\"visible\":false},\"id\":\"1916\",\"type\":\"Grid\"},{\"attributes\":{\"data\":{\"name\":[\"Aemon\",\"Grenn\",\"Samwell\",\"Aerys\",\"Jaime\",\"Robert\",\"Tyrion\",\"Tywin\",\"Alliser\",\"Mance\",\"Amory\",\"Oberyn\",\"Arya\",\"Anguy\",\"Beric\",\"Bran\",\"Brynden\",\"Cersei\",\"Gendry\",\"Gregor\",\"Joffrey\",\"Jon\",\"Rickon\",\"Roose\",\"Sandor\",\"Thoros\",\"Balon\",\"Loras\",\"Belwas\",\"Barristan\",\"Illyrio\",\"Hodor\",\"Jojen\",\"Luwin\",\"Meera\",\"Nan\",\"Theon\",\"Brienne\",\"Bronn\",\"Podrick\",\"Lothar\",\"Walder\",\"Catelyn\",\"Edmure\",\"Hoster\",\"Jeyne\",\"Lysa\",\"Petyr\",\"Robb\",\"Roslin\",\"Sansa\",\"Stannis\",\"Elia\",\"Ilyn\",\"Meryn\",\"Pycelle\",\"Shae\",\"Varys\",\"Craster\",\"Karl\",\"Daario\",\"Drogo\",\"Irri\",\"Daenerys\",\"Aegon\",\"Jorah\",\"Kraznys\",\"Missandei\",\"Rakharo\",\"Rhaegar\",\"Viserys\",\"Worm\",\"Davos\",\"Cressen\",\"Salladhor\",\"Eddard\",\"Eddison\",\"Gilly\",\"Qyburn\",\"Renly\",\"Tommen\",\"Janos\",\"Bowen\",\"Kevan\",\"Margaery\",\"Myrcella\",\"Dalla\",\"Melisandre\",\"Orell\",\"Qhorin\",\"Rattleshirt\",\"Styr\",\"Val\",\"Ygritte\",\"Jon Arryn\",\"Lancel\",\"Olenna\",\"Marillion\",\"Robert Arryn\",\"Ellaria\",\"Mace\",\"Rickard\",\"Ramsay\",\"Chataya\",\"Shireen\",\"Doran\",\"Walton\"],\"x\":[-0.627105839368161,-0.9626075378672154,-1.4672661591722678,0.9105754561278508,0.4049157071363335,0.9941643299451814,-0.7175131671345786,-0.9339392978771069,-2.223993455873515,-2.773210759041987,-4.9935822142475965,-2.738659801245823,-1.0727832812875053,-4.068401773994444,-2.797538310487254,0.3924376530666515,-0.14286771559733352,-0.3349902500476369,-3.3174642253727593,-1.1364748458210143,-1.1888173139970615,-1.7163062891772705,0.23015055495353012,1.1762366723877895,-1.5014332558920855,-2.04311646017772,-0.6728850693776813,0.44833982587798155,7.326107916417969,4.205671523243822,10.0,0.9423389247219968,0.5956657405022575,2.2586636710736077,-0.02934670100570076,2.6994165912612016,-0.04995797086299654,0.9186694310563592,-1.7520118787528114,-1.7874806103438512,-1.0734118077598604,-0.7333675331647613,0.42001073836824593,0.6036625694815062,2.4287017045828843,2.026886026176154,1.4027450866682731,0.0916182581868166,-0.24005236136066885,-0.5013638372468736,0.013743341243634685,-1.686093116966201,1.11272532421272,-2.263863137465023,-1.404428308761009,-0.553112410900296,0.15903835318317175,-0.2012105888465196,-2.168826863021702,-2.5467314899099187,7.863314226853911,7.5020340592589,7.972569047666919,5.948987038143125,8.769447071092697,6.290908283987917,8.653360322965511,7.530859851493404,8.091211149950338,3.8228978486198306,3.045014462538916,7.015806009112817,-6.326442150797843,-8.93418641159174,-8.885226550914679,-0.634973533941241,-1.317427242212236,-2.062995945024392,1.3292944019024482,-0.18675172221566164,-1.049993365995079,-1.5161673327761784,-0.7489907670846315,-1.085413912980593,-0.44667503104194844,-1.8103203735837328,-3.7481819801409566,-3.6887223640967175,-4.207909940055227,-2.702110724220022,-3.040497359022367,-3.971364302736142,-2.7550665622095103,-3.43496272431156,3.4802720450475175,-1.7978351532805799,1.9796600793843715,2.697259826325602,2.680030500114007,-2.4363145780967024,-3.0445093081599603,1.464433563839208,-3.0754961962499676,-0.4805642834279239,-9.04031221930824,-3.0601380011053205,2.0119204878339607],\"y\":[2.6699953899092854,4.99430064515629,4.30574024454701,-2.0930834952645125,-1.3516247907216683,-0.6339387113768843,-1.748613229511232,-0.998061399054119,4.896608156364887,4.827203231550606,-5.04796532137509,-3.085679454596706,0.2552098205988673,0.26371700702841,0.11508487154023365,2.865533114633454,1.4315071629610876,-1.5885563217159253,-0.48073583706993156,-2.0517878493882,-1.4505406725060062,3.407875554332872,1.7244524764929319,0.9951458884516837,-0.8796207277729367,-0.35126454979857763,-0.4328062867233364,-1.75527900508966,-2.7945559570368737,-2.3004318065961558,-2.7006957910254523,3.9160095386524207,5.13917004071611,5.31887639455878,4.73726855031071,4.8752319450054475,3.364043011571239,-0.23576535377067764,-3.3879747082405367,-2.1370705752886443,2.0622603756027718,1.0799779889817724,0.512050837191098,1.178464577218248,0.9194642089888976,1.9201960137258223,-0.6575256804435893,-0.11058246875606358,1.054265149076405,2.1178859219978974,-0.6007285816762762,0.8491043311519275,-2.7689068367923495,-2.0412561303645744,-2.3454850854908242,-3.338668053956286,-3.290678729753862,-2.8759333931885096,6.574682701509742,9.361280550055978,-4.030286138269393,-4.466236376034411,-5.071162692801605,-3.9245737968267442,-4.276863740600719,-3.3436857317729,-5.1890002937853845,-5.780212435536221,-6.010774504579027,-2.8857618673075662,-3.465412221276142,-6.397136290469115,1.6767928555901204,1.0018088322364938,2.440414482100649,0.5935002658239124,5.9402422307659535,5.833081235581772,-4.481771994662061,-1.2202379511897938,-2.838624129352477,3.003212152365564,5.762103734772222,-3.4299947427859023,-2.3929604795367108,-2.6767587919076523,4.122792289883513,2.7906278063218157,5.682083247534079,5.619354700843073,6.160549347959189,5.056253047817759,2.516489540388964,5.787450354930342,-0.3972494098068495,-6.45220196898674,-2.326056121382045,-0.4517399870263025,-1.0895236530437962,-4.383775170964721,-2.3361085266595207,2.689613428287774,1.7812038048447776,-4.777722440795863,1.7152100754856783,-4.223482378124129,-4.050258493587293]},\"selected\":{\"id\":\"2056\"},\"selection_policy\":{\"id\":\"2057\"}},\"id\":\"1987\",\"type\":\"ColumnDataSource\"},{\"attributes\":{},\"id\":\"1911\",\"type\":\"LinearScale\"}],\"root_ids\":[\"1904\"]},\"title\":\"Bokeh Application\",\"version\":\"2.0.2\"}};\n",
       "  var render_items = [{\"docid\":\"b0d53b11-1102-4f76-8dbe-14cec9015a0e\",\"root_ids\":[\"1904\"],\"roots\":{\"1904\":\"28a69f59-0a09-4e09-bc6c-8e47ace763b6\"}}];\n",
       "  root.Bokeh.embed.embed_items_notebook(docs_json, render_items);\n",
       "\n",
       "  }\n",
       "  if (root.Bokeh !== undefined) {\n",
       "    embed_document(root);\n",
       "  } else {\n",
       "    var attempts = 0;\n",
       "    var timer = setInterval(function(root) {\n",
       "      if (root.Bokeh !== undefined) {\n",
       "        clearInterval(timer);\n",
       "        embed_document(root);\n",
       "      } else {\n",
       "        attempts++;\n",
       "        if (attempts > 100) {\n",
       "          clearInterval(timer);\n",
       "          console.log(\"Bokeh: ERROR: Unable to run BokehJS code because BokehJS library is missing\");\n",
       "        }\n",
       "      }\n",
       "    }, 10, root)\n",
       "  }\n",
       "})(window);"
      ],
      "application/vnd.bokehjs_exec.v0+json": ""
     },
     "metadata": {
      "application/vnd.bokehjs_exec.v0+json": {
       "id": "1904"
      }
     },
     "output_type": "display_data"
    }
   ],
   "source": [
    "make_interactive_network(G, labels=True, node_size=20,\n",
    "                         node_color='betweenness', color_palette=Purples8,\n",
    "                         color_order='reverse',\n",
    "                         title='GOT Newtork - Betweenness Centrality (Color Reversed)')"
   ]
  },
  {
   "cell_type": "markdown",
   "metadata": {},
   "source": [
    "## Network with Nodes Colored By Community"
   ]
  },
  {
   "cell_type": "code",
   "execution_count": 15,
   "metadata": {},
   "outputs": [
    {
     "data": {
      "text/html": [
       "\n",
       "\n",
       "\n",
       "\n",
       "\n",
       "\n",
       "  <div class=\"bk-root\" id=\"5edae638-022b-450d-8c8b-632aa71d50b5\" data-root-id=\"2190\"></div>\n"
      ]
     },
     "metadata": {},
     "output_type": "display_data"
    },
    {
     "data": {
      "application/javascript": [
       "(function(root) {\n",
       "  function embed_document(root) {\n",
       "    \n",
       "  var docs_json = {\"42914e73-5b7d-42c9-8bcb-c6c7f7de54ce\":{\"roots\":{\"references\":[{\"attributes\":{\"below\":[{\"id\":\"2199\"}],\"center\":[{\"id\":\"2202\"},{\"id\":\"2206\"}],\"left\":[{\"id\":\"2203\"}],\"renderers\":[{\"id\":\"2220\"}],\"sizing_mode\":\"scale_width\",\"title\":{\"id\":\"2191\"},\"toolbar\":{\"id\":\"2213\"},\"toolbar_location\":\"left\",\"x_range\":{\"id\":\"2188\"},\"x_scale\":{\"id\":\"2195\"},\"y_range\":{\"id\":\"2189\"},\"y_scale\":{\"id\":\"2197\"}},\"id\":\"2190\",\"subtype\":\"Figure\",\"type\":\"Plot\"},{\"attributes\":{\"edge_renderer\":{\"id\":\"2227\"},\"inspection_policy\":{\"id\":\"2262\"},\"layout_provider\":{\"id\":\"2229\"},\"node_renderer\":{\"id\":\"2223\"},\"selection_policy\":{\"id\":\"2260\"}},\"id\":\"2220\",\"type\":\"GraphRenderer\"},{\"attributes\":{},\"id\":\"2350\",\"type\":\"UnionRenderers\"},{\"attributes\":{},\"id\":\"2208\",\"type\":\"WheelZoomTool\"},{\"attributes\":{},\"id\":\"2347\",\"type\":\"BasicTickFormatter\"},{\"attributes\":{},\"id\":\"2351\",\"type\":\"Selection\"},{\"attributes\":{\"fill_color\":{\"field\":\"modularity_color\"},\"line_width\":{\"value\":2},\"size\":{\"units\":\"screen\",\"value\":20}},\"id\":\"2245\",\"type\":\"Circle\"},{\"attributes\":{\"source\":{\"id\":\"2222\"}},\"id\":\"2224\",\"type\":\"CDSView\"},{\"attributes\":{},\"id\":\"2352\",\"type\":\"UnionRenderers\"},{\"attributes\":{\"data\":{\"Weight\":[5,31,30,4,4,8,25,43,11,11,52,7,5,6,34,12,36,6,10,5,13,18,6,5,8,11,19,36,6,6,4,88,5,4,6,15,16,11,11,7,17,5,8,31,15,10,13,10,4,16,5,10,5,6,6,5,4,5,4,6,5,9,11,5,5,46,54,5,4,12,77,4,31,5,5,5,4,22,5,5,11,6,9,7,5,25,12,28,11,6,4,21,6,18,39,4,4,12,5,4,16,7,13,14,5,6,4,5,5,15,4,4,6,4,5,9,15,4,69,11,8,7,10,9,7,8,12,5,24,4,6,6,11,23,9,6,5,43,7,6,7,8,5,46,18,18,15,22,4,4,21,8,15,96,46,12,4,54,14,35,11,4,15,23,10,4,5,8,7,4,17,4,5,4,4,6,7,23,10,4,6,4,4,6,4,16,7,5,5,9,7,7,12,5,4,8,7,28,5,5,14,10,9,10,35,8,7,6,4,9,8,4,7,6,31,20,9,16,8,12,54,14,4,8,8,15,7,4,4,4,5,4,4,10,6,4,6,4,7,9,5,8,14,18,10,26,13,20,11,5,35,41,5,33,4,11,7,6,5,19,4,8,4,4,10,12,19,9,26,6,6,16,9,10,8,5,43,6,8,4,5,16,9,32,6,18,5,10,29,9,28,5,28,13,4,7,15,4,6,5,36,9,4,7,4,6,8,32,20,15,7,5,4,4,8,5,4,6,17,4,5,14,7,18,7,6,17,4,8,47,10,26,7,12,8,14,5,7,4,16,30,5,7,5,5,5,7,7,6,7,9,4],\"end\":[\"Grenn\",\"Samwell\",\"Jon\",\"Robert\",\"Stannis\",\"Eddison\",\"Jon\",\"Samwell\",\"Bran\",\"Jojen\",\"Jon\",\"Meera\",\"Melisandre\",\"Bowen\",\"Craster\",\"Eddison\",\"Gilly\",\"Janos\",\"Mance\",\"Qhorin\",\"Stannis\",\"Jaime\",\"Robert\",\"Tyrion\",\"Tywin\",\"Arya\",\"Catelyn\",\"Cersei\",\"Eddard\",\"Balon\",\"Barristan\",\"Brienne\",\"Edmure\",\"Elia\",\"Gregor\",\"Joffrey\",\"Loras\",\"Meryn\",\"Qyburn\",\"Renly\",\"Robert\",\"Stannis\",\"Tommen\",\"Tyrion\",\"Robb\",\"Sansa\",\"Tywin\",\"Walton\",\"Arya\",\"Cersei\",\"Daenerys\",\"Eddard\",\"Jon\",\"Jon Arryn\",\"Rhaegar\",\"Barristan\",\"Renly\",\"Stannis\",\"Thoros\",\"Sandor\",\"Sansa\",\"Tyrion\",\"Tywin\",\"Arya\",\"Catelyn\",\"Cersei\",\"Joffrey\",\"Lysa\",\"Myrcella\",\"Robb\",\"Sansa\",\"Balon\",\"Bronn\",\"Chataya\",\"Doran\",\"Elia\",\"Ellaria\",\"Gregor\",\"Ilyn\",\"Janos\",\"Kevan\",\"Loras\",\"Mace\",\"Margaery\",\"Meryn\",\"Oberyn\",\"Petyr\",\"Podrick\",\"Pycelle\",\"Renly\",\"Sandor\",\"Shae\",\"Stannis\",\"Varys\",\"Tywin\",\"Viserys\",\"Lysa\",\"Robb\",\"Balon\",\"Brynden\",\"Cersei\",\"Gregor\",\"Joffrey\",\"Kevan\",\"Mace\",\"Oberyn\",\"Petyr\",\"Podrick\",\"Pycelle\",\"Stannis\",\"Tommen\",\"Val\",\"Varys\",\"Walder\",\"Mance\",\"Janos\",\"Jon\",\"Janos\",\"Jon\",\"Craster\",\"Dalla\",\"Gilly\",\"Qhorin\",\"Rattleshirt\",\"Styr\",\"Val\",\"Ygritte\",\"Oberyn\",\"Gregor\",\"Joffrey\",\"Ellaria\",\"Mace\",\"Anguy\",\"Beric\",\"Bran\",\"Brynden\",\"Cersei\",\"Gendry\",\"Gregor\",\"Joffrey\",\"Jon\",\"Rickon\",\"Roose\",\"Sandor\",\"Thoros\",\"Eddard\",\"Robb\",\"Sansa\",\"Beric\",\"Gendry\",\"Thoros\",\"Eddard\",\"Sandor\",\"Hodor\",\"Jojen\",\"Jon\",\"Luwin\",\"Meera\",\"Nan\",\"Rickon\",\"Theon\",\"Catelyn\",\"Eddard\",\"Robb\",\"Sansa\",\"Lothar\",\"Walder\",\"Catelyn\",\"Edmure\",\"Rickard\",\"Robb\",\"Catelyn\",\"Brienne\",\"Bronn\",\"Elia\",\"Gregor\",\"Ilyn\",\"Joffrey\",\"Meryn\",\"Pycelle\",\"Sandor\",\"Shae\",\"Varys\",\"Eddard\",\"Lysa\",\"Sansa\",\"Thoros\",\"Sandor\",\"Bronn\",\"Elia\",\"Ilyn\",\"Meryn\",\"Sandor\",\"Joffrey\",\"Ilyn\",\"Kevan\",\"Loras\",\"Margaery\",\"Meryn\",\"Myrcella\",\"Sandor\",\"Stannis\",\"Tommen\",\"Robb\",\"Sansa\",\"Eddard\",\"Craster\",\"Dalla\",\"Eddison\",\"Gilly\",\"Janos\",\"Meera\",\"Melisandre\",\"Orell\",\"Qhorin\",\"Rattleshirt\",\"Stannis\",\"Styr\",\"Theon\",\"Val\",\"Ygritte\",\"Robb\",\"Sansa\",\"Eddard\",\"Theon\",\"Robb\",\"Sansa\",\"Catelyn\",\"Robb\",\"Brienne\",\"Eddard\",\"Ilyn\",\"Meryn\",\"Thoros\",\"Sansa\",\"Loras\",\"Robb\",\"Stannis\",\"Brienne\",\"Margaery\",\"Olenna\",\"Renly\",\"Sansa\",\"Barristan\",\"Illyrio\",\"Daenerys\",\"Jorah\",\"Daenerys\",\"Jorah\",\"Rhaegar\",\"Jojen\",\"Meera\",\"Robb\",\"Meera\",\"Nan\",\"Robb\",\"Catelyn\",\"Robb\",\"Sansa\",\"Podrick\",\"Margaery\",\"Sansa\",\"Edmure\",\"Roslin\",\"Robb\",\"Walder\",\"Catelyn\",\"Edmure\",\"Robb\",\"Petyr\",\"Roslin\",\"Edmure\",\"Hoster\",\"Jeyne\",\"Lysa\",\"Petyr\",\"Robb\",\"Roslin\",\"Sansa\",\"Stannis\",\"Eddard\",\"Roslin\",\"Hoster\",\"Robb\",\"Lysa\",\"Robb\",\"Jon Arryn\",\"Marillion\",\"Petyr\",\"Robert Arryn\",\"Sansa\",\"Robb\",\"Sansa\",\"Eddard\",\"Ramsay\",\"Rickard\",\"Sansa\",\"Stannis\",\"Eddard\",\"Kevan\",\"Margaery\",\"Marillion\",\"Myrcella\",\"Olenna\",\"Renly\",\"Robert Arryn\",\"Shae\",\"Davos\",\"Melisandre\",\"Renly\",\"Rhaegar\",\"Meryn\",\"Varys\",\"Chataya\",\"Varys\",\"Kevan\",\"Renly\",\"Karl\",\"Gilly\",\"Drogo\",\"Irri\",\"Daenerys\",\"Jorah\",\"Daenerys\",\"Irri\",\"Jorah\",\"Daenerys\",\"Missandei\",\"Aegon\",\"Jorah\",\"Kraznys\",\"Missandei\",\"Rakharo\",\"Rhaegar\",\"Viserys\",\"Worm\",\"Rhaegar\",\"Viserys\",\"Cressen\",\"Salladhor\",\"Melisandre\",\"Shireen\",\"Margaery\",\"Myrcella\",\"Margaery\",\"Bowen\",\"Lancel\",\"Val\",\"Rattleshirt\",\"Ygritte\",\"Ygritte\",\"Robert Arryn\"],\"start\":[\"Aemon\",\"Aemon\",\"Aemon\",\"Aemon\",\"Aemon\",\"Grenn\",\"Grenn\",\"Grenn\",\"Samwell\",\"Samwell\",\"Samwell\",\"Samwell\",\"Samwell\",\"Samwell\",\"Samwell\",\"Samwell\",\"Samwell\",\"Samwell\",\"Samwell\",\"Samwell\",\"Samwell\",\"Aerys\",\"Aerys\",\"Aerys\",\"Aerys\",\"Jaime\",\"Jaime\",\"Jaime\",\"Jaime\",\"Jaime\",\"Jaime\",\"Jaime\",\"Jaime\",\"Jaime\",\"Jaime\",\"Jaime\",\"Jaime\",\"Jaime\",\"Jaime\",\"Jaime\",\"Jaime\",\"Jaime\",\"Jaime\",\"Jaime\",\"Jaime\",\"Jaime\",\"Jaime\",\"Jaime\",\"Robert\",\"Robert\",\"Robert\",\"Robert\",\"Robert\",\"Robert\",\"Robert\",\"Robert\",\"Robert\",\"Robert\",\"Robert\",\"Robert\",\"Robert\",\"Robert\",\"Robert\",\"Tyrion\",\"Tyrion\",\"Tyrion\",\"Tyrion\",\"Tyrion\",\"Tyrion\",\"Tyrion\",\"Tyrion\",\"Tyrion\",\"Tyrion\",\"Tyrion\",\"Tyrion\",\"Tyrion\",\"Tyrion\",\"Tyrion\",\"Tyrion\",\"Tyrion\",\"Tyrion\",\"Tyrion\",\"Tyrion\",\"Tyrion\",\"Tyrion\",\"Tyrion\",\"Tyrion\",\"Tyrion\",\"Tyrion\",\"Tyrion\",\"Tyrion\",\"Tyrion\",\"Tyrion\",\"Tyrion\",\"Tyrion\",\"Tyrion\",\"Tywin\",\"Tywin\",\"Tywin\",\"Tywin\",\"Tywin\",\"Tywin\",\"Tywin\",\"Tywin\",\"Tywin\",\"Tywin\",\"Tywin\",\"Tywin\",\"Tywin\",\"Tywin\",\"Tywin\",\"Tywin\",\"Tywin\",\"Tywin\",\"Alliser\",\"Alliser\",\"Alliser\",\"Mance\",\"Mance\",\"Mance\",\"Mance\",\"Mance\",\"Mance\",\"Mance\",\"Mance\",\"Mance\",\"Mance\",\"Amory\",\"Oberyn\",\"Oberyn\",\"Oberyn\",\"Oberyn\",\"Arya\",\"Arya\",\"Arya\",\"Arya\",\"Arya\",\"Arya\",\"Arya\",\"Arya\",\"Arya\",\"Arya\",\"Arya\",\"Arya\",\"Arya\",\"Arya\",\"Arya\",\"Arya\",\"Anguy\",\"Beric\",\"Beric\",\"Beric\",\"Beric\",\"Bran\",\"Bran\",\"Bran\",\"Bran\",\"Bran\",\"Bran\",\"Bran\",\"Bran\",\"Bran\",\"Bran\",\"Bran\",\"Bran\",\"Brynden\",\"Brynden\",\"Brynden\",\"Brynden\",\"Brynden\",\"Brynden\",\"Cersei\",\"Cersei\",\"Cersei\",\"Cersei\",\"Cersei\",\"Cersei\",\"Cersei\",\"Cersei\",\"Cersei\",\"Cersei\",\"Cersei\",\"Cersei\",\"Cersei\",\"Cersei\",\"Cersei\",\"Gendry\",\"Gendry\",\"Gregor\",\"Gregor\",\"Gregor\",\"Gregor\",\"Gregor\",\"Gregor\",\"Joffrey\",\"Joffrey\",\"Joffrey\",\"Joffrey\",\"Joffrey\",\"Joffrey\",\"Joffrey\",\"Joffrey\",\"Joffrey\",\"Joffrey\",\"Joffrey\",\"Jon\",\"Jon\",\"Jon\",\"Jon\",\"Jon\",\"Jon\",\"Jon\",\"Jon\",\"Jon\",\"Jon\",\"Jon\",\"Jon\",\"Jon\",\"Jon\",\"Jon\",\"Jon\",\"Jon\",\"Jon\",\"Rickon\",\"Rickon\",\"Rickon\",\"Rickon\",\"Roose\",\"Roose\",\"Roose\",\"Sandor\",\"Sandor\",\"Sandor\",\"Sandor\",\"Sandor\",\"Balon\",\"Balon\",\"Balon\",\"Loras\",\"Loras\",\"Loras\",\"Loras\",\"Loras\",\"Belwas\",\"Belwas\",\"Belwas\",\"Belwas\",\"Barristan\",\"Barristan\",\"Barristan\",\"Hodor\",\"Hodor\",\"Hodor\",\"Jojen\",\"Luwin\",\"Theon\",\"Brienne\",\"Brienne\",\"Brienne\",\"Bronn\",\"Podrick\",\"Podrick\",\"Lothar\",\"Lothar\",\"Lothar\",\"Lothar\",\"Walder\",\"Walder\",\"Walder\",\"Walder\",\"Walder\",\"Catelyn\",\"Catelyn\",\"Catelyn\",\"Catelyn\",\"Catelyn\",\"Catelyn\",\"Catelyn\",\"Catelyn\",\"Catelyn\",\"Catelyn\",\"Edmure\",\"Edmure\",\"Edmure\",\"Hoster\",\"Jeyne\",\"Lysa\",\"Lysa\",\"Lysa\",\"Lysa\",\"Lysa\",\"Petyr\",\"Petyr\",\"Robb\",\"Robb\",\"Robb\",\"Robb\",\"Robb\",\"Sansa\",\"Sansa\",\"Sansa\",\"Sansa\",\"Sansa\",\"Sansa\",\"Sansa\",\"Sansa\",\"Sansa\",\"Stannis\",\"Stannis\",\"Stannis\",\"Elia\",\"Ilyn\",\"Pycelle\",\"Shae\",\"Shae\",\"Varys\",\"Varys\",\"Craster\",\"Craster\",\"Daario\",\"Daario\",\"Daario\",\"Daario\",\"Drogo\",\"Drogo\",\"Drogo\",\"Irri\",\"Irri\",\"Daenerys\",\"Daenerys\",\"Daenerys\",\"Daenerys\",\"Daenerys\",\"Daenerys\",\"Daenerys\",\"Daenerys\",\"Jorah\",\"Rhaegar\",\"Davos\",\"Davos\",\"Davos\",\"Davos\",\"Renly\",\"Tommen\",\"Tommen\",\"Janos\",\"Kevan\",\"Dalla\",\"Qhorin\",\"Qhorin\",\"Rattleshirt\",\"Marillion\"]},\"selected\":{\"id\":\"2351\"},\"selection_policy\":{\"id\":\"2352\"}},\"id\":\"2226\",\"type\":\"ColumnDataSource\"},{\"attributes\":{\"axis\":{\"id\":\"2203\"},\"dimension\":1,\"ticker\":null,\"visible\":false},\"id\":\"2206\",\"type\":\"Grid\"},{\"attributes\":{\"data_source\":{\"id\":\"2222\"},\"glyph\":{\"id\":\"2230\"},\"hover_glyph\":{\"id\":\"2240\"},\"muted_glyph\":null,\"selection_glyph\":{\"id\":\"2245\"},\"view\":{\"id\":\"2224\"}},\"id\":\"2223\",\"type\":\"GlyphRenderer\"},{\"attributes\":{},\"id\":\"2197\",\"type\":\"LinearScale\"},{\"attributes\":{\"callback\":null},\"id\":\"2211\",\"type\":\"TapTool\"},{\"attributes\":{\"fill_color\":{\"field\":\"modularity_color\"},\"size\":{\"units\":\"screen\",\"value\":20}},\"id\":\"2230\",\"type\":\"Circle\"},{\"attributes\":{\"line_alpha\":{\"value\":0.3}},\"id\":\"2235\",\"type\":\"MultiLine\"},{\"attributes\":{\"line_width\":{\"value\":2}},\"id\":\"2250\",\"type\":\"MultiLine\"},{\"attributes\":{\"fill_color\":{\"field\":\"modularity_color\"},\"line_width\":{\"value\":2},\"size\":{\"units\":\"screen\",\"value\":20}},\"id\":\"2240\",\"type\":\"Circle\"},{\"attributes\":{\"data\":{\"betweenness\":[0.004622508177397137,5.989817310572027e-05,0.03227262859511145,0.0,0.09994344156136246,0.2094523840293194,0.19791284320277353,0.06553840423231058,0.0,0.007275961371756524,0.0,0.01958014232946847,0.07960711308183888,0.0,0.0006091214266627511,0.06301659941786954,0.004727134574764742,0.02674643287824232,0.0,0.005879915417737236,0.025434099443917696,0.22996466368473173,0.0007626320968639029,0.0002629599012559427,0.014162278987154626,0.0019261823273239152,0.0006281164805527878,0.003780752291533962,0.018867924528301886,0.04011407489067884,0.0,0.0021937273446681065,0.0004064518889316733,0.0,0.0019922569692430686,0.0,0.00047177590304274953,0.0015376001520469229,0.00010482180293501046,0.0008358985235471674,0.0006600525898733143,0.0032731813973401044,0.04890588265764755,0.0063172332740347534,0.0002426336765959408,0.0,0.015215156305177053,0.0011502139845250673,0.1269644713830151,6.751960581039384e-05,0.12672031668498004,0.1026998617273264,0.002996853410630337,0.0,0.00025900705642512993,0.0,0.0012523948930099663,0.0009094137867722772,0.018867924528301886,0.0,5.989817310572027e-05,5.989817310572027e-05,0.00017969451931716083,0.15720345212054956,0.0,0.002329891127259132,0.0,0.0,0.0,0.007312671807481101,0.015644391307527945,0.0,0.056064690026954175,0.0,0.0,0.019341416465723616,0.0,0.0,0.0,0.004227926858198188,0.0006984420191967362,0.02355861153253357,0.0,0.019219915043818533,0.0010973522354777933,0.0006235971795124951,0.0,0.00860866854841803,0.0,0.0002635519616651692,0.0,0.0,0.005898334987101542,0.0,0.0005764583325230229,0.0,0.0,0.0,0.0,0.0,0.0,0.0,0.0,0.0,0.0,0.0,0.0],\"degree\":[5,4,15,4,24,18,36,22,3,12,1,7,19,2,6,14,8,20,4,12,18,26,6,4,13,5,6,9,4,6,1,4,4,2,5,2,4,7,4,5,5,8,18,8,3,2,10,7,25,4,26,14,5,6,7,4,5,7,5,1,4,4,4,14,1,6,1,2,1,6,3,1,5,1,1,12,3,4,1,8,5,6,2,6,7,4,3,4,1,5,4,2,4,4,2,1,2,3,3,2,3,2,1,2,1,1,1],\"degree_adjusted\":[10,9,20,9,29,23,41,27,8,17,6,12,24,7,11,19,13,25,9,17,23,31,11,9,18,10,11,14,9,11,6,9,9,7,10,7,9,12,9,10,10,13,23,13,8,7,15,12,30,9,31,19,10,11,12,9,10,12,10,6,9,9,9,19,6,11,6,7,6,11,8,6,10,6,6,17,8,9,6,13,10,11,7,11,12,9,8,9,6,10,9,7,9,9,7,6,7,8,8,7,8,7,6,7,6,6,6],\"index\":[\"Aemon\",\"Grenn\",\"Samwell\",\"Aerys\",\"Jaime\",\"Robert\",\"Tyrion\",\"Tywin\",\"Alliser\",\"Mance\",\"Amory\",\"Oberyn\",\"Arya\",\"Anguy\",\"Beric\",\"Bran\",\"Brynden\",\"Cersei\",\"Gendry\",\"Gregor\",\"Joffrey\",\"Jon\",\"Rickon\",\"Roose\",\"Sandor\",\"Thoros\",\"Balon\",\"Loras\",\"Belwas\",\"Barristan\",\"Illyrio\",\"Hodor\",\"Jojen\",\"Luwin\",\"Meera\",\"Nan\",\"Theon\",\"Brienne\",\"Bronn\",\"Podrick\",\"Lothar\",\"Walder\",\"Catelyn\",\"Edmure\",\"Hoster\",\"Jeyne\",\"Lysa\",\"Petyr\",\"Robb\",\"Roslin\",\"Sansa\",\"Stannis\",\"Elia\",\"Ilyn\",\"Meryn\",\"Pycelle\",\"Shae\",\"Varys\",\"Craster\",\"Karl\",\"Daario\",\"Drogo\",\"Irri\",\"Daenerys\",\"Aegon\",\"Jorah\",\"Kraznys\",\"Missandei\",\"Rakharo\",\"Rhaegar\",\"Viserys\",\"Worm\",\"Davos\",\"Cressen\",\"Salladhor\",\"Eddard\",\"Eddison\",\"Gilly\",\"Qyburn\",\"Renly\",\"Tommen\",\"Janos\",\"Bowen\",\"Kevan\",\"Margaery\",\"Myrcella\",\"Dalla\",\"Melisandre\",\"Orell\",\"Qhorin\",\"Rattleshirt\",\"Styr\",\"Val\",\"Ygritte\",\"Jon Arryn\",\"Lancel\",\"Olenna\",\"Marillion\",\"Robert Arryn\",\"Ellaria\",\"Mace\",\"Rickard\",\"Ramsay\",\"Chataya\",\"Shireen\",\"Doran\",\"Walton\"],\"modularity_class\":[1,1,1,0,0,3,0,0,1,1,0,0,2,4,4,2,2,2,4,0,0,1,2,2,0,4,0,0,3,3,3,1,1,2,1,2,2,2,0,0,2,2,2,2,2,2,2,2,2,2,2,1,0,0,0,0,0,0,1,1,3,3,3,3,3,3,3,3,3,3,3,3,1,1,1,2,1,1,0,0,0,1,1,0,0,0,1,1,1,1,1,1,1,1,3,0,0,2,2,0,0,2,2,0,1,0,0],\"modularity_color\":[\"#3288bd\",\"#3288bd\",\"#3288bd\",\"#5e4fa2\",\"#5e4fa2\",\"#abdda4\",\"#5e4fa2\",\"#5e4fa2\",\"#3288bd\",\"#3288bd\",\"#5e4fa2\",\"#5e4fa2\",\"#66c2a5\",\"#e6f598\",\"#e6f598\",\"#66c2a5\",\"#66c2a5\",\"#66c2a5\",\"#e6f598\",\"#5e4fa2\",\"#5e4fa2\",\"#3288bd\",\"#66c2a5\",\"#66c2a5\",\"#5e4fa2\",\"#e6f598\",\"#5e4fa2\",\"#5e4fa2\",\"#abdda4\",\"#abdda4\",\"#abdda4\",\"#3288bd\",\"#3288bd\",\"#66c2a5\",\"#3288bd\",\"#66c2a5\",\"#66c2a5\",\"#66c2a5\",\"#5e4fa2\",\"#5e4fa2\",\"#66c2a5\",\"#66c2a5\",\"#66c2a5\",\"#66c2a5\",\"#66c2a5\",\"#66c2a5\",\"#66c2a5\",\"#66c2a5\",\"#66c2a5\",\"#66c2a5\",\"#66c2a5\",\"#3288bd\",\"#5e4fa2\",\"#5e4fa2\",\"#5e4fa2\",\"#5e4fa2\",\"#5e4fa2\",\"#5e4fa2\",\"#3288bd\",\"#3288bd\",\"#abdda4\",\"#abdda4\",\"#abdda4\",\"#abdda4\",\"#abdda4\",\"#abdda4\",\"#abdda4\",\"#abdda4\",\"#abdda4\",\"#abdda4\",\"#abdda4\",\"#abdda4\",\"#3288bd\",\"#3288bd\",\"#3288bd\",\"#66c2a5\",\"#3288bd\",\"#3288bd\",\"#5e4fa2\",\"#5e4fa2\",\"#5e4fa2\",\"#3288bd\",\"#3288bd\",\"#5e4fa2\",\"#5e4fa2\",\"#5e4fa2\",\"#3288bd\",\"#3288bd\",\"#3288bd\",\"#3288bd\",\"#3288bd\",\"#3288bd\",\"#3288bd\",\"#3288bd\",\"#abdda4\",\"#5e4fa2\",\"#5e4fa2\",\"#66c2a5\",\"#66c2a5\",\"#5e4fa2\",\"#5e4fa2\",\"#66c2a5\",\"#66c2a5\",\"#5e4fa2\",\"#3288bd\",\"#5e4fa2\",\"#5e4fa2\"]},\"selected\":{\"id\":\"2349\"},\"selection_policy\":{\"id\":\"2350\"}},\"id\":\"2222\",\"type\":\"ColumnDataSource\"},{\"attributes\":{},\"id\":\"2200\",\"type\":\"BasicTicker\"},{\"attributes\":{\"formatter\":{\"id\":\"2345\"},\"ticker\":{\"id\":\"2200\"},\"visible\":false},\"id\":\"2199\",\"type\":\"LinearAxis\"},{\"attributes\":{},\"id\":\"2262\",\"type\":\"NodesAndLinkedEdges\"},{\"attributes\":{\"end\":10.1,\"start\":-10.1},\"id\":\"2189\",\"type\":\"Range1d\"},{\"attributes\":{},\"id\":\"2260\",\"type\":\"NodesAndLinkedEdges\"},{\"attributes\":{},\"id\":\"2209\",\"type\":\"SaveTool\"},{\"attributes\":{},\"id\":\"2349\",\"type\":\"Selection\"},{\"attributes\":{\"text\":\"GOT Newtork - Communities\"},\"id\":\"2191\",\"type\":\"Title\"},{\"attributes\":{\"axis\":{\"id\":\"2199\"},\"ticker\":null,\"visible\":false},\"id\":\"2202\",\"type\":\"Grid\"},{\"attributes\":{\"line_width\":{\"value\":2}},\"id\":\"2255\",\"type\":\"MultiLine\"},{\"attributes\":{},\"id\":\"2345\",\"type\":\"BasicTickFormatter\"},{\"attributes\":{},\"id\":\"2207\",\"type\":\"PanTool\"},{\"attributes\":{},\"id\":\"2210\",\"type\":\"ResetTool\"},{\"attributes\":{\"end\":10.1,\"start\":-10.1},\"id\":\"2188\",\"type\":\"Range1d\"},{\"attributes\":{\"graph_layout\":{\"Aegon\":[6.261316679658401,-8.055801628040493],\"Aemon\":[2.1460745926970173,1.5819431886485178],\"Aerys\":[-0.5821338480945242,-2.1054403911602435],\"Alliser\":[2.5225450911487433,4.308085085714144],\"Amory\":[-5.905354516074425,-4.752738888906327],\"Anguy\":[2.7180204234490537,-0.07553716247674208],\"Arya\":[-0.13519080980146964,0.32819827048377775],\"Balon\":[-1.2532957967436356,0.3800825807068895],\"Barristan\":[2.269298371116049,-4.291976324085121],\"Belwas\":[3.505166302944884,-7.362012530006592],\"Beric\":[1.5186847260226912,-0.20715185745451636],\"Bowen\":[4.239926314950745,2.7004847157558163],\"Bran\":[-0.21490159316480803,3.1034310846096815],\"Brienne\":[-1.247501740733406,0.763587626313029],\"Bronn\":[-2.8505311607151005,-2.7567643565792044],\"Brynden\":[-3.06142645678141,1.2959909367038114],\"Catelyn\":[-2.1560132270285624,0.7448247273803922],\"Cersei\":[-1.473261613780901,-1.1243160138610153],\"Chataya\":[-4.876507990018693,0.24382004938710328],\"Craster\":[4.519459983961765,4.690521827335479],\"Cressen\":[-2.1403026130067535,9.444058123685549],\"Daario\":[4.995991522329382,-7.440374263246662],\"Daenerys\":[4.129370439138507,-5.8886049163007135],\"Dalla\":[3.1603336802047584,3.005749065059621],\"Davos\":[-1.3563258114889059,6.670289124481744],\"Doran\":[-4.943814730802264,-2.8105696219611995],\"Drogo\":[5.329144267615844,-6.910310753856236],\"Eddard\":[-0.0441228221946443,0.7309015779426391],\"Eddison\":[4.185127893122824,3.6722988785523643],\"Edmure\":[-3.6358526843856613,0.43109028043999575],\"Elia\":[-0.5233033967772914,-3.1698355822259665],\"Ellaria\":[-3.968130309867269,-3.6437387238457597],\"Gendry\":[1.935269410255909,-0.7501410539211314],\"Gilly\":[3.8606567951213173,4.302260622515106],\"Gregor\":[-1.72578133489487,-1.9628730336150908],\"Grenn\":[3.6798771304553575,2.9242733526215803],\"Hodor\":[-0.7340546466807889,4.387201206129429],\"Hoster\":[-3.551511844959547,-1.234122905852887],\"Illyrio\":[4.204158316402047,-10.0],\"Ilyn\":[-1.8233851438740762,-2.5526025760063726],\"Irri\":[6.003373515803854,-7.34556067633068],\"Jaime\":[-0.9836790251129152,-1.2034305312570184],\"Janos\":[1.7620879353684311,2.189726227407877],\"Jeyne\":[-3.522726567130804,2.840174247846082],\"Joffrey\":[-1.8167893537036346,-0.6583464351092888],\"Jojen\":[0.7119572297610329,5.207303991697264],\"Jon\":[1.710237275090809,3.0089641327728227],\"Jon Arryn\":[0.5329804665240742,-3.450495965819425],\"Jorah\":[3.6582131149041106,-6.298523396462299],\"Karl\":[6.901931594181324,6.29950376790282],\"Kevan\":[-3.9641143684900673,-0.5380935889483559],\"Kraznys\":[4.7453562055196326,-8.602266169144066],\"Lancel\":[-7.2208196822832384,-0.08129366655161076],\"Loras\":[-0.6056509111481924,-0.6403574939896411],\"Lothar\":[-4.494142637677635,1.8631784412985957],\"Luwin\":[-0.39303637566973015,6.162906829678026],\"Lysa\":[-1.3738582902335075,-1.6224437001323437],\"Mace\":[-4.106965148562593,-2.081277643169819],\"Mance\":[2.9933673298743306,4.029942391272075],\"Margaery\":[-2.330855346760523,-0.4709484946009592],\"Marillion\":[-0.27728430343196864,-2.7121382822048092],\"Meera\":[1.00087651747172,4.599456253486002],\"Melisandre\":[0.3134525611977161,4.5143246400849035],\"Meryn\":[-1.3170618023257263,-2.411994350911396],\"Missandei\":[6.690367355960741,-7.148824158955052],\"Myrcella\":[-2.6316616958940187,0.8076496333035039],\"Nan\":[-1.0823658245717753,5.902664248156414],\"Oberyn\":[-3.5712187649954337,-2.6631402178351586],\"Olenna\":[0.8967932065594767,-1.7568540044047578],\"Orell\":[4.170275629828715,5.589193847747542],\"Petyr\":[-2.560940045316181,0.051060689722312175],\"Podrick\":[-2.6756418517230216,-1.708031480825107],\"Pycelle\":[-3.5674590200271092,-1.7062042180210732],\"Qhorin\":[3.0701690542886015,4.957454191800901],\"Qyburn\":[-1.2093074625204614,-4.580452067567991],\"Rakharo\":[5.546821982010323,-8.45369997179415],\"Ramsay\":[-4.013329676171812,4.01643989667888],\"Rattleshirt\":[3.748271154675412,5.06691406397637],\"Renly\":[-0.987347644082943,-0.44861634460535327],\"Rhaegar\":[2.0576772850202993,-4.529639974526572],\"Rickard\":[-4.612455995423781,0.8555563511286506],\"Rickon\":[-0.6324777023864651,2.0955653328073356],\"Robb\":[-1.842334207371384,1.5314415529184529],\"Robert\":[0.8316706481337179,-1.299106321175931],\"Robert Arryn\":[0.22767155036525027,-2.365142187852958],\"Roose\":[-1.6465373200142552,2.177479779308878],\"Roslin\":[-5.200746882665168,0.6105616997421257],\"Salladhor\":[-1.3978667220213656,9.486249407038187],\"Samwell\":[2.2232591447711716,3.613100770633813],\"Sandor\":[-0.13036091205492764,-1.1429972470421998],\"Sansa\":[-0.9610407458661923,-0.036536657056531634],\"Shae\":[-3.33109225087701,-0.25578331258939574],\"Shireen\":[-2.8196666918559,9.126256546861097],\"Stannis\":[-0.36206391201766686,1.6921836000554402],\"Styr\":[2.6761766489469103,5.723745722154962],\"Theon\":[-0.5259666887468932,3.4970853622708287],\"Thoros\":[1.689704224682929,-1.1760907089486416],\"Tommen\":[-2.910413087056631,0.16493895947730464],\"Tyrion\":[-1.8523664002700564,-1.0938620824256828],\"Tywin\":[-1.9348760779163992,-0.37771628139778296],\"Val\":[1.2774338830088179,1.9990742738893441],\"Varys\":[-3.046605365983109,-1.0729087556646721],\"Viserys\":[1.233537207042535,-4.211987475602854],\"Walder\":[-3.7577429675601275,1.1261861249296299],\"Walton\":[-2.073480920071091,-4.450575356466895],\"Worm\":[6.793315096536147,-6.335248437254301],\"Ygritte\":[3.299654981737366,5.510124937531883]}},\"id\":\"2229\",\"type\":\"StaticLayoutProvider\"},{\"attributes\":{},\"id\":\"2195\",\"type\":\"LinearScale\"},{\"attributes\":{\"formatter\":{\"id\":\"2347\"},\"ticker\":{\"id\":\"2204\"},\"visible\":false},\"id\":\"2203\",\"type\":\"LinearAxis\"},{\"attributes\":{\"data_source\":{\"id\":\"2226\"},\"glyph\":{\"id\":\"2235\"},\"hover_glyph\":{\"id\":\"2255\"},\"muted_glyph\":null,\"selection_glyph\":{\"id\":\"2250\"},\"view\":{\"id\":\"2228\"}},\"id\":\"2227\",\"type\":\"GlyphRenderer\"},{\"attributes\":{},\"id\":\"2204\",\"type\":\"BasicTicker\"},{\"attributes\":{\"callback\":null,\"tooltips\":[[\"Character\",\"@index\"],[\"Degree\",\"@degree\"],[\"Betweenness\",\"@betweenness{1.111}\"],[\"Modularity Class\",\"@modularity_class\"],[\"Modularity Color\",\"$color[swatch]:modularity_color\"]]},\"id\":\"2212\",\"type\":\"HoverTool\"},{\"attributes\":{\"active_drag\":\"auto\",\"active_inspect\":\"auto\",\"active_multi\":null,\"active_scroll\":{\"id\":\"2208\"},\"active_tap\":\"auto\",\"tools\":[{\"id\":\"2207\"},{\"id\":\"2208\"},{\"id\":\"2209\"},{\"id\":\"2210\"},{\"id\":\"2211\"},{\"id\":\"2212\"}]},\"id\":\"2213\",\"type\":\"Toolbar\"},{\"attributes\":{\"source\":{\"id\":\"2226\"}},\"id\":\"2228\",\"type\":\"CDSView\"}],\"root_ids\":[\"2190\"]},\"title\":\"Bokeh Application\",\"version\":\"2.0.2\"}};\n",
       "  var render_items = [{\"docid\":\"42914e73-5b7d-42c9-8bcb-c6c7f7de54ce\",\"root_ids\":[\"2190\"],\"roots\":{\"2190\":\"5edae638-022b-450d-8c8b-632aa71d50b5\"}}];\n",
       "  root.Bokeh.embed.embed_items_notebook(docs_json, render_items);\n",
       "\n",
       "  }\n",
       "  if (root.Bokeh !== undefined) {\n",
       "    embed_document(root);\n",
       "  } else {\n",
       "    var attempts = 0;\n",
       "    var timer = setInterval(function(root) {\n",
       "      if (root.Bokeh !== undefined) {\n",
       "        clearInterval(timer);\n",
       "        embed_document(root);\n",
       "      } else {\n",
       "        attempts++;\n",
       "        if (attempts > 100) {\n",
       "          clearInterval(timer);\n",
       "          console.log(\"Bokeh: ERROR: Unable to run BokehJS code because BokehJS library is missing\");\n",
       "        }\n",
       "      }\n",
       "    }, 10, root)\n",
       "  }\n",
       "})(window);"
      ],
      "application/vnd.bokehjs_exec.v0+json": ""
     },
     "metadata": {
      "application/vnd.bokehjs_exec.v0+json": {
       "id": "2190"
      }
     },
     "output_type": "display_data"
    }
   ],
   "source": [
    "make_interactive_network(G, labels=False, node_size=20,\n",
    "                         node_color='modularity_color',\n",
    "                         color_type='category',\n",
    "                         title='GOT Newtork - Communities')"
   ]
  },
  {
   "cell_type": "markdown",
   "metadata": {},
   "source": [
    "## Save Network"
   ]
  },
  {
   "cell_type": "markdown",
   "metadata": {},
   "source": [
    "### HTML"
   ]
  },
  {
   "cell_type": "markdown",
   "metadata": {},
   "source": [
    "To save as an HTML file, simply provide an HTML file name to the `save_as` parameter, as below:"
   ]
  },
  {
   "cell_type": "code",
   "execution_count": 16,
   "metadata": {},
   "outputs": [
    {
     "data": {
      "text/html": [
       "\n",
       "\n",
       "\n",
       "\n",
       "\n",
       "\n",
       "  <div class=\"bk-root\" id=\"bc39b44f-468a-4a5c-9a2a-a01115573036\" data-root-id=\"2469\"></div>\n"
      ]
     },
     "metadata": {},
     "output_type": "display_data"
    },
    {
     "data": {
      "application/javascript": [
       "(function(root) {\n",
       "  function embed_document(root) {\n",
       "    \n",
       "  var docs_json = {\"6f833f87-e70c-4eb0-ab0f-9e6c1300e200\":{\"roots\":{\"references\":[{\"attributes\":{\"below\":[{\"id\":\"2478\"}],\"center\":[{\"id\":\"2481\"},{\"id\":\"2485\"}],\"left\":[{\"id\":\"2482\"}],\"renderers\":[{\"id\":\"2499\"},{\"id\":\"2544\"}],\"sizing_mode\":\"scale_width\",\"title\":{\"id\":\"2470\"},\"toolbar\":{\"id\":\"2492\"},\"toolbar_location\":\"left\",\"x_range\":{\"id\":\"2467\"},\"x_scale\":{\"id\":\"2474\"},\"y_range\":{\"id\":\"2468\"},\"y_scale\":{\"id\":\"2476\"}},\"id\":\"2469\",\"subtype\":\"Figure\",\"type\":\"Plot\"},{\"attributes\":{},\"id\":\"2648\",\"type\":\"Selection\"},{\"attributes\":{\"end\":10.1,\"start\":-10.1},\"id\":\"2468\",\"type\":\"Range1d\"},{\"attributes\":{},\"id\":\"2650\",\"type\":\"Selection\"},{\"attributes\":{\"graph_layout\":{\"Aegon\":[-9.886684942673122,0.9669157443197309],\"Aemon\":[0.9768447231221815,2.333654655173462],\"Aerys\":[-1.4285549993202897,-2.269550191358336],\"Alliser\":[0.12461915106419506,4.685198296301278],\"Amory\":[-0.02574328023251157,-7.992931091323648],\"Anguy\":[4.870775158500271,-1.615287435001968],\"Arya\":[1.807892676522029,-0.7329613201932607],\"Balon\":[1.0805135630888574,-1.171904782968664],\"Barristan\":[-4.507256487809591,-0.07164075946096367],\"Belwas\":[-7.520256317726571,1.3684668992884013],\"Beric\":[3.6020806661554206,-1.383183903757951],\"Bowen\":[0.25417713338276904,5.273558075840846],\"Bran\":[2.970598288051549,1.6360096296494058],\"Brienne\":[1.62052661695394,-1.224618212425806],\"Bronn\":[0.9946972187299944,-4.51157768576565],\"Brynden\":[0.08172858468150931,0.36788741719415613],\"Catelyn\":[0.6270150722951835,-0.14311460956837285],\"Cersei\":[0.38756228266749854,-2.2101995762728044],\"Chataya\":[1.0434797271586578,-5.613762043777845],\"Craster\":[2.407682986915329,6.261951882816635],\"Cressen\":[9.496026213478624,0.35273828987964734],\"Daario\":[-8.706951238628044,-0.5521277676355598],\"Daenerys\":[-6.948829203026195,0.12586755303099875],\"Dalla\":[-0.4145921308663249,4.5774214044108],\"Davos\":[6.762379406851734,1.0751001444226365],\"Doran\":[0.17219064255387762,-6.039220691398204],\"Drogo\":[-8.719305971728176,0.10120371254223327],\"Eddard\":[1.4803882647099504,-0.13995353949456218],\"Eddison\":[1.4861630957541765,5.28537647995653],\"Edmure\":[-0.7525366695839252,0.5697123263945012],\"Elia\":[-1.8245677038070194,-2.041624008340142],\"Ellaria\":[-0.7738809589061441,-5.66577254673889],\"Gendry\":[3.7836392873778952,-2.129109543810691],\"Gilly\":[2.523068104849498,5.345552392559915],\"Gregor\":[0.4851164244474093,-2.9163006315306697],\"Grenn\":[1.3483483590269636,4.3836024152393245],\"Hodor\":[3.5261844650685155,2.5989509240065964],\"Hoster\":[-1.8853165317260627,0.46068402212888254],\"Illyrio\":[-9.776586148312536,3.178374822402059],\"Ilyn\":[1.918370412837979,-3.3781162670714218],\"Irri\":[-9.526673962795282,-0.24206032504443242],\"Jaime\":[-0.4173541985567507,-1.5612802480481476],\"Janos\":[0.5082858758040947,2.685864403866228],\"Jeyne\":[2.5078700504157188,1.093008460180687],\"Joffrey\":[1.019769426911122,-2.400537714572731],\"Jojen\":[4.184771997915262,3.808820369159721],\"Jon\":[1.5265727923739627,3.0933974781285682],\"Jon Arryn\":[-3.132121547492436,-0.32941621638639346],\"Jorah\":[-7.001203414162533,-0.20493852891669895],\"Karl\":[3.030910407209983,9.152670310475832],\"Kevan\":[-0.45866684467029994,-4.108635871872601],\"Kraznys\":[-9.064486568849174,1.9450158579954957],\"Lancel\":[-1.700450170212577,-7.113957698575854],\"Loras\":[1.6056911737460147,-2.5029911675634406],\"Lothar\":[-0.6409576304774169,1.4810908185658243],\"Luwin\":[5.742550930320833,3.3226862398321764],\"Lysa\":[-1.2140016885096885,-1.2062114710157419],\"Mace\":[-1.1639300755882982,-4.336293577398631],\"Mance\":[1.016432754924604,4.893405759635049],\"Margaery\":[1.1061597764652273,-3.380850286324646],\"Marillion\":[-2.3031617755776224,-1.7365706644341445],\"Meera\":[3.439296112118141,3.7539427723775716],\"Melisandre\":[4.032073045619812,2.2481757355510013],\"Meryn\":[1.3517129282664517,-3.0798356335499246],\"Missandei\":[-10.0,0.18354902508915635],\"Myrcella\":[1.7721657654543441,-3.8775904441970677],\"Nan\":[5.95817022254564,2.6984609329789535],\"Oberyn\":[-0.018555440303679567,-4.744060090978692],\"Olenna\":[3.136148048760242,-3.4762941200470223],\"Orell\":[3.550721760396567,5.747460315241051],\"Petyr\":[-0.18237770593519775,-0.6865055178845603],\"Podrick\":[0.20031289939491856,-3.608076533839834],\"Pycelle\":[-1.200491739582054,-3.4525344132862683],\"Qhorin\":[1.7927252068807253,5.635935847299291],\"Qyburn\":[-2.859244722502202,-4.050100300116374],\"Rakharo\":[-9.36460116837248,1.3366732769665246],\"Ramsay\":[4.5126603478786524,0.4695097284569271],\"Rattleshirt\":[0.6666004834291913,6.101673800968877],\"Renly\":[0.4202189737131297,-1.781705033267841],\"Rhaegar\":[-4.512411593656539,-0.7322555658290174],\"Rickard\":[-1.0679096019169163,1.8533917104578663],\"Rickon\":[2.6041473873220737,0.37701907026433207],\"Robb\":[1.2732002497297183,0.3039938218654064],\"Robert\":[-0.9691871853901636,-0.37935019313548884],\"Robert Arryn\":[-2.086108300143668,-2.4907902273593296],\"Roose\":[2.8368418198490972,-0.37350922698672545],\"Roslin\":[-0.1867512298325626,1.688775629906297],\"Salladhor\":[9.614470663932199,1.1212708766144037],\"Samwell\":[2.175137620263489,3.803573964191603],\"Sandor\":[1.7403972316066134,-1.9090193586037778],\"Sansa\":[0.749299091506766,-1.407269916045187],\"Shae\":[0.48560714386444553,-4.152108910912237],\"Shireen\":[9.474893799640128,1.8932157931213582],\"Stannis\":[1.8256036177333177,0.3076050985009914],\"Styr\":[1.7220839487902255,6.31049982359929],\"Theon\":[2.613776799662445,2.134324434678095],\"Thoros\":[2.479183690897983,-1.438772870793994],\"Tommen\":[0.7259304063967829,-3.696893262937895],\"Tyrion\":[0.05658687446062767,-2.4036486351939614],\"Tywin\":[-0.10492107671966062,-1.7115989252327322],\"Val\":[-0.11262217001302248,2.5593603623536145],\"Varys\":[-0.548398792830189,-3.3850704013637873],\"Viserys\":[-4.165904129481558,-1.565426108890351],\"Walder\":[-0.25108266246291455,0.5423208348642959],\"Walton\":[-3.329885963519839,-3.323559703347429],\"Worm\":[-9.673651705288313,-1.0891999495234024],\"Ygritte\":[1.1371257967430404,6.246956080627211]}},\"id\":\"2508\",\"type\":\"StaticLayoutProvider\"},{\"attributes\":{},\"id\":\"2489\",\"type\":\"ResetTool\"},{\"attributes\":{\"line_width\":{\"value\":2}},\"id\":\"2534\",\"type\":\"MultiLine\"},{\"attributes\":{},\"id\":\"2487\",\"type\":\"WheelZoomTool\"},{\"attributes\":{\"fill_color\":{\"field\":\"modularity_color\"},\"line_width\":{\"value\":2},\"size\":{\"units\":\"screen\",\"value\":20}},\"id\":\"2519\",\"type\":\"Circle\"},{\"attributes\":{\"data\":{\"betweenness\":[0.004622508177397137,5.989817310572027e-05,0.03227262859511145,0.0,0.09994344156136246,0.2094523840293194,0.19791284320277353,0.06553840423231058,0.0,0.007275961371756524,0.0,0.01958014232946847,0.07960711308183888,0.0,0.0006091214266627511,0.06301659941786954,0.004727134574764742,0.02674643287824232,0.0,0.005879915417737236,0.025434099443917696,0.22996466368473173,0.0007626320968639029,0.0002629599012559427,0.014162278987154626,0.0019261823273239152,0.0006281164805527878,0.003780752291533962,0.018867924528301886,0.04011407489067884,0.0,0.0021937273446681065,0.0004064518889316733,0.0,0.0019922569692430686,0.0,0.00047177590304274953,0.0015376001520469229,0.00010482180293501046,0.0008358985235471674,0.0006600525898733143,0.0032731813973401044,0.04890588265764755,0.0063172332740347534,0.0002426336765959408,0.0,0.015215156305177053,0.0011502139845250673,0.1269644713830151,6.751960581039384e-05,0.12672031668498004,0.1026998617273264,0.002996853410630337,0.0,0.00025900705642512993,0.0,0.0012523948930099663,0.0009094137867722772,0.018867924528301886,0.0,5.989817310572027e-05,5.989817310572027e-05,0.00017969451931716083,0.15720345212054956,0.0,0.002329891127259132,0.0,0.0,0.0,0.007312671807481101,0.015644391307527945,0.0,0.056064690026954175,0.0,0.0,0.019341416465723616,0.0,0.0,0.0,0.004227926858198188,0.0006984420191967362,0.02355861153253357,0.0,0.019219915043818533,0.0010973522354777933,0.0006235971795124951,0.0,0.00860866854841803,0.0,0.0002635519616651692,0.0,0.0,0.005898334987101542,0.0,0.0005764583325230229,0.0,0.0,0.0,0.0,0.0,0.0,0.0,0.0,0.0,0.0,0.0,0.0],\"degree\":[5,4,15,4,24,18,36,22,3,12,1,7,19,2,6,14,8,20,4,12,18,26,6,4,13,5,6,9,4,6,1,4,4,2,5,2,4,7,4,5,5,8,18,8,3,2,10,7,25,4,26,14,5,6,7,4,5,7,5,1,4,4,4,14,1,6,1,2,1,6,3,1,5,1,1,12,3,4,1,8,5,6,2,6,7,4,3,4,1,5,4,2,4,4,2,1,2,3,3,2,3,2,1,2,1,1,1],\"degree_adjusted\":[10,9,20,9,29,23,41,27,8,17,6,12,24,7,11,19,13,25,9,17,23,31,11,9,18,10,11,14,9,11,6,9,9,7,10,7,9,12,9,10,10,13,23,13,8,7,15,12,30,9,31,19,10,11,12,9,10,12,10,6,9,9,9,19,6,11,6,7,6,11,8,6,10,6,6,17,8,9,6,13,10,11,7,11,12,9,8,9,6,10,9,7,9,9,7,6,7,8,8,7,8,7,6,7,6,6,6],\"index\":[\"Aemon\",\"Grenn\",\"Samwell\",\"Aerys\",\"Jaime\",\"Robert\",\"Tyrion\",\"Tywin\",\"Alliser\",\"Mance\",\"Amory\",\"Oberyn\",\"Arya\",\"Anguy\",\"Beric\",\"Bran\",\"Brynden\",\"Cersei\",\"Gendry\",\"Gregor\",\"Joffrey\",\"Jon\",\"Rickon\",\"Roose\",\"Sandor\",\"Thoros\",\"Balon\",\"Loras\",\"Belwas\",\"Barristan\",\"Illyrio\",\"Hodor\",\"Jojen\",\"Luwin\",\"Meera\",\"Nan\",\"Theon\",\"Brienne\",\"Bronn\",\"Podrick\",\"Lothar\",\"Walder\",\"Catelyn\",\"Edmure\",\"Hoster\",\"Jeyne\",\"Lysa\",\"Petyr\",\"Robb\",\"Roslin\",\"Sansa\",\"Stannis\",\"Elia\",\"Ilyn\",\"Meryn\",\"Pycelle\",\"Shae\",\"Varys\",\"Craster\",\"Karl\",\"Daario\",\"Drogo\",\"Irri\",\"Daenerys\",\"Aegon\",\"Jorah\",\"Kraznys\",\"Missandei\",\"Rakharo\",\"Rhaegar\",\"Viserys\",\"Worm\",\"Davos\",\"Cressen\",\"Salladhor\",\"Eddard\",\"Eddison\",\"Gilly\",\"Qyburn\",\"Renly\",\"Tommen\",\"Janos\",\"Bowen\",\"Kevan\",\"Margaery\",\"Myrcella\",\"Dalla\",\"Melisandre\",\"Orell\",\"Qhorin\",\"Rattleshirt\",\"Styr\",\"Val\",\"Ygritte\",\"Jon Arryn\",\"Lancel\",\"Olenna\",\"Marillion\",\"Robert Arryn\",\"Ellaria\",\"Mace\",\"Rickard\",\"Ramsay\",\"Chataya\",\"Shireen\",\"Doran\",\"Walton\"],\"modularity_class\":[1,1,1,0,0,3,0,0,1,1,0,0,2,4,4,2,2,2,4,0,0,1,2,2,0,4,0,0,3,3,3,1,1,2,1,2,2,2,0,0,2,2,2,2,2,2,2,2,2,2,2,1,0,0,0,0,0,0,1,1,3,3,3,3,3,3,3,3,3,3,3,3,1,1,1,2,1,1,0,0,0,1,1,0,0,0,1,1,1,1,1,1,1,1,3,0,0,2,2,0,0,2,2,0,1,0,0],\"modularity_color\":[\"#3288bd\",\"#3288bd\",\"#3288bd\",\"#5e4fa2\",\"#5e4fa2\",\"#abdda4\",\"#5e4fa2\",\"#5e4fa2\",\"#3288bd\",\"#3288bd\",\"#5e4fa2\",\"#5e4fa2\",\"#66c2a5\",\"#e6f598\",\"#e6f598\",\"#66c2a5\",\"#66c2a5\",\"#66c2a5\",\"#e6f598\",\"#5e4fa2\",\"#5e4fa2\",\"#3288bd\",\"#66c2a5\",\"#66c2a5\",\"#5e4fa2\",\"#e6f598\",\"#5e4fa2\",\"#5e4fa2\",\"#abdda4\",\"#abdda4\",\"#abdda4\",\"#3288bd\",\"#3288bd\",\"#66c2a5\",\"#3288bd\",\"#66c2a5\",\"#66c2a5\",\"#66c2a5\",\"#5e4fa2\",\"#5e4fa2\",\"#66c2a5\",\"#66c2a5\",\"#66c2a5\",\"#66c2a5\",\"#66c2a5\",\"#66c2a5\",\"#66c2a5\",\"#66c2a5\",\"#66c2a5\",\"#66c2a5\",\"#66c2a5\",\"#3288bd\",\"#5e4fa2\",\"#5e4fa2\",\"#5e4fa2\",\"#5e4fa2\",\"#5e4fa2\",\"#5e4fa2\",\"#3288bd\",\"#3288bd\",\"#abdda4\",\"#abdda4\",\"#abdda4\",\"#abdda4\",\"#abdda4\",\"#abdda4\",\"#abdda4\",\"#abdda4\",\"#abdda4\",\"#abdda4\",\"#abdda4\",\"#abdda4\",\"#3288bd\",\"#3288bd\",\"#3288bd\",\"#66c2a5\",\"#3288bd\",\"#3288bd\",\"#5e4fa2\",\"#5e4fa2\",\"#5e4fa2\",\"#3288bd\",\"#3288bd\",\"#5e4fa2\",\"#5e4fa2\",\"#5e4fa2\",\"#3288bd\",\"#3288bd\",\"#3288bd\",\"#3288bd\",\"#3288bd\",\"#3288bd\",\"#3288bd\",\"#3288bd\",\"#abdda4\",\"#5e4fa2\",\"#5e4fa2\",\"#66c2a5\",\"#66c2a5\",\"#5e4fa2\",\"#5e4fa2\",\"#66c2a5\",\"#66c2a5\",\"#5e4fa2\",\"#3288bd\",\"#5e4fa2\",\"#5e4fa2\"]},\"selected\":{\"id\":\"2650\"},\"selection_policy\":{\"id\":\"2651\"}},\"id\":\"2501\",\"type\":\"ColumnDataSource\"},{\"attributes\":{\"data_source\":{\"id\":\"2505\"},\"glyph\":{\"id\":\"2514\"},\"hover_glyph\":{\"id\":\"2534\"},\"muted_glyph\":null,\"selection_glyph\":{\"id\":\"2529\"},\"view\":{\"id\":\"2507\"}},\"id\":\"2506\",\"type\":\"GlyphRenderer\"},{\"attributes\":{\"edge_renderer\":{\"id\":\"2506\"},\"inspection_policy\":{\"id\":\"2541\"},\"layout_provider\":{\"id\":\"2508\"},\"node_renderer\":{\"id\":\"2502\"},\"selection_policy\":{\"id\":\"2539\"}},\"id\":\"2499\",\"type\":\"GraphRenderer\"},{\"attributes\":{},\"id\":\"2474\",\"type\":\"LinearScale\"},{\"attributes\":{},\"id\":\"2539\",\"type\":\"NodesAndLinkedEdges\"},{\"attributes\":{},\"id\":\"2649\",\"type\":\"UnionRenderers\"},{\"attributes\":{\"data_source\":{\"id\":\"2501\"},\"glyph\":{\"id\":\"2509\"},\"hover_glyph\":{\"id\":\"2519\"},\"muted_glyph\":null,\"selection_glyph\":{\"id\":\"2524\"},\"view\":{\"id\":\"2503\"}},\"id\":\"2502\",\"type\":\"GlyphRenderer\"},{\"attributes\":{\"line_alpha\":{\"value\":0.3}},\"id\":\"2514\",\"type\":\"MultiLine\"},{\"attributes\":{},\"id\":\"2653\",\"type\":\"UnionRenderers\"},{\"attributes\":{\"text\":\"GOT Network - Communities\"},\"id\":\"2470\",\"type\":\"Title\"},{\"attributes\":{\"active_drag\":\"auto\",\"active_inspect\":\"auto\",\"active_multi\":null,\"active_scroll\":{\"id\":\"2487\"},\"active_tap\":\"auto\",\"tools\":[{\"id\":\"2486\"},{\"id\":\"2487\"},{\"id\":\"2488\"},{\"id\":\"2489\"},{\"id\":\"2490\"},{\"id\":\"2491\"}]},\"id\":\"2492\",\"type\":\"Toolbar\"},{\"attributes\":{},\"id\":\"2541\",\"type\":\"NodesAndLinkedEdges\"},{\"attributes\":{\"callback\":null},\"id\":\"2490\",\"type\":\"TapTool\"},{\"attributes\":{\"formatter\":{\"id\":\"2646\"},\"ticker\":{\"id\":\"2483\"},\"visible\":false},\"id\":\"2482\",\"type\":\"LinearAxis\"},{\"attributes\":{\"fill_color\":{\"field\":\"modularity_color\"},\"size\":{\"units\":\"screen\",\"value\":20}},\"id\":\"2509\",\"type\":\"Circle\"},{\"attributes\":{\"background_fill_alpha\":{\"value\":0.7},\"background_fill_color\":{\"value\":\"white\"},\"source\":{\"id\":\"2543\"},\"text\":{\"field\":\"name\"},\"text_font_size\":{\"value\":\"10px\"},\"x\":{\"field\":\"x\"},\"y\":{\"field\":\"y\"}},\"id\":\"2544\",\"type\":\"LabelSet\"},{\"attributes\":{},\"id\":\"2651\",\"type\":\"UnionRenderers\"},{\"attributes\":{\"axis\":{\"id\":\"2482\"},\"dimension\":1,\"ticker\":null,\"visible\":false},\"id\":\"2485\",\"type\":\"Grid\"},{\"attributes\":{\"formatter\":{\"id\":\"2644\"},\"ticker\":{\"id\":\"2479\"},\"visible\":false},\"id\":\"2478\",\"type\":\"LinearAxis\"},{\"attributes\":{\"source\":{\"id\":\"2501\"}},\"id\":\"2503\",\"type\":\"CDSView\"},{\"attributes\":{},\"id\":\"2646\",\"type\":\"BasicTickFormatter\"},{\"attributes\":{},\"id\":\"2652\",\"type\":\"Selection\"},{\"attributes\":{\"fill_color\":{\"field\":\"modularity_color\"},\"line_width\":{\"value\":2},\"size\":{\"units\":\"screen\",\"value\":20}},\"id\":\"2524\",\"type\":\"Circle\"},{\"attributes\":{\"axis\":{\"id\":\"2478\"},\"ticker\":null,\"visible\":false},\"id\":\"2481\",\"type\":\"Grid\"},{\"attributes\":{},\"id\":\"2479\",\"type\":\"BasicTicker\"},{\"attributes\":{\"end\":10.1,\"start\":-10.1},\"id\":\"2467\",\"type\":\"Range1d\"},{\"attributes\":{},\"id\":\"2483\",\"type\":\"BasicTicker\"},{\"attributes\":{\"data\":{\"Weight\":[5,31,30,4,4,8,25,43,11,11,52,7,5,6,34,12,36,6,10,5,13,18,6,5,8,11,19,36,6,6,4,88,5,4,6,15,16,11,11,7,17,5,8,31,15,10,13,10,4,16,5,10,5,6,6,5,4,5,4,6,5,9,11,5,5,46,54,5,4,12,77,4,31,5,5,5,4,22,5,5,11,6,9,7,5,25,12,28,11,6,4,21,6,18,39,4,4,12,5,4,16,7,13,14,5,6,4,5,5,15,4,4,6,4,5,9,15,4,69,11,8,7,10,9,7,8,12,5,24,4,6,6,11,23,9,6,5,43,7,6,7,8,5,46,18,18,15,22,4,4,21,8,15,96,46,12,4,54,14,35,11,4,15,23,10,4,5,8,7,4,17,4,5,4,4,6,7,23,10,4,6,4,4,6,4,16,7,5,5,9,7,7,12,5,4,8,7,28,5,5,14,10,9,10,35,8,7,6,4,9,8,4,7,6,31,20,9,16,8,12,54,14,4,8,8,15,7,4,4,4,5,4,4,10,6,4,6,4,7,9,5,8,14,18,10,26,13,20,11,5,35,41,5,33,4,11,7,6,5,19,4,8,4,4,10,12,19,9,26,6,6,16,9,10,8,5,43,6,8,4,5,16,9,32,6,18,5,10,29,9,28,5,28,13,4,7,15,4,6,5,36,9,4,7,4,6,8,32,20,15,7,5,4,4,8,5,4,6,17,4,5,14,7,18,7,6,17,4,8,47,10,26,7,12,8,14,5,7,4,16,30,5,7,5,5,5,7,7,6,7,9,4],\"end\":[\"Grenn\",\"Samwell\",\"Jon\",\"Robert\",\"Stannis\",\"Eddison\",\"Jon\",\"Samwell\",\"Bran\",\"Jojen\",\"Jon\",\"Meera\",\"Melisandre\",\"Bowen\",\"Craster\",\"Eddison\",\"Gilly\",\"Janos\",\"Mance\",\"Qhorin\",\"Stannis\",\"Jaime\",\"Robert\",\"Tyrion\",\"Tywin\",\"Arya\",\"Catelyn\",\"Cersei\",\"Eddard\",\"Balon\",\"Barristan\",\"Brienne\",\"Edmure\",\"Elia\",\"Gregor\",\"Joffrey\",\"Loras\",\"Meryn\",\"Qyburn\",\"Renly\",\"Robert\",\"Stannis\",\"Tommen\",\"Tyrion\",\"Robb\",\"Sansa\",\"Tywin\",\"Walton\",\"Arya\",\"Cersei\",\"Daenerys\",\"Eddard\",\"Jon\",\"Jon Arryn\",\"Rhaegar\",\"Barristan\",\"Renly\",\"Stannis\",\"Thoros\",\"Sandor\",\"Sansa\",\"Tyrion\",\"Tywin\",\"Arya\",\"Catelyn\",\"Cersei\",\"Joffrey\",\"Lysa\",\"Myrcella\",\"Robb\",\"Sansa\",\"Balon\",\"Bronn\",\"Chataya\",\"Doran\",\"Elia\",\"Ellaria\",\"Gregor\",\"Ilyn\",\"Janos\",\"Kevan\",\"Loras\",\"Mace\",\"Margaery\",\"Meryn\",\"Oberyn\",\"Petyr\",\"Podrick\",\"Pycelle\",\"Renly\",\"Sandor\",\"Shae\",\"Stannis\",\"Varys\",\"Tywin\",\"Viserys\",\"Lysa\",\"Robb\",\"Balon\",\"Brynden\",\"Cersei\",\"Gregor\",\"Joffrey\",\"Kevan\",\"Mace\",\"Oberyn\",\"Petyr\",\"Podrick\",\"Pycelle\",\"Stannis\",\"Tommen\",\"Val\",\"Varys\",\"Walder\",\"Mance\",\"Janos\",\"Jon\",\"Janos\",\"Jon\",\"Craster\",\"Dalla\",\"Gilly\",\"Qhorin\",\"Rattleshirt\",\"Styr\",\"Val\",\"Ygritte\",\"Oberyn\",\"Gregor\",\"Joffrey\",\"Ellaria\",\"Mace\",\"Anguy\",\"Beric\",\"Bran\",\"Brynden\",\"Cersei\",\"Gendry\",\"Gregor\",\"Joffrey\",\"Jon\",\"Rickon\",\"Roose\",\"Sandor\",\"Thoros\",\"Eddard\",\"Robb\",\"Sansa\",\"Beric\",\"Gendry\",\"Thoros\",\"Eddard\",\"Sandor\",\"Hodor\",\"Jojen\",\"Jon\",\"Luwin\",\"Meera\",\"Nan\",\"Rickon\",\"Theon\",\"Catelyn\",\"Eddard\",\"Robb\",\"Sansa\",\"Lothar\",\"Walder\",\"Catelyn\",\"Edmure\",\"Rickard\",\"Robb\",\"Catelyn\",\"Brienne\",\"Bronn\",\"Elia\",\"Gregor\",\"Ilyn\",\"Joffrey\",\"Meryn\",\"Pycelle\",\"Sandor\",\"Shae\",\"Varys\",\"Eddard\",\"Lysa\",\"Sansa\",\"Thoros\",\"Sandor\",\"Bronn\",\"Elia\",\"Ilyn\",\"Meryn\",\"Sandor\",\"Joffrey\",\"Ilyn\",\"Kevan\",\"Loras\",\"Margaery\",\"Meryn\",\"Myrcella\",\"Sandor\",\"Stannis\",\"Tommen\",\"Robb\",\"Sansa\",\"Eddard\",\"Craster\",\"Dalla\",\"Eddison\",\"Gilly\",\"Janos\",\"Meera\",\"Melisandre\",\"Orell\",\"Qhorin\",\"Rattleshirt\",\"Stannis\",\"Styr\",\"Theon\",\"Val\",\"Ygritte\",\"Robb\",\"Sansa\",\"Eddard\",\"Theon\",\"Robb\",\"Sansa\",\"Catelyn\",\"Robb\",\"Brienne\",\"Eddard\",\"Ilyn\",\"Meryn\",\"Thoros\",\"Sansa\",\"Loras\",\"Robb\",\"Stannis\",\"Brienne\",\"Margaery\",\"Olenna\",\"Renly\",\"Sansa\",\"Barristan\",\"Illyrio\",\"Daenerys\",\"Jorah\",\"Daenerys\",\"Jorah\",\"Rhaegar\",\"Jojen\",\"Meera\",\"Robb\",\"Meera\",\"Nan\",\"Robb\",\"Catelyn\",\"Robb\",\"Sansa\",\"Podrick\",\"Margaery\",\"Sansa\",\"Edmure\",\"Roslin\",\"Robb\",\"Walder\",\"Catelyn\",\"Edmure\",\"Robb\",\"Petyr\",\"Roslin\",\"Edmure\",\"Hoster\",\"Jeyne\",\"Lysa\",\"Petyr\",\"Robb\",\"Roslin\",\"Sansa\",\"Stannis\",\"Eddard\",\"Roslin\",\"Hoster\",\"Robb\",\"Lysa\",\"Robb\",\"Jon Arryn\",\"Marillion\",\"Petyr\",\"Robert Arryn\",\"Sansa\",\"Robb\",\"Sansa\",\"Eddard\",\"Ramsay\",\"Rickard\",\"Sansa\",\"Stannis\",\"Eddard\",\"Kevan\",\"Margaery\",\"Marillion\",\"Myrcella\",\"Olenna\",\"Renly\",\"Robert Arryn\",\"Shae\",\"Davos\",\"Melisandre\",\"Renly\",\"Rhaegar\",\"Meryn\",\"Varys\",\"Chataya\",\"Varys\",\"Kevan\",\"Renly\",\"Karl\",\"Gilly\",\"Drogo\",\"Irri\",\"Daenerys\",\"Jorah\",\"Daenerys\",\"Irri\",\"Jorah\",\"Daenerys\",\"Missandei\",\"Aegon\",\"Jorah\",\"Kraznys\",\"Missandei\",\"Rakharo\",\"Rhaegar\",\"Viserys\",\"Worm\",\"Rhaegar\",\"Viserys\",\"Cressen\",\"Salladhor\",\"Melisandre\",\"Shireen\",\"Margaery\",\"Myrcella\",\"Margaery\",\"Bowen\",\"Lancel\",\"Val\",\"Rattleshirt\",\"Ygritte\",\"Ygritte\",\"Robert Arryn\"],\"start\":[\"Aemon\",\"Aemon\",\"Aemon\",\"Aemon\",\"Aemon\",\"Grenn\",\"Grenn\",\"Grenn\",\"Samwell\",\"Samwell\",\"Samwell\",\"Samwell\",\"Samwell\",\"Samwell\",\"Samwell\",\"Samwell\",\"Samwell\",\"Samwell\",\"Samwell\",\"Samwell\",\"Samwell\",\"Aerys\",\"Aerys\",\"Aerys\",\"Aerys\",\"Jaime\",\"Jaime\",\"Jaime\",\"Jaime\",\"Jaime\",\"Jaime\",\"Jaime\",\"Jaime\",\"Jaime\",\"Jaime\",\"Jaime\",\"Jaime\",\"Jaime\",\"Jaime\",\"Jaime\",\"Jaime\",\"Jaime\",\"Jaime\",\"Jaime\",\"Jaime\",\"Jaime\",\"Jaime\",\"Jaime\",\"Robert\",\"Robert\",\"Robert\",\"Robert\",\"Robert\",\"Robert\",\"Robert\",\"Robert\",\"Robert\",\"Robert\",\"Robert\",\"Robert\",\"Robert\",\"Robert\",\"Robert\",\"Tyrion\",\"Tyrion\",\"Tyrion\",\"Tyrion\",\"Tyrion\",\"Tyrion\",\"Tyrion\",\"Tyrion\",\"Tyrion\",\"Tyrion\",\"Tyrion\",\"Tyrion\",\"Tyrion\",\"Tyrion\",\"Tyrion\",\"Tyrion\",\"Tyrion\",\"Tyrion\",\"Tyrion\",\"Tyrion\",\"Tyrion\",\"Tyrion\",\"Tyrion\",\"Tyrion\",\"Tyrion\",\"Tyrion\",\"Tyrion\",\"Tyrion\",\"Tyrion\",\"Tyrion\",\"Tyrion\",\"Tyrion\",\"Tyrion\",\"Tywin\",\"Tywin\",\"Tywin\",\"Tywin\",\"Tywin\",\"Tywin\",\"Tywin\",\"Tywin\",\"Tywin\",\"Tywin\",\"Tywin\",\"Tywin\",\"Tywin\",\"Tywin\",\"Tywin\",\"Tywin\",\"Tywin\",\"Tywin\",\"Alliser\",\"Alliser\",\"Alliser\",\"Mance\",\"Mance\",\"Mance\",\"Mance\",\"Mance\",\"Mance\",\"Mance\",\"Mance\",\"Mance\",\"Mance\",\"Amory\",\"Oberyn\",\"Oberyn\",\"Oberyn\",\"Oberyn\",\"Arya\",\"Arya\",\"Arya\",\"Arya\",\"Arya\",\"Arya\",\"Arya\",\"Arya\",\"Arya\",\"Arya\",\"Arya\",\"Arya\",\"Arya\",\"Arya\",\"Arya\",\"Arya\",\"Anguy\",\"Beric\",\"Beric\",\"Beric\",\"Beric\",\"Bran\",\"Bran\",\"Bran\",\"Bran\",\"Bran\",\"Bran\",\"Bran\",\"Bran\",\"Bran\",\"Bran\",\"Bran\",\"Bran\",\"Brynden\",\"Brynden\",\"Brynden\",\"Brynden\",\"Brynden\",\"Brynden\",\"Cersei\",\"Cersei\",\"Cersei\",\"Cersei\",\"Cersei\",\"Cersei\",\"Cersei\",\"Cersei\",\"Cersei\",\"Cersei\",\"Cersei\",\"Cersei\",\"Cersei\",\"Cersei\",\"Cersei\",\"Gendry\",\"Gendry\",\"Gregor\",\"Gregor\",\"Gregor\",\"Gregor\",\"Gregor\",\"Gregor\",\"Joffrey\",\"Joffrey\",\"Joffrey\",\"Joffrey\",\"Joffrey\",\"Joffrey\",\"Joffrey\",\"Joffrey\",\"Joffrey\",\"Joffrey\",\"Joffrey\",\"Jon\",\"Jon\",\"Jon\",\"Jon\",\"Jon\",\"Jon\",\"Jon\",\"Jon\",\"Jon\",\"Jon\",\"Jon\",\"Jon\",\"Jon\",\"Jon\",\"Jon\",\"Jon\",\"Jon\",\"Jon\",\"Rickon\",\"Rickon\",\"Rickon\",\"Rickon\",\"Roose\",\"Roose\",\"Roose\",\"Sandor\",\"Sandor\",\"Sandor\",\"Sandor\",\"Sandor\",\"Balon\",\"Balon\",\"Balon\",\"Loras\",\"Loras\",\"Loras\",\"Loras\",\"Loras\",\"Belwas\",\"Belwas\",\"Belwas\",\"Belwas\",\"Barristan\",\"Barristan\",\"Barristan\",\"Hodor\",\"Hodor\",\"Hodor\",\"Jojen\",\"Luwin\",\"Theon\",\"Brienne\",\"Brienne\",\"Brienne\",\"Bronn\",\"Podrick\",\"Podrick\",\"Lothar\",\"Lothar\",\"Lothar\",\"Lothar\",\"Walder\",\"Walder\",\"Walder\",\"Walder\",\"Walder\",\"Catelyn\",\"Catelyn\",\"Catelyn\",\"Catelyn\",\"Catelyn\",\"Catelyn\",\"Catelyn\",\"Catelyn\",\"Catelyn\",\"Catelyn\",\"Edmure\",\"Edmure\",\"Edmure\",\"Hoster\",\"Jeyne\",\"Lysa\",\"Lysa\",\"Lysa\",\"Lysa\",\"Lysa\",\"Petyr\",\"Petyr\",\"Robb\",\"Robb\",\"Robb\",\"Robb\",\"Robb\",\"Sansa\",\"Sansa\",\"Sansa\",\"Sansa\",\"Sansa\",\"Sansa\",\"Sansa\",\"Sansa\",\"Sansa\",\"Stannis\",\"Stannis\",\"Stannis\",\"Elia\",\"Ilyn\",\"Pycelle\",\"Shae\",\"Shae\",\"Varys\",\"Varys\",\"Craster\",\"Craster\",\"Daario\",\"Daario\",\"Daario\",\"Daario\",\"Drogo\",\"Drogo\",\"Drogo\",\"Irri\",\"Irri\",\"Daenerys\",\"Daenerys\",\"Daenerys\",\"Daenerys\",\"Daenerys\",\"Daenerys\",\"Daenerys\",\"Daenerys\",\"Jorah\",\"Rhaegar\",\"Davos\",\"Davos\",\"Davos\",\"Davos\",\"Renly\",\"Tommen\",\"Tommen\",\"Janos\",\"Kevan\",\"Dalla\",\"Qhorin\",\"Qhorin\",\"Rattleshirt\",\"Marillion\"]},\"selected\":{\"id\":\"2652\"},\"selection_policy\":{\"id\":\"2653\"}},\"id\":\"2505\",\"type\":\"ColumnDataSource\"},{\"attributes\":{\"data\":{\"name\":[\"Aemon\",\"Grenn\",\"Samwell\",\"Aerys\",\"Jaime\",\"Robert\",\"Tyrion\",\"Tywin\",\"Alliser\",\"Mance\",\"Amory\",\"Oberyn\",\"Arya\",\"Anguy\",\"Beric\",\"Bran\",\"Brynden\",\"Cersei\",\"Gendry\",\"Gregor\",\"Joffrey\",\"Jon\",\"Rickon\",\"Roose\",\"Sandor\",\"Thoros\",\"Balon\",\"Loras\",\"Belwas\",\"Barristan\",\"Illyrio\",\"Hodor\",\"Jojen\",\"Luwin\",\"Meera\",\"Nan\",\"Theon\",\"Brienne\",\"Bronn\",\"Podrick\",\"Lothar\",\"Walder\",\"Catelyn\",\"Edmure\",\"Hoster\",\"Jeyne\",\"Lysa\",\"Petyr\",\"Robb\",\"Roslin\",\"Sansa\",\"Stannis\",\"Elia\",\"Ilyn\",\"Meryn\",\"Pycelle\",\"Shae\",\"Varys\",\"Craster\",\"Karl\",\"Daario\",\"Drogo\",\"Irri\",\"Daenerys\",\"Aegon\",\"Jorah\",\"Kraznys\",\"Missandei\",\"Rakharo\",\"Rhaegar\",\"Viserys\",\"Worm\",\"Davos\",\"Cressen\",\"Salladhor\",\"Eddard\",\"Eddison\",\"Gilly\",\"Qyburn\",\"Renly\",\"Tommen\",\"Janos\",\"Bowen\",\"Kevan\",\"Margaery\",\"Myrcella\",\"Dalla\",\"Melisandre\",\"Orell\",\"Qhorin\",\"Rattleshirt\",\"Styr\",\"Val\",\"Ygritte\",\"Jon Arryn\",\"Lancel\",\"Olenna\",\"Marillion\",\"Robert Arryn\",\"Ellaria\",\"Mace\",\"Rickard\",\"Ramsay\",\"Chataya\",\"Shireen\",\"Doran\",\"Walton\"],\"x\":[0.9768447231221815,1.3483483590269636,2.175137620263489,-1.4285549993202897,-0.4173541985567507,-0.9691871853901636,0.05658687446062767,-0.10492107671966062,0.12461915106419506,1.016432754924604,-0.02574328023251157,-0.018555440303679567,1.807892676522029,4.870775158500271,3.6020806661554206,2.970598288051549,0.08172858468150931,0.38756228266749854,3.7836392873778952,0.4851164244474093,1.019769426911122,1.5265727923739627,2.6041473873220737,2.8368418198490972,1.7403972316066134,2.479183690897983,1.0805135630888574,1.6056911737460147,-7.520256317726571,-4.507256487809591,-9.776586148312536,3.5261844650685155,4.184771997915262,5.742550930320833,3.439296112118141,5.95817022254564,2.613776799662445,1.62052661695394,0.9946972187299944,0.20031289939491856,-0.6409576304774169,-0.25108266246291455,0.6270150722951835,-0.7525366695839252,-1.8853165317260627,2.5078700504157188,-1.2140016885096885,-0.18237770593519775,1.2732002497297183,-0.1867512298325626,0.749299091506766,1.8256036177333177,-1.8245677038070194,1.918370412837979,1.3517129282664517,-1.200491739582054,0.48560714386444553,-0.548398792830189,2.407682986915329,3.030910407209983,-8.706951238628044,-8.719305971728176,-9.526673962795282,-6.948829203026195,-9.886684942673122,-7.001203414162533,-9.064486568849174,-10.0,-9.36460116837248,-4.512411593656539,-4.165904129481558,-9.673651705288313,6.762379406851734,9.496026213478624,9.614470663932199,1.4803882647099504,1.4861630957541765,2.523068104849498,-2.859244722502202,0.4202189737131297,0.7259304063967829,0.5082858758040947,0.25417713338276904,-0.45866684467029994,1.1061597764652273,1.7721657654543441,-0.4145921308663249,4.032073045619812,3.550721760396567,1.7927252068807253,0.6666004834291913,1.7220839487902255,-0.11262217001302248,1.1371257967430404,-3.132121547492436,-1.700450170212577,3.136148048760242,-2.3031617755776224,-2.086108300143668,-0.7738809589061441,-1.1639300755882982,-1.0679096019169163,4.5126603478786524,1.0434797271586578,9.474893799640128,0.17219064255387762,-3.329885963519839],\"y\":[2.333654655173462,4.3836024152393245,3.803573964191603,-2.269550191358336,-1.5612802480481476,-0.37935019313548884,-2.4036486351939614,-1.7115989252327322,4.685198296301278,4.893405759635049,-7.992931091323648,-4.744060090978692,-0.7329613201932607,-1.615287435001968,-1.383183903757951,1.6360096296494058,0.36788741719415613,-2.2101995762728044,-2.129109543810691,-2.9163006315306697,-2.400537714572731,3.0933974781285682,0.37701907026433207,-0.37350922698672545,-1.9090193586037778,-1.438772870793994,-1.171904782968664,-2.5029911675634406,1.3684668992884013,-0.07164075946096367,3.178374822402059,2.5989509240065964,3.808820369159721,3.3226862398321764,3.7539427723775716,2.6984609329789535,2.134324434678095,-1.224618212425806,-4.51157768576565,-3.608076533839834,1.4810908185658243,0.5423208348642959,-0.14311460956837285,0.5697123263945012,0.46068402212888254,1.093008460180687,-1.2062114710157419,-0.6865055178845603,0.3039938218654064,1.688775629906297,-1.407269916045187,0.3076050985009914,-2.041624008340142,-3.3781162670714218,-3.0798356335499246,-3.4525344132862683,-4.152108910912237,-3.3850704013637873,6.261951882816635,9.152670310475832,-0.5521277676355598,0.10120371254223327,-0.24206032504443242,0.12586755303099875,0.9669157443197309,-0.20493852891669895,1.9450158579954957,0.18354902508915635,1.3366732769665246,-0.7322555658290174,-1.565426108890351,-1.0891999495234024,1.0751001444226365,0.35273828987964734,1.1212708766144037,-0.13995353949456218,5.28537647995653,5.345552392559915,-4.050100300116374,-1.781705033267841,-3.696893262937895,2.685864403866228,5.273558075840846,-4.108635871872601,-3.380850286324646,-3.8775904441970677,4.5774214044108,2.2481757355510013,5.747460315241051,5.635935847299291,6.101673800968877,6.31049982359929,2.5593603623536145,6.246956080627211,-0.32941621638639346,-7.113957698575854,-3.4762941200470223,-1.7365706644341445,-2.4907902273593296,-5.66577254673889,-4.336293577398631,1.8533917104578663,0.4695097284569271,-5.613762043777845,1.8932157931213582,-6.039220691398204,-3.323559703347429]},\"selected\":{\"id\":\"2648\"},\"selection_policy\":{\"id\":\"2649\"}},\"id\":\"2543\",\"type\":\"ColumnDataSource\"},{\"attributes\":{},\"id\":\"2644\",\"type\":\"BasicTickFormatter\"},{\"attributes\":{},\"id\":\"2476\",\"type\":\"LinearScale\"},{\"attributes\":{\"callback\":null,\"tooltips\":[[\"Character\",\"@index\"],[\"Degree\",\"@degree\"],[\"Betweenness\",\"@betweenness{1.111}\"],[\"Modularity Class\",\"@modularity_class\"],[\"Modularity Color\",\"$color[swatch]:modularity_color\"]]},\"id\":\"2491\",\"type\":\"HoverTool\"},{\"attributes\":{\"line_width\":{\"value\":2}},\"id\":\"2529\",\"type\":\"MultiLine\"},{\"attributes\":{\"source\":{\"id\":\"2505\"}},\"id\":\"2507\",\"type\":\"CDSView\"},{\"attributes\":{},\"id\":\"2488\",\"type\":\"SaveTool\"},{\"attributes\":{},\"id\":\"2486\",\"type\":\"PanTool\"}],\"root_ids\":[\"2469\"]},\"title\":\"Bokeh Application\",\"version\":\"2.0.2\"}};\n",
       "  var render_items = [{\"docid\":\"6f833f87-e70c-4eb0-ab0f-9e6c1300e200\",\"root_ids\":[\"2469\"],\"roots\":{\"2469\":\"bc39b44f-468a-4a5c-9a2a-a01115573036\"}}];\n",
       "  root.Bokeh.embed.embed_items_notebook(docs_json, render_items);\n",
       "\n",
       "  }\n",
       "  if (root.Bokeh !== undefined) {\n",
       "    embed_document(root);\n",
       "  } else {\n",
       "    var attempts = 0;\n",
       "    var timer = setInterval(function(root) {\n",
       "      if (root.Bokeh !== undefined) {\n",
       "        clearInterval(timer);\n",
       "        embed_document(root);\n",
       "      } else {\n",
       "        attempts++;\n",
       "        if (attempts > 100) {\n",
       "          clearInterval(timer);\n",
       "          console.log(\"Bokeh: ERROR: Unable to run BokehJS code because BokehJS library is missing\");\n",
       "        }\n",
       "      }\n",
       "    }, 10, root)\n",
       "  }\n",
       "})(window);"
      ],
      "application/vnd.bokehjs_exec.v0+json": ""
     },
     "metadata": {
      "application/vnd.bokehjs_exec.v0+json": {
       "id": "2469"
      }
     },
     "output_type": "display_data"
    }
   ],
   "source": [
    "make_interactive_network(G, labels=True, node_size=20,\n",
    "                         node_color='modularity_color',\n",
    "                         color_type='category',\n",
    "                         title='GOT Network - Communities',\n",
    "                        save_as = \"GOT-network-communities.html\")"
   ]
  },
  {
   "cell_type": "markdown",
   "metadata": {},
   "source": [
    "### Image"
   ]
  },
  {
   "cell_type": "markdown",
   "metadata": {},
   "source": [
    "To save the network as an image, click the \"Save\" 💾 icon on the Bokeh toolbar. This action will download a .png image of the network at the current view. (For example, if you want an image of a specific section of the network, simply zoom and pan to that section of the network and then save 💾.)"
   ]
  },
  {
   "cell_type": "markdown",
   "metadata": {},
   "source": [
    "<img src=\"../images/Bokeh-how-to-save.png\" >"
   ]
  },
  {
   "cell_type": "markdown",
   "metadata": {},
   "source": [
    "Clicking \"Save\" 💾 at the above view creates the following image:"
   ]
  },
  {
   "cell_type": "markdown",
   "metadata": {},
   "source": [
    "<img src=\"GOT-Arya-Zoom.png\" >"
   ]
  }
 ],
 "metadata": {
  "kernelspec": {
   "display_name": "Python 3",
   "language": "python",
   "name": "python3"
  },
  "language_info": {
   "codemirror_mode": {
    "name": "ipython",
    "version": 3
   },
   "file_extension": ".py",
   "mimetype": "text/x-python",
   "name": "python",
   "nbconvert_exporter": "python",
   "pygments_lexer": "ipython3",
   "version": "3.7.6"
  }
 },
 "nbformat": 4,
 "nbformat_minor": 4
}
