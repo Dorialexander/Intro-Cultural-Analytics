{
 "cells": [
  {
   "cell_type": "markdown",
   "metadata": {},
   "source": [
    "## Reddit Data Collection"
   ]
  },
  {
   "cell_type": "markdown",
   "metadata": {},
   "source": [
    "This series of lessons covers how to collect and analyze Reddit data:"
   ]
  },
  {
   "cell_type": "markdown",
   "metadata": {},
   "source": [
    "- [Reddit Data Collection With PRAW](https://melaniewalsh.github.io/Intro-Cultural-Analytics/Collecting-Cultural-Data/Reddit-Data-Collection-With-Praw.html)\n",
    "- [Reddit Data Collection With Pushshift](https://melaniewalsh.github.io/Intro-Cultural-Analytics/Collecting-Cultural-Data/Reddit-Data-Collection-With-Pushshift.html)"
   ]
  }
 ],
 "metadata": {
  "kernelspec": {
   "display_name": "Python 3",
   "language": "python",
   "name": "python3"
  },
  "language_info": {
   "codemirror_mode": {
    "name": "ipython",
    "version": 3
   },
   "file_extension": ".py",
   "mimetype": "text/x-python",
   "name": "python",
   "nbconvert_exporter": "python",
   "pygments_lexer": "ipython3",
   "version": "3.7.6"
  }
 },
 "nbformat": 4,
 "nbformat_minor": 4
}
