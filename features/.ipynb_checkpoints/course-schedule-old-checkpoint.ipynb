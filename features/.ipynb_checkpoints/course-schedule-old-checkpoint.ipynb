{
 "cells": [
  {
   "cell_type": "markdown",
   "metadata": {},
   "source": [
    "# \\*Revised\\* Course Schedule \n"
   ]
  },
  {
   "cell_type": "markdown",
   "metadata": {},
   "source": [
    "Student Hours with Prof. Walsh <br>\n",
    "Thursday 1-3pm by appt https://melaniewalsh.youcanbook.me // Gates 211\n",
    "\n",
    "TA Study Hall<br>\n",
    "Wednesday 5:30-6:30pm // Rhodes 408 <br>\n",
    "Friday 2:30-3:30pm // Rhodes 597"
   ]
  },
  {
   "cell_type": "markdown",
   "metadata": {
    "tags": [
     "full-width",
     "syllabus",
     "command_line"
    ]
   },
   "source": [
    "| Course Unit | Technical Lesson | Date | Technical Reading | Critical/Cultural Reading | Assignments |\n",
    "|:---:|:---:|:---:|:---:|:---:|:---:|\n",
    "| What Is Cultural Analytics? |  | Tues 1/21 |  |  |  |\n",
    "| The Command Line | [The Command Line](https://melaniewalsh.github.io/Intro-Cultural-Analytics/Command-Line/The-Command-Line.html) | Th 1/23 | [The Command Line](https://melaniewalsh.github.io/Intro-Cultural-Analytics/Command-Line/The-Command-Line.html) | [“The Yellow Wallpaper,”](https://www.nlm.nih.gov/exhibition/theliteratureofprescription/exhibitionAssets/digitalDocs/The-Yellow-Wall-Paper.pdf)**\\*** <br>Charlotte Perkins Gilman | [HW 1](https://melaniewalsh.github.io/Intro-Cultural-Analytics/Homework/HW-1-Command-Line.html) <br> (Due Friday 5pm) |\n",
    "| Cultural Data + Python Fundamentals | [Variables](https://melaniewalsh.github.io/Intro-Cultural-Analytics/Python/Variables.html) | Tues 1/28 | [How to Use Jupyter](https://melaniewalsh.github.io/Intro-Cultural-Analytics/Python/How-to-Use-Jupyter.html) // <br> [The Life and Anatomy of a Python Script](https://melaniewalsh.github.io/Intro-Cultural-Analytics/Python/Life-Anatomy-Python-Script.html) | “What Gets Counted Counts,”**\\*** <br>*Data Feminism*, <br>Lauren Klein and Catherine D'Ignazio | [HW 1.5](https://melaniewalsh.github.io/Intro-Cultural-Analytics/Homework/HW-1-5-Installation.html) <br> (Due Tuesday 9am) |\n",
    "|  | [Data Types](https://melaniewalsh.github.io/Intro-Cultural-Analytics/Python/Data-Types.html) & [String Methods](https://melaniewalsh.github.io/Intro-Cultural-Analytics/Python/String-Methods.html) | Th 1/30 | [Character Encoding](https://melaniewalsh.github.io/Intro-Cultural-Analytics/Python/Character-Encoding.html) | [“I Can Text You A Pile of Poo, But I Can’t Write My Name,”](https://modelviewculture.com/pieces/i-can-text-you-a-pile-of-poo-but-i-cant-write-my-name)**\\*** <br> Aditya Mukerjee | [HW 2](https://melaniewalsh.github.io/Intro-Cultural-Analytics/Homework/HW-2-Variables-Data-Types.html) (Due Sunday 5pm) <br> |\n",
    "|  | [Conditionals & Comparisons](https://melaniewalsh.github.io/Intro-Cultural-Analytics/Python/Conditionals-Comparisons.html) | Tues 2/4 |  | <a href=http://crdh.rrchnm.org/essays/v01-10-(re)-humanizing-data/>“(Re)Humanizing Data: Digitally Navigating the Bellevue Almshouse”<a>**\\*** <br> Anelise Hanson Shrout |  |\n",
    "|  | [Lists & Loops](https://melaniewalsh.github.io/Intro-Cultural-Analytics/Python/Lists-Loops.html) | Th 2/6 |  | [“Data Biographies,”](https://gijn.org/2017/03/27/data-biographies-getting-to-know-your-data/) <br>Heather Krause | HW 3 ([Part I](https://melaniewalsh.github.io/Intro-Cultural-Analytics/Homework/HW-3-Conditionals-Comparisons.html) & [II](https://melaniewalsh.github.io/Intro-Cultural-Analytics/Homework/HW-3-Lists-Loops.html) Friday 5pm) |\n",
    "|  | [Lists & Loops Plus Modules](https://melaniewalsh.github.io/Intro-Cultural-Analytics/Python/More-Lists-Loops.html) | Tues 2/11 |  | \"Explore [*Slave Voyages*](https://www.slavevoyages.org/) // <br><a href=https://read.dukeupress.edu/social-text/article/36/4%20(137)/57/137032/Markup-BodiesBlack-Life-Studies-and-Slavery-Death>“Markup Bodies: Black [Life] Studies and Slavery [Death] Studies at the Digital Crossroads”</a>**\\*** <br>Jessica Marie Johnson |  |\n",
    "|  | [Pandas](https://melaniewalsh.github.io/Intro-Cultural-Analytics/Cultural-Data-Analysis/Pandas.html) | Th 2/13 | [Dictionaries](https://melaniewalsh.github.io/Intro-Cultural-Analytics/Python/Dictionaries.html) |  | [HW 4](https://melaniewalsh.github.io/Intro-Cultural-Analytics/Homework/HW-4-Pandas.html) (Due Tuesday 9am) |\n",
    "|  | [Functions](https://melaniewalsh.github.io/Intro-Cultural-Analytics/Python/Functions.html) & [Pandas (Exploratory Data Analysis)](https://melaniewalsh.github.io/Intro-Cultural-Analytics/Cultural-Data-Analysis/Pandas-EDA.html) | Tues 2/18 |  | [“Film Dialogue from 2,000 screenplays, Broken Down by Gender and Age”,](https://pudding.cool/2017/03/film-dialogue/) <br>Hannah Anderson and Matt Daniels |  |\n",
    "|  |  | Th 2/20 | [Pandas (Targeted Analysis)](https://melaniewalsh.github.io/Intro-Cultural-Analytics/Cultural-Data-Analysis/Pandas-Targeted.html) | [Film Dialogue FAQ](https://medium.com/@matthew_daniels/faq-for-the-film-dialogue-by-gender-project-40078209f751); Know data biography for The Pudding film dialogue data | [HW 5](https://melaniewalsh.github.io/Intro-Cultural-Analytics/Homework/HW-5-Functions-Pandas.html) (Due following Thursday 9am) |\n",
    "| *February Break* |  | Tues 2/25 |  | *February Break* |  |\n",
    "| Collecting Cultural Data | [Web Scraping](https://melaniewalsh.github.io/Intro-Cultural-Analytics/Collecting-Cultural-Data/Web-Scraping.html) | Th 2/27 |  | [“The Largest Vocabulary in Hip-Hop,”](https://pudding.cool/projects/vocabulary/index.html) <br>Matt Daniels |  |\n",
    "|  | [Web Scraping Plus Regular Expressions](https://melaniewalsh.github.io/Intro-Cultural-Analytics/Collecting-Cultural-Data/Web-Scraping-Plus-Regex.html) | Tues 3/3 |  | [“The Secretive Company That Might End Privacy as We Know It”](https://www.nytimes.com/2020/01/18/technology/clearview-privacy-facial-recognition.html)**\\*** <br>Kashmir Hill |  |\n",
    "|  | [APIs](https://melaniewalsh.github.io/Intro-Cultural-Analytics/Collecting-Cultural-Data/APIs.html) & [GitHub](https://melaniewalsh.github.io/Intro-Cultural-Analytics/Collecting-Cultural-Data/Git-Github.html) | Th 3/5 | [Install Git](https://git-scm.com/book/en/v2/Getting-Started-Installing-Git); [A Dead Simple Intro to GitHub for the Non-Technical](https://medium.com/crowdbotics/a-dead-simple-intro-to-github-for-the-non-technical-f9d56410a856) |  | [HW 6](https://melaniewalsh.github.io/Intro-Cultural-Analytics/Homework/HW-6-Twitter-Setup.html) (Due Tuesday 9am) |\n",
    "|  | [Twitter Data Collection](https://melaniewalsh.github.io/Intro-Cultural-Analytics/Collecting-Cultural-Data/Twitter-Data-Collection.html) | Tues 3/10 |  | “#GirlsLikeUs: Trans advocacy and community building online,”**\\*** <br>Sarah J Jackson, Moya Bailey, and Brooke Foucault Welles |  |\n",
    "|  | [Twitter Data Analysis](https://melaniewalsh.github.io/Intro-Cultural-Analytics/Collecting-Cultural-Data/Twitter-Data-Analysis.html) | Th 3/12 |  | [“How China Unleashed Twitter Trolls to Discredit Hong Kong’s Protesters,”](https://www.nytimes.com/interactive/2019/09/18/world/asia/hk-twitter.html) <br>Raymond Zhong, Steven Lee Myers and Jin Wu | [HW 7](https://melaniewalsh.github.io/Intro-Cultural-Analytics/Homework/HW-7-Twitter-Data.html) (Due Tuesday April 7 9am) |\n",
    "| No Class | | Tues 3/17 | |   |  |\n",
    "| No Class |  | Th 3/19 |  |   |  |\n",
    "| No Class |  | Tues 3/24 |  |  |  |\n",
    "| No Class |  | Th 3/26 |  |   |  |\n",
    "| *Spring Break* |  | Tues 3/31 |   | Recommended Reading: [“The Transformation of Gender in English-Language Fiction,”](https://culturalanalytics.org/article/11035) <br>Ted Underwood, David Bamman, and Sabrina Lee |  |\n",
    "| *Spring Break* |  | Th 4/2 |  |  |  |\n",
    "|  | Twitter Data Wrap-Up // The Path Forward | Tues 4/7 |  | Recommended Reading: <a href=\"https://cmci.colorado.edu/~cafi5706/ICWSM2020_datascraping.pdf\">No Robots, Spiders, or Scrapers: Legal and Ethical Regulation of Data Collection Methods in Social Media Terms of Service</a>, Casey Fiesler, Nathan Beard, Brian C. Keegan |  |\n",
    "| Text Analysis | [TF-IDF](https://melaniewalsh.github.io/Intro-Cultural-Analytics/Text-Analysis/TF-IDF.html) | Th 4/9 |  | | [HW 8](https://melaniewalsh.github.io/Intro-Cultural-Analytics/Homework/HW-8-TF-IDF.html)  (Due Friday) |\n",
    "|  | [Topic Modeling](https://melaniewalsh.github.io/Intro-Cultural-Analytics/Text-Analysis/Topic-Modeling-Overview.html) | Tues 4/14 |  | [“Narrative Paths and Negotiation of Power in Birth Stories,”](https://maria-antoniak.github.io/resources/2019_cscw_birth_stories.pdf)**\\*** <br>Maria Antoniak, David Mimno, and Karen Levy  |  |\n",
    "|  |  | Th 4/16 | |  | [HW 9](https://melaniewalsh.github.io/Intro-Cultural-Analytics/Homework/HW-9-Topic-Modeling.html) + Discussion Post (Due Friday) |\n",
    "|  | [Named Entity Recognition](https://melaniewalsh.github.io/Intro-Cultural-Analytics/Text-Analysis/Named-Entity-Recognition.html) | Tues 4/21 |  |  Excerpts, *Lost in the City* **\\***, <br> Edward P. Jones| |\n",
    "|  | [Part-of-Speech Tagging](https://melaniewalsh.github.io/Intro-Cultural-Analytics/Text-Analysis/POS-Keywords.html) | Th 4/23 |  |[\"Introduction,\"](https://iopn.library.illinois.edu/scalar/lost-in-the-city-a-exploration-of-edward-p-joness-short-fiction-/the-introduction-an-authors-note) [\"A Multimedia Literary Analysis,” (Sections 1-3)](https://iopn.library.illinois.edu/scalar/lost-in-the-city-a-exploration-of-edward-p-joness-short-fiction-/lost-in-the-city---section-2?path=chapter-3-lost-in-the-city) <br> *Lost in the City: An Exploration of Edward P. Jones's Short Fiction* <br>Kenton Rambsy and Peace Ossom-Williamson  | [HW 10](https://melaniewalsh.github.io/Intro-Cultural-Analytics/Homework/HW-10-NER.html) + Discussion Post (Due Friday) |\n",
    "| Network Analysis |  | Tues 4/28 | [Scott Weingart, \"Demystifying Networks\"](http://journalofdigitalhumanities.org/1-1/demystifying-networks-by-scott-weingart/) |  [“Network of Thrones,”](https://www.maa.org/sites/default/files/pdf/Mathhorizons/NetworkofThrones%20%281%29.pdf) <br>Andrew Beveridge and Jie Shan // <br>[\"\"Mathematicians mapped out every Game of Thrones relationship to find the main character,”](https://qz.com/650796/mathematicians-mapped-out-every-game-of-thrones-relationship-to-find-the-main-character/) <br>Adam Epstein \" |  |\n",
    "| Mapping |  | Th 4/30 |  |  [Torn Apart / Separados](http://xpmethod.plaintext.in/torn-apart/volume/2/index) <br>Manan Ahmed et al // <br>['ICE Is Everywhere': Using Library Science to Map the Separation Crisis,](https://www.wired.com/story/ice-is-everywhere-using-library-science-to-map-child-separation/) <br>Emily Dreyfuss // [“How an internet mapping glitch turned a random Kansas farm into a digital hell”](https://splinternews.com/how-an-internet-mapping-glitch-turned-a-random-kansas-f-1793856052) <br>Kashmir Hill | Discussion Post (Due Friday)  |\n",
    "| Final Project |  | Tues 5/5 |  |  |  |\n",
    "| Final Project  |  | Thu 5/7 |  |  |  |\n",
    "|  Final Project | Conclusions | Tues 5/12 |  |  | |\n",
    "|  |  | Monday 5/18 |  |  | [Final Project Due](https://melaniewalsh.github.io/Intro-Cultural-Analytics/Final-Project/Final-Project.html) |\n"
   ]
  },
  {
   "cell_type": "markdown",
   "metadata": {},
   "source": [
    "## Notable Events Calendar"
   ]
  },
  {
   "cell_type": "markdown",
   "metadata": {},
   "source": [
    "Find our [Notable Events calendar here](https://melaniewalsh.github.io/Intro-Cultural-Analytics/notable-events.html)"
   ]
  }
 ],
 "metadata": {
  "kernelspec": {
   "display_name": "Python 3",
   "language": "python",
   "name": "python3"
  },
  "language_info": {
   "codemirror_mode": {
    "name": "ipython",
    "version": 3
   },
   "file_extension": ".py",
   "mimetype": "text/x-python",
   "name": "python",
   "nbconvert_exporter": "python",
   "pygments_lexer": "ipython3",
   "version": "3.7.6"
  }
 },
 "nbformat": 4,
 "nbformat_minor": 4
}
