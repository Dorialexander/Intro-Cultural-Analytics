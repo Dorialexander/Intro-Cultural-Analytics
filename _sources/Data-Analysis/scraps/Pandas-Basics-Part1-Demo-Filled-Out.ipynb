{
 "cells": [
  {
   "cell_type": "markdown",
   "metadata": {},
   "source": [
    "# Pandas Basics — Part 1 — Teaching Demonstration"
   ]
  },
  {
   "cell_type": "markdown",
   "metadata": {},
   "source": [
    "In today's class, we're going to introduce some of the basics of [Pandas](https://pandas.pydata.org/pandas-docs/stable/getting_started/overview.html), a powerful Python library for working with tabular data like CSV files.\n",
    "\n",
    "We will cover how to:\n",
    "\n",
    "* Import Pandas\n",
    "* Read in a CSV file\n",
    "* Calculate summary statistics and frequencies\n",
    "* Explore and filter data\n",
    "* Make simple plots and data visualizations\n",
    "\n",
    "___\n",
    "\n",
    "## Dataset\n",
    "### The Bellevue Almshouse Dataset\n",
    "\n",
    "> Nineteenth-century immigration data was produced with the express purpose of reducing people to bodies; bodies to easily quantifiable aspects; and assigning value to those aspects which proved that the marginalized people to who they belonged were worth less than their elite counterparts.\n",
    "\n",
    "> — Anelise Shrout, [\"(Re)Humanizing Data\"](https://crdh.rrchnm.org/essays/v01-10-(re)-humanizing-data/)\n",
    "\n",
    "\n",
    "The dataset that we're working with in this lesson is the [Bellevue Almshouse Dataset](https://www.nyuirish.net/almshouse/the-almshouse-records/), created by historian and DH scholar Anelise Shrout. It includes information about Irish-born immigrants who were admitted to New York City's Bellevue Almshouse in the 1840s.\n",
    "\n",
    "The Bellevue Almshouse was part of New York City's public health system, a place where poor, sick, homeless, and otherwise marginalized people were sent — sometimes voluntarily and sometimes forcibly. Devastated by widespread famine in Ireland, many Irish people fled their homes for New York City in the 1840s, and many of them ended up in the Bellevue Almshouse.\n",
    "\n",
    "We're using the [Bellevue Almshouse Dataset](https://www.nyuirish.net/almshouse/the-almshouse-records/) to practice data analysis with Pandas because we want to think deeply about the consequences of reducing human life to data. As Shrout argues in [her essay](https://crdh.rrchnm.org/essays/v01-10-(re)-humanizing-data/), this data purposely reduced people to bodies and \"easily quantifiable aspects\" in order to devalue their lives, potentially enacting \"both epistemic and physical violence\" on them.\n",
    "\n",
    "___\n",
    "\n",
    "## Import Pandas\n",
    "\n",
    "\n",
    "> If you installed Python with Anaconda, you should already have Pandas installed. If you did not install Python with Anaconda, see [Pandas Installation](https://pandas.pydata.org/pandas-docs/stable/getting_started/install.html).\n",
    "\n",
    "\n",
    "To use the Pandas library, we first need to `import` it."
   ]
  },
  {
   "cell_type": "code",
   "execution_count": 4,
   "metadata": {},
   "outputs": [],
   "source": [
    "import pandas as pd"
   ]
  },
  {
   "cell_type": "markdown",
   "metadata": {},
   "source": [
    "The above `import` statement not only imports the Pandas library but also gives it an alias or nickname — `pd`. This alias will save us from having to type out the entire words `pandas` each time we need to use it. Many Python libraries have commonly used aliases like `pd`."
   ]
  },
  {
   "cell_type": "markdown",
   "metadata": {},
   "source": [
    "By default, Pandas will display 60 rows and 20 columns. I often change [Pandas' default display settings](https://pandas.pydata.org/pandas-docs/stable/user_guide/options.html) to show more rows or columns."
   ]
  },
  {
   "cell_type": "code",
   "execution_count": 5,
   "metadata": {},
   "outputs": [],
   "source": [
    "pd.options.display.max_rows = 200"
   ]
  },
  {
   "cell_type": "markdown",
   "metadata": {},
   "source": [
    "## Read in CSV File"
   ]
  },
  {
   "cell_type": "markdown",
   "metadata": {},
   "source": [
    "To read in a CSV file, we will use the method `pd.read_csv()` and insert the name of our desired file path. "
   ]
  },
  {
   "cell_type": "code",
   "execution_count": 6,
   "metadata": {},
   "outputs": [
    {
     "data": {
      "text/html": [
       "<div>\n",
       "<style scoped>\n",
       "    .dataframe tbody tr th:only-of-type {\n",
       "        vertical-align: middle;\n",
       "    }\n",
       "\n",
       "    .dataframe tbody tr th {\n",
       "        vertical-align: top;\n",
       "    }\n",
       "\n",
       "    .dataframe thead th {\n",
       "        text-align: right;\n",
       "    }\n",
       "</style>\n",
       "<table border=\"1\" class=\"dataframe\">\n",
       "  <thead>\n",
       "    <tr style=\"text-align: right;\">\n",
       "      <th></th>\n",
       "      <th>date_in</th>\n",
       "      <th>first_name</th>\n",
       "      <th>last_name</th>\n",
       "      <th>full_name</th>\n",
       "      <th>age</th>\n",
       "      <th>gender</th>\n",
       "      <th>disease</th>\n",
       "      <th>profession</th>\n",
       "      <th>children</th>\n",
       "      <th>sent_to</th>\n",
       "      <th>sender1</th>\n",
       "      <th>sender2</th>\n",
       "    </tr>\n",
       "  </thead>\n",
       "  <tbody>\n",
       "    <tr>\n",
       "      <th>0</th>\n",
       "      <td>1847-04-17</td>\n",
       "      <td>Mary</td>\n",
       "      <td>Gallagher</td>\n",
       "      <td>Mary Gallagher</td>\n",
       "      <td>28.0</td>\n",
       "      <td>f</td>\n",
       "      <td>recent emigrant</td>\n",
       "      <td>married</td>\n",
       "      <td>Child Alana 10 days</td>\n",
       "      <td>Hospital</td>\n",
       "      <td>superintendent</td>\n",
       "      <td>hd. gibbens</td>\n",
       "    </tr>\n",
       "    <tr>\n",
       "      <th>1</th>\n",
       "      <td>1847-04-08</td>\n",
       "      <td>John</td>\n",
       "      <td>Sanin (?)</td>\n",
       "      <td>John Sanin (?)</td>\n",
       "      <td>19.0</td>\n",
       "      <td>m</td>\n",
       "      <td>recent emigrant</td>\n",
       "      <td>laborer</td>\n",
       "      <td>Catherine 2 mo</td>\n",
       "      <td>NaN</td>\n",
       "      <td>george w. anderson</td>\n",
       "      <td>edward witherell</td>\n",
       "    </tr>\n",
       "    <tr>\n",
       "      <th>2</th>\n",
       "      <td>1847-04-17</td>\n",
       "      <td>Anthony</td>\n",
       "      <td>Clark</td>\n",
       "      <td>Anthony Clark</td>\n",
       "      <td>60.0</td>\n",
       "      <td>m</td>\n",
       "      <td>recent emigrant</td>\n",
       "      <td>laborer</td>\n",
       "      <td>Charles Riley afed 10 days</td>\n",
       "      <td>Hospital</td>\n",
       "      <td>george w. anderson</td>\n",
       "      <td>edward witherell</td>\n",
       "    </tr>\n",
       "    <tr>\n",
       "      <th>3</th>\n",
       "      <td>1847-04-08</td>\n",
       "      <td>Lawrence</td>\n",
       "      <td>Feeney</td>\n",
       "      <td>Lawrence Feeney</td>\n",
       "      <td>32.0</td>\n",
       "      <td>m</td>\n",
       "      <td>recent emigrant</td>\n",
       "      <td>laborer</td>\n",
       "      <td>Child</td>\n",
       "      <td>NaN</td>\n",
       "      <td>george w. anderson</td>\n",
       "      <td>james donnelly</td>\n",
       "    </tr>\n",
       "    <tr>\n",
       "      <th>4</th>\n",
       "      <td>1847-04-13</td>\n",
       "      <td>Henry</td>\n",
       "      <td>Joyce</td>\n",
       "      <td>Henry Joyce</td>\n",
       "      <td>21.0</td>\n",
       "      <td>m</td>\n",
       "      <td>recent emigrant</td>\n",
       "      <td>NaN</td>\n",
       "      <td>Child 1 mo</td>\n",
       "      <td>NaN</td>\n",
       "      <td>george w. anderson</td>\n",
       "      <td>edward witherell</td>\n",
       "    </tr>\n",
       "    <tr>\n",
       "      <th>...</th>\n",
       "      <td>...</td>\n",
       "      <td>...</td>\n",
       "      <td>...</td>\n",
       "      <td>...</td>\n",
       "      <td>...</td>\n",
       "      <td>...</td>\n",
       "      <td>...</td>\n",
       "      <td>...</td>\n",
       "      <td>...</td>\n",
       "      <td>...</td>\n",
       "      <td>...</td>\n",
       "      <td>...</td>\n",
       "    </tr>\n",
       "    <tr>\n",
       "      <th>9593</th>\n",
       "      <td>1846-05-23</td>\n",
       "      <td>Joseph</td>\n",
       "      <td>Aton</td>\n",
       "      <td>Joseph Aton</td>\n",
       "      <td>69.0</td>\n",
       "      <td>m</td>\n",
       "      <td>NaN</td>\n",
       "      <td>shoemaker</td>\n",
       "      <td>NaN</td>\n",
       "      <td>NaN</td>\n",
       "      <td>[blank]</td>\n",
       "      <td>NaN</td>\n",
       "    </tr>\n",
       "    <tr>\n",
       "      <th>9594</th>\n",
       "      <td>1847-06-17</td>\n",
       "      <td>Mary</td>\n",
       "      <td>Smith</td>\n",
       "      <td>Mary Smith</td>\n",
       "      <td>47.0</td>\n",
       "      <td>f</td>\n",
       "      <td>NaN</td>\n",
       "      <td>NaN</td>\n",
       "      <td>NaN</td>\n",
       "      <td>Hospital Ward 38</td>\n",
       "      <td>[blank]</td>\n",
       "      <td>NaN</td>\n",
       "    </tr>\n",
       "    <tr>\n",
       "      <th>9595</th>\n",
       "      <td>1847-06-22</td>\n",
       "      <td>Francis</td>\n",
       "      <td>Riley</td>\n",
       "      <td>Francis Riley</td>\n",
       "      <td>29.0</td>\n",
       "      <td>m</td>\n",
       "      <td>lame</td>\n",
       "      <td>superintendent</td>\n",
       "      <td>NaN</td>\n",
       "      <td>NaN</td>\n",
       "      <td>[blank]</td>\n",
       "      <td>NaN</td>\n",
       "    </tr>\n",
       "    <tr>\n",
       "      <th>9596</th>\n",
       "      <td>1847-07-02</td>\n",
       "      <td>Martin</td>\n",
       "      <td>Dunn</td>\n",
       "      <td>Martin Dunn</td>\n",
       "      <td>4.0</td>\n",
       "      <td>m</td>\n",
       "      <td>NaN</td>\n",
       "      <td>NaN</td>\n",
       "      <td>NaN</td>\n",
       "      <td>NaN</td>\n",
       "      <td>[blank]</td>\n",
       "      <td>NaN</td>\n",
       "    </tr>\n",
       "    <tr>\n",
       "      <th>9597</th>\n",
       "      <td>1847-07-08</td>\n",
       "      <td>Elizabeth</td>\n",
       "      <td>Post</td>\n",
       "      <td>Elizabeth Post</td>\n",
       "      <td>32.0</td>\n",
       "      <td>f</td>\n",
       "      <td>NaN</td>\n",
       "      <td>NaN</td>\n",
       "      <td>NaN</td>\n",
       "      <td>Hospital</td>\n",
       "      <td>[blank]</td>\n",
       "      <td>NaN</td>\n",
       "    </tr>\n",
       "  </tbody>\n",
       "</table>\n",
       "<p>9598 rows × 12 columns</p>\n",
       "</div>"
      ],
      "text/plain": [
       "         date_in first_name  last_name        full_name   age gender  \\\n",
       "0     1847-04-17       Mary  Gallagher   Mary Gallagher  28.0      f   \n",
       "1     1847-04-08       John  Sanin (?)   John Sanin (?)  19.0      m   \n",
       "2     1847-04-17    Anthony      Clark    Anthony Clark  60.0      m   \n",
       "3     1847-04-08   Lawrence     Feeney  Lawrence Feeney  32.0      m   \n",
       "4     1847-04-13      Henry      Joyce      Henry Joyce  21.0      m   \n",
       "...          ...        ...        ...              ...   ...    ...   \n",
       "9593  1846-05-23     Joseph       Aton      Joseph Aton  69.0      m   \n",
       "9594  1847-06-17       Mary      Smith       Mary Smith  47.0      f   \n",
       "9595  1847-06-22    Francis      Riley    Francis Riley  29.0      m   \n",
       "9596  1847-07-02     Martin       Dunn      Martin Dunn   4.0      m   \n",
       "9597  1847-07-08  Elizabeth       Post   Elizabeth Post  32.0      f   \n",
       "\n",
       "              disease      profession                    children  \\\n",
       "0     recent emigrant         married         Child Alana 10 days   \n",
       "1     recent emigrant         laborer              Catherine 2 mo   \n",
       "2     recent emigrant         laborer  Charles Riley afed 10 days   \n",
       "3     recent emigrant         laborer                       Child   \n",
       "4     recent emigrant             NaN                  Child 1 mo   \n",
       "...               ...             ...                         ...   \n",
       "9593              NaN       shoemaker                         NaN   \n",
       "9594              NaN             NaN                         NaN   \n",
       "9595             lame  superintendent                         NaN   \n",
       "9596              NaN             NaN                         NaN   \n",
       "9597              NaN             NaN                         NaN   \n",
       "\n",
       "               sent_to             sender1           sender2  \n",
       "0             Hospital      superintendent       hd. gibbens  \n",
       "1                  NaN  george w. anderson  edward witherell  \n",
       "2             Hospital  george w. anderson  edward witherell  \n",
       "3                  NaN  george w. anderson    james donnelly  \n",
       "4                  NaN  george w. anderson  edward witherell  \n",
       "...                ...                 ...               ...  \n",
       "9593               NaN             [blank]               NaN  \n",
       "9594  Hospital Ward 38             [blank]               NaN  \n",
       "9595               NaN             [blank]               NaN  \n",
       "9596               NaN             [blank]               NaN  \n",
       "9597          Hospital             [blank]               NaN  \n",
       "\n",
       "[9598 rows x 12 columns]"
      ]
     },
     "execution_count": 6,
     "metadata": {},
     "output_type": "execute_result"
    }
   ],
   "source": [
    "pd.read_csv('Bellevue_Almshouse_Dataset.csv', delimiter=',', encoding='utf-8')"
   ]
  },
  {
   "cell_type": "markdown",
   "metadata": {},
   "source": [
    "This creates a Pandas [DataFrame object](https://pandas.pydata.org/pandas-docs/stable/user_guide/dsintro.html#dataframe), one of the two main data structures in Pandas. A DataFrame looks and acts a lot like a spreadsheet, but it has special powers and functions that we will discuss below and in the next few lessons.\n",
    "\n",
    "| Pandas objects | Explanation                         |\n",
    "|----------|-------------------------------------|\n",
    "| `DataFrame`    | Like a spreadsheet, 2-dimensional    |\n",
    "| `Series`      | Like a column, 1-dimensional                     |\n",
    "\n",
    "When reading in the CSV file, we also specified a `delimiter` and `encoding`. The `delimiter` specifies the character that separates or \"delimits\" the columns in our dataset. For CSV files, the delimiter will most often be a comma. (CSV is short for *Comma Separated Values*.) Sometimes, however, the delimiter of a CSV file might be a tab (`\\t`) or, more rarely, another character.\n",
    "\n",
    "We assign the DataFrame to a variable called `bellevue_df`. It is common convention to name DataFrame variables `df`, but we want to be a bit more specific. "
   ]
  },
  {
   "cell_type": "code",
   "execution_count": 7,
   "metadata": {},
   "outputs": [],
   "source": [
    "bellevue_df = pd.read_csv('Bellevue_Almshouse_Dataset.csv', delimiter=',', encoding='utf-8')"
   ]
  },
  {
   "cell_type": "markdown",
   "metadata": {},
   "source": [
    "## Begin to Examine Data\n",
    "\n",
    "We can display a DataFrame in a Jupyter notebook simply by running a cell with the variable name of the DataFrame."
   ]
  },
  {
   "cell_type": "code",
   "execution_count": 8,
   "metadata": {},
   "outputs": [
    {
     "data": {
      "text/html": [
       "<div>\n",
       "<style scoped>\n",
       "    .dataframe tbody tr th:only-of-type {\n",
       "        vertical-align: middle;\n",
       "    }\n",
       "\n",
       "    .dataframe tbody tr th {\n",
       "        vertical-align: top;\n",
       "    }\n",
       "\n",
       "    .dataframe thead th {\n",
       "        text-align: right;\n",
       "    }\n",
       "</style>\n",
       "<table border=\"1\" class=\"dataframe\">\n",
       "  <thead>\n",
       "    <tr style=\"text-align: right;\">\n",
       "      <th></th>\n",
       "      <th>date_in</th>\n",
       "      <th>first_name</th>\n",
       "      <th>last_name</th>\n",
       "      <th>full_name</th>\n",
       "      <th>age</th>\n",
       "      <th>gender</th>\n",
       "      <th>disease</th>\n",
       "      <th>profession</th>\n",
       "      <th>children</th>\n",
       "      <th>sent_to</th>\n",
       "      <th>sender1</th>\n",
       "      <th>sender2</th>\n",
       "    </tr>\n",
       "  </thead>\n",
       "  <tbody>\n",
       "    <tr>\n",
       "      <th>0</th>\n",
       "      <td>1847-04-17</td>\n",
       "      <td>Mary</td>\n",
       "      <td>Gallagher</td>\n",
       "      <td>Mary Gallagher</td>\n",
       "      <td>28.0</td>\n",
       "      <td>f</td>\n",
       "      <td>recent emigrant</td>\n",
       "      <td>married</td>\n",
       "      <td>Child Alana 10 days</td>\n",
       "      <td>Hospital</td>\n",
       "      <td>superintendent</td>\n",
       "      <td>hd. gibbens</td>\n",
       "    </tr>\n",
       "    <tr>\n",
       "      <th>1</th>\n",
       "      <td>1847-04-08</td>\n",
       "      <td>John</td>\n",
       "      <td>Sanin (?)</td>\n",
       "      <td>John Sanin (?)</td>\n",
       "      <td>19.0</td>\n",
       "      <td>m</td>\n",
       "      <td>recent emigrant</td>\n",
       "      <td>laborer</td>\n",
       "      <td>Catherine 2 mo</td>\n",
       "      <td>NaN</td>\n",
       "      <td>george w. anderson</td>\n",
       "      <td>edward witherell</td>\n",
       "    </tr>\n",
       "    <tr>\n",
       "      <th>2</th>\n",
       "      <td>1847-04-17</td>\n",
       "      <td>Anthony</td>\n",
       "      <td>Clark</td>\n",
       "      <td>Anthony Clark</td>\n",
       "      <td>60.0</td>\n",
       "      <td>m</td>\n",
       "      <td>recent emigrant</td>\n",
       "      <td>laborer</td>\n",
       "      <td>Charles Riley afed 10 days</td>\n",
       "      <td>Hospital</td>\n",
       "      <td>george w. anderson</td>\n",
       "      <td>edward witherell</td>\n",
       "    </tr>\n",
       "    <tr>\n",
       "      <th>3</th>\n",
       "      <td>1847-04-08</td>\n",
       "      <td>Lawrence</td>\n",
       "      <td>Feeney</td>\n",
       "      <td>Lawrence Feeney</td>\n",
       "      <td>32.0</td>\n",
       "      <td>m</td>\n",
       "      <td>recent emigrant</td>\n",
       "      <td>laborer</td>\n",
       "      <td>Child</td>\n",
       "      <td>NaN</td>\n",
       "      <td>george w. anderson</td>\n",
       "      <td>james donnelly</td>\n",
       "    </tr>\n",
       "    <tr>\n",
       "      <th>4</th>\n",
       "      <td>1847-04-13</td>\n",
       "      <td>Henry</td>\n",
       "      <td>Joyce</td>\n",
       "      <td>Henry Joyce</td>\n",
       "      <td>21.0</td>\n",
       "      <td>m</td>\n",
       "      <td>recent emigrant</td>\n",
       "      <td>NaN</td>\n",
       "      <td>Child 1 mo</td>\n",
       "      <td>NaN</td>\n",
       "      <td>george w. anderson</td>\n",
       "      <td>edward witherell</td>\n",
       "    </tr>\n",
       "    <tr>\n",
       "      <th>...</th>\n",
       "      <td>...</td>\n",
       "      <td>...</td>\n",
       "      <td>...</td>\n",
       "      <td>...</td>\n",
       "      <td>...</td>\n",
       "      <td>...</td>\n",
       "      <td>...</td>\n",
       "      <td>...</td>\n",
       "      <td>...</td>\n",
       "      <td>...</td>\n",
       "      <td>...</td>\n",
       "      <td>...</td>\n",
       "    </tr>\n",
       "    <tr>\n",
       "      <th>9593</th>\n",
       "      <td>1846-05-23</td>\n",
       "      <td>Joseph</td>\n",
       "      <td>Aton</td>\n",
       "      <td>Joseph Aton</td>\n",
       "      <td>69.0</td>\n",
       "      <td>m</td>\n",
       "      <td>NaN</td>\n",
       "      <td>shoemaker</td>\n",
       "      <td>NaN</td>\n",
       "      <td>NaN</td>\n",
       "      <td>[blank]</td>\n",
       "      <td>NaN</td>\n",
       "    </tr>\n",
       "    <tr>\n",
       "      <th>9594</th>\n",
       "      <td>1847-06-17</td>\n",
       "      <td>Mary</td>\n",
       "      <td>Smith</td>\n",
       "      <td>Mary Smith</td>\n",
       "      <td>47.0</td>\n",
       "      <td>f</td>\n",
       "      <td>NaN</td>\n",
       "      <td>NaN</td>\n",
       "      <td>NaN</td>\n",
       "      <td>Hospital Ward 38</td>\n",
       "      <td>[blank]</td>\n",
       "      <td>NaN</td>\n",
       "    </tr>\n",
       "    <tr>\n",
       "      <th>9595</th>\n",
       "      <td>1847-06-22</td>\n",
       "      <td>Francis</td>\n",
       "      <td>Riley</td>\n",
       "      <td>Francis Riley</td>\n",
       "      <td>29.0</td>\n",
       "      <td>m</td>\n",
       "      <td>lame</td>\n",
       "      <td>superintendent</td>\n",
       "      <td>NaN</td>\n",
       "      <td>NaN</td>\n",
       "      <td>[blank]</td>\n",
       "      <td>NaN</td>\n",
       "    </tr>\n",
       "    <tr>\n",
       "      <th>9596</th>\n",
       "      <td>1847-07-02</td>\n",
       "      <td>Martin</td>\n",
       "      <td>Dunn</td>\n",
       "      <td>Martin Dunn</td>\n",
       "      <td>4.0</td>\n",
       "      <td>m</td>\n",
       "      <td>NaN</td>\n",
       "      <td>NaN</td>\n",
       "      <td>NaN</td>\n",
       "      <td>NaN</td>\n",
       "      <td>[blank]</td>\n",
       "      <td>NaN</td>\n",
       "    </tr>\n",
       "    <tr>\n",
       "      <th>9597</th>\n",
       "      <td>1847-07-08</td>\n",
       "      <td>Elizabeth</td>\n",
       "      <td>Post</td>\n",
       "      <td>Elizabeth Post</td>\n",
       "      <td>32.0</td>\n",
       "      <td>f</td>\n",
       "      <td>NaN</td>\n",
       "      <td>NaN</td>\n",
       "      <td>NaN</td>\n",
       "      <td>Hospital</td>\n",
       "      <td>[blank]</td>\n",
       "      <td>NaN</td>\n",
       "    </tr>\n",
       "  </tbody>\n",
       "</table>\n",
       "<p>9598 rows × 12 columns</p>\n",
       "</div>"
      ],
      "text/plain": [
       "         date_in first_name  last_name        full_name   age gender  \\\n",
       "0     1847-04-17       Mary  Gallagher   Mary Gallagher  28.0      f   \n",
       "1     1847-04-08       John  Sanin (?)   John Sanin (?)  19.0      m   \n",
       "2     1847-04-17    Anthony      Clark    Anthony Clark  60.0      m   \n",
       "3     1847-04-08   Lawrence     Feeney  Lawrence Feeney  32.0      m   \n",
       "4     1847-04-13      Henry      Joyce      Henry Joyce  21.0      m   \n",
       "...          ...        ...        ...              ...   ...    ...   \n",
       "9593  1846-05-23     Joseph       Aton      Joseph Aton  69.0      m   \n",
       "9594  1847-06-17       Mary      Smith       Mary Smith  47.0      f   \n",
       "9595  1847-06-22    Francis      Riley    Francis Riley  29.0      m   \n",
       "9596  1847-07-02     Martin       Dunn      Martin Dunn   4.0      m   \n",
       "9597  1847-07-08  Elizabeth       Post   Elizabeth Post  32.0      f   \n",
       "\n",
       "              disease      profession                    children  \\\n",
       "0     recent emigrant         married         Child Alana 10 days   \n",
       "1     recent emigrant         laborer              Catherine 2 mo   \n",
       "2     recent emigrant         laborer  Charles Riley afed 10 days   \n",
       "3     recent emigrant         laborer                       Child   \n",
       "4     recent emigrant             NaN                  Child 1 mo   \n",
       "...               ...             ...                         ...   \n",
       "9593              NaN       shoemaker                         NaN   \n",
       "9594              NaN             NaN                         NaN   \n",
       "9595             lame  superintendent                         NaN   \n",
       "9596              NaN             NaN                         NaN   \n",
       "9597              NaN             NaN                         NaN   \n",
       "\n",
       "               sent_to             sender1           sender2  \n",
       "0             Hospital      superintendent       hd. gibbens  \n",
       "1                  NaN  george w. anderson  edward witherell  \n",
       "2             Hospital  george w. anderson  edward witherell  \n",
       "3                  NaN  george w. anderson    james donnelly  \n",
       "4                  NaN  george w. anderson  edward witherell  \n",
       "...                ...                 ...               ...  \n",
       "9593               NaN             [blank]               NaN  \n",
       "9594  Hospital Ward 38             [blank]               NaN  \n",
       "9595               NaN             [blank]               NaN  \n",
       "9596               NaN             [blank]               NaN  \n",
       "9597          Hospital             [blank]               NaN  \n",
       "\n",
       "[9598 rows x 12 columns]"
      ]
     },
     "execution_count": 8,
     "metadata": {},
     "output_type": "execute_result"
    }
   ],
   "source": [
    "bellevue_df"
   ]
  },
  {
   "cell_type": "markdown",
   "metadata": {},
   "source": [
    "### ❓🧐  What do you notice about the data already?"
   ]
  },
  {
   "cell_type": "markdown",
   "metadata": {},
   "source": [
    "*Jot down some observations (double-click to type)*"
   ]
  },
  {
   "cell_type": "markdown",
   "metadata": {},
   "source": [
    "## Begin to Examine Patterns"
   ]
  },
  {
   "cell_type": "markdown",
   "metadata": {},
   "source": [
    "### Select Columns"
   ]
  },
  {
   "cell_type": "markdown",
   "metadata": {},
   "source": [
    "To select a column from the DataFrame, we will type the name of the DataFrame followed by square brackets and a column name in quotations marks."
   ]
  },
  {
   "cell_type": "code",
   "execution_count": 9,
   "metadata": {},
   "outputs": [
    {
     "data": {
      "text/plain": [
       "0       28.0\n",
       "1       19.0\n",
       "2       60.0\n",
       "3       32.0\n",
       "4       21.0\n",
       "        ... \n",
       "9593    69.0\n",
       "9594    47.0\n",
       "9595    29.0\n",
       "9596     4.0\n",
       "9597    32.0\n",
       "Name: age, Length: 9598, dtype: float64"
      ]
     },
     "execution_count": 9,
     "metadata": {},
     "output_type": "execute_result"
    }
   ],
   "source": [
    "bellevue_df['age']"
   ]
  },
  {
   "cell_type": "markdown",
   "metadata": {},
   "source": [
    "Technically, a single column in a DataFrame is a [*Series* object](https://pandas.pydata.org/pandas-docs/stable/user_guide/dsintro.html#dsintro)."
   ]
  },
  {
   "cell_type": "code",
   "execution_count": 10,
   "metadata": {},
   "outputs": [
    {
     "data": {
      "text/plain": [
       "pandas.core.series.Series"
      ]
     },
     "execution_count": 10,
     "metadata": {},
     "output_type": "execute_result"
    }
   ],
   "source": [
    "type(bellevue_df['age'])"
   ]
  },
  {
   "cell_type": "markdown",
   "metadata": {},
   "source": [
    "| Pandas method | Explanation                         |\n",
    "|----------|-------------------------------------|\n",
    "| `.sum()`      | Sum of values                       |\n",
    "| `.mean()`     | Mean of values                      |\n",
    "| `.median()`   | Median of values         |\n",
    "| `.min()`      | Minimum                             |\n",
    "| `.max()`      | Maximum                             |\n",
    "| `.mode()`     | Mode                                |\n",
    "| `.std()`      | Unbiased standard deviation         |\n",
    "| `.count()`    | Total number of non-blank values    |\n",
    "| `.value_counts()` | Frequency of unique values |"
   ]
  },
  {
   "cell_type": "markdown",
   "metadata": {},
   "source": [
    "### ❓🧐  How old are people on average?"
   ]
  },
  {
   "cell_type": "code",
   "execution_count": 11,
   "metadata": {},
   "outputs": [
    {
     "data": {
      "text/plain": [
       "30.337039170506916"
      ]
     },
     "execution_count": 11,
     "metadata": {},
     "output_type": "execute_result"
    }
   ],
   "source": [
    "bellevue_df['age'].mean()"
   ]
  },
  {
   "cell_type": "markdown",
   "metadata": {},
   "source": [
    "### ❓🧐  How old is the oldest person?"
   ]
  },
  {
   "cell_type": "code",
   "execution_count": null,
   "metadata": {},
   "outputs": [],
   "source": [
    "bellevue_df['age'].max()"
   ]
  },
  {
   "cell_type": "markdown",
   "metadata": {},
   "source": [
    "### ❓🧐  How young is the youngest person?"
   ]
  },
  {
   "cell_type": "code",
   "execution_count": null,
   "metadata": {},
   "outputs": [],
   "source": [
    "bellevue_df['age'].min()"
   ]
  },
  {
   "cell_type": "markdown",
   "metadata": {},
   "source": [
    "We can also plot the distribution of ages with a histogram by running `hist()`."
   ]
  },
  {
   "cell_type": "code",
   "execution_count": 18,
   "metadata": {},
   "outputs": [
    {
     "data": {
      "text/plain": [
       "<matplotlib.axes._subplots.AxesSubplot at 0x7fb6071cb5d0>"
      ]
     },
     "execution_count": 18,
     "metadata": {},
     "output_type": "execute_result"
    },
    {
     "data": {
      "image/png": "[encoded data removed]",
      "text/plain": [
       "<Figure size 432x288 with 1 Axes>"
      ]
     },
     "metadata": {
      "needs_background": "light"
     },
     "output_type": "display_data"
    }
   ],
   "source": [
    "bellevue_df['age'].hist()"
   ]
  },
  {
   "cell_type": "markdown",
   "metadata": {},
   "source": [
    "### ❓🧐  What are the most common professions?"
   ]
  },
  {
   "cell_type": "markdown",
   "metadata": {},
   "source": [
    "To count the values in a column, we can use the `.value_counts()` method."
   ]
  },
  {
   "cell_type": "code",
   "execution_count": 12,
   "metadata": {},
   "outputs": [
    {
     "data": {
      "text/plain": [
       "laborer                        3116\n",
       "married                        1586\n",
       "spinster                       1522\n",
       "widow                          1055\n",
       "shoemaker                       158\n",
       "tailor                          116\n",
       "blacksmith                      104\n",
       "mason                            99\n",
       "weaver                           66\n",
       "carpenter                        65\n",
       "baker                            48\n",
       "waiter                           41\n",
       "clerk                            28\n",
       "stone cutter                     27\n",
       "painter                          26\n",
       "gardener                         25\n",
       "cooper                           24\n",
       "farmer                           21\n",
       "peddler                          20\n",
       "cartman                          15\n",
       "wheelwright                      14\n",
       "hatter                           12\n",
       "hostler                          12\n",
       "butcher                          11\n",
       "printer                          11\n",
       "tinsmith                         10\n",
       "boot maker                       10\n",
       "teacher                          10\n",
       "coachman                         10\n",
       "sailor                           10\n",
       "harness maker                     9\n",
       "boiler maker                      9\n",
       "servant                           9\n",
       "cabinet maker                     8\n",
       "boatman                           8\n",
       "nailer                            8\n",
       "porter                            6\n",
       "plasterer                         6\n",
       "nail maker                        6\n",
       "umbrella maker                    6\n",
       "(illegible)                       6\n",
       "grocer                            5\n",
       "machinist                         5\n",
       "marble polisher                   5\n",
       "seaman                            5\n",
       "soldier                           5\n",
       "dyer                              4\n",
       "hackman                           4\n",
       "tinman                            4\n",
       "barkeeper                         4\n",
       "turner                            4\n",
       "book maker                        4\n",
       "ship carpenter                    4\n",
       "brick layer                       4\n",
       "brewer                            3\n",
       "miner                             3\n",
       "brass founder                     3\n",
       "seamstress                        3\n",
       "merchant                          3\n",
       "pavier                            3\n",
       "varnisher                         3\n",
       "starch maker                      3\n",
       "paper stainer                     3\n",
       "locksmith                         3\n",
       "courier                           3\n",
       "saddler                           3\n",
       "store keeper                      3\n",
       "stove maker                       2\n",
       "carver                            2\n",
       "rigger                            2\n",
       "copper smith                      2\n",
       "tanner                            2\n",
       "stevedore                         2\n",
       "sawyer                            2\n",
       "barker                            2\n",
       "calico printer                    2\n",
       "single                            2\n",
       "paper maker                       2\n",
       "chair maker                       2\n",
       "food carrier                      2\n",
       "sail maker                        2\n",
       "barber                            2\n",
       "glove maker                       2\n",
       "quarry man                        2\n",
       "type caster                       2\n",
       "engineer                          2\n",
       "engraver                          2\n",
       "cab driver                        2\n",
       "lawyer                            2\n",
       "shipwright                        2\n",
       "glass cutter                      2\n",
       "morocco dresser                   2\n",
       "paner                             1\n",
       "book binder                       1\n",
       "wool manufacturer                 1\n",
       "jobber                            1\n",
       "gas manufacturer                  1\n",
       "hodman                            1\n",
       "wood sawyer                       1\n",
       "soapmaker                         1\n",
       "book pedlar                       1\n",
       "cotton sampler                    1\n",
       "music painter                     1\n",
       "manufacturer                      1\n",
       "leather draper                    1\n",
       "waterman                          1\n",
       "fishman                           1\n",
       "cabman                            1\n",
       "flag cutter                       1\n",
       "gas fitter                        1\n",
       "plumber                           1\n",
       "joiner                            1\n",
       "superintendent                    1\n",
       "polisher                          1\n",
       "cabrener                          1\n",
       "book seller                       1\n",
       "stage driver                      1\n",
       "leather dresser                   1\n",
       "chandler                          1\n",
       "cook                              1\n",
       "marketmab                         1\n",
       "schoolmaster                      1\n",
       "iron moulder                      1\n",
       "drayman                           1\n",
       "croper                            1\n",
       "musician                          1\n",
       "upholsterer                       1\n",
       "magician                          1\n",
       "dugget                            1\n",
       "cloth printer                     1\n",
       "saw maker                         1\n",
       "glover                            1\n",
       "truss maker                       1\n",
       "ship sawyer                       1\n",
       "surveyor                          1\n",
       "caulker                           1\n",
       "miniature painter                 1\n",
       "soap boiler                       1\n",
       "manow(?)                          1\n",
       "tavern keeper                     1\n",
       "basket maker                      1\n",
       "hacker                            1\n",
       "flag pavier                       1\n",
       "jeweller                          1\n",
       "mariner                           1\n",
       "flagger                           1\n",
       "paper-carrier                     1\n",
       "brass turner                      1\n",
       "marble cutter                     1\n",
       "builder                           1\n",
       "apothecary                        1\n",
       "soap comber                       1\n",
       "parrier                           1\n",
       "auctioneer                        1\n",
       "teamster                          1\n",
       "book keeper                       1\n",
       "moulder                           1\n",
       "rectifier                         1\n",
       "strap maker                       1\n",
       "groom                             1\n",
       "shop keeper                       1\n",
       "copoper                           1\n",
       "marble sawyer                     1\n",
       "oysterman                         1\n",
       "clery                             1\n",
       "gun maker                         1\n",
       "brush maker                       1\n",
       "sham                              1\n",
       "school teacher                    1\n",
       "stone sawyer                      1\n",
       "gw anderson per e witherell       1\n",
       "dancing master                    1\n",
       "Name: profession, dtype: int64"
      ]
     },
     "execution_count": 12,
     "metadata": {},
     "output_type": "execute_result"
    }
   ],
   "source": [
    "bellevue_df['profession'].value_counts()"
   ]
  },
  {
   "cell_type": "markdown",
   "metadata": {},
   "source": [
    "### 🛑   What stands out to you about this list? What kind of patterns do you notice?"
   ]
  },
  {
   "cell_type": "markdown",
   "metadata": {},
   "source": [
    "*Jot down your thoughts here (double-click cell to type)*"
   ]
  },
  {
   "cell_type": "markdown",
   "metadata": {},
   "source": [
    "### ❓🧐  What are the most common diseases?"
   ]
  },
  {
   "cell_type": "code",
   "execution_count": 17,
   "metadata": {},
   "outputs": [
    {
     "data": {
      "text/plain": [
       "sickness           2710\n",
       "recent emigrant    1975\n",
       "destitution         846\n",
       "fever               192\n",
       "insane              138\n",
       "pregnant            134\n",
       "sore                 79\n",
       "intemperance         71\n",
       "illegible            47\n",
       "typhus               46\n",
       "injuries             32\n",
       "ulcers               26\n",
       "ophthalmia           19\n",
       "vagrant              17\n",
       "lame                 15\n",
       "debility             12\n",
       "rheumatism           11\n",
       "blind                 9\n",
       "bronchitis            9\n",
       "dropsy                8\n",
       "phthisis              8\n",
       "old age               7\n",
       "syphilis              7\n",
       "dysentery             6\n",
       "diarrhea              6\n",
       "erysipelas            6\n",
       "cripple               5\n",
       "broken bone           5\n",
       "measles               3\n",
       "burn                  3\n",
       "drunkenness           3\n",
       "piles                 2\n",
       "sprain                2\n",
       "pneumonia             2\n",
       "scarletina            2\n",
       "fits                  2\n",
       "abandonment           2\n",
       "tuberculosis          2\n",
       "jaundice              2\n",
       "delusion dreams       2\n",
       "scrofula              2\n",
       "contusion             1\n",
       "throat cut            1\n",
       "abscess               1\n",
       "poorly                1\n",
       "seizure               1\n",
       "smallpox              1\n",
       "ascites               1\n",
       "hypochondria          1\n",
       "orchitis              1\n",
       "eczema                1\n",
       "congested head        1\n",
       "bleeding              1\n",
       "rickets               1\n",
       "ungovernable          1\n",
       "colic                 1\n",
       "tumor                 1\n",
       "paralysis             1\n",
       "horrors               1\n",
       "hernia                1\n",
       "from trial            1\n",
       "spinal disease        1\n",
       "beggar                1\n",
       "emotional             1\n",
       "severed limb          1\n",
       "neuralgia             1\n",
       "phagadaena            1\n",
       "cut                   1\n",
       "sunburn               1\n",
       "deaf                  1\n",
       "ague                  1\n",
       "del femur             1\n",
       "disabled              1\n",
       "bruise                1\n",
       "asthma                1\n",
       "Name: disease, dtype: int64"
      ]
     },
     "execution_count": 17,
     "metadata": {},
     "output_type": "execute_result"
    }
   ],
   "source": [
    "bellevue_df['disease'].value_counts()"
   ]
  },
  {
   "cell_type": "markdown",
   "metadata": {},
   "source": [
    "### 🛑   What stands out to you about this list? What kind of patterns do you notice?"
   ]
  },
  {
   "cell_type": "markdown",
   "metadata": {},
   "source": [
    "*Jot down your thoughts here (double-click cell to type)*"
   ]
  },
  {
   "cell_type": "code",
   "execution_count": null,
   "metadata": {},
   "outputs": [],
   "source": [
    "bellevue_df['disease'].value_counts()[:10].plot(kind='bar')"
   ]
  },
  {
   "cell_type": "markdown",
   "metadata": {},
   "source": [
    "### ❓🧐  Where were most people sent?"
   ]
  },
  {
   "cell_type": "code",
   "execution_count": null,
   "metadata": {},
   "outputs": [],
   "source": [
    "bellevue_df['sent_to'].value_counts()[:10]"
   ]
  },
  {
   "cell_type": "markdown",
   "metadata": {},
   "source": [
    "## Examine Subsets"
   ]
  },
  {
   "cell_type": "markdown",
   "metadata": {},
   "source": [
    "### ❓🧐  Why were people being sent to Hostpital Ward 38?"
   ]
  },
  {
   "cell_type": "markdown",
   "metadata": {},
   "source": [
    "To explore this question, we can filter rows with a condition."
   ]
  },
  {
   "cell_type": "code",
   "execution_count": null,
   "metadata": {},
   "outputs": [],
   "source": [
    "bellevue_df['sent_to'] == 'Hospital Ward 38'"
   ]
  },
  {
   "cell_type": "code",
   "execution_count": null,
   "metadata": {},
   "outputs": [],
   "source": [
    "bellevue_df[]"
   ]
  },
  {
   "cell_type": "code",
   "execution_count": null,
   "metadata": {},
   "outputs": [],
   "source": [
    ".value_counts()"
   ]
  },
  {
   "cell_type": "markdown",
   "metadata": {},
   "source": [
    "## ❓🧐  What data is missing? What data do you wish we had?"
   ]
  }
 ],
 "metadata": {
  "kernelspec": {
   "display_name": "Python 3",
   "language": "python",
   "name": "python3"
  },
  "language_info": {
   "codemirror_mode": {
    "name": "ipython",
    "version": 3
   },
   "file_extension": ".py",
   "mimetype": "text/x-python",
   "name": "python",
   "nbconvert_exporter": "python",
   "pygments_lexer": "ipython3",
   "version": "3.7.6"
  }
 },
 "nbformat": 4,
 "nbformat_minor": 4
}
