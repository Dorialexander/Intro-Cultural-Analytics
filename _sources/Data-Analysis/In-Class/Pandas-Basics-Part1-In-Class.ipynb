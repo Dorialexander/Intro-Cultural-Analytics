{
 "cells": [
  {
   "cell_type": "markdown",
   "metadata": {},
   "source": [
    "# Pandas Basics — Part 1 — In-Class"
   ]
  },
  {
   "cell_type": "markdown",
   "metadata": {},
   "source": [
    "In today's class, we're going to introduce some of the basics of [Pandas](https://pandas.pydata.org/pandas-docs/stable/getting_started/overview.html), a powerful Python library for working with tabular data like CSV files.\n",
    "\n",
    "We will cover how to:\n",
    "\n",
    "* Import Pandas\n",
    "* Read in a CSV file\n",
    "* Explore and filter data\n",
    "* Make simple plots and data visualizations\n",
    "\n",
    "___\n",
    "\n",
    "## Dataset\n",
    "### The Bellevue Almshouse Dataset\n",
    "\n",
    "> Nineteenth-century immigration data was produced with the express purpose of reducing people to bodies; bodies to easily quantifiable aspects; and assigning value to those aspects which proved that the marginalized people to who they belonged were worth less than their elite counterparts.\n",
    "\n",
    "> — Anelise Shrout, [\"(Re)Humanizing Data\"](https://crdh.rrchnm.org/essays/v01-10-(re)-humanizing-data/)\n",
    "\n",
    "\n",
    "The dataset that we're working with in this lesson is the [Bellevue Almshouse Dataset](https://www.nyuirish.net/almshouse/the-almshouse-records/), created by historian and DH scholar Anelise Shrout. It includes information about Irish-born immigrants who were admitted to New York City's Bellevue Almshouse in the 1840s.\n",
    "\n",
    "The Bellevue Almshouse was part of New York City's public health system, a place where poor, sick, homeless, and otherwise marginalized people were sent — sometimes voluntarily and sometimes forcibly. Devastated by widespread famine in Ireland, many Irish people fled their homes for New York City in the 1840s, and many of them ended up in the Bellevue Almshouse.\n",
    "\n",
    "We're using the [Bellevue Almshouse Dataset](https://www.nyuirish.net/almshouse/the-almshouse-records/) to practice data analysis with Pandas because we want to think deeply about the consequences of reducing human life to data. As Shrout argues in [her essay](https://crdh.rrchnm.org/essays/v01-10-(re)-humanizing-data/), this data purposely reduced people to bodies and \"easily quantifiable aspects\" in order to devalue their lives, potentially enacting \"both epistemic and physical violence\" on them.\n",
    "\n",
    "We want to think about how responsible data analysis requires more than just technical tools like Pandas. It also requires an interrogation of the data. Who collected this data? How and why was this data collected? What assumptions are present in this data? What are the consequences of this data in the world? What does this data reflect about the world? For example, Shrout claims that the \"Bellevue administrators framed any ailments or difficulties inmates might have had as a consequence of [their immigration] status\" — perhaps best exemplified by the fact that a frequent \"disease\" in the dataset is \"recent emigrant.\" Below we're going to explore the prevalence of \"recent emigrant\" in the data as well as other salient patterns.\n",
    "\n",
    "___\n",
    "\n",
    "## Import Pandas\n",
    "\n",
    "\n",
    "> If you installed Python with Anaconda, you should already have Pandas installed. If you did not install Python with Anaconda, see [Pandas Installation](https://pandas.pydata.org/pandas-docs/stable/getting_started/install.html).\n",
    "\n",
    "\n",
    "To use the Pandas library, we first need to `import` it."
   ]
  },
  {
   "cell_type": "code",
   "execution_count": 3,
   "metadata": {},
   "outputs": [],
   "source": []
  },
  {
   "cell_type": "markdown",
   "metadata": {},
   "source": [
    "The above `import` statement not only imports the Pandas library but also gives it an alias or nickname — `pd`. This alias will save us from having to type out the entire words `pandas` each time we need to use it. Many Python libraries have commonly used aliases like `pd`."
   ]
  },
  {
   "cell_type": "markdown",
   "metadata": {},
   "source": [
    "## Set Display Settings"
   ]
  },
  {
   "cell_type": "markdown",
   "metadata": {},
   "source": [
    "By default, Pandas will display 60 rows and 20 columns. I often change [Pandas' default display settings](https://pandas.pydata.org/pandas-docs/stable/user_guide/options.html) to show more rows or columns."
   ]
  },
  {
   "cell_type": "code",
   "execution_count": 4,
   "metadata": {},
   "outputs": [],
   "source": [
    "pd.options.display.max_rows = 100"
   ]
  },
  {
   "cell_type": "markdown",
   "metadata": {},
   "source": [
    "## Read in CSV File"
   ]
  },
  {
   "cell_type": "markdown",
   "metadata": {},
   "source": [
    "To read in a CSV file, we will use the method `pd.read_csv()` and insert the name of our desired file path. "
   ]
  },
  {
   "cell_type": "code",
   "execution_count": 5,
   "metadata": {},
   "outputs": [],
   "source": [
    "pd.read_csv('Bellevue_Almshouse_modified.csv', delimiter=\",\")"
   ]
  },
  {
   "cell_type": "markdown",
   "metadata": {},
   "source": [
    "This creates a Pandas [DataFrame object](https://pandas.pydata.org/pandas-docs/stable/user_guide/dsintro.html#dataframe) — often abbreviated as *df*, e.g., *bellevue_df*. A DataFrame looks and acts a lot like a spreadsheet. But it has special powers and functions that we will discuss in the next few lessons.\n",
    "\n",
    "When reading in the CSV file, we also specified the `encoding` and `delimiter`. The `delimiter` specifies the character that separates or \"delimits\" the columns in our dataset. For CSV files, the delimiter will most often be a comma. (CSV is short for *Comma Separated Values*.) Sometimes, however, the delimiter of a CSV file might be a tab (`\\t`) or, more rarely, another character.\n",
    "\n",
    "## Display Data\n",
    "\n",
    "We can display a DataFrame in a Jupyter notebook simply by running a cell with the variable name of the DataFrame."
   ]
  },
  {
   "cell_type": "code",
   "execution_count": 104,
   "metadata": {},
   "outputs": [
    {
     "data": {
      "text/html": [
       "<div>\n",
       "<style scoped>\n",
       "    .dataframe tbody tr th:only-of-type {\n",
       "        vertical-align: middle;\n",
       "    }\n",
       "\n",
       "    .dataframe tbody tr th {\n",
       "        vertical-align: top;\n",
       "    }\n",
       "\n",
       "    .dataframe thead th {\n",
       "        text-align: right;\n",
       "    }\n",
       "</style>\n",
       "<table border=\"1\" class=\"dataframe\">\n",
       "  <thead>\n",
       "    <tr style=\"text-align: right;\">\n",
       "      <th></th>\n",
       "      <th>date_in</th>\n",
       "      <th>first_name</th>\n",
       "      <th>last_name</th>\n",
       "      <th>age</th>\n",
       "      <th>disease</th>\n",
       "      <th>profession</th>\n",
       "      <th>gender</th>\n",
       "      <th>children</th>\n",
       "    </tr>\n",
       "  </thead>\n",
       "  <tbody>\n",
       "    <tr>\n",
       "      <th>0</th>\n",
       "      <td>1847-04-17</td>\n",
       "      <td>Mary</td>\n",
       "      <td>Gallagher</td>\n",
       "      <td>28.0</td>\n",
       "      <td>recent emigrant</td>\n",
       "      <td>married</td>\n",
       "      <td>w</td>\n",
       "      <td>Child Alana 10 days</td>\n",
       "    </tr>\n",
       "    <tr>\n",
       "      <th>1</th>\n",
       "      <td>1847-04-08</td>\n",
       "      <td>John</td>\n",
       "      <td>Sanin (?)</td>\n",
       "      <td>19.0</td>\n",
       "      <td>recent emigrant</td>\n",
       "      <td>laborer</td>\n",
       "      <td>m</td>\n",
       "      <td>Catherine 2 mo</td>\n",
       "    </tr>\n",
       "    <tr>\n",
       "      <th>2</th>\n",
       "      <td>1847-04-17</td>\n",
       "      <td>Anthony</td>\n",
       "      <td>Clark</td>\n",
       "      <td>60.0</td>\n",
       "      <td>recent emigrant</td>\n",
       "      <td>laborer</td>\n",
       "      <td>m</td>\n",
       "      <td>Charles Riley afed 10 days</td>\n",
       "    </tr>\n",
       "    <tr>\n",
       "      <th>3</th>\n",
       "      <td>1847-04-08</td>\n",
       "      <td>Lawrence</td>\n",
       "      <td>Feeney</td>\n",
       "      <td>32.0</td>\n",
       "      <td>recent emigrant</td>\n",
       "      <td>laborer</td>\n",
       "      <td>m</td>\n",
       "      <td>Child</td>\n",
       "    </tr>\n",
       "    <tr>\n",
       "      <th>4</th>\n",
       "      <td>1847-04-13</td>\n",
       "      <td>Henry</td>\n",
       "      <td>Joyce</td>\n",
       "      <td>21.0</td>\n",
       "      <td>recent emigrant</td>\n",
       "      <td>NaN</td>\n",
       "      <td>m</td>\n",
       "      <td>Child 1 mo</td>\n",
       "    </tr>\n",
       "    <tr>\n",
       "      <th>...</th>\n",
       "      <td>...</td>\n",
       "      <td>...</td>\n",
       "      <td>...</td>\n",
       "      <td>...</td>\n",
       "      <td>...</td>\n",
       "      <td>...</td>\n",
       "      <td>...</td>\n",
       "      <td>...</td>\n",
       "    </tr>\n",
       "    <tr>\n",
       "      <th>9579</th>\n",
       "      <td>1847-06-17</td>\n",
       "      <td>Mary</td>\n",
       "      <td>Smith</td>\n",
       "      <td>47.0</td>\n",
       "      <td>NaN</td>\n",
       "      <td>NaN</td>\n",
       "      <td>w</td>\n",
       "      <td>NaN</td>\n",
       "    </tr>\n",
       "    <tr>\n",
       "      <th>9580</th>\n",
       "      <td>1847-06-22</td>\n",
       "      <td>Francis</td>\n",
       "      <td>Riley</td>\n",
       "      <td>29.0</td>\n",
       "      <td>lame</td>\n",
       "      <td>superintendent</td>\n",
       "      <td>m</td>\n",
       "      <td>NaN</td>\n",
       "    </tr>\n",
       "    <tr>\n",
       "      <th>9581</th>\n",
       "      <td>1847-07-02</td>\n",
       "      <td>Martin</td>\n",
       "      <td>Dunn</td>\n",
       "      <td>4.0</td>\n",
       "      <td>NaN</td>\n",
       "      <td>NaN</td>\n",
       "      <td>m</td>\n",
       "      <td>NaN</td>\n",
       "    </tr>\n",
       "    <tr>\n",
       "      <th>9582</th>\n",
       "      <td>1847-07-08</td>\n",
       "      <td>Elizabeth</td>\n",
       "      <td>Post</td>\n",
       "      <td>32.0</td>\n",
       "      <td>NaN</td>\n",
       "      <td>NaN</td>\n",
       "      <td>w</td>\n",
       "      <td>NaN</td>\n",
       "    </tr>\n",
       "    <tr>\n",
       "      <th>9583</th>\n",
       "      <td>1847-04-28</td>\n",
       "      <td>Bridget</td>\n",
       "      <td>Ryan</td>\n",
       "      <td>28.0</td>\n",
       "      <td>destitution</td>\n",
       "      <td>spinster</td>\n",
       "      <td>w</td>\n",
       "      <td>NaN</td>\n",
       "    </tr>\n",
       "  </tbody>\n",
       "</table>\n",
       "<p>9584 rows × 8 columns</p>\n",
       "</div>"
      ],
      "text/plain": [
       "        date_in first_name  last_name   age          disease      profession  \\\n",
       "0    1847-04-17       Mary  Gallagher  28.0  recent emigrant         married   \n",
       "1    1847-04-08       John  Sanin (?)  19.0  recent emigrant         laborer   \n",
       "2    1847-04-17    Anthony      Clark  60.0  recent emigrant         laborer   \n",
       "3    1847-04-08   Lawrence     Feeney  32.0  recent emigrant         laborer   \n",
       "4    1847-04-13      Henry      Joyce  21.0  recent emigrant             NaN   \n",
       "...         ...        ...        ...   ...              ...             ...   \n",
       "9579 1847-06-17       Mary      Smith  47.0              NaN             NaN   \n",
       "9580 1847-06-22    Francis      Riley  29.0             lame  superintendent   \n",
       "9581 1847-07-02     Martin       Dunn   4.0              NaN             NaN   \n",
       "9582 1847-07-08  Elizabeth       Post  32.0              NaN             NaN   \n",
       "9583 1847-04-28    Bridget       Ryan  28.0      destitution        spinster   \n",
       "\n",
       "     gender                    children  \n",
       "0         w         Child Alana 10 days  \n",
       "1         m              Catherine 2 mo  \n",
       "2         m  Charles Riley afed 10 days  \n",
       "3         m                       Child  \n",
       "4         m                  Child 1 mo  \n",
       "...     ...                         ...  \n",
       "9579      w                         NaN  \n",
       "9580      m                         NaN  \n",
       "9581      m                         NaN  \n",
       "9582      w                         NaN  \n",
       "9583      w                         NaN  \n",
       "\n",
       "[9584 rows x 8 columns]"
      ]
     },
     "execution_count": 104,
     "metadata": {},
     "output_type": "execute_result"
    }
   ],
   "source": [
    "bellevue_df"
   ]
  },
  {
   "cell_type": "markdown",
   "metadata": {},
   "source": [
    "There are a few important things to note about the DataFrame displayed here:\n",
    "\n",
    "* Index\n",
    "    * The bolded ascending numbers in the very left-hand column of the DataFrame is called the Pandas *Index*. You can select rows based on the Index.\n",
    "    * By default, the Index is a sequence of numbers starting with zero. However, you can change the Index to something else, such as one of the columns in your dataset.\n",
    "\n",
    "* Truncation\n",
    "    * The DataFrame is truncated, signaled by the ellipses in the middle `...` of every column.\n",
    "    * The DataFrame is truncated because we set our default display settings to 100 rows. Anything more than 100 rows will be truncated. To display all the rows, we would need to alter Pandas' default display settings yet again.\n",
    "\n",
    "* Rows x Columns\n",
    "    * Pandas reports how many rows and columns are in this dataset at the bottom of the output (9584 x 8 columns).\n",
    "    * This is very useful!"
   ]
  },
  {
   "cell_type": "markdown",
   "metadata": {},
   "source": [
    "## Select Columns"
   ]
  },
  {
   "cell_type": "markdown",
   "metadata": {},
   "source": [
    "Selecting Pandas columns is very similar to the way we access a value in a Python dictionary by putting the key in square brackets.  \n",
    "\n",
    "> **Dictionary**  \n",
    "> person1 = {\"name\": \"Mary Gallagher\",\n",
    "             \"age\": 28,\n",
    "             \"profession\": \"married\"}\n",
    "\n",
    "> **Key            ->    Value**  \n",
    "> person1['name'] —> \"Mary Gallagher\"\n"
   ]
  },
  {
   "cell_type": "markdown",
   "metadata": {},
   "source": [
    "To select a column from the DataFrame, we will type the name of the DataFrame followed by square brackets and a column name in quotations marks."
   ]
  },
  {
   "cell_type": "code",
   "execution_count": 110,
   "metadata": {},
   "outputs": [
    {
     "data": {
      "text/plain": [
       "0       recent emigrant\n",
       "1       recent emigrant\n",
       "2       recent emigrant\n",
       "3       recent emigrant\n",
       "4       recent emigrant\n",
       "             ...       \n",
       "9579                NaN\n",
       "9580               lame\n",
       "9581                NaN\n",
       "9582                NaN\n",
       "9583        destitution\n",
       "Name: disease, Length: 9584, dtype: object"
      ]
     },
     "execution_count": 110,
     "metadata": {},
     "output_type": "execute_result"
    }
   ],
   "source": [
    "bellevue_df[]"
   ]
  },
  {
   "cell_type": "markdown",
   "metadata": {},
   "source": [
    "Technically, a single column in a DataFrame is a [*Series* object](https://pandas.pydata.org/pandas-docs/stable/user_guide/dsintro.html#dsintro)."
   ]
  },
  {
   "cell_type": "code",
   "execution_count": 111,
   "metadata": {},
   "outputs": [
    {
     "data": {
      "text/plain": [
       "pandas.core.series.Series"
      ]
     },
     "execution_count": 111,
     "metadata": {},
     "output_type": "execute_result"
    }
   ],
   "source": [
    "type(bellevue_df['disease'])"
   ]
  },
  {
   "cell_type": "markdown",
   "metadata": {},
   "source": [
    "A Series object displays differently than a DataFrame object. To select a column as a DataFrame and not as a Series object, we will use two square brackets."
   ]
  },
  {
   "cell_type": "code",
   "execution_count": 112,
   "metadata": {},
   "outputs": [
    {
     "data": {
      "text/html": [
       "<div>\n",
       "<style scoped>\n",
       "    .dataframe tbody tr th:only-of-type {\n",
       "        vertical-align: middle;\n",
       "    }\n",
       "\n",
       "    .dataframe tbody tr th {\n",
       "        vertical-align: top;\n",
       "    }\n",
       "\n",
       "    .dataframe thead th {\n",
       "        text-align: right;\n",
       "    }\n",
       "</style>\n",
       "<table border=\"1\" class=\"dataframe\">\n",
       "  <thead>\n",
       "    <tr style=\"text-align: right;\">\n",
       "      <th></th>\n",
       "      <th>disease</th>\n",
       "    </tr>\n",
       "  </thead>\n",
       "  <tbody>\n",
       "    <tr>\n",
       "      <th>0</th>\n",
       "      <td>recent emigrant</td>\n",
       "    </tr>\n",
       "    <tr>\n",
       "      <th>1</th>\n",
       "      <td>recent emigrant</td>\n",
       "    </tr>\n",
       "    <tr>\n",
       "      <th>2</th>\n",
       "      <td>recent emigrant</td>\n",
       "    </tr>\n",
       "    <tr>\n",
       "      <th>3</th>\n",
       "      <td>recent emigrant</td>\n",
       "    </tr>\n",
       "    <tr>\n",
       "      <th>4</th>\n",
       "      <td>recent emigrant</td>\n",
       "    </tr>\n",
       "    <tr>\n",
       "      <th>...</th>\n",
       "      <td>...</td>\n",
       "    </tr>\n",
       "    <tr>\n",
       "      <th>9579</th>\n",
       "      <td>NaN</td>\n",
       "    </tr>\n",
       "    <tr>\n",
       "      <th>9580</th>\n",
       "      <td>lame</td>\n",
       "    </tr>\n",
       "    <tr>\n",
       "      <th>9581</th>\n",
       "      <td>NaN</td>\n",
       "    </tr>\n",
       "    <tr>\n",
       "      <th>9582</th>\n",
       "      <td>NaN</td>\n",
       "    </tr>\n",
       "    <tr>\n",
       "      <th>9583</th>\n",
       "      <td>destitution</td>\n",
       "    </tr>\n",
       "  </tbody>\n",
       "</table>\n",
       "<p>9584 rows × 1 columns</p>\n",
       "</div>"
      ],
      "text/plain": [
       "              disease\n",
       "0     recent emigrant\n",
       "1     recent emigrant\n",
       "2     recent emigrant\n",
       "3     recent emigrant\n",
       "4     recent emigrant\n",
       "...               ...\n",
       "9579              NaN\n",
       "9580             lame\n",
       "9581              NaN\n",
       "9582              NaN\n",
       "9583      destitution\n",
       "\n",
       "[9584 rows x 1 columns]"
      ]
     },
     "execution_count": 112,
     "metadata": {},
     "output_type": "execute_result"
    }
   ],
   "source": [
    "bellevue_df[[]]"
   ]
  },
  {
   "cell_type": "code",
   "execution_count": 113,
   "metadata": {},
   "outputs": [
    {
     "data": {
      "text/plain": [
       "pandas.core.frame.DataFrame"
      ]
     },
     "execution_count": 113,
     "metadata": {},
     "output_type": "execute_result"
    }
   ],
   "source": [
    "type(bellevue_df[['disease']])"
   ]
  },
  {
   "cell_type": "markdown",
   "metadata": {},
   "source": [
    "## Count Values"
   ]
  },
  {
   "cell_type": "markdown",
   "metadata": {},
   "source": [
    "To count the values in a column, we can use the `.value_counts()` method."
   ]
  },
  {
   "cell_type": "markdown",
   "metadata": {},
   "source": [
    "> On Bellevue Almshouse \"Diseases\n",
    "> Some were diagnosed with medically recognizable illnesses, including “fever,” “dropsy” and “neuralgia.” Others were diagnosed with “diseases” that made visible the ways in which immigrants were failing to meet the expectations of urban citizenship. These included “destitution” and “recent emigrant.” Neither of these diagnoses reflected an immigrant’s health. Nevertheless, they were treated as pathologies, and those pathologies governed city officials perceptions of immigrants. Sickness, injuries or destitution were subsumed under the pathology of “recent emigrant.” This diagnosis also determined immigrants’ paths through the New York City public health system.\n",
    "\n",
    "> -Anelise Shrout, [\"(Re)Humanizing Data: Digitally Navigating the Bellevue Almshouse\"](https://crdh.rrchnm.org/essays/v01-10-(re)-humanizing-data/)"
   ]
  },
  {
   "cell_type": "markdown",
   "metadata": {},
   "source": [
    "Count the values in the \"disease\" column:"
   ]
  },
  {
   "cell_type": "code",
   "execution_count": 116,
   "metadata": {
    "scrolled": true
   },
   "outputs": [
    {
     "data": {
      "text/plain": [
       "sickness           2706\n",
       "recent emigrant    1974\n",
       "destitution         841\n",
       "fever               192\n",
       "insane              138\n",
       "pregnant            134\n",
       "sore                 79\n",
       "intemperance         71\n",
       "illegible            47\n",
       "typhus               46\n",
       "injuries             31\n",
       "ulcers               26\n",
       "ophthalmia           19\n",
       "vagrant              17\n",
       "lame                 15\n",
       "debility             11\n",
       "rheumatism           11\n",
       "bronchitis            9\n",
       "blind                 9\n",
       "dropsy                8\n",
       "phthisis              8\n",
       "old age               7\n",
       "syphilis              7\n",
       "erysipelas            6\n",
       "dysentery             6\n",
       "diarrhea              6\n",
       "broken bone           5\n",
       "cripple               5\n",
       "measles               3\n",
       "burn                  3\n",
       "drunkenness           3\n",
       "abandonment           2\n",
       "scrofula              2\n",
       "tuberculosis          2\n",
       "delusion dreams       2\n",
       "jaundice              2\n",
       "pneumonia             2\n",
       "sprain                2\n",
       "scarletina            2\n",
       "fits                  2\n",
       "piles                 2\n",
       "ascites               1\n",
       "sunburn               1\n",
       "colic                 1\n",
       "ungovernable          1\n",
       "del femur             1\n",
       "congested head        1\n",
       "hernia                1\n",
       "cut                   1\n",
       "tumor                 1\n",
       "eczema                1\n",
       "emotional             1\n",
       "paralysis             1\n",
       "orchitis              1\n",
       "neuralgia             1\n",
       "contusion             1\n",
       "asthma                1\n",
       "beggar                1\n",
       "from trial            1\n",
       "disabled              1\n",
       "hypochondria          1\n",
       "ague                  1\n",
       "abscess               1\n",
       "bleeding              1\n",
       "spinal disease        1\n",
       "smallpox              1\n",
       "severed limb          1\n",
       "horrors               1\n",
       "throat cut            1\n",
       "seizure               1\n",
       "rickets               1\n",
       "phagadaena            1\n",
       "deaf                  1\n",
       "bruise                1\n",
       "poorly                1\n",
       "Name: disease, dtype: int64"
      ]
     },
     "execution_count": 116,
     "metadata": {},
     "output_type": "execute_result"
    }
   ],
   "source": []
  },
  {
   "cell_type": "markdown",
   "metadata": {},
   "source": [
    "To select the top 10 most frequent values in the \"disease\" column, we can combine `value_counts()` with regular Python list slicing (for example `[:10]`)"
   ]
  },
  {
   "cell_type": "code",
   "execution_count": null,
   "metadata": {},
   "outputs": [],
   "source": []
  },
  {
   "cell_type": "markdown",
   "metadata": {},
   "source": [
    "Count the values in the \"professions\" column:"
   ]
  },
  {
   "cell_type": "code",
   "execution_count": null,
   "metadata": {},
   "outputs": [],
   "source": []
  },
  {
   "cell_type": "markdown",
   "metadata": {},
   "source": [
    "## 🛑 Reflection & Group Discussion 🛑\n",
    "\n",
    "Take a minute to look through the so-called \"diseases\" and \"professions\" recorded in the Bellevue Almshouse data, and pick one or two that stand out to you. In the cell below, write a few thoughts in response to the following questions.\n",
    "\n",
    "- What kind of biases or stereotypes are embedded in this data?\n",
    "- How do you think this data was used to harm or oppress people (if at all)?\n",
    "- Imagine if this dataset was created by the Irish immigrants themselves — how do you think it would look different?\n"
   ]
  },
  {
   "cell_type": "markdown",
   "metadata": {},
   "source": [
    "*Type your thoughts here (double-click this cell)*"
   ]
  },
  {
   "cell_type": "markdown",
   "metadata": {},
   "source": [
    "Now discuss and share your thoughts with your group. How does the history of this dataset shape how we should analyze and interpret it? How does this historical dataset relate to more contemporary data?"
   ]
  },
  {
   "cell_type": "markdown",
   "metadata": {},
   "source": [
    "## Make Plots"
   ]
  },
  {
   "cell_type": "markdown",
   "metadata": {},
   "source": [
    "Pandas makes it easy to create plots and data visualizations. We can make a simple plot by adding `.plot()` to any DataFrame or Series object that has appropriate numeric data."
   ]
  },
  {
   "cell_type": "code",
   "execution_count": 35,
   "metadata": {},
   "outputs": [
    {
     "data": {
      "text/plain": [
       "<matplotlib.axes._subplots.AxesSubplot at 0x7fd38763e5d0>"
      ]
     },
     "execution_count": 35,
     "metadata": {},
     "output_type": "execute_result"
    },
    {
     "data": {
      "image/png": "[encoded data removed]",
      "text/plain": [
       "<Figure size 432x288 with 1 Axes>"
      ]
     },
     "metadata": {
      "needs_background": "light"
     },
     "output_type": "display_data"
    }
   ],
   "source": [
    "bellevue_df['disease'].value_counts()[:10].plot(kind='bar', title='Bellevue Almshouse:\\nMost Frequent \"Diseases\"')"
   ]
  },
  {
   "cell_type": "markdown",
   "metadata": {},
   "source": [
    " We specify the title with the `title=` parameter and the kind of plot by altering the `kind=` parameter. For example, to make a horizontal bar chart, we can set `kind='barh'`.\n",
    "* ‘bar’ or ‘barh’ for bar plots\n",
    "\n",
    "* ‘hist’ for histogram\n",
    "\n",
    "* ‘box’ for boxplot\n",
    "\n",
    "* ‘kde’ or ‘density’ for density plots\n",
    "\n",
    "* ‘area’ for area plots\n",
    "\n",
    "* ‘scatter’ for scatter plots\n",
    "\n",
    "* ‘hexbin’ for hexagonal bin plots\n",
    "\n",
    "* ‘pie’ for pie plots\n",
    " \n"
   ]
  },
  {
   "cell_type": "markdown",
   "metadata": {},
   "source": [
    "Plot the 10 most frequent \"professions\" with either a `pie` chart or a `barh` plot:"
   ]
  },
  {
   "cell_type": "code",
   "execution_count": null,
   "metadata": {},
   "outputs": [],
   "source": [
    "bellevue_df['disease'].value_counts()[?].plot(kind='?', title='?')"
   ]
  },
  {
   "cell_type": "markdown",
   "metadata": {},
   "source": [
    "## Save Plots"
   ]
  },
  {
   "cell_type": "markdown",
   "metadata": {},
   "source": [
    "To save a plot, you can use `.figure.savefig()` and insert a desired filename into the function.\n",
    "\n",
    "To help prevent labels from being cut off, you can set `bbox_inches = 'tight'` and specify the resolution of the image, or dots per inch (dpi), setting `dpi=200`. For more information, refer to the [Matplotlib documentation](https://matplotlib.org/3.1.1/api/_as_gen/matplotlib.pyplot.savefig.html), which is the library that Pandas uses for plotting."
   ]
  },
  {
   "cell_type": "code",
   "execution_count": 21,
   "metadata": {},
   "outputs": [
    {
     "data": {
      "image/png": "[encoded data removed]",
      "text/plain": [
       "<Figure size 432x288 with 1 Axes>"
      ]
     },
     "metadata": {
      "needs_background": "light"
     },
     "output_type": "display_data"
    }
   ],
   "source": [
    "plot = bellevue_df['disease'].value_counts()[:10].plot(kind='bar', title='Bellevue Almshouse:\\nMost Frequent \"Diseases\"')\n",
    "plot.figure.savefig('disease_bar_chart.png', bbox_inches='tight', dpi=200)"
   ]
  }
 ],
 "metadata": {
  "kernelspec": {
   "display_name": "Python 3",
   "language": "python",
   "name": "python3"
  },
  "language_info": {
   "codemirror_mode": {
    "name": "ipython",
    "version": 3
   },
   "file_extension": ".py",
   "mimetype": "text/x-python",
   "name": "python",
   "nbconvert_exporter": "python",
   "pygments_lexer": "ipython3",
   "version": "3.7.6"
  }
 },
 "nbformat": 4,
 "nbformat_minor": 4
}
