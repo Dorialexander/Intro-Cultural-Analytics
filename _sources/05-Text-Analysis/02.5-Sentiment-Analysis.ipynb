{
 "cells": [
  {
   "cell_type": "markdown",
   "metadata": {},
   "source": [
    "## Sentiment Analysis"
   ]
  },
  {
   "cell_type": "markdown",
   "metadata": {},
   "source": [
    "In this lesson, we're going to learn how to use [VADER](https://github.com/cjhutto/vaderSentiment), an English-language sentiment analysis tool designed for use with social media texts. This tool helps to calculate whether texts expresses positive or negative sentiment.\n",
    "\n",
    "What is \"sentiment\"? According to VADER's creators, C.J. Hutto and Eric Gilbert:\n",
    "\n",
    ">\" Sentiment analysis, or opinion mining, is an active area of study in the field of natural language processing that analyzes people's **opinions, sentiments, evaluations, attitudes, and emotions** via the computational treatment of subjectivity in text.\"\n",
    "\n",
    "> -[\"VADER: A Parsimonious Rule-based Model for Sentiment Analysis of Social Media Text,\"](https://www.aaai.org/ocs/index.php/ICWSM/ICWSM14/paper/view/8109/8122) C.J. Hutto Eric Gilbert\n",
    "\n",
    "In this lesson, we will cover how to use VADER to:\n",
    "- Calculate sentiment for individual sentences, thousands of tweets, and a short story\n",
    "- Create a plot of how sentiment fluctuates over time or throughout a text\n",
    "---"
   ]
  },
  {
   "cell_type": "markdown",
   "metadata": {},
   "source": [
    "## Dataset"
   ]
  },
  {
   "cell_type": "markdown",
   "metadata": {},
   "source": [
    "### *Lost in the City* by Edward P. Jones\n",
    "\n",
    "<blockquote class=\"epigraph\" style=\" padding: 10px\">\n",
    "\n",
    " [T]he pigeon had taken a step and dropped from the ledge. He caught an upwind that took him nearly as high as the tops of the empty K Street houses. He flew farther into Northeast, into the color and sounds of the city's morning. She did nothing, aside from following him, with her eyes, with her heart, as far as she could.\n",
    "    \n",
    "<p class =\"attribution\">—Edward P. Jones, \"The Girl Who Raised Pigeons,\" <i>Lost in the City<i/> (1993) <p/>\n",
    "    \n",
    "</blockquote>"
   ]
  },
  {
   "cell_type": "markdown",
   "metadata": {},
   "source": [
    "Edward P. Jones's *Lost in the City* (1993) is a collection of 14 short stories set in Washington D.C. The first short story, \"The Girl Who Raised Pigeons,\" begins with a young girl raising homing pigeons on her roof.\n",
    "\n",
    "How distinctive is a \"pigeon\" in the world of *Lost in the City*? What does this uniqueness (or lackthereof) tell us about the meaning of pigeons in first short story \"The Girl Who Raised Pigeons\" and the collection as a whole? These are just a few of the questions that we're going to try to answer with tf-idf."
   ]
  },
  {
   "cell_type": "markdown",
   "metadata": {},
   "source": [
    "## The Backstory of VADER, and How It Works\n",
    "\n",
    "VADER, which stands for **V**alence **A**ware **D**ictionary and s**E**ntiment **R**easoner, calculates the sentiment of texts by referring to a lexicon of words that have been assigned sentiment scores as well as by using a handful of simple rules. This tool was designed by C.J. Hutto and Eric Gilbert, and you can read more about its purpose and creation in [their published paper](https://www.aaai.org/ocs/index.php/ICWSM/ICWSM14/paper/view/8109/8122).\n",
    "\n",
    "Here's a summary version: VADER's lexicon was created by enlisting 10 different people to rate thousands of words positively or negatively on a scale of -4 to 4 (you can scroll through the [lexicon on GitHub](https://github.com/cjhutto/vaderSentiment/blob/master/vaderSentiment/vader_lexicon.txt) and check it out for yourself — each line consists of a word, the mean rating, standard deviation, and 10 individual human ratings).\n",
    "\n",
    "For example, you can see that the word [*crappy*](https://github.com/cjhutto/vaderSentiment/blob/d8da3e21374a57201b557a4c91ac4dc411a08fed/vaderSentiment/vader_lexicon.txt#L1622) has a mean rating of -2.5 and the word [*bliss*](https://github.com/cjhutto/vaderSentiment/blob/d8da3e21374a57201b557a4c91ac4dc411a08fed/vaderSentiment/vader_lexicon.txt#L1127) has a mean rating of 2.7. If you look at the 10 individual ratings, you can see that one person rated *bliss* as a 4, and another person rated *bliss* as a 1. This raises the question: just how \"positive\" is the word *bliss*? What do you think?\n",
    "\n",
    "What about [*cutesie*](https://github.com/cjhutto/vaderSentiment/blob/d8da3e21374a57201b557a4c91ac4dc411a08fed/vaderSentiment/vader_lexicon.txt#L1721)? It has a mean rating of 1, but two people rated it as a -1, and five people rated as a 2. Is *cutesie* an admiring adjective — \"[She was so cutesie I just had to talk to her](https://www.urbandictionary.com/define.php?term=Cutesie)\" — or a diminutive slight — \"Ugh, her apartment was too cutesie\"?\n",
    "\n",
    "These difficult questions come up repeatedly when you read through the lexicon. Of course, VADER is designed to generalize, and it is not expected to capture the nuances of every single text. At the same time, it's important to keep these questions close in mind whenever we use sentiment analysis tools: Does it matter that we're missing out on specific nuances? What exactly are we measuring with this tool? Is this the best tool for the job?\n",
    "\n",
    "In addition to its lexcion, VADER also calculates sentiment by considering 5 relatively simple rules:\n",
    "\n",
    "> 1. If there's punctuation, especially exclamation points, the sentiment intensity should be increased (e.g., \"Mochi ice cream is bliss\" 👍 vs \"Mochi ice cream is bliss!!!\" 👍👍👍 )\n",
    "\n",
    "> 2. If there's capitalization, especially all caps, the sentiment intensity should be increased (e.g., \"Mochi ice cream is bliss\" 👍 vs \"Mochi ice cream is BLISS\" 👍👍👍 )\n",
    "\n",
    "> 3. If there are words like \"extremely\" or \"absolutely\", the sentiment should be increased (\"Mochi ice cream is good\" 👍  vs \"Mochi ice cream is extremely good\" 👍👍👍 )\n",
    "\n",
    "> 4. If there's a \"but\" in a sentence, the polarity of the sentiment should shift, and the sentiment that follows the \"but\" should be prioritized (e.g., \"Mochi ice cream is nice\" 👍 vs \"Mochi ice cream is nice, but it's a little blah\" 👎 )\n",
    "\n",
    "> 5. If there's a negation before an important word, the sentiment polarity should be flipped (\"Mochi ice cream is my favorite\" 👍 vs \"Mochi ice cream is not my favorite\" 👎 )\n",
    "\n",
    "\n",
    "Because VADER uses a lexicon and simple rules, it works very fast and doesn't require any training or set up, unlike more sophisticated. machine learning approaches."
   ]
  },
  {
   "cell_type": "markdown",
   "metadata": {},
   "source": [
    "## Install and Import Libraries/Packages"
   ]
  },
  {
   "cell_type": "markdown",
   "metadata": {},
   "source": [
    "Import Pandas and set Pandas display column width to 400 characters"
   ]
  },
  {
   "cell_type": "code",
   "execution_count": 1,
   "metadata": {},
   "outputs": [],
   "source": [
    "import pandas as pd\n",
    "pd.options.display.max_colwidth = 400"
   ]
  },
  {
   "cell_type": "markdown",
   "metadata": {},
   "source": [
    "Install [vaderSentiment package](https://github.com/cjhutto/vaderSentiment) with pip"
   ]
  },
  {
   "cell_type": "code",
   "execution_count": 2,
   "metadata": {
    "scrolled": true
   },
   "outputs": [
    {
     "name": "stdout",
     "output_type": "stream",
     "text": [
      "Collecting vaderSentiment\n",
      "  Downloading vaderSentiment-3.3.2-py2.py3-none-any.whl (125 kB)\n",
      "\u001b[K     |████████████████████████████████| 125 kB 5.3 MB/s eta 0:00:01\n",
      "\u001b[?25hRequirement already satisfied: requests in /Users/melwalsh/opt/anaconda3/lib/python3.8/site-packages (from vaderSentiment) (2.25.1)\n",
      "Requirement already satisfied: urllib3<1.27,>=1.21.1 in /Users/melwalsh/opt/anaconda3/lib/python3.8/site-packages (from requests->vaderSentiment) (1.26.4)\n",
      "Requirement already satisfied: certifi>=2017.4.17 in /Users/melwalsh/opt/anaconda3/lib/python3.8/site-packages (from requests->vaderSentiment) (2020.12.5)\n",
      "Requirement already satisfied: idna<3,>=2.5 in /Users/melwalsh/opt/anaconda3/lib/python3.8/site-packages (from requests->vaderSentiment) (2.10)\n",
      "Requirement already satisfied: chardet<5,>=3.0.2 in /Users/melwalsh/opt/anaconda3/lib/python3.8/site-packages (from requests->vaderSentiment) (4.0.0)\n",
      "Installing collected packages: vaderSentiment\n",
      "Successfully installed vaderSentiment-3.3.2\n"
     ]
    }
   ],
   "source": [
    "!pip install vaderSentiment"
   ]
  },
  {
   "cell_type": "markdown",
   "metadata": {},
   "source": [
    "Import the `SentimentIntensityAnalyser` and initlaize it"
   ]
  },
  {
   "cell_type": "code",
   "execution_count": 3,
   "metadata": {},
   "outputs": [],
   "source": [
    "from vaderSentiment.vaderSentiment import SentimentIntensityAnalyzer\n",
    "sentimentAnalyser = SentimentIntensityAnalyzer()"
   ]
  },
  {
   "cell_type": "markdown",
   "metadata": {},
   "source": [
    "## Calculate Sentiment Scores"
   ]
  },
  {
   "cell_type": "markdown",
   "metadata": {},
   "source": [
    "To calculate sentiment scores for a sentence or paragraph, we can use the `.polarity_scores()` method."
   ]
  },
  {
   "cell_type": "code",
   "execution_count": 4,
   "metadata": {},
   "outputs": [
    {
     "data": {
      "text/plain": [
       "{'neg': 0.0, 'neu': 0.361, 'pos': 0.639, 'compound': 0.6486}"
      ]
     },
     "execution_count": 4,
     "metadata": {},
     "output_type": "execute_result"
    }
   ],
   "source": [
    "sentimentAnalyser.polarity_scores(\"I like the Marvel movies\")"
   ]
  },
  {
   "cell_type": "code",
   "execution_count": 5,
   "metadata": {},
   "outputs": [
    {
     "data": {
      "text/plain": [
       "{'neg': 0.526, 'neu': 0.474, 'pos': 0.0, 'compound': -0.5334}"
      ]
     },
     "execution_count": 5,
     "metadata": {},
     "output_type": "execute_result"
    }
   ],
   "source": [
    "sentimentAnalyser.polarity_scores(\"I don't like the Marvel movies\")"
   ]
  },
  {
   "cell_type": "code",
   "execution_count": 6,
   "metadata": {},
   "outputs": [
    {
     "data": {
      "text/plain": [
       "{'neg': 0.255, 'neu': 0.546, 'pos': 0.199, 'compound': -0.1307}"
      ]
     },
     "execution_count": 6,
     "metadata": {},
     "output_type": "execute_result"
    }
   ],
   "source": [
    "sentimentAnalyser.polarity_scores(\"I don't *not* like the Marvel movies\")"
   ]
  },
  {
   "cell_type": "markdown",
   "metadata": {},
   "source": [
    "## Calculate Sentiment Scores for *The House on Mango Street*"
   ]
  },
  {
   "cell_type": "markdown",
   "metadata": {},
   "source": [
    "To calculate sentiment scores for *The House on Mango Street*, we first need a quick-and-easy way to break the novel up into sentences."
   ]
  },
  {
   "cell_type": "markdown",
   "metadata": {},
   "source": [
    "### Install and Import NLTK"
   ]
  },
  {
   "cell_type": "markdown",
   "metadata": {},
   "source": [
    "Install [NLTK](https://www.nltk.org/), a Python library for text analysis natural language processing"
   ]
  },
  {
   "cell_type": "code",
   "execution_count": 7,
   "metadata": {
    "scrolled": true
   },
   "outputs": [
    {
     "name": "stdout",
     "output_type": "stream",
     "text": [
      "Requirement already satisfied: nltk in /Users/melwalsh/opt/anaconda3/lib/python3.8/site-packages (3.6.1)\n",
      "Requirement already satisfied: click in /Users/melwalsh/opt/anaconda3/lib/python3.8/site-packages (from nltk) (7.1.2)\n",
      "Requirement already satisfied: tqdm in /Users/melwalsh/opt/anaconda3/lib/python3.8/site-packages (from nltk) (4.59.0)\n",
      "Requirement already satisfied: joblib in /Users/melwalsh/opt/anaconda3/lib/python3.8/site-packages (from nltk) (1.0.1)\n",
      "Requirement already satisfied: regex in /Users/melwalsh/opt/anaconda3/lib/python3.8/site-packages (from nltk) (2021.4.4)\n"
     ]
    }
   ],
   "source": [
    "!pip install nltk"
   ]
  },
  {
   "cell_type": "markdown",
   "metadata": {},
   "source": [
    "Import nltk and download the model that will help us get sentences"
   ]
  },
  {
   "cell_type": "code",
   "execution_count": 8,
   "metadata": {},
   "outputs": [
    {
     "name": "stderr",
     "output_type": "stream",
     "text": [
      "[nltk_data] Downloading package punkt to /Users/melwalsh/nltk_data...\n",
      "[nltk_data]   Unzipping tokenizers/punkt.zip.\n"
     ]
    },
    {
     "data": {
      "text/plain": [
       "True"
      ]
     },
     "execution_count": 8,
     "metadata": {},
     "output_type": "execute_result"
    }
   ],
   "source": [
    "import nltk\n",
    "nltk.download('punkt')"
   ]
  },
  {
   "cell_type": "markdown",
   "metadata": {},
   "source": [
    "### Load Text and Break Into Sentences"
   ]
  },
  {
   "cell_type": "markdown",
   "metadata": {},
   "source": [
    "Read in the text file for \"Hairs\""
   ]
  },
  {
   "cell_type": "code",
   "execution_count": 99,
   "metadata": {},
   "outputs": [],
   "source": [
    "trump_df = pd.read_csv('../texts/social-media/Trump_Tweets_2020.csv')\n",
    "trump_df = trump_df.drop('id', axis='columns')\n",
    "trump_texts = trump_df['text'].to_list()"
   ]
  },
  {
   "cell_type": "code",
   "execution_count": 100,
   "metadata": {},
   "outputs": [
    {
     "data": {
      "text/plain": [
       "['To all of those who have asked, I will not be going to the Inauguration on January 20th.',\n",
       " 'The 75,000,000 great American Patriots who voted for me, AMERICA FIRST, and MAKE AMERICA GREAT AGAIN, will have a GIANT VOICE long into the future. They will not be disrespected or treated unfairly in any way, shape or form!!!',\n",
       " 'https://t.co/csX07ZVWGe',\n",
       " 'These are the things and events that happen when a sacred landslide election victory is so unceremoniously &amp; viciously stripped away from great patriots who have been badly &amp; unfairly treated for so long. Go home with love &amp; in peace. Remember this day forever!',\n",
       " 'https://t.co/Pm2PKV0Fp3',\n",
       " 'I am asking for everyone at the U.S. Capitol to remain peaceful. No violence! Remember, WE are the Party of Law &amp; Order – respect the Law and our great men and women in Blue. Thank you!',\n",
       " 'Please support our Capitol Police and Law Enforcement. They are truly on the side of our Country. Stay peaceful!',\n",
       " 'Mike Pence didn’t have the courage to do what should have been done to protect our Country and our Constitution, giving States a chance to certify a corrected set of facts, not the fraudulent or inaccurate ones which they were asked to previously certify. USA demands the truth!',\n",
       " 'https://t.co/izItBeFE6G',\n",
       " 'These scoundrels are only toying with the @sendavidperdue (a great guy) vote. Just didn’t want to announce quite yet. They’ve got as many ballots as are necessary. Rigged Election!']"
      ]
     },
     "execution_count": 100,
     "metadata": {},
     "output_type": "execute_result"
    }
   ],
   "source": [
    "trump_texts[0:10]"
   ]
  },
  {
   "cell_type": "code",
   "execution_count": 101,
   "metadata": {},
   "outputs": [
    {
     "name": "stdout",
     "output_type": "stream",
     "text": [
      "To all of those who have asked, I will not be going to the Inauguration on January 20th. \n",
      "\n",
      " {'neg': 0.0, 'neu': 1.0, 'pos': 0.0, 'compound': 0.0} \n",
      "---\n",
      "The 75,000,000 great American Patriots who voted for me, AMERICA FIRST, and MAKE AMERICA GREAT AGAIN, will have a GIANT VOICE long into the future. They will not be disrespected or treated unfairly in any way, shape or form!!! \n",
      "\n",
      " {'neg': 0.0, 'neu': 0.746, 'pos': 0.254, 'compound': 0.923} \n",
      "---\n",
      "https://t.co/csX07ZVWGe \n",
      "\n",
      " {'neg': 0.0, 'neu': 1.0, 'pos': 0.0, 'compound': 0.0} \n",
      "---\n",
      "These are the things and events that happen when a sacred landslide election victory is so unceremoniously &amp; viciously stripped away from great patriots who have been badly &amp; unfairly treated for so long. Go home with love &amp; in peace. Remember this day forever! \n",
      "\n",
      " {'neg': 0.098, 'neu': 0.693, 'pos': 0.209, 'compound': 0.814} \n",
      "---\n",
      "https://t.co/Pm2PKV0Fp3 \n",
      "\n",
      " {'neg': 0.0, 'neu': 1.0, 'pos': 0.0, 'compound': 0.0} \n",
      "---\n",
      "I am asking for everyone at the U.S. Capitol to remain peaceful. No violence! Remember, WE are the Party of Law &amp; Order – respect the Law and our great men and women in Blue. Thank you! \n",
      "\n",
      " {'neg': 0.0, 'neu': 0.614, 'pos': 0.386, 'compound': 0.9611} \n",
      "---\n",
      "Please support our Capitol Police and Law Enforcement. They are truly on the side of our Country. Stay peaceful! \n",
      "\n",
      " {'neg': 0.0, 'neu': 0.568, 'pos': 0.432, 'compound': 0.8858} \n",
      "---\n",
      "Mike Pence didn’t have the courage to do what should have been done to protect our Country and our Constitution, giving States a chance to certify a corrected set of facts, not the fraudulent or inaccurate ones which they were asked to previously certify. USA demands the truth! \n",
      "\n",
      " {'neg': 0.0, 'neu': 0.731, 'pos': 0.269, 'compound': 0.9249} \n",
      "---\n",
      "https://t.co/izItBeFE6G \n",
      "\n",
      " {'neg': 0.0, 'neu': 1.0, 'pos': 0.0, 'compound': 0.0} \n",
      "---\n",
      "These scoundrels are only toying with the @sendavidperdue (a great guy) vote. Just didn’t want to announce quite yet. They’ve got as many ballots as are necessary. Rigged Election! \n",
      "\n",
      " {'neg': 0.073, 'neu': 0.76, 'pos': 0.166, 'compound': 0.4926} \n",
      "---\n"
     ]
    }
   ],
   "source": [
    "for text in trump_texts[0:10]:\n",
    "    print(text, \"\\n\\n\", sentimentAnalyser.polarity_scores(text), \"\\n---\")"
   ]
  },
  {
   "cell_type": "code",
   "execution_count": 102,
   "metadata": {},
   "outputs": [
    {
     "name": "stdout",
     "output_type": "stream",
     "text": [
      "To all of those who have asked, I will not be going to the Inauguration on January 20th. \n",
      "\n",
      "Sentiment Score: 0.0\n",
      "---\n",
      "The 75,000,000 great American Patriots who voted for me, AMERICA FIRST, and MAKE AMERICA GREAT AGAIN, will have a GIANT VOICE long into the future. They will not be disrespected or treated unfairly in any way, shape or form!!! \n",
      "\n",
      "Sentiment Score: 0.923\n",
      "---\n",
      "https://t.co/csX07ZVWGe \n",
      "\n",
      "Sentiment Score: 0.0\n",
      "---\n",
      "These are the things and events that happen when a sacred landslide election victory is so unceremoniously &amp; viciously stripped away from great patriots who have been badly &amp; unfairly treated for so long. Go home with love &amp; in peace. Remember this day forever! \n",
      "\n",
      "Sentiment Score: 0.814\n",
      "---\n",
      "https://t.co/Pm2PKV0Fp3 \n",
      "\n",
      "Sentiment Score: 0.0\n",
      "---\n",
      "I am asking for everyone at the U.S. Capitol to remain peaceful. No violence! Remember, WE are the Party of Law &amp; Order – respect the Law and our great men and women in Blue. Thank you! \n",
      "\n",
      "Sentiment Score: 0.9611\n",
      "---\n",
      "Please support our Capitol Police and Law Enforcement. They are truly on the side of our Country. Stay peaceful! \n",
      "\n",
      "Sentiment Score: 0.8858\n",
      "---\n",
      "Mike Pence didn’t have the courage to do what should have been done to protect our Country and our Constitution, giving States a chance to certify a corrected set of facts, not the fraudulent or inaccurate ones which they were asked to previously certify. USA demands the truth! \n",
      "\n",
      "Sentiment Score: 0.9249\n",
      "---\n",
      "https://t.co/izItBeFE6G \n",
      "\n",
      "Sentiment Score: 0.0\n",
      "---\n",
      "These scoundrels are only toying with the @sendavidperdue (a great guy) vote. Just didn’t want to announce quite yet. They’ve got as many ballots as are necessary. Rigged Election! \n",
      "\n",
      "Sentiment Score: 0.4926\n",
      "---\n"
     ]
    }
   ],
   "source": [
    "for text in trump_texts[0:10]:\n",
    "    print(text, f\"\\n\\nSentiment Score: {sentimentAnalyser.polarity_scores(text)['compound']}\\n---\")"
   ]
  },
  {
   "cell_type": "code",
   "execution_count": 103,
   "metadata": {},
   "outputs": [],
   "source": [
    "def calculate_sentiment(text):\n",
    "    scores = sentimentAnalyser.polarity_scores(text)\n",
    "    compound_score = scores['compound']\n",
    "    return compound_score"
   ]
  },
  {
   "cell_type": "code",
   "execution_count": 104,
   "metadata": {},
   "outputs": [],
   "source": [
    "trump_df['sentiment_score'] = trump_df['text'].apply(calculate_sentiment)"
   ]
  },
  {
   "cell_type": "code",
   "execution_count": 106,
   "metadata": {},
   "outputs": [
    {
     "data": {
      "text/html": [
       "<div>\n",
       "<style scoped>\n",
       "    .dataframe tbody tr th:only-of-type {\n",
       "        vertical-align: middle;\n",
       "    }\n",
       "\n",
       "    .dataframe tbody tr th {\n",
       "        vertical-align: top;\n",
       "    }\n",
       "\n",
       "    .dataframe thead th {\n",
       "        text-align: right;\n",
       "    }\n",
       "</style>\n",
       "<table border=\"1\" class=\"dataframe\">\n",
       "  <thead>\n",
       "    <tr style=\"text-align: right;\">\n",
       "      <th></th>\n",
       "      <th>text</th>\n",
       "      <th>isRetweet</th>\n",
       "      <th>isDeleted</th>\n",
       "      <th>device</th>\n",
       "      <th>favorites</th>\n",
       "      <th>retweets</th>\n",
       "      <th>date</th>\n",
       "      <th>isFlagged</th>\n",
       "      <th>sentiment_score</th>\n",
       "    </tr>\n",
       "  </thead>\n",
       "  <tbody>\n",
       "    <tr>\n",
       "      <th>23169</th>\n",
       "      <td>Congratulations to Patrick Reed on his great and courageous MASTERS win! When Patrick had his amazing win at Doral 5 years ago, people saw his great talent, and a bright future ahead. Now he is the Masters Champion!</td>\n",
       "      <td>f</td>\n",
       "      <td>f</td>\n",
       "      <td>Twitter for iPhone</td>\n",
       "      <td>79374</td>\n",
       "      <td>10122</td>\n",
       "      <td>4/9/18 0:43</td>\n",
       "      <td>f</td>\n",
       "      <td>0.9899</td>\n",
       "    </tr>\n",
       "    <tr>\n",
       "      <th>5169</th>\n",
       "      <td>Today, it was my great honor to proudly accept the endorsement of the @NYCPBA! I have deeply and profoundly admired the brave men and women of the #NYPD for my entire life. New York’s Finest are truly the best of the best — I will NEVER let you down! #MAGA https://t.co/o1l5kAx34v</td>\n",
       "      <td>f</td>\n",
       "      <td>f</td>\n",
       "      <td>Twitter for iPhone</td>\n",
       "      <td>86425</td>\n",
       "      <td>22183</td>\n",
       "      <td>8/15/20 3:59</td>\n",
       "      <td>f</td>\n",
       "      <td>0.9879</td>\n",
       "    </tr>\n",
       "    <tr>\n",
       "      <th>7200</th>\n",
       "      <td>I am a big fan of Drew Brees. I think he’s truly one of the greatest quarterbacks, but he should not have taken back his original stance on honoring our magnificent American Flag. OLD GLORY is to be revered, cherished, and flown high...</td>\n",
       "      <td>f</td>\n",
       "      <td>f</td>\n",
       "      <td>Twitter for iPhone</td>\n",
       "      <td>267196</td>\n",
       "      <td>48513</td>\n",
       "      <td>6/5/20 20:08</td>\n",
       "      <td>f</td>\n",
       "      <td>0.9879</td>\n",
       "    </tr>\n",
       "    <tr>\n",
       "      <th>2490</th>\n",
       "      <td>It was great to be back in North Carolina with thousands of loyal, hardworking American Patriots! This election is a simple choice: If Biden Wins, China Wins. When WE Win, YOU WIN, North Carolina WINS, and America WINS! https://t.co/jWYVYZdT3E</td>\n",
       "      <td>f</td>\n",
       "      <td>f</td>\n",
       "      <td>Twitter for iPhone</td>\n",
       "      <td>46024</td>\n",
       "      <td>10955</td>\n",
       "      <td>10/15/20 19:20</td>\n",
       "      <td>f</td>\n",
       "      <td>0.9876</td>\n",
       "    </tr>\n",
       "    <tr>\n",
       "      <th>11615</th>\n",
       "      <td>95% Approval Rating in the Republican Party. Thank you! 191 Federal Judges (a record), and two Supreme Court Justices, approved. Best Economy &amp;amp; Employment Numbers EVER. Thank you to our great New, Smart and Nimble REPUBLICAN PARTY. Join now, it’s where people want to be!</td>\n",
       "      <td>f</td>\n",
       "      <td>f</td>\n",
       "      <td>Twitter for iPhone</td>\n",
       "      <td>110818</td>\n",
       "      <td>23498</td>\n",
       "      <td>1/26/20 16:24</td>\n",
       "      <td>f</td>\n",
       "      <td>0.9869</td>\n",
       "    </tr>\n",
       "    <tr>\n",
       "      <th>40498</th>\n",
       "      <td>Good luck and best wishes to my dear friend, the wonderful and very talented Joan Rivers!  Winner of Celebrity Apprentice, amazing woman.</td>\n",
       "      <td>f</td>\n",
       "      <td>f</td>\n",
       "      <td>Twitter for Android</td>\n",
       "      <td>456</td>\n",
       "      <td>199</td>\n",
       "      <td>8/29/14 3:05</td>\n",
       "      <td>f</td>\n",
       "      <td>0.9857</td>\n",
       "    </tr>\n",
       "    <tr>\n",
       "      <th>15776</th>\n",
       "      <td>We are all united by the same love of Country, the same devotion to family, and the same profound faith that America is blessed by the eternal grace of ALMIGHTY GOD! Bound by these convictions, we will campaign for every vote &amp;amp, we will WIN the Great State of NEW MEXICO in 2020! https://t.co/BV5Wxs5GxE</td>\n",
       "      <td>f</td>\n",
       "      <td>f</td>\n",
       "      <td>Twitter for iPhone</td>\n",
       "      <td>73144</td>\n",
       "      <td>18191</td>\n",
       "      <td>9/17/19 3:42</td>\n",
       "      <td>f</td>\n",
       "      <td>0.9856</td>\n",
       "    </tr>\n",
       "    <tr>\n",
       "      <th>20188</th>\n",
       "      <td>Here we go with Mitt Romney, but so fast! Question will be, is he a Flake?  I hope not. Would much prefer that Mitt focus on Border Security and so many other things where he can be helpful. I won big, and he didn’t. He should be happy for all Republicans. Be a TEAM player &amp;amp, WIN!</td>\n",
       "      <td>f</td>\n",
       "      <td>f</td>\n",
       "      <td>Twitter for iPhone</td>\n",
       "      <td>154068</td>\n",
       "      <td>30352</td>\n",
       "      <td>1/2/19 12:53</td>\n",
       "      <td>f</td>\n",
       "      <td>0.9843</td>\n",
       "    </tr>\n",
       "    <tr>\n",
       "      <th>20863</th>\n",
       "      <td>Congressman Kevin Brady of Texas is so popular in his District, and far beyond, that he doesn’t need any help - but I am giving it to him anyway. He is a great guy and the absolute “King” of Cutting Taxes. Highly respected by all, he loves his State &amp;amp, Country. Strong Endorsement!</td>\n",
       "      <td>f</td>\n",
       "      <td>f</td>\n",
       "      <td>Twitter for iPhone</td>\n",
       "      <td>49255</td>\n",
       "      <td>11554</td>\n",
       "      <td>10/30/18 12:25</td>\n",
       "      <td>f</td>\n",
       "      <td>0.9841</td>\n",
       "    </tr>\n",
       "    <tr>\n",
       "      <th>20136</th>\n",
       "      <td>Congratulations to a truly great football team, the Clemson Tigers, on an incredible win last night against a powerful Alabama team. A big win also for the Great State of South Carolina. Look forward to seeing the team, and their brilliant coach, for the second time at the W.H.</td>\n",
       "      <td>f</td>\n",
       "      <td>f</td>\n",
       "      <td>Twitter for iPhone</td>\n",
       "      <td>118681</td>\n",
       "      <td>17159</td>\n",
       "      <td>1/8/19 14:42</td>\n",
       "      <td>f</td>\n",
       "      <td>0.9841</td>\n",
       "    </tr>\n",
       "    <tr>\n",
       "      <th>22526</th>\n",
       "      <td>My supporters are the smartest, strongest, most hard working and most loyal that we have seen in our countries history. It is a beautiful thing to watch as we win elections and gather support from all over the country. As we get stronger, so does our country. Best numbers ever!</td>\n",
       "      <td>f</td>\n",
       "      <td>f</td>\n",
       "      <td>Twitter for iPhone</td>\n",
       "      <td>159237</td>\n",
       "      <td>35711</td>\n",
       "      <td>6/16/18 13:12</td>\n",
       "      <td>f</td>\n",
       "      <td>0.9834</td>\n",
       "    </tr>\n",
       "    <tr>\n",
       "      <th>4203</th>\n",
       "      <td>Congratulations to Dustin Johnson @DJohnsonPGA on not only a great winning streak and golf season, but on capping it off with a fantastic @PGA Tour Championship and becoming the 2020 FEDEXCUP Champion. Dustin is a true WINNER in so many ways!</td>\n",
       "      <td>f</td>\n",
       "      <td>f</td>\n",
       "      <td>Twitter for iPhone</td>\n",
       "      <td>62769</td>\n",
       "      <td>9648</td>\n",
       "      <td>9/7/20 22:30</td>\n",
       "      <td>f</td>\n",
       "      <td>0.9833</td>\n",
       "    </tr>\n",
       "    <tr>\n",
       "      <th>15701</th>\n",
       "      <td>I want to express my gratitude to America’s magnificent @FLOTUS for tonight’s exquisite evening where we celebrated more than a century of loyal and devoted friendship between🇺🇸🇦🇺Both of our nations are blessed by uncommon courage, unfailing commitment, and unyielding character! https://t.co/i61cHCZYlD</td>\n",
       "      <td>f</td>\n",
       "      <td>f</td>\n",
       "      <td>Twitter for iPhone</td>\n",
       "      <td>107655</td>\n",
       "      <td>20802</td>\n",
       "      <td>9/21/19 4:11</td>\n",
       "      <td>f</td>\n",
       "      <td>0.9832</td>\n",
       "    </tr>\n",
       "    <tr>\n",
       "      <th>14580</th>\n",
       "      <td>It was my great honor to deliver the keynote address at the 2019 Second Step Presidential Justice Forum hosted by the 20/20 Bipartisan Justice Center in South Carolina, and my true honor to receive the Bipartisan Justice Award, thank you! https://t.co/uF9IWnI1pH</td>\n",
       "      <td>f</td>\n",
       "      <td>f</td>\n",
       "      <td>Twitter for iPhone</td>\n",
       "      <td>58045</td>\n",
       "      <td>15502</td>\n",
       "      <td>10/25/19 19:51</td>\n",
       "      <td>f</td>\n",
       "      <td>0.9831</td>\n",
       "    </tr>\n",
       "    <tr>\n",
       "      <th>46785</th>\n",
       "      <td>\"\"\"@barnard_sonja: @realDonaldTrump I wish I had your confidence!\"\"  WIN, WIN, WIN and you will develop great confidence!\"</td>\n",
       "      <td>f</td>\n",
       "      <td>f</td>\n",
       "      <td>Twitter for Android</td>\n",
       "      <td>19</td>\n",
       "      <td>14</td>\n",
       "      <td>7/24/13 12:35</td>\n",
       "      <td>f</td>\n",
       "      <td>0.9828</td>\n",
       "    </tr>\n",
       "  </tbody>\n",
       "</table>\n",
       "</div>"
      ],
      "text/plain": [
       "                                                                                                                                                                                                                                                                                                                     text  \\\n",
       "23169                                                                                             Congratulations to Patrick Reed on his great and courageous MASTERS win! When Patrick had his amazing win at Doral 5 years ago, people saw his great talent, and a bright future ahead. Now he is the Masters Champion!   \n",
       "5169                             Today, it was my great honor to proudly accept the endorsement of the @NYCPBA! I have deeply and profoundly admired the brave men and women of the #NYPD for my entire life. New York’s Finest are truly the best of the best — I will NEVER let you down! #MAGA https://t.co/o1l5kAx34v   \n",
       "7200                                                                         I am a big fan of Drew Brees. I think he’s truly one of the greatest quarterbacks, but he should not have taken back his original stance on honoring our magnificent American Flag. OLD GLORY is to be revered, cherished, and flown high...   \n",
       "2490                                                                  It was great to be back in North Carolina with thousands of loyal, hardworking American Patriots! This election is a simple choice: If Biden Wins, China Wins. When WE Win, YOU WIN, North Carolina WINS, and America WINS! https://t.co/jWYVYZdT3E   \n",
       "11615                                 95% Approval Rating in the Republican Party. Thank you! 191 Federal Judges (a record), and two Supreme Court Justices, approved. Best Economy &amp; Employment Numbers EVER. Thank you to our great New, Smart and Nimble REPUBLICAN PARTY. Join now, it’s where people want to be!   \n",
       "40498                                                                                                                                                                           Good luck and best wishes to my dear friend, the wonderful and very talented Joan Rivers!  Winner of Celebrity Apprentice, amazing woman.   \n",
       "15776  We are all united by the same love of Country, the same devotion to family, and the same profound faith that America is blessed by the eternal grace of ALMIGHTY GOD! Bound by these convictions, we will campaign for every vote &amp, we will WIN the Great State of NEW MEXICO in 2020! https://t.co/BV5Wxs5GxE   \n",
       "20188                        Here we go with Mitt Romney, but so fast! Question will be, is he a Flake?  I hope not. Would much prefer that Mitt focus on Border Security and so many other things where he can be helpful. I won big, and he didn’t. He should be happy for all Republicans. Be a TEAM player &amp, WIN!   \n",
       "20863                        Congressman Kevin Brady of Texas is so popular in his District, and far beyond, that he doesn’t need any help - but I am giving it to him anyway. He is a great guy and the absolute “King” of Cutting Taxes. Highly respected by all, he loves his State &amp, Country. Strong Endorsement!   \n",
       "20136                              Congratulations to a truly great football team, the Clemson Tigers, on an incredible win last night against a powerful Alabama team. A big win also for the Great State of South Carolina. Look forward to seeing the team, and their brilliant coach, for the second time at the W.H.   \n",
       "22526                              My supporters are the smartest, strongest, most hard working and most loyal that we have seen in our countries history. It is a beautiful thing to watch as we win elections and gather support from all over the country. As we get stronger, so does our country. Best numbers ever!   \n",
       "4203                                                                   Congratulations to Dustin Johnson @DJohnsonPGA on not only a great winning streak and golf season, but on capping it off with a fantastic @PGA Tour Championship and becoming the 2020 FEDEXCUP Champion. Dustin is a true WINNER in so many ways!   \n",
       "15701     I want to express my gratitude to America’s magnificent @FLOTUS for tonight’s exquisite evening where we celebrated more than a century of loyal and devoted friendship between🇺🇸🇦🇺Both of our nations are blessed by uncommon courage, unfailing commitment, and unyielding character! https://t.co/i61cHCZYlD   \n",
       "14580                                              It was my great honor to deliver the keynote address at the 2019 Second Step Presidential Justice Forum hosted by the 20/20 Bipartisan Justice Center in South Carolina, and my true honor to receive the Bipartisan Justice Award, thank you! https://t.co/uF9IWnI1pH   \n",
       "46785                                                                                                                                                                                          \"\"\"@barnard_sonja: @realDonaldTrump I wish I had your confidence!\"\"  WIN, WIN, WIN and you will develop great confidence!\"   \n",
       "\n",
       "      isRetweet isDeleted               device  favorites  retweets  \\\n",
       "23169         f         f   Twitter for iPhone      79374     10122   \n",
       "5169          f         f   Twitter for iPhone      86425     22183   \n",
       "7200          f         f   Twitter for iPhone     267196     48513   \n",
       "2490          f         f   Twitter for iPhone      46024     10955   \n",
       "11615         f         f   Twitter for iPhone     110818     23498   \n",
       "40498         f         f  Twitter for Android        456       199   \n",
       "15776         f         f   Twitter for iPhone      73144     18191   \n",
       "20188         f         f   Twitter for iPhone     154068     30352   \n",
       "20863         f         f   Twitter for iPhone      49255     11554   \n",
       "20136         f         f   Twitter for iPhone     118681     17159   \n",
       "22526         f         f   Twitter for iPhone     159237     35711   \n",
       "4203          f         f   Twitter for iPhone      62769      9648   \n",
       "15701         f         f   Twitter for iPhone     107655     20802   \n",
       "14580         f         f   Twitter for iPhone      58045     15502   \n",
       "46785         f         f  Twitter for Android         19        14   \n",
       "\n",
       "                 date isFlagged  sentiment_score  \n",
       "23169     4/9/18 0:43         f           0.9899  \n",
       "5169     8/15/20 3:59         f           0.9879  \n",
       "7200     6/5/20 20:08         f           0.9879  \n",
       "2490   10/15/20 19:20         f           0.9876  \n",
       "11615   1/26/20 16:24         f           0.9869  \n",
       "40498    8/29/14 3:05         f           0.9857  \n",
       "15776    9/17/19 3:42         f           0.9856  \n",
       "20188    1/2/19 12:53         f           0.9843  \n",
       "20863  10/30/18 12:25         f           0.9841  \n",
       "20136    1/8/19 14:42         f           0.9841  \n",
       "22526   6/16/18 13:12         f           0.9834  \n",
       "4203     9/7/20 22:30         f           0.9833  \n",
       "15701    9/21/19 4:11         f           0.9832  \n",
       "14580  10/25/19 19:51         f           0.9831  \n",
       "46785   7/24/13 12:35         f           0.9828  "
      ]
     },
     "execution_count": 106,
     "metadata": {},
     "output_type": "execute_result"
    }
   ],
   "source": [
    "trump_df.sort_values(by='sentiment_score', ascending=False)[:15]"
   ]
  },
  {
   "cell_type": "code",
   "execution_count": 107,
   "metadata": {},
   "outputs": [
    {
     "data": {
      "text/html": [
       "<div>\n",
       "<style scoped>\n",
       "    .dataframe tbody tr th:only-of-type {\n",
       "        vertical-align: middle;\n",
       "    }\n",
       "\n",
       "    .dataframe tbody tr th {\n",
       "        vertical-align: top;\n",
       "    }\n",
       "\n",
       "    .dataframe thead th {\n",
       "        text-align: right;\n",
       "    }\n",
       "</style>\n",
       "<table border=\"1\" class=\"dataframe\">\n",
       "  <thead>\n",
       "    <tr style=\"text-align: right;\">\n",
       "      <th></th>\n",
       "      <th>text</th>\n",
       "      <th>isRetweet</th>\n",
       "      <th>isDeleted</th>\n",
       "      <th>device</th>\n",
       "      <th>favorites</th>\n",
       "      <th>retweets</th>\n",
       "      <th>date</th>\n",
       "      <th>isFlagged</th>\n",
       "      <th>sentiment_score</th>\n",
       "    </tr>\n",
       "  </thead>\n",
       "  <tbody>\n",
       "    <tr>\n",
       "      <th>3728</th>\n",
       "      <td>According to press reports, Iran may be planning an assassination, or other attack, against the United States in retaliation for the killing of terrorist leader Soleimani, which was carried out for his planning a future attack, murdering U.S. Troops, and the death &amp;amp; suffering...</td>\n",
       "      <td>f</td>\n",
       "      <td>f</td>\n",
       "      <td>Twitter for iPhone</td>\n",
       "      <td>120885</td>\n",
       "      <td>32175</td>\n",
       "      <td>9/15/20 3:04</td>\n",
       "      <td>f</td>\n",
       "      <td>-0.9829</td>\n",
       "    </tr>\n",
       "    <tr>\n",
       "      <th>21749</th>\n",
       "      <td>It is outrageous that Poisonous Synthetic Heroin Fentanyl comes pouring into the U.S. Postal System from China. We can, and must, END THIS NOW! The Senate should pass the STOP ACT – and firmly STOP this poison from killing our children and destroying our country. No more delay!</td>\n",
       "      <td>f</td>\n",
       "      <td>f</td>\n",
       "      <td>Twitter for iPhone</td>\n",
       "      <td>89183</td>\n",
       "      <td>23153</td>\n",
       "      <td>8/20/18 17:14</td>\n",
       "      <td>f</td>\n",
       "      <td>-0.9825</td>\n",
       "    </tr>\n",
       "    <tr>\n",
       "      <th>1552</th>\n",
       "      <td>Our prayers are with the people of Vienna after yet another vile act of terrorism in Europe. These evil attacks against innocent people must stop. The U.S. stands with Austria, France, and all of Europe in the fight against terrorists, including radical Islamic terrorists.</td>\n",
       "      <td>f</td>\n",
       "      <td>f</td>\n",
       "      <td>Twitter for iPhone</td>\n",
       "      <td>236684</td>\n",
       "      <td>39564</td>\n",
       "      <td>11/3/20 4:25</td>\n",
       "      <td>f</td>\n",
       "      <td>-0.9810</td>\n",
       "    </tr>\n",
       "    <tr>\n",
       "      <th>7096</th>\n",
       "      <td>Colin Powell was a pathetic interview today on Fake News CNN. In his time, he was weak &amp;amp; gave away everything to everybody - so bad for the USA. Also got the “weapons of mass destruction” totally wrong, and you know what that mistake cost us? Sad! Only negative questions asked.</td>\n",
       "      <td>f</td>\n",
       "      <td>f</td>\n",
       "      <td>Twitter for iPhone</td>\n",
       "      <td>127934</td>\n",
       "      <td>28175</td>\n",
       "      <td>6/8/20 3:42</td>\n",
       "      <td>f</td>\n",
       "      <td>-0.9800</td>\n",
       "    </tr>\n",
       "    <tr>\n",
       "      <th>21818</th>\n",
       "      <td>The Rigged Russian Witch Hunt goes on and on as the “originators and founders” of this scam continue to be fired and demoted for their corrupt and illegal activity. All credibility is gone from this terrible Hoax, and much more will be lost as it proceeds. No Collusion!</td>\n",
       "      <td>f</td>\n",
       "      <td>f</td>\n",
       "      <td>Twitter for iPhone</td>\n",
       "      <td>66924</td>\n",
       "      <td>15264</td>\n",
       "      <td>8/15/18 14:08</td>\n",
       "      <td>f</td>\n",
       "      <td>-0.9785</td>\n",
       "    </tr>\n",
       "    <tr>\n",
       "      <th>20367</th>\n",
       "      <td>At the request of many, I will be reviewing the case of a “U.S. Military hero,” Major Matt Golsteyn, who is charged with murder. He could face the death penalty from our own government after he admitted to killing a Terrorist bomb maker while overseas. @PeteHegseth @FoxNews</td>\n",
       "      <td>f</td>\n",
       "      <td>f</td>\n",
       "      <td>Twitter for iPhone</td>\n",
       "      <td>87158</td>\n",
       "      <td>21270</td>\n",
       "      <td>12/16/18 15:03</td>\n",
       "      <td>f</td>\n",
       "      <td>-0.9783</td>\n",
       "    </tr>\n",
       "    <tr>\n",
       "      <th>15969</th>\n",
       "      <td>...But most importantly, @CNN is bad for the USA. Their International Division spews bad information &amp;amp, Fake News all over the globe. This is why foreign leaders are always asking me, “Why does the Media hate the U.S. sooo much?” It is a fraudulent shame, &amp;amp, all comes from the top!</td>\n",
       "      <td>f</td>\n",
       "      <td>f</td>\n",
       "      <td>Twitter for iPhone</td>\n",
       "      <td>45089</td>\n",
       "      <td>10539</td>\n",
       "      <td>9/9/19 13:01</td>\n",
       "      <td>f</td>\n",
       "      <td>-0.9773</td>\n",
       "    </tr>\n",
       "    <tr>\n",
       "      <th>432</th>\n",
       "      <td>Swing States that have found massive VOTER FRAUD, which is all of them, CANNOT LEGALLY CERTIFY these votes as complete &amp;amp; correct without committing a severely punishable crime. Everybody knows that dead people, below age people, illegal immigrants, fake signatures, prisoners,....</td>\n",
       "      <td>f</td>\n",
       "      <td>f</td>\n",
       "      <td>Twitter for iPhone</td>\n",
       "      <td>245205</td>\n",
       "      <td>60394</td>\n",
       "      <td>12/13/20 22:49</td>\n",
       "      <td>f</td>\n",
       "      <td>-0.9772</td>\n",
       "    </tr>\n",
       "    <tr>\n",
       "      <th>18393</th>\n",
       "      <td>....employment numbers ever, low taxes &amp;amp, regulations, a rebuilt military &amp;amp, V.A., many great new judges, &amp;amp, so much more. But we have had a giant SCAM perpetrated upon our nation, a Witch Hunt, a Treasonous Hoax. That is the Constitutional Crisis &amp;amp, hopefully guilty people will pay!</td>\n",
       "      <td>f</td>\n",
       "      <td>f</td>\n",
       "      <td>Twitter for iPhone</td>\n",
       "      <td>63870</td>\n",
       "      <td>14228</td>\n",
       "      <td>5/12/19 21:35</td>\n",
       "      <td>f</td>\n",
       "      <td>-0.9771</td>\n",
       "    </tr>\n",
       "    <tr>\n",
       "      <th>19563</th>\n",
       "      <td>...said was a total lie, but Fake Media won’t show it. I am an innocent man being persecuted by some very bad, conflicted &amp;amp, corrupt people in a Witch Hunt that is illegal &amp;amp, should never have been allowed to start - And only because I won the Election! Despite this, great success!</td>\n",
       "      <td>f</td>\n",
       "      <td>f</td>\n",
       "      <td>Twitter for iPhone</td>\n",
       "      <td>108241</td>\n",
       "      <td>21889</td>\n",
       "      <td>3/3/19 15:44</td>\n",
       "      <td>f</td>\n",
       "      <td>-0.9765</td>\n",
       "    </tr>\n",
       "    <tr>\n",
       "      <th>23132</th>\n",
       "      <td>DOJ just issued the McCabe report - which is a total disaster. He LIED! LIED! LIED! McCabe was totally controlled by Comey - McCabe is Comey!! No collusion, all made up by this den of thieves and lowlifes!</td>\n",
       "      <td>f</td>\n",
       "      <td>f</td>\n",
       "      <td>Twitter for iPhone</td>\n",
       "      <td>106387</td>\n",
       "      <td>28625</td>\n",
       "      <td>4/13/18 19:36</td>\n",
       "      <td>f</td>\n",
       "      <td>-0.9764</td>\n",
       "    </tr>\n",
       "    <tr>\n",
       "      <th>1097</th>\n",
       "      <td>Wrong! At first they voted against because there were far more VOTES than PEOPLE (Sad!). Then they were threatened, screamed at and viciously harassed, and were FORCED to change their vote, but then REFUSED, as American patriots, to sign the documents. 71% MESS. Don’t Harass! https://t.co/n5frpesHfD</td>\n",
       "      <td>f</td>\n",
       "      <td>f</td>\n",
       "      <td>Twitter for iPhone</td>\n",
       "      <td>139281</td>\n",
       "      <td>37876</td>\n",
       "      <td>11/18/20 13:55</td>\n",
       "      <td>t</td>\n",
       "      <td>-0.9762</td>\n",
       "    </tr>\n",
       "    <tr>\n",
       "      <th>1842</th>\n",
       "      <td>Failed RINO former Governor Rick Snyder of Michigan was a disaster with respect to the Flint Water CATASTROPHE, and a very bad Governor overall. He hurt so many people with his gross incompetence. He reminds me of Sleepy Joe!</td>\n",
       "      <td>f</td>\n",
       "      <td>f</td>\n",
       "      <td>Twitter for iPhone</td>\n",
       "      <td>101655</td>\n",
       "      <td>20252</td>\n",
       "      <td>10/29/20 23:34</td>\n",
       "      <td>f</td>\n",
       "      <td>-0.9759</td>\n",
       "    </tr>\n",
       "    <tr>\n",
       "      <th>1881</th>\n",
       "      <td>Who is Miles Taylor? Said he was “anonymous”, but I don’t know him - never even heard of him. Just another @nytimes SCAM - he worked in conjunction with them. Also worked for Big Tech’s @Google. Now works for Fake News @CNN. They should fire, shame, and punish everybody....</td>\n",
       "      <td>f</td>\n",
       "      <td>f</td>\n",
       "      <td>Twitter for iPhone</td>\n",
       "      <td>107533</td>\n",
       "      <td>25128</td>\n",
       "      <td>10/28/20 21:42</td>\n",
       "      <td>f</td>\n",
       "      <td>-0.9754</td>\n",
       "    </tr>\n",
       "    <tr>\n",
       "      <th>20071</th>\n",
       "      <td>The Trump portrait of an unsustainable Border Crisis is dead on. “In the last two years, ICE officers made 266,000 arrests of aliens with Criminal Records, including those charged or convicted of 100,000 assaults, 30,000 sex crimes &amp;amp, 4000 violent killings.” America’s Southern....</td>\n",
       "      <td>f</td>\n",
       "      <td>f</td>\n",
       "      <td>Twitter for iPhone</td>\n",
       "      <td>70467</td>\n",
       "      <td>17696</td>\n",
       "      <td>1/14/19 3:12</td>\n",
       "      <td>f</td>\n",
       "      <td>-0.9747</td>\n",
       "    </tr>\n",
       "  </tbody>\n",
       "</table>\n",
       "</div>"
      ],
      "text/plain": [
       "                                                                                                                                                                                                                                                                                                               text  \\\n",
       "3728                    According to press reports, Iran may be planning an assassination, or other attack, against the United States in retaliation for the killing of terrorist leader Soleimani, which was carried out for his planning a future attack, murdering U.S. Troops, and the death &amp; suffering...   \n",
       "21749                        It is outrageous that Poisonous Synthetic Heroin Fentanyl comes pouring into the U.S. Postal System from China. We can, and must, END THIS NOW! The Senate should pass the STOP ACT – and firmly STOP this poison from killing our children and destroying our country. No more delay!   \n",
       "1552                              Our prayers are with the people of Vienna after yet another vile act of terrorism in Europe. These evil attacks against innocent people must stop. The U.S. stands with Austria, France, and all of Europe in the fight against terrorists, including radical Islamic terrorists.   \n",
       "7096                     Colin Powell was a pathetic interview today on Fake News CNN. In his time, he was weak &amp; gave away everything to everybody - so bad for the USA. Also got the “weapons of mass destruction” totally wrong, and you know what that mistake cost us? Sad! Only negative questions asked.   \n",
       "21818                                The Rigged Russian Witch Hunt goes on and on as the “originators and founders” of this scam continue to be fired and demoted for their corrupt and illegal activity. All credibility is gone from this terrible Hoax, and much more will be lost as it proceeds. No Collusion!   \n",
       "20367                            At the request of many, I will be reviewing the case of a “U.S. Military hero,” Major Matt Golsteyn, who is charged with murder. He could face the death penalty from our own government after he admitted to killing a Terrorist bomb maker while overseas. @PeteHegseth @FoxNews   \n",
       "15969              ...But most importantly, @CNN is bad for the USA. Their International Division spews bad information &amp, Fake News all over the globe. This is why foreign leaders are always asking me, “Why does the Media hate the U.S. sooo much?” It is a fraudulent shame, &amp, all comes from the top!   \n",
       "432                    Swing States that have found massive VOTER FRAUD, which is all of them, CANNOT LEGALLY CERTIFY these votes as complete &amp; correct without committing a severely punishable crime. Everybody knows that dead people, below age people, illegal immigrants, fake signatures, prisoners,....   \n",
       "18393      ....employment numbers ever, low taxes &amp, regulations, a rebuilt military &amp, V.A., many great new judges, &amp, so much more. But we have had a giant SCAM perpetrated upon our nation, a Witch Hunt, a Treasonous Hoax. That is the Constitutional Crisis &amp, hopefully guilty people will pay!   \n",
       "19563              ...said was a total lie, but Fake Media won’t show it. I am an innocent man being persecuted by some very bad, conflicted &amp, corrupt people in a Witch Hunt that is illegal &amp, should never have been allowed to start - And only because I won the Election! Despite this, great success!   \n",
       "23132                                                                                                 DOJ just issued the McCabe report - which is a total disaster. He LIED! LIED! LIED! McCabe was totally controlled by Comey - McCabe is Comey!! No collusion, all made up by this den of thieves and lowlifes!   \n",
       "1097   Wrong! At first they voted against because there were far more VOTES than PEOPLE (Sad!). Then they were threatened, screamed at and viciously harassed, and were FORCED to change their vote, but then REFUSED, as American patriots, to sign the documents. 71% MESS. Don’t Harass! https://t.co/n5frpesHfD   \n",
       "1842                                                                              Failed RINO former Governor Rick Snyder of Michigan was a disaster with respect to the Flint Water CATASTROPHE, and a very bad Governor overall. He hurt so many people with his gross incompetence. He reminds me of Sleepy Joe!   \n",
       "1881                             Who is Miles Taylor? Said he was “anonymous”, but I don’t know him - never even heard of him. Just another @nytimes SCAM - he worked in conjunction with them. Also worked for Big Tech’s @Google. Now works for Fake News @CNN. They should fire, shame, and punish everybody....   \n",
       "20071                  The Trump portrait of an unsustainable Border Crisis is dead on. “In the last two years, ICE officers made 266,000 arrests of aliens with Criminal Records, including those charged or convicted of 100,000 assaults, 30,000 sex crimes &amp, 4000 violent killings.” America’s Southern....   \n",
       "\n",
       "      isRetweet isDeleted              device  favorites  retweets  \\\n",
       "3728          f         f  Twitter for iPhone     120885     32175   \n",
       "21749         f         f  Twitter for iPhone      89183     23153   \n",
       "1552          f         f  Twitter for iPhone     236684     39564   \n",
       "7096          f         f  Twitter for iPhone     127934     28175   \n",
       "21818         f         f  Twitter for iPhone      66924     15264   \n",
       "20367         f         f  Twitter for iPhone      87158     21270   \n",
       "15969         f         f  Twitter for iPhone      45089     10539   \n",
       "432           f         f  Twitter for iPhone     245205     60394   \n",
       "18393         f         f  Twitter for iPhone      63870     14228   \n",
       "19563         f         f  Twitter for iPhone     108241     21889   \n",
       "23132         f         f  Twitter for iPhone     106387     28625   \n",
       "1097          f         f  Twitter for iPhone     139281     37876   \n",
       "1842          f         f  Twitter for iPhone     101655     20252   \n",
       "1881          f         f  Twitter for iPhone     107533     25128   \n",
       "20071         f         f  Twitter for iPhone      70467     17696   \n",
       "\n",
       "                 date isFlagged  sentiment_score  \n",
       "3728     9/15/20 3:04         f          -0.9829  \n",
       "21749   8/20/18 17:14         f          -0.9825  \n",
       "1552     11/3/20 4:25         f          -0.9810  \n",
       "7096      6/8/20 3:42         f          -0.9800  \n",
       "21818   8/15/18 14:08         f          -0.9785  \n",
       "20367  12/16/18 15:03         f          -0.9783  \n",
       "15969    9/9/19 13:01         f          -0.9773  \n",
       "432    12/13/20 22:49         f          -0.9772  \n",
       "18393   5/12/19 21:35         f          -0.9771  \n",
       "19563    3/3/19 15:44         f          -0.9765  \n",
       "23132   4/13/18 19:36         f          -0.9764  \n",
       "1097   11/18/20 13:55         t          -0.9762  \n",
       "1842   10/29/20 23:34         f          -0.9759  \n",
       "1881   10/28/20 21:42         f          -0.9754  \n",
       "20071    1/14/19 3:12         f          -0.9747  "
      ]
     },
     "execution_count": 107,
     "metadata": {},
     "output_type": "execute_result"
    }
   ],
   "source": [
    "trump_df.sort_values(by='sentiment_score', ascending=True)[:15]"
   ]
  },
  {
   "cell_type": "code",
   "execution_count": 112,
   "metadata": {},
   "outputs": [],
   "source": [
    "trump_df['date'] = pd.to_datetime(trump_df['date'])"
   ]
  },
  {
   "cell_type": "code",
   "execution_count": 121,
   "metadata": {},
   "outputs": [
    {
     "data": {
      "text/plain": [
       "<AxesSubplot:xlabel='date'>"
      ]
     },
     "execution_count": 121,
     "metadata": {},
     "output_type": "execute_result"
    },
    {
     "data": {
      "image/png": "[encoded data removed]",
      "text/plain": [
       "<Figure size 432x288 with 1 Axes>"
      ]
     },
     "metadata": {
      "needs_background": "light"
     },
     "output_type": "display_data"
    }
   ],
   "source": [
    "trump_df.set_index('date').resample('M')['sentiment_score'].mean().plot()"
   ]
  },
  {
   "cell_type": "code",
   "execution_count": 113,
   "metadata": {},
   "outputs": [
    {
     "data": {
      "text/plain": [
       "<AxesSubplot:xlabel='date'>"
      ]
     },
     "execution_count": 113,
     "metadata": {},
     "output_type": "execute_result"
    },
    {
     "data": {
      "image/png": "[encoded data removed]",
      "text/plain": [
       "<Figure size 432x288 with 1 Axes>"
      ]
     },
     "metadata": {
      "needs_background": "light"
     },
     "output_type": "display_data"
    }
   ],
   "source": [
    "trump_df.plot(x='date', y='sentiment_score')"
   ]
  },
  {
   "cell_type": "code",
   "execution_count": 21,
   "metadata": {},
   "outputs": [],
   "source": [
    "text_file = \"../texts/literature/The-Yellow-Wallpaper_Charlotte-Perkins-Gilman.txt\"\n",
    "text = open(text_file, encoding=\"utf-8\").read()"
   ]
  },
  {
   "cell_type": "code",
   "execution_count": 22,
   "metadata": {},
   "outputs": [],
   "source": [
    "import math\n",
    "number_of_chunks = 12\n",
    "\n",
    "chunk_size = math.ceil(len(text) / number_of_chunks)\n",
    "\n",
    "text_chunks = []\n",
    "\n",
    "for number in range(0, len(text), chunk_size):\n",
    "    text_chunk = text[number:number+chunk_size]\n",
    "    text_chunks.append(text_chunk)"
   ]
  },
  {
   "cell_type": "markdown",
   "metadata": {},
   "source": [
    "To break a string into individual sentences, we can use `nltk.sent_tokenize()`"
   ]
  },
  {
   "cell_type": "code",
   "execution_count": 26,
   "metadata": {},
   "outputs": [],
   "source": [
    "intro = text_chunks[0]"
   ]
  },
  {
   "cell_type": "code",
   "execution_count": 27,
   "metadata": {
    "scrolled": true,
    "tags": []
   },
   "outputs": [
    {
     "data": {
      "text/plain": [
       "['THE YELLOW WALLPAPER\\n\\nBy Charlotte Perkins Gilman\\n\\n\\n\\nIt is very seldom that mere ordinary people like John and myself secure\\nancestral halls for the summer.',\n",
       " 'A colonial mansion, a hereditary estate, I would say a haunted house, and\\nreach the height of romantic felicity—but that would be asking too\\nmuch of fate!',\n",
       " 'Still I will proudly declare that there is something queer about it.',\n",
       " 'Else, why should it be let so cheaply?',\n",
       " 'And why have stood so long\\nuntenanted?',\n",
       " 'John laughs at me, of course, but one expects that in marriage.',\n",
       " 'John is practical in the extreme.',\n",
       " 'He has no patience with faith, an\\nintense horror of superstition, and he scoffs openly at any talk of things\\nnot to be felt and seen and put down in figures.',\n",
       " 'John is a physician, and perhaps—(I would not say it to a living\\nsoul, of course, but this is dead paper and a great relief to my\\nmind)—perhaps that is one reason I do not get well faster.',\n",
       " 'You see, he does not believe I am sick!',\n",
       " 'And what can one do?',\n",
       " 'If a physician of high standing, and one’s own husband, assures friends\\nand relatives that there is really nothing the matter with one but\\ntemporary nervous depression—a slight hysterical tendency—what\\nis one to do?',\n",
       " 'My brother is also a physician, and also of high standing, and he says the\\nsame thing.',\n",
       " 'So I take phosphates or phosphites—whichever it is, and tonics, and\\njourneys, and air, and exercise, and am absolutely forbidden to “work”\\nuntil I am well again.',\n",
       " 'Personally, I disagree with their ideas.',\n",
       " 'Personally, I believe that congenial work, with excitement and change,\\nwould do me good.',\n",
       " 'But what is one to do?',\n",
       " 'I did write for a while in spite of them; but it does exhaust me a good\\ndeal—having to be so sly about it, or else meet with heavy\\nopposition.',\n",
       " 'I sometimes fancy that in my condition if I had less opposition and more\\nsociety and stimulus—but John says the very worst thing I can do is\\nto think about my condition, and I confess it always makes me feel bad.',\n",
       " 'So I will let it alone and talk about the house.',\n",
       " 'The most beautiful place!',\n",
       " 'It is quite alone, standing well back from the\\nroad, quite three miles from the village.',\n",
       " 'It makes me think of English\\nplaces that you read about, for there are hedges and walls and gates that\\nlock, and lots of separate little houses for the gardeners and people.',\n",
       " 'There is a delicious garden!',\n",
       " 'I never saw such a garden—large and\\nshady, full of box-bordered paths, and lined with long grape-covered\\narbors with seats under them.',\n",
       " 'There were greenhouses, too, but they are all broken now.',\n",
       " 'There was some legal trouble, I believe, something about the heirs and\\nco-heirs; anyhow, the place has be']"
      ]
     },
     "execution_count": 27,
     "metadata": {},
     "output_type": "execute_result"
    }
   ],
   "source": [
    "nltk.sent_tokenize(intro)"
   ]
  },
  {
   "cell_type": "code",
   "execution_count": 28,
   "metadata": {},
   "outputs": [],
   "source": [
    "sentences = nltk.sent_tokenize(intro)"
   ]
  },
  {
   "cell_type": "markdown",
   "metadata": {},
   "source": [
    "### Calculate Scores for Each Sentence"
   ]
  },
  {
   "cell_type": "markdown",
   "metadata": {},
   "source": [
    "We can loop through the sentences and calculate sentiment scores for every sentence.\n",
    "\n",
    "*How would we print just the \"compound\" score for each sentence?*"
   ]
  },
  {
   "cell_type": "code",
   "execution_count": 29,
   "metadata": {
    "scrolled": true
   },
   "outputs": [
    {
     "name": "stdout",
     "output_type": "stream",
     "text": [
      "THE YELLOW WALLPAPER\n",
      "\n",
      "By Charlotte Perkins Gilman\n",
      "\n",
      "\n",
      "\n",
      "It is very seldom that mere ordinary people like John and myself secure\n",
      "ancestral halls for the summer. \n",
      " {'neg': 0.0, 'neu': 0.824, 'pos': 0.176, 'compound': 0.5994} \n",
      "\n",
      "A colonial mansion, a hereditary estate, I would say a haunted house, and\n",
      "reach the height of romantic felicity—but that would be asking too\n",
      "much of fate! \n",
      " {'neg': 0.099, 'neu': 0.769, 'pos': 0.131, 'compound': -0.1511} \n",
      "\n",
      "Still I will proudly declare that there is something queer about it. \n",
      " {'neg': 0.0, 'neu': 0.753, 'pos': 0.247, 'compound': 0.5574} \n",
      "\n",
      "Else, why should it be let so cheaply? \n",
      " {'neg': 0.0, 'neu': 1.0, 'pos': 0.0, 'compound': 0.0} \n",
      "\n",
      "And why have stood so long\n",
      "untenanted? \n",
      " {'neg': 0.0, 'neu': 1.0, 'pos': 0.0, 'compound': 0.0} \n",
      "\n",
      "John laughs at me, of course, but one expects that in marriage. \n",
      " {'neg': 0.0, 'neu': 0.84, 'pos': 0.16, 'compound': 0.2732} \n",
      "\n",
      "John is practical in the extreme. \n",
      " {'neg': 0.0, 'neu': 1.0, 'pos': 0.0, 'compound': 0.0} \n",
      "\n",
      "He has no patience with faith, an\n",
      "intense horror of superstition, and he scoffs openly at any talk of things\n",
      "not to be felt and seen and put down in figures. \n",
      " {'neg': 0.159, 'neu': 0.73, 'pos': 0.111, 'compound': -0.4215} \n",
      "\n",
      "John is a physician, and perhaps—(I would not say it to a living\n",
      "soul, of course, but this is dead paper and a great relief to my\n",
      "mind)—perhaps that is one reason I do not get well faster. \n",
      " {'neg': 0.157, 'neu': 0.654, 'pos': 0.189, 'compound': 0.3877} \n",
      "\n",
      "You see, he does not believe I am sick! \n",
      " {'neg': 0.31, 'neu': 0.69, 'pos': 0.0, 'compound': -0.5562} \n",
      "\n",
      "And what can one do? \n",
      " {'neg': 0.0, 'neu': 1.0, 'pos': 0.0, 'compound': 0.0} \n",
      "\n",
      "If a physician of high standing, and one’s own husband, assures friends\n",
      "and relatives that there is really nothing the matter with one but\n",
      "temporary nervous depression—a slight hysterical tendency—what\n",
      "is one to do? \n",
      " {'neg': 0.101, 'neu': 0.767, 'pos': 0.132, 'compound': 0.044} \n",
      "\n",
      "My brother is also a physician, and also of high standing, and he says the\n",
      "same thing. \n",
      " {'neg': 0.0, 'neu': 1.0, 'pos': 0.0, 'compound': 0.0} \n",
      "\n",
      "So I take phosphates or phosphites—whichever it is, and tonics, and\n",
      "journeys, and air, and exercise, and am absolutely forbidden to “work”\n",
      "until I am well again. \n",
      " {'neg': 0.102, 'neu': 0.828, 'pos': 0.07, 'compound': -0.2484} \n",
      "\n",
      "Personally, I disagree with their ideas. \n",
      " {'neg': 0.342, 'neu': 0.658, 'pos': 0.0, 'compound': -0.3818} \n",
      "\n",
      "Personally, I believe that congenial work, with excitement and change,\n",
      "would do me good. \n",
      " {'neg': 0.0, 'neu': 0.663, 'pos': 0.337, 'compound': 0.7269} \n",
      "\n",
      "But what is one to do? \n",
      " {'neg': 0.0, 'neu': 1.0, 'pos': 0.0, 'compound': 0.0} \n",
      "\n",
      "I did write for a while in spite of them; but it does exhaust me a good\n",
      "deal—having to be so sly about it, or else meet with heavy\n",
      "opposition. \n",
      " {'neg': 0.11, 'neu': 0.779, 'pos': 0.111, 'compound': 0.2617} \n",
      "\n",
      "I sometimes fancy that in my condition if I had less opposition and more\n",
      "society and stimulus—but John says the very worst thing I can do is\n",
      "to think about my condition, and I confess it always makes me feel bad. \n",
      " {'neg': 0.168, 'neu': 0.832, 'pos': 0.0, 'compound': -0.8357} \n",
      "\n",
      "So I will let it alone and talk about the house. \n",
      " {'neg': 0.167, 'neu': 0.833, 'pos': 0.0, 'compound': -0.25} \n",
      "\n",
      "The most beautiful place! \n",
      " {'neg': 0.0, 'neu': 0.401, 'pos': 0.599, 'compound': 0.6689} \n",
      "\n",
      "It is quite alone, standing well back from the\n",
      "road, quite three miles from the village. \n",
      " {'neg': 0.123, 'neu': 0.75, 'pos': 0.127, 'compound': 0.0183} \n",
      "\n",
      "It makes me think of English\n",
      "places that you read about, for there are hedges and walls and gates that\n",
      "lock, and lots of separate little houses for the gardeners and people. \n",
      " {'neg': 0.0, 'neu': 1.0, 'pos': 0.0, 'compound': 0.0} \n",
      "\n",
      "There is a delicious garden! \n",
      " {'neg': 0.0, 'neu': 0.501, 'pos': 0.499, 'compound': 0.6114} \n",
      "\n",
      "I never saw such a garden—large and\n",
      "shady, full of box-bordered paths, and lined with long grape-covered\n",
      "arbors with seats under them. \n",
      " {'neg': 0.0, 'neu': 1.0, 'pos': 0.0, 'compound': 0.0} \n",
      "\n",
      "There were greenhouses, too, but they are all broken now. \n",
      " {'neg': 0.316, 'neu': 0.684, 'pos': 0.0, 'compound': -0.631} \n",
      "\n",
      "There was some legal trouble, I believe, something about the heirs and\n",
      "co-heirs; anyhow, the place has be \n",
      " {'neg': 0.134, 'neu': 0.792, 'pos': 0.074, 'compound': -0.296} \n",
      "\n"
     ]
    }
   ],
   "source": [
    "for sentence in sentences:\n",
    "    scores = sentimentAnalyser.polarity_scores(sentence)\n",
    "    \n",
    "    print(sentence, '\\n', scores, '\\n')"
   ]
  },
  {
   "cell_type": "markdown",
   "metadata": {},
   "source": [
    "### Make DataFrame"
   ]
  },
  {
   "cell_type": "markdown",
   "metadata": {},
   "source": [
    "A convenient way to make a DataFrame is to first make a list of dictionaries.\n",
    "\n",
    "Below we loop through the sentences, calculate sentiment scores, and then create a mini-dictionary with the sentence and compound score, which we append to the list `sentence_scores`."
   ]
  },
  {
   "cell_type": "code",
   "execution_count": 30,
   "metadata": {},
   "outputs": [],
   "source": [
    "sentence_scores = []\n",
    "for sentence in sentences:\n",
    "    scores = sentimentAnalyser.polarity_scores(sentence)\n",
    "    sentence_scores.append({'sentence': sentence, 'score': scores['compound']})"
   ]
  },
  {
   "cell_type": "markdown",
   "metadata": {},
   "source": [
    "To make this list of dictionaries into a DataFrame, we can simply use `pd.DataFrame()`"
   ]
  },
  {
   "cell_type": "code",
   "execution_count": 31,
   "metadata": {},
   "outputs": [
    {
     "data": {
      "text/html": [
       "<div>\n",
       "<style scoped>\n",
       "    .dataframe tbody tr th:only-of-type {\n",
       "        vertical-align: middle;\n",
       "    }\n",
       "\n",
       "    .dataframe tbody tr th {\n",
       "        vertical-align: top;\n",
       "    }\n",
       "\n",
       "    .dataframe thead th {\n",
       "        text-align: right;\n",
       "    }\n",
       "</style>\n",
       "<table border=\"1\" class=\"dataframe\">\n",
       "  <thead>\n",
       "    <tr style=\"text-align: right;\">\n",
       "      <th></th>\n",
       "      <th>sentence</th>\n",
       "      <th>score</th>\n",
       "    </tr>\n",
       "  </thead>\n",
       "  <tbody>\n",
       "    <tr>\n",
       "      <th>0</th>\n",
       "      <td>THE YELLOW WALLPAPER\\n\\nBy Charlotte Perkins Gilman\\n\\n\\n\\nIt is very seldom that mere ordinary people like John and myself secure\\nancestral halls for the summer.</td>\n",
       "      <td>0.5994</td>\n",
       "    </tr>\n",
       "    <tr>\n",
       "      <th>1</th>\n",
       "      <td>A colonial mansion, a hereditary estate, I would say a haunted house, and\\nreach the height of romantic felicity—but that would be asking too\\nmuch of fate!</td>\n",
       "      <td>-0.1511</td>\n",
       "    </tr>\n",
       "    <tr>\n",
       "      <th>2</th>\n",
       "      <td>Still I will proudly declare that there is something queer about it.</td>\n",
       "      <td>0.5574</td>\n",
       "    </tr>\n",
       "    <tr>\n",
       "      <th>3</th>\n",
       "      <td>Else, why should it be let so cheaply?</td>\n",
       "      <td>0.0000</td>\n",
       "    </tr>\n",
       "    <tr>\n",
       "      <th>4</th>\n",
       "      <td>And why have stood so long\\nuntenanted?</td>\n",
       "      <td>0.0000</td>\n",
       "    </tr>\n",
       "    <tr>\n",
       "      <th>5</th>\n",
       "      <td>John laughs at me, of course, but one expects that in marriage.</td>\n",
       "      <td>0.2732</td>\n",
       "    </tr>\n",
       "    <tr>\n",
       "      <th>6</th>\n",
       "      <td>John is practical in the extreme.</td>\n",
       "      <td>0.0000</td>\n",
       "    </tr>\n",
       "    <tr>\n",
       "      <th>7</th>\n",
       "      <td>He has no patience with faith, an\\nintense horror of superstition, and he scoffs openly at any talk of things\\nnot to be felt and seen and put down in figures.</td>\n",
       "      <td>-0.4215</td>\n",
       "    </tr>\n",
       "    <tr>\n",
       "      <th>8</th>\n",
       "      <td>John is a physician, and perhaps—(I would not say it to a living\\nsoul, of course, but this is dead paper and a great relief to my\\nmind)—perhaps that is one reason I do not get well faster.</td>\n",
       "      <td>0.3877</td>\n",
       "    </tr>\n",
       "    <tr>\n",
       "      <th>9</th>\n",
       "      <td>You see, he does not believe I am sick!</td>\n",
       "      <td>-0.5562</td>\n",
       "    </tr>\n",
       "    <tr>\n",
       "      <th>10</th>\n",
       "      <td>And what can one do?</td>\n",
       "      <td>0.0000</td>\n",
       "    </tr>\n",
       "    <tr>\n",
       "      <th>11</th>\n",
       "      <td>If a physician of high standing, and one’s own husband, assures friends\\nand relatives that there is really nothing the matter with one but\\ntemporary nervous depression—a slight hysterical tendency—what\\nis one to do?</td>\n",
       "      <td>0.0440</td>\n",
       "    </tr>\n",
       "    <tr>\n",
       "      <th>12</th>\n",
       "      <td>My brother is also a physician, and also of high standing, and he says the\\nsame thing.</td>\n",
       "      <td>0.0000</td>\n",
       "    </tr>\n",
       "    <tr>\n",
       "      <th>13</th>\n",
       "      <td>So I take phosphates or phosphites—whichever it is, and tonics, and\\njourneys, and air, and exercise, and am absolutely forbidden to “work”\\nuntil I am well again.</td>\n",
       "      <td>-0.2484</td>\n",
       "    </tr>\n",
       "    <tr>\n",
       "      <th>14</th>\n",
       "      <td>Personally, I disagree with their ideas.</td>\n",
       "      <td>-0.3818</td>\n",
       "    </tr>\n",
       "    <tr>\n",
       "      <th>15</th>\n",
       "      <td>Personally, I believe that congenial work, with excitement and change,\\nwould do me good.</td>\n",
       "      <td>0.7269</td>\n",
       "    </tr>\n",
       "    <tr>\n",
       "      <th>16</th>\n",
       "      <td>But what is one to do?</td>\n",
       "      <td>0.0000</td>\n",
       "    </tr>\n",
       "    <tr>\n",
       "      <th>17</th>\n",
       "      <td>I did write for a while in spite of them; but it does exhaust me a good\\ndeal—having to be so sly about it, or else meet with heavy\\nopposition.</td>\n",
       "      <td>0.2617</td>\n",
       "    </tr>\n",
       "    <tr>\n",
       "      <th>18</th>\n",
       "      <td>I sometimes fancy that in my condition if I had less opposition and more\\nsociety and stimulus—but John says the very worst thing I can do is\\nto think about my condition, and I confess it always makes me feel bad.</td>\n",
       "      <td>-0.8357</td>\n",
       "    </tr>\n",
       "    <tr>\n",
       "      <th>19</th>\n",
       "      <td>So I will let it alone and talk about the house.</td>\n",
       "      <td>-0.2500</td>\n",
       "    </tr>\n",
       "    <tr>\n",
       "      <th>20</th>\n",
       "      <td>The most beautiful place!</td>\n",
       "      <td>0.6689</td>\n",
       "    </tr>\n",
       "    <tr>\n",
       "      <th>21</th>\n",
       "      <td>It is quite alone, standing well back from the\\nroad, quite three miles from the village.</td>\n",
       "      <td>0.0183</td>\n",
       "    </tr>\n",
       "    <tr>\n",
       "      <th>22</th>\n",
       "      <td>It makes me think of English\\nplaces that you read about, for there are hedges and walls and gates that\\nlock, and lots of separate little houses for the gardeners and people.</td>\n",
       "      <td>0.0000</td>\n",
       "    </tr>\n",
       "    <tr>\n",
       "      <th>23</th>\n",
       "      <td>There is a delicious garden!</td>\n",
       "      <td>0.6114</td>\n",
       "    </tr>\n",
       "    <tr>\n",
       "      <th>24</th>\n",
       "      <td>I never saw such a garden—large and\\nshady, full of box-bordered paths, and lined with long grape-covered\\narbors with seats under them.</td>\n",
       "      <td>0.0000</td>\n",
       "    </tr>\n",
       "    <tr>\n",
       "      <th>25</th>\n",
       "      <td>There were greenhouses, too, but they are all broken now.</td>\n",
       "      <td>-0.6310</td>\n",
       "    </tr>\n",
       "    <tr>\n",
       "      <th>26</th>\n",
       "      <td>There was some legal trouble, I believe, something about the heirs and\\nco-heirs; anyhow, the place has be</td>\n",
       "      <td>-0.2960</td>\n",
       "    </tr>\n",
       "  </tbody>\n",
       "</table>\n",
       "</div>"
      ],
      "text/plain": [
       "                                                                                                                                                                                                                      sentence  \\\n",
       "0                                                          THE YELLOW WALLPAPER\\n\\nBy Charlotte Perkins Gilman\\n\\n\\n\\nIt is very seldom that mere ordinary people like John and myself secure\\nancestral halls for the summer.   \n",
       "1                                                                 A colonial mansion, a hereditary estate, I would say a haunted house, and\\nreach the height of romantic felicity—but that would be asking too\\nmuch of fate!   \n",
       "2                                                                                                                                                         Still I will proudly declare that there is something queer about it.   \n",
       "3                                                                                                                                                                                       Else, why should it be let so cheaply?   \n",
       "4                                                                                                                                                                                      And why have stood so long\\nuntenanted?   \n",
       "5                                                                                                                                                              John laughs at me, of course, but one expects that in marriage.   \n",
       "6                                                                                                                                                                                            John is practical in the extreme.   \n",
       "7                                                              He has no patience with faith, an\\nintense horror of superstition, and he scoffs openly at any talk of things\\nnot to be felt and seen and put down in figures.   \n",
       "8                               John is a physician, and perhaps—(I would not say it to a living\\nsoul, of course, but this is dead paper and a great relief to my\\nmind)—perhaps that is one reason I do not get well faster.   \n",
       "9                                                                                                                                                                                      You see, he does not believe I am sick!   \n",
       "10                                                                                                                                                                                                        And what can one do?   \n",
       "11  If a physician of high standing, and one’s own husband, assures friends\\nand relatives that there is really nothing the matter with one but\\ntemporary nervous depression—a slight hysterical tendency—what\\nis one to do?   \n",
       "12                                                                                                                                     My brother is also a physician, and also of high standing, and he says the\\nsame thing.   \n",
       "13                                                         So I take phosphates or phosphites—whichever it is, and tonics, and\\njourneys, and air, and exercise, and am absolutely forbidden to “work”\\nuntil I am well again.   \n",
       "14                                                                                                                                                                                    Personally, I disagree with their ideas.   \n",
       "15                                                                                                                                   Personally, I believe that congenial work, with excitement and change,\\nwould do me good.   \n",
       "16                                                                                                                                                                                                      But what is one to do?   \n",
       "17                                                                            I did write for a while in spite of them; but it does exhaust me a good\\ndeal—having to be so sly about it, or else meet with heavy\\nopposition.   \n",
       "18      I sometimes fancy that in my condition if I had less opposition and more\\nsociety and stimulus—but John says the very worst thing I can do is\\nto think about my condition, and I confess it always makes me feel bad.   \n",
       "19                                                                                                                                                                            So I will let it alone and talk about the house.   \n",
       "20                                                                                                                                                                                                   The most beautiful place!   \n",
       "21                                                                                                                                   It is quite alone, standing well back from the\\nroad, quite three miles from the village.   \n",
       "22                                             It makes me think of English\\nplaces that you read about, for there are hedges and walls and gates that\\nlock, and lots of separate little houses for the gardeners and people.   \n",
       "23                                                                                                                                                                                                There is a delicious garden!   \n",
       "24                                                                                    I never saw such a garden—large and\\nshady, full of box-bordered paths, and lined with long grape-covered\\narbors with seats under them.   \n",
       "25                                                                                                                                                                   There were greenhouses, too, but they are all broken now.   \n",
       "26                                                                                                                  There was some legal trouble, I believe, something about the heirs and\\nco-heirs; anyhow, the place has be   \n",
       "\n",
       "     score  \n",
       "0   0.5994  \n",
       "1  -0.1511  \n",
       "2   0.5574  \n",
       "3   0.0000  \n",
       "4   0.0000  \n",
       "5   0.2732  \n",
       "6   0.0000  \n",
       "7  -0.4215  \n",
       "8   0.3877  \n",
       "9  -0.5562  \n",
       "10  0.0000  \n",
       "11  0.0440  \n",
       "12  0.0000  \n",
       "13 -0.2484  \n",
       "14 -0.3818  \n",
       "15  0.7269  \n",
       "16  0.0000  \n",
       "17  0.2617  \n",
       "18 -0.8357  \n",
       "19 -0.2500  \n",
       "20  0.6689  \n",
       "21  0.0183  \n",
       "22  0.0000  \n",
       "23  0.6114  \n",
       "24  0.0000  \n",
       "25 -0.6310  \n",
       "26 -0.2960  "
      ]
     },
     "execution_count": 31,
     "metadata": {},
     "output_type": "execute_result"
    }
   ],
   "source": [
    "pd.DataFrame(sentence_scores)"
   ]
  },
  {
   "cell_type": "markdown",
   "metadata": {},
   "source": [
    "Let's examine the sentences from negative to positive sentiment scores."
   ]
  },
  {
   "cell_type": "code",
   "execution_count": 32,
   "metadata": {},
   "outputs": [
    {
     "data": {
      "text/html": [
       "<div>\n",
       "<style scoped>\n",
       "    .dataframe tbody tr th:only-of-type {\n",
       "        vertical-align: middle;\n",
       "    }\n",
       "\n",
       "    .dataframe tbody tr th {\n",
       "        vertical-align: top;\n",
       "    }\n",
       "\n",
       "    .dataframe thead th {\n",
       "        text-align: right;\n",
       "    }\n",
       "</style>\n",
       "<table border=\"1\" class=\"dataframe\">\n",
       "  <thead>\n",
       "    <tr style=\"text-align: right;\">\n",
       "      <th></th>\n",
       "      <th>sentence</th>\n",
       "      <th>score</th>\n",
       "    </tr>\n",
       "  </thead>\n",
       "  <tbody>\n",
       "    <tr>\n",
       "      <th>18</th>\n",
       "      <td>I sometimes fancy that in my condition if I had less opposition and more\\nsociety and stimulus—but John says the very worst thing I can do is\\nto think about my condition, and I confess it always makes me feel bad.</td>\n",
       "      <td>-0.8357</td>\n",
       "    </tr>\n",
       "    <tr>\n",
       "      <th>25</th>\n",
       "      <td>There were greenhouses, too, but they are all broken now.</td>\n",
       "      <td>-0.6310</td>\n",
       "    </tr>\n",
       "    <tr>\n",
       "      <th>9</th>\n",
       "      <td>You see, he does not believe I am sick!</td>\n",
       "      <td>-0.5562</td>\n",
       "    </tr>\n",
       "    <tr>\n",
       "      <th>7</th>\n",
       "      <td>He has no patience with faith, an\\nintense horror of superstition, and he scoffs openly at any talk of things\\nnot to be felt and seen and put down in figures.</td>\n",
       "      <td>-0.4215</td>\n",
       "    </tr>\n",
       "    <tr>\n",
       "      <th>14</th>\n",
       "      <td>Personally, I disagree with their ideas.</td>\n",
       "      <td>-0.3818</td>\n",
       "    </tr>\n",
       "    <tr>\n",
       "      <th>26</th>\n",
       "      <td>There was some legal trouble, I believe, something about the heirs and\\nco-heirs; anyhow, the place has be</td>\n",
       "      <td>-0.2960</td>\n",
       "    </tr>\n",
       "    <tr>\n",
       "      <th>19</th>\n",
       "      <td>So I will let it alone and talk about the house.</td>\n",
       "      <td>-0.2500</td>\n",
       "    </tr>\n",
       "    <tr>\n",
       "      <th>13</th>\n",
       "      <td>So I take phosphates or phosphites—whichever it is, and tonics, and\\njourneys, and air, and exercise, and am absolutely forbidden to “work”\\nuntil I am well again.</td>\n",
       "      <td>-0.2484</td>\n",
       "    </tr>\n",
       "    <tr>\n",
       "      <th>1</th>\n",
       "      <td>A colonial mansion, a hereditary estate, I would say a haunted house, and\\nreach the height of romantic felicity—but that would be asking too\\nmuch of fate!</td>\n",
       "      <td>-0.1511</td>\n",
       "    </tr>\n",
       "    <tr>\n",
       "      <th>10</th>\n",
       "      <td>And what can one do?</td>\n",
       "      <td>0.0000</td>\n",
       "    </tr>\n",
       "    <tr>\n",
       "      <th>12</th>\n",
       "      <td>My brother is also a physician, and also of high standing, and he says the\\nsame thing.</td>\n",
       "      <td>0.0000</td>\n",
       "    </tr>\n",
       "    <tr>\n",
       "      <th>4</th>\n",
       "      <td>And why have stood so long\\nuntenanted?</td>\n",
       "      <td>0.0000</td>\n",
       "    </tr>\n",
       "    <tr>\n",
       "      <th>3</th>\n",
       "      <td>Else, why should it be let so cheaply?</td>\n",
       "      <td>0.0000</td>\n",
       "    </tr>\n",
       "    <tr>\n",
       "      <th>24</th>\n",
       "      <td>I never saw such a garden—large and\\nshady, full of box-bordered paths, and lined with long grape-covered\\narbors with seats under them.</td>\n",
       "      <td>0.0000</td>\n",
       "    </tr>\n",
       "    <tr>\n",
       "      <th>16</th>\n",
       "      <td>But what is one to do?</td>\n",
       "      <td>0.0000</td>\n",
       "    </tr>\n",
       "    <tr>\n",
       "      <th>6</th>\n",
       "      <td>John is practical in the extreme.</td>\n",
       "      <td>0.0000</td>\n",
       "    </tr>\n",
       "    <tr>\n",
       "      <th>22</th>\n",
       "      <td>It makes me think of English\\nplaces that you read about, for there are hedges and walls and gates that\\nlock, and lots of separate little houses for the gardeners and people.</td>\n",
       "      <td>0.0000</td>\n",
       "    </tr>\n",
       "    <tr>\n",
       "      <th>21</th>\n",
       "      <td>It is quite alone, standing well back from the\\nroad, quite three miles from the village.</td>\n",
       "      <td>0.0183</td>\n",
       "    </tr>\n",
       "    <tr>\n",
       "      <th>11</th>\n",
       "      <td>If a physician of high standing, and one’s own husband, assures friends\\nand relatives that there is really nothing the matter with one but\\ntemporary nervous depression—a slight hysterical tendency—what\\nis one to do?</td>\n",
       "      <td>0.0440</td>\n",
       "    </tr>\n",
       "    <tr>\n",
       "      <th>17</th>\n",
       "      <td>I did write for a while in spite of them; but it does exhaust me a good\\ndeal—having to be so sly about it, or else meet with heavy\\nopposition.</td>\n",
       "      <td>0.2617</td>\n",
       "    </tr>\n",
       "    <tr>\n",
       "      <th>5</th>\n",
       "      <td>John laughs at me, of course, but one expects that in marriage.</td>\n",
       "      <td>0.2732</td>\n",
       "    </tr>\n",
       "    <tr>\n",
       "      <th>8</th>\n",
       "      <td>John is a physician, and perhaps—(I would not say it to a living\\nsoul, of course, but this is dead paper and a great relief to my\\nmind)—perhaps that is one reason I do not get well faster.</td>\n",
       "      <td>0.3877</td>\n",
       "    </tr>\n",
       "    <tr>\n",
       "      <th>2</th>\n",
       "      <td>Still I will proudly declare that there is something queer about it.</td>\n",
       "      <td>0.5574</td>\n",
       "    </tr>\n",
       "    <tr>\n",
       "      <th>0</th>\n",
       "      <td>THE YELLOW WALLPAPER\\n\\nBy Charlotte Perkins Gilman\\n\\n\\n\\nIt is very seldom that mere ordinary people like John and myself secure\\nancestral halls for the summer.</td>\n",
       "      <td>0.5994</td>\n",
       "    </tr>\n",
       "    <tr>\n",
       "      <th>23</th>\n",
       "      <td>There is a delicious garden!</td>\n",
       "      <td>0.6114</td>\n",
       "    </tr>\n",
       "    <tr>\n",
       "      <th>20</th>\n",
       "      <td>The most beautiful place!</td>\n",
       "      <td>0.6689</td>\n",
       "    </tr>\n",
       "    <tr>\n",
       "      <th>15</th>\n",
       "      <td>Personally, I believe that congenial work, with excitement and change,\\nwould do me good.</td>\n",
       "      <td>0.7269</td>\n",
       "    </tr>\n",
       "  </tbody>\n",
       "</table>\n",
       "</div>"
      ],
      "text/plain": [
       "                                                                                                                                                                                                                      sentence  \\\n",
       "18      I sometimes fancy that in my condition if I had less opposition and more\\nsociety and stimulus—but John says the very worst thing I can do is\\nto think about my condition, and I confess it always makes me feel bad.   \n",
       "25                                                                                                                                                                   There were greenhouses, too, but they are all broken now.   \n",
       "9                                                                                                                                                                                      You see, he does not believe I am sick!   \n",
       "7                                                              He has no patience with faith, an\\nintense horror of superstition, and he scoffs openly at any talk of things\\nnot to be felt and seen and put down in figures.   \n",
       "14                                                                                                                                                                                    Personally, I disagree with their ideas.   \n",
       "26                                                                                                                  There was some legal trouble, I believe, something about the heirs and\\nco-heirs; anyhow, the place has be   \n",
       "19                                                                                                                                                                            So I will let it alone and talk about the house.   \n",
       "13                                                         So I take phosphates or phosphites—whichever it is, and tonics, and\\njourneys, and air, and exercise, and am absolutely forbidden to “work”\\nuntil I am well again.   \n",
       "1                                                                 A colonial mansion, a hereditary estate, I would say a haunted house, and\\nreach the height of romantic felicity—but that would be asking too\\nmuch of fate!   \n",
       "10                                                                                                                                                                                                        And what can one do?   \n",
       "12                                                                                                                                     My brother is also a physician, and also of high standing, and he says the\\nsame thing.   \n",
       "4                                                                                                                                                                                      And why have stood so long\\nuntenanted?   \n",
       "3                                                                                                                                                                                       Else, why should it be let so cheaply?   \n",
       "24                                                                                    I never saw such a garden—large and\\nshady, full of box-bordered paths, and lined with long grape-covered\\narbors with seats under them.   \n",
       "16                                                                                                                                                                                                      But what is one to do?   \n",
       "6                                                                                                                                                                                            John is practical in the extreme.   \n",
       "22                                             It makes me think of English\\nplaces that you read about, for there are hedges and walls and gates that\\nlock, and lots of separate little houses for the gardeners and people.   \n",
       "21                                                                                                                                   It is quite alone, standing well back from the\\nroad, quite three miles from the village.   \n",
       "11  If a physician of high standing, and one’s own husband, assures friends\\nand relatives that there is really nothing the matter with one but\\ntemporary nervous depression—a slight hysterical tendency—what\\nis one to do?   \n",
       "17                                                                            I did write for a while in spite of them; but it does exhaust me a good\\ndeal—having to be so sly about it, or else meet with heavy\\nopposition.   \n",
       "5                                                                                                                                                              John laughs at me, of course, but one expects that in marriage.   \n",
       "8                               John is a physician, and perhaps—(I would not say it to a living\\nsoul, of course, but this is dead paper and a great relief to my\\nmind)—perhaps that is one reason I do not get well faster.   \n",
       "2                                                                                                                                                         Still I will proudly declare that there is something queer about it.   \n",
       "0                                                          THE YELLOW WALLPAPER\\n\\nBy Charlotte Perkins Gilman\\n\\n\\n\\nIt is very seldom that mere ordinary people like John and myself secure\\nancestral halls for the summer.   \n",
       "23                                                                                                                                                                                                There is a delicious garden!   \n",
       "20                                                                                                                                                                                                   The most beautiful place!   \n",
       "15                                                                                                                                   Personally, I believe that congenial work, with excitement and change,\\nwould do me good.   \n",
       "\n",
       "     score  \n",
       "18 -0.8357  \n",
       "25 -0.6310  \n",
       "9  -0.5562  \n",
       "7  -0.4215  \n",
       "14 -0.3818  \n",
       "26 -0.2960  \n",
       "19 -0.2500  \n",
       "13 -0.2484  \n",
       "1  -0.1511  \n",
       "10  0.0000  \n",
       "12  0.0000  \n",
       "4   0.0000  \n",
       "3   0.0000  \n",
       "24  0.0000  \n",
       "16  0.0000  \n",
       "6   0.0000  \n",
       "22  0.0000  \n",
       "21  0.0183  \n",
       "11  0.0440  \n",
       "17  0.2617  \n",
       "5   0.2732  \n",
       "8   0.3877  \n",
       "2   0.5574  \n",
       "0   0.5994  \n",
       "23  0.6114  \n",
       "20  0.6689  \n",
       "15  0.7269  "
      ]
     },
     "execution_count": 32,
     "metadata": {},
     "output_type": "execute_result"
    }
   ],
   "source": [
    "hairs_df = pd.DataFrame(sentence_scores)\n",
    "hairs_df.sort_values(by='score')"
   ]
  },
  {
   "cell_type": "markdown",
   "metadata": {},
   "source": [
    "### Calculate Sentiment Scores By Chapter"
   ]
  },
  {
   "cell_type": "markdown",
   "metadata": {},
   "source": [
    "To calculate sentiment scores for the sentences in each chapter of *The House on Mango Street*, we need to read in each file indviidually.\n",
    "\n",
    "Below we will import `glob` and `Path`, which will allow us to get all the filenames for the chapters and extract the titles."
   ]
  },
  {
   "cell_type": "code",
   "execution_count": null,
   "metadata": {},
   "outputs": [],
   "source": [
    "import glob\n",
    "from pathlib import Path"
   ]
  },
  {
   "cell_type": "markdown",
   "metadata": {},
   "source": [
    "Create a list of filenames for every `.txt` file in the directory"
   ]
  },
  {
   "cell_type": "code",
   "execution_count": null,
   "metadata": {},
   "outputs": [],
   "source": [
    "directory_path = \"../texts/literature/House-on-Mango-Street/\"\n",
    "text_files = glob.glob(f\"{directory_path}/*.txt\")"
   ]
  },
  {
   "cell_type": "markdown",
   "metadata": {},
   "source": [
    "Loop through each file in the \"House on Mango Street\" directory, calculate sentiment scores, and make a list of dictionaries"
   ]
  },
  {
   "cell_type": "code",
   "execution_count": 34,
   "metadata": {},
   "outputs": [],
   "source": [
    "sentence_scores = []\n",
    "\n",
    "# Loop through all the filenames\n",
    "for section_number, text_chunk in enumerate(text_chunks):\n",
    "    \n",
    "    #Read in the file\n",
    "    #chapter = open(text_file, encoding=\"utf-8\").read()\n",
    "    #Extract the end of the filename\n",
    "   # title = Path(text_file).stem\n",
    "    \n",
    "    #Loop through each sentence in the \n",
    "    for sentence in nltk.sent_tokenize(text_chunk):\n",
    "        #Calculate sentiment scores for sentence\n",
    "        scores = sentimentAnalyser.polarity_scores(sentence)\n",
    "        \n",
    "        #Make mini-dictionary with chapter name, sentence, and sentiment score\n",
    "        sentence_scores.append({'section': section_number,\n",
    "                                'sentence': sentence,\n",
    "                                'score': scores['compound']})"
   ]
  },
  {
   "cell_type": "code",
   "execution_count": null,
   "metadata": {},
   "outputs": [],
   "source": [
    "sentence_scores = []\n",
    "\n",
    "# Loop through all the filenames\n",
    "for text_file in text_files:\n",
    "    \n",
    "    #Read in the file\n",
    "    chapter = open(text_file, encoding=\"utf-8\").read()\n",
    "    #Extract the end of the filename\n",
    "    title = Path(text_file).stem\n",
    "    \n",
    "    #Loop through each sentence in the \n",
    "    for sentence in nltk.sent_tokenize(chapter):\n",
    "        #Calculate sentiment scores for sentence\n",
    "        scores = sentimentAnalyser.polarity_scores(sentence)\n",
    "        \n",
    "        #Make mini-dictionary with chapter name, sentence, and sentiment score\n",
    "        sentence_scores.append({'chapter': title,\n",
    "                                'sentence': sentence,\n",
    "                                'score': scores['compound']})"
   ]
  },
  {
   "cell_type": "markdown",
   "metadata": {},
   "source": [
    "Let's create a DataFrame from our list of dictionaries"
   ]
  },
  {
   "cell_type": "code",
   "execution_count": 37,
   "metadata": {},
   "outputs": [],
   "source": [
    "chapter_df = pd.DataFrame(sentence_scores)\n",
    "# Make the DataFrame alphabetical by chapter\n",
    "chapter_df = chapter_df.sort_values(by='section')"
   ]
  },
  {
   "cell_type": "markdown",
   "metadata": {},
   "source": [
    "How would we examine the most negative 15 sentences?"
   ]
  },
  {
   "cell_type": "code",
   "execution_count": 40,
   "metadata": {},
   "outputs": [
    {
     "data": {
      "text/html": [
       "<div>\n",
       "<style scoped>\n",
       "    .dataframe tbody tr th:only-of-type {\n",
       "        vertical-align: middle;\n",
       "    }\n",
       "\n",
       "    .dataframe tbody tr th {\n",
       "        vertical-align: top;\n",
       "    }\n",
       "\n",
       "    .dataframe thead th {\n",
       "        text-align: right;\n",
       "    }\n",
       "</style>\n",
       "<table border=\"1\" class=\"dataframe\">\n",
       "  <thead>\n",
       "    <tr style=\"text-align: right;\">\n",
       "      <th></th>\n",
       "      <th>section</th>\n",
       "      <th>sentence</th>\n",
       "      <th>score</th>\n",
       "    </tr>\n",
       "  </thead>\n",
       "  <tbody>\n",
       "    <tr>\n",
       "      <th>48</th>\n",
       "      <td>1</td>\n",
       "      <td>It is dull enough to confuse the eye in following, pronounced enough to\\nconstantly irritate, and provoke study, and when you follow the lame,\\nuncertain curves for a little distance they suddenly commit suicide—plunge\\noff at outrageous angles, destroy themselves in unheard-of contradictions.</td>\n",
       "      <td>-0.9623</td>\n",
       "    </tr>\n",
       "    <tr>\n",
       "      <th>58</th>\n",
       "      <td>2</td>\n",
       "      <td>But these nervous troubles are dreadfully depressing.</td>\n",
       "      <td>-0.9442</td>\n",
       "    </tr>\n",
       "    <tr>\n",
       "      <th>33</th>\n",
       "      <td>1</td>\n",
       "      <td>But John says if I feel so I shall neglect proper self-control; so I take\\npains to control myself,—before him, at least,—and that makes\\nme very tired.</td>\n",
       "      <td>-0.9298</td>\n",
       "    </tr>\n",
       "    <tr>\n",
       "      <th>354</th>\n",
       "      <td>11</td>\n",
       "      <td>I tried to lift and push it until I was lame, and then I got so angry I\\nbit off a little piece at one corner—but it hurt my teeth.</td>\n",
       "      <td>-0.8870</td>\n",
       "    </tr>\n",
       "    <tr>\n",
       "      <th>18</th>\n",
       "      <td>0</td>\n",
       "      <td>I sometimes fancy that in my condition if I had less opposition and more\\nsociety and stimulus—but John says the very worst thing I can do is\\nto think about my condition, and I confess it always makes me feel bad.</td>\n",
       "      <td>-0.8357</td>\n",
       "    </tr>\n",
       "    <tr>\n",
       "      <th>206</th>\n",
       "      <td>7</td>\n",
       "      <td>The color is hideous enough, and unreliable enough, and infuriating\\nenough, but the pattern is torturing.</td>\n",
       "      <td>-0.8271</td>\n",
       "    </tr>\n",
       "    <tr>\n",
       "      <th>51</th>\n",
       "      <td>1</td>\n",
       "      <td>No wonder the children hated it!</td>\n",
       "      <td>-0.7712</td>\n",
       "    </tr>\n",
       "    <tr>\n",
       "      <th>236</th>\n",
       "      <td>8</td>\n",
       "      <td>She didn’t know I was in the room, and when I asked her in a quiet, a very\\nquiet voice, with the most restrained manner possible, what she was doing\\nwith the paper she turned around as if she had been caught stealing,\\nand looked quite angry—asked me why I should frighten her so!</td>\n",
       "      <td>-0.7500</td>\n",
       "    </tr>\n",
       "    <tr>\n",
       "      <th>357</th>\n",
       "      <td>11</td>\n",
       "      <td>All those strangled heads\\nand bulbous eyes and waddling fungus growths just shriek with derision!</td>\n",
       "      <td>-0.7177</td>\n",
       "    </tr>\n",
       "    <tr>\n",
       "      <th>261</th>\n",
       "      <td>8</td>\n",
       "      <td>I find it hovering in the dining-room, skulking in the parlor, hiding in\\nthe hall, lying in wait for me on the stairs.</td>\n",
       "      <td>-0.6808</td>\n",
       "    </tr>\n",
       "    <tr>\n",
       "      <th>358</th>\n",
       "      <td>11</td>\n",
       "      <td>I am getting angry enough to do something desperate.</td>\n",
       "      <td>-0.6808</td>\n",
       "    </tr>\n",
       "    <tr>\n",
       "      <th>289</th>\n",
       "      <td>9</td>\n",
       "      <td>If those heads were covered or taken off it would not be half so bad.</td>\n",
       "      <td>-0.6696</td>\n",
       "    </tr>\n",
       "    <tr>\n",
       "      <th>217</th>\n",
       "      <td>7</td>\n",
       "      <td>At night in any kind of light, in twilight, candlelight, lamplight, and\\nworst of all by moonlight, it becomes bars!</td>\n",
       "      <td>-0.6588</td>\n",
       "    </tr>\n",
       "    <tr>\n",
       "      <th>336</th>\n",
       "      <td>10</td>\n",
       "      <td>How she betrayed herself that time!</td>\n",
       "      <td>-0.6476</td>\n",
       "    </tr>\n",
       "    <tr>\n",
       "      <th>184</th>\n",
       "      <td>6</td>\n",
       "      <td>John was asleep and I hated to waken him, so I kept still and watched the\\nmoonlight on that undulating wallpaper till I felt creepy.</td>\n",
       "      <td>-0.6369</td>\n",
       "    </tr>\n",
       "  </tbody>\n",
       "</table>\n",
       "</div>"
      ],
      "text/plain": [
       "     section  \\\n",
       "48         1   \n",
       "58         2   \n",
       "33         1   \n",
       "354       11   \n",
       "18         0   \n",
       "206        7   \n",
       "51         1   \n",
       "236        8   \n",
       "357       11   \n",
       "261        8   \n",
       "358       11   \n",
       "289        9   \n",
       "217        7   \n",
       "336       10   \n",
       "184        6   \n",
       "\n",
       "                                                                                                                                                                                                                                                                                                   sentence  \\\n",
       "48   It is dull enough to confuse the eye in following, pronounced enough to\\nconstantly irritate, and provoke study, and when you follow the lame,\\nuncertain curves for a little distance they suddenly commit suicide—plunge\\noff at outrageous angles, destroy themselves in unheard-of contradictions.   \n",
       "58                                                                                                                                                                                                                                                    But these nervous troubles are dreadfully depressing.   \n",
       "33                                                                                                                                                 But John says if I feel so I shall neglect proper self-control; so I take\\npains to control myself,—before him, at least,—and that makes\\nme very tired.   \n",
       "354                                                                                                                                                                     I tried to lift and push it until I was lame, and then I got so angry I\\nbit off a little piece at one corner—but it hurt my teeth.   \n",
       "18                                                                                   I sometimes fancy that in my condition if I had less opposition and more\\nsociety and stimulus—but John says the very worst thing I can do is\\nto think about my condition, and I confess it always makes me feel bad.   \n",
       "206                                                                                                                                                                                              The color is hideous enough, and unreliable enough, and infuriating\\nenough, but the pattern is torturing.   \n",
       "51                                                                                                                                                                                                                                                                         No wonder the children hated it!   \n",
       "236              She didn’t know I was in the room, and when I asked her in a quiet, a very\\nquiet voice, with the most restrained manner possible, what she was doing\\nwith the paper she turned around as if she had been caught stealing,\\nand looked quite angry—asked me why I should frighten her so!   \n",
       "357                                                                                                                                                                                                      All those strangled heads\\nand bulbous eyes and waddling fungus growths just shriek with derision!   \n",
       "261                                                                                                                                                                                 I find it hovering in the dining-room, skulking in the parlor, hiding in\\nthe hall, lying in wait for me on the stairs.   \n",
       "358                                                                                                                                                                                                                                                    I am getting angry enough to do something desperate.   \n",
       "289                                                                                                                                                                                                                                   If those heads were covered or taken off it would not be half so bad.   \n",
       "217                                                                                                                                                                                    At night in any kind of light, in twilight, candlelight, lamplight, and\\nworst of all by moonlight, it becomes bars!   \n",
       "336                                                                                                                                                                                                                                                                     How she betrayed herself that time!   \n",
       "184                                                                                                                                                                   John was asleep and I hated to waken him, so I kept still and watched the\\nmoonlight on that undulating wallpaper till I felt creepy.   \n",
       "\n",
       "      score  \n",
       "48  -0.9623  \n",
       "58  -0.9442  \n",
       "33  -0.9298  \n",
       "354 -0.8870  \n",
       "18  -0.8357  \n",
       "206 -0.8271  \n",
       "51  -0.7712  \n",
       "236 -0.7500  \n",
       "357 -0.7177  \n",
       "261 -0.6808  \n",
       "358 -0.6808  \n",
       "289 -0.6696  \n",
       "217 -0.6588  \n",
       "336 -0.6476  \n",
       "184 -0.6369  "
      ]
     },
     "execution_count": 40,
     "metadata": {},
     "output_type": "execute_result"
    }
   ],
   "source": [
    "chapter_df.sort_values(by='score', ascending=True)[:15]"
   ]
  },
  {
   "cell_type": "markdown",
   "metadata": {},
   "source": [
    "How would we examine the most positive 15 sentences?"
   ]
  },
  {
   "cell_type": "code",
   "execution_count": 41,
   "metadata": {},
   "outputs": [
    {
     "data": {
      "text/html": [
       "<div>\n",
       "<style scoped>\n",
       "    .dataframe tbody tr th:only-of-type {\n",
       "        vertical-align: middle;\n",
       "    }\n",
       "\n",
       "    .dataframe tbody tr th {\n",
       "        vertical-align: top;\n",
       "    }\n",
       "\n",
       "    .dataframe thead th {\n",
       "        text-align: right;\n",
       "    }\n",
       "</style>\n",
       "<table border=\"1\" class=\"dataframe\">\n",
       "  <thead>\n",
       "    <tr style=\"text-align: right;\">\n",
       "      <th></th>\n",
       "      <th>section</th>\n",
       "      <th>sentence</th>\n",
       "      <th>score</th>\n",
       "    </tr>\n",
       "  </thead>\n",
       "  <tbody>\n",
       "    <tr>\n",
       "      <th>72</th>\n",
       "      <td>2</td>\n",
       "      <td>“You know the place is doing you good,” he said, “and really, dear, I\\ndon’t care to renovate the house just for a three months’ rental.”\\n\\n“Then do let us go downstairs,” I said, “there are such pretty rooms\\nthere.”\\n\\nThen he took me in his arms and called me a blessed little goose, and said\\nhe would go down cellar if I wished, and have it whitewashed into\\nthe bargain.</td>\n",
       "      <td>0.9324</td>\n",
       "    </tr>\n",
       "    <tr>\n",
       "      <th>367</th>\n",
       "      <td>11</td>\n",
       "      <td>It is so pleasant to be out in this great room and creep around as I\\nplease!</td>\n",
       "      <td>0.9137</td>\n",
       "    </tr>\n",
       "    <tr>\n",
       "      <th>96</th>\n",
       "      <td>3</td>\n",
       "      <td>I remember what a kindly wink the knobs of our big old bureau used to\\nhave, and there was one chair that always seemed like a strong friend.</td>\n",
       "      <td>0.9042</td>\n",
       "    </tr>\n",
       "    <tr>\n",
       "      <th>163</th>\n",
       "      <td>5</td>\n",
       "      <td>He said I was his darling and his comfort and all he had, and that I must\\ntake care of myself for his sake, and keep well.</td>\n",
       "      <td>0.8910</td>\n",
       "    </tr>\n",
       "    <tr>\n",
       "      <th>200</th>\n",
       "      <td>6</td>\n",
       "      <td>There is nothing so dangerous, so fascinating,\\nto a temperament like yours.</td>\n",
       "      <td>0.8894</td>\n",
       "    </tr>\n",
       "    <tr>\n",
       "      <th>112</th>\n",
       "      <td>4</td>\n",
       "      <td>A lovely country, too, full of great\\nelms and velvet meadows.</td>\n",
       "      <td>0.8360</td>\n",
       "    </tr>\n",
       "    <tr>\n",
       "      <th>319</th>\n",
       "      <td>10</td>\n",
       "      <td>He asked me all sorts of questions, too, and pretended to be very loving\\nand kind.</td>\n",
       "      <td>0.8341</td>\n",
       "    </tr>\n",
       "    <tr>\n",
       "      <th>153</th>\n",
       "      <td>5</td>\n",
       "      <td>But the effort is getting to be greater than the relief.</td>\n",
       "      <td>0.8126</td>\n",
       "    </tr>\n",
       "    <tr>\n",
       "      <th>107</th>\n",
       "      <td>3</td>\n",
       "      <td>She is a perfect, and enthusiastic housekeeper, and hopes for no better\\nprofession.</td>\n",
       "      <td>0.8071</td>\n",
       "    </tr>\n",
       "    <tr>\n",
       "      <th>45</th>\n",
       "      <td>1</td>\n",
       "      <td>It is stripped\\noff—the paper—in great patches all around the head of my bed,\\nabout as far as I can reach, and in a great place on the other side of the\\nroom low down.</td>\n",
       "      <td>0.8020</td>\n",
       "    </tr>\n",
       "    <tr>\n",
       "      <th>243</th>\n",
       "      <td>8</td>\n",
       "      <td>John is so pleased to see me improve!</td>\n",
       "      <td>0.7866</td>\n",
       "    </tr>\n",
       "    <tr>\n",
       "      <th>191</th>\n",
       "      <td>6</td>\n",
       "      <td>Of course if you were in any danger I could and would, but you\\nreally are better, dear, whether you can see it or not.</td>\n",
       "      <td>0.7822</td>\n",
       "    </tr>\n",
       "    <tr>\n",
       "      <th>179</th>\n",
       "      <td>6</td>\n",
       "      <td>It is so hard to talk with John about my case, because he is so wise, and\\nbecause he loves me so.</td>\n",
       "      <td>0.7798</td>\n",
       "    </tr>\n",
       "    <tr>\n",
       "      <th>359</th>\n",
       "      <td>11</td>\n",
       "      <td>To jump out of the\\nwindow would be admirable exercise, but the bars are too strong even to\\ntry.</td>\n",
       "      <td>0.7750</td>\n",
       "    </tr>\n",
       "    <tr>\n",
       "      <th>131</th>\n",
       "      <td>4</td>\n",
       "      <td>So I walk a little in the garden or down that lovely lane, sit on the\\nporch under the roses, and lie down up here a good deal.</td>\n",
       "      <td>0.7717</td>\n",
       "    </tr>\n",
       "  </tbody>\n",
       "</table>\n",
       "</div>"
      ],
      "text/plain": [
       "     section  \\\n",
       "72         2   \n",
       "367       11   \n",
       "96         3   \n",
       "163        5   \n",
       "200        6   \n",
       "112        4   \n",
       "319       10   \n",
       "153        5   \n",
       "107        3   \n",
       "45         1   \n",
       "243        8   \n",
       "191        6   \n",
       "179        6   \n",
       "359       11   \n",
       "131        4   \n",
       "\n",
       "                                                                                                                                                                                                                                                                                                                                                                                      sentence  \\\n",
       "72   “You know the place is doing you good,” he said, “and really, dear, I\\ndon’t care to renovate the house just for a three months’ rental.”\\n\\n“Then do let us go downstairs,” I said, “there are such pretty rooms\\nthere.”\\n\\nThen he took me in his arms and called me a blessed little goose, and said\\nhe would go down cellar if I wished, and have it whitewashed into\\nthe bargain.   \n",
       "367                                                                                                                                                                                                                                                                                                              It is so pleasant to be out in this great room and creep around as I\\nplease!   \n",
       "96                                                                                                                                                                                                                                               I remember what a kindly wink the knobs of our big old bureau used to\\nhave, and there was one chair that always seemed like a strong friend.   \n",
       "163                                                                                                                                                                                                                                                                He said I was his darling and his comfort and all he had, and that I must\\ntake care of myself for his sake, and keep well.   \n",
       "200                                                                                                                                                                                                                                                                                                               There is nothing so dangerous, so fascinating,\\nto a temperament like yours.   \n",
       "112                                                                                                                                                                                                                                                                                                                             A lovely country, too, full of great\\nelms and velvet meadows.   \n",
       "319                                                                                                                                                                                                                                                                                                        He asked me all sorts of questions, too, and pretended to be very loving\\nand kind.   \n",
       "153                                                                                                                                                                                                                                                                                                                                   But the effort is getting to be greater than the relief.   \n",
       "107                                                                                                                                                                                                                                                                                                       She is a perfect, and enthusiastic housekeeper, and hopes for no better\\nprofession.   \n",
       "45                                                                                                                                                                                                                   It is stripped\\noff—the paper—in great patches all around the head of my bed,\\nabout as far as I can reach, and in a great place on the other side of the\\nroom low down.   \n",
       "243                                                                                                                                                                                                                                                                                                                                                      John is so pleased to see me improve!   \n",
       "191                                                                                                                                                                                                                                                                    Of course if you were in any danger I could and would, but you\\nreally are better, dear, whether you can see it or not.   \n",
       "179                                                                                                                                                                                                                                                                                         It is so hard to talk with John about my case, because he is so wise, and\\nbecause he loves me so.   \n",
       "359                                                                                                                                                                                                                                                                                          To jump out of the\\nwindow would be admirable exercise, but the bars are too strong even to\\ntry.   \n",
       "131                                                                                                                                                                                                                                                            So I walk a little in the garden or down that lovely lane, sit on the\\nporch under the roses, and lie down up here a good deal.   \n",
       "\n",
       "      score  \n",
       "72   0.9324  \n",
       "367  0.9137  \n",
       "96   0.9042  \n",
       "163  0.8910  \n",
       "200  0.8894  \n",
       "112  0.8360  \n",
       "319  0.8341  \n",
       "153  0.8126  \n",
       "107  0.8071  \n",
       "45   0.8020  \n",
       "243  0.7866  \n",
       "191  0.7822  \n",
       "179  0.7798  \n",
       "359  0.7750  \n",
       "131  0.7717  "
      ]
     },
     "execution_count": 41,
     "metadata": {},
     "output_type": "execute_result"
    }
   ],
   "source": [
    "chapter_df.sort_values(by='score', ascending=False)[:15]"
   ]
  },
  {
   "cell_type": "markdown",
   "metadata": {},
   "source": [
    "### Make a Plot Arc"
   ]
  },
  {
   "cell_type": "markdown",
   "metadata": {},
   "source": [
    "To create a data visualization of sentiment over the course of *The House on Mango Street*, we first need to calculate the average sentiment for each chapter."
   ]
  },
  {
   "cell_type": "code",
   "execution_count": 44,
   "metadata": {},
   "outputs": [
    {
     "data": {
      "text/plain": [
       "section\n",
       "0     0.013970\n",
       "1    -0.080652\n",
       "2     0.179933\n",
       "3     0.099080\n",
       "4     0.098877\n",
       "5     0.207465\n",
       "6     0.225455\n",
       "7    -0.044672\n",
       "8     0.106218\n",
       "9    -0.004787\n",
       "10    0.138856\n",
       "11    0.009667\n",
       "Name: score, dtype: float64"
      ]
     },
     "execution_count": 44,
     "metadata": {},
     "output_type": "execute_result"
    }
   ],
   "source": [
    "chapter_df.groupby('section')['score'].mean()"
   ]
  },
  {
   "cell_type": "code",
   "execution_count": 45,
   "metadata": {},
   "outputs": [],
   "source": [
    "chapter_means = chapter_df.groupby('section')['score'].mean().reset_index()"
   ]
  },
  {
   "cell_type": "markdown",
   "metadata": {},
   "source": [
    "#### Bar Chart"
   ]
  },
  {
   "cell_type": "code",
   "execution_count": 47,
   "metadata": {},
   "outputs": [],
   "source": [
    "import matplotlib.pyplot as plt"
   ]
  },
  {
   "cell_type": "code",
   "execution_count": 48,
   "metadata": {},
   "outputs": [
    {
     "data": {
      "text/plain": [
       "<matplotlib.lines.Line2D at 0x7fae0906ad60>"
      ]
     },
     "execution_count": 48,
     "metadata": {},
     "output_type": "execute_result"
    },
    {
     "data": {
      "image/png": "[encoded data removed]",
      "text/plain": [
       "<Figure size 936x720 with 1 Axes>"
      ]
     },
     "metadata": {
      "needs_background": "light"
     },
     "output_type": "display_data"
    }
   ],
   "source": [
    "ax = chapter_means.plot(x='section', y='score', kind='bar',\n",
    "                        figsize=(13,10), rot=90, title='Sentiment in Mango Street')\n",
    "\n",
    "# Plot a horizontal line at 0\n",
    "plt.axhline(y=0, color='orange', linestyle='-')"
   ]
  },
  {
   "cell_type": "markdown",
   "metadata": {},
   "source": [
    "#### Line Chart"
   ]
  },
  {
   "cell_type": "code",
   "execution_count": 51,
   "metadata": {},
   "outputs": [
    {
     "data": {
      "image/png": "[encoded data removed]",
      "text/plain": [
       "<Figure size 936x720 with 1 Axes>"
      ]
     },
     "metadata": {
      "needs_background": "light"
     },
     "output_type": "display_data"
    }
   ],
   "source": [
    "ax = chapter_means.plot(x='section', y='score', kind='line',\n",
    "                        figsize=(13,10), rot=90, title='Sentiment in Mango Street')\n",
    "\n",
    "#Not all xtick labels will show up in a line plot by default, so we have to make it explicit\n",
    "ax.set_xticks(range(0, 12))\n",
    "ax.set_xticklabels(chapter_means['section'].unique())\n",
    "\n",
    "# Plot a horizontal line at 0\n",
    "plt.axhline(y=0, color='orange', linestyle='-')\n",
    "plt.show()"
   ]
  },
  {
   "cell_type": "markdown",
   "metadata": {},
   "source": [
    "### Your Turn! "
   ]
  },
  {
   "cell_type": "markdown",
   "metadata": {},
   "source": [
    "How do these plot arcs align with your reading experience of *The House on Mango Street*? Examine some specific chapters and sentences below, and discuss how well VADER seems to be working or not working."
   ]
  },
  {
   "cell_type": "markdown",
   "metadata": {},
   "source": [
    "*Note: if you want to read the sentences in order, you can use the `.sort_index()` method*"
   ]
  },
  {
   "cell_type": "code",
   "execution_count": null,
   "metadata": {
    "scrolled": true
   },
   "outputs": [],
   "source": [
    "chapter_df[chapter_df['chapter'].str.contains('Papa-Who')]"
   ]
  },
  {
   "cell_type": "markdown",
   "metadata": {},
   "source": [
    "Examine another chapter or chapters"
   ]
  },
  {
   "cell_type": "code",
   "execution_count": null,
   "metadata": {
    "scrolled": true
   },
   "outputs": [],
   "source": [
    "chapter_df[chapter_df['chapter'].str.contains('INSERT-PART-OF-CHAPTER-NAME')]"
   ]
  },
  {
   "cell_type": "markdown",
   "metadata": {},
   "source": [
    "- How well do you think VADER sentiment analysis works with literary texts?\n",
    "- How do social media posts and literary texts different in the way they express sentiment? (What is \"sentiment\", anyway?)\n",
    "- Could you imagine using sentiment analysis in a project? If so, how?"
   ]
  }
 ],
 "metadata": {
  "kernelspec": {
   "display_name": "Python 3",
   "language": "python",
   "name": "python3"
  },
  "language_info": {
   "codemirror_mode": {
    "name": "ipython",
    "version": 3
   },
   "file_extension": ".py",
   "mimetype": "text/x-python",
   "name": "python",
   "nbconvert_exporter": "python",
   "pygments_lexer": "ipython3",
   "version": "3.8.8"
  }
 },
 "nbformat": 4,
 "nbformat_minor": 4
}
